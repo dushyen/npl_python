{
 "cells": [
  {
   "cell_type": "markdown",
   "metadata": {},
   "source": [
    "# Amazon Food Reviews - [Decision Trees]\n",
    "\n",
    "Data Source:https://www.kaggle.com/snap/amazon-fine-food-reviews\n",
    "\n",
    "This dataset consists of reviews of fine foods from Amazon. The data span a period of more than 10 years, including all ~500,000 reviews up to October 2012. Reviews include product and user information, ratings, and a plain text review. It also includes reviews from all other Amazon categories.\n",
    "\n",
    "![alt text](http://nycdatascience.com/blog/wp-content/uploads/2016/04/NewCover.png)"
   ]
  },
  {
   "cell_type": "markdown",
   "metadata": {},
   "source": [
    "## Excerpt \n",
    "1. Applied Decision Trees on Different Featurization of Data viz. BOW(uni-gram,bi-gram), tfidf, Avg-Word2Vec(using Word2Vec model pretrained on Google News) and tf-idf-Word2Vec <br>\n",
    "2. Used both Grid Search with random 30 points for getting the best max_depth <br>\n",
    "3. Evaluated the test data on various performance metrics like accuracy, f1-score, precision, recall,etc. also plotted Confusion matrix using seaborne<br>\n",
    "4. Plotted feature importance recieved from the decision tree classifier<br>"
   ]
  },
  {
   "cell_type": "markdown",
   "metadata": {},
   "source": [
    "#### Data includes:\n",
    "- Reviews from Oct 1999 - Oct 2012\n",
    "- 568,454 reviews\n",
    "- 256,059 users\n",
    "- 74,258 products\n",
    "- 260 users with > 50 reviews\n",
    "\n",
    "#### Attribute Information:\n",
    "\n",
    "1. Id\n",
    "2. ProductId - unique identifier for the product\n",
    "3. UserId - unqiue identifier for the user\n",
    "4. ProfileName\n",
    "5. HelpfulnessNumerator - number of users who found the review helpful\n",
    "6. HelpfulnessDenominator - number of users who indicated whether they found the review helpful or not\n",
    "7. Score - rating between 1 and 5\n",
    "8. Time - timestamp for the review\n",
    "9. Summary - brief summary of the review\n",
    "10. Text - text of the review"
   ]
  },
  {
   "cell_type": "markdown",
   "metadata": {},
   "source": [
    "![alt text](http://nycdatascience.com/blog/wp-content/uploads/2016/04/AmazonReview.png)"
   ]
  },
  {
   "cell_type": "markdown",
   "metadata": {},
   "source": [
    "\n",
    "### Objective:- Review Polarity\n",
    "Given a review, determine the review is positive or negative\n",
    "\n",
    "#### Using text review to decide the polarity\n",
    "Take the summary and text of review and analyze it using NLP whether the customer feedback/review is positive or negative\n"
   ]
  },
  {
   "cell_type": "code",
   "execution_count": 1,
   "metadata": {
    "collapsed": true
   },
   "outputs": [],
   "source": [
    "#Imports\n",
    "import numpy as np\n",
    "import pandas as pd\n",
    "import matplotlib.pyplot as plt\n",
    "import sqlite3 as sql\n",
    "import seaborn as sns\n",
    "from time import time\n",
    "import random\n",
    "import gensim\n",
    "import warnings\n",
    "\n",
    "#Metrics\n",
    "from sklearn.metrics import accuracy_score\n",
    "from sklearn.metrics import confusion_matrix\n",
    "from sklearn.metrics import precision_score\n",
    "from sklearn.metrics import f1_score\n",
    "from sklearn.metrics import recall_score\n",
    "\n",
    "warnings.filterwarnings(\"ignore\")\n",
    "\n",
    "%matplotlib inline \n",
    "# sets the backend of matplotlib to the 'inline' backend:\n",
    "#With this backend, the output of plotting commands is displayed inline within frontends like the Jupyter notebook,\n",
    "#directly below the code cell that produced it. The resulting plots will then also be stored in the notebook document.\n",
    "\n",
    "#Functions to save objects for later use and retireve it\n",
    "import pickle\n",
    "def savetofile(obj,filename):\n",
    "    pickle.dump(obj,open(filename+\".p\",\"wb\"))\n",
    "def openfromfile(filename):\n",
    "    temp = pickle.load(open(filename+\".p\",\"rb\"))\n",
    "    return temp"
   ]
  },
  {
   "cell_type": "markdown",
   "metadata": {},
   "source": [
    "### Loading the data"
   ]
  },
  {
   "cell_type": "code",
   "execution_count": 6,
   "metadata": {
    "scrolled": true
   },
   "outputs": [
    {
     "data": {
      "text/html": [
       "<div>\n",
       "<table border=\"1\" class=\"dataframe\">\n",
       "  <thead>\n",
       "    <tr style=\"text-align: right;\">\n",
       "      <th></th>\n",
       "      <th>index</th>\n",
       "      <th>Id</th>\n",
       "      <th>ProductId</th>\n",
       "      <th>UserId</th>\n",
       "      <th>ProfileName</th>\n",
       "      <th>HelpfulnessNumerator</th>\n",
       "      <th>HelpfulnessDenominator</th>\n",
       "      <th>Score</th>\n",
       "      <th>Time</th>\n",
       "      <th>Summary</th>\n",
       "      <th>Text</th>\n",
       "      <th>CleanedText</th>\n",
       "    </tr>\n",
       "  </thead>\n",
       "  <tbody>\n",
       "    <tr>\n",
       "      <th>0</th>\n",
       "      <td>10</td>\n",
       "      <td>11</td>\n",
       "      <td>B0001PB9FE</td>\n",
       "      <td>A3HDKO7OW0QNK4</td>\n",
       "      <td>Canadian Fan</td>\n",
       "      <td>1</td>\n",
       "      <td>1</td>\n",
       "      <td>0</td>\n",
       "      <td>1107820800</td>\n",
       "      <td>The Best Hot Sauce in the World</td>\n",
       "      <td>I don't know if it's the cactus or the tequila...</td>\n",
       "      <td>b'dont know cactus tequila uniqu combin ingred...</td>\n",
       "    </tr>\n",
       "    <tr>\n",
       "      <th>1</th>\n",
       "      <td>232</td>\n",
       "      <td>253</td>\n",
       "      <td>B0002567IW</td>\n",
       "      <td>A1SSKFPX72MSMR</td>\n",
       "      <td>Janna M. Sicard \"missjanna\"</td>\n",
       "      <td>0</td>\n",
       "      <td>0</td>\n",
       "      <td>1</td>\n",
       "      <td>1344556800</td>\n",
       "      <td>Sad outcome</td>\n",
       "      <td>Five minutes in, one tentacle was bitten off, ...</td>\n",
       "      <td>b'five minut one tentacl bitten ball insid cra...</td>\n",
       "    </tr>\n",
       "    <tr>\n",
       "      <th>2</th>\n",
       "      <td>171</td>\n",
       "      <td>188</td>\n",
       "      <td>B00029XIZI</td>\n",
       "      <td>A2S72TUJDQUBMH</td>\n",
       "      <td>Nadia</td>\n",
       "      <td>0</td>\n",
       "      <td>0</td>\n",
       "      <td>0</td>\n",
       "      <td>1236124800</td>\n",
       "      <td>Miracle</td>\n",
       "      <td>My Scotties were full of hot spots and when I ...</td>\n",
       "      <td>b'scotti full hot spot use within week hot spo...</td>\n",
       "    </tr>\n",
       "    <tr>\n",
       "      <th>3</th>\n",
       "      <td>932</td>\n",
       "      <td>1011</td>\n",
       "      <td>B0002MKFEM</td>\n",
       "      <td>A3QLX72AO0DD5Z</td>\n",
       "      <td>Carlito Picache</td>\n",
       "      <td>1</td>\n",
       "      <td>2</td>\n",
       "      <td>0</td>\n",
       "      <td>1226361600</td>\n",
       "      <td>Way too salty</td>\n",
       "      <td>I tried this and I found it too salty.&lt;br /&gt;Pl...</td>\n",
       "      <td>b'tri found salti plus ate fish sauc fish real...</td>\n",
       "    </tr>\n",
       "    <tr>\n",
       "      <th>4</th>\n",
       "      <td>893</td>\n",
       "      <td>969</td>\n",
       "      <td>B0002XIB2Y</td>\n",
       "      <td>A3NV17B17PFB7G</td>\n",
       "      <td>Susan</td>\n",
       "      <td>3</td>\n",
       "      <td>3</td>\n",
       "      <td>0</td>\n",
       "      <td>1228176000</td>\n",
       "      <td>WONDERFUL gravy!</td>\n",
       "      <td>This gravy mix is excellent ... except, don't ...</td>\n",
       "      <td>b'gravi mix excel except dont use water call u...</td>\n",
       "    </tr>\n",
       "  </tbody>\n",
       "</table>\n",
       "</div>"
      ],
      "text/plain": [
       "   index    Id   ProductId          UserId                  ProfileName  \\\n",
       "0     10    11  B0001PB9FE  A3HDKO7OW0QNK4                 Canadian Fan   \n",
       "1    232   253  B0002567IW  A1SSKFPX72MSMR  Janna M. Sicard \"missjanna\"   \n",
       "2    171   188  B00029XIZI  A2S72TUJDQUBMH                        Nadia   \n",
       "3    932  1011  B0002MKFEM  A3QLX72AO0DD5Z              Carlito Picache   \n",
       "4    893   969  B0002XIB2Y  A3NV17B17PFB7G                        Susan   \n",
       "\n",
       "   HelpfulnessNumerator  HelpfulnessDenominator  Score        Time  \\\n",
       "0                     1                       1      0  1107820800   \n",
       "1                     0                       0      1  1344556800   \n",
       "2                     0                       0      0  1236124800   \n",
       "3                     1                       2      0  1226361600   \n",
       "4                     3                       3      0  1228176000   \n",
       "\n",
       "                           Summary  \\\n",
       "0  The Best Hot Sauce in the World   \n",
       "1                      Sad outcome   \n",
       "2                          Miracle   \n",
       "3                    Way too salty   \n",
       "4                 WONDERFUL gravy!   \n",
       "\n",
       "                                                Text  \\\n",
       "0  I don't know if it's the cactus or the tequila...   \n",
       "1  Five minutes in, one tentacle was bitten off, ...   \n",
       "2  My Scotties were full of hot spots and when I ...   \n",
       "3  I tried this and I found it too salty.<br />Pl...   \n",
       "4  This gravy mix is excellent ... except, don't ...   \n",
       "\n",
       "                                         CleanedText  \n",
       "0  b'dont know cactus tequila uniqu combin ingred...  \n",
       "1  b'five minut one tentacl bitten ball insid cra...  \n",
       "2  b'scotti full hot spot use within week hot spo...  \n",
       "3  b'tri found salti plus ate fish sauc fish real...  \n",
       "4  b'gravi mix excel except dont use water call u...  "
      ]
     },
     "execution_count": 6,
     "metadata": {},
     "output_type": "execute_result"
    }
   ],
   "source": [
    "#Using sqlite3 to retrieve data from sqlite file\n",
    "\n",
    "con = sql.connect(\"final.sqlite\")#Loading Cleaned/ Preprocesed text that we did in Text Preprocessing\n",
    "\n",
    "#Using pandas functions to query from sql table\n",
    "df = pd.read_sql_query(\"\"\"\n",
    "SELECT * FROM Reviews limit 1000\n",
    "\"\"\",con)\n",
    "\n",
    "#Reviews is the name of the table given\n",
    "#Taking only the data where score != 3 as score 3 will be neutral and it won't help us much\n",
    "df.head()"
   ]
  },
  {
   "cell_type": "code",
   "execution_count": 7,
   "metadata": {},
   "outputs": [
    {
     "data": {
      "text/html": [
       "<div>\n",
       "<table border=\"1\" class=\"dataframe\">\n",
       "  <thead>\n",
       "    <tr style=\"text-align: right;\">\n",
       "      <th></th>\n",
       "      <th>index</th>\n",
       "      <th>Id</th>\n",
       "      <th>HelpfulnessNumerator</th>\n",
       "      <th>HelpfulnessDenominator</th>\n",
       "      <th>Score</th>\n",
       "      <th>Time</th>\n",
       "    </tr>\n",
       "  </thead>\n",
       "  <tbody>\n",
       "    <tr>\n",
       "      <th>count</th>\n",
       "      <td>998.000000</td>\n",
       "      <td>998.000000</td>\n",
       "      <td>998.000000</td>\n",
       "      <td>998.000000</td>\n",
       "      <td>998.000000</td>\n",
       "      <td>9.980000e+02</td>\n",
       "    </tr>\n",
       "    <tr>\n",
       "      <th>mean</th>\n",
       "      <td>500.041082</td>\n",
       "      <td>542.221443</td>\n",
       "      <td>1.229459</td>\n",
       "      <td>1.668337</td>\n",
       "      <td>0.157315</td>\n",
       "      <td>1.289901e+09</td>\n",
       "    </tr>\n",
       "    <tr>\n",
       "      <th>std</th>\n",
       "      <td>288.715825</td>\n",
       "      <td>311.736605</td>\n",
       "      <td>2.687027</td>\n",
       "      <td>3.178605</td>\n",
       "      <td>0.364280</td>\n",
       "      <td>4.954508e+07</td>\n",
       "    </tr>\n",
       "    <tr>\n",
       "      <th>min</th>\n",
       "      <td>0.000000</td>\n",
       "      <td>1.000000</td>\n",
       "      <td>0.000000</td>\n",
       "      <td>0.000000</td>\n",
       "      <td>0.000000</td>\n",
       "      <td>1.107821e+09</td>\n",
       "    </tr>\n",
       "    <tr>\n",
       "      <th>25%</th>\n",
       "      <td>250.250000</td>\n",
       "      <td>272.500000</td>\n",
       "      <td>0.000000</td>\n",
       "      <td>0.000000</td>\n",
       "      <td>0.000000</td>\n",
       "      <td>1.257898e+09</td>\n",
       "    </tr>\n",
       "    <tr>\n",
       "      <th>50%</th>\n",
       "      <td>500.500000</td>\n",
       "      <td>544.500000</td>\n",
       "      <td>0.000000</td>\n",
       "      <td>1.000000</td>\n",
       "      <td>0.000000</td>\n",
       "      <td>1.303344e+09</td>\n",
       "    </tr>\n",
       "    <tr>\n",
       "      <th>75%</th>\n",
       "      <td>749.750000</td>\n",
       "      <td>810.750000</td>\n",
       "      <td>1.000000</td>\n",
       "      <td>2.000000</td>\n",
       "      <td>0.000000</td>\n",
       "      <td>1.330711e+09</td>\n",
       "    </tr>\n",
       "    <tr>\n",
       "      <th>max</th>\n",
       "      <td>999.000000</td>\n",
       "      <td>1082.000000</td>\n",
       "      <td>43.000000</td>\n",
       "      <td>47.000000</td>\n",
       "      <td>1.000000</td>\n",
       "      <td>1.351210e+09</td>\n",
       "    </tr>\n",
       "  </tbody>\n",
       "</table>\n",
       "</div>"
      ],
      "text/plain": [
       "            index           Id  HelpfulnessNumerator  HelpfulnessDenominator  \\\n",
       "count  998.000000   998.000000            998.000000              998.000000   \n",
       "mean   500.041082   542.221443              1.229459                1.668337   \n",
       "std    288.715825   311.736605              2.687027                3.178605   \n",
       "min      0.000000     1.000000              0.000000                0.000000   \n",
       "25%    250.250000   272.500000              0.000000                0.000000   \n",
       "50%    500.500000   544.500000              0.000000                1.000000   \n",
       "75%    749.750000   810.750000              1.000000                2.000000   \n",
       "max    999.000000  1082.000000             43.000000               47.000000   \n",
       "\n",
       "            Score          Time  \n",
       "count  998.000000  9.980000e+02  \n",
       "mean     0.157315  1.289901e+09  \n",
       "std      0.364280  4.954508e+07  \n",
       "min      0.000000  1.107821e+09  \n",
       "25%      0.000000  1.257898e+09  \n",
       "50%      0.000000  1.303344e+09  \n",
       "75%      0.000000  1.330711e+09  \n",
       "max      1.000000  1.351210e+09  "
      ]
     },
     "execution_count": 7,
     "metadata": {},
     "output_type": "execute_result"
    }
   ],
   "source": [
    "df.describe()"
   ]
  },
  {
   "cell_type": "code",
   "execution_count": 8,
   "metadata": {},
   "outputs": [
    {
     "data": {
      "text/plain": [
       "998"
      ]
     },
     "execution_count": 8,
     "metadata": {},
     "output_type": "execute_result"
    }
   ],
   "source": [
    "df.shape\n",
    "df['Score'].size"
   ]
  },
  {
   "cell_type": "markdown",
   "metadata": {},
   "source": [
    "## For EDA and Text Preprecessing Refer other ipynb notebook<b>"
   ]
  },
  {
   "cell_type": "code",
   "execution_count": 44,
   "metadata": {
    "scrolled": true
   },
   "outputs": [
    {
     "data": {
      "text/plain": [
       "0      1\n",
       "1      1\n",
       "2      1\n",
       "3      1\n",
       "4      1\n",
       "5      1\n",
       "6      1\n",
       "7      1\n",
       "8      1\n",
       "9      1\n",
       "10     1\n",
       "11     1\n",
       "12     1\n",
       "13     1\n",
       "14     1\n",
       "15     1\n",
       "16     1\n",
       "17     1\n",
       "18     1\n",
       "19     1\n",
       "20     1\n",
       "21     1\n",
       "22     1\n",
       "23     1\n",
       "24     1\n",
       "25     1\n",
       "26     1\n",
       "27     1\n",
       "28     1\n",
       "29     1\n",
       "      ..\n",
       "968    1\n",
       "969    1\n",
       "970    1\n",
       "971    1\n",
       "972    1\n",
       "973    1\n",
       "974    1\n",
       "975    1\n",
       "976    1\n",
       "977    1\n",
       "978    1\n",
       "979    1\n",
       "980    1\n",
       "981    1\n",
       "982    1\n",
       "983    1\n",
       "984    1\n",
       "985    1\n",
       "986    1\n",
       "987    1\n",
       "988    1\n",
       "989    1\n",
       "990    1\n",
       "991    1\n",
       "992    1\n",
       "993    1\n",
       "994    1\n",
       "995    1\n",
       "996    1\n",
       "997    1\n",
       "Name: Score, dtype: int64"
      ]
     },
     "execution_count": 44,
     "metadata": {},
     "output_type": "execute_result"
    }
   ],
   "source": [
    "#Score as positive/negative -> 0/1\n",
    "def polarity(x):\n",
    "    if x == \"Positive\":\n",
    "        return 0\n",
    "    else:\n",
    "        return 1\n",
    "df[\"Score\"] = df[\"Score\"].map(polarity) #Map all the scores as the function polarity i.e. positive or negative\n",
    "df[\"Score\"]"
   ]
  },
  {
   "cell_type": "code",
   "execution_count": 45,
   "metadata": {},
   "outputs": [
    {
     "data": {
      "text/html": [
       "<div>\n",
       "<table border=\"1\" class=\"dataframe\">\n",
       "  <thead>\n",
       "    <tr style=\"text-align: right;\">\n",
       "      <th></th>\n",
       "      <th>index</th>\n",
       "      <th>Id</th>\n",
       "      <th>ProductId</th>\n",
       "      <th>UserId</th>\n",
       "      <th>ProfileName</th>\n",
       "      <th>HelpfulnessNumerator</th>\n",
       "      <th>HelpfulnessDenominator</th>\n",
       "      <th>Score</th>\n",
       "      <th>Time</th>\n",
       "      <th>Summary</th>\n",
       "      <th>Text</th>\n",
       "      <th>CleanedText</th>\n",
       "    </tr>\n",
       "  </thead>\n",
       "  <tbody>\n",
       "    <tr>\n",
       "      <th>33</th>\n",
       "      <td>973</td>\n",
       "      <td>1054</td>\n",
       "      <td>B000CQG862</td>\n",
       "      <td>A3HXPEOW4KN19</td>\n",
       "      <td>Dawn Marakby</td>\n",
       "      <td>2</td>\n",
       "      <td>2</td>\n",
       "      <td>1</td>\n",
       "      <td>1158278400</td>\n",
       "      <td>Best Tea EVER!!</td>\n",
       "      <td>I ordered the White Christmas, Christmas Eve, ...</td>\n",
       "      <td>b'order white christma christma eve christma m...</td>\n",
       "    </tr>\n",
       "    <tr>\n",
       "      <th>532</th>\n",
       "      <td>32</td>\n",
       "      <td>33</td>\n",
       "      <td>B001EO5QW8</td>\n",
       "      <td>AOVROBZ8BNTP7</td>\n",
       "      <td>S. Potter</td>\n",
       "      <td>19</td>\n",
       "      <td>19</td>\n",
       "      <td>1</td>\n",
       "      <td>1163376000</td>\n",
       "      <td>Best of the Instant Oatmeals</td>\n",
       "      <td>McCann's Instant Oatmeal is great if you must ...</td>\n",
       "      <td>b'mccann instant oatmeal great must oatmeal sc...</td>\n",
       "    </tr>\n",
       "    <tr>\n",
       "      <th>31</th>\n",
       "      <td>975</td>\n",
       "      <td>1056</td>\n",
       "      <td>B000CQG862</td>\n",
       "      <td>AGV2SUHV9P47T</td>\n",
       "      <td>M. Power</td>\n",
       "      <td>0</td>\n",
       "      <td>0</td>\n",
       "      <td>1</td>\n",
       "      <td>1163376000</td>\n",
       "      <td>Makes everything better</td>\n",
       "      <td>Christmas Eve tea (which does not actually con...</td>\n",
       "      <td>b'christma eve tea actual contain tea christma...</td>\n",
       "    </tr>\n",
       "    <tr>\n",
       "      <th>539</th>\n",
       "      <td>33</td>\n",
       "      <td>34</td>\n",
       "      <td>B001EO5QW8</td>\n",
       "      <td>A3PMM0NFVEJGK9</td>\n",
       "      <td>Megan \"Bad at Nicknames\"</td>\n",
       "      <td>13</td>\n",
       "      <td>13</td>\n",
       "      <td>1</td>\n",
       "      <td>1166313600</td>\n",
       "      <td>Good Instant</td>\n",
       "      <td>This is a good instant oatmeal from the best o...</td>\n",
       "      <td>b'good instant oatmeal best oatmeal brand use ...</td>\n",
       "    </tr>\n",
       "    <tr>\n",
       "      <th>368</th>\n",
       "      <td>296</td>\n",
       "      <td>325</td>\n",
       "      <td>B000JEHAHS</td>\n",
       "      <td>A2CU16YU1KEOUY</td>\n",
       "      <td>Hurricane Ridge \"Chris\"</td>\n",
       "      <td>5</td>\n",
       "      <td>19</td>\n",
       "      <td>1</td>\n",
       "      <td>1168300800</td>\n",
       "      <td>Never Arrived</td>\n",
       "      <td>So we cancelled the order.  It was cancelled w...</td>\n",
       "      <td>b'cancel order cancel without problem posit note'</td>\n",
       "    </tr>\n",
       "    <tr>\n",
       "      <th>369</th>\n",
       "      <td>295</td>\n",
       "      <td>322</td>\n",
       "      <td>B000JEHAHS</td>\n",
       "      <td>AJ7Q49CTJ1BOC</td>\n",
       "      <td>24fan</td>\n",
       "      <td>4</td>\n",
       "      <td>4</td>\n",
       "      <td>1</td>\n",
       "      <td>1168473600</td>\n",
       "      <td>Great gag gift</td>\n",
       "      <td>Put this in my husbands stocking for Christmas...</td>\n",
       "      <td>b'put husband stock christma hit'</td>\n",
       "    </tr>\n",
       "    <tr>\n",
       "      <th>356</th>\n",
       "      <td>315</td>\n",
       "      <td>347</td>\n",
       "      <td>B000HKYP9A</td>\n",
       "      <td>AEIAXBIMAO9T0</td>\n",
       "      <td>Heidi \"Hydez54\"</td>\n",
       "      <td>0</td>\n",
       "      <td>0</td>\n",
       "      <td>1</td>\n",
       "      <td>1168473600</td>\n",
       "      <td>Love the Fresh Food Feeder!!</td>\n",
       "      <td>This product is amazing. I know a few people w...</td>\n",
       "      <td>b'product amaz know peopl littl one use love s...</td>\n",
       "    </tr>\n",
       "    <tr>\n",
       "      <th>358</th>\n",
       "      <td>311</td>\n",
       "      <td>340</td>\n",
       "      <td>B000HKYP9A</td>\n",
       "      <td>A2CHZ5Q2EF3IR3</td>\n",
       "      <td>Mommy with an Opinion</td>\n",
       "      <td>2</td>\n",
       "      <td>2</td>\n",
       "      <td>1</td>\n",
       "      <td>1168905600</td>\n",
       "      <td>Love, Love, Love These!</td>\n",
       "      <td>Bought a set of two when my son was about 6 mo...</td>\n",
       "      <td>b'bought set two son month start take whenev w...</td>\n",
       "    </tr>\n",
       "    <tr>\n",
       "      <th>77</th>\n",
       "      <td>897</td>\n",
       "      <td>973</td>\n",
       "      <td>B000F0G75W</td>\n",
       "      <td>A3QOSBTILZ84HY</td>\n",
       "      <td>Junie \"finaj\"</td>\n",
       "      <td>0</td>\n",
       "      <td>0</td>\n",
       "      <td>1</td>\n",
       "      <td>1173312000</td>\n",
       "      <td>Eco sugar</td>\n",
       "      <td>Its great to be able to get sugar this way.Its...</td>\n",
       "      <td>b'great abl get sugar way good eat go use suga...</td>\n",
       "    </tr>\n",
       "    <tr>\n",
       "      <th>237</th>\n",
       "      <td>463</td>\n",
       "      <td>501</td>\n",
       "      <td>B000G6RYNE</td>\n",
       "      <td>A2LGWBIT9WCTVA</td>\n",
       "      <td>D. Gesswein</td>\n",
       "      <td>0</td>\n",
       "      <td>0</td>\n",
       "      <td>1</td>\n",
       "      <td>1173312000</td>\n",
       "      <td>Excellent chip!</td>\n",
       "      <td>I bought these for the office and no one can p...</td>\n",
       "      <td>b'bought offic one put order today week didnt ...</td>\n",
       "    </tr>\n",
       "  </tbody>\n",
       "</table>\n",
       "</div>"
      ],
      "text/plain": [
       "     index    Id   ProductId          UserId               ProfileName  \\\n",
       "33     973  1054  B000CQG862   A3HXPEOW4KN19              Dawn Marakby   \n",
       "532     32    33  B001EO5QW8   AOVROBZ8BNTP7                 S. Potter   \n",
       "31     975  1056  B000CQG862   AGV2SUHV9P47T                  M. Power   \n",
       "539     33    34  B001EO5QW8  A3PMM0NFVEJGK9  Megan \"Bad at Nicknames\"   \n",
       "368    296   325  B000JEHAHS  A2CU16YU1KEOUY   Hurricane Ridge \"Chris\"   \n",
       "369    295   322  B000JEHAHS   AJ7Q49CTJ1BOC                     24fan   \n",
       "356    315   347  B000HKYP9A   AEIAXBIMAO9T0           Heidi \"Hydez54\"   \n",
       "358    311   340  B000HKYP9A  A2CHZ5Q2EF3IR3     Mommy with an Opinion   \n",
       "77     897   973  B000F0G75W  A3QOSBTILZ84HY             Junie \"finaj\"   \n",
       "237    463   501  B000G6RYNE  A2LGWBIT9WCTVA               D. Gesswein   \n",
       "\n",
       "     HelpfulnessNumerator  HelpfulnessDenominator  Score        Time  \\\n",
       "33                      2                       2      1  1158278400   \n",
       "532                    19                      19      1  1163376000   \n",
       "31                      0                       0      1  1163376000   \n",
       "539                    13                      13      1  1166313600   \n",
       "368                     5                      19      1  1168300800   \n",
       "369                     4                       4      1  1168473600   \n",
       "356                     0                       0      1  1168473600   \n",
       "358                     2                       2      1  1168905600   \n",
       "77                      0                       0      1  1173312000   \n",
       "237                     0                       0      1  1173312000   \n",
       "\n",
       "                          Summary  \\\n",
       "33                Best Tea EVER!!   \n",
       "532  Best of the Instant Oatmeals   \n",
       "31        Makes everything better   \n",
       "539                  Good Instant   \n",
       "368                 Never Arrived   \n",
       "369                Great gag gift   \n",
       "356  Love the Fresh Food Feeder!!   \n",
       "358       Love, Love, Love These!   \n",
       "77                      Eco sugar   \n",
       "237               Excellent chip!   \n",
       "\n",
       "                                                  Text  \\\n",
       "33   I ordered the White Christmas, Christmas Eve, ...   \n",
       "532  McCann's Instant Oatmeal is great if you must ...   \n",
       "31   Christmas Eve tea (which does not actually con...   \n",
       "539  This is a good instant oatmeal from the best o...   \n",
       "368  So we cancelled the order.  It was cancelled w...   \n",
       "369  Put this in my husbands stocking for Christmas...   \n",
       "356  This product is amazing. I know a few people w...   \n",
       "358  Bought a set of two when my son was about 6 mo...   \n",
       "77   Its great to be able to get sugar this way.Its...   \n",
       "237  I bought these for the office and no one can p...   \n",
       "\n",
       "                                           CleanedText  \n",
       "33   b'order white christma christma eve christma m...  \n",
       "532  b'mccann instant oatmeal great must oatmeal sc...  \n",
       "31   b'christma eve tea actual contain tea christma...  \n",
       "539  b'good instant oatmeal best oatmeal brand use ...  \n",
       "368  b'cancel order cancel without problem posit note'  \n",
       "369                  b'put husband stock christma hit'  \n",
       "356  b'product amaz know peopl littl one use love s...  \n",
       "358  b'bought set two son month start take whenev w...  \n",
       "77   b'great abl get sugar way good eat go use suga...  \n",
       "237  b'bought offic one put order today week didnt ...  "
      ]
     },
     "execution_count": 45,
     "metadata": {},
     "output_type": "execute_result"
    }
   ],
   "source": [
    "#Taking Sample Data\n",
    "n_samples = 900\n",
    "df_sample = df.sample(n_samples)\n",
    "\n",
    "###Sorting as we want according to time series\n",
    "df_sample.sort_values('Time',inplace=True) \n",
    "df_sample.head(10)"
   ]
  },
  {
   "cell_type": "code",
   "execution_count": 46,
   "metadata": {},
   "outputs": [],
   "source": [
    "#Saving 50k samples in disk to as to test to test on the same sample for each of all Algo\n",
    "savetofile(df_sample,\"sample_dt\")"
   ]
  },
  {
   "cell_type": "code",
   "execution_count": 47,
   "metadata": {
    "collapsed": true,
    "scrolled": true
   },
   "outputs": [],
   "source": [
    "#Opening from samples from file\n",
    "df_sample = openfromfile(\"sample_dt\")"
   ]
  },
  {
   "cell_type": "code",
   "execution_count": 49,
   "metadata": {},
   "outputs": [
    {
     "data": {
      "text/plain": [
       "array([b'order white christma christma eve christma morn blend last year holiday fell love christma eve smoothest bunch wonder flavor use ice tea year round honest say never got tea much tri stash tea sent licoric lemon flavor father call ask gotten neighbor want get wife tri addict visit stashtea websit lot tea relat bit baubl make perfect hostess gift holiday along plate cooki',\n",
       "       b'mccann instant oatmeal great must oatmeal scrape togeth two three minut prepar escap fact howev even best instant oatmeal nowher near good even store brand oatmeal requir stovetop prepar still mccann good get instant oatmeal even better organ brand tri varieti mccann varieti pack tast good prepar microwav ad boil water conveni extrem time issu mccann use actual cane sugar instead high fructos corn syrup help decid buy product real sugar tast better harm stuff one thing like though mccann use thicken oat plus water plus heat make creami tasti oatmeal without need guar gum conveni product mayb guar gum sit bowl instant mccann becom thick gluey',\n",
       "       b'christma eve tea actual contain tea christma eve although frazzl releav stress christma eve good time know anyon doesnt like often given gift especi nice winter mint tea littl brisk produc level cozi comfort christma eve sooth combin spice mint almost comfort cup warm milk without calori',\n",
       "       b'good instant oatmeal best oatmeal brand use cane sugar instead high fructous corn syrup better sweet doctor say form sugar better great cold morn dont time make mccann steel cut oat appl cinnamon best mapl brown sugar regular good plus dont requir doctor actual tell three flavor apart',\n",
       "       b'cancel order cancel without problem posit note',\n",
       "       b'put husband stock christma hit',\n",
       "       b'product amaz know peopl littl one use love super easi clean use order impress per packag one per',\n",
       "       b'bought set two son month start take whenev went eat cut cantaloup appl banana even use sweet potato time whatev could get would keep son busi long enough could actual eat great didnt over worri choke big chunk got tri new food wouldnt hesit buy',\n",
       "       b'great abl get sugar way good eat go use sugar least process unhealthi state top sugar bodi help fair trade farmer good thing around happi get amazon',\n",
       "       b'bought offic one put order today week didnt shop either amazon brought door',\n",
       "       b'love product fruit food didnt want new babi choke also use put ice babi teeth work great well food didnt like banana get clean',\n",
       "       b'like potato chip hot sweet overwhelm tast garlic also bit salti',\n",
       "       b'kettl brand chip crunchi would say regular plain old lay potato chip soft end soft crunchi spectrum ruffl brand potato chip use consid crunchiest kettl brand chip far crunchi tender mouth bad teeth dentur might want steer clear kettl brand otherwis youll love chip sea salt vinegar chip super tangi enjoy take swig vinegar bottl time time dissapoint salt vinegar chip either chip soft vinegar tast whimpi chemic rest assur kettl sea salt vinegar gourmet flavor vinegar flavor chemic flavor could never call whimpi',\n",
       "       b'tri good feel like indulg delici gourmet potato chip new york chedder potato chip first flavor like see natur food store chip tangi crunchi satisfi potato chip fix like brand',\n",
       "       b'great fan potato chip thai food happi kettl chip decid meld two great love togeth concept chip spici enough without burn hole tongu also nice hint sweet make habit form care treat definit worth indulg',\n",
       "       b'instant oatmeal becom soggi minut water hit bowl mccann instant oatmeal hold textur excel flavor good time mccann regular oat meal excel may take bit longer prepar time morn best instant brand ive ever eaten close second varieti mccann instant irish oatmeal varieti pack regular appl cinnamon mapl brown sugar box pack',\n",
       "       b'true seattl coffe addict never better coffe candi',\n",
       "       b'best tast tortilla chip ever becom allerg tomato love tortilla chip much flavor chip longer miss pico gallo prefer eat plain also right amount heat make flovor overpow spici',\n",
       "       b'new york cheddar flavor favorit kettl brand potato chip flavor crunchi make mouth happi unfortun may opposit backsid dont mom eat entir bag empti stomach may spend afternoon bathroom still give star also onlin price amazon better anywher els ive seen combin amazon prime youll get great deal chip',\n",
       "       b'product exact advertis fresh unfortun keep candi dish offic go fast need reorder keep demand',\n",
       "       b'youv tri convent kettl crinkl chip verson salt peper cant compar easili spici chip ever eat oomplet enjoy finish bag indsid coat spice great stuff',\n",
       "       b'like chip salsa quacomol better cip market even great order long avail thank make access shelli kenyon',\n",
       "       b'fast easi definit delici make great cup coffe easi make good purchas continu order thanx',\n",
       "       b'chocol cover espresso bean wonder chocol dark rich bean insid delight blend flavor enough caffin realli give zing',\n",
       "       b'live dorm without kitchen make cup coffe realli easi especi need stay late studi wake hour sleep like make tea tast decent enough starbuck good enough sugar cream',\n",
       "       b'dont write mani review say kettl brand chip best ever tast everi flavor dynamit feel iffi honey dijon would recommend cheddar beer absolut amaz theyr healthi besid lil fat eaten lot chip day kettl take cake enjoy dont eat fast',\n",
       "       b'mix poor packag break open easili ship near full bag order spill ship box bag come unseal top tear packag',\n",
       "       b'okay eat potato chip anyon spici would find hard eat mani make indulg rescu peopl overindulg',\n",
       "       b'first think chip arent spici spice grow bite realli good',\n",
       "       b'son multipl food allergi realli enjoy bar find good berri tast also nice chewy',\n",
       "       b'thesedont like hot food might bit much great balanc sweet spice cours kettl chip good chip use good oil make even plain one tasti also like ridg chip usual crunchi hard chew dont want work hard delici like spici barbecu definit like chip',\n",
       "       b'dont need salt hide tast potato chip chip prove tast potato come instead mask theyr still snack food salt mean healthiest potato chip get your diet like avail mean eat chip kettl best',\n",
       "       b'sooooo delisci bad ate fast gain pds fault',\n",
       "       b'kettl chip spici thai potato chip perfect amount sweet savori everyth youd want good meal better yet potato chip sinc chip uniqu shape sometim bit howev slice perfect thick thin actual get great crunch bite without break tooth flavor tremend although wouldnt describ thai vagu sweet tangi flavor kick everi get great big hit ginger like spice realli over spici peopl handl fact chip absolut artifici ingredi tran fat make fabul addit muncher snack cupboard',\n",
       "       b'good job ship order quick noth like ace hardwar took week ship',\n",
       "       b'agre compani motto natur obsess tri small bag local store immedi bought bulk onlin save percent flavor strong best pair food mild flavor like steam veget plain whole grain bread otherwis compet clash food',\n",
       "       b'right amount spice make hot also sweet hard find new jersey one bag around',\n",
       "       b'love kettl brand sea salt vinegar chip sinc first time tri fact abl find great price wonder would definit make purchas quick simpl snack lunch goe great cold sandwich',\n",
       "       b'great idea daughter love dont think difficult wash mean like toss water that come absolut recommend',\n",
       "       b'celiac diseas product lifesav could better get almost half price groceri health food store love mccann instant oatmeal flavor thank abbi',\n",
       "       b'chip come larg box individu wrap bag chip bag strong much thicker say lay potato chip bag insid tasti kettl cook chip salt right appear cook actual kettl fashion cook other give authent feel peopl may like reccomend',\n",
       "       b'noth easier noth better even beat grandmoth white gravi recip alreadi pepper noth mix water take minut two high recommend gravi mix disappoint',\n",
       "       b'daughter autism crave hot spice pungent food absolut favorit chip call sour chip want lunch time love crispi kettl way theyr cook',\n",
       "       b'good oatmeal like appl cinnamon best though wouldnt follow direct packag sinc alway come soupi tast could sinc like oatmeal realli thick add milk top',\n",
       "       b'fantast tast potato chip love individu bag great kid adult tran fat cholesterol artif stuff low sodium high potassium great peopl like hbp problem amazon stock time price high',\n",
       "       b'best chip noth beat tast like honey mustard definit like eat wont stop addict stuff',\n",
       "       b'dont think coffe bag good fresh ground fresh brew coffe tast far better instant coffe work water cooler hot water dispens brew hot water like tea bag make tea tast far better instant coffe high recommend coffe lover access hot water dont access coffe maker individu wrap seal bag allow take one tini tea like bag pocket purs earli morn meet',\n",
       "       b'yeast extract list ingredi sound harmless right specif chip contain autolyz yeast extract chemic level monosodium glutam deriv differ sourc toxic properti kettl still advertis product contain msg acknowledg chip safe peopl msg sensit',\n",
       "       b'tea carri flavor one would expect terribl invigor like punctur wound reviv drink discov still aliv well one tea bag enough said smell kind like wine okay kind like wine hint rot moldi aftertast like whole box',\n",
       "       b'realli enjoy product hard time find afford store found look sugar use thank much',\n",
       "       b'easili best potato chip ever look ginger type hot pepper wrong obvious dont like spici food like spici food youll probabl love flavor combo preval lot thai food',\n",
       "       b'chip good end eat whole bag day caus good glad dextros like lay',\n",
       "       b'first tast tea save trip home santa cruz hotel restaur stale powder tea bag need fix tourist stop giant artichok beckon chines breakfast yunnan black tea set straight review said tast odd flavor strong bit smoki like darjeel earthier like darjeel earl grey enough flavor milk sugar need expens box teabag find loos larg quantiti price fantast arriv prompt true label unlik loos tea that actual cut whole leav unfurl ahhh',\n",
       "       b'delici chocol excel espresso bean perfect roast purpos crunchi bitter chocol cover espresso bean pound',\n",
       "       b'numi winner tea husband son often share wonder tea dinner pleasant reason love turn bitter longer steep like tea',\n",
       "       b'plocki tortilla chip red bean rice ounc bag pack first tast chip visit relat avail live order amazon wow friend famili addict spici flavor grab first bite bag open gone',\n",
       "       b'wonder warm flavor tea especi colder weather tea sweet sooth chamomil fragranc subtl sweet one better chamomil tea find hard sleep time cup sweet chamomil tea may help realli like sweet tast tri bigelow chamomil mango herbal tea high recommend',\n",
       "       b'bought pocki vacat enjoy live asian store shop internet guy famili seem like better ladi reason bit insan search pocki commerci youtub',\n",
       "       b'hey great waffl pancak add mix tho recipi bag thin lot fun arrowhead mill buttermilk pancak waffl mix serv fri egg real mapl syrup butternut mountain farm vermont pure mapl syrup grade dark amber pint jug warm strawberri jam whip cream cool whip add brown sugar mix chang flavor make crispi waffl add cup sugar cup malt milk powder carnat malt milk origin jar pack awesom gourmet pancak waffl like serv hilton handi extra bag hand cant beat subscrib save price mix organ',\n",
       "       b'potato chip excel tran fat tast absolut delici whenev mood potato chip kettl brand buy great product anyon enjoy high recommend enjoy',\n",
       "       b'great price excel chip cent ounc bag bargain well tasti chip everyon ive let tri impress comment good tast ive yet find kettl chip disappoint',\n",
       "       b'rare eat chip saw tri realli amaz love cheddar chip realli thin crunch delici flavor recommend',\n",
       "       b'first ball work pretti well look littl beaten sinc fallen piec hot water sit bit dont mind rate failur tea pretti good fair toler steep long time especi consid white tea',\n",
       "       b'dont want get addict dont tri plocki red bean rice tortilla chip husband start one seem anodyn bag store weve receiv second case wont last long bewar',\n",
       "       b'aunt gave bag immedi addict actual piec bean chip over salti like chip love zip agre awesom without salsa tran fat',\n",
       "       b'tri lot chip best real sea salt real vinegar flavor crispi faint heart flavor authent',\n",
       "       b'salti like regular supermarket chip snack overwhelm guilt gotta chip kettl chip light salt chip youv search there cholesterol tran fat artifici anyth manufactur process actual seem kind qualiti excel product',\n",
       "       b'fantast chip ive ever could eat whole bag theyr made lot whole grain bean make complet protein qualm feed kid snack great problem bag small need bigger bag',\n",
       "       b'oatmeal good mushi soft dont like quaker oat way',\n",
       "       b'friend mine brought work claim chang life life fair unchang cannot get enough chip even like kettl chip part find kettl chip thick greasi flavor chip amaz type hot refresh enjoy spici hot thing tri anyway may convert',\n",
       "       b'happen like better sea salt vinegar chip ive found countri',\n",
       "       b'chip truli amaz theyr light crisp great tast nice textur theyr natur low fat sodium need say recent bought bag regular groceri store couldnt beliv tast bud that excit saw amazon decid buy case',\n",
       "       b'kettl chip best potato chip god ever invent give lord thank everi day deliv unto incredul delici blend ginger spice verit cornucopia flavor actual chang diet strict regiment spici thai sea salt vinegar flavor altern day alreadi lost lbs mention myriad health benefit experienc get life back kettl chip',\n",
       "       b'love kettl chip light salt dont feel guilti eat use buy whole food buy amazon save money purchas least time happi chip deliveri',\n",
       "       b'want realli good snack bar tri healthi tast good granola bar without gluten buy regular',\n",
       "       b'first discov kettl chip sea salt vinegar shop trader joe daughter mindi couldnt believ tasti best chip ever eaten love first bite ive munch ever sinc thing theyr thicker chip dont crumbl devour theyr delight combin heaven tri creat origin line describ tast treat couldnt beat manufactur tang crunch isnt poetic health valu sinc kettl chip peel prepar get nutrit potassium vitamin mother would approv fact theyr small batch often enjoy kettl chip afternoon snack favorit soda ice tea theyr also delici tuna sandwich hot dog lunch well actual kettl chip perfect everyth except sweet cours problem theyr delici cant stop eat that reason chose smaller figur could last almost month good girl kept appetit hid kid sake fewer calori tri hard succeed far isnt easi told much love review betti dravi millennium propheci',\n",
       "       b'order coffe theme wed arriv fight friend smell tast good liter hide box wed big hit wed day none left put tabl great tast product lowest price ive seen',\n",
       "       b'love chip flavor plain sweet spici time drawback tad bit much salt still great flavor',\n",
       "       b'chip great snack dont want junk assici chip tri youll like',\n",
       "       b'chip good couldnt stop eat didnt last long reason gave star instead think bag littl hard open sure need make potato chip bag sturdi may need scissor hand open much easier',\n",
       "       b'tea best tea ive ever first tast norway find state everi morn',\n",
       "       b'receiv chip gift basket absolut love search high low unabl find saw immedi order case chip light crispi flavor good love dip chili plain tri youll hook',\n",
       "       b'pancak tast great without recip adjust son egg allergi also great camp time youd like abl make pancak without fresh egg avail',\n",
       "       b'order week organ food deliveri servic word spici burn spici like sweetish salti realli delici chip like barbecu flavor nice barecu also like organ ate bag less minut bad dang theyr sin delici grant whole lot skimpi price often case come organ calori pop geesh yes cal per serv that par cours fri chip fatten crispi flavor delici best stick small serv side sandwich soup enjoy mir',\n",
       "       b'realli like mccann steel cut oat find dont cook often tast much better groceri store brand conveni anyth keep eat oatmeal regular good thing',\n",
       "       b'love chip order florida case chip came without pack insid bag box cushion needless say chip broken would order great item cant packag aid minim chip breakag one wast money',\n",
       "       b'order black bean rice realli realli love stock week final open packag kick tri earlier littl kick swallow let know hint hot pepper sort took pot luck night came home empti bag use anoth bag garnish salad took pot luck came home empti salad bowl definit order plocki tortilla chip red bean rice bag pack',\n",
       "       b'mccann instant irish oatmeal varieti pack regular appl cinnamon mapl brown sugar box pack fan mccann oat thought give instant varieti tri found hardi meal sweet great folk like surgeri need food palat easili digest fiber wont make bloat',\n",
       "       b'agre review chip sore mouth tender gum chip hard tast delight enjoy salt vinegar combo unfortun everi bag receiv case cook dark golden brown chip bag definit need improv',\n",
       "       b'new favorit alway fan salt vinegar honey dijon replac new number one strong tast love honey mustard flavor must hope like price wise see much deal purchas groceri ship would given product star easili price tast fabul wont disappoint',\n",
       "       b'chip salti hint sweet crisp crunchi best chip ive ever',\n",
       "       b'chip delect delici low sodium diet didnt give total someth trueli love snack chip burst flavor cant realli tell miss salt kiss worth chip beleiv total makeout',\n",
       "       b'took one said good russet potato chip flavor sudden within second spread sens tast bud happi close thai food potato chip get chip spici enough satisfi crave spice hint sweet make habit form flavor includ garlic ginger jalapeno cilantro spice felt great eat buy treat',\n",
       "       b'realli love kettl brand chip rather disappoint littl sour cream onion flavor',\n",
       "       b'husband like lot bit differ get use less greasi salti tast usual chip buy browner would like see chip pretti sturdi textur bad though take get use eat chip better health calori fat howev',\n",
       "       b'great valu like packag size vinegari enough wont order brand great chip otherwis',\n",
       "       b'got order bit light cheddar flavor herb tast elud',\n",
       "       b'nice amount heat smoke tasti chip goe great brew',\n",
       "       b'tri herr utz wise pringl lay etc kettl tast best quantiti salt use optimum requir although say serv size ounc finish whole packet time total calori ounc bag slight higher side still compromis tast issu packet burnt chip tast bad kettl take care pack ensur burnt chip thank amazon get bag buck free ship use coupon',\n",
       "       b'reason amazon would ship alaska sent grandchildren got enjoy good chip amazon rethink ship alaska thing would order groceri onlin',\n",
       "       b'like kettl chip realli disappoint order cook bought bigger size bag costco chip cook perfect dont know differ never buy chip',\n",
       "       b'nice case chip quit tasti definit enjoy kettl sea salt black pepper wish bigger bag',\n",
       "       b'kettl food inc make best tast potato chip ive ever eaten varieti flavor classic barbequ uniqu spici thai youll find right flavor mouth tast wonder chip cook safflow sunflow oil zero cholesterol product week kettl food inc green giant compani highlight environment practic convert wast oil biodiesel power compani car solar panel system creat annual product offset addit energi usag buy renew energi credit effort futur care present rejuven neighbor acr wetland recent build construct earn gold rate leadership energi environment design leed mouth thank environ',\n",
       "       b'chip quit tasti price right packag well would buy',\n",
       "       b'bought box chip father day gift dad love yummi substanti regular chip',\n",
       "       b'simpli fell love chip refus share friend experi lot chip salti littl greasi side cheddar kettl realli chang mind thank amazon great discount dont buy store anymor',\n",
       "       b'dont eat mani chip love great buy arriv quick pack great expir date way away awhil enjoy great natur potato flavor love brown russet hardi flavor fit descript tee',\n",
       "       b'eat risk would open bag could stop good salti',\n",
       "       b'fantasticyou beat tast resist one spice lover',\n",
       "       b'bag difficult open aid tool scissor dont even tri without scissor crispi tast like chip arent advertis salt definit arent healthi feel greas finger eat see greas bottom bag chip deserv put tabl',\n",
       "       b'chip greasi tast greas bottom bag chip satur especi bottom bag even tran fat free need lot less greasi',\n",
       "       b'recent stop eat number allergen dairi soy nut one snack fit dietari restrict unfortun pretti gross miser textur cardboard flavor berri threw away would recommend cocoa one much tastier also allergen free',\n",
       "       b'arrowhead mill buttermilk pancak mix favorit mix tast great cook light fluffi super easi make although made use water think better made milk love pure organ mapl syrup',\n",
       "       b'chip fanfreakintast doubt best chip ever nice sweet smoki flavor littl babi',\n",
       "       b'chip great deal kettl special deal case chip hard find vega favorit flavor ship fast sooner expect',\n",
       "       b'son love fruit bar smaller typic wheat fruit bar suggest get child like first tri chocol one son favor chocol one berri one',\n",
       "       b'chip best ive tast fill chemic tast tangi vinegar well potato greasi perfect crispi dont like salt vinegar tangi dont even bother tri definit zip love children friend love even year old love',\n",
       "       b'love chip dont even like black bean tasti yum plus good',\n",
       "       b'best chip ever eaten everyon famili love sweet crispi realli good deliveri perfect crush chip fantast overal',\n",
       "       b'tast good spici dont like spici stay away price paid good buy',\n",
       "       b'ive alway like salt vinegar chip time stronger flavor bottom bag vinegar overflow right first chip doesnt stop youv finish bag addict like salt vinegar ultim chip noth els compar',\n",
       "       b'delici bag bit big school lunch definit serv',\n",
       "       b'kettl light slate chip favorit market dont care fanci flavor salt right thick super crunchi full flavor best',\n",
       "       b'kettl chip thicker crunchier though greasier time chip honey dijon flavor great dont overwhelm salti tast cheaper chip size great adult size snack',\n",
       "       b'guess there tell tickl palat huge tabasco fan love unconvent snack dont tast even remot like wonder sauc theyr made didnt find much kick practic bland fact even strong avers wast food throw give away case favor find bag local take chanc',\n",
       "       b'think plocki brand whole cut qualiti found lack tast somewhat littl greasi',\n",
       "       b'took get use chip pretti good healthi sure eaten famili friend',\n",
       "       b'love product differ flavor fantast famili like grain best corn tortilla chip hous',\n",
       "       b'chip tangi hope expect poor brother better choic salt vinegar fan',\n",
       "       b'canida felida also chang formula cat like chang come food chang without put label notic color food chang smell notic also reviewd canida happen time dog issu prior chang food almost lost two cat move new home cat get upset chang envior loud nois stop eat depend cat two stop eat lost lot weight took vet took month get back normal year sinc better formula food chang start noitc eat much start bug ask shop owner feed store knowledg chang food wasnt custom yell dog food make dog sick right away chang cat food start chow havent suffer one bit like dog cat sensitv anim chang thier food could caus stop eat anyon think purchas food rescu fix cat none picki eater chang formula could death found chang formula urg anyon problem consum affair websit also fda websit write letter let know affect anim canida care chang affect anim tell buy horribl',\n",
       "       b'looooov pocki got lucki couldnt stop like chocol lace crack anywho product good sad thing ship store hot room chocol melt togeth partial didnt take much effort take apart stick great product great price merchant',\n",
       "       b'good need chees wish krinkl cut much prefer salt pepper krinkl cut better textur around brand much better good price amazon get free ship similar tim zack chip crispi side note hardest bag open hand use knife scissor everytim',\n",
       "       b'far favorit chip extrem crunchi similar kettl style chip extrem vinegar flavor differenti lesser fri potato snack ive tri sever brand salt vinegar none come close',\n",
       "       b'bought sale amazon nice crispi thick chip definit great buy catch sale',\n",
       "       b'salsa smell delici think probabl unfortun person amazon packer probabl sever littl stuf work especi bottom therefor bottom broken three bottl reach told return caus food item look custom servic found none new face lift seem proud new face lift least place contact emerg buy lot stuff come styrofoam box never would ship thing especi salsa cardboard box stripe larg bubbl wrap matter much carrier fed care go break somewher along line especi glass contain barbara',\n",
       "       b'although enjoy flavor order tini bit chocol walnut one still enjoy flavor wonder servic das includ hand sign coupon discount futur order along sampl coupl caramel flavor order chocol walnut flavor sure along das food gourmet salt',\n",
       "       b'favorit tea drink never get tire like other good time day strong still nice flavor good balanc minti spici',\n",
       "       b'tri found salti plus ate fish sauc fish realiz kind redund kid cours stuff great',\n",
       "       b'defint tasti madhous munchi famili favorit kettl dark burnt broken bit tast light crunch well',\n",
       "       b'idea good caramel flavor ginger pistachio domin chocol walnut orang honey varieti miss mix rich butteri dairi flavor caramel sugar expect caramel',\n",
       "       b'love sugar also get muscavado sugar great use place regular white sugar recommend',\n",
       "       b'gravi mix excel except dont use water call use milk instead make better',\n",
       "       b'addict salti tangi flavor open first bag sea salt vinegar kettl brand chip knew perfect complement veget tray cucumb carrot celeri cherri tomato skip balanc tangi chip altern bite raw veget oregonian proud share delect snack friend especi live outsid state havent experienc gourmet chip tell kettl brand potato chip microbrew beer kettl brand potato chip light gold color rich flavor amaz crunch kettl brand chip also healthier snack option major chip brand kettl brand chip dont tran fat msg artifici flavor color compani also line organ potato chip product certifi kosher also recommend kettl chip honey dijon kettl chip spici thai annett solomon report salem statesman journal recent note glass wine goe nice chip solomon wrote could miss wonder pair chip spici would want select white wine also moder amount acid subdu strong flavor ginger lime garlic cilantro without classic riesl fit paramet perfect',\n",
       "       b'best potato chip ive ever best price ive ever paid servic respect ship free',\n",
       "       b'great couldnt stop eat lowest price anywher buy even next time cant say enough ship faster paid ship also thank much',\n",
       "       b'chip remind long obsolet brand chip could get middl school far tastiest chip ive imposs walk past aisl without pick trademark blue bag put bag clip bag',\n",
       "       b'feel strang review chip compel absolut favorit chip kettl lot flavor alway back regular light salt thicker sometim greasi bottom bag plus often look burn actual burn someth much sugar potato make dark love open bag find brown chip lay wise place ive becom chip snob thank kettl like edi breyer ice cream product worth money best best',\n",
       "       b'honey dijon chip bring terrif balanc salti tangi sweet crunchi brand ive tri use much mustard flavor overpow honey dijon pair chip make great side dish bbq plate bake bean coleslaw potato salad grill meat natur also great beer oregonian proud share delect snack friend especi live outsid state havent experienc gourmet chip tell kettl brand potato chip microbrew beer kettl brand potato chip light gold color rich flavor amaz crunch kettl brand chip also healthier snack option major chip brand kettl brand chip dont tran fat msg artifici flavor color compani also line organ potato chip product certifi kosher also recommend kettl chip kettl chip sea salt vinegar kettl chip spici thai annett solomon report salem statesman journal recent note glass wine goe nice chip solomon wrote could miss wonder pair chip spici would want select white wine also moder amount acid subdu strong flavor ginger lime garlic cilantro without classic riesl fit paramet perfect',\n",
       "       b'addict salti tangi flavor open first bag sea salt vinegar kettl brand chip knew perfect complement veget tray cucumb carrot celeri cherri tomato skip balanc tangi chip altern bite raw veget oregonian proud share delect snack friend especi live outsid state havent experienc gourmet chip tell kettl brand potato chip microbrew beer kettl brand potato chip light gold color rich flavor amaz crunch kettl brand chip also healthier snack option major chip brand kettl brand chip dont tran fat msg artifici flavor color compani also line organ potato chip product certifi kosher also recommend kettl chip honey dijon kettl chip spici thai annett solomon report salem statesman journal recent note glass wine goe nice chip solomon wrote could miss wonder pair chip spici would want select white wine also moder amount acid subdu strong flavor ginger lime garlic cilantro without classic riesl fit paramet perfect',\n",
       "       b'best chip ever sure beat anyth els even cook way better name brand tangi crisp satisfi crave time chip buy thank amazon let buy onlin bulk save money time',\n",
       "       b'mouth say love thee let count way like appl product must item draw back ship cost heavi',\n",
       "       b'perhap worst chip ever gone mouth entir life sour cream onion case chive chip favorit recent kettl brand honey dijon mustard took slot found sour cream onion tri soon open bag chip smell powder milk inde chip coat powder sour cream aw tast like rancid milk sour like sour cream rancid powderi textur also extrem unapp basic hate chip would recommend chip anyon unless particular affin powderi chalki textur chip rancid onion flavor hard time believ person exist plan contact kettl share thought hope theyll reassess season otherwis wonder kettl style chip',\n",
       "       b'eaten way though das caramel rang remain favorit one usual get rave review share isnt easi thing tri one youll see mean ive caramel fan age werther butterscotch pinch noth come closer mother use make chewi butteri littl crunch salt spectacular mother didnt put salt improv',\n",
       "       b'bought boyfriend realli like honey roast pecan salad coupl restaur plus like nut pecan almond peanut love actual order can instead gift tin could take one work place stay fresh longer although dont think fresh issu wont last long lol',\n",
       "       b'backyard bbq kettl chip great deal promo code nice larger size bag kettl chip groceri store ounc polish one famili lunch arriv fresh crumbl chip amazon groceri great flavor natur',\n",
       "       b'dont know case chip receiv everyon allow sampl chip buffet style set agre slight salti side one person joke state would terrif melt ice snow due amount salt order expect would similar lay kettl mesquit potato chip kettl brand outback bbq chip exact opposit sorri folk better expect chip littl salti side still look forward amazon final get lay kettl mesquit potato chip stock got star bbq powder use flavor enough uniqu',\n",
       "       b'great stuff made realli tasti banana bread good qualiti lowest price town',\n",
       "       b'walker shortbread highland shortbread portion pack ounc unit pack famili love great snack carri car wonder surpris lunchbag flavor rich pure forgot wonder shortbread cooki price nice well amazon com love place',\n",
       "       b'scotti full hot spot use within week hot spot gone smell kinda strong bad tolerablel',\n",
       "       b'like plocki like plocki plocki mean fuss tast good healthi plocki plocki grab bag two thank plocki',\n",
       "       b'oregonian make point share snack friend visit state tell kettl brand potato chip microbrew beer kettl brand potato chip light gold color rich flavor amaz crunch kettl brand chip also healthier snack option major chip brand kettl brand chip dont tran fat msg artifici flavor color compani also line organ potato chip product certifi kosher annett solomon report salem statesman journal note glass wine goe nice spici thai chip solomon wrote could miss wonder pair chip spici would want select white wine also moder amount acid subdu strong flavor ginger lime garlic cilantro without classic riesl fit paramet perfect also recommend kettl chip honey dijon kettl chip sea salt vinegar honey dijon chip bring terrif balanc salti tangi sweet crunchi brand ive tri use much mustard flavor overpow honey dijon pair honey dijon chip make great side dish bbq plate bake bean coleslaw potato salad grill meat natur also great beer sea salt vinegar chip perfect complement veget tray cucumb carrot celeri cherri tomato skip balanc tangi chip altern bite raw veget summari high recommend kettl brand chip great buy amazon com',\n",
       "       b'admit chip good high addict cant stop eat crunchi season right amount flavor salt perfect believ chip salti cant finish small bag one keep eat',\n",
       "       b'long stori short tasti purchas number flavor brand favorit note anoth review contain msg form yeast extract becom popular mean hide msg late call differ thing person find use caution consum find whole process hide plain site bothersom also bag larg half air may well help ship pay premium price organ seem decept',\n",
       "       b'never addict anyth life tast chip tri brand sea salt vinegar flavor youv got stick blue bag chip',\n",
       "       b'els need know oatmeal instant make half cup milk add second expens kroger store brand oatmeal mayb littl tastier better textur someth still oatmeal mmm conveni',\n",
       "       b'order kettl chip follow flavvor salt fresh ground pepper tuscan chees cheddar tast varieti pack suggest order order larg size wish could return unopen bag',\n",
       "       b'fan newman pineappl salsa quit look compar salsa one best tast salsa ive ever daughter love dont like super chunki salsa berri mango nice smooth textur small mango piec salsa sweet sweet enough although mild nice littl kick price steal',\n",
       "       b'among best chip ever eaten first came upon visit costplus world market store opelika tiger town mall wasnt big fan anyth decid give chip tri hook probabl end buy dozen bag within month time search part alabama northwestern part state could find later tri find world market hoover patton creek shop center carri flavor howev learn avail amazon com also avail prime ship bought soon read kettl chip honey dijon bag pack get pretti big box fill bag delici morsel last quit soon suggest buy bulk form enjoy wont disappoint great hamburg hot dog theyr perfect spring come summer outdoor activ take word chip hidden gem lost world snack food buy today fall love like',\n",
       "       b'six month old babi love earth best sweet potato chicken dinner favorit seem love earth best food fruit veget dinner consist food make easi eat thick thin',\n",
       "       b'plocki red bean rice tortilla chip realli tasti share bag daughter iraq said ummm good good artifici stuff',\n",
       "       b'bag oatmeal seem like way much time went found use mani recip make week run high qualiti oatmeal much cheaper better anyth ive found groceri store',\n",
       "       b'kettl brand chip probabl best potato chip ive tast thus far thick bite love creativ flavor favorit kettl chip happen honey dijon think great combin sweet salti tangi perfect one snack attack dont know exact want especi love curl chip extra textur crunch bag perfect anyon problem control portion like',\n",
       "       b'great tast great ingredi great textur absolut delici littl smaller may still hungri meal give one year old son breakfast still littl hungri either tast good want',\n",
       "       b'milka nap mix gift box fun uniqu gift tire whitman usual american brand noth wrong whitman sometim chang look flavor nice sampler provid milka option four flavor noisett hazelnut alpin milk strawberri delici though dont like strawberri chocol candi person give away eager friend nap box perfect coffe tabl standalon dish work milka famous purpl cow own kraft eastern european chocol origin produc switzerland avail germani austria hungari nearbi countri distribut still weak unit state found increas larger citi usual found intern groceri store though pop eclect grocer time time around year whether kraft chang recip yet seen textur tast better hershey nestl smoother creamier basic chocol fulli recommend milka nap mix gift box anthoni trendl editor hungarianbookstor com',\n",
       "       b'love asparagus recent never pickl asparagus good friend introduc exact brand couldnt believ great stuff tast love much bought six pack ive got jar left gonna need',\n",
       "       b'got free packag bottl bloodi mari mix bought seller advertis work lol tri share buddi love buy notic review yet well hot burn mouth forev hot nice temp perfect',\n",
       "       b'love salt vinegar potato chip one choos flavor zippi tart unpleas chemic aftertast like less natur version snack bag right share lunch chip littl greasi that ive given star instead',\n",
       "       b'balanc tasti fill good could ask breakfast cereal still miss kellogg sister product right somewhat lighter blend love discontinu mueslix strong',\n",
       "       b'kellogg muselix delici deliveri quick kellogg crispi blend mueslix raisin date almond unit pack',\n",
       "       b'chip delici like salt pepper flavor chip solid crunch cant wrong tastiest bag ive come across sea salt easier palett regular salt fact troubl cut even though normal enjoy low sodium diet would feel like less lush bag',\n",
       "       b'bought chip littl sandwich shop sonoma vacat wasnt sure expect packag first bite didnt know think flavor hit yum bit spici noth overpow lot crunchi sweet spici good arent sold everywher though still tri find somewher close live',\n",
       "       b'weve long enjoy brand chip began think serious limit salt intak particular pleas find grant bought somewhat reluct confirm generous sprinkl everyth egg green bean pleasant surpris chip satisfi robust tast crispi boot nice abl munch without worri much salt',\n",
       "       b'ive eaten brand unsalt potato chip theyv alway terribl didnt expect much bought tast amaz never enjoy unsalt potato chip natur potato flavor thick crunchi chip bad thing bag pain open use scissor save aggrav',\n",
       "       b'kettl chip flavor hit miss flavor terribl simpl delici probabl one best flavor thick crunchi potato chip light salt doesnt compromis tast busi isnt give lip servic occasion burnt chip bag pain open tab pull time end tear entir side bag use scissor instead',\n",
       "       b'chip perfect snack without salsa textur brittl thin like plocki chip spice minim',\n",
       "       b'chip good bad creat moral dilemma constant wou strong larg bbq habit bring new bag work everi three day put lot time treadmil make bewar',\n",
       "       b'dinner friend famili saloon rte entertain complex sanford besid awesom staff ask keith fabul food escargot must serv china mist tea time chose tropic organ green doubt best flavor tea ever',\n",
       "       b'ive drink tea past year usual buy box two visit larg metropolitan area mani store carri loos ahmad tea usual pound box ive alway consid unremark robust tea enough aroma tast beauti reddish color perhap good enough tea drink decent base mix tea howev noth sort fresh open packag almost characterist tea smell brew tea weak flat tasteless somehow seem product anymor get lot tea money qualiti might well drink lipton bag much wors',\n",
       "       b'yes cube fact almost gave four star expens regardless sugar cube favorit sugar product ive tri everi brown sugar cane sugar product find amazon groceri store none compar rich sweet uniqu flavor brown sugar cube perruch ive tri mani brown sugar product believ differ terroir ground land sugar grown perruch sugar cube made african grown specif sugar grown swaziland congo also cube denser mani sugar cube dont know scientif perspect accomplish cube regular size larg irregular shape heavier sturdier cut cube produc flavor rich distinct flavor brown sugar cube somewhat darker well wish could describ flavor better sever month sinc abl find somewhat afford suppli btw product sold free ship via amazon prime purchas sever box much better deal date review month ago recommend',\n",
       "       b'first time ate chip aruba couldnt find area imagin joy found amazon love hope continu carri price terrif pay aruba run bag buy case amazon good job problem everybodi want steal bag case come that share good',\n",
       "       b'purchas read natur cure hive noth hive tast aw luckili mine love stuff remind grandmoth gave yucki yucki stuff',\n",
       "       b'son love best earth babi food favorit seem veget turkey smile everi mouth would recommend product anyon look healthi feed organ way food feed son earth best',\n",
       "       b'one best tast crisp ever eaten buy special occass know ill eat whole bag',\n",
       "       b'realli look forward tri chip sinc love chees super disappoint big fan kettl chip tast somewhat stale almost plain suppos cheddar tast cannot tast annoy recommend flavor salt vinegar buffalo bleu favorit',\n",
       "       b'realli easi project famili fun anytim christma put ice cooki stack ice outsid decor great age strawberri licoric rope look like stuck togeth find end unwind caution small hard candi decor swallow hazard come everyth need except bowl spoon contain cooki piec larg bag yellow color ice east mix fork add water slowli get thin small white ice bag add water slowli green color add small amount white clear decor plastic decor tip save reus small bead candi decor hazard strawberri licoric rope small tube orang write ice hard candi wreath decor diamet gummi spongebob tall gummi patrick tall ice set hard eat pri apart piec cooki get littl softer middl make anytim year leav wreat patrick cut spongebob head look like chirstma',\n",
       "       b'spici chip lot great flavor warn left stanki breath afterward first time ate night even brush floss could tast mouth next morn care eat especi hang peopl later day',\n",
       "       b'enjoy ever step gain lbs within month buy pack full size bag damn warn tast awesom though finish crash diet order anoth box case',\n",
       "       b'good sunflow seed good price prefer unsalt varieti hard find one thing keep mind though expir best date exampl order april batch receiv june use date may stretch consum bag seed start go rancid sinc theyr roast oil unsalt seed may spoil readili salt varieti even refriger upon receipt amazon doesnt seem specifi use date food product sell gambl purchas assum amazon wont ship stuff expir probabl ship oldest stock first use date item may would select choic',\n",
       "       b'daughter outgrow babi food still eat tri food doesnt like textur realli good like keep buy',\n",
       "       b'past coupl year eaten review sever kind style chip best ive ever big disappoint eaten lantchip varieti way best kettl chip right salt irrit pringl product kettl good flavor small size overwhelm oili take away flavor good stock lantchip time day choic',\n",
       "       b'love cant alway get local store dont keep stock even though alway buy strong enough dip condiment great flavor grain textur',\n",
       "       b'consum jar everi two week either ad fajita use corn chip dip hot awhil medium salsa suprema mild thought mayb cut much ate go hot salsa ranchera hot enough peopl arent use say that hot bright forward similar hot salsa victoria duller tast guess earthi salsa much brighter mouth dont like hotter sauc ive tri lose resembl yummi salsa tast hot happen tabasco sauc exampl drawback victoria doesnt make larger bottl salsa ranchera salsa victoria sell sam club get good deal watch sale',\n",
       "       b'like shortbread realli like walker alway make best shortbread walker shortbread highland shortbread portion pack ounc unit pack',\n",
       "       b'love chip littl weird review potato chip chip great crunch right plus right amount salt salti bland littl oili that best thing packag buy larger bag harder resist eat packag allow littl portion control sure use scissor open caus chip packag fresh dont open easili enjoy',\n",
       "       b'diappoint flavor textur mix usual like low carb thing tri diappoint specif one',\n",
       "       b'order receiv day tea excel price right',\n",
       "       b'real deal genmai cha loos green tea roast brown rice bag origin known peopl tea couldnt afford better popular mild flavor drink day long like wont disappoint',\n",
       "       b'pocki incred good snack impress asia packag stupid order someth easi melt chocol dead heat summer top packag dessert pocki order degre weather melt liquid goo cours expect pocki box melt away took special care put pocki box read protect heat pocki arriv perfect condit well stick togeth bit love asia anyth',\n",
       "       b'kettl chip realli care flavor nauseat said make fantast plain chip thick cut potato fri dark golden brown crunchi light salt sea salt cant recommend chip enough wont regret peopl say burnt arent take quick look youll see immedi kettl potato chip beauti tawni gold cook natur sugar select potato caramel creat chip light gold deep amber result flavor deep rich color artisan display everi bag also said chip oili true explain kettl food exclus use expel press high monounsatur sunflow safflow oil make kettl product oil natur free tran fatti acid hydrogen way taken extra step send product independ third parti lab test presenc tran fat result indic tran fat free mean none detect see zero tran fat list packag oili natur happen qualiti oil use find chip natur potato flavor also fan unsalt potato chip watch salt intak unsalt chip best get period',\n",
       "       b'kettl chip look feel tast like lay chip use favorit crinkl cut hefti longer favorit',\n",
       "       b'great work pop instant bag minut make coffe best tast coffe easi make without mess',\n",
       "       b'cant kind coffe maker work forc buy coffe shop starbuck across street economi one want pay high price start coffe club buy coffe bag separ creamer enjoy fresh hot tasti coffe everi day without pay coffe shop price thank folger',\n",
       "       b'great servic item arriv faster expect effici use seller high recommend seller thank excel servic',\n",
       "       b'love chip chip would buy discov england back quick becam fan year ago pick bag sale local supermarket find odd sale much took advantag open bag found chip even close kettl chip use uniform whitish yellow color flavor way love extra crisp brown chip gone complet disappoint kettl happen bought bag chip day differ tast cheaper dont know els put also notic chip seem less cook see browner color chip flavor hope noth chang ingredi process use produc product get weird batch buy kettl chip year wonder receiv thank let know experi kettl chip sound like may receiv bag slip inspect apolog potato vari season could account variat chip still tast greatthank provid best code bag realli help pass comment staff send coupon replac purchas kettl flavor nut butter believ great experi next purchas case buy product suggest avoid best date still rare instanc anoth bag case slip inspect time thank let know expect coupon arriv within week pleas let know help well next bag good sinc time pick bag chip like bad bag pretti sure chang product reduc cost research found kettl bought privat equiti compani cooki cutter manag process probabl employ kettl acquir compani high qualiti brand recognit sell product mass merchant lower qualiti cost product increas margin final sell compani custom base start realiz brand longer qualiti brand increas profit make compani valuabl paper make nice profit investor custom employe lose cours unsuspect buyer exploit brand stay away kettl chip longer',\n",
       "       b'albanes gummi bear ring good tasti high qualiti bear even littl face local candi store type gummi stuff bear ring snake ball worm whatev twin pack pound bag scream deal far concern probabl pound deep friggin thing consum',\n",
       "       b'best potato chip money buy enough salt tast much mask linger potatoey awesom youv wolf bag beauti chip perfect thick teeth get excit everi time put one mouth everyth chip perfect like made god deliv gabriel know amazon carri dont even leav hous buy may never eat anyth els',\n",
       "       b'mccann oatmeal good qualiti choic favorit appl cinnamon find none over sugari good hot breakfast minut excel',\n",
       "       b'chip one found tasti healthi fewer fat calori plus higher fiber want good tast perfect blend',\n",
       "       b'cant say enough good thing plocki chip purchas flavor black bean flavor plocki tortilla chip black bean rice bag pack love tast better well known brand satisfi never eaten tortilla chip didnt make feel guilti afterward plocki alway eat less feel satisfi actual prefer eaten dip keep bag desk work even lunch time grab someth bring work share friend love fan plocki chip continu purchas amazon',\n",
       "       b'arriv slight thaw parent wouldnt accept howev compani help issu full refund',\n",
       "       b'found year ago health food store bought one bag found stop store week get chip new york cheddar flavor good hard time eat whole bag',\n",
       "       b'grand item delici fish ultim flavor best ever purpos sent case mother recent diagnos diabet love main entre cook patti',\n",
       "       b'daughter love stuff natur made well good mix thing get older beat gerber',\n",
       "       b'profession potato chip muncher see thee best market rich tast flavor almost imposs finish entir bag true mean decad',\n",
       "       b'product purchas chip quit greasi',\n",
       "       b'ive purchas dozen bag pancak mix great product way highest price ive seen whole food carri item sale that canadian dollar canada even cheaper baker box websit theyr compani sell product amazon charg less give thought amazon could find competit price',\n",
       "       b'want find good flavor substitut mapl syrup barley malt brown rice syrup nice use madhava agav nectar bake good time alway pleas result time write amazon stock vendor howev stock price well bake ive use top waffl pancak small dose teaspoon ad oatmeal littl goe long way use agav use less agav nectar would anoth sweeten depend tast recip recip dri fruit need much less cut heat oven degre oil recip cut altern use tablespoon two sift coconut flour absorb liquid dont use much recip dri addit bake make sure mix wet ingredi prior ad dri baker might alreadi know rememb read recip first sugar typic ad dri ingredi unless beaten butter first agav nectar crystal like sugar wont abl substitut corn syrup make hard candi howev high recommend bake make everyth moister look less caramel flavor youll need use light version product equal good applic',\n",
       "       b'glad found mix make pancak without egg son allergi tast fine like mani way',\n",
       "       b'primari point review note packag less expens size offer folger get coffe less money recent start drink coffe laps mani year sinc didnt know mani cup day would use want avoid fuss coffeemak dont particular like instant coffe delight find folger bag brew nice tast cup coffe kind coffe expert dont know special term might use know let bag seep bit minut sure tast good thank much better half ive also learn bag produc least two good cup coffe conveni easi tasti intend take travel altern coffe maker yeck vend machin jerri',\n",
       "       b'first love packag make heatproof wouldnt problem order winter freakish cold also want thank veryasia free sampl goreng delici love goreng',\n",
       "       b'south live sometim get southern influenc gravi mix review pioneer countri gravi ive tri other publix brand cormick ect best far chose mix water milk cook chop sausag link phenomen bisquick chees garlic bisquit like red lobster serv small side watercress scrambl egg super easi make thick finger lickin mmmmmmm heard put potato veggi chicken make soup add season pioneer brand name say homestyl american classic',\n",
       "       b'min expir date month day bought product tuna tomato combin delici one mani item amazon everi month ad short video see combin look like wear one headlamp didnt good job focus tuna film doesnt look like mani peopl view product anyway',\n",
       "       b'cant say anyth bad sugar raw like better natur sugar better consist know doesnt matter better color unfortun one natur paper bag got torn bit box didnt look like box damag cant tell happen sort pain clean half bag spill insid box kitchen open sure solut order happen switch one brand ship unnatur plastic bag',\n",
       "       b'got girlfriend birthday fruit actual tast fresh yummi love dark chocol love dark chocol almond next time ill give organ version product someon close share',\n",
       "       b'potato chip delici potato chip approxim two year difficult find organ chip amazon lower price final chanc order definit order famili love pure void artifici flavor true flavor present satisifi need someth salti sweet spici crunchi',\n",
       "       b'price product certain rais attent compair amazon price local store get rotel local kroger dissapoint',\n",
       "       b'daughter love twizzler shipment six pound realli hit spot exact would expect six packag strawberri twizzler',\n",
       "       b'bought brand trial sinc tire pingo claim natur argument point bag brown color realli suffer eat chip open bag look like throw away dont know bad luck everi bag sell sure never buy brand',\n",
       "       b'first drink mother brought back visit home brittani franc thought delici wish bit cheaper love product',\n",
       "       b'drink green tea sometim purchas go syracus everi summer year stop go didnt know go buy tea spot amazon purchas pleas could get happi camper',\n",
       "       b'babi love rice lentil one favorit thing eat go somewher wont abl warm food eat one cold',\n",
       "       b'preschool teacher gingerbread unit everi januari vacat christma got back gingerbread kit found odd need one preschool class need less week look everywher could find ont one overnight amazon nye came yesterday pick one rudolph theme gingerbread came broken like unabl use would need glue gun get work broken non return call amazon nice enough order second one sinc spend ton money year one also came broken order lot amazon thing come broken think one time return someth broken order two thing row think kit noth ship say come up overnight come fed bubbl wrap well think gingerbread isnt good crack ship break rest kit cute first kit candi spill mess box second kit gingerbread broken candi bag bad would tri someth els stay away one',\n",
       "       b'son start eat around month hes month old one favorit unfortun dont carri local groceri store carri varieti earth one favorit spinach potato spaghetti chees carri whole food buy glad find amazon get tire ring gazillion littl jar store use base mix thing bit cook broccoli small piec meat ive also start ad spice introduc new flavor',\n",
       "       b'open immedi becam concern saw look like dri white crust rather fluffi frost packag recommend stir use gave tri crust indescrib gelatin goo best equat white version blue goop mother serv dinner better dead raisin though tri stir togeth end result gelatin goo white crusti lift knife spread long string goo trail knife opt make frost instead easi littl sprectrum palm shorten lot powder sugar tini splash vanilla tini bit salt rice milk need consist beat minut fluffi butter cream frost thought get cherrybrook wonder overh store whole food someth ive read posit review frost mix mayb ill tri next time',\n",
       "       b'kellogg mueslix replac local muesli previous serv european last trip avail local amazon provid fair price rapid deliveri ship cost prime ship excel form muesli',\n",
       "       b'hesit buy local groceri store lund sale bought bag ive found go beyond chip like cheddar vinegar usual result disappoint tri thai chip target archer farm aw kettl spici thai chip awesom much consid buy bulk amazon tast complic stimul differ part palat tast sensat preval real thai food bake chip sweet salti spici sour dont know chip addict',\n",
       "       b'fruit gift realli perfect gift everyth fresh well pack tasti look peopl receiv assur quit tasti tast tri chocol cover cherri surpris delici thank need someth pinch came even earlier expectedso thank dharana san francisco',\n",
       "       b'sent basket father birthday said fruit fresh sweet happi healthi purchas',\n",
       "       b'make tasti super easi meal fast high calori instruct say saut veggi first recommend cook chicken first chicken take longer cook raw chicken ontop veggi make slimi mess made snow pea carrot dont like littl corn ad red pepper flake heat serv ontop rice came wonder dinner tabl less',\n",
       "       b'alway pleasur find french product web market area made bargain carri noth mccormack bland tasteless season flavor cook bag mix ever find',\n",
       "       b'love cherrybrook kitchen tri almost product excit tri readi spread frost usual keep need ingredi hand box frost picki eater especi item contain sugar horribl consist absolut noth like regular can frost light fluffi gooey cannot even imagin tri spread cake would rip piec thick gooey even tri cake tast textur serious wast money',\n",
       "       b'like spici like spici enjoy theyr also crunchi chip',\n",
       "       b'got babi back rib strip jerki smoker wow season realli ad lot flavor surpris fact knew ad much season didnt turn power would recommend anyon cook kind meat jerki great rib outstand includ ship awesom deal',\n",
       "       b'love chip uniqu tast incred crispi textur use get henri san diego move order amazon sinc run constant',\n",
       "       b'possibl give product zero star would done huge fan twine tea excit tri new blend arriv home groceri immedi start kettl enjoy cup prep dinner sort wash chop item hot water ad bag steep prepar continu distinct odor hit thought one ingredi must rancid hunt around almost four minut realiz tea even clean air kitchen roommat later came ask smell save money purchas twine product',\n",
       "       b'mint realli strong great tast also conveni size carri pocket purs',\n",
       "       b'friend whod drink tea year introduc tea month ago even took store bought pound retail store littl ship onlin merchant think great ive drink earl grey english breakfast irish breakfast lapsang souchong assam etc ship asid lapsang souchong think great replac rest everyth look strong black tea enough charact keep becom bore current favorit afternoon tea unless your extrem jade tea snob youll love',\n",
       "       b'product work wonder stomach issu would buy need',\n",
       "       b'thing awesom perfect size truli wafer thin consist thick dark chocol minti interior like would happen could run steamrol junior mint first tri live germani year ago day mint come close copycat one disgust origin wont regret mint sleev pass without ever touch one eleg delici love',\n",
       "       b'achiev potato chip nirvana buy chip get tomorrow eat repeat best old school bbq flavor kettl qualiti incred price amazon mention delici terrif bargain',\n",
       "       b'awesom yummi flavor got healthi altern dessert normal eat glad mani thing jello dessert still tast good good definitent purchas product flavor wonder',\n",
       "       b'coffe compani deliv great coffe tast like coffe deep robust tast jeremiah alway make glad purchas thank',\n",
       "       b'start cat felida platinum week ago love shes older cat somewhat overweight grouchi tempera first mix previous food figur ate felida left old food shes felida ten day old food entir much sweeter happier cat think must agre better easili digest someth case happi purchas felida dont agre previous review cat dont like clear mine',\n",
       "       b'bought husband said best energi shot take one morn work hard day good stuff',\n",
       "       b'brand coffe avail local store time ive believ compani local ive drink quit time tire particular fond turtl sunda flavor good cant say ive bad one turn less expens order amazon show front door run local walmart get brainer tri like rich flavor coffe youll like',\n",
       "       b'brand granola bar realli good berri favorit howev bar almost ridicul small yeah gluten free food lot dens food honest normal size good tast granola bar realli tini tast great bar small',\n",
       "       b'strawberri twizzler guilti pleasur yummi six pound around son',\n",
       "       b'look great gluten free snack wont sorri chose product favorit flavor appl nut',\n",
       "       b'look less messi version licoric children sure tri theyr soft easi chew dont get hand sticki gross car summer beach etc love flavo sometim mix chocol nice snack great item great price high recommend',\n",
       "       b'better organ oat advertis elsewher take lot water minut oat oatmeal cooki come right crumbl soggi instant oat place cooki',\n",
       "       b'serious product tasteless come much better tast product calori better special bar cooki snack pack season combin someth els share flavor',\n",
       "       b'well open grayish sticki mess mad wast money tri make scratch home would probabl end better cheaper well live learn',\n",
       "       b'read review purchas pleas purchas numi tea gave general happi theri product',\n",
       "       b'month old time write great review like flavor textur great jar open easili great snack',\n",
       "       b'continu buy move home made finger food away glass jar shatter mani like flavor though great textur',\n",
       "       b'use daili basi keep gum healti teeth clean free plack',\n",
       "       b'love wintergreen altoid small much come write review packag small conveni altoid smaller well squar shape blue hue even delici tast opinion definit prefer altoid continu purchas high recommend',\n",
       "       b'trident strawberri twist sugarless gum disappoint tast consist strawberri flavor artifici tast though guess good thing long last gum also get stringi fair quick chew lot gum buy flavor recommend cfh',\n",
       "       b'found crisp local walmart figur would give tri yummi may never back regular chip big chip fan anyway problem eat entir bag one sit give crisp big thumb',\n",
       "       b'love strong full bodi qualiti tea typic drink assam irish breakfast earli grey tea review note price per pound discourag search qualiti full bodi tea wasnt bitter palat price point certain fit bill unlik tea tend better one form anoth ice hot tea excel form would certain recommend anyon prefer smooth full bodi qualiti tea doesnt cost arm leg',\n",
       "       b'tri despit review found exact tea buy either russian italian groceri',\n",
       "       b'purchas low salt inde low salt howev mani mani chip bag liter drip oil never encount problem potato chip brand unappet want oil never buy would recommend other',\n",
       "       b'ship price year expir date enough eat share box fresh like regular wintergreen powderi form real mint none',\n",
       "       b'made version cadburi chocol distinct tast version chocol eat sinc childhood like new tast friend india buy chocol either made otherwis disappoint',\n",
       "       b'tasti conveni bar peopl celiac diseas seem gotten smaller time tast conveni outweigh reduct size price',\n",
       "       b'tea flavor whole brunch artifi flavor return wast buck',\n",
       "       b'ahmad tea excel looseleaf tea eith hot make ice tea great flavor linger aftertast',\n",
       "       b'mani healthi product dont tast good tast good first tri downhil ive chip one occas tasti ive serv guest twice time want know get also nice someth friend borderlin diabet would eat anyway',\n",
       "       b'child facorit memori drink sassafra tea made fresh sassafra granddad never seen tea bag found get tast rememb need bag per cup bag rather fragil realli great product buy plus ship time great',\n",
       "       b'fantast product wish readili avail store tast greatest shot gone second tast less like concentr sweet tea record ive hour energi tast far wors put tast result got caffein equival big red bull monster cant stand sucralos sugar substitut one shot size energi drink sugar sugar isnt horribl use drink red bull day caffein give far better energi much subtl prefer black coffe cant drink cup day anymor overal steaz real organ ingredi moder amount creat big result',\n",
       "       b'first time order came melt amazon quick remedi situat send anoth product great thank',\n",
       "       b'product must qualifi sort decept packag award box contain bar wrapper smaller normal least interior box air unwrap bar find length normal snack bar rest empti air insid wrapper includ wrapper bar would occupi less space insid box far tast goe dri side hint berri flavor celiac use inferior product wont disappoint tast one ive also cooki suffer sort decept packag pictur side box show would consid normal size cooki open box find most contain plastic tray hold cooki size quarter realli want like compani seem tri hard come new product keep allergen product process ive continu tri product bought granola mani time alway want like worst food ive ever cluster hard partial pop kernel bottom bag popcorn fit gerbil peopl would recommend enjoy life food',\n",
       "       b'plocki chip made sever whole grain touch sweet littl lower fat sodium regular tortilla chip flavor perform tortilla chip ever eaten hold great salsa dip noth wimpi wish compani made bigger bag love usual found organ food section groceri seem difficult obtain shelf alway empti order case youll glad disappear fast',\n",
       "       b'individu pocki stick separ packag melt stick togeth ship',\n",
       "       b'cereal hard find local store live wife love cereal tast health whenev find hotel breakfast buffet happi man cannot think eat cereal',\n",
       "       b'pocki plain fun eat discov snack anim convent though heard seen manga charact eat slim stick biscuiti stuff flavor cross waffl cone pretzel charm tini pop crisp chocol flavor nice generic pleas seem popular given fast sell con prefer flavor strawberri like strawberri ice cream nice mean health food categori cooki got fat sugar ingredi hey junk food know suppos occasion habitu diet unless your realli prone cant stop whole one smaller box huge calori splurg stick reason number chocol pocki stick set back calori gram fat satur wouldnt recommend scarf multipl box fact nibbl slowli fun cool textur effect love flavor togeth like almond joy tri coconut chocol one theyr realli good man hubbi say tast remind girl scout caramel delight cooki turn similar old yes yes cooki seventi anyway read manga seen anim young folk eat treat seen footag cute japanes girl nibbl skinni littl stick treat eat fun treat howev crazi hot summer recommend look local retail wait fall cooler weather might get sticki clump mess pocki stick deep summer weather look local store special japanes anim manga theyll like carri japanes snack like south florida tate comic varieti flavor fresh melt',\n",
       "       b'bought chip want tri tasti sure uniqu differ flavor right thick remain crunchi spici flavor hint tabasco paprika sauc heat rice granul embed tortilla chip howev spice lack chip like much would recommend anyon want tri red bean rice tortilla chip put ingredi nacho except chees mayb pastor shred meat tomato etcetera',\n",
       "       b'product high qualiti rich full flavor deliveri unexpect fast negat would like see address product pack heavi paper sack may commonplac signific improv would inner liner heavi weight food grade plastic bag seal time open bag could either bag twist tie closur doesnt make differ need practic way preserv fresh product keep bug health spoilag issu oatmeal lot product need either repackag consum small food grade bag contain expens hard singl senior like buy stapl good bulk save money provid food secur long term storag big issu peopl like thom missouri',\n",
       "       b'triplet eat eventh one eat anyth consist way runni well stay spoon',\n",
       "       b'nasti greasi rich blood plus lack major flavor spici jalapeno flavor dissapoint chip alway hear great thing chip tell yuck yuck yuck give pain chip day mayb better kettl chip brand stay clear chip wish could give zero star could',\n",
       "       b'riba food base houston texa make awesom black bean dip pretti much natur without lard regular refri bean dip sure dalla hard find mayb riba mani good flavor make tradit dip instead refri bean think creat breakfast quesadilla verd sauc tri spici good',\n",
       "       b'get realli earli work work get super tire middl afternoon drink one hour energi usual extra strength day work well gave jitteri feel almost headachi quit husband got tri skeptic work well better hour energi doesnt give jitteri feel dont mind remind insid fig newton mmm price amazon anyway groceri store almost yike feel good right feel good',\n",
       "       b'sugar sweet deni advertis didnt melt bake either howev lieg waffl gaufr larger pebbl belgian pearl grain smaller think pretzel salt seed pearl',\n",
       "       b'everyon famili except one realli like tast addict includ year old',\n",
       "       b'second purchas kettl potato chip love much first time tri bought carton bag kettl chip bag enough singl size serv snack meal chip delici bake fri light salt sea salt fat preserv noth artifici use real food ingredi could ask great tast chip',\n",
       "       b'use love grow stop drink water lemon juic brand year ago stuff use strong use pour mouth get aliv feel go feel like product went chang ad water someth make strong stronger less use well product still realli good tast qualiti cheaper brand name almost thought would fast hey lemon stuff love unless goe bad good product wish still hit mouth chug sensat use like',\n",
       "       b'paid ounc pkg lunch today bought brown rice good carb soon tast one tast like corn chip check ingredi name decept masa corn flour list ingredi overwhelm tast wont buy get sunchip less money similar tast',\n",
       "       b'honest say worst frost ever bought kind generous call frost consist rubber cement sinc time crunch didnt luxuri go back store differ frost forg ahead decor cake horribl experi bad enough put cake decor forev spread easili chew gum stuck everyth came contact got crumb cake mix top didnt even tast good time done decor knew way could feed mess famili end go store anyway buy cake cake took twice long decor stuff gooey use centerpiec realli ugli centerpiec crack peel frost dri',\n",
       "       b'slight differ version differ brand son start use around six month realli enjoy get messi eat someth sticki juici like banana watermelon whatev anyway also troubl clean tri scrub nail veget brush work pretti well take time much would take run food food mill blender cut clean chair floor dog well get pictur',\n",
       "       b'green mountain nantucket blend make good cup coffe keurig elit gourmet system smooth tast brew wife prefer coffe peopl donut shop keurig brewer pack packag general drink morn good small larg cup set well high recommend cfh',\n",
       "       b'herbal addit blend destroy real tea tast peopl like herbal tast dont',\n",
       "       b'best way cook roast local groceri went buis could find product till look pleas continu keep product avail',\n",
       "       b'got girlfriend good stuff everybodi hous eat hight qualiti chocol mint',\n",
       "       b'one boy need lose weight didnt put food floor chubbi guy food higher skinni boy jump higher food sit go stale realli food chubbi boy lose ounc week',\n",
       "       b'first time ive use coconut oil manila coco factori pleas tast smell overal incred qualiti buy recommend famili friend glad tri use coconut oil sever year chang life health oil rank high book also like order product amazon make fast easi painless thank product site amazon',\n",
       "       b'dont know cant find supermarket cant get pack order afraid box would last long instead found need order anoth',\n",
       "       b'great describ use parti use pack honey coffe tea',\n",
       "       b'drunk ricor sinc mother allow drink caffein love stuff milk much smoother tastier instant coffe milk french live bring back box ricor everi opportun savora anoth hidden gem bring back check',\n",
       "       b'got sea salt vinegar chip kettl use salt vinegar chip white bag allow say anyway first impress wow chip get price got bag wow mani price tell high qualiti chip packag also well use cheaper chip wasnt expect mellow thing one use realli sour tast didnt mind ton flavor chip dont sour tast like lot less strong aftertast want tri salt vinegar chip suggest tri first price mani get chip defin worth thick crunchi like expens chip get high qualiti restaur recommend star',\n",
       "       b'pretti good regular style soy sauc good qualiti soy sauc buy asian market main valu uniqu gift japanes soy sauc world regular mild usukuchi raw fish sashimi light color bluegrass soy sauc regular style compar kikoman good commerci brand wide avail bluegrass start saltier flat middl end complex interest flavor kikoman less salti initi round full flavor middl doesnt complex end flavor initi salti bluegrass minus kikoman full middl flavor plus prefer kikoman especi dip sushi flavor direct live japan mani year use standard japanes flavor havent tri bluegrass blend food background flavor soy sauc usual use bluegrass perfect good soy sauc brand differ flavor everyon favorit want uniqu kentucki gift asian friend differ standard bottl bourbon box chocol',\n",
       "       b'use rotel mild love product save daili basi your tri cook lower fat healthier food hurri stuff make much easier ever notic can tomato weird tin tast make spagehetti sauc whatev reason product doesnt tast good dump bean heat eat add chili powder chili soup also make indian dish spicey spaghetti sauc also prefer can salsa work thing like quesadilla drain liquid none local groceri store carri carri anyth like pay amazon inflat price order case dont like pay higher price love love love product',\n",
       "       b'nantucket blend coffe one favorit supris singl box everi time order pack fault read closer order price count',\n",
       "       b'cooki tini broken piec useless upon complaint second mail arriv sever week later cooki crumb cooki pack box piti singl air bubbl gave feedback expect effort improv pack packag useless cooki enjoy highland past disappoint big wast money',\n",
       "       b'like better regular altoid theyr even cost youd better like',\n",
       "       b'glad found reduc rack tast bad way could frost cake stuck knife ran string mess thought gotten bad batch gds birthday cake look like crap would buy mess horribl',\n",
       "       b'soft smooth textur littl one devour one one best meat veg dinner found',\n",
       "       b'best coffe weve ever run american pavilion cann weaver far away popular coffe sponsor hundr peopl come pavilion everi day look american coffe disappoint boom busi year buy youll happi juli',\n",
       "       b'best coffe weve ever light tast full bodi pleas packag reseal keep stay fresher much longer unlik brand construct stay intact must say wont displeas purchas must buy',\n",
       "       b'love chip eaten alon sinc crisp tasti dip everi one introduc chip love expir date month order bag didnt come near go stale',\n",
       "       b'look strong flavor definit arent mild comparison mani other live tell ive tri chip get ahold best best heb storebrand world market bob zapp arent bad chip standpoint typic great kettl crunch your look flavor touch',\n",
       "       b'good qualiti brand chocol mani flavour one tasti fast deliveri',\n",
       "       b'got kettl chip sea salt vinegar bag impress tast kind flat eat bag look bag notic hole bag size sesam seed start look unopen bag mani type hole bag multipl hole one bag hole size dime bottom bag like rodent got box ship hole pack way much qualiti control ever let ship fire needless say ill never eat anymor kettl product expect full refund kettl amazon martin',\n",
       "       b'cadburi chocol use differ formula countri manufactur new zealand use cream australia etc version hershey expect england australia new zealand cadburi melt tongu like countri tast differ look silki smooth easi melt chocol find non hershey version hershey miss opportun introduc high qualiti cadburi chocol usa',\n",
       "       b'ive bought local supermarket enjoy although salti leav tongu roof mouth burn keep eat mani occasion get realli stale item amazon com one uned bewar qualiti food item websit special close due date case expir stale uned',\n",
       "       b'love sugar tast much better isnt over sweet tast regular sugar weve use quit bake item alway turn good price amazon set good make easi use everyday stuff',\n",
       "       b'best chocol world critic humbl opinion made unit state best chocol unit state made california ghirardelli chocol compani sure best chocol one find mani store mall etc throughout unit state actual store rare kroger martin former ukrop long list groceri store mani mall stock product never encount milk chocol caramel fill surpass qualiti chocol deserv poetri eat quick take time savor everi moment eat everi one choic',\n",
       "       b'love tasti infact think addict buy pack bag reason go target get bag save bag use subscrib save sever product love subscrib save',\n",
       "       b'unless realli realli realli like vinegar avoid chip call vinegar sea salt sea salt vinegar',\n",
       "       b'tast good appar cat think hes constant poke furri face around everi time pop open one absolut noth bad say know peopl complain poor packag believ mustv fix ive problem fact secur bubbl wrap place box arriv perfect everi time',\n",
       "       b'earth best eat one littl thicker origin chicken sweet potato favorit runni',\n",
       "       b'babi love one progress cut one runni move spoon quick way grabbi hand think could use littl less water mayb littl potato make consist turkey dinner one',\n",
       "       b'unless like salt vinegar chip salti eat actual pinch salt drink actual vinegar doubt like chip saltiest sourest chip ever reason stop throw away paid full box dont like wast food brown chip especi bad besid salti sour also tast overcook burnt unless rare kind take kind extrem tast like chip actual high toler sour tast bag chip bit difficulti normal peopl pleas tri home',\n",
       "       b'mccann oatmeal everi morn order amazon abl save almost per box great product tast great healthi',\n",
       "       b'could find local supermarket month ago nowher found everi time kellogg make great cereal quit make soon case right best stuff planet',\n",
       "       b'love stuff sweeten without affect blood glucos level could figur make tequila would set kid',\n",
       "       b'product disappoint review said gluey sticki textur akin elmer glue edibl food product flavor sicken sweet actual thought frost spoil bad save time paid make frost anoth brand cherrybrook cake cooki mix good hard believ even sell',\n",
       "       b'best deal ever deliveri fast chip delici fresh love',\n",
       "       b'love mold wish could use one occas didnt last use make sucker daughter first birthday go way mold could salvag would like kept use occas price didnt matter much serv main purpos',\n",
       "       b'okay would way buy',\n",
       "       b'great chip great price odd like fish chip soak malt vinegar love best salt vinegar chip ever love flavor mind spectacular deli sandwich sinc found palat intellig speci know afternoon snack mine unless cours run anoth heavi brain hearti breath like mind like tast bitter sweet salti vinegar crispi chip boot wont pucker sight handili bag morsel first time commit whole case chip mmmmm vinegar',\n",
       "       b'love earth best organ babi food tastiest one ive tri think pretti gross daughter still eat much enthusiasm flavor got decent amount protein import vegetarian famili',\n",
       "       b'look exot tea drink experi like white jasmin tea numi flower jewel worth look size jewel slowli open water form flower shape around central amaranth flower meant decor glass teapot must prepar tea decor mean tasteless white tea flavor mild rich sooth jasmin wonder overpow tea stronger jasmin tea one quit balanc tasti use small glass pot prepar abl get yummi infus jewel flavor scent began fade white tea tip plenti high qualiti dont get bitter seep long period must deduct point though high price tea ratio fragil flower jewel pour hot water direct caus piec fall infus flower start fall apart though fair main flower shape remain fair intact even come box start miss central flower bit leaf better packag might solv want tea experi look good tast smell entertain want convers piec numi tea flower jewel short list',\n",
       "       b'product receiv advertis twizzler strawberri bag pack',\n",
       "       b'offer great price great tast thank amazon sell product staral',\n",
       "       b'one best mint chocol syrup ive ever far other pale flavor comparison seven ingredi sauc includ organ natur mint flavor past use ice cream heavi flavor like butterscotch chocol chip oreo cooki caramel mint flavor mint chocol sauc pale buy plain vanilla chocol ice cream minti flavor santa cruz organ mint chocol syrup realli stand doesnt overpow flavor ice cream calori mint flavor appar tast use spare contain last bit longer syrup use',\n",
       "       b'sweetner best bring true flavor ever add great health beneft',\n",
       "       b'love sour food one cant bear strong sour tast even open bag sour smell strong dont like',\n",
       "       b'good flavor came secur pack fresh delici love twizzler',\n",
       "       b'best dog food market today numer ear problem cocker spaniel clear sinc take food',\n",
       "       b'subscrib one case everi three month come month conveni favorit chip handi whenev want seem manag crowd everi chip vendor pretti much local store best way ensur steadi suppli item want rather item want two ounc bag larger might use buy subway exampl find work well theyr larg enough good snack even share singl bag lunch size perfect ensur fantast crunchi chip alway fresh chip clip need problem subscrib four case year yummi chip alway pantri make realli easi increas one kettl chip consumpt definit hide case kid',\n",
       "       b'grape gummi bear hard find area fact pretti much anyon talk grape gummi bear think lie bought bear littl bit bigger brand kind sour kick noth strong love grape flavor candi soda pretti good anoth compani make grape gummi bear littl bit better opinion well worth price like use gummi bear home made popsicl flavor sport drink salt sport drink make softer popsicl gummi bear awesom frozen delici',\n",
       "       b'noth good bad chip like plain potato chip youd like thicker brand fresh box crunchi salti one bag lot general cannot finish part reason oili chip almost look transpar know mean tast oil bit overwhelm use spici chip may like sinc spice except salt name say dont think ill buy best date bag march order end octob',\n",
       "       b'order oliv lot oliv subtl flavor brine great chees one favorit appet treat guest',\n",
       "       b'would love say time make son food everyday case honest make time day dont time energi get done enter product bought babi food read review peopl say fruit like dessert yadda yadda yadda truth yes bit fruit sweet fruit mere bring flavor natur dont add anyth els great product enter protein babi diet consist smooth enough want add cereal also babi choke high recommend',\n",
       "       b'cooki fun paint tasti eat kid realli care much might fun could eaten realli fun color',\n",
       "       b'whole idea spongebob ginger bread pineappl realli great sticker say use date that good think would fun make cute decor son go want eat least seller could check expir date right front box happi',\n",
       "       b'small chocol cup specialti parti item never abl find past want amazon provid link use common call jello shot provid solid edibl altern small paper cup',\n",
       "       b'disappoint product thought would bigger also come enough ice use',\n",
       "       b'chip right amount crunch enjoy tast chip consist fair even distribut season like size bag right amount chip',\n",
       "       b'love coffe wish came alreadi ground dont grinder use blender instead worth mani flavor coffe ive tri seem flavor odor doesnt reach coffe one manag',\n",
       "       b'kettl chis best ever use favorit flavor tri salt pepper kind sure person prefer crunchi real potato chip',\n",
       "       b'heard littl product local pet store tri small bag cat year respect femal younger one took right away older male unfortun wean junk cat food corn meal etc would usual refus diet chang actual like older male overweight tri switch soft food doctor request total refus posh cat still consum mani calori fatti least know hes eat good food cours know product seem cost felin food market cant see feed anim lousi altern market healthi commerci show cat eat vegetarian diet most corn meal right ill stay stay tune updat review month use cat food two cat upgrad star realli good food two garfield still eat littl much hes big cat doesnt exercis much let face femal cat year old coupl month shes healthi shes tini happi agil tri chicken version holist select garfield seemd miss sardin version went back one ive order duck version updat tri',\n",
       "       b'despit come extrem larg box found great valu bag preserv reason expir date month away definit recommend',\n",
       "       b'pleasant surpris find item deliv day order speediest deliveri date probabl help locat near everyth look describ pictur happi done busi seller gingerbread hous care packag harm fragil piec insid excit give item gift',\n",
       "       b'serious tasti tasti tasti fresh problem pack lend want make multipl trip cupboard help grab multipl bag begin pace keep say cant wrong your fan salt vinegar classic flavor bag doubl size kid size one small gas station rack realli good size adult somewhat healthier snack typic bag fri chip calori per bag bad someth think delici',\n",
       "       b'son sever allergi item love conveni feel good give tast great',\n",
       "       b'that exact look bake chouquett puff small sugar pearl top work great yum',\n",
       "       b'sure review someth that subject tast suffic say like chocol graham cracker youll like doesnt tast exact like either that closest analog stick cracker kind dip chocol one end left normal cracker dont get finger cover chocol eat here nitti gritti detail box contain two individu seal packet contain probabl stick packet realli clever design littl slit cut fold part grab side pull open packag without hassl gotta love japanes product design anoth nice design touch open proper stick right top packet calori fat sodium term snack pretti good option contain milk wheat soybean sheanut issu youll want pass also say packag facil theyr manufactur also process egg peanut product doesnt use either disclosur nice your particular sensit either overal great snack great price pack realli packet that quit snack one note live hot climat dont order summer melt togeth ship duh',\n",
       "       b'good qualiti nectar tasti howev expect fluid ounc ounc weight find ounc weight make fluid ounc',\n",
       "       b'total orgasm chip best spici chip ever tast sign subscrib save option case contain fifteen full size bag chip price per unit equal per packag even cost plain chip add free ship fast deliveri deal steal run like stole someth comput order spici thai chip even paid go price still ahead curv enjoy',\n",
       "       b'best unsalt chip around tri mani best potato flavor came said would',\n",
       "       b'educ felin nutrit allow cat becom addict dri cat food alway offer can dri wish would fed premium qualiti can food limit dri food two year old cat two year old cat good qualiti dri food eat well innova innova manufactur recent purchas began look replac offer sever sampl local holist pet store holist select one usual well innova would eat finicki cat recommend tri holist select good qualiti food palat finicki eater',\n",
       "       b'got free anoth order place couldnt believ much cat love buy sure',\n",
       "       b'tri mani varieti bbq chip hand best market salti greasi great crispi crunch plenti good bbq flavor hint sweet brand fall short everi bag bag mouth water delici',\n",
       "       b'cat day probabl longer havent tri hell walk right stuff everi time even know hes hungeri absolut interest swear hed rather die starvat even take wiff',\n",
       "       b'made chocol chip cooki brm garbanzo bean flour result fantast brown sugar chocol mask bean tast review mention friend couldnt discern differ classic cccs textur bodi elast mean reduc tendenc fall apart occur flour nice chewi cccs made regular flour ad bonus high protein fiber level calcul fiber cooki fill satisfi smaller serv glycem index signific lower high recommend flour even cccs thing make',\n",
       "       b'love tea flavor yet cut grass flavor green tea mild even left steep becom bitter mellow flavor kid enjoy great without sweeten loos leaf tea steep leav unfurl long slender littl tea goe long way enjoy',\n",
       "       b'three dog love food bought specif one dog food allergi work great hot spot tummi problem love ship right door free ship',\n",
       "       b'whole box peanut butter dog cooki wont touch love beg good buy littl chihuhua big mouth per box',\n",
       "       b'son fanat excit find holiday season everi year version gingerbread knew read review wouldnt enough yellow frost whip edibl glue water confectioneri sugar hold level gingerbread make pineappl save yellow frost outsid work great realli fun idea enjoy creat licoric worthless though',\n",
       "       b'look pictur someon put show crush box write review bought chip numer time amazon warehous deal time came packag perfect sale end summer receiv case box chip fresh hard eat one bag hid garag rememb went way didnt eat far pictur person contact amazon made amazon great handl complaint person given perfect custom servic call amazon thank great tast product good price quick ship ill buy soon',\n",
       "       b'month month son bare ate solid food picki tri mani differ flavor various brand babi food hed actual finish whole jar didnt expect like sinc green veget scent guess wrong month old pretti healthi eater current favorit seem tofu still love corn zucchini brown rice carrot ingredi high recommend tri babi food also earth best make best babi food toddler food fabul well son doesnt realli like snack gerber brand like product earth best food tast great even adult good',\n",
       "       b'daughter extens food allergi infant toddler bought bar consist still nut egg allergi like trust manufactur know food safe unfortn last time purchas bar varieti hard rock daughter wont eat tri thought might break tooth subscrib cancel sever box one famili eat agre previous post want love bar love everyth compani stand actual realli like cooki someth chang bar even appet hope address issu certain tri someth enhanc tast address issu textur total bummer better past someth chang tast along new packag',\n",
       "       b'alway tri food feed daughter one actual pretti good daughter love get excit make',\n",
       "       b'yahoo deem give give suck review stuff doesnt like tast feel must assert matter gustibus non disputandem est realli love gum doesnt realli tast like strawberri still delici wonder smooth consist halfway get tire stuff squeaki youll forgiv squeak perhap find stuff wonder dietet aid obsess chew product fill gut odorless room air help lose month also doesnt lose flavor bedpost overnight',\n",
       "       b'wait ridicul amount time case bag arriv upon open box notic everi bag chew open mous dont know still box outsid porch son get home go pictur taken email amazon outsid amazon box intact either kettl chip peopl amazon warehous dont know never buy amazon cannot tell disgust purchas make sick think includ pictur top page poor littl mousi must high cholesterol forgot mention offer email pictur mous damag amazon told didnt want',\n",
       "       b'like vernor drink time old fashion drink michigan sinc label known love green gold color gnome charact look actual call ginger soda instead ale differ typic ginger ale tast vernor strong vanilla presenc smoother moist sweeter ginger ale closer cream soda ginger ale good ginger ale dri higher carbon spicier bite vernor gram sugar per versus gram per schwepp ginger ale neither caffein recip chang bit year most choic sweeten use high fructos corn syrup mega soda compani use rather cane sugar use use side corn syrup syrup drown flavor mani microbrew use cane sugar although cost get better tast vernor still age oak barrel year doubt account smooth great soda anytim soda also known like ginger drink use home remedi upset stomach vernor region soda mani area countri cant find sell may sell glass bottl soon least page say day write comment search amazon see mean vernor quit histori two book amazon soda first vernor ginger ale imag michigan second book vernor gnome book compani market green gold packag famous gnome vernor fan',\n",
       "       b'usual make babi food easi steam fruit veggi pure sometim dont enough time cook buy earth best babi food babi like fruit veggi far didnt like one refus eat tri understood wouldnt eat either tast nasti poor babi immedi made homemad potato zucchini asparagus pure love wouldnt recommend flavor',\n",
       "       b'tri guayaki energi shot dont like tast either one natur caffein tast much better like cold sure husband take road trip littl cooler ice water dont make stop coffe especi turnpik way expens worth per shot normal split realli sensit caffein even natur kind get littl weird drink whole thing that coffe husband drink whole shot get nice wake boost would recommend sinthet shot feel good put bodi ill order soon sure',\n",
       "       b'first bought pickl asparagus amish market love first bite henc saw discount rack local safeway clean even better one amish market fantast jar bonus clove garlic bottom go order six pack household one wont wast',\n",
       "       b'nut arriv fresh tasti broken dirti look like cashew sometim',\n",
       "       b'live yrs miss twizzler back visit someon visit alway stock say yum sell mexico faith buyer often abl buy right',\n",
       "       b'lifetim tea drink honest say best earl grey ever tast order number time batch consist excel even given gift contain superb keep loos tea fresh metal canist inner lid lift attach knob tea stay dri fresh length time take use favor like earl grey treat tea',\n",
       "       b'alway fan kettl chip open bag kettl chip know go get qualiti chip except live name print packag new york cheddar chip subtl flavor tast cheddar doesnt smack face like supermarket brand chip might tast linger well definit plus anoth aspect kettl chip fact everi chip nice crisp crunch mouth top burnt chip bag sinc purchas negat might flavor chip uneven chip might pack nice cheddar punch anoth might tast rather plain isnt big flaw happen get season doesnt ruin bag overal qualiti chip fantast flavor great wont disappoint especi cheddar lover',\n",
       "       b'hey descript say gram rough ounc per way approxim price gram',\n",
       "       b'never life tast good babka crazi good real babka gram mother use make',\n",
       "       b'month old absolut love one far favorit jar babi food like lentil add bit protein averag babi food readi introduc meat yet subscrib save bring price jar that fair price amaz deal rough equival sale price groceri store bigger issu particular blend hard find whole food regular groceri store target carri earth best blend daughter like much though would still buy even price bit higher store price good one',\n",
       "       b'product say gave star howev issu product name famili member cant take smell tast horribl put lotion cream rub skin week ago though ive sinc chang sheet scent still bed ultim stop use made smell way like smell like indian spice didnt work may work fine someon els',\n",
       "       b'realli love sugar much cheaper buy amazon compar anywher els',\n",
       "       b'pup experienc allergi form hotspot itch dog food cheap buy anywher food crazi preserv caus health problem pet food work wonder reduc allergi dog love food messag ramsey frankenstein approv',\n",
       "       b'whatev reason son realli like flavor fan one eat time get varieti veget babi one sit happi mom',\n",
       "       b'bought strawberri extract hope spruce strawberri wine end less flavor origin expect common problem fruit wine inde good strawberri flavor add sugari concoct bake good dessert drink either give strawberri flavor add exist flavor presto everyon lick lip mayb finger interest found right addit liquid volum extract per gallon liquid',\n",
       "       b'never huge coffe fan howev mother purchas littl machin talk tri latt macciato coffe shop better one like product usual drinker littl dolch guesto machin super easi use prepar realli good coffe latt cappuccino etc less minut water heat would recommend dolc gusto anyon good price iam get one',\n",
       "       b'drink tea long time use purchas doctor offic wasnt avail elsewher glad buy amazon com drink tea throughout day like folk drink coffe wonder tast',\n",
       "       b'gave tea tri add varieti tea habit glad somewhat sweet almost minti tast wonder aroma nice reddish color tea probabl tast factor wonder japanes green matcha tea ive look forward experienc purport health benefit rooibo ive read',\n",
       "       b'sugar good use coffe cereal etc week youll never back white sugar white sugar tast terribl plus ive read raw sugar contain lot miner miss diet product deliv fast complaint price wish could find raw sugar cheaper would happi buy bulk cheapest found',\n",
       "       b'sent week past fresh date stock chip notic fresh tast wont order add danger expir stock one bag rat hole black mark insid hole obvious rat unfortun put chip mouth saw hole bad form amazon',\n",
       "       b'tangi prevent eat mani hand two trick crisp savori',\n",
       "       b'natur recip divis mega compani del mont food test neat thing food realli look like photograph bag consist smallish kibbl piec dri carrot pea mix bag first open girl ate small amount farm select unmix readili took sinc theyv eat mix blue food thought evi piper might fuss dri veget dont specif target veget leav behind qualiti food obvious one read ingredi list one ingredi anim digest make cring littl girl dont mind bit good alon heartili recommend natur food price relat high rachel ray dri dog food exampl half price farm stand select buffalo blue price household like three dog farm stand select pricey feed girl exclus wed feel oblig mix anoth good less expens food one pet money issu say cant wrong farm select',\n",
       "       b'one son favorit babi food bit sweet sweet runni flavor use deeper spoon one add littl rice cereal thicken',\n",
       "       b'great healthi chew old beagl rio love tast sure beat arm',\n",
       "       b'chip great first bag howev first bag two notic remain bag damag hole bag black sticki stain outsid review bought around time claim found rodent hole bag chip chip came seal kettl box hard say screw someon somewher screw chip health hazard hole bag like game roulett',\n",
       "       b'make coffe creamer part commerci coffe creamer vanilla butter creme almond bavarian creme flavor rest milk tast wonder half price excel',\n",
       "       b'dont usual drink tea love one thought ship price littl high love tea much get perfect littl bit honey',\n",
       "       b'look natur energi shot work found steaz energi shot favorit recent gastric bypass surgeri ton sugar also allerg sucralos splenda energi drink tri bazi energi shot didnt work well steaz definit didnt tast well tast that almost like bad your look natur energi give tri',\n",
       "       b'one green mountain best blend coffe opinion love everyday blend perfect stregnth excel blend',\n",
       "       b'tri might like quit addict easi prepar tast great absorb flavor cook price realli good well worth purchas like type couscous like give one tri eaten hot room temp cold salad varieti green flavor take flavor well mix cook couscous broth oiliv oil ad flavor rock tast bud big time back',\n",
       "       b'grew ohio live wood sassafrass tree plenti would dig tender root bark tree delight tea purchas breezi morn sassafrass tea although quit good expens averag size tea bag ship much product good bargain switch pappi extract',\n",
       "       b'fed cat lot stuff boy cat picki eater love purina love nutro love iam love whatev feed review base affection owner love certain age instruct vet consid senior lower carb food catti fatti tri type food evinc chang made litter small kibbl cat barf didnt chew swallow felida done trick problem speak consist litter bearabl nose cat love kibbl size appropri chew here feed cat felida demeanor improv coat super soft new improv direct attribut food loyal felida consum addit absenc corn product feed seem lessen remov reaction friend',\n",
       "       b'three jar came form edibl babi rest fill clump spongi mush would mix water also brown color yellowish brown like jar good mixtur pretti disappoint wast money',\n",
       "       b'one best lemon juic tri recur custom due high qualiti product season fresh lemo one supplement need citrus kitchen refresh continu buy',\n",
       "       b'love aroma tast fruit vanilla combo addit ginseng ad energi boost round tea nice sweet tea make wonder healthi altern desert dinner see other didnt like realli matter person tast differ cours differ hors',\n",
       "       b'cute product use place sprinkl bright color candi coat look great chocol center keep over sweet howev price rough doubl pay michael marshal stock stuff like plus get product bag amazon www amazon com come prime ship',\n",
       "       b'alway amaz dozen review extol fine qualiti tea drunk pretti much everi day last five year never get tire excel morn tea smooth without insipid almost imposs ruin oversteep use decent water like littl stevia wimp bring natur sweet malti slight floral style bought anoth two pound',\n",
       "       b'littl tin sugar free mine mint great deal perfict fifti mint per tin right amount cari along safer teeth one sugar price twelv dollar reson also great share look mint tri one youll glad',\n",
       "       b'like thick chip tran fat natur accord info bag flavor that subject thing bag keep eat much one time set limit bag anoth review said there lot oil chip place paper napkin plate pour chip wait min eat napkin soak oil seem gross much oil chip napkin soak true least way youll get rid oil',\n",
       "       b'salt vinegar chip definit favorit type potato chip one made kettl tasti enjoy thorough wish healthi option great tast',\n",
       "       b'convinc human anim cracker look tast exact like human one yes tast contain sugar one last ingredi nutrit fact either ill give dog small amount',\n",
       "       b'twizzler brand licoric much better well known brand get packag free good deal black cherri good strawberri tast delic bare',\n",
       "       b'want post found small bit plastic food feed month old plastic food babi food pleas care buy consid daughter love actual favorit first time notic plastic month',\n",
       "       b'mccann make oatmeal everi oatmeal connoisseur whether one like raw pellet state cook half hour sloth addl instant done microwav three minut good that sure beauti instant varieti avail differ flavor well regular varieti pack allow differ tast explor well give chanc experi differ mccann oatmeal person like mccann cook thicker bodi top brand america appl cinnamon though tend littl liquidi may want experi amount water add microwav oatmeal cook one minut second also watch get handl much time water use bad thing consid bad thing offer buy lot youll end six box good whole famili your singl person alon well love oatmeal',\n",
       "       b'like oreo oreo cakest youv got tri doubl stuff cakest best side ship slow mayb chanc better',\n",
       "       b'use eat spici thai flavor time msg make bodi unhappi one flavor chip msg free chang whole recip make instead real food ingredi like use most process chemic garbag bunch salt msg stuf label yeast extract remov msg label know well worst part though tast horribl instead crisp oili full charact say cook like kettl someth instead color uniform bake lay spici thai flavor tast like sour cream onion ranch gone rancid shame kettl chip seem slowli move one flavor time new cheap ingredi list manufactur method dont fool pay premium price chip premium product anymor',\n",
       "       b'tast white cheddar flat bread like regular cracker bad except bought want chees tast huge disappoint mislead packag box photo box bought store make look like full long flatbread expand length width box wrong plastic tray hold cracker smaller around leav small flatbread also bad compani state use biodegrad packag fail use huge box ridicul small amount cracker ecofriend would buy feel rip cracker like sesam tarragon give littl bang buck flavor',\n",
       "       b'use raw sugar seem littl smaller normal crystal still good buy',\n",
       "       b'black tea everyday done past year habit mine ahmad tea one favorit brand high recommend like black tea think go remain favorit next year',\n",
       "       b'product fresh good get complaint anymor that worth larg quantiti ship charg hey oatmeal favorit',\n",
       "       b'mueslix favorit cereal sinc came year ago howev improv ad raisin nut point make rich simpli add half grain cereal cornflak also reduc high price store keep discontinu mueslix point hard find thank amazon',\n",
       "       b'thing huge love way crystal crunch flavor overpow subtl lemoni flavor good almost everyth youll plenti flavor salt long time buy',\n",
       "       b'varieti pack tast great everi morn cent per meal dont understand everyon earth isnt buy stuff mapl brown sugar terrif follow appl cinnamon follow regular dont get tire ole thing tast great boil water small pot empti packet bowl pour boil water watch expand size tast realli good take minut prepar sure everyon earth isnt conveni healthi quick excel qualiti extrem cheap',\n",
       "       b'local store stop carri product put imit brand shelf great could order cereal within day',\n",
       "       b'year old basenji jack russel mix love dog food hes notic healthier energet sinc switch standard dog food earlier year despit higher cost natur dog food find eat signific less natur balanc dog food still stay happi full normal dog food hed eat cup dog food day recommend serv size wherea eat cup cup natur balanc dog food day take account your actual get bang buck natur dog food sinc dont buy much last long normal dog food healthier happier dog boot add fact get free ship amazon prime sold',\n",
       "       b'bought sever vital can dog food product found good qualiti product look like stew process meat smell better labrador finicki appreci product better',\n",
       "       b'well big red fan bought first let tell price amaz mean els get type deal saudi arabia everyon villag love cours wonder next shipment get',\n",
       "       b'purchas pack big ass soda got immedi like man gonna suck regardless quantiti error though sure kick red everyon town absolut love high recommend along soda voltag',\n",
       "       b'trip itali muesli hotel breakfast cold cereal love imagin excit saw kellog sold product despit similar name cereal quit unlik muesli overal mix grain fruit similar cereal most flake cereal true muesli cereal flake real muesli made roll flake pluse minus plus side milk turn european muesli mush coupl minut like flake cereal minus side european muesli soak milk yogurt ten minut shower coffe brew cereal bit chewi side concern eat process food roll grain process less flake one roll grain light steam roll light flake grain fulli mush press flake fulli bake usual spray sugar extend certain kellog product contain hfcs owe tri one mani muesli amazon better yet singl box local store one see prefer eat bob red mill product avail amazon one local groceri chain instead much satisfi havent tri familia crazi idea fruit flake dorset product fruit nut heavi product hair expens kellog will plunk extra dime per breakfast far superior product surpris quaker doesnt sell muesli product given largest produc roll grain youd think would natur fit',\n",
       "       b'food especi design cocker spaniel rang health issu use product three dog happi also packag well result stay fresh long period time great product',\n",
       "       b'almost cant stop eat cereal eat breakfast even think want someth eat realli hungri snack healthi long rememb healthi eat cup enjoy',\n",
       "       b'love candi weight watcher cut back still crave',\n",
       "       b'kettl best brand market realli know turn humbl potato someth fit god didnt think anyth could top salt pepper chip new favorit flavor pure real great everyth high addict hope come low fat low fat chip excel need flavor',\n",
       "       b'kellogg mueslix cereal order one even coupl day later arriv item well pack content fresh encount problem plan use resourc',\n",
       "       b'rememb buy candi kid qualiti hasnt drop year still superb product wont disappoint',\n",
       "       b'italian live itali year use buy cooki everyday breakfast italian espresso couldnt find anywher bay area great',\n",
       "       b'like anim cracker eat price great littl guy love',\n",
       "       b'amazon price may higher groceri store isnt store good way shop first tri princess cruis ship found good fill stay import super pleas find',\n",
       "       b'delici soy sauc ever tast sure order deep flavor',\n",
       "       b'tri find isra couscous number upsacal groceri store luck decid tri good ole amazon com select product good add herb great side dish add make pasta type salad good hook great flavor easi prepar',\n",
       "       b'watch episod thing made discoveri channel saw bluegrass soy sauc featur whim order bottl took sever week arriv surpris teenag son want tri love immedi put mani thing wife pleasant surpris like much past made mani trip far east develop real like soy sauc virtual made treat find handmad american product compet win japanes chines nation stapl',\n",
       "       b'grew yunnan tea child alway mother favorit happi find econom sourc qualiti great larg volum habitu tea drinker like tea daili regular tea yunnan nice brew dark need much time aromat flavor without addit want someth floweri yet subtl earl grey yunnan keemun may nice option explor',\n",
       "       b'individu wrap piec delici although wish mild sweet aftertast even tradit enjoy',\n",
       "       b'look replac timothi kona blend longer carri amazon coffe green mountain nice strong enough like milder coffe one',\n",
       "       b'great ham soup base use ham bean season greenbean great flavor',\n",
       "       b'purchas littl treat stock stuffer littl furri friend yorki love treat final buy sinc like much',\n",
       "       b'couldnt find anywher line worth wait trulli great tast cooki',\n",
       "       b'heard great thing sassafra want tri worri tast turn lot better anticip actual gonna order continu drink time dont trust fda',\n",
       "       b'spici thai chip use best tast chip market howev kettl food chang ingredi use ginger import miss notic remov ginger attitud bag sad chang ingredi ruin chip arent good anymor spice level virtual origin new ingredi origin ingredi select potato safflow sunflow oil honey powder evapor cane syrup honey salt garlic powder jalapeno pepper ground ginger onion powder habanero pepper dri parsley citric acid cilantro extract ginger oil cayenn pepper white pepper lime oil new ingredi potato safflow sunflow oil sugar dri cane syrup salt maltodextrin yeast extract spice garlic powder onion powder dri parsley jalapeno powder citric acid natur flavor lime extract assum chang ingredi order cut cost new owner blue diamond might want get rid great tast natur bag dont consid maltodextrin natur great job kettl way ruin great thing',\n",
       "       b'hard get husband eat breakfast school take two bar happi often hard find flavor local groceri store amazon com came reason price came keep husband breakfast readi run door morn often like bar even night snack',\n",
       "       b'son bought packag jalapeno potato chip coupl week ago becom addict first kettl chip appear somewhat better term fat etc mani chip one perus dietari inform second individu chip nice crisp good crunch valu munch away third jalapeno kick over hot cours mani product label spici kick bland get slow notic burn jalapeno prefer bit heat understand consum would prefer somewhat less would still decent spicy pretti happi product week sinc first bought purchas packag week foray local groceri store',\n",
       "       b'chip nasti thought someon spill drink bag chip soak greas nasti',\n",
       "       b'dont know everyon els got broken receiv came wrap plastic bubbl wrap singl jar broken son love price great issu',\n",
       "       b'great product look msg gluten free product also lower sodium marinad soy sauc doesnt compromis tast either use soy sauc substitut found superior tast look act like good marinad celiac gluten intoler even watch salt intak product way steak marinad',\n",
       "       b'royal canin recommend dog sinc line dog food specif breed difficult find store petsmart petco carri cocker spaniel formula smaller bag much expens per ounc ratio find larger bag great deal cocker love food',\n",
       "       b'look secret ingredi robitussin believ found got addit root beer extract order good made cherri soda flavor medicin',\n",
       "       b'tri liter dozen tea sinc introduc russian custom prepar drink tea ahmad imperi blend probabl favorit due fact equal delici hot ice buy need amazon rapid famili love friend home tri one box love',\n",
       "       b'well worth money calcul differ bag dollar amount excel valu approx pop box far ive half box found without wrapper that pretti good consid need product enjoy',\n",
       "       b'disappoint product could see mani calori time order receiv see calori per tablespoon granul sugar calori per tablespoon could agav nectar better sugar',\n",
       "       b'like creme brule love easi sprinkl sugar came broil look amaz tast great guess thought realli went way realli took minut order',\n",
       "       b'bought daughter grad parti well strawberri love thing theyr great product',\n",
       "       b'bought back januari never got around review heard mani peopl rave japanes snack call pocki figur would tri like descript state biscuit stick cover chocol wouldnt say tast mind boggl easi eat virtual mess well long chocol doesnt melt anyway case anyon wonder order seller name asia amazon com help seller believ took around week actual get mayb import came well pack damag whatsoev definit consid futur cant find local store oct type pocki seller final decid restock couldnt fight crave anymor unfortun batch time good order differ seller cheaper amazon prime receiv pictur shown front page per pack japanes pocki per pack thing thailand opinion giant pack compar smaller pack definit step back packag fine order octob weather bit cooler aka melt chocol arriv front door stick coat type thick chocol bit bitter tast similar dark chocol milk chocol origin japanes pocki melt almost immedi mouth one melt slowli sit mouth person like tast dark chocol use pocki flavor also terribl self control buy thing come small portion order eat everyth avoid make fridg mess clutter ton open item honest say wont over come batch pocki stomach dislik much wont chang origin rate still hold true japanes pocki rate thailand pocki would tast isnt terribl definit like possibl upload pictur receiv',\n",
       "       b'one best tea ever tast clean bright fresh great deliveri qualiti tri',\n",
       "       b'bought husband current oversea love appar staff like also generous amount twizzler bag well worth price twizzler strawberri bag pack',\n",
       "       b'get worri read review specif one star review alway see fault review find merchandis would prevent buy wow sure seem hate kettl chip backyard barbecu bag pack bought ounc bag like lot decid subscrib good measur got order ounc bag yes love potato chip especi kettl chip backyard barbecu flavour other seem realli hate least hate chang realiz talk flavour amazon deep wisdom obvious seen fit put comment concern flavour kettl brand potato chip togeth cours advantag lover like enjoy eat sever flavour brand varieti comparison made easili also lover person favourit flavour review sort unit nation potato chip lover differ unit love potato chip rest world realli benefit exampl ever expand group think first realiz differ flavour review togeth caus littl confus dismay least begin amazon mention kettl potato chip review forum happi report kettl chip backyard barbequ flavour total delici least bag hope product ounc bag tast definit chip adult howev children whose tast bud withstand strong flavour chip strongest flavour ever jalapeno pepper chip far strong even backyard barbequ chip kettl howev right amount sweet honey powder onion sugar take edg stonger flavour paprika chili pepper cayenn pepper natur smoke flavour less come list ingredi sweeten complet list ingredi kettl backyard barbecu chip bag hope ounc bag well potato veget oil safflow sunflow oil honey powder dri cane sugar honey rice powder sugar salt onion powder tomato powder paprika torula yeast garlic powder chili pepper citric acid cayenn pepper paprika oleoresin colour natur smoke flavour natur cook natur ingredi combin true tast treat cours ptato chip moder key potato contain lot potassium give energi othr good thing much damag kindney veget oil great much oil well much starch potato hurt eye natur smoke flavour yummi well sugar larg amount link cancer product far starch potato oil amelior bit drink tea good eye far potassium energi good much bad kidney sugar natur smoke flavour much lead cancer product thing good everyth twice three time month allow call potato chip diet eat one larg bag equival small one potato chip day supplement tea coffe lemonad well sever serv carnat instant breakfast essenti like dark chocol flavour add fewer calori would normal eat normal three meal day plus snack also teach eat one big bag mani littl bag never last long like anyway excercis sensibl eat rest month keep scale nearbi weigh least twice day everi day ive taken ten pound last three month backyard barbequ flavour potato chip kettl total scrumptious except jalapino chip tast good far spici tast bud yet meet potato chip didnt like eat kettl backyard barbequ flavour potato chip combin potato sweet spice truli becom one top five favourit first favourit flavour potato perfect',\n",
       "       b'male maltes dog enjoy old roy puppi biscuit walmart couldnt find desper find treat would measur order six bag peanut butter cross finger arriv littl guy love get one biscuit bedtim sleep crate hear touch bag treat beat path crate high excit big hit well worth price high qualiti even smell peanut',\n",
       "       b'condiment overpr terribl classic disgust sweet spice tast like bad spici marinara sauc chain restaur',\n",
       "       b'love jalapeno chip kettl must tri nice crunci kick jalapeno delici addict recommend',\n",
       "       b'done lot research find best food cat excel food also accord holist veterinarian put probiot kibbl last step import best thing cat love immedi stop mix old food would eat holist select',\n",
       "       b'poland spring driver gave new tea tri famili realli enjoy look ingredi quit pleas natur ingredi calori',\n",
       "       b'extrem fragrant full bodi steep twice nice contain organ price tao tea blue flower earl grey black tea best earl grey ever tast would recommend anyon tao tea blue flower earl grey black tea loos leaf tin pack',\n",
       "       b'chihuahua love lil snack see bring yellow bus liter run circl',\n",
       "       b'wow soooo good easili becom favorit dress typic make dress howev use one treat given gift absolut love perfect balanc sweet oili bitter grant need good shake sinc oil base absolut love sad run eat salad like everi day want dress uniqu never somebodi didnt love',\n",
       "       b'fair one twin got gas horribl night scream gas pain garbanzo bean ideal food young babi',\n",
       "       b'ive tri varieti ahmad tea particular like brand easier come across imperi blend believ complex yet well balanc one ive tri full bodi like good cup assam mean overpow delight clean tast darjeerl complet long last note bergamot enjoy best even give satisfi relax finish busi day interest use teaspoon lose tea stainless steel infus mug let steep water min take infus drink without sugar milk savor sophist',\n",
       "       b'low glycem index diet help control blood sugar hormon level nutritionist recommend agav nectar sweeten sinc index low oppos honey low sugar ive tri supermarket health food store wholesal club price usual around bottl use like honey substitut everi sugar reduc liquid also use carrot cake recip equal substitut instead sugar substitut whole wheat flour instead white flour dont decreas liquid delici youd never know that actual good',\n",
       "       b'want organ energi shot choic one steaz assort flavor guayaki guayaki yerba mate actual steaz energi shot energi drink use sambazon acai similar ingredi great energi burst hour steaz energi shot withdraw headach afterward plan drink one everi day lunch work help cut ice coffe help calori intak alreadi order subscrib save per month great valu',\n",
       "       b'happi qualiti product price like review would prefer plastic liner preserv fresh howev continu buy product regardless qualiti oatmeal good price bag qualiti continu high',\n",
       "       b'natur balanc dri dog food lamb meal brown rice recip wonder jack russel aw food allergi food last hope last food could find didnt someth allerg problem eat dri normal mix natur balanc dri lamb brown rice natur balanc wet lamb brown rice seem like better start feed dog bichon love dog allergi stomach issu want dog eat better see differ pet',\n",
       "       b'cant eat oat funni tast kid also think tast funni husband think pound oat eat',\n",
       "       b'order fair bit search onlin even order smaller bag admit bit sceptic order sinc cheap idea good bad cashew would order came pretti fast like day cashew fresh whole like broken piec bag seal clear tape first found odd turn good consid second pack stay fresh till open trick actual keep box stay fresh longer negat think price went abt sinc bought',\n",
       "       b'receiv quick extrem well packag sinc smaller size basket would ador present anyon like tea self hand nice assembl attent detail',\n",
       "       b'gosh good like peopl ive eat ketchup whole life never realli thought anyth hubbi brought jar home tomato flavor amaz never buy store ketchup everi',\n",
       "       b'daughter favorit babi food far one shell eat rare eat kind howev tast bland adult least put unfinish portion fridg may becom sort wateri point throw uniqu other combin veget especi zucchini updat review today saw littl piec thin stretchi plastic two jar babi food plastic babi food notifi earth best send piec plastic test give babi food even though like that',\n",
       "       b'thank product use time appreci prompt price excel thank',\n",
       "       b'enjoy mueslix sinc earli reason locat mueslix local supermarket new york order amazon tast perfect sweet care much raisin cereal enjoy great enjoy way supplement fiber whole grain perfect breakfast last lunch time tri differ kind choic mani cereal noth like',\n",
       "       b'vile miser pancak put front toddler one morn actual cri dont know flat anem appear salti bitter tast whole wheat flour organ mix buttermilk bake soda sls sea salt go back natur path buttermilk pancak mix one went straight garbag',\n",
       "       b'delici sugar pretti light brown color delici aroma granul quit big howev bigger plain refin sugar make difficult cream butter sugar togeth use recip melt sugar first bake use brew beer plan boil melt great product would perfect sugar granul bit finer',\n",
       "       b'struggl find shop nearbi much conveni order amazon slight expens save gas burden',\n",
       "       b'use porcini mushroom cook twenti plus year roland extra fanci porcini purchas best ever use includ mushroom bought itali transport back usa',\n",
       "       b'year old male cat chronic urinari tract infect feed dri food combin wet food water ad uri eas combin seem keep uti control switch anoth type dri food uti get wors cat seem enjoy food well expens seem best solut',\n",
       "       b'green mountain favorit brand nantucket favorit coffe green mountain smooth flavor strong weak',\n",
       "       b'husband twizzler addict weve bought mani time amazon govern employe live oversea cant get countri assign theyv alway fresh tasti pack well arriv time manner',\n",
       "       b'new food allergi son diagnos sever sinc hes still breastf drastic alter diet learn brand stuck eat chicken breast potato everi meal stumbl upon local whole food excit tri overal realli like got pretti good textur tast heft dens want gag two bite also light eat whole box realli isnt big know alot peopl complain size packag agre somewhat bar ounc calori par mani breakfast bar like berri flavor best closest real non specialti flavor over grate bar tote sever diaper bag car know realli need quick snack wont left strand',\n",
       "       b'spaniel tri sever food year one eat without peopl food ad cours still treat occasion went month appoint vet told take home teeth didnt need clean anoth month least special design teeth health need love actual cheaper fanci pet store could ask',\n",
       "       b'awesom product ive order mani time flavor lower glycem sweeten that great coffe tea',\n",
       "       b'couldnt believ told relax beverag serious drink get readi nap bedtim plan drive perform activ recommend feel arm leg almost tingl relax short time eye start get droopi anoth place love stuff',\n",
       "       b'love cereal tast good good piti cant find cereal local supermarket brand match',\n",
       "       b'love chip bought stock entir school year chip tast great packag seal good condit arriv box hand tatter hole compl squish dont know result custom voyag receiv bit disgruntl given fall apart luckili victim within chip',\n",
       "       b'bought coffe much cheaper ganocaf organ reishi mushroom well healthi antioxid didnt expect tast good actual ive day total worth sister take ganocaf introduc less expens similar coffe follow product week',\n",
       "       b'bought offic give peopl someth sweet snack bite size easier peopl grab coupl piec rather entir licoric stick complaint one bag broke open ship',\n",
       "       b'ive eat ramen noodl sinc littl kid ive never found better flavor hot spici chicken isnt hot chilihead like sure good',\n",
       "       b'noth like regular altoid breath mint littl candi cute conveni tin that far goe minti strong wintergreen definit weaker peppermint mini person still one mint small effect breath four five freshen breath short mayb minut point think icebreak frost mint best sugar free breath mint',\n",
       "       b'bottl arriv time sushi dinner game night plan friend three soy sauc choos sampl use bluegrass everyon enjoy light smooth subtl sweet splash right everi piec rather dunk dip friend want know found go back order right ill order extra bottl go make great littl gift that afford instead tradit bottl wine common bore',\n",
       "       b'walker shortbread cooki favorit love bought highland set cooki came individu wrap two cooki end five star review unfortun amazon ship box size contain came walker cooki compani up shipment cooki reduc crumb contact amazon problem without ever receiv respons sinc bought ship sold amazon wont purchas cooki amazon',\n",
       "       b'hard find wintergreen small store red small common wintergreen refresh absolut delici drive cross countri someon cut turn daughter hand say wintergreen pull one put hand right world',\n",
       "       b'son favorit dinner best seem best combo protein vitamin runnier dinner great start solid protein love love love brand flavor think purchas jar far',\n",
       "       b'love fact turkey offer son favorit dish issu good balanc nutrient',\n",
       "       b'mom new york assist live facil love ceral buy kellogg mueslix live florida went buy luck call kellogg direct amazon com pleas sold ceral ship free also save money box also pay ship two happi peopl mom get favorit ceral ship direct everi month send box save money time shop ship packag mom',\n",
       "       b'three cat youngest eleven year old anoth fifteen oldest well ancient vet told ten year ago youngest blob lay look like footstool two arthrit skinni sinc success canida platinum senior dog figur wed give tri cat low ash purina one urinari tract formula entir live thank problem buster youngest still blob six month plus felida senior overweight cat howev two much activ tell realli feel better sinc chang food felida even prissi ancient one start play teas dog get chase purina one want sleep think get cat fair earli weight problem itll effect howev glucosamin certain help older fur ball happier life',\n",
       "       b'fresh scent tast easi eat one tin hour use favor everyon love',\n",
       "       b'chocol treat great gift arriv right expect gave girlfriend surpris gift absolut love',\n",
       "       b'fast deliveri good product lemon juic concentr find store realli handi around add sauc dress etc pain squeez fresh juic everytim need nevermind lemon hand begin',\n",
       "       b'kettl brand potato chip spici thai flavor realli tast like food eaten thai restaur ingredi list includ garlic powder onion powder parsley jalapeno spice sure spice sure tast like lemongrass yum chip thick cut crunch come serious bag tri open like regular chip bag pull two side way bag thick wonder plastic start look scissor decid compani put chip bag nice must provid way open sure enough small slit top simpl direct tear easi didnt think',\n",
       "       b'ive never heard safcol brand tire tri typic starkist chicken sea realli surpris thought bit better brand less season',\n",
       "       b'like earth best babi food line organ ingredi amazon great price especi subscrib free deliveri doorstop conveni your busi mom daughter doesnt like lot babi food eat one review state bit runnier eb stage food add oatmeal also bit bland add dash cinnamon heat ad bonus work wonder digest tract problem constip month sometim go day give suppositori discov food make poop everi time also start give sippi cup water meal day help fiber rate instead star main ingredi sweet potato apricot rather sweet potato chicken wish chicken protein',\n",
       "       b'favorit green tea household use year happi find amazon otherwis travel forti mile orient groceri store purchas cant even buy leaf tea kind regular groceri store way ban cha japan simpli mean common everyday tea ceremoni',\n",
       "       b'favorit bar ever combo raison dark choc wonder fill hard find store thank subsrcib save',\n",
       "       b'present diet fresh easi neighborhood groceri look possibl diet food want thing tasti low calori came home dozen item that discov tillen farm pickl crispi asparagus well ive alway like asparagus anyway ive enjoy sever brand pickl asparagus tillen farm brand realli realli good best recal there excel flavor big clove garlic bottom jar look forward eat cant believ good asparagus tast right front say calori per jar idea good diet food gari peterson',\n",
       "       b'favorit home like one sea salt also like barbequ flavor ruffli chip ridg thick cut plain slice potato thick crunchi great textur mouth also great tast sea salt one favorit enough salt salt much feel like drink gallon water chip enjoy',\n",
       "       b'use frequent like asian dish least week love product fast ship usual would buy',\n",
       "       b'keep case offic alway least tin two desk visitor help folk stop grab mint other pop like candi meet find someon keep come back give tin one ask save tin could use pillbox safeti pin box like said theyr real hit sinc wouldnt abl keep hand candi dish good altern around nice around garlic lunch gave item star arent tasti sugar version mint sugar free item good full sugar counterpart fact tin wrap plastic seem like wast irrit remov although total get wrap still doesnt make easi deal',\n",
       "       b'hard find husband frm jamaica love say make fill full day get everi',\n",
       "       b'order wife reccomend daughter almost everi morn like flavor shes happi happi mccann instant irish oatmeal varieti pack regular appl cinnamon mapl brown sugar box pack',\n",
       "       b'allergi famili end work great dont negat reaction ingredi though dont buy mani pre packag food work famili tri sever varieti prefer cocoa loco theyr almost like tootsi roll cant eat tootsi roll great substitut occasion crave famili prefer berri bar eat miss breakfast need healthi snack son take cross countri run meet dens soft bar alway eat liquid drink time',\n",
       "       b'love mint melt mouth tast better other tri wish werent expens cant eat one coupl addict delici',\n",
       "       b'like order kettl spici thai chip amazon hard find local probabl aggriev know recip chang like regular potato chip paid husband get eat didnt like spici thai fine yuck',\n",
       "       b'yes probabl healthier energi starbuck shot your look avoid caffein overload still energi drink cannot made high dosag caffein believ caffein content guayaki shot probabl lower energi shot drink believ peopl avoid top brand contain much caffein sugar react well caffein guayaki good buy either definit feel energi boost full guayaki shot caffein side effect irrit nervous caffein overdos stop drink coffe look even organ energi drink still safe your sensit caffein great buy load sugar tast easi pleasant load bunch chemic like shot starbuck drink energi boost last hour take minut kick probabl depend bodi weight side note want feel energ day protein drink first thing morn stay away heavi fatten food day make feel sluggish sleepi',\n",
       "       b'chip tast awesom unlik flavor chip actual make sure plenti flavori salti good get individu chip dont pass gas near pretti ladi consumpt theyll total know',\n",
       "       b'candi deliv fast purchas reason price home bound unabl get store perfect',\n",
       "       b'alway strict peet coffe lover retic switch brand weaver heart tast clean strong etho correct organ babi even packag zen appropri still caffein heart',\n",
       "       b'secret high fructos corn syrup detriment health unfortun also secret replac form sugar disturb larg number manufactur food even wors high fructos corn syrup made genet modifi corn sinc late hfcs replac regular tabl sugar honey similar sweeten practic everyth prolong consumpt hfcs topic much debat learn caus damag bodi high fructos corn syrup danger signific risk weight gain obes increas risk develop diabet hypertens elev bad cholesterol level liver damag mercuri exposur hfcs kellogg manufactur know slowli get rid sweetner look cover post rain bran advertis contain high fructos corn syrup applaud high fructos corn syrup made genet modifi corn monsanto use system pesticid seed caus coloni collaps disord bee bee keeper avoid product hfcs save famili bee watch vanish bee food matter food inc sold amazon excel movi chang health dramat way think eat',\n",
       "       b'ahead drink brand serv neighborhood cafe must make sure stash weaver peru organ whole bean home serv friend famili deserv best coffe back corner cafe peopl drink averag coffe dont know better take along travel mug fill weaver coffe home enjoy real cup joe weaver',\n",
       "       b'fast great servic cavashon love low fat dog food thank arriv great condit thank thank thank',\n",
       "       b'although sever shrivel one tast fine most use make vegan sauc recip call run food processor dont look perfect anyway price great deal half find store',\n",
       "       b'bag candi onlin pretti expens cheaper order compet groceri store good combin favorit candi',\n",
       "       b'good qualiti oat packag came time oat work well recip admit singl person bought oat boyfriend breakfast last year otherwis excel buy',\n",
       "       b'didnt eat babi like said savori sweet remind fine dine tuscani also like jar food know recycl never becom wast learn tell everyon glass recycl forev dont recycl noth common stop read even hard thing anymor nobodi els build recycl drive crazi rins put differ bin still put trash day stop lazi',\n",
       "       b'halloween sent bag daughter class share chocol fresh enjoy mani',\n",
       "       b'ive pleas natur balanc dog food dog issu dog food past someon recommend natur balanc grain free sinc possibl allerg grain sinc switch havent issu also help differ kibbl size larger smaller size dog',\n",
       "       b'great product nice combin chocol perfect size bag plenti ship prompt kid neighborhood like candi',\n",
       "       b'couscous realli good full flavor fun eat love textur cook chicken broth add minc garlic chop herb parsley cilantro along red pepper flake end cook add oliv oil make wonder side dish high recommend',\n",
       "       b'receiv shown mother law like walgreen quit carri great could get amazon',\n",
       "       b'first found steaz berri energi shot local organ market bought two bottl cost three dollar fell love instant drink delici tast yerba mate acai juic like slight bitter fruiti chocol honey tea sensit sucralos splenda mani energi drink also hate tast love steaz actual sugar artifici sweeten rush give slow even sever medic condit includ fibromyalgia sap energi caus intens pain like steaz help clear away fatigu fog get thing done caffein jitter even though caffein bottl becom expens buy bottl separ store start look onlin bulk price thrill found pack amazon sign amazon prime specif product hah',\n",
       "       b'love use empti contain medicin advil purs desk suitcas also line felt keep earring perfect littl size disguis small valuabl travel love mint tini power without burn mouth',\n",
       "       b'yes cup right went town look coffe invit non profit organ banquet besid delici food top amaz delici coffe paid extra buck get right way worth money high recommend',\n",
       "       b'dont buy order case cant even rememb first time tast anchovi stuf oliv tri sever brand onlin brand favorit',\n",
       "       b'shepherd colli mix ib vet recommend limit ingredi food realli help symptom like alway buy amazon cheaper free ship',\n",
       "       b'sad moment unabl find favorit cereal groceri store sure disappear grate abl purchac onlin thank',\n",
       "       b'wow shock find clear plastic piec jar poster say notifi earth best august still sell without check recal earth best littl guy take busi elsewher sad organ compani sell babi food plastic bpa jar gotta better get busi',\n",
       "       b'saw made interest process decid give tri realli enjoy flavor add look forward tri sever dish thank brew',\n",
       "       b'father could longer take care belov year old cocker spaniel decid take famili brought nyc ear eye discharg also slight overweight check vet rule infect decid tri royal canin base numer good review within week ear eye problem gone drop good amount weight go food feed',\n",
       "       b'favorit flavor chip mani salt vinegar chip contain dairi nice find one eat vinegar flavor realli intens good',\n",
       "       b'right most sprout cat eat grass love rotat around wheatgrass rye',\n",
       "       b'tea tin guard aroma well tast malva flower soften tast amount bergamot right first time use much tea soak long use refer darjeel ftgfop first flush sinc save quantiti tea leav soak tea two minut best earl grey ever price competit',\n",
       "       b'energi shot truli work terribl first know expect get use alway water handi chaser help glad found someth give energi need without chemic found beverag help kick addict diet coke caffein beverag yay',\n",
       "       b'roast home popcorn popper outsid cours bean coffe bean direct green mexican altura seem method first second crack distinct ive roast bean medium slight dark great result everi time aroma strong persist tast smooth velveti yet live',\n",
       "       b'deal awesom arriv halloween indic enough satisfi trick treater love qualiti product much less expens local store candi',\n",
       "       b'tini altoid great quick breath freshen small box great portabl full compact havent run yet probabl wont coupl month cant wait buy',\n",
       "       b'bought dad surpris birthday present could find els',\n",
       "       b'save littl money buy larger quantiti oppos smaller bottl like tast agav cross honey mapl good pie cereal frozen yogurt etc',\n",
       "       b'ive feel extrem tire around late afternoon softwar engin entir unaccept ask nice ladi counter local whole food market someth give extra energi need get day excit return suspici littl green bottl three hour drink whatev brain still work unnatur speed summar believ work explain need drink plenti water person feel help energi level your feel tire day hate coffe give shot prefer eat anyth woot',\n",
       "       b'order sea salt chip year love daughter pick local groceri store new favorit order',\n",
       "       b'nice flavor bitter realli like coffe search coffe pleas whole famili tast one',\n",
       "       b'bold blend great tast flavor come burst usual brew drink organ sumatra mandel bjs use blend exclus get cup rival complex flavor tassimo brewer fantast come amazon add subscript servic',\n",
       "       b'product great job clear kidney help make husband feel lot better even though earli renal failur',\n",
       "       b'wouldnt even think buy product unless know price per unit compar item onlin store',\n",
       "       b'holiday liquor cup exact look chocol delici hold well liquor',\n",
       "       b'glad abl find site love flavor crunchi box pack insid anoth box still bag end crumb bag surviv tact',\n",
       "       b'went groceri store look flavor jello green tomato jam recip final found jello wonder evid carri store summer harvest time fall couldnt find anywher town jello tast like watermelon jam recip made take like watermelon jam great made regular jello yummi',\n",
       "       b'far habanero medium sauc amaz fianc use near daili pick goe realli well sort dish add extra kick sauc last lot longer appear thick bottl last coupl week heavi use love use breakfast egg burrito dinner soup ad spice',\n",
       "       b'favorit hot sauc buy local love flavor hope flavor show amazon peopl enjoy favorit medium pineappl flavor one far thank make flavor hot sauc',\n",
       "       b'absolut love habenaro sauc use egg sandwich anyth good kick watch progess popular thei homegrown product noth high accolad chef product get tri',\n",
       "       b'ive enjoy tea year tea good morn afternoon even local store went buisi thank amazon use bodum tea press prepar pot',\n",
       "       b'littl guy tasti refresh usual eat salad lunch terribl thing breath eat lunch small find suffici resolv problem theyr sugar free sugar actual help smelli bacteria grow great theyr tasti enough almost think part lunch good bulk valu buy high recommend mint cheer',\n",
       "       b'must bit wuss soup tast imagin fire might tast typic like spici food good flavor dont find case soup flavor kill burn',\n",
       "       b'local diner eat regular use kind food love hot without flavor dont like sauc burn tast burn awesom flavor surpris find amazon stumbl across would high recommend anyon like good hot sauc',\n",
       "       b'like eat whenev need energi boost everyth search snack fiber plus chocol never bad thing',\n",
       "       b'cashew nice big vast major whole number small piec bottom bag that pretti expect mani cashew made absolut excel cashew brittl order took week arriv pretti decent consid ship across countri came doubl bag clear plastic bag two portion high conveni sinc could throw one bag freezer readi work great valu price',\n",
       "       b'start buy notic year old cat alreadi start lose spunk decid time start buy real cat food garbag super market found pet store million choic sure brand good one went tri first great purchas cat past month hes activ kitten coat becam sooo soft main love tast even high recommend brand friend famili anim',\n",
       "       b'sauc good anyth like ad asian food anyth egg noodl good burn strong flavor hope see flavor like pineappl experi soon buy wont regret',\n",
       "       b'daughter favorit first foremost love get lentil arent mani stage vegetarian choic',\n",
       "       b'never much hot sauc fan tast black market hot sauc listn radio one morn creater owner give interview sound interest sampl sauc rave pick bottl local groceri good keep bottl kitchen extra bottl hand gift take potluck barbecu parti happi see buy onlin amazon',\n",
       "       b'singl sell store box singl sure amazon sell box singl hazelnut coffe creamer favorit truli good buy',\n",
       "       b'refer pictur post bar half size think go liter bar decept advertis fact ridicul expens reason one star year old son ate one didnt like ate one agre husband couldnt give away everyon differ tast tasti treat far concern',\n",
       "       b'lemon juic must kitchen power flavor dont need much zest dish add spritz water near everi day buy product',\n",
       "       b'peanut lover much larger cocktail peanut six peopl christma gift list ask everi year',\n",
       "       b'excel calori treat dog german shorthair treat favorit organ peanut butter cooki smaller dog love like',\n",
       "       b'know product titl say molecular gastronomi dont let scare look food scienc someth earth use make coffe creamer coffe blond sweet flavor creamer full bad kind fat honest hate use manufactur food item realli dont think good bodi hand hate use cold milk cream like hot coffe stumbl across amazon one day got idea make creamer also bought milk powder regular milk powder lowfat milk littl sweeter tast fresher regular instant milk dissolv good cold water problem hot coffe play ratio would heavi cream made coffe rich also think powder expens use like mix togeth flavor bough cocoa bean powder vanilla bean powder caster superfin sugar mix small batch along spice like cinnamon nutmeg make flavor creamer want could use fake sweetner powder instead make small amount store jelli canning jar also use littl food chopper food processor blend everyth sugar heavier sink bottom let settl bit open top though stuff tast way better storebought creamer fun experi come flavor go tri use essenti oil next see get good chocol orang mix ingredi mention onlin take time experi mayb dont use milk dont add flavor also would make great housewarm host ess gift sure molecular peopl abl tell sure experi cook main reason bought make creamer work great',\n",
       "       b'previous tri matcha product general satisfi qualiti price decid give pure matcha green rooibo tri price seem competit qualiti pure matcha product surpass other stay fresh consist textur tast great qualiti price better other purchas quantiti high recommend pure matcha continu purchas',\n",
       "       b'cavend make best vinegar oil dress ever coupl tbls cavend vinag rest oil good',\n",
       "       b'strongest tast salt vinegar chip ive could still vinegar flavor think close go get without dous vinegar powder side side cape cod salt vinegar twice flavor addit review said quit good bit potassium somewher neighbor rda per serv',\n",
       "       b'ive fan hot spici maruchan ramen long time enjoy spice love ramen youll love product bad way expens amazon per walmart',\n",
       "       b'eat kellogg mueslix year love mix fruit almond whole grain use easi find couldnt find local super market afraid discontinu found amazon pretti happi',\n",
       "       b'kettl branch potato chip new york good like kettl fri potato chip waaaay salti burnt side tast rancid either chees flavor oil fri alreadi old want like brand chip tri new flavor everi tri sort brand kettl cook chip dont hit spot',\n",
       "       b'cinnamon cake loaf wonder natur flavor moist tender great littl sweet treat want someth isnt terribl bad diet delici',\n",
       "       b'cereal best cereal market mani flavor includ nut raisin date especi light malt flavor enjoy morn year',\n",
       "       b'enjoy chip got instead usual jalapeno one compani bit flavor chang think better slight like jalapeno great amount flavor without overpow small bag size prevent over larger bag',\n",
       "       b'best cornmeal made regular cornbread hot water cornbread meal outstand also fri oyster meal gave great textur flovor',\n",
       "       b'brother bought pound coffe christma told weaver origin roaster pete coffe eventu split start roaster well let tell stuff delici ive never marri brand coffe usual would buy starbuck bag costco whatev look good trader joe weaver class subscrib guarante stuff deliv regular tri',\n",
       "       b'nice altern appl pie love fact slice dice easi prepar also love fact make fresh whenev need',\n",
       "       b'bought tea altern pricey teavana black tea cup everi morn smooth refresh tea',\n",
       "       b'serveic deliveri seller excel product order bad tast iam sure old tast throw right away coudl drink',\n",
       "       b'hot sauc one favorit perfect balanc tasti spici smell flavor immedi open bottl mix garlic habanero spice put everyth tend one bottl week high recommend anyon like hot sauc',\n",
       "       b'got brother jorg cruis diet decid tri one actual tast pretti good',\n",
       "       b'purchas tea neighbor present look sassafra tea long time didnt realiz hard find absolut love made great surpris christma gift',\n",
       "       b'stuff great low glycem substitut sugar youll bodi great favor size econom ship fast got mine soon',\n",
       "       b'purchas coffe mate singl use work along coffe tea bag theyr great dont requir refriger',\n",
       "       b'first time ive realli misl review amazon like energi find rain thought tri product base review boy sorri gag get one bottl even nose pinch realli leav worst medicin tast mouth afterward tic tac get rid worst within hour yawn drowsi unless realli like thing tast weird cough syrup dont work dont buy dont know bottl big fail',\n",
       "       b'weve tri mani tassimo flavor far favorit normal cup coffe starbuck hous blend cuisinart pot one two day week use tassimo coffe rich stong dont understand current price disk hope lower amazon well buy elsewher',\n",
       "       b'best caramel chocol combin ever tast caramel liquid complement ghiradelli chocol perfect tri brew attempt lose weight end addict like ghiradelli product far better caramello hershey product everi way caramello chocol lack refin tast ghiradelli squar caramello caramel harder sublim tast compar two like compar warren buffett term wealth unfortun caramello bar regard least tri ghiradelli',\n",
       "       b'order two two raspberri latic tart direct fantasicak websit dinner parti host arriv fresh intact good size froze half later use pastri lover best ive ever tast pastri soft jam realli good tast great gone time guest realli impress',\n",
       "       b'mother father recipi wonder piec chocol heaven didnt believ deserv receiv know deserv receiv',\n",
       "       b'strawberri twist pleasant flavor excess deliveri time price right supieror trident flavor though spearmint isnt bad either next pick would blueberri',\n",
       "       b'receiv keurig elit christma excit break open sampl pack pod tri differ blend flavor pod box four green mountain coffe brand never tri anyth compani research onlin largest rang keurig pod even bought competitor produc coffe brand name well unfortun immedi disappoint qualiti coffe tri dark magic decaf breakfast blend underwhelm say least almost complet set write green mountain altogth one pod left mindset figur give one last around forget complet glad nantucket blend perfect pleas cup coffe nice flavor without thick pungent unlik blend tri ad flavor creamer almost measur caribou blend pod almost standard cup coffe isnt anyth new excit pleas definit one better keurig option weve abl test run pod weve accumul ill probabl pick box well know green mountain isnt complet disappoint ill definit open tri coffe promot get bewer order green mountain coffe golden french toast portion pack keurig brewer tri well see goe your look choic cup',\n",
       "       b'love kettl brand chip ive love honey dijon year decid tri flavor sea salt vinegar chip tangi sour make lip pucker eat mani time got big bag steal amazon person flavor much mom aunt love hate potato chip',\n",
       "       b'local groceri store dont carri cereal order full nut raisin great stuff cut banana instead ad sugar favorit box cereal',\n",
       "       b'packag arriv doubl box wrap insid box hold good perfect singl dent rough mark outstand packag product best chip planet salt vinegar flavor beyond among best chip ive ever might actual sure probabl wont like first bite never tri mention particular flavor held numer survey comparison manufactur',\n",
       "       b'claim product unadulter would make think sweet go best nobodi els coconut oil say unadulter check websit dont know want cold press oil theyr cold press mean theyv process major machineri subject high heat anyth goe usual kill good miner vitamin site post inform extract process today manila coco oil extract method proprietari mechan expel manila virginflo hold lowest moistur possibl avoid rancid keep shelf life consist year normal condit oil stage without chemic solvent bleach deodor hydrogen ferment enzym keep natur light sweet coconut aroma tast method sustain uniqu charact even subject high degre celsius heat temperatur mechan expel form extract also say sustain uniqu charact blah blah blah subject high heat temperatur therefor person opinion unadulter inform product amazon make sound steer clear product sorri review offend your go pay good money someth know would use differ brand stick one look larger quantiti look product howev stick nutiva coconut oil cold press soon coconut cut open inform direct websit make nutiva virgin coconut oil special much magic lie way oil process within sever hour coconut chop meat unlik varieti coconut oil left hour press nutiva approach preserv much oil natur color flavor aroma give best result use dont care process still go much healthier averag groceri store found veget canola oil want read scari thing look dark inform process yuck talk horrifi thank time use one organ kind fruitcak think your special anybodi els peopl learn much past year half deal son allergi intoller there expens make feel special afford there way urg everybodi talk peopl organ food way life healthier way life deserv live healthier live healthier even though cost long term your save money healthier mean less doctor visit less expens nasti harm medic etc',\n",
       "       b'husband disappoint coffe weak wateri cup coffe definit wast',\n",
       "       b'salt vinegar chip favorit flavor think ive tri everi brand far best also like sodium content high like other excess greasi seem right balanc salt vinegar tast',\n",
       "       b'deal healthiest salt use box last famili year problem iodiz sea salt rais blood pressur regular salt',\n",
       "       b'someon brought parti last month didnt put buffet full didnt think anyon would like saltless potato chip last week friend pantri put gosh good wrong think would full real potato flavor wonder crisp fresh tast amazon buy case want dip truli delici',\n",
       "       b'bought dad year would complain hasnt tea sinc final mani night drink tea annoy bought tea hed shut',\n",
       "       b'havent done comparison chip still tast like real deal snack size bag well regular brand groceri store work portion control reduc fat yes pleas subscrib save much cheaper groceri store',\n",
       "       b'favorit arent everybodi way sort tast like orient flavor ramen kick one wrong combin jalapeno ginger bit rich arent everydayforamonth snack case purchas recommend tri singl bag buy entir case size seem longer avail eat entir bag',\n",
       "       b'best past tri easi use saut meat add veggi past tin coconut milk quick tasti weight watcher tri use light coconut milk instead full fat work panang past especi add heap tablespoon crunchi peanut butter yellow green red spici need full fat coconut milk balanc',\n",
       "       b'love product cant find local sometim littl way store also love chicken pork chop bag everi store look lastplac found meat market',\n",
       "       b'smile thank lord found anoth healthi snack food unsalt tast great almost gave find potato chip like thing would ask kettl chang textur slight hard crunchi problem would prefer softer kettl make happen pleas keep everyth els thank',\n",
       "       b'man say salsa bomb differ kind almost everi meal owner cool dude hes drop free bottl mailbox stole first bottl friend fridg tast hook sinc dont sleep hot sauc',\n",
       "       b'absolut forget confirm review chip total garbag like chew styrofoam packag peanut posit aw hyperbol exagger ill never buy anyth kettl brand ever report great premium brand liter mass market chip ive ever tri tast better stale rancid tast virtual salti tast whatsoev complet aw',\n",
       "       b'disco dust edibl made bake purchas product purpos',\n",
       "       b'open numer bag found none chip flavor complet plain gross even happen',\n",
       "       b'bear amazon work copi lakewood nutrit fact upc serv size serv size amount per serv calori calori fat daili total fat satur fat tran fat cholesterol potassium sodium total carbohydr dietari fiber sugar protein omega omega omega vitamin vitamin calcium iron vitamin vitamin thiamin vitamin riboflavin niacin vitamin folat magnesium zinc phosphor vitamin daili valu base calori diet ingredi certifi organ juic blend organ acai organ appl organ concord grape organ grape organ pomegran organ blackberri organ blueberri organ red tart cherri organ acerola cherri concentr organ goji berri natur fiber organ guar xanthan carrageenan sodium algin organ locust bean organ rose hip gluten casein free gmo fruit juic excel lakewood call juic thick odwalla drink like smoothi that good valu consid pay much one ingredi person use add kombucha maxim longev way ive tri mani one best kombucha say glass serv fruit lakewood websit quit tasti sweet thick textur even tini bit seed reminisc banana smoothi ingredi list somewhat confus note acerola cherri concentr everyth els fresh press acai high orac scale rose hip also high everyth els mid high rang fruit pomegran mani benefici properti beyond well noteworthi fighter heart diseas alzheim type dementia consid price goji berri realli like inclus drink albeit lesser level amazon day wait ship',\n",
       "       b'kettl brand chip use good oili crunchi flavor suspect compani bought recip chang wors theyr better big name brand chip tri good health kettl style oliv oil chip instead good kettl brand kettl brand chip',\n",
       "       b'read review got nervous open bag recent order expect worst worri bag great shape expir date arent june chip least first bag tast like suppos good world way fifteen bag thirti dollar ton less expens go price around local groceri store yay team',\n",
       "       b'keep tri brand cheaper brand stupid ginger soooo worth money tender moist never let',\n",
       "       b'noodl box broken sauc salt good flavor threw skillet would recommend purchas product',\n",
       "       b'use agav nectar sever month found stapl home madhava agav nectar good tast good buy',\n",
       "       b'food get pet store deliv door price slight less',\n",
       "       b'extrem disappiont open shipment enjoy life bar berri carmel appl cocoa loco box plain generic design know kind brand chang want make product look cheaper compar ingredi new shipment older box still home guess cheaper ingredi next let year old help wouldnt eat new one cant blame oili bland thought enjoy life brand actual care use qualiti ingredi make product wrong summari way expens made unpalat ingredi',\n",
       "       b'ferret love nice high protein treat addit regular evo ferret diet price reason compar local pet store doesnt often item stock',\n",
       "       b'purchas product name rumford natur corn starch word natur appear larg clear pictur product label also amazon descript said made modifi corn label product actual receiv say rumford natur still made modifi corn say made product contain one ingredi ingredi cornstarch calcium one suggest serv tblsp contain daili valu calcium make product potenti good sourc dietari calcium supplement hand person must restrict calcium intak exampl person kidney stone pose potenti problem even danger amazon provid nice list legal actual product packag materi may contain differ inform shown websit recommend reli sole inform present alway read label warn direct use consum product fair amazon least list correct ingredi photo packag order product order read label find purchas buy product dont need extra calcium dont believ calcium sulfat ad interest consum health make product cheaper produc price competit brand still tout made modifi corn princip cant afford throw away want hassl return displeas amazon incorrect list product brought attent purchas februari far noth done calcium sulfat consid safe food addit basic thing plaster pari use much product basic amount previous use pure corn starch stiff sediment bottom cook contain make pud pyrex microwav usual stir everi second remind damp plaster',\n",
       "       b'delic green tea smooth light tast subtl floral tone bitter aftertast year drink ahmad tea even disappoint superb qualiti ahmad tea remain consist throughout year happi find ahmad tea avail thank amazon store carri area quit mile away current deal pack superb much cheaper find local great tast tea happi recommend',\n",
       "       b'alway fan ramen quick easi meal find amazon decent price deliv door case amaz situat anyon find',\n",
       "       b'detroit rais vernor ginger ale move california though found difficult find vernor would pop disappear guess without advertis never found home prefer plastic bottl ideal size one liter problem two liter size take one person long drink let flat case vernor uniqu age oak three year think impart great uniqu flavor wish would catch becom avail wide recent see sale redwood citi california bay area south san francisco next day gone',\n",
       "       b'kind tea good tast smell wear like tea feel like thing chemic',\n",
       "       b'dont wast money kettl brand potato chip bought case case cheddar sour cream case end garbag',\n",
       "       b'like ceylon tea varieti certain enjoy appreci tea happi find ahmad tea avail thank amazon surpris negat review year drink ahmad tea even disappoint superb qualiti ahmad tea remain consist throughout year current deal pack good cheaper find local high recommend list descript confus packet tea weigh gram equal pound ounc',\n",
       "       b'even small contain dont fill littl tin less half fill price charg seem exot ingredi cost gold contain tini squar cereal ploy fill factori settl transport manufactur honest deal',\n",
       "       b'excel tea one best ever especi great prepar samovar',\n",
       "       b'low calori satisfi soup nice fill dont want much dont want hungri hour',\n",
       "       b'cannot say much love kettl brand potato chip kettl brand larg varieti uniqu flavor qualiti chip blow potato chip water ingredi list print bag thing realli bad oil fri chip love arent fill nasti chemic order cheddar sour cream krinkl cut one great torn kettl brand potato chip fulli load bake potato pack jalapeno flavor know jalapeno flavor good way better includ liquid smoke instead actual bacon fine sinc ive vegetarian order give guest come town wed spring cant guarante mani left fianc love packag perfect anyon give kid take school lunch hand gift bag even portion control',\n",
       "       b'best marinad buy far cours everyon tast think anyon like give five star',\n",
       "       b'wow eaten quit potato chip day kettl chip best chip eaten decid tri sweet onion chip sinc ive never favorit like onion must buy definit reorder mention best ever eaten flavor great',\n",
       "       b'fed golden retriev hate wouldnt eat gave terribl diarrhea buy also super expens',\n",
       "       b'stuff realli work prevent cramp middl latter stage ride pop water bottl your set flavor fine goe easi',\n",
       "       b'look miss tast exact tast one made india love rememb day back india definit recommend',\n",
       "       b'love product best natur sweeten ever tri tri mani use also pancak syrup substitut honey peanut butter honey sandwich last long time good valu',\n",
       "       b'origin produc england best chip ever tast unfortun sinc bought conglomer tast plain nasti hard rather crispi much thinner use lack flavour real shame',\n",
       "       b'black market hot sauc wonder husband love habenero sauc flavor nice kick fact love medium tast yummi bit zing behind use everyth use meal like fact mani differ level spicy love medium habenero kind like packag thank hard work guy keep hard work',\n",
       "       b'titl say great flavor hint spice excel crunch eat kettl chip truck load hous like flavor one far away favorit never enough bag get next shipment wish amazon could get larger bag subscrib save buy make sure enough everyon otherwis may get enough',\n",
       "       b'glad introduc brand sweetner replac sugar much better realli like sweeten herbal sweet tea without use much use place pancak syrup learn use first thing learn learn use becam hook would even look sugar high reccomend want clean fresh tast feel food purchas sweetner take advantag ship save save lot money long run',\n",
       "       b'absolut scrumptuous husband love howev anoth custom put expens ship cost ship tartlet',\n",
       "       b'admit sucker larg quantiti shop hot sauc see size bottl remind bottl size plastic bottl conveni squirt top overal hot tasti made most seen ingredi list would bought jalapeno water vinegar brown sugar lime juic fish sauc cilantro habanero garlic spice blend salt potassium sorbat xanthan gum',\n",
       "       b'hot love tasti littl sweet usual scoff salsa label hot one live bill',\n",
       "       b'bought one year old cocker howev dog love coat look better shed less eat less use bathroom less cocker use one chronic ear sinc time puppi gave problem seem clear smell eye give less problem old yorki eat less use throw time sensit tummi black lab mix hot spot would lick fur great chang matter month mix rough natur dog food blend great sept love breed specif food howev went place next order shock price hike month paid aug bag sept price differ price huge amount consid assum price due specul crop look local vet product get larg bag less petco well discount offer order larger bag ask',\n",
       "       b'honeyvill roll oat delici product use make product design increas enrich milk product lactat mother oat ship time fashion amaz thing paid ship oat encourag anyon like oat order honeyvill roll oat flavor rest',\n",
       "       b'love love green tea hard find area place internet charg big price usual dont get mani box merchant definit order seller thank depend green tea fix everyday',\n",
       "       b'ive buy drink year energi boost excel continu effect recent shipment seem improv flavor slight well perhap get use dont drink flavor heinous fake flavor found energi shot',\n",
       "       b'product serv well sourc electrolyt long run bike ride tri flavor realli like grapefruit flavor actual like slight carbon use hammer product realli like whole product line',\n",
       "       b'one best chip buy ive tri kettl varieti mani other there slight tast jalapeno delici perfect sandwich alon like addict chip see addict anonym',\n",
       "       b'saw spici thai chip knew tri love spici love thai food first chip super spici actual tast sort sweet first mani degre flavor spici linger tast bite afterward say definit good uniqu chip absolut hate sweet chip tri differ flavor sinc littl sweet',\n",
       "       b'terribl cannot believ receiv item everi singl bag open station afghanistan gonna snack team go mission embarrass bag open spilt box gross box fill greas stain idk airplan ride way box insul bubbl wrap use instead paper unhappi stale crusti chip bag soldier cannot enjoy',\n",
       "       b'dog ton allergi environment food prescript dog food test see allergi got test back learn allerg someth prescript brand final found dog food done well still environment trigger happi final eat someth know wont caus pain',\n",
       "       b'tri sever tea like one particular subtl citrus tast also natur sweet ingredi includ organ cliff oolong tea organ black tea organ green tea extract proprietari blend plus ginseng panax orang peel lemon grass guarana natual orang citrus flavor goal drink tea less coffe enjoy tri differ kind tea everi day ill come back one',\n",
       "       b'packet glaze secret make european style fresh fruit tart make one pie auction church friend request someth strawberri offer make amaz relat healthi fruit tart bake base layer uncook fresh slice fruit pour content one packet harden room temperatur hold fruit togeth slice tart let beauti arrang fruit show ive also seen glaze use cheesecak hold fruit top place person like cheesecak rich fruit glaze cheesecak gorgeous admit slice fruit layer cheesecak still springform pan pour glaze let set remov springform youll clear layer fruit top cheesecak cherri strawberri slice mango nice best one ever use thin slice lemon gentl poach sugar syrup layer cake use base spong cake bake shallow form base pate sucr kind french pastri bit like sugar cooki work well flute form also make muffin pan mold layer pie crust even commerci crust work though prefer pate sucr hold shape better substanti better crumb muffin tin line pate pop fill fresh fruit berri great pour glaze peopl put layer creme patisseri pastri cream like custard stabil flour fruit happen think tast best get bake glaze shelf ingredi tapioca starch carrageenan dextros cream tartar locust bean gum look make vegan tofu cheesecak use top well use fruit tart nut crust base',\n",
       "       b'food great age dog year old puppi soft hard ever get sick food good especi amazon prime ship',\n",
       "       b'glad find one ounc size bag seem bit less full hard find singl serv chip bag vend well sometim wide plump air bag size good bbq flavor',\n",
       "       b'buy most vend size bag import kettl bag good size although seem bit less full salt vinegar flavor satisfi',\n",
       "       b'found product kettl chip unsalt fabul found accid amazon hunt local store crisp tasti without salt',\n",
       "       b'took one two get use pickl tast aim hook keep bottl hand',\n",
       "       b'actual gave local baker daughter cupcak look great show perfect white chocol ice great shape',\n",
       "       b'use moroccan recip syrup brilliant mix beverag swirl top slice orang soak orang water wonder wonder stuff',\n",
       "       b'cat thrive extrem well dri cat food definit much less hair ball throw up fur great fit weight vendor ship extrem fast one top amazon supplier book',\n",
       "       b'buy bag one time hefti markup nearbi store decid tri bulk order snack food amazon pleas price product jalapeno kettl chip over spice start subt grow eat whole bag embarrass say quit time chip arriv fresh near year time expir pretti impress chip import much much better local store could although live near expens citi may play role price differ wouldnt hesit order anoth box run',\n",
       "       b'wow product impress bought blueberri pleas packag price ship powder dissolv instant even water ive mix tsp small glass water drink tast great add smoothi juic fruit juic next product econom compar purchas fresh blueberri especi wast due mold overrip berri thrown away think could add bake unbak food well excit add superfood diet fast easi way definit tri flavor soon',\n",
       "       b'bought allot differ flavor happen one favorit get soon',\n",
       "       b'never met kettl brand chip like chip great load potato flavor flavor like sweet onion chip better also top list potato chip kettl chip great chip money',\n",
       "       b'your look energi boost without artifici sweeten chemic great option tast decent nice smooth uplift without jitter',\n",
       "       b'bought chocol liquor cup parti big hit high qualiti good buy',\n",
       "       b'got sale rough cent per cup half price local groceri store plus rare stock spici flavor thing great snack offic time constant crunch sometim cant escap real meal one favorit flavor instant lunch back buy everi time goe sale',\n",
       "       b'great dog food dog sever allergi brand one feed',\n",
       "       b'work chicken fish beef pork fast easi make tast excel plus buy bulk box store',\n",
       "       b'walker highland favorit purchas cooki great find biscuit keep fresh longer limit snack',\n",
       "       b'love bag shrimp pound stir fri vege littl onion chop hot tasti',\n",
       "       b'pretti pleas mushroom most larg piec well good flavor estim content broken medium small piec like due shake transit problem sinc sometim break larg piec smaller one recip small amount perhap ounc small piec still use add gravi like noth get wast label say product china itali noth specifi proport countri quit fond dri mushroom may lack textur get use fresh one conveni alway hand big plus addit find broth use add wonder flavor soup stew save time add flavor sometim add dri mushroom direct soup stew without realli help meld flavor togeth also fond ad cook water boil pasta pasta pick wonder earthi flavor cook water first time use roland brand got price dip amazon warehous would certain buy high recommend',\n",
       "       b'sir kensington great job updat classic ketchup wonder product refresh tast ketchup great updat leav disappoint given heinz restaur heinz die hard fan ketchup wish alway knew ketchup could without chemic aftertast found heinz sure give ketchup tri dont forget spice varieti purchas pack classic spice varieti first sir kensington experi definit way',\n",
       "       b'crust tart perfect husband love crazi sour tart tast ill eat crust hubbi take fill kid think theyr great mayb',\n",
       "       b'ive tri energi red rain nos energi shot favorit term tast effect plus somewhat reassur know natur ingredi use sometim wonder realli put bodi brand purchas box everi month past year',\n",
       "       b'arent fatten theyr good right that heard least admit unreli person',\n",
       "       b'care product thought tea sister use drink elementari school found tea use drink actual came root particular type tree',\n",
       "       b'standard poodl pomeranian wonder food switch differ food due price coupl time end go right back natur balanc',\n",
       "       b'great cut back fat resembl regular chip noth like extrem dri hard',\n",
       "       b'buyer bewar pleas sweeten everybodi maltitol alcohol sugar undigest bodi know short time consum one unsuspect mani cannot digest extrem intestin bloat cramp massiv amount gas person experi nausea diarrhea headach also experienc learn lesson hard way year ago fell love chocol suzann sommer use sell thought found chocol nirvana first tast bliss short live terribl side effect maltitol kick discomfort unlik anyth ever felt blew like balloon pain abdomin cramp symptom pass unpleas though hard believ low calori sweeten could culprit symptom gone stop eat chocol hunch someth maltitol unfortun confirm year later purchas delici popcorn local market tast amaz look label wonder could possibl make yummi new sugarfre treat tast good heart sank follow littl asterisk next sugarfre bottom label read maltitol tini littl letter thank good eaten littl still end much shorter durat peopl use maltitol heart content other like bad reaction case your like maltitol',\n",
       "       b'taffi good soft chewi flavor amaz would definit recommend buy satisfi',\n",
       "       b'besid obvious conveni portabl individu creamer like item specif packag couldnt believ mani review read coffe creamer mani amazon creamer option coffeem intern delight multipl negat review due shipment arriv broken cup thank sloppi packag issu shipment arriv four dispens box shown photo box tight pack thick cardboard box could take good beat damag inner box thus none cup broken wast sloppi drippi mess plus four box mean could put one kitchen one bathroom move mini keurig upgrad kitchen keurig best idea husband ever one work reserv whichev run first look mini creamer deter like negat packag review option best bet bonus auto deliveri price reason',\n",
       "       b'sugar raw flavor profil much better white sugar suppos better someth wish bag reseal',\n",
       "       b'tast great give energi without jitter love product howev wish came sort reseal jar hard plastic contain instead pouch rip quit work awhil product fantast crazi packag',\n",
       "       b'hot like low star review got sucker see habenero name size peopl might like flavor fish sauc mix accord ingredi label your look hot aint',\n",
       "       b'chocol say great varieti everyth famili love famili six goe fast perfect varieti kit kat rees take five',\n",
       "       b'knew famili alreadi like chip brainer take advantag great price good chip price per bag cant beat order subscrib save good thing alway chang deliveri interv notic quicker slower anticip',\n",
       "       b'pretti good can meat sausag use dirti rice hamburg use taco salad chicken wild rice pork stuf turkey gave neighbor dont eat various meat pretti good qualiti enough larg portion werent larg chunk fat gristl can ive experienc plenti brand can meat proport liquid meat fair one spoon meat rest liquid either though need cook shrink quit bit due high fat content meat none meat season help meat use flavor mild textur tast meat way better spam day almost brine someth that heavili season dont plan fri anyth fat meat gave everyth slight rancid souri tast idea due higher calori higher price stock emerg food buy reason',\n",
       "       b'tomato star classic flavor clean realli fresh perfect avocado chicken sandwich spici flavor complex best ketchup ever tri good use food would make seem crazi',\n",
       "       b'surpris good famili friend laugh told bought readi mix littl salt pepper spinach chees great easi meal',\n",
       "       b'found new spring bought whim kid amaz delight fun color amaz detail artwork fantast school snack lunch box school treat tie ribbon bright think spring gift challeng find store way kellogg fantast product',\n",
       "       b'problem order case good half time best kettl chip best get case wors potato meali old throw order expens made good fresh potato best last case prompt write potato weird like almost sour go bad even wrote compani make want best kettl chip tri one get best tri done order creep use sour potato either notic care',\n",
       "       b'kettl chip tast good crispi crunchi enjoy also moreov thin cut slice',\n",
       "       b'think chip awesom best along poor brother salt vinag chip buy spici thai chip smaller bag might much flavor bottom bag larger bag least experi last time bought amazon like would suggest tri spici thai bag bigger ounc',\n",
       "       b'ive crave deer jerki gave one other amazon tri one sinu littl sweet tast go buy still search salti dri version',\n",
       "       b'healthi mix llasa tibetan terrier ador healthi breath doesnt smell teeth good shape product great healthi product',\n",
       "       b'coffe avail tassimo kona richest flavor fantast aroma far favorit',\n",
       "       b'son realli enjoy earth best lentil eat entir jar dinner alway want product ship quick',\n",
       "       b'troubl find local deliveri fast hunt flour aisl local groceri store',\n",
       "       b'chill fridg seem boost flavor even use rather corn chip make nacho tastebud sing like janet jackson without associ wardrob risk high recommend',\n",
       "       b'expect like cooki much like chocol chip cooki well enough realli prefer soft cooki crisp one say famous amo cooki pertti much turn around cooki rich depth flavor come qualiti ingredi chip real chocol melt redilli mouth creat moist experi chew truli great cooki',\n",
       "       b'littl girl cant get enough like organ contain fruit veggi protein grain one tasti meal wish came larger portion sinc month old alway want jar',\n",
       "       b'great candi famili love smaller imagin thought expens small howev germani get easier ship usa make expen great product fun usa famili receiv',\n",
       "       b'drink royal king natur organ green tea tea bag everi day tea sever year buy box time save ship mani year use drink coffe morn till night final realiz drink much coffe healthi final resolv improv health stop drink coffe togeth tri mani altern drink replac coffe habit found green tea good tast also health benefit green tea one drink actual make healthier coff drink healthier drink qualiti cold water opinion price royal king natur organ green tea one best tast tea green tea beauti golden color tast bright fresh recommend ad tini amount organ bee farm raw honey tea add sweet health benefit also give treat much expens tea tribut long jing fantast tea practic drink everi day tea although would could afford latest shipment packag shown amazon page differ one ship one ship display natur high polyphenol catechin key contribut element possibl health effect tea wherea amazon packag display caffen free sure green tea caffen free con sometim tea bag rip open unwrap string around tea bag string seem stuck tea bag put bag hot water unstick',\n",
       "       b'might littl spici stuff rock use milder version best bloodi caesar half mix half clamato',\n",
       "       b'find better loos green tea price abl get free ship well sinc bought someth els total tea use mani japanes peopl fall organ green tea produc american compani good get anyth better hime ban cha tea',\n",
       "       b'like peopl mention coffe great tast ive tri differ instant coffe one one better one anoth one favorit want tri though organ africaf pure instant coffe',\n",
       "       b'great tast tea look good sassafra tea forev final order product thank',\n",
       "       b'purchas mango flavor doesnt take like mango hint sweet unfortun hint aftertast almost like licoric ive consum various sport nutrit product decad familiar come like tast product ive tri mango flavor one least appeal ive tast terribl bad enough notic bad tast everi sip take',\n",
       "       b'love love love deal way fun pick mani tea chocol cider well mani coffe outfit assembl sampler bore choos much narrow rang seller nice also answer question via email slight confus order method easi want great packag forget ship fast kup toss loos box care',\n",
       "       b'read pomegran molass tri havent made anyth yet eaten littl bit time wow decad dark syrupi sour littl sweet dab forget dessert realli uniqu flavor pleas metal underton yum go tri make fesenjan next',\n",
       "       b'buy quaker oat granola bar natur valley chewi bar better tast make great snack chocol peanut raisin doesnt get better',\n",
       "       b'got mum diabet need watch sugar intak father simpli choos limit unnecessari sugar intak shes one sweet tooth love toffe would never guess theyr great eat pretti much guilt free impress ive order dark chocol take offic ill eat instead snack sugari sweet excel',\n",
       "       b'coffe great organ ingredi pesticid worri plus tast good heal effect ganoderma',\n",
       "       b'use product daili provid steadi stream energi get jitteri crash also help practic portion control act slight appetit suppress',\n",
       "       b'great product tast great work exact describ superb natur sleep aid amaz',\n",
       "       b'realli bum find chocol melt got daughter bday seem sold onlin way keep safe',\n",
       "       b'simpl product simpli good extra ingredi hard pronounc scour internet find bit thinner consist usual syrup use caution first time squeez great peopl like mint much stronger mint flavor chocol use coffe bit half half tast great sometim simpl better',\n",
       "       b'son made didnt patienc precis water temperatur half hour done appear risen fear wors determin polit agre sandwich use bread amaz appar rise bake someth great tangi flavor perfect meat sandwich imho heavi fortun lot deli meat sinc whole loaf disappear within hour weve sourdough peasant bread sure delici well',\n",
       "       b'felt energ within five minut last minut paid drink could drunk cup coffe save money',\n",
       "       b'sugar raw pleas harvest cane burn deliv dear sugar raw folk buy product care environ wed like know care burn cane field maui add worsen climat chang smoke burn damag lung worker worker children resid maui love product want chang harvest continu buy know arent contribut global warm lung diseas',\n",
       "       b'biscuit delici sweet enough crunch love quick deliveri would order satisfi',\n",
       "       b'use diet guid eat month fair success amber agav nectar becom primari sweeten low glycem effect blood sugar tast mellow sweeten power higher sugar use without twang honey one thing tri still use sugar make kombucha still use sugar sure would good idea introduc raw element kombucha actual may noth relat actual chemistri circumst primari use sweeten yogurt use littl bake use salad dress fruit dessert etc limit sweet consumpt dont use lot nice need plan tri use homemad jam later season buy subscript cost less local walmart less health food store brand best date bottl receiv may',\n",
       "       b'use oil sever year best eat bread cook love regular use everyth wont sorri tire great dip bread cook omelet green bean',\n",
       "       b'saltwat taffi great flavor soft chewi candi individu wrap well none candi stuck togeth happen expens version fraling would high recommend candi serv parti everyon love',\n",
       "       b'love sweet right allergi free food great book hope non ingredi contain corn that howev dont appreci fact open new box cut size less charg effect decis buy toddler need real size bar pleas',\n",
       "       b'order dad father day ate whole box within two day said tast realli good want order haha',\n",
       "       b'realli like pineappl shortcak sold unlik pineappl shortcak use artifici flavor tasselfield pineappl shortcak use real pineappl make whole world differ even tast fiber pineappl opt tradit pineappl time interest tri longan mango varieti next time',\n",
       "       b'even though intern delight fan complet dissapoint product problem shipment creamer thinner intern delight happi',\n",
       "       b'eat mustard everyth hand best mustard ever tri fact everyon tell tri fall love well spici tasti real qualiti like spici mustard love',\n",
       "       b'good product fast ship equal happi littl pricey hand pick good flavor cant find anywher els def worth price',\n",
       "       b'tea tast almost good tea would get indian restaur much better get teabag make english way lot water bit milk creami tasti critic arent enough sachet box sinc direct say use one sachet water approxim half cup enough good cup tea use two mean one box good enough five cup tea delici drink would buy sachet box',\n",
       "       b'normal love earth best product son howev tonight given half jar thought would tri sinc new flavor realiz littl piec soft shred plastic appal first child dont experi kind thing call poison control said would knew fine got realli angri look onlin found earth best actual known plastic time still sell dont buy earth best realli disappoint',\n",
       "       b'fabul marinad love use chicken either bake oven grill enough flavor flair ive even use dinner parti receiv rave review guest definit worth price super cheap super easi love',\n",
       "       b'realli like product tast great coffe tea lost weight cut sugar replac honey agav nectar',\n",
       "       b'twin girl love veget turkey dinner one favorit babi food great price',\n",
       "       b'tri normal red tea wait review flavor still ring head earthier rooibo tea less friti color muddi water gritti viscos well well worth everi penni',\n",
       "       b'ultim puppi food kibbl great small breed high digest nutrient oppos filler compani use less wast result high qualiti ingredi hunt train show handl various breed dog near year multipl nation champion high satisfi eukanuba qualiti result obtain feed food recent purchas wag amazon com price best found good ship immedi item stock',\n",
       "       b'delici cannot get australian ginger live compar favor australian ginger ive purchas citi enjoy without travel',\n",
       "       b'got wild hair taffi order five pound bag taffi enjoy mani watermelon root beer melon peppermint grape etc complaint bit much red black piec particular favorit kid husband last two week would recommend brand taffi delight treat',\n",
       "       b'creamer come pack taken one work open one home far havent found singl broken leak creamer yet usual way much cream sugar coffe easi cut sweet wont allow creamer per cup think definit best option buy creamer amazon sinc list lot complaint creamer break ship',\n",
       "       b'arriv time packag green plastic wrap cooki fresh box found local groceri store complaint also cooki ate',\n",
       "       b'order product two time happi deliveri product work great cook bake substitut sugar chai latt',\n",
       "       b'cereal difficult find store appreci abl purchas amazon husband realli like look forward deliv everi month seem like unlik thing look forward littl thing count looney',\n",
       "       b'tire mani differ dog food yrs cocker spaniel came upon breed specif dog food figur tri dog love food alway finish food ive use tire seen signific chang better hes activ well buy brand food buster give paw give star',\n",
       "       b'due husband son inabl eat gluten cornstarch use frequent mani gluten free recip concern prolif use gmos corn especi famili increas consumpt want find afford gmo free cornstarch product use bake rumford natur cornstarch one ive use month great success satisfact',\n",
       "       b'unfortun order quit previous neglect look suprem offer sinc receiv free ship deliv husband guest knew immedi differ previous enjoy current amazon featur suprem babka await receiv futur read care',\n",
       "       b'perhap worst bottl wine ive ever even sure would cook thin bodi transpar color characterist good pinot tast bitter complex expect pinot noir price look even low mid price pinot noir mayb bottl wasnt seal well went vinegar review wine favor',\n",
       "       b'order product time kirkland signatur salmon raincoast trade salmon tasti equal good qualiti salmon kirkland howev raincoast arriv perfect condit kirkland can dent bad recommend product anyon like boneless skinless can salmon',\n",
       "       b'packag came label torn cook instruct know normal cook couscous tri cup water cup boil let sit cover mushi tasteless thrown rest contain',\n",
       "       b'pleas ignor comment check bag main ingredi fact whole grain brown rice second rice flower anyth gluten free add anoth binder corn flour come someon celiac diseas cannot sunchip contain wheat key binder chip cooki cereal excel product spous buy lot gluten free absolut delici',\n",
       "       b'cannot live without citron falksalt wonder watermelon fish almost food requir salt world tri red juici watermelon wonder experi',\n",
       "       b'terribl artifici lemon tast like pledg lemon furnitur polish dont use plain flake salt fresh grate lemon zest',\n",
       "       b'use buy sugar year eat much sugar still sugar call turbinado sugar mislead pick brand say real turbinado sugar brand local food store sugar brown color caramel someth find need sweet water day ago put sugar raw glass water becam brown bottom glass got pure white sugar crystal shame produc tri put sugar mouth second spit pure white crystal well wonder consum hold compani liabl practic',\n",
       "       b'toss tri textur tast far expect seem kind mushi pasti prici boot',\n",
       "       b'admit oversalt chip addict realli think one gone far skin liter peel lip insid mouth eat surpris still market',\n",
       "       b'pretti good product tast isnt best definit wors either give pretti smooth energet kick',\n",
       "       b'love flavor cant find shelv anymor gum tast fresh actual way better use buy store',\n",
       "       b'love use sweeten tea coffe etc tast much better low glycem sweeten bitter aftertast',\n",
       "       b'one best salsa found long time stay away varieti pack two come worth money',\n",
       "       b'five minut one tentacl bitten ball insid crack half durabl enough dog toy disappoint dog',\n",
       "       b'tri avail kona blend one best regular unflavor coffe tassimo nice smooth flavor overpow pleasant aroma person would enjoy stronger bolder howev bit mild goe well breakfast bake goodi find mild perplex product avail tassimodirect subscript servic avail origin found dead bat beyond use coupon happi final price',\n",
       "       b'product take pretti good doesnt leav gitteri subscib save well prime membership pay shot wife tri drink like go style moder mine make effect use weight train recommend product anyon look healthier altern high sugar unnatur product everywher still give result awesom energi drink',\n",
       "       b'omg would love cooki except chocol mix make tast medicin degust isnt even strong enough word horribl horribl mistak expens mistak advertis peanut butter cooki bought sinc everyon els peanut butter chocol cooki want plan peanut butter cooki howev receiv found chocol peanut butter one thought okay ill tri omg almost threw tast horribl horribl disgut medicin tast buy zero star would rate zero instead star',\n",
       "       b'huge suppli still work plenti spare much effect buy one groceri store everi time want mint',\n",
       "       b'purchas giveaway babi shower jungl theme work perfect small bag candi purchas want small bag would purchas larger bag',\n",
       "       b'thing marmit dont like hate love cant live without much english thing languag even adopt trade name metaphor victoria beckham marmit mean dont like etc amazon done world favor make weird wonder stuff avail afford price last time look jar british store counti cost england amazon supplier quick effici enough marmit last end year would didnt decid send one two jar son japan good job amazon',\n",
       "       b'flavor last longer probabl die starvat lack want take mouth',\n",
       "       b'couldnt wait tri cinnamon coffe cake made fresh egg creami sour cream madagascar bourbon vanilla top fill cinnamon streusel cinnamon coffe cake avail onlin fair share cinnamon coffe cake let tell fantasicak cinnamon coffe cake realli take cake size price qualiti tast cake arriv fast care packag arriv almost perfect condit also come larg tub white ice drizzl top serv couldnt believ larg size actual fed famili enjoy breakfast three day cake thick almost solid spong cake type consist realli moist fill flavor die sticki cinnamon outsid sweet cinnamon vanilla swirl throughout insid cake ice realli top beauti give moist sticki sweet flavor pair cake morn coffe youv got perfect breakfast treat',\n",
       "       b'know cannot make tea good grant south know never enjoy tea sweet without sweet tast crisp',\n",
       "       b'one best choic opinion also ador amazon need negoti better price tassimo disk avail bedbath beyond alway get bring readili avail coupon month ago excel blend full flavor bitter think favorit',\n",
       "       b'what say fantast chocol chip cooki thing could improv offer bushel box would run fast hope dont way dinosaur',\n",
       "       b'satisfi twizzler purchas share other enjoy definit order',\n",
       "       b'low carb diet littl tablet thing two year ago start cycl mani year heart arrhythmia longer ride high heat drink plain water littl research thought electrolyt might issu gatorad wasnt option load carbohydr look around altern zero carb sport drink didnt help one day ran across bike shop tri tube voila problem solv ive share two friend particular whose problem leg cramp resolv use guy got right superbl formul simpli work',\n",
       "       b'product strong crayola crayon process tri differ brand coconut oil cook purpos upon open plastic contain aroma crayon immedi fill room flavor permeat food cook suspect sourc problem plastic use plastic contain experienc brand purchas date favorit coconut oil distribut barlean flavor fantast howev suppli tub mercola best product size categori',\n",
       "       b'order arriv advertis chanc use awesom flavor exact hope may take finish entir gallon definn order',\n",
       "       b'love conveni singl best creamer around tast like big bottl stick purs take work',\n",
       "       b'dont know long sat back shelf somewher old wouldnt cook throw half skin damag clear sign dri bean past prime cant even return ask refund food return find differ brand use fifti serv bean throw away',\n",
       "       b'bitter tast coffe even enhanc cream honey defin cup coffe say bitter',\n",
       "       b'candi describ middl almost hard silki smooth fill describ look tast like way past expir date would never reccommend paid good chunk cash noth',\n",
       "       b'drive otr road truck help keep alert sugar high crash autoship like price good ive seen buck store',\n",
       "       b'wonder candi hard find got huge bag put freezer came ship nice sturdi box heavi plastic great',\n",
       "       b'bought product onlin although kellogg cereal cannot find retail store carri incident would like know call kellogg could realli give good answer suggest tri anoth product found good appreci amazon offer continu order way realli keep regular better cereal tri youll like',\n",
       "       b'think tri everi bloodi mari mixer market one time much sugar worst corn syrup mixer natur ingredi tasti littl kick enjoy',\n",
       "       b'bake soda work great cook health reason take acid indigest heart burn tsp half glass water gone use make bodi alkalin great chang level bodi',\n",
       "       b'fianc love dark chocol nut granola bar groceri store around dont carri anymor amazon came couldnt happier',\n",
       "       b'ive use mayb half dozen bag tea last year delici consist good qualiti black tea main use sever numi tea tea blend make kombucha',\n",
       "       b'surpris find pineappl cake cute ive never found pineappl cake like local asian supermarket order love pastri made dragon boat festiv parti much fun friend think good idea order festiv parti',\n",
       "       b'soy sauc best ever thank amazon abl find make big differ use product thank',\n",
       "       b'everyon love pocki say dont lie lol pocki arriv good condit minim melt broken piec',\n",
       "       b'love garlic recommend flavor oil true name expect strong use cook dip bread mix unflavor oliv oil futur',\n",
       "       b'son love rice lentil jar liquid consist pea brown rice jar order subscrib save amazon mom alway arriv nice packag',\n",
       "       b'chemic sensit well use product year use mayb week drink bottl boost energi hour two depend feel imo doesnt replac coffe sweet earli afternoon start fade drink full bottl workout ive drink guayaki yerba mate tea year compar mani toxic energi booster high recommend product clean doesnt leav nasti chem behind bodi tri judg review everyon bodi react differ',\n",
       "       b'product arriv label jumbo salt peanut peanut actual small size unsalt sure error vendor intend repres product jumbo',\n",
       "       b'like lot sesam oil use salad regular great qualiti flavor aroma cant beat organ',\n",
       "       b'havent use ham base load msg realiz order return food item',\n",
       "       b'start drink power slim tea hcg diet help curb crave sinc like well tri other hook satisfi drink time energi give extra afternoon help keep go day matter long',\n",
       "       b'natur valley nut lover varieti pack perfect although wasnt sure peanut butter bar excel love roast almond roast pecan peanut butter defin buy seller quick ship fresh',\n",
       "       b'tri energi shot one one realli make feel good energ without side effect also best tast other tast like medicin one tea fresh tast love',\n",
       "       b'use buy wholesom sweetner agav like littl better switch becam expens cheeper option tast seem littl less sweet find use get right sweet coffe dont like contain doesnt pour well pour better squeez bottl dont sticki mess counter everi day fine price continu ship everi month',\n",
       "       b'great food love idea one food age breed \\xc3\\xaets real conveni well realli good product dog eat less almost gas poop regular perfect consist els mom ask',\n",
       "       b'spent sever summer itali biscotti often given breakfast food snack simpl delici sold back good brought back two bag recent trip itali great see may found amazon great open bag smell content pour glass milk dip macin milk great routin treat kid',\n",
       "       b'fantast chicken noodl soup best ever eaten larg hearti chunk chicken veget nice larg noodl soup full bodi season right glad amazon carri product cant find vermont',\n",
       "       b'love sugar cube offic arent grandmoth sugar cube rug appear sugar cube consid rug combin white sugar cube perruch',\n",
       "       b'hadnt tri heard till recent weaver favorit run list type look favorit havent found one yet theyr darn smooth bite tast littl prici still worth wors price wise starbuck peet keep run list see happen love far',\n",
       "       b'first tast sassafra tea local restaur realli like start look groceri store onlin teabag form sever week investig call restaur ask use make tea told pappi sassafra concentr look onlin found amazon com order also saw sassafra teabag thought order box tri dissapoint didnt tast like flat rootbeer expect like black licoric hate mild rootbeer underton also didnt distinct red color get steep sassafra root ive never real sassafra tea made root dont know teabag like real thing bottom wont buy teabag',\n",
       "       b'found much tastier plain tuna pouch excel qualiti need dress put micro power minut shazam believ littl heat bring flavor',\n",
       "       b'love eat good watch look movi sweet like transfer zip lock baggi stay fresh take time eat',\n",
       "       b'your look probabl alreadi know like chip great deal problem go stale bag great size snack help avoid',\n",
       "       b'tast realli good purchas differ brand similar tast textur agre review regard order summer insul packag ice pack melt warm weather like chocol food item order cold weather buy enough last',\n",
       "       b'familiar safcol brand tuna addict gave shot tuna tast like good qualiti found tomato basil flavor bit bland better someth plain didnt pack punch hope still great option low calori low fat meal',\n",
       "       b'look like perfect snack trail mix unfortun arriv solid mass melt chocol left pantri day open room temperatur still gooey fridg ive break hunk ever sinc tast good chocol graini melt solidifi wont order onlin see store would pick',\n",
       "       b'recent acquir bottl immedi impress good flavor without excess salti supermarket brand ive use marinad dip sauc addit straight use case ad littl someth extra quit surpris find american made soy sauc tast good',\n",
       "       b'dont know say other cover like potato chip like get sale limit intak',\n",
       "       b'laddoo turn bad day receiv item insid fridg turn bad',\n",
       "       b'enjoy flavor soy realli like plus hand made good ole usa',\n",
       "       b'wasnt stock last time look vermont countri store weston find along jaw harp cranberri horseradish sauc fartless black bean salsa appl cider jelli newton cradl art motion stapl vermont mapl syrup back ass kickin peanut hot activ perspir gland behind ear arm requir beverag advertis glass cold milk box kleenex sinc make nose run look like ordinari peanut alreadi give idea work suspect peopl hit goodi absenc especi colleagu greg go take work earliest opportun empti content ordinari planter peanut see whose cri whose nose run return shaken ensur spice even distribut import wash hand consumpt touch eye youll nut peanut share peanut deliber ill probabl give greg jaw harp christma hell insult',\n",
       "       b'think favorit cooki ever realli light creami bad longer find anywher less count dont think need mani',\n",
       "       b'holist vet recommend along brand tri cat prefer especi sardin version best part coat soft clean eye clear dont want rude ill say delic wast far less odor cat eat mcdonald junk found store definit plus health benefit obvious high recommend holist select',\n",
       "       b'perfect favorit season varieti spice exact suit tast without salt',\n",
       "       b'love chip whole famili hook chip eat',\n",
       "       b'numi organ tea chines breakfast yunnan black tea loos leaf bag pack brew ice tea refriger tea excel reseal bag work well unopen protect larg stash make easier manag subscript',\n",
       "       b'got tast strait bottl tast like smoki flavor milk yuck depress stuck bottl sat shelf forgot last weekend tast zevia cream soda pleas flavor tast weird smokey like lorann oil gotten tri doctor soda littl vanilla torani syrup tablespoon heavi cream tast amaz odd smoki gone wonder rich mouthfeel want see would help lorann oil put cup whip cream bowl ad teaspoon vanilla tast tast fine ad one drop oil strong stir tast much better whip put fruit treat alway whip drop vanilla dessert whip cream happi accid find use ad vanilla realli add new depth flavor tast differ bottl cream potent use drop increas tast add much ruin recip use light touch',\n",
       "       b'roast larg cast iron pan grill bag time smell wonder roast bean tast delici import coffe bitter aftertast numer occas weve send roast bean home friend like much',\n",
       "       b'perfect size sea salt tabl picnic basket love shake well clump flow freeli',\n",
       "       b'real good product love chip custom cant wrong wit best',\n",
       "       b'best invest ive ever made ginger unbeliev fibrous like real ginger spici kick perfect sugar calm worth ill get soon use topper ginger cupcak cooki',\n",
       "       b'receiv item time manner upon receipt remov pack consum stale left aw tast mouth',\n",
       "       b'besid smaller runt look consist unfortun tast noth like banana runt even tast good yucki stuff tri return vendor',\n",
       "       b'year old cocker spaniel love food good need lose pound trick glad found amazon hard find elsewher',\n",
       "       b'ridicul best gourmet ketchup ever tast pricey wow love stuff would make great gift someon hard buy love ketchup yummi',\n",
       "       b'youv tri random sampler pack overload decaf extra bold tea great way get exact brand style want receiv order coupl day exact order second order ill order item',\n",
       "       b'daughter big fan babi food especi protein love one flavor right sweet savori doesnt strong chicken flavor almost like plain sweet potato sharp thus good first protein offer good picki eater nephew niec also like flavor pretti safe bet keep hand dont know particular babi prefer someth wish known quit bit runnier stage earth best especi chicken ad quit bit rice cereal thicken daughter gotten tire runni textur like fine extra step howev runnier textur make workabl younger babi gag textur problem',\n",
       "       b'item werther sugar free hard candi consum give friend loos bowel purchas bag discov bowel cant return need laxat ten unopen bag free',\n",
       "       b'kettl chip addict happi find snack size bag lunch great qualiti much cheaper store definit buy',\n",
       "       b'love panang curri would rather avoid white rice restaur serv decid tri make product get exact want hot tasti panang curri ad lot fresh veggi tofu brown rice hot didnt add spice great product purchas',\n",
       "       b'honest best season salt land tighten spici perfect season perfect henc purchas mamma jamma',\n",
       "       b'fresh great way get littl chocol life without million calori tast like chocol pud',\n",
       "       b'servic great meant buy swiss chalet chicken sauc marinad love sauc yet tri marinad',\n",
       "       b'great taffi great price wide assort yummi taffi deliveri quick taffi lover deal',\n",
       "       b'visit friend nate morn coffe came storag room packet mccann instant irish oatmeal suggest tri use stash sometim nate dose give chanc say end tri appl cinn found tasteful made water powder milk goe good coffe slice toast readi take world day least jerri reith',\n",
       "       b'chocol moos mickey moos nice owner bought great food love much gain lbs eat mickey food isnt look skin fur much better',\n",
       "       b'drink tea plain without sugar milk pleasant aroma price amazon cheaper local groceri store one review right think herbal smell make aroma label imperi blend kind impli herb exact black tea drinker tea surpris afford usual prefer white chines tea like white peoni expens requir lower temperatur water black tea aroma kind remind soft white tea',\n",
       "       b'pleas wasnt sure theyd abl replic autumn classic flavor caramel appl figur werther good bet diabet wolf real caramel appl mood strike cant happen often like tasti enough get carb budget real thing made sugar alcohol wise limit mani eaten day unless your go near home toilet tmi pack last theyr definit reorder',\n",
       "       b'coffe bean seem fresh oil ever tast much better fresher order',\n",
       "       b'think pocki get store right chocol fall biscuit stick doesnt tast mani stick togeth whenev want split becom messi need clean desk everi time',\n",
       "       b'friend favorit candi eight avail anywher area couldnt find either amazon com came import england delici peppermint thin smooth mint cream center dark chocol shell want littl tast mint realli special cup hot coffe',\n",
       "       b'healthi dog food good digest also good small puppi dog eat requir amount everi feed'],\n",
       "      dtype=object)"
      ]
     },
     "execution_count": 49,
     "metadata": {},
     "output_type": "execute_result"
    }
   ],
   "source": [
    "df_sample['CleanedText'].values"
   ]
  },
  {
   "cell_type": "markdown",
   "metadata": {},
   "source": [
    "# Decision Trees Model  using Different Featurization in NLP"
   ]
  },
  {
   "cell_type": "markdown",
   "metadata": {},
   "source": [
    "![alt text](https://image.slidesharecdn.com/decision-tree-final-170421102129/95/decision-tree-algorithm-analysis-machine-learning-algorithm-data-science-training-edureka-12-638.jpg?cb=1492771312)"
   ]
  },
  {
   "cell_type": "markdown",
   "metadata": {},
   "source": [
    "Here I have use GINI Impurity for building decision trees"
   ]
  },
  {
   "cell_type": "markdown",
   "metadata": {},
   "source": [
    "![img](https://chrisalbon.com/images/machine_learning_flashcards/Gini_Index_print.png)"
   ]
  },
  {
   "cell_type": "markdown",
   "metadata": {},
   "source": [
    "## Bag of Words (BoW)\n",
    "\n",
    "A commonly used model in methods of Text Classification. As part of the BOW model, a piece of text (sentence or a document) is represented as a bag or multiset of words, disregarding grammar and even word order and the frequency or occurrence of each word is used as a feature for training a classifier.<br>\n",
    "OR <br>\n",
    "Simply,Converting a collection of text documents to a matrix of token counts"
   ]
  },
  {
   "cell_type": "code",
   "execution_count": 42,
   "metadata": {},
   "outputs": [
    {
     "name": "stdout",
     "output_type": "stream",
     "text": [
      "Train Data Size:  (630, 3188)\n",
      "Test Data Size:  (270, 3188)\n"
     ]
    },
    {
     "data": {
      "text/plain": [
       "array([1, 1, 1, 1, 1, 1, 1, 1, 1, 1, 1, 1, 1, 1, 1, 1, 1, 1, 1, 1, 1, 1,\n",
       "       1, 1, 1, 1, 1, 1, 1, 1, 1, 1, 1, 1, 1, 1, 1, 1, 1, 1, 1, 1, 1, 1,\n",
       "       1, 1, 1, 1, 1, 1, 1, 1, 1, 1, 1, 1, 1, 1, 1, 1, 1, 1, 1, 1, 1, 1,\n",
       "       1, 1, 1, 1, 1, 1, 1, 1, 1, 1, 1, 1, 1, 1, 1, 1, 1, 1, 1, 1, 1, 1,\n",
       "       1, 1, 1, 1, 1, 1, 1, 1, 1, 1, 1, 1, 1, 1, 1, 1, 1, 1, 1, 1, 1, 1,\n",
       "       1, 1, 1, 1, 1, 1, 1, 1, 1, 1, 1, 1, 1, 1, 1, 1, 1, 1, 1, 1, 1, 1,\n",
       "       1, 1, 1, 1, 1, 1, 1, 1, 1, 1, 1, 1, 1, 1, 1, 1, 1, 1, 1, 1, 1, 1,\n",
       "       1, 1, 1, 1, 1, 1, 1, 1, 1, 1, 1, 1, 1, 1, 1, 1, 1, 1, 1, 1, 1, 1,\n",
       "       1, 1, 1, 1, 1, 1, 1, 1, 1, 1, 1, 1, 1, 1, 1, 1, 1, 1, 1, 1, 1, 1,\n",
       "       1, 1, 1, 1, 1, 1, 1, 1, 1, 1, 1, 1, 1, 1, 1, 1, 1, 1, 1, 1, 1, 1,\n",
       "       1, 1, 1, 1, 1, 1, 1, 1, 1, 1, 1, 1, 1, 1, 1, 1, 1, 1, 1, 1, 1, 1,\n",
       "       1, 1, 1, 1, 1, 1, 1, 1, 1, 1, 1, 1, 1, 1, 1, 1, 1, 1, 1, 1, 1, 1,\n",
       "       1, 1, 1, 1, 1, 1, 1, 1, 1, 1, 1, 1, 1, 1, 1, 1, 1, 1, 1, 1, 1, 1,\n",
       "       1, 1, 1, 1, 1, 1, 1, 1, 1, 1, 1, 1, 1, 1, 1, 1, 1, 1, 1, 1, 1, 1,\n",
       "       1, 1, 1, 1, 1, 1, 1, 1, 1, 1, 1, 1, 1, 1, 1, 1, 1, 1, 1, 1, 1, 1,\n",
       "       1, 1, 1, 1, 1, 1, 1, 1, 1, 1, 1, 1, 1, 1, 1, 1, 1, 1, 1, 1, 1, 1,\n",
       "       1, 1, 1, 1, 1, 1, 1, 1, 1, 1, 1, 1, 1, 1, 1, 1, 1, 1, 1, 1, 1, 1,\n",
       "       1, 1, 1, 1, 1, 1, 1, 1, 1, 1, 1, 1, 1, 1, 1, 1, 1, 1, 1, 1, 1, 1,\n",
       "       1, 1, 1, 1, 1, 1, 1, 1, 1, 1, 1, 1, 1, 1, 1, 1, 1, 1, 1, 1, 1, 1,\n",
       "       1, 1, 1, 1, 1, 1, 1, 1, 1, 1, 1, 1, 1, 1, 1, 1, 1, 1, 1, 1, 1, 1,\n",
       "       1, 1, 1, 1, 1, 1, 1, 1, 1, 1, 1, 1, 1, 1, 1, 1, 1, 1, 1, 1, 1, 1,\n",
       "       1, 1, 1, 1, 1, 1, 1, 1, 1, 1, 1, 1, 1, 1, 1, 1, 1, 1, 1, 1, 1, 1,\n",
       "       1, 1, 1, 1, 1, 1, 1, 1, 1, 1, 1, 1, 1, 1, 1, 1, 1, 1, 1, 1, 1, 1,\n",
       "       1, 1, 1, 1, 1, 1, 1, 1, 1, 1, 1, 1, 1, 1, 1, 1, 1, 1, 1, 1, 1, 1,\n",
       "       1, 1, 1, 1, 1, 1, 1, 1, 1, 1, 1, 1, 1, 1, 1, 1, 1, 1, 1, 1, 1, 1,\n",
       "       1, 1, 1, 1, 1, 1, 1, 1, 1, 1, 1, 1, 1, 1, 1, 1, 1, 1, 1, 1, 1, 1,\n",
       "       1, 1, 1, 1, 1, 1, 1, 1, 1, 1, 1, 1, 1, 1, 1, 1, 1, 1, 1, 1, 1, 1,\n",
       "       1, 1, 1, 1, 1, 1, 1, 1, 1, 1, 1, 1, 1, 1, 1, 1, 1, 1, 1, 1, 1, 1,\n",
       "       1, 1, 1, 1, 1, 1, 1, 1, 1, 1, 1, 1, 1, 1])"
      ]
     },
     "execution_count": 42,
     "metadata": {},
     "output_type": "execute_result"
    }
   ],
   "source": [
    "from sklearn.feature_extraction.text import CountVectorizer\n",
    "from sklearn.model_selection import train_test_split\n",
    "from sklearn import preprocessing\n",
    "\n",
    "#Breaking into Train and test\n",
    "X_train, X_test, y_train, y_test = train_test_split(df_sample['CleanedText'].values,df_sample['Score'].values,test_size=0.3,shuffle=False)\n",
    "\n",
    "#Text -> Uni gram Vectors\n",
    "uni_gram = CountVectorizer() \n",
    "X_train = uni_gram.fit_transform(X_train)\n",
    "#Normalize Data\n",
    "X_train = preprocessing.normalize(X_train)\n",
    "print(\"Train Data Size: \",X_train.shape)\n",
    "X_test = uni_gram.transform(X_test)\n",
    "#Normalize Data\n",
    "X_test = preprocessing.normalize(X_test)\n",
    "print(\"Test Data Size: \",X_test.shape)\n",
    "y_train"
   ]
  },
  {
   "cell_type": "code",
   "execution_count": 53,
   "metadata": {
    "scrolled": false
   },
   "outputs": [
    {
     "name": "stdout",
     "output_type": "stream",
     "text": [
      "(60, 3188) (57, 3188)\n",
      "(117, 3188) (57, 3188)\n",
      "(174, 3188) (57, 3188)\n",
      "(231, 3188) (57, 3188)\n",
      "(288, 3188) (57, 3188)\n",
      "(345, 3188) (57, 3188)\n",
      "(402, 3188) (57, 3188)\n",
      "(459, 3188) (57, 3188)\n",
      "(516, 3188) (57, 3188)\n",
      "(573, 3188) (57, 3188)\n"
     ]
    }
   ],
   "source": [
    "from sklearn.model_selection import TimeSeriesSplit\n",
    "tscv = TimeSeriesSplit(n_splits=10)\n",
    "for train, cv in tscv.split(X_train):\n",
    "#     print(\"%s %s\" % (train, cv))\n",
    "    print(X_train[train].shape, X_train[cv].shape)"
   ]
  },
  {
   "cell_type": "markdown",
   "metadata": {},
   "source": [
    "![i](https://i.stack.imgur.com/fXZ6k.png)"
   ]
  },
  {
   "cell_type": "markdown",
   "metadata": {},
   "source": [
    "### Finding the best 'max_depth' using Forward Chaining Cross Validation or Time Series CV "
   ]
  },
  {
   "cell_type": "code",
   "execution_count": 23,
   "metadata": {
    "scrolled": true
   },
   "outputs": [
    {
     "name": "stdout",
     "output_type": "stream",
     "text": [
      "CPU times: user 3 µs, sys: 1e+03 ns, total: 4 µs\n",
      "Wall time: 5.48 µs\n",
      "Fitting 10 folds for each of 30 candidates, totalling 300 fits\n"
     ]
    },
    {
     "name": "stderr",
     "output_type": "stream",
     "text": [
      "[Parallel(n_jobs=1)]: Using backend SequentialBackend with 1 concurrent workers.\n"
     ]
    },
    {
     "name": "stdout",
     "output_type": "stream",
     "text": [
      "Best HyperParameter:  {'max_depth': 11}\n",
      "Best Accuracy: 100.00%\n"
     ]
    },
    {
     "name": "stderr",
     "output_type": "stream",
     "text": [
      "[Parallel(n_jobs=1)]: Done 300 out of 300 | elapsed:    0.9s finished\n"
     ]
    }
   ],
   "source": [
    "%time\n",
    "from sklearn.model_selection import TimeSeriesSplit\n",
    "from sklearn.model_selection import GridSearchCV\n",
    "from sklearn.tree import DecisionTreeClassifier\n",
    "from scipy.stats import randint as sp_randint\n",
    "\n",
    "g = sp_randint(2,300)\n",
    "clf = DecisionTreeClassifier()\n",
    "param_grid = {'max_depth':sorted(g.rvs(30))} #params we need to try on classifier\n",
    "tscv = TimeSeriesSplit(n_splits=10) #For time based splitting\n",
    "gsv = GridSearchCV(clf,param_grid,cv=tscv,verbose=1,scoring='f1')\n",
    "gsv.fit(X_train,y_train)\n",
    "savetofile(gsv,\"gsv.uni\")\n",
    "print(\"Best HyperParameter: \",gsv.best_params_)\n",
    "print(\"Best Accuracy: %.2f%%\"%(gsv.best_score_*100))"
   ]
  },
  {
   "cell_type": "code",
   "execution_count": 37,
   "metadata": {},
   "outputs": [
    {
     "name": "stdout",
     "output_type": "stream",
     "text": [
      "Results Using Gini Index:\n",
      "Predicted values:\n",
      "[1 1 1 1 1 1 1 1 1 1 1 1 1 1 1 1 1 1 1 1 1 1 1 1 1 1 1 1 1 1 1 1 1 1 1 1 1\n",
      " 1 1 1 1 1 1 1 1 1 1 1 1 1 1 1 1 1 1 1 1 1 1 1 1 1 1 1 1 1 1 1 1 1 1 1 1 1\n",
      " 1 1 1 1 1 1 1 1 1 1 1 1 1 1 1 1 1 1 1 1 1 1 1 1 1 1 1 1 1 1 1 1 1 1 1 1 1\n",
      " 1 1 1 1 1 1 1 1 1 1 1 1 1 1 1 1 1 1 1 1 1 1 1 1 1 1 1 1 1 1 1 1 1 1 1 1 1\n",
      " 1 1]\n",
      "Confusion Matrix:  [[150]]\n",
      "Accuracy :  100.0\n",
      "Report :                precision    recall  f1-score   support\n",
      "\n",
      "           1       1.00      1.00      1.00       150\n",
      "\n",
      "   micro avg       1.00      1.00      1.00       150\n",
      "   macro avg       1.00      1.00      1.00       150\n",
      "weighted avg       1.00      1.00      1.00       150\n",
      "\n",
      "Results Using Entropy:\n",
      "Predicted values:\n",
      "[1 1 1 1 1 1 1 1 1 1 1 1 1 1 1 1 1 1 1 1 1 1 1 1 1 1 1 1 1 1 1 1 1 1 1 1 1\n",
      " 1 1 1 1 1 1 1 1 1 1 1 1 1 1 1 1 1 1 1 1 1 1 1 1 1 1 1 1 1 1 1 1 1 1 1 1 1\n",
      " 1 1 1 1 1 1 1 1 1 1 1 1 1 1 1 1 1 1 1 1 1 1 1 1 1 1 1 1 1 1 1 1 1 1 1 1 1\n",
      " 1 1 1 1 1 1 1 1 1 1 1 1 1 1 1 1 1 1 1 1 1 1 1 1 1 1 1 1 1 1 1 1 1 1 1 1 1\n",
      " 1 1]\n",
      "Confusion Matrix:  [[150]]\n",
      "Accuracy :  100.0\n",
      "Report :                precision    recall  f1-score   support\n",
      "\n",
      "           1       1.00      1.00      1.00       150\n",
      "\n",
      "   micro avg       1.00      1.00      1.00       150\n",
      "   macro avg       1.00      1.00      1.00       150\n",
      "weighted avg       1.00      1.00      1.00       150\n",
      "\n"
     ]
    }
   ],
   "source": [
    "# Run this program on your local python \n",
    "# interpreter, provided you have installed \n",
    "# the required libraries. \n",
    "\n",
    "# Importing the required packages \n",
    "import numpy as np \n",
    "import pandas as pd \n",
    "from sklearn.metrics import confusion_matrix \n",
    "#from sklearn.cross_validation import train_test_split \n",
    "from sklearn.model_selection import train_test_split\n",
    "from sklearn.tree import DecisionTreeClassifier \n",
    "from sklearn.metrics import accuracy_score \n",
    "from sklearn.metrics import classification_report \n",
    "#from sklearn import cross_validation\n",
    "\n",
    "# Function importing Dataset \n",
    "def importdata(): \n",
    "\tbalance_data = pd.read_csv( \n",
    "'https://archive.ics.uci.edu/ml/machine-learning-'+\n",
    "'databases/balance-scale/balance-scale.data', \n",
    "\tsep= ',', header = None) \n",
    "\t\n",
    "\t# Printing the dataswet shape \n",
    "\tprint (\"Dataset Lenght: \", len(balance_data)) \n",
    "\tprint (\"Dataset Shape: \", balance_data.shape) \n",
    "\t\n",
    "\t# Printing the dataset obseravtions \n",
    "\tprint (\"Dataset: \",balance_data.head()) \n",
    "\treturn balance_data \n",
    "\n",
    "# Function to split the dataset \n",
    "def splitdataset(balance_data): \n",
    "\n",
    "\t# Seperating the target variable \n",
    "\tX = balance_data.values[:, 1:5] \n",
    "\tY = balance_data.values[:, 0] \n",
    "\n",
    "\t# Spliting the dataset into train and test \n",
    "\tX_train, X_test, y_train, y_test = train_test_split( \n",
    "\tX, Y, test_size = 0.3, random_state = 100) \n",
    "\t\n",
    "\treturn X, Y, X_train, X_test, y_train, y_test \n",
    "\t\n",
    "# Function to perform training with giniIndex. \n",
    "def train_using_gini(X_train, X_test, y_train): \n",
    "\n",
    "\t# Creating the classifier object \n",
    "\tclf_gini = DecisionTreeClassifier(criterion = \"gini\", \n",
    "\t\t\trandom_state = 100,max_depth=11, min_samples_leaf=5) \n",
    "\n",
    "\t# Performing training \n",
    "\tclf_gini.fit(X_train, y_train) \n",
    "\treturn clf_gini \n",
    "\t\n",
    "# Function to perform training with entropy. \n",
    "def tarin_using_entropy(X_train, X_test, y_train): \n",
    "\n",
    "\t# Decision tree with entropy \n",
    "\tclf_entropy = DecisionTreeClassifier( \n",
    "\t\t\tcriterion = \"entropy\", random_state = 100, \n",
    "\t\t\tmax_depth = 11, min_samples_leaf = 5) \n",
    "\n",
    "\t# Performing training \n",
    "\tclf_entropy.fit(X_train, y_train) \n",
    "\treturn clf_entropy \n",
    "\n",
    "\n",
    "# Function to make predictions \n",
    "def prediction(X_test, clf_object): \n",
    "\n",
    "\t# Predicton on test with giniIndex \n",
    "\ty_pred = clf_object.predict(X_test) \n",
    "\tprint(\"Predicted values:\") \n",
    "\tprint(y_pred) \n",
    "\treturn y_pred \n",
    "\t\n",
    "# Function to calculate accuracy \n",
    "def cal_accuracy(y_test, y_pred): \n",
    "\t\n",
    "\tprint(\"Confusion Matrix: \", \n",
    "\t\tconfusion_matrix(y_test, y_pred)) \n",
    "\t\n",
    "\tprint (\"Accuracy : \", \n",
    "\taccuracy_score(y_test,y_pred)*100) \n",
    "\t\n",
    "\tprint(\"Report : \", \n",
    "\tclassification_report(y_test, y_pred)) \n",
    "\n",
    "# Driver code \n",
    "def main(): \n",
    "\t\n",
    "\t# Building Phase \n",
    "\t#data = importdata() \n",
    "\t#X, Y, X_train, X_test, y_train, y_test = splitdataset(data) \n",
    "\tclf_gini = train_using_gini(X_train, X_test, y_train) \n",
    "\tclf_entropy = tarin_using_entropy(X_train, X_test, y_train) \n",
    "\t\n",
    "\t# Operational Phase \n",
    "\tprint(\"Results Using Gini Index:\") \n",
    "\t\n",
    "\t# Prediction using gini \n",
    "\ty_pred_gini = prediction(X_test, clf_gini) \n",
    "\tcal_accuracy(y_test, y_pred_gini) \n",
    "\t\n",
    "\tprint(\"Results Using Entropy:\") \n",
    "\t# Prediction using entropy \n",
    "\ty_pred_entropy = prediction(X_test, clf_entropy) \n",
    "\tcal_accuracy(y_test, y_pred_entropy) \n",
    "\t\n",
    "\t\n",
    "# Calling main function \n",
    "if __name__==\"__main__\": \n",
    "\tmain() "
   ]
  },
  {
   "cell_type": "code",
   "execution_count": null,
   "metadata": {
    "collapsed": true
   },
   "outputs": [],
   "source": []
  },
  {
   "cell_type": "code",
   "execution_count": null,
   "metadata": {
    "collapsed": true
   },
   "outputs": [],
   "source": []
  },
  {
   "cell_type": "code",
   "execution_count": null,
   "metadata": {
    "collapsed": true
   },
   "outputs": [],
   "source": []
  },
  {
   "cell_type": "markdown",
   "metadata": {},
   "source": [
    "<b>Note: Not ideal to run Decision Trees on data with such huge features as it will take very long hours to train hence taking only 300 as max depth<b>"
   ]
  },
  {
   "cell_type": "code",
   "execution_count": 34,
   "metadata": {},
   "outputs": [
    {
     "ename": "TypeError",
     "evalue": "'GridSearchCV' object is not iterable",
     "output_type": "error",
     "traceback": [
      "\u001b[0;31m---------------------------------------------------------------------------\u001b[0m",
      "\u001b[0;31mTypeError\u001b[0m                                 Traceback (most recent call last)",
      "\u001b[0;32m<ipython-input-34-5f1413e70622>\u001b[0m in \u001b[0;36m<module>\u001b[0;34m()\u001b[0m\n\u001b[1;32m      2\u001b[0m \u001b[0mx\u001b[0m\u001b[0;34m=\u001b[0m\u001b[0;34m[\u001b[0m\u001b[0;34m]\u001b[0m\u001b[0;34m\u001b[0m\u001b[0m\n\u001b[1;32m      3\u001b[0m \u001b[0my\u001b[0m\u001b[0;34m=\u001b[0m\u001b[0;34m[\u001b[0m\u001b[0;34m]\u001b[0m\u001b[0;34m\u001b[0m\u001b[0m\n\u001b[0;32m----> 4\u001b[0;31m \u001b[0;32mfor\u001b[0m \u001b[0ma\u001b[0m \u001b[0;32min\u001b[0m \u001b[0mgsv\u001b[0m\u001b[0;34m:\u001b[0m\u001b[0;34m\u001b[0m\u001b[0m\n\u001b[0m\u001b[1;32m      5\u001b[0m     \u001b[0mx\u001b[0m\u001b[0;34m.\u001b[0m\u001b[0mappend\u001b[0m\u001b[0;34m(\u001b[0m\u001b[0ma\u001b[0m\u001b[0;34m[\u001b[0m\u001b[0;36m0\u001b[0m\u001b[0;34m]\u001b[0m\u001b[0;34m[\u001b[0m\u001b[0;34m'max_depth'\u001b[0m\u001b[0;34m]\u001b[0m\u001b[0;34m)\u001b[0m\u001b[0;34m\u001b[0m\u001b[0m\n\u001b[1;32m      6\u001b[0m     \u001b[0my\u001b[0m\u001b[0;34m.\u001b[0m\u001b[0mappend\u001b[0m\u001b[0;34m(\u001b[0m\u001b[0ma\u001b[0m\u001b[0;34m[\u001b[0m\u001b[0;36m1\u001b[0m\u001b[0;34m]\u001b[0m\u001b[0;34m)\u001b[0m\u001b[0;34m\u001b[0m\u001b[0m\n",
      "\u001b[0;31mTypeError\u001b[0m: 'GridSearchCV' object is not iterable"
     ]
    }
   ],
   "source": [
    "gsv = openfromfile(\"gsv.uni\")\n",
    "x=[]\n",
    "y=[]\n",
    "for a in gsv.cv_results_:\n",
    "    x.append(a[0]['max_depth']) \n",
    "    y.append(a[1])\n",
    "plt.xlim(-10,300)\n",
    "plt.ylim(0.2,0.5)\n",
    "plt.xlabel(r\"max depth\",fontsize=15)\n",
    "plt.ylabel(\"f1-score\")\n",
    "plt.title(r'F1 Score v/s Max Depth')\n",
    "plt.plot(x,y)\n",
    "plt.show()"
   ]
  },
  {
   "cell_type": "code",
   "execution_count": 25,
   "metadata": {},
   "outputs": [
    {
     "name": "stdout",
     "output_type": "stream",
     "text": [
      "Accuracy on test set: 100.000%\n",
      "Precision on test set: 1.000\n",
      "Recall on test set: 1.000\n",
      "F1-Score on test set: 1.000\n",
      "Confusion Matrix of test set:\n",
      " [ [TN  FP]\n",
      " [FN TP] ]\n",
      "\n"
     ]
    },
    {
     "ename": "ValueError",
     "evalue": "Shape of passed values is (1, 1), indices imply (2, 2)",
     "output_type": "error",
     "traceback": [
      "\u001b[0;31m---------------------------------------------------------------------------\u001b[0m",
      "\u001b[0;31mValueError\u001b[0m                                Traceback (most recent call last)",
      "\u001b[0;32m/root/anaconda2/envs/py34/lib/python3.4/site-packages/pandas/core/internals.py\u001b[0m in \u001b[0;36mcreate_block_manager_from_blocks\u001b[0;34m(blocks, axes)\u001b[0m\n\u001b[1;32m   4246\u001b[0m                 blocks = [make_block(values=blocks[0],\n\u001b[0;32m-> 4247\u001b[0;31m                                      placement=slice(0, len(axes[0])))]\n\u001b[0m\u001b[1;32m   4248\u001b[0m \u001b[0;34m\u001b[0m\u001b[0m\n",
      "\u001b[0;32m/root/anaconda2/envs/py34/lib/python3.4/site-packages/pandas/core/internals.py\u001b[0m in \u001b[0;36mmake_block\u001b[0;34m(values, placement, klass, ndim, dtype, fastpath)\u001b[0m\n\u001b[1;32m   2684\u001b[0m \u001b[0;34m\u001b[0m\u001b[0m\n\u001b[0;32m-> 2685\u001b[0;31m     \u001b[0;32mreturn\u001b[0m \u001b[0mklass\u001b[0m\u001b[0;34m(\u001b[0m\u001b[0mvalues\u001b[0m\u001b[0;34m,\u001b[0m \u001b[0mndim\u001b[0m\u001b[0;34m=\u001b[0m\u001b[0mndim\u001b[0m\u001b[0;34m,\u001b[0m \u001b[0mfastpath\u001b[0m\u001b[0;34m=\u001b[0m\u001b[0mfastpath\u001b[0m\u001b[0;34m,\u001b[0m \u001b[0mplacement\u001b[0m\u001b[0;34m=\u001b[0m\u001b[0mplacement\u001b[0m\u001b[0;34m)\u001b[0m\u001b[0;34m\u001b[0m\u001b[0m\n\u001b[0m\u001b[1;32m   2686\u001b[0m \u001b[0;34m\u001b[0m\u001b[0m\n",
      "\u001b[0;32m/root/anaconda2/envs/py34/lib/python3.4/site-packages/pandas/core/internals.py\u001b[0m in \u001b[0;36m__init__\u001b[0;34m(self, values, placement, ndim, fastpath)\u001b[0m\n\u001b[1;32m    108\u001b[0m                              'implies %d' % (len(self.values),\n\u001b[0;32m--> 109\u001b[0;31m                                              len(self.mgr_locs)))\n\u001b[0m\u001b[1;32m    110\u001b[0m \u001b[0;34m\u001b[0m\u001b[0m\n",
      "\u001b[0;31mValueError\u001b[0m: Wrong number of items passed 1, placement implies 2",
      "\nDuring handling of the above exception, another exception occurred:\n",
      "\u001b[0;31mValueError\u001b[0m                                Traceback (most recent call last)",
      "\u001b[0;32m<ipython-input-25-19720880223c>\u001b[0m in \u001b[0;36m<module>\u001b[0;34m()\u001b[0m\n\u001b[1;32m     10\u001b[0m \u001b[0mprint\u001b[0m\u001b[0;34m(\u001b[0m\u001b[0;34m\"F1-Score on test set: %0.3f\"\u001b[0m\u001b[0;34m%\u001b[0m\u001b[0;34m(\u001b[0m\u001b[0mf1_score\u001b[0m\u001b[0;34m(\u001b[0m\u001b[0my_test\u001b[0m\u001b[0;34m,\u001b[0m \u001b[0my_pred\u001b[0m\u001b[0;34m)\u001b[0m\u001b[0;34m)\u001b[0m\u001b[0;34m)\u001b[0m\u001b[0;34m\u001b[0m\u001b[0m\n\u001b[1;32m     11\u001b[0m \u001b[0mprint\u001b[0m\u001b[0;34m(\u001b[0m\u001b[0;34m\"Confusion Matrix of test set:\\n [ [TN  FP]\\n [FN TP] ]\\n\"\u001b[0m\u001b[0;34m)\u001b[0m\u001b[0;34m\u001b[0m\u001b[0m\n\u001b[0;32m---> 12\u001b[0;31m \u001b[0mdf_cm\u001b[0m \u001b[0;34m=\u001b[0m \u001b[0mpd\u001b[0m\u001b[0;34m.\u001b[0m\u001b[0mDataFrame\u001b[0m\u001b[0;34m(\u001b[0m\u001b[0mconfusion_matrix\u001b[0m\u001b[0;34m(\u001b[0m\u001b[0my_test\u001b[0m\u001b[0;34m,\u001b[0m \u001b[0my_pred\u001b[0m\u001b[0;34m)\u001b[0m\u001b[0;34m,\u001b[0m \u001b[0mrange\u001b[0m\u001b[0;34m(\u001b[0m\u001b[0;36m2\u001b[0m\u001b[0;34m)\u001b[0m\u001b[0;34m,\u001b[0m\u001b[0mrange\u001b[0m\u001b[0;34m(\u001b[0m\u001b[0;36m2\u001b[0m\u001b[0;34m)\u001b[0m\u001b[0;34m)\u001b[0m\u001b[0;34m\u001b[0m\u001b[0m\n\u001b[0m\u001b[1;32m     13\u001b[0m \u001b[0msns\u001b[0m\u001b[0;34m.\u001b[0m\u001b[0mset\u001b[0m\u001b[0;34m(\u001b[0m\u001b[0mfont_scale\u001b[0m\u001b[0;34m=\u001b[0m\u001b[0;36m1.4\u001b[0m\u001b[0;34m)\u001b[0m\u001b[0;31m#for label size\u001b[0m\u001b[0;34m\u001b[0m\u001b[0m\n\u001b[1;32m     14\u001b[0m \u001b[0msns\u001b[0m\u001b[0;34m.\u001b[0m\u001b[0mheatmap\u001b[0m\u001b[0;34m(\u001b[0m\u001b[0mdf_cm\u001b[0m\u001b[0;34m,\u001b[0m \u001b[0mannot\u001b[0m\u001b[0;34m=\u001b[0m\u001b[0;32mTrue\u001b[0m\u001b[0;34m,\u001b[0m\u001b[0mannot_kws\u001b[0m\u001b[0;34m=\u001b[0m\u001b[0;34m{\u001b[0m\u001b[0;34m\"size\"\u001b[0m\u001b[0;34m:\u001b[0m \u001b[0;36m16\u001b[0m\u001b[0;34m}\u001b[0m\u001b[0;34m,\u001b[0m \u001b[0mfmt\u001b[0m\u001b[0;34m=\u001b[0m\u001b[0;34m'g'\u001b[0m\u001b[0;34m)\u001b[0m\u001b[0;34m\u001b[0m\u001b[0m\n",
      "\u001b[0;32m/root/anaconda2/envs/py34/lib/python3.4/site-packages/pandas/core/frame.py\u001b[0m in \u001b[0;36m__init__\u001b[0;34m(self, data, index, columns, dtype, copy)\u001b[0m\n\u001b[1;32m    295\u001b[0m             \u001b[0;32melse\u001b[0m\u001b[0;34m:\u001b[0m\u001b[0;34m\u001b[0m\u001b[0m\n\u001b[1;32m    296\u001b[0m                 mgr = self._init_ndarray(data, index, columns, dtype=dtype,\n\u001b[0;32m--> 297\u001b[0;31m                                          copy=copy)\n\u001b[0m\u001b[1;32m    298\u001b[0m         \u001b[0;32melif\u001b[0m \u001b[0misinstance\u001b[0m\u001b[0;34m(\u001b[0m\u001b[0mdata\u001b[0m\u001b[0;34m,\u001b[0m \u001b[0;34m(\u001b[0m\u001b[0mlist\u001b[0m\u001b[0;34m,\u001b[0m \u001b[0mtypes\u001b[0m\u001b[0;34m.\u001b[0m\u001b[0mGeneratorType\u001b[0m\u001b[0;34m)\u001b[0m\u001b[0;34m)\u001b[0m\u001b[0;34m:\u001b[0m\u001b[0;34m\u001b[0m\u001b[0m\n\u001b[1;32m    299\u001b[0m             \u001b[0;32mif\u001b[0m \u001b[0misinstance\u001b[0m\u001b[0;34m(\u001b[0m\u001b[0mdata\u001b[0m\u001b[0;34m,\u001b[0m \u001b[0mtypes\u001b[0m\u001b[0;34m.\u001b[0m\u001b[0mGeneratorType\u001b[0m\u001b[0;34m)\u001b[0m\u001b[0;34m:\u001b[0m\u001b[0;34m\u001b[0m\u001b[0m\n",
      "\u001b[0;32m/root/anaconda2/envs/py34/lib/python3.4/site-packages/pandas/core/frame.py\u001b[0m in \u001b[0;36m_init_ndarray\u001b[0;34m(self, values, index, columns, dtype, copy)\u001b[0m\n\u001b[1;32m    472\u001b[0m             \u001b[0mvalues\u001b[0m \u001b[0;34m=\u001b[0m \u001b[0m_possibly_infer_to_datetimelike\u001b[0m\u001b[0;34m(\u001b[0m\u001b[0mvalues\u001b[0m\u001b[0;34m)\u001b[0m\u001b[0;34m\u001b[0m\u001b[0m\n\u001b[1;32m    473\u001b[0m \u001b[0;34m\u001b[0m\u001b[0m\n\u001b[0;32m--> 474\u001b[0;31m         \u001b[0;32mreturn\u001b[0m \u001b[0mcreate_block_manager_from_blocks\u001b[0m\u001b[0;34m(\u001b[0m\u001b[0;34m[\u001b[0m\u001b[0mvalues\u001b[0m\u001b[0;34m]\u001b[0m\u001b[0;34m,\u001b[0m \u001b[0;34m[\u001b[0m\u001b[0mcolumns\u001b[0m\u001b[0;34m,\u001b[0m \u001b[0mindex\u001b[0m\u001b[0;34m]\u001b[0m\u001b[0;34m)\u001b[0m\u001b[0;34m\u001b[0m\u001b[0m\n\u001b[0m\u001b[1;32m    475\u001b[0m \u001b[0;34m\u001b[0m\u001b[0m\n\u001b[1;32m    476\u001b[0m     \u001b[0;34m@\u001b[0m\u001b[0mproperty\u001b[0m\u001b[0;34m\u001b[0m\u001b[0m\n",
      "\u001b[0;32m/root/anaconda2/envs/py34/lib/python3.4/site-packages/pandas/core/internals.py\u001b[0m in \u001b[0;36mcreate_block_manager_from_blocks\u001b[0;34m(blocks, axes)\u001b[0m\n\u001b[1;32m   4254\u001b[0m         \u001b[0mblocks\u001b[0m \u001b[0;34m=\u001b[0m \u001b[0;34m[\u001b[0m\u001b[0mgetattr\u001b[0m\u001b[0;34m(\u001b[0m\u001b[0mb\u001b[0m\u001b[0;34m,\u001b[0m \u001b[0;34m'values'\u001b[0m\u001b[0;34m,\u001b[0m \u001b[0mb\u001b[0m\u001b[0;34m)\u001b[0m \u001b[0;32mfor\u001b[0m \u001b[0mb\u001b[0m \u001b[0;32min\u001b[0m \u001b[0mblocks\u001b[0m\u001b[0;34m]\u001b[0m\u001b[0;34m\u001b[0m\u001b[0m\n\u001b[1;32m   4255\u001b[0m         \u001b[0mtot_items\u001b[0m \u001b[0;34m=\u001b[0m \u001b[0msum\u001b[0m\u001b[0;34m(\u001b[0m\u001b[0mb\u001b[0m\u001b[0;34m.\u001b[0m\u001b[0mshape\u001b[0m\u001b[0;34m[\u001b[0m\u001b[0;36m0\u001b[0m\u001b[0;34m]\u001b[0m \u001b[0;32mfor\u001b[0m \u001b[0mb\u001b[0m \u001b[0;32min\u001b[0m \u001b[0mblocks\u001b[0m\u001b[0;34m)\u001b[0m\u001b[0;34m\u001b[0m\u001b[0m\n\u001b[0;32m-> 4256\u001b[0;31m         \u001b[0mconstruction_error\u001b[0m\u001b[0;34m(\u001b[0m\u001b[0mtot_items\u001b[0m\u001b[0;34m,\u001b[0m \u001b[0mblocks\u001b[0m\u001b[0;34m[\u001b[0m\u001b[0;36m0\u001b[0m\u001b[0;34m]\u001b[0m\u001b[0;34m.\u001b[0m\u001b[0mshape\u001b[0m\u001b[0;34m[\u001b[0m\u001b[0;36m1\u001b[0m\u001b[0;34m:\u001b[0m\u001b[0;34m]\u001b[0m\u001b[0;34m,\u001b[0m \u001b[0maxes\u001b[0m\u001b[0;34m,\u001b[0m \u001b[0me\u001b[0m\u001b[0;34m)\u001b[0m\u001b[0;34m\u001b[0m\u001b[0m\n\u001b[0m\u001b[1;32m   4257\u001b[0m \u001b[0;34m\u001b[0m\u001b[0m\n\u001b[1;32m   4258\u001b[0m \u001b[0;34m\u001b[0m\u001b[0m\n",
      "\u001b[0;32m/root/anaconda2/envs/py34/lib/python3.4/site-packages/pandas/core/internals.py\u001b[0m in \u001b[0;36mconstruction_error\u001b[0;34m(tot_items, block_shape, axes, e)\u001b[0m\n\u001b[1;32m   4231\u001b[0m         \u001b[0;32mraise\u001b[0m \u001b[0mValueError\u001b[0m\u001b[0;34m(\u001b[0m\u001b[0;34m\"Empty data passed with indices specified.\"\u001b[0m\u001b[0;34m)\u001b[0m\u001b[0;34m\u001b[0m\u001b[0m\n\u001b[1;32m   4232\u001b[0m     raise ValueError(\"Shape of passed values is {0}, indices imply {1}\".format(\n\u001b[0;32m-> 4233\u001b[0;31m         passed, implied))\n\u001b[0m\u001b[1;32m   4234\u001b[0m \u001b[0;34m\u001b[0m\u001b[0m\n\u001b[1;32m   4235\u001b[0m \u001b[0;34m\u001b[0m\u001b[0m\n",
      "\u001b[0;31mValueError\u001b[0m: Shape of passed values is (1, 1), indices imply (2, 2)"
     ]
    }
   ],
   "source": [
    "#Testing Accuracy on Test data\n",
    "from sklearn.tree import DecisionTreeClassifier\n",
    "\n",
    "clf = DecisionTreeClassifier(max_depth=291)\n",
    "clf.fit(X_train,y_train)\n",
    "y_pred = clf.predict(X_test)\n",
    "print(\"Accuracy on test set: %0.3f%%\"%(accuracy_score(y_test, y_pred)*100))\n",
    "print(\"Precision on test set: %0.3f\"%(precision_score(y_test, y_pred)))\n",
    "print(\"Recall on test set: %0.3f\"%(recall_score(y_test, y_pred)))\n",
    "print(\"F1-Score on test set: %0.3f\"%(f1_score(y_test, y_pred)))\n",
    "print(\"Confusion Matrix of test set:\\n [ [TN  FP]\\n [FN TP] ]\\n\")\n",
    "df_cm = pd.DataFrame(confusion_matrix(y_test, y_pred), range(2),range(2))\n",
    "sns.set(font_scale=1.4)#for label size\n",
    "sns.heatmap(df_cm, annot=True,annot_kws={\"size\": 16}, fmt='g')"
   ]
  },
  {
   "cell_type": "markdown",
   "metadata": {},
   "source": [
    "![alt](https://chrisalbon.com/images/machine_learning_flashcards/Feature_Importance_print.png)"
   ]
  },
  {
   "cell_type": "markdown",
   "metadata": {},
   "source": [
    "### Top 25 most important features"
   ]
  },
  {
   "cell_type": "code",
   "execution_count": 26,
   "metadata": {},
   "outputs": [
    {
     "data": {
      "image/png": "[encoded data removed]",
      "text/plain": [
       "<matplotlib.figure.Figure at 0x7f4bae9460b8>"
      ]
     },
     "metadata": {},
     "output_type": "display_data"
    }
   ],
   "source": [
    "# Calculate feature importances from decision trees\n",
    "importances = clf.feature_importances_\n",
    "\n",
    "# Sort feature importances in descending order\n",
    "indices = np.argsort(importances)[::-1][:25]\n",
    "\n",
    "# Rearrange feature names so they match the sorted feature importances\n",
    "names = uni_gram.get_feature_names()\n",
    "\n",
    "sns.set(rc={'figure.figsize':(11.7,8.27)})\n",
    "\n",
    "# Create plot\n",
    "plt.figure()\n",
    "\n",
    "# Create plot title\n",
    "plt.title(\"Feature Importance\")\n",
    "\n",
    "# Add bars\n",
    "plt.bar(range(25), importances[indices])\n",
    "\n",
    "# Add feature names as x-axis labels\n",
    "names = np.array(names)\n",
    "plt.xticks(range(25), names[indices], rotation=90)\n",
    "\n",
    "# Show plot\n",
    "plt.show()\n",
    "# uni_gram.get_feature_names()"
   ]
  },
  {
   "cell_type": "markdown",
   "metadata": {},
   "source": [
    "### bi-gram"
   ]
  },
  {
   "cell_type": "code",
   "execution_count": 27,
   "metadata": {},
   "outputs": [
    {
     "name": "stdout",
     "output_type": "stream",
     "text": [
      "Train Data Size:  (350, 12704)\n",
      "Test Data Size:  (150, 12704)\n"
     ]
    }
   ],
   "source": [
    "from sklearn.feature_extraction.text import CountVectorizer\n",
    "from sklearn.model_selection import train_test_split\n",
    "from sklearn import preprocessing\n",
    "\n",
    "#Breaking into Train and test\n",
    "X_train, X_test, y_train, y_test = train_test_split(df_sample['CleanedText'].values,df_sample['Score'].values,test_size=0.3,shuffle=False)\n",
    "\n",
    "#taking one words and two consecutive words together\n",
    "bi_gram = CountVectorizer(ngram_range=(1,2)) \n",
    "X_train = bi_gram.fit_transform(X_train)\n",
    "#Normalize Data\n",
    "X_train = preprocessing.normalize(X_train)\n",
    "print(\"Train Data Size: \",X_train.shape)\n",
    "X_test = bi_gram.transform(X_test)\n",
    "#Normalize Data\n",
    "X_test = preprocessing.normalize(X_test)\n",
    "print(\"Test Data Size: \",X_test.shape)"
   ]
  },
  {
   "cell_type": "code",
   "execution_count": 29,
   "metadata": {},
   "outputs": [
    {
     "name": "stdout",
     "output_type": "stream",
     "text": [
      "CPU times: user 2 µs, sys: 1e+03 ns, total: 3 µs\n",
      "Wall time: 5.25 µs\n",
      "Fitting 10 folds for each of 30 candidates, totalling 300 fits\n"
     ]
    },
    {
     "name": "stderr",
     "output_type": "stream",
     "text": [
      "[Parallel(n_jobs=1)]: Using backend SequentialBackend with 1 concurrent workers.\n"
     ]
    },
    {
     "name": "stdout",
     "output_type": "stream",
     "text": [
      "Best HyperParameter:  {'max_depth': 7}\n",
      "Best Accuracy: 100.00%\n"
     ]
    },
    {
     "name": "stderr",
     "output_type": "stream",
     "text": [
      "[Parallel(n_jobs=1)]: Done 300 out of 300 | elapsed:    1.0s finished\n"
     ]
    }
   ],
   "source": [
    "%time\n",
    "from sklearn.model_selection import TimeSeriesSplit\n",
    "from sklearn.model_selection import GridSearchCV\n",
    "from sklearn.tree import DecisionTreeClassifier\n",
    "from scipy.stats import randint as sp_randint\n",
    "\n",
    "g = sp_randint(2,300)\n",
    "clf = DecisionTreeClassifier()\n",
    "param_grid = {'max_depth':sorted(g.rvs(30))} #params we need to try on classifier\n",
    "tscv = TimeSeriesSplit(n_splits=10) #For time based splitting\n",
    "gsv = GridSearchCV(clf,param_grid,cv=tscv,verbose=1,scoring='f1')\n",
    "gsv.fit(X_train,y_train)\n",
    "savetofile(gsv,\"gsv_bi\")\n",
    "print(\"Best HyperParameter: \",gsv.best_params_)\n",
    "print(\"Best Accuracy: %.2f%%\"%(gsv.best_score_*100))"
   ]
  },
  {
   "cell_type": "markdown",
   "metadata": {},
   "source": [
    "<b>Note: Not ideal to run Decision Trees on data with such huge features as it will take very long hours to train hence taking only 300 as max depth<b>"
   ]
  },
  {
   "cell_type": "code",
   "execution_count": 31,
   "metadata": {},
   "outputs": [
    {
     "ename": "AttributeError",
     "evalue": "'GridSearchCV' object has no attribute 'grid_scores_'",
     "output_type": "error",
     "traceback": [
      "\u001b[0;31m---------------------------------------------------------------------------\u001b[0m",
      "\u001b[0;31mAttributeError\u001b[0m                            Traceback (most recent call last)",
      "\u001b[0;32m<ipython-input-31-2f9d6096eb2b>\u001b[0m in \u001b[0;36m<module>\u001b[0;34m()\u001b[0m\n\u001b[1;32m      3\u001b[0m \u001b[0mx\u001b[0m\u001b[0;34m=\u001b[0m\u001b[0;34m[\u001b[0m\u001b[0;34m]\u001b[0m\u001b[0;34m\u001b[0m\u001b[0m\n\u001b[1;32m      4\u001b[0m \u001b[0my\u001b[0m\u001b[0;34m=\u001b[0m\u001b[0;34m[\u001b[0m\u001b[0;34m]\u001b[0m\u001b[0;34m\u001b[0m\u001b[0m\n\u001b[0;32m----> 5\u001b[0;31m \u001b[0;32mfor\u001b[0m \u001b[0ma\u001b[0m \u001b[0;32min\u001b[0m \u001b[0mgsv\u001b[0m\u001b[0;34m.\u001b[0m\u001b[0mgrid_scores_\u001b[0m\u001b[0;34m:\u001b[0m\u001b[0;34m\u001b[0m\u001b[0m\n\u001b[0m\u001b[1;32m      6\u001b[0m     \u001b[0mx\u001b[0m\u001b[0;34m.\u001b[0m\u001b[0mappend\u001b[0m\u001b[0;34m(\u001b[0m\u001b[0ma\u001b[0m\u001b[0;34m[\u001b[0m\u001b[0;36m0\u001b[0m\u001b[0;34m]\u001b[0m\u001b[0;34m[\u001b[0m\u001b[0;34m'max_depth'\u001b[0m\u001b[0;34m]\u001b[0m\u001b[0;34m)\u001b[0m\u001b[0;34m\u001b[0m\u001b[0m\n\u001b[1;32m      7\u001b[0m     \u001b[0my\u001b[0m\u001b[0;34m.\u001b[0m\u001b[0mappend\u001b[0m\u001b[0;34m(\u001b[0m\u001b[0ma\u001b[0m\u001b[0;34m[\u001b[0m\u001b[0;36m1\u001b[0m\u001b[0;34m]\u001b[0m\u001b[0;34m)\u001b[0m\u001b[0;34m\u001b[0m\u001b[0m\n",
      "\u001b[0;31mAttributeError\u001b[0m: 'GridSearchCV' object has no attribute 'grid_scores_'"
     ]
    }
   ],
   "source": [
    "from sklearn.model_selection import GridSearchCV\n",
    "gsv = openfromfile(\"gsv_bi\")\n",
    "x=[]\n",
    "y=[]\n",
    "for a in gsv.grid_scores_:\n",
    "    x.append(a[0]['max_depth']) \n",
    "    y.append(a[1])\n",
    "plt.xlim(0,300)\n",
    "plt.ylim(0.35,0.5)\n",
    "plt.xlabel(r\"max depth\",fontsize=15)\n",
    "plt.ylabel(\"f1-score\")\n",
    "plt.title(r'F1 Score v/s Max Depth')\n",
    "plt.plot(x,y)\n",
    "plt.show()"
   ]
  },
  {
   "cell_type": "code",
   "execution_count": 32,
   "metadata": {},
   "outputs": [
    {
     "name": "stdout",
     "output_type": "stream",
     "text": [
      "Accuracy on test set: 100.000%\n",
      "Precision on test set: 1.000\n",
      "Recall on test set: 1.000\n",
      "F1-Score on test set: 1.000\n",
      "Confusion Matrix of test set:\n",
      " [ [TN  FP]\n",
      " [FN TP] ]\n",
      "\n"
     ]
    },
    {
     "ename": "ValueError",
     "evalue": "Shape of passed values is (1, 1), indices imply (2, 2)",
     "output_type": "error",
     "traceback": [
      "\u001b[0;31m---------------------------------------------------------------------------\u001b[0m",
      "\u001b[0;31mValueError\u001b[0m                                Traceback (most recent call last)",
      "\u001b[0;32m/root/anaconda2/envs/py34/lib/python3.4/site-packages/pandas/core/internals.py\u001b[0m in \u001b[0;36mcreate_block_manager_from_blocks\u001b[0;34m(blocks, axes)\u001b[0m\n\u001b[1;32m   4246\u001b[0m                 blocks = [make_block(values=blocks[0],\n\u001b[0;32m-> 4247\u001b[0;31m                                      placement=slice(0, len(axes[0])))]\n\u001b[0m\u001b[1;32m   4248\u001b[0m \u001b[0;34m\u001b[0m\u001b[0m\n",
      "\u001b[0;32m/root/anaconda2/envs/py34/lib/python3.4/site-packages/pandas/core/internals.py\u001b[0m in \u001b[0;36mmake_block\u001b[0;34m(values, placement, klass, ndim, dtype, fastpath)\u001b[0m\n\u001b[1;32m   2684\u001b[0m \u001b[0;34m\u001b[0m\u001b[0m\n\u001b[0;32m-> 2685\u001b[0;31m     \u001b[0;32mreturn\u001b[0m \u001b[0mklass\u001b[0m\u001b[0;34m(\u001b[0m\u001b[0mvalues\u001b[0m\u001b[0;34m,\u001b[0m \u001b[0mndim\u001b[0m\u001b[0;34m=\u001b[0m\u001b[0mndim\u001b[0m\u001b[0;34m,\u001b[0m \u001b[0mfastpath\u001b[0m\u001b[0;34m=\u001b[0m\u001b[0mfastpath\u001b[0m\u001b[0;34m,\u001b[0m \u001b[0mplacement\u001b[0m\u001b[0;34m=\u001b[0m\u001b[0mplacement\u001b[0m\u001b[0;34m)\u001b[0m\u001b[0;34m\u001b[0m\u001b[0m\n\u001b[0m\u001b[1;32m   2686\u001b[0m \u001b[0;34m\u001b[0m\u001b[0m\n",
      "\u001b[0;32m/root/anaconda2/envs/py34/lib/python3.4/site-packages/pandas/core/internals.py\u001b[0m in \u001b[0;36m__init__\u001b[0;34m(self, values, placement, ndim, fastpath)\u001b[0m\n\u001b[1;32m    108\u001b[0m                              'implies %d' % (len(self.values),\n\u001b[0;32m--> 109\u001b[0;31m                                              len(self.mgr_locs)))\n\u001b[0m\u001b[1;32m    110\u001b[0m \u001b[0;34m\u001b[0m\u001b[0m\n",
      "\u001b[0;31mValueError\u001b[0m: Wrong number of items passed 1, placement implies 2",
      "\nDuring handling of the above exception, another exception occurred:\n",
      "\u001b[0;31mValueError\u001b[0m                                Traceback (most recent call last)",
      "\u001b[0;32m<ipython-input-32-da77d6795e02>\u001b[0m in \u001b[0;36m<module>\u001b[0;34m()\u001b[0m\n\u001b[1;32m     10\u001b[0m \u001b[0mprint\u001b[0m\u001b[0;34m(\u001b[0m\u001b[0;34m\"F1-Score on test set: %0.3f\"\u001b[0m\u001b[0;34m%\u001b[0m\u001b[0;34m(\u001b[0m\u001b[0mf1_score\u001b[0m\u001b[0;34m(\u001b[0m\u001b[0my_test\u001b[0m\u001b[0;34m,\u001b[0m \u001b[0my_pred\u001b[0m\u001b[0;34m)\u001b[0m\u001b[0;34m)\u001b[0m\u001b[0;34m)\u001b[0m\u001b[0;34m\u001b[0m\u001b[0m\n\u001b[1;32m     11\u001b[0m \u001b[0mprint\u001b[0m\u001b[0;34m(\u001b[0m\u001b[0;34m\"Confusion Matrix of test set:\\n [ [TN  FP]\\n [FN TP] ]\\n\"\u001b[0m\u001b[0;34m)\u001b[0m\u001b[0;34m\u001b[0m\u001b[0m\n\u001b[0;32m---> 12\u001b[0;31m \u001b[0mdf_cm\u001b[0m \u001b[0;34m=\u001b[0m \u001b[0mpd\u001b[0m\u001b[0;34m.\u001b[0m\u001b[0mDataFrame\u001b[0m\u001b[0;34m(\u001b[0m\u001b[0mconfusion_matrix\u001b[0m\u001b[0;34m(\u001b[0m\u001b[0my_test\u001b[0m\u001b[0;34m,\u001b[0m \u001b[0my_pred\u001b[0m\u001b[0;34m)\u001b[0m\u001b[0;34m,\u001b[0m \u001b[0mrange\u001b[0m\u001b[0;34m(\u001b[0m\u001b[0;36m2\u001b[0m\u001b[0;34m)\u001b[0m\u001b[0;34m,\u001b[0m\u001b[0mrange\u001b[0m\u001b[0;34m(\u001b[0m\u001b[0;36m2\u001b[0m\u001b[0;34m)\u001b[0m\u001b[0;34m)\u001b[0m\u001b[0;34m\u001b[0m\u001b[0m\n\u001b[0m\u001b[1;32m     13\u001b[0m \u001b[0msns\u001b[0m\u001b[0;34m.\u001b[0m\u001b[0mset\u001b[0m\u001b[0;34m(\u001b[0m\u001b[0mfont_scale\u001b[0m\u001b[0;34m=\u001b[0m\u001b[0;36m1.4\u001b[0m\u001b[0;34m)\u001b[0m\u001b[0;31m#for label size\u001b[0m\u001b[0;34m\u001b[0m\u001b[0m\n\u001b[1;32m     14\u001b[0m \u001b[0msns\u001b[0m\u001b[0;34m.\u001b[0m\u001b[0mheatmap\u001b[0m\u001b[0;34m(\u001b[0m\u001b[0mdf_cm\u001b[0m\u001b[0;34m,\u001b[0m \u001b[0mannot\u001b[0m\u001b[0;34m=\u001b[0m\u001b[0;32mTrue\u001b[0m\u001b[0;34m,\u001b[0m\u001b[0mannot_kws\u001b[0m\u001b[0;34m=\u001b[0m\u001b[0;34m{\u001b[0m\u001b[0;34m\"size\"\u001b[0m\u001b[0;34m:\u001b[0m \u001b[0;36m16\u001b[0m\u001b[0;34m}\u001b[0m\u001b[0;34m,\u001b[0m \u001b[0mfmt\u001b[0m\u001b[0;34m=\u001b[0m\u001b[0;34m'g'\u001b[0m\u001b[0;34m)\u001b[0m\u001b[0;34m\u001b[0m\u001b[0m\n",
      "\u001b[0;32m/root/anaconda2/envs/py34/lib/python3.4/site-packages/pandas/core/frame.py\u001b[0m in \u001b[0;36m__init__\u001b[0;34m(self, data, index, columns, dtype, copy)\u001b[0m\n\u001b[1;32m    295\u001b[0m             \u001b[0;32melse\u001b[0m\u001b[0;34m:\u001b[0m\u001b[0;34m\u001b[0m\u001b[0m\n\u001b[1;32m    296\u001b[0m                 mgr = self._init_ndarray(data, index, columns, dtype=dtype,\n\u001b[0;32m--> 297\u001b[0;31m                                          copy=copy)\n\u001b[0m\u001b[1;32m    298\u001b[0m         \u001b[0;32melif\u001b[0m \u001b[0misinstance\u001b[0m\u001b[0;34m(\u001b[0m\u001b[0mdata\u001b[0m\u001b[0;34m,\u001b[0m \u001b[0;34m(\u001b[0m\u001b[0mlist\u001b[0m\u001b[0;34m,\u001b[0m \u001b[0mtypes\u001b[0m\u001b[0;34m.\u001b[0m\u001b[0mGeneratorType\u001b[0m\u001b[0;34m)\u001b[0m\u001b[0;34m)\u001b[0m\u001b[0;34m:\u001b[0m\u001b[0;34m\u001b[0m\u001b[0m\n\u001b[1;32m    299\u001b[0m             \u001b[0;32mif\u001b[0m \u001b[0misinstance\u001b[0m\u001b[0;34m(\u001b[0m\u001b[0mdata\u001b[0m\u001b[0;34m,\u001b[0m \u001b[0mtypes\u001b[0m\u001b[0;34m.\u001b[0m\u001b[0mGeneratorType\u001b[0m\u001b[0;34m)\u001b[0m\u001b[0;34m:\u001b[0m\u001b[0;34m\u001b[0m\u001b[0m\n",
      "\u001b[0;32m/root/anaconda2/envs/py34/lib/python3.4/site-packages/pandas/core/frame.py\u001b[0m in \u001b[0;36m_init_ndarray\u001b[0;34m(self, values, index, columns, dtype, copy)\u001b[0m\n\u001b[1;32m    472\u001b[0m             \u001b[0mvalues\u001b[0m \u001b[0;34m=\u001b[0m \u001b[0m_possibly_infer_to_datetimelike\u001b[0m\u001b[0;34m(\u001b[0m\u001b[0mvalues\u001b[0m\u001b[0;34m)\u001b[0m\u001b[0;34m\u001b[0m\u001b[0m\n\u001b[1;32m    473\u001b[0m \u001b[0;34m\u001b[0m\u001b[0m\n\u001b[0;32m--> 474\u001b[0;31m         \u001b[0;32mreturn\u001b[0m \u001b[0mcreate_block_manager_from_blocks\u001b[0m\u001b[0;34m(\u001b[0m\u001b[0;34m[\u001b[0m\u001b[0mvalues\u001b[0m\u001b[0;34m]\u001b[0m\u001b[0;34m,\u001b[0m \u001b[0;34m[\u001b[0m\u001b[0mcolumns\u001b[0m\u001b[0;34m,\u001b[0m \u001b[0mindex\u001b[0m\u001b[0;34m]\u001b[0m\u001b[0;34m)\u001b[0m\u001b[0;34m\u001b[0m\u001b[0m\n\u001b[0m\u001b[1;32m    475\u001b[0m \u001b[0;34m\u001b[0m\u001b[0m\n\u001b[1;32m    476\u001b[0m     \u001b[0;34m@\u001b[0m\u001b[0mproperty\u001b[0m\u001b[0;34m\u001b[0m\u001b[0m\n",
      "\u001b[0;32m/root/anaconda2/envs/py34/lib/python3.4/site-packages/pandas/core/internals.py\u001b[0m in \u001b[0;36mcreate_block_manager_from_blocks\u001b[0;34m(blocks, axes)\u001b[0m\n\u001b[1;32m   4254\u001b[0m         \u001b[0mblocks\u001b[0m \u001b[0;34m=\u001b[0m \u001b[0;34m[\u001b[0m\u001b[0mgetattr\u001b[0m\u001b[0;34m(\u001b[0m\u001b[0mb\u001b[0m\u001b[0;34m,\u001b[0m \u001b[0;34m'values'\u001b[0m\u001b[0;34m,\u001b[0m \u001b[0mb\u001b[0m\u001b[0;34m)\u001b[0m \u001b[0;32mfor\u001b[0m \u001b[0mb\u001b[0m \u001b[0;32min\u001b[0m \u001b[0mblocks\u001b[0m\u001b[0;34m]\u001b[0m\u001b[0;34m\u001b[0m\u001b[0m\n\u001b[1;32m   4255\u001b[0m         \u001b[0mtot_items\u001b[0m \u001b[0;34m=\u001b[0m \u001b[0msum\u001b[0m\u001b[0;34m(\u001b[0m\u001b[0mb\u001b[0m\u001b[0;34m.\u001b[0m\u001b[0mshape\u001b[0m\u001b[0;34m[\u001b[0m\u001b[0;36m0\u001b[0m\u001b[0;34m]\u001b[0m \u001b[0;32mfor\u001b[0m \u001b[0mb\u001b[0m \u001b[0;32min\u001b[0m \u001b[0mblocks\u001b[0m\u001b[0;34m)\u001b[0m\u001b[0;34m\u001b[0m\u001b[0m\n\u001b[0;32m-> 4256\u001b[0;31m         \u001b[0mconstruction_error\u001b[0m\u001b[0;34m(\u001b[0m\u001b[0mtot_items\u001b[0m\u001b[0;34m,\u001b[0m \u001b[0mblocks\u001b[0m\u001b[0;34m[\u001b[0m\u001b[0;36m0\u001b[0m\u001b[0;34m]\u001b[0m\u001b[0;34m.\u001b[0m\u001b[0mshape\u001b[0m\u001b[0;34m[\u001b[0m\u001b[0;36m1\u001b[0m\u001b[0;34m:\u001b[0m\u001b[0;34m]\u001b[0m\u001b[0;34m,\u001b[0m \u001b[0maxes\u001b[0m\u001b[0;34m,\u001b[0m \u001b[0me\u001b[0m\u001b[0;34m)\u001b[0m\u001b[0;34m\u001b[0m\u001b[0m\n\u001b[0m\u001b[1;32m   4257\u001b[0m \u001b[0;34m\u001b[0m\u001b[0m\n\u001b[1;32m   4258\u001b[0m \u001b[0;34m\u001b[0m\u001b[0m\n",
      "\u001b[0;32m/root/anaconda2/envs/py34/lib/python3.4/site-packages/pandas/core/internals.py\u001b[0m in \u001b[0;36mconstruction_error\u001b[0;34m(tot_items, block_shape, axes, e)\u001b[0m\n\u001b[1;32m   4231\u001b[0m         \u001b[0;32mraise\u001b[0m \u001b[0mValueError\u001b[0m\u001b[0;34m(\u001b[0m\u001b[0;34m\"Empty data passed with indices specified.\"\u001b[0m\u001b[0;34m)\u001b[0m\u001b[0;34m\u001b[0m\u001b[0m\n\u001b[1;32m   4232\u001b[0m     raise ValueError(\"Shape of passed values is {0}, indices imply {1}\".format(\n\u001b[0;32m-> 4233\u001b[0;31m         passed, implied))\n\u001b[0m\u001b[1;32m   4234\u001b[0m \u001b[0;34m\u001b[0m\u001b[0m\n\u001b[1;32m   4235\u001b[0m \u001b[0;34m\u001b[0m\u001b[0m\n",
      "\u001b[0;31mValueError\u001b[0m: Shape of passed values is (1, 1), indices imply (2, 2)"
     ]
    }
   ],
   "source": [
    "#Testing Accuracy on Test data\n",
    "from sklearn.tree import DecisionTreeClassifier\n",
    "\n",
    "clf = DecisionTreeClassifier(max_depth=73)\n",
    "clf.fit(X_train,y_train)\n",
    "y_pred = clf.predict(X_test)\n",
    "print(\"Accuracy on test set: %0.3f%%\"%(accuracy_score(y_test, y_pred)*100))\n",
    "print(\"Precision on test set: %0.3f\"%(precision_score(y_test, y_pred)))\n",
    "print(\"Recall on test set: %0.3f\"%(recall_score(y_test, y_pred)))\n",
    "print(\"F1-Score on test set: %0.3f\"%(f1_score(y_test, y_pred)))\n",
    "print(\"Confusion Matrix of test set:\\n [ [TN  FP]\\n [FN TP] ]\\n\")\n",
    "df_cm = pd.DataFrame(confusion_matrix(y_test, y_pred), range(2),range(2))\n",
    "sns.set(font_scale=1.4)#for label size\n",
    "sns.heatmap(df_cm, annot=True,annot_kws={\"size\": 16}, fmt='g')"
   ]
  },
  {
   "cell_type": "markdown",
   "metadata": {},
   "source": [
    "### Top 25 most important features"
   ]
  },
  {
   "cell_type": "code",
   "execution_count": 19,
   "metadata": {},
   "outputs": [
    {
     "data": {
      "image/png": "[encoded data removed]",
      "text/plain": [
       "<matplotlib.figure.Figure at 0x3fff133d9cc0>"
      ]
     },
     "metadata": {},
     "output_type": "display_data"
    }
   ],
   "source": [
    "# Calculate feature importances from decision trees\n",
    "importances = clf.feature_importances_\n",
    "\n",
    "# Sort feature importances in descending order\n",
    "indices = np.argsort(importances)[::-1][:25]\n",
    "\n",
    "# Rearrange feature names so they match the sorted feature importances\n",
    "names = bi_gram.get_feature_names()\n",
    "\n",
    "sns.set(rc={'figure.figsize':(11.7,8.27)})\n",
    "\n",
    "# Create plot\n",
    "plt.figure()\n",
    "\n",
    "# Create plot title\n",
    "plt.title(\"Feature Importance\")\n",
    "\n",
    "# Add bars\n",
    "plt.bar(range(25), importances[indices])\n",
    "\n",
    "# Add feature names as x-axis labels\n",
    "names = np.array(names)\n",
    "plt.xticks(range(25), names[indices], rotation=90)\n",
    "\n",
    "# Show plot\n",
    "plt.show()\n",
    "# uni_gram.get_feature_names()"
   ]
  },
  {
   "cell_type": "markdown",
   "metadata": {},
   "source": [
    "# tf-idf\n"
   ]
  },
  {
   "cell_type": "markdown",
   "metadata": {},
   "source": [
    "![alt text](https://s3-ap-south-1.amazonaws.com/av-blog-media/wp-content/uploads/2017/01/11181616/image-4.png)"
   ]
  },
  {
   "cell_type": "code",
   "execution_count": 20,
   "metadata": {},
   "outputs": [
    {
     "name": "stdout",
     "output_type": "stream",
     "text": [
      "Train Data Size:  (35000, 637926)\n",
      "Test Data Size:  (15000, 637926)\n",
      "CPU times: user 7.73 s, sys: 36 ms, total: 7.76 s\n",
      "Wall time: 7.77 s\n"
     ]
    }
   ],
   "source": [
    "%%time\n",
    "from sklearn.feature_extraction.text import TfidfVectorizer\n",
    "from sklearn.model_selection import train_test_split\n",
    "from sklearn import preprocessing\n",
    "\n",
    "#Breaking into Train and test\n",
    "X_train, X_test, y_train, y_test = train_test_split(df_sample['CleanedText'].values,df_sample['Score'].values,test_size=0.3,shuffle=False)\n",
    "\n",
    "tfidf = TfidfVectorizer(ngram_range=(1,2)) #Using bi-grams\n",
    "X_train = tfidf.fit_transform(X_train)\n",
    "#Normalize Data\n",
    "X_train = preprocessing.normalize(X_train)\n",
    "print(\"Train Data Size: \",X_train.shape)\n",
    "X_test = tfidf.transform(X_test)\n",
    "#Normalize Data\n",
    "X_test = preprocessing.normalize(X_test)\n",
    "print(\"Test Data Size: \",X_test.shape)"
   ]
  },
  {
   "cell_type": "code",
   "execution_count": 28,
   "metadata": {},
   "outputs": [
    {
     "name": "stdout",
     "output_type": "stream",
     "text": [
      "CPU times: user 0 ns, sys: 0 ns, total: 0 ns\n",
      "Wall time: 8.11 µs\n",
      "Fitting 10 folds for each of 30 candidates, totalling 300 fits\n"
     ]
    },
    {
     "name": "stderr",
     "output_type": "stream",
     "text": [
      "[Parallel(n_jobs=1)]: Done 300 out of 300 | elapsed: 207.1min finished\n"
     ]
    },
    {
     "name": "stdout",
     "output_type": "stream",
     "text": [
      "Best HyperParameter:  {'max_depth': 231}\n",
      "Best Accuracy: 46.51%\n"
     ]
    }
   ],
   "source": [
    "%time\n",
    "from sklearn.model_selection import TimeSeriesSplit\n",
    "from sklearn.model_selection import GridSearchCV\n",
    "from sklearn.tree import DecisionTreeClassifier\n",
    "from scipy.stats import randint as sp_randint\n",
    "\n",
    "g = sp_randint(2,300)\n",
    "clf = DecisionTreeClassifier()\n",
    "param_grid = {'max_depth':sorted(g.rvs(30))} #params we need to try on classifier\n",
    "tscv = TimeSeriesSplit(n_splits=10) #For time based splitting\n",
    "gsv = GridSearchCV(clf,param_grid,cv=tscv,verbose=1,scoring='f1')\n",
    "gsv.fit(X_train,y_train)\n",
    "savetofile(gsv,\"Decision Trees/gsv_tfidf\")\n",
    "print(\"Best HyperParameter: \",gsv.best_params_)\n",
    "print(\"Best Accuracy: %.2f%%\"%(gsv.best_score_*100))"
   ]
  },
  {
   "cell_type": "markdown",
   "metadata": {},
   "source": [
    "<b>Note: Not ideal to run Decision Trees on data with such huge features as it will take very long hours to train hence taking only 300 as max depth<b>"
   ]
  },
  {
   "cell_type": "code",
   "execution_count": 58,
   "metadata": {},
   "outputs": [
    {
     "data": {
      "image/png": "[encoded data removed]",
      "text/plain": [
       "<matplotlib.figure.Figure at 0x3ffdded11cf8>"
      ]
     },
     "metadata": {},
     "output_type": "display_data"
    }
   ],
   "source": [
    "gsv = openfromfile(\"Decision Trees/gsv_tfidf\")\n",
    "x=[]\n",
    "y=[]\n",
    "for a in gsv.grid_scores_:\n",
    "    x.append(a[0]['max_depth']) \n",
    "    y.append(a[1])\n",
    "plt.xlim(0,300)\n",
    "plt.ylim(0.35,0.5)\n",
    "plt.xlabel(r\"max depth\",fontsize=15)\n",
    "plt.ylabel(\"f1-score\")\n",
    "plt.title(r'F1 Score v/s Max Depth')\n",
    "plt.plot(x,y)\n",
    "plt.show()"
   ]
  },
  {
   "cell_type": "code",
   "execution_count": 21,
   "metadata": {
    "scrolled": true
   },
   "outputs": [
    {
     "name": "stdout",
     "output_type": "stream",
     "text": [
      "Accuracy on test set: 84.427%\n",
      "Precision on test set: 0.545\n",
      "Recall on test set: 0.515\n",
      "F1-Score on test set: 0.530\n",
      "Confusion Matrix of test set:\n",
      " [ [TN  FP]\n",
      " [FN TP] ]\n",
      "\n"
     ]
    },
    {
     "data": {
      "text/plain": [
       "<matplotlib.axes._subplots.AxesSubplot at 0x3ffefd3b8f28>"
      ]
     },
     "execution_count": 21,
     "metadata": {},
     "output_type": "execute_result"
    },
    {
     "data": {
      "image/png": "[encoded data removed]",
      "text/plain": [
       "<matplotlib.figure.Figure at 0x3ffefd3b8898>"
      ]
     },
     "metadata": {},
     "output_type": "display_data"
    }
   ],
   "source": [
    "#Testing Accuracy on Test data\n",
    "from sklearn.tree import DecisionTreeClassifier\n",
    "\n",
    "clf = DecisionTreeClassifier(max_depth=231)\n",
    "clf.fit(X_train,y_train)\n",
    "y_pred = clf.predict(X_test)\n",
    "print(\"Accuracy on test set: %0.3f%%\"%(accuracy_score(y_test, y_pred)*100))\n",
    "print(\"Precision on test set: %0.3f\"%(precision_score(y_test, y_pred)))\n",
    "print(\"Recall on test set: %0.3f\"%(recall_score(y_test, y_pred)))\n",
    "print(\"F1-Score on test set: %0.3f\"%(f1_score(y_test, y_pred)))\n",
    "print(\"Confusion Matrix of test set:\\n [ [TN  FP]\\n [FN TP] ]\\n\")\n",
    "df_cm = pd.DataFrame(confusion_matrix(y_test, y_pred), range(2),range(2))\n",
    "sns.set(font_scale=1.4)#for label size\n",
    "sns.heatmap(df_cm, annot=True,annot_kws={\"size\": 16}, fmt='g')"
   ]
  },
  {
   "cell_type": "markdown",
   "metadata": {},
   "source": [
    "### Top 25 most important features"
   ]
  },
  {
   "cell_type": "code",
   "execution_count": 22,
   "metadata": {},
   "outputs": [
    {
     "data": {
      "image/png": "[encoded data removed]",
      "text/plain": [
       "<matplotlib.figure.Figure at 0x3fff0e90c0f0>"
      ]
     },
     "metadata": {},
     "output_type": "display_data"
    }
   ],
   "source": [
    "# Calculate feature importances from decision trees\n",
    "importances = clf.feature_importances_\n",
    "\n",
    "# Sort feature importances in descending order\n",
    "indices = np.argsort(importances)[::-1][:25]\n",
    "\n",
    "# Rearrange feature names so they match the sorted feature importances\n",
    "names = tfidf.get_feature_names()\n",
    "\n",
    "sns.set(rc={'figure.figsize':(11.7,8.27)})\n",
    "\n",
    "# Create plot\n",
    "plt.figure()\n",
    "\n",
    "# Create plot title\n",
    "plt.title(\"Feature Importance\")\n",
    "\n",
    "# Add bars\n",
    "plt.bar(range(25), importances[indices])\n",
    "\n",
    "# Add feature names as x-axis labels\n",
    "names = np.array(names)\n",
    "plt.xticks(range(25), names[indices], rotation=90)\n",
    "\n",
    "# Show plot\n",
    "plt.show()\n",
    "# uni_gram.get_feature_names()"
   ]
  },
  {
   "cell_type": "markdown",
   "metadata": {},
   "source": [
    "## Gensim\n",
    "Gensim is a robust open-source vector space modeling and topic modeling toolkit implemented in Python. It uses NumPy, SciPy and optionally Cython for performance. Gensim is specifically designed to handle large text collections, using data streaming and efficient incremental algorithms, which differentiates it from most other scientific software packages that only target batch and in-memory processing."
   ]
  },
  {
   "cell_type": "markdown",
   "metadata": {},
   "source": [
    "## Word2Vec\n",
    "[Refer Docs] :https://radimrehurek.com/gensim/models/word2vec.html "
   ]
  },
  {
   "cell_type": "code",
   "execution_count": 6,
   "metadata": {
    "collapsed": true,
    "scrolled": true
   },
   "outputs": [],
   "source": [
    "from gensim.models import KeyedVectors\n",
    "\n",
    "#Loading the model from file in the disk\n",
    "w2vec_model = KeyedVectors.load_word2vec_format('GoogleNews-vectors-negative300.bin', binary=True) "
   ]
  },
  {
   "cell_type": "code",
   "execution_count": 7,
   "metadata": {
    "scrolled": true
   },
   "outputs": [
    {
     "data": {
      "text/plain": [
       "3000000"
      ]
     },
     "execution_count": 7,
     "metadata": {},
     "output_type": "execute_result"
    }
   ],
   "source": [
    "w2v_vocub = w2vec_model.wv.vocab\n",
    "len(w2v_vocub)"
   ]
  },
  {
   "cell_type": "markdown",
   "metadata": {},
   "source": [
    "## Avg Word2Vec\n",
    "* One of the most naive but good ways to convert a sentence into a vector\n",
    "* Convert all the words to vectors and then just take the avg of the vectors the resulting vector represent the sentence "
   ]
  },
  {
   "cell_type": "code",
   "execution_count": 66,
   "metadata": {},
   "outputs": [
    {
     "name": "stdout",
     "output_type": "stream",
     "text": [
      "CPU times: user 24.1 s, sys: 56 ms, total: 24.2 s\n",
      "Wall time: 24.2 s\n"
     ]
    }
   ],
   "source": [
    "%%time\n",
    "avg_vec_google = [] #List to store all the avg w2vec's \n",
    "# no_datapoints = 364170\n",
    "# sample_cols = random.sample(range(1, no_datapoints), 20001)\n",
    "for sent in df_sample['CleanedText_NoStem']:\n",
    "    cnt = 0 #to count no of words in each reviews\n",
    "    sent_vec = np.zeros(300) #Initializing with zeroes\n",
    "#     print(\"sent:\",sent) \n",
    "    sent = sent.decode(\"utf-8\") \n",
    "    for word in sent.split():\n",
    "        try:\n",
    "#             print(word)\n",
    "            wvec = w2vec_model.wv[word] #Vector of each using w2v model\n",
    "#             print(\"wvec:\",wvec)\n",
    "            sent_vec += wvec #Adding the vectors\n",
    "#             print(\"sent_vec:\",sent_vec)\n",
    "            cnt += 1\n",
    "        except: \n",
    "            pass #When the word is not in the dictionary then do nothing  \n",
    "#     print(sent_vec)\n",
    "    sent_vec /= cnt #Taking average of vectors sum of the particular review\n",
    "#     print(\"avg_vec:\",sent_vec)\n",
    "    avg_vec_google.append(sent_vec) #Storing the avg w2vec's for each review\n",
    "#     print(\"*******************************************************************\")\n",
    "# print(avg_vec_google)\n",
    "avg_vec_google = np.array(avg_vec_google)"
   ]
  },
  {
   "cell_type": "code",
   "execution_count": 67,
   "metadata": {},
   "outputs": [
    {
     "data": {
      "text/plain": [
       "False"
      ]
     },
     "execution_count": 67,
     "metadata": {},
     "output_type": "execute_result"
    }
   ],
   "source": [
    "np.isnan(avg_vec_google).any()"
   ]
  },
  {
   "cell_type": "code",
   "execution_count": 68,
   "metadata": {},
   "outputs": [
    {
     "name": "stdout",
     "output_type": "stream",
     "text": [
      "(50000, 300)\n",
      "(50000,)\n"
     ]
    }
   ],
   "source": [
    "mask = ~np.any(np.isnan(avg_vec_google), axis=1)\n",
    "# print(mask)\n",
    "avg_vec_google_new = avg_vec_google[mask]\n",
    "df_sample_new = df_sample['Score'][mask]\n",
    "print(avg_vec_google_new.shape)\n",
    "print(df_sample_new.shape)"
   ]
  },
  {
   "cell_type": "code",
   "execution_count": 69,
   "metadata": {
    "collapsed": true
   },
   "outputs": [],
   "source": [
    "from sklearn import preprocessing\n",
    "from sklearn.model_selection import train_test_split\n",
    "\n",
    "avg_vec_norm = preprocessing.normalize(avg_vec_google_new)\n",
    "\n",
    "#Not shuffling the data as we want it on time basis\n",
    "X_train, X_test, y_train, y_test = train_test_split(avg_vec_norm,df_sample_new.values,test_size=0.3,shuffle=False)"
   ]
  },
  {
   "cell_type": "code",
   "execution_count": 13,
   "metadata": {
    "scrolled": false
   },
   "outputs": [
    {
     "name": "stdout",
     "output_type": "stream",
     "text": [
      "CPU times: user 0 ns, sys: 0 ns, total: 0 ns\n",
      "Wall time: 8.34 µs\n",
      "Fitting 10 folds for each of 30 candidates, totalling 300 fits\n"
     ]
    },
    {
     "name": "stderr",
     "output_type": "stream",
     "text": [
      "[Parallel(n_jobs=1)]: Done 300 out of 300 | elapsed: 93.9min finished\n"
     ]
    },
    {
     "name": "stdout",
     "output_type": "stream",
     "text": [
      "Best HyperParameter:  {'max_depth': 20}\n",
      "Best Accuracy: 31.83%\n"
     ]
    }
   ],
   "source": [
    "%time\n",
    "from sklearn.model_selection import TimeSeriesSplit\n",
    "from sklearn.model_selection import GridSearchCV\n",
    "from sklearn.tree import DecisionTreeClassifier\n",
    "from scipy.stats import randint as sp_randint\n",
    "\n",
    "g = sp_randint(2,300)\n",
    "clf = DecisionTreeClassifier()\n",
    "param_grid = {'max_depth':sorted(g.rvs(30))} #params we need to try on classifier\n",
    "tscv = TimeSeriesSplit(n_splits=10) #For time based splitting\n",
    "gsv = GridSearchCV(clf,param_grid,cv=tscv,verbose=1,scoring='f1')\n",
    "gsv.fit(X_train,y_train)\n",
    "savetofile(gsv,\"Decision Trees/gsv_aw2v\")\n",
    "print(\"Best HyperParameter: \",gsv.best_params_)\n",
    "print(\"Best Accuracy: %.2f%%\"%(gsv.best_score_*100))"
   ]
  },
  {
   "cell_type": "code",
   "execution_count": 65,
   "metadata": {},
   "outputs": [
    {
     "data": {
      "image/png": "[encoded data removed]",
      "text/plain": [
       "<matplotlib.figure.Figure at 0x3fff0b0d79e8>"
      ]
     },
     "metadata": {},
     "output_type": "display_data"
    }
   ],
   "source": [
    "gsv = openfromfile(\"Decision Trees/gsv_aw2v\")\n",
    "x=[]\n",
    "y=[]\n",
    "for a in gsv.grid_scores_:\n",
    "    x.append(a[0]['max_depth']) \n",
    "    y.append(a[1])\n",
    "plt.xlim(0,300)\n",
    "plt.ylim(0.2,0.4)\n",
    "plt.xlabel(r\"max depth\",fontsize=15)\n",
    "plt.ylabel(\"f1-score\")\n",
    "plt.title(r'F1 Score v/s Max Depth')\n",
    "plt.plot(x,y)\n",
    "plt.show()"
   ]
  },
  {
   "cell_type": "code",
   "execution_count": 71,
   "metadata": {
    "scrolled": true
   },
   "outputs": [
    {
     "name": "stdout",
     "output_type": "stream",
     "text": [
      "Accuracy on test set: 79.380%\n",
      "Precision on test set: 0.380\n",
      "Recall on test set: 0.333\n",
      "F1-Score on test set: 0.355\n",
      "Confusion Matrix of test set:\n",
      " [ [TN  FP]\n",
      " [FN TP] ]\n",
      "\n"
     ]
    },
    {
     "data": {
      "text/plain": [
       "<matplotlib.axes._subplots.AxesSubplot at 0x3fff115dcd30>"
      ]
     },
     "execution_count": 71,
     "metadata": {},
     "output_type": "execute_result"
    },
    {
     "data": {
      "image/png": "[encoded data removed]",
      "text/plain": [
       "<matplotlib.figure.Figure at 0x3fff1247fac8>"
      ]
     },
     "metadata": {},
     "output_type": "display_data"
    }
   ],
   "source": [
    "#Testing Accuracy on Test data\n",
    "from sklearn.tree import DecisionTreeClassifier\n",
    "\n",
    "clf = DecisionTreeClassifier(max_depth=20)\n",
    "clf.fit(X_train,y_train)\n",
    "y_pred = clf.predict(X_test)\n",
    "print(\"Accuracy on test set: %0.3f%%\"%(accuracy_score(y_test, y_pred)*100))\n",
    "print(\"Precision on test set: %0.3f\"%(precision_score(y_test, y_pred)))\n",
    "print(\"Recall on test set: %0.3f\"%(recall_score(y_test, y_pred)))\n",
    "print(\"F1-Score on test set: %0.3f\"%(f1_score(y_test, y_pred)))\n",
    "print(\"Confusion Matrix of test set:\\n [ [TN  FP]\\n [FN TP] ]\\n\")\n",
    "df_cm = pd.DataFrame(confusion_matrix(y_test, y_pred), range(2),range(2))\n",
    "sns.set(font_scale=1.4)#for label size\n",
    "sns.heatmap(df_cm, annot=True,annot_kws={\"size\": 16}, fmt='g')"
   ]
  },
  {
   "cell_type": "code",
   "execution_count": 15,
   "metadata": {
    "scrolled": true
   },
   "outputs": [
    {
     "name": "stdout",
     "output_type": "stream",
     "text": [
      "[ 0.00175945  0.00349239  0.01029238  0.00340061  0.0131046   0.00225063\n",
      "  0.00292788  0.00128508  0.00468368  0.00255785  0.00348384  0.00467724\n",
      "  0.00243404  0.00283186  0.00357978  0.00191578  0.00231668  0.00237386\n",
      "  0.00143282  0.00589543  0.00219676  0.00083783  0.00210978  0.0021752\n",
      "  0.00601339  0.00354034  0.01229339  0.00165709  0.00331596  0.00707421\n",
      "  0.00249374  0.0007818   0.00481606  0.00156479  0.00227053  0.00379202\n",
      "  0.0062249   0.0032119   0.00117164  0.0009885   0.0010391   0.00333548\n",
      "  0.00292439  0.00337951  0.00043645  0.00096249  0.00078105  0.00324372\n",
      "  0.00570326  0.00180966  0.00076963  0.00335505  0.00047165  0.00237379\n",
      "  0.00217202  0.00327203  0.00207924  0.00312069  0.00238702  0.00067064\n",
      "  0.00195518  0.00306831  0.00040049  0.00112416  0.03474253  0.00416799\n",
      "  0.00461279  0.00421409  0.00197815  0.00273081  0.00317363  0.00448606\n",
      "  0.0019258   0.00417622  0.00391924  0.00376488  0.00197057  0.0012056\n",
      "  0.00359533  0.00099015  0.00400184  0.00546367  0.00230199  0.00553418\n",
      "  0.00135809  0.00283178  0.00256119  0.0035593   0.00168928  0.00631367\n",
      "  0.00177995  0.00090394  0.00164738  0.00189313  0.00177881  0.00333575\n",
      "  0.00344535  0.0026478   0.00341201  0.00567497  0.0026854   0.00452151\n",
      "  0.00175291  0.00401019  0.00446578  0.0026603   0.00286715  0.00278752\n",
      "  0.00044016  0.00365483  0.0026708   0.00164436  0.00157322  0.00123777\n",
      "  0.00214455  0.00115462  0.00177979  0.00285122  0.00255505  0.00750923\n",
      "  0.00426106  0.0005181   0.00350922  0.00190315  0.00267817  0.0015901\n",
      "  0.00247406  0.0014404   0.00617461  0.03182481  0.0020119   0.0009531\n",
      "  0.00393701  0.00338425  0.00449479  0.00240782  0.00985662  0.00053095\n",
      "  0.00614303  0.00728035  0.0014047   0.00256019  0.00057193  0.00241279\n",
      "  0.00263629  0.00176986  0.00136869  0.0020795   0.00474394  0.0012562\n",
      "  0.00278585  0.00550231  0.00260703  0.00109594  0.00266508  0.00223291\n",
      "  0.01114757  0.00305247  0.00265588  0.00601931  0.00189006  0.00233362\n",
      "  0.00186998  0.00137466  0.00340147  0.00194963  0.00640736  0.00184362\n",
      "  0.00368119  0.00080786  0.00109086  0.00174567  0.01623835  0.00308905\n",
      "  0.00736593  0.00112587  0.00566483  0.00159119  0.00408131  0.00062634\n",
      "  0.00633076  0.00369     0.00113529  0.02408066  0.00281456  0.00263503\n",
      "  0.00229636  0.00945727  0.00105891  0.01036404  0.00165478  0.01087618\n",
      "  0.00062369  0.00408989  0.00073416  0.00122387  0.00245974  0.00293706\n",
      "  0.00241657  0.00330297  0.00223897  0.00162     0.00174085  0.00170954\n",
      "  0.00361006  0.00197003  0.00256667  0.00190508  0.00225011  0.00154403\n",
      "  0.00453882  0.00126902  0.00779773  0.00256333  0.00191855  0.00270011\n",
      "  0.00089373  0.00217851  0.00309232  0.00286658  0.00287071  0.00276338\n",
      "  0.00230348  0.00153251  0.00891638  0.00291375  0.00232862  0.01380346\n",
      "  0.00291537  0.00207311  0.01329067  0.00244158  0.00338491  0.00321937\n",
      "  0.00327331  0.00221758  0.00720343  0.00177582  0.00938908  0.00329011\n",
      "  0.00276732  0.00191605  0.00316925  0.001914    0.00216173  0.0043375\n",
      "  0.00253704  0.00375367  0.00188641  0.00308555  0.00185399  0.00173106\n",
      "  0.00171414  0.00155262  0.00299506  0.00287896  0.00216389  0.00400974\n",
      "  0.00141335  0.00222588  0.00023116  0.00253624  0.00242896  0.00200139\n",
      "  0.00160875  0.00018112  0.00121943  0.00107297  0.0047928   0.00214538\n",
      "  0.00178388  0.00186288  0.00823627  0.00038574  0.00659286  0.003352\n",
      "  0.00365898  0.00265732  0.00151684  0.00218066  0.00137875  0.006831\n",
      "  0.00303114  0.00086544  0.00448284  0.00268064  0.00068265  0.00199905\n",
      "  0.00281741  0.00082431  0.00101603  0.00160528  0.00264946  0.0018076\n",
      "  0.00110239  0.00042491  0.0005206   0.00096789  0.00236486  0.00343665]\n"
     ]
    }
   ],
   "source": [
    "importances = clf.feature_importances_\n",
    "print(importances)"
   ]
  },
  {
   "cell_type": "markdown",
   "metadata": {},
   "source": [
    "But since the features in Word2Vec aren't interpretable its needless to get the feature importance"
   ]
  },
  {
   "cell_type": "markdown",
   "metadata": {},
   "source": [
    "## Tf-idf W2Vec\n",
    "* Another way to covert sentence into vectors\n",
    "* Take weighted sum of the vectors divided by the sum of all the tfidf's \n",
    "<br>i.e. (tfidf(word) x w2v(word))/sum(tfidf's)"
   ]
  },
  {
   "cell_type": "code",
   "execution_count": 11,
   "metadata": {},
   "outputs": [
    {
     "name": "stdout",
     "output_type": "stream",
     "text": [
      "(25000, 589499)\n",
      "CPU times: user 6.15 s, sys: 16 ms, total: 6.16 s\n",
      "Wall time: 6.16 s\n"
     ]
    }
   ],
   "source": [
    "%%time\n",
    "#Taking Sample Data as it was taking more that 10 hours to computer this block\n",
    "n_samples = 25000\n",
    "df_sample_new = df_sample.sample(n_samples)\n",
    "\n",
    "###Sorting as we want according to time series\n",
    "df_sample_new.sort_values('Time',inplace=True) \n",
    "\n",
    "###tf-idf with No Stemming\n",
    "from sklearn.feature_extraction.text import TfidfVectorizer\n",
    "tfidf = TfidfVectorizer(ngram_range=(1,2)) #Using bi-grams\n",
    "\n",
    "tfidf_vec_new = tfidf.fit_transform(df_sample_new['CleanedText_NoStem'].values)\n",
    "\n",
    "print(tfidf_vec_new.shape)\n",
    "\n",
    "# tf-idf came up with 2.9 million features for the data corpus\n",
    "# from sklearn.decomposition import TruncatedSVD\n",
    "\n",
    "# tsvd_tfidf_ns = TruncatedSVD(n_components=300)#No of components as total dimensions\n",
    "# tsvd_tfidf_vec_ns = tsvd_tfidf_ns.fit_transform(tfidf_vec_ns)\n",
    "# print(tsvd_tfidf_ns.explained_variance_ratio_[:].sum())\n",
    "features = tfidf.get_feature_names()"
   ]
  },
  {
   "cell_type": "code",
   "execution_count": 52,
   "metadata": {},
   "outputs": [
    {
     "ename": "NameError",
     "evalue": "name 'df_sample_new' is not defined",
     "output_type": "error",
     "traceback": [
      "\u001b[0;31m---------------------------------------------------------------------------\u001b[0m",
      "\u001b[0;31mNameError\u001b[0m                                 Traceback (most recent call last)",
      "\u001b[0;32m<ipython-input-52-c0501e6a8884>\u001b[0m in \u001b[0;36m<module>\u001b[0;34m()\u001b[0m\n\u001b[0;32m----> 1\u001b[0;31m \u001b[0mdf_sample_new\u001b[0m\u001b[0;34m\u001b[0m\u001b[0m\n\u001b[0m",
      "\u001b[0;31mNameError\u001b[0m: name 'df_sample_new' is not defined"
     ]
    }
   ],
   "source": [
    "df_sample_new"
   ]
  },
  {
   "cell_type": "code",
   "execution_count": null,
   "metadata": {
    "collapsed": true
   },
   "outputs": [],
   "source": [
    "%%time\n",
    "tfidf_w2v_vec_google = []\n",
    "review = 0\n",
    "\n",
    "for sent in df_sample_new['CleanedText_NoStem'].values:\n",
    "    cnt = 0 \n",
    "    weighted_sum  = 0\n",
    "    sent_vec = np.zeros(300)\n",
    "    sent = sent.decode(\"utf-8\") \n",
    "    for word in sent.split():\n",
    "        try:\n",
    "#             print(word)\n",
    "            wvec = w2vec_model.wv[word] #Vector of each using w2v model\n",
    "#             print(\"w2vec:\",wvec)\n",
    "#             print(\"tfidf:\",tfidf_vec_ns[review,features.index(word)])\n",
    "            tfidf_vec = tfidf_vec_new[review,features.index(word)]\n",
    "            sent_vec += (wvec * tfidf_vec)\n",
    "            weighted_sum += tfidf_vec\n",
    "        except:\n",
    "#             print(review)\n",
    "            pass\n",
    "    sent_vec /= weighted_sum\n",
    "#     print(sent_vec)\n",
    "    tfidf_w2v_vec_google.append(sent_vec)\n",
    "    review += 1\n",
    "tfidf_w2v_vec_google = np.array(tfidf_w2v_vec_google)\n",
    "savetofile(tfidf_w2v_vec_google,\"tfidf_w2v_vec_google\")"
   ]
  },
  {
   "cell_type": "code",
   "execution_count": 72,
   "metadata": {
    "collapsed": true
   },
   "outputs": [],
   "source": [
    "#Precomputed File\n",
    "tfidf_w2v_vec_google = openfromfile(\"tfidf_w2v_vec_google\")\n",
    "#Loading the same samples as using precomuted file\n",
    "df_sample_new = openfromfile(\"df_sample_new_tfidfw2vec\")"
   ]
  },
  {
   "cell_type": "code",
   "execution_count": 73,
   "metadata": {
    "collapsed": true
   },
   "outputs": [],
   "source": [
    "from sklearn import preprocessing\n",
    "from sklearn.model_selection import train_test_split\n",
    "\n",
    "tfidfw2v_vecs_norm = preprocessing.normalize(tfidf_w2v_vec_google)\n",
    "\n",
    "#Not shuffling the data as we want it on time basis\n",
    "X_train, X_test, y_train, y_test = train_test_split(tfidfw2v_vecs_norm,df_sample_new['Score'].values,test_size=0.3,shuffle=False)"
   ]
  },
  {
   "cell_type": "code",
   "execution_count": 76,
   "metadata": {
    "scrolled": false
   },
   "outputs": [
    {
     "name": "stdout",
     "output_type": "stream",
     "text": [
      "CPU times: user 0 ns, sys: 0 ns, total: 0 ns\n",
      "Wall time: 13.4 µs\n",
      "Fitting 10 folds for each of 30 candidates, totalling 300 fits\n"
     ]
    },
    {
     "name": "stderr",
     "output_type": "stream",
     "text": [
      "[Parallel(n_jobs=1)]: Done 300 out of 300 | elapsed: 44.0min finished\n"
     ]
    },
    {
     "name": "stdout",
     "output_type": "stream",
     "text": [
      "Best HyperParameter:  {'max_depth': 57}\n",
      "Best Accuracy: 29.07%\n"
     ]
    }
   ],
   "source": [
    "%time\n",
    "from sklearn.model_selection import TimeSeriesSplit\n",
    "from sklearn.model_selection import GridSearchCV\n",
    "from sklearn.tree import DecisionTreeClassifier\n",
    "from scipy.stats import randint as sp_randint\n",
    "\n",
    "g = sp_randint(2,300)\n",
    "clf = DecisionTreeClassifier()\n",
    "param_grid = {'max_depth':sorted(g.rvs(30))} #params we need to try on classifier\n",
    "tscv = TimeSeriesSplit(n_splits=10) #For time based splitting\n",
    "gsv = GridSearchCV(clf,param_grid,cv=tscv,verbose=1,scoring='f1')\n",
    "gsv.fit(X_train,y_train)\n",
    "savetofile(gsv,\"Decision Trees/gsv_tfidfaw2v\")\n",
    "print(\"Best HyperParameter: \",gsv.best_params_)\n",
    "print(\"Best Accuracy: %.2f%%\"%(gsv.best_score_*100))"
   ]
  },
  {
   "cell_type": "code",
   "execution_count": 79,
   "metadata": {},
   "outputs": [
    {
     "data": {
      "image/png": "[encoded data removed]",
      "text/plain": [
       "<matplotlib.figure.Figure at 0x3fff04241358>"
      ]
     },
     "metadata": {},
     "output_type": "display_data"
    }
   ],
   "source": [
    "gsv = openfromfile(\"Decision Trees/gsv_tfidfaw2v\")\n",
    "x=[]\n",
    "y=[]\n",
    "for a in gsv.grid_scores_:\n",
    "    x.append(a[0]['max_depth']) \n",
    "    y.append(a[1])\n",
    "plt.xlim(0,300)\n",
    "plt.ylim(0.0,0.3)\n",
    "plt.xlabel(r\"max depth\",fontsize=15)\n",
    "plt.ylabel(\"f1-score\")\n",
    "plt.title(r'F1 Score v/s Max Depth')\n",
    "plt.plot(x,y)\n",
    "plt.show()"
   ]
  },
  {
   "cell_type": "code",
   "execution_count": 80,
   "metadata": {
    "scrolled": true
   },
   "outputs": [
    {
     "name": "stdout",
     "output_type": "stream",
     "text": [
      "Accuracy on test set: 77.093%\n",
      "Precision on test set: 0.298\n",
      "Recall on test set: 0.310\n",
      "F1-Score on test set: 0.304\n",
      "Confusion Matrix of test set:\n",
      " [ [TN  FP]\n",
      " [FN TP] ]\n",
      "\n"
     ]
    },
    {
     "data": {
      "text/plain": [
       "<matplotlib.axes._subplots.AxesSubplot at 0x3ffddda6c6d8>"
      ]
     },
     "execution_count": 80,
     "metadata": {},
     "output_type": "execute_result"
    },
    {
     "data": {
      "image/png": "[encoded data removed]",
      "text/plain": [
       "<matplotlib.figure.Figure at 0x3ffdde2ddb00>"
      ]
     },
     "metadata": {},
     "output_type": "display_data"
    }
   ],
   "source": [
    "#Testing Accuracy on Test data\n",
    "from sklearn.tree import DecisionTreeClassifier\n",
    "\n",
    "clf = DecisionTreeClassifier(max_depth=57)\n",
    "clf.fit(X_train,y_train)\n",
    "y_pred = clf.predict(X_test)\n",
    "print(\"Accuracy on test set: %0.3f%%\"%(accuracy_score(y_test, y_pred)*100))\n",
    "print(\"Precision on test set: %0.3f\"%(precision_score(y_test, y_pred)))\n",
    "print(\"Recall on test set: %0.3f\"%(recall_score(y_test, y_pred)))\n",
    "print(\"F1-Score on test set: %0.3f\"%(f1_score(y_test, y_pred)))\n",
    "print(\"Confusion Matrix of test set:\\n [ [TN  FP]\\n [FN TP] ]\\n\")\n",
    "df_cm = pd.DataFrame(confusion_matrix(y_test, y_pred), range(2),range(2))\n",
    "sns.set(font_scale=1.4)#for label size\n",
    "sns.heatmap(df_cm, annot=True,annot_kws={\"size\": 16}, fmt='g')"
   ]
  },
  {
   "cell_type": "markdown",
   "metadata": {},
   "source": [
    "## Performance Table"
   ]
  },
  {
   "cell_type": "markdown",
   "metadata": {},
   "source": [
    "![image](https://image.ibb.co/kokTjJ/6_Decision_Trees.png)"
   ]
  },
  {
   "cell_type": "markdown",
   "metadata": {},
   "source": [
    "## Conclusions\n",
    "1. Decision Trees on Uni-gram, bi-gram and tfidf would have taken forever if had taken all the dimensions as it had huge dimension and hence tried with max 300 as max_depth\n",
    "2. Bi-gram Featurization(max_depth=73) gave the best results with accuracy of 85.11% and F1-score of 0.513\n",
    "3. Plotted feature importance for Uni-gram, bi-gram and tfidf but not for Avg Word2Vec and Tfidf Avg Word2Vec as Word2Vec featurizations are highly co-related hence can't directly get the feature importance"
   ]
  }
 ],
 "metadata": {
  "kernelspec": {
   "display_name": "Python 3",
   "language": "python",
   "name": "python3"
  },
  "language_info": {
   "codemirror_mode": {
    "name": "ipython",
    "version": 3
   },
   "file_extension": ".py",
   "mimetype": "text/x-python",
   "name": "python",
   "nbconvert_exporter": "python",
   "pygments_lexer": "ipython3",
   "version": "3.6.8"
  }
 },
 "nbformat": 4,
 "nbformat_minor": 2
}
