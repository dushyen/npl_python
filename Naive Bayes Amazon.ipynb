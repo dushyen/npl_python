{
 "cells": [
  {
   "cell_type": "code",
   "execution_count": 49,
   "metadata": {},
   "outputs": [],
   "source": [
    "%matplotlib inline\n",
    "# imported necessary libraries\n",
    "import sqlite3\n",
    "import pandas as pd\n",
    "import numpy as np\n",
    "import nltk\n",
    "import string\n",
    "import seaborn as sns\n",
    "from sklearn.feature_extraction.text import TfidfVectorizer\n",
    "from sklearn.feature_extraction.text import CountVectorizer\n",
    "import matplotlib.pyplot as plt\n",
    "from sklearn.naive_bayes import MultinomialNB\n",
    "from sklearn.metrics import accuracy_score\n",
    "from sklearn.model_selection import train_test_split\n",
    "#from sklearn.model_selection import cross_val_score\n",
    "from sklearn.cross_validation import cross_val_score\n",
    "from collections import Counter\n",
    "from sklearn.metrics import accuracy_score\n",
    "from sklearn import model_selection\n",
    "from sklearn import cross_validation\n",
    "\n",
    "\n",
    "\n",
    "# using the SQLite Table to read data.\n",
    "con = sqlite3.connect('database.sqlite') \n",
    "filtered_data = pd.read_sql_query(\"\"\"\n",
    "SELECT *\n",
    "FROM Reviews\n",
    "WHERE Score != 3 limit 20000\n",
    "\"\"\", con) \n",
    "\n",
    "def partition(x):\n",
    "    if x < 3:\n",
    "        return 'negative'\n",
    "    return 'positive'\n",
    "\n",
    "\n"
   ]
  },
  {
   "cell_type": "code",
   "execution_count": 50,
   "metadata": {},
   "outputs": [
    {
     "ename": "SyntaxError",
     "evalue": "invalid syntax (<ipython-input-50-5b445483c4ba>, line 1)",
     "output_type": "error",
     "traceback": [
      "\u001b[0;36m  File \u001b[0;32m\"<ipython-input-50-5b445483c4ba>\"\u001b[0;36m, line \u001b[0;32m1\u001b[0m\n\u001b[0;31m    https://www.kaggle.com/premvardhan/amazon-fine-food-reviews-analysis-naive-bayes\u001b[0m\n\u001b[0m           ^\u001b[0m\n\u001b[0;31mSyntaxError\u001b[0m\u001b[0;31m:\u001b[0m invalid syntax\n"
     ]
    }
   ],
   "source": [
    "https://www.kaggle.com/premvardhan/amazon-fine-food-reviews-analysis-naive-bayes"
   ]
  },
  {
   "cell_type": "code",
   "execution_count": 51,
   "metadata": {},
   "outputs": [],
   "source": [
    "\n",
    "\n",
    "#changing reviews with score less than 3 to be positive and vice-versa\n",
    "actualScore = filtered_data['Score']\n",
    "positiveNegative = actualScore.map(partition) \n",
    "filtered_data['Score'] = positiveNegative\n"
   ]
  },
  {
   "cell_type": "code",
   "execution_count": 52,
   "metadata": {},
   "outputs": [
    {
     "data": {
      "text/html": [
       "<div>\n",
       "<style scoped>\n",
       "    .dataframe tbody tr th:only-of-type {\n",
       "        vertical-align: middle;\n",
       "    }\n",
       "\n",
       "    .dataframe tbody tr th {\n",
       "        vertical-align: top;\n",
       "    }\n",
       "\n",
       "    .dataframe thead th {\n",
       "        text-align: right;\n",
       "    }\n",
       "</style>\n",
       "<table border=\"1\" class=\"dataframe\">\n",
       "  <thead>\n",
       "    <tr style=\"text-align: right;\">\n",
       "      <th></th>\n",
       "      <th>Id</th>\n",
       "      <th>ProductId</th>\n",
       "      <th>UserId</th>\n",
       "      <th>ProfileName</th>\n",
       "      <th>HelpfulnessNumerator</th>\n",
       "      <th>HelpfulnessDenominator</th>\n",
       "      <th>Score</th>\n",
       "      <th>Time</th>\n",
       "      <th>Summary</th>\n",
       "      <th>Text</th>\n",
       "    </tr>\n",
       "  </thead>\n",
       "  <tbody>\n",
       "    <tr>\n",
       "      <th>0</th>\n",
       "      <td>1</td>\n",
       "      <td>B001E4KFG0</td>\n",
       "      <td>A3SGXH7AUHU8GW</td>\n",
       "      <td>delmartian</td>\n",
       "      <td>1</td>\n",
       "      <td>1</td>\n",
       "      <td>positive</td>\n",
       "      <td>1303862400</td>\n",
       "      <td>Good Quality Dog Food</td>\n",
       "      <td>I have bought several of the Vitality canned d...</td>\n",
       "    </tr>\n",
       "    <tr>\n",
       "      <th>1</th>\n",
       "      <td>2</td>\n",
       "      <td>B00813GRG4</td>\n",
       "      <td>A1D87F6ZCVE5NK</td>\n",
       "      <td>dll pa</td>\n",
       "      <td>0</td>\n",
       "      <td>0</td>\n",
       "      <td>negative</td>\n",
       "      <td>1346976000</td>\n",
       "      <td>Not as Advertised</td>\n",
       "      <td>Product arrived labeled as Jumbo Salted Peanut...</td>\n",
       "    </tr>\n",
       "    <tr>\n",
       "      <th>2</th>\n",
       "      <td>3</td>\n",
       "      <td>B000LQOCH0</td>\n",
       "      <td>ABXLMWJIXXAIN</td>\n",
       "      <td>Natalia Corres \"Natalia Corres\"</td>\n",
       "      <td>1</td>\n",
       "      <td>1</td>\n",
       "      <td>positive</td>\n",
       "      <td>1219017600</td>\n",
       "      <td>\"Delight\" says it all</td>\n",
       "      <td>This is a confection that has been around a fe...</td>\n",
       "    </tr>\n",
       "    <tr>\n",
       "      <th>3</th>\n",
       "      <td>4</td>\n",
       "      <td>B000UA0QIQ</td>\n",
       "      <td>A395BORC6FGVXV</td>\n",
       "      <td>Karl</td>\n",
       "      <td>3</td>\n",
       "      <td>3</td>\n",
       "      <td>negative</td>\n",
       "      <td>1307923200</td>\n",
       "      <td>Cough Medicine</td>\n",
       "      <td>If you are looking for the secret ingredient i...</td>\n",
       "    </tr>\n",
       "    <tr>\n",
       "      <th>4</th>\n",
       "      <td>5</td>\n",
       "      <td>B006K2ZZ7K</td>\n",
       "      <td>A1UQRSCLF8GW1T</td>\n",
       "      <td>Michael D. Bigham \"M. Wassir\"</td>\n",
       "      <td>0</td>\n",
       "      <td>0</td>\n",
       "      <td>positive</td>\n",
       "      <td>1350777600</td>\n",
       "      <td>Great taffy</td>\n",
       "      <td>Great taffy at a great price.  There was a wid...</td>\n",
       "    </tr>\n",
       "  </tbody>\n",
       "</table>\n",
       "</div>"
      ],
      "text/plain": [
       "   Id   ProductId          UserId                      ProfileName  \\\n",
       "0   1  B001E4KFG0  A3SGXH7AUHU8GW                       delmartian   \n",
       "1   2  B00813GRG4  A1D87F6ZCVE5NK                           dll pa   \n",
       "2   3  B000LQOCH0   ABXLMWJIXXAIN  Natalia Corres \"Natalia Corres\"   \n",
       "3   4  B000UA0QIQ  A395BORC6FGVXV                             Karl   \n",
       "4   5  B006K2ZZ7K  A1UQRSCLF8GW1T    Michael D. Bigham \"M. Wassir\"   \n",
       "\n",
       "   HelpfulnessNumerator  HelpfulnessDenominator     Score        Time  \\\n",
       "0                     1                       1  positive  1303862400   \n",
       "1                     0                       0  negative  1346976000   \n",
       "2                     1                       1  positive  1219017600   \n",
       "3                     3                       3  negative  1307923200   \n",
       "4                     0                       0  positive  1350777600   \n",
       "\n",
       "                 Summary                                               Text  \n",
       "0  Good Quality Dog Food  I have bought several of the Vitality canned d...  \n",
       "1      Not as Advertised  Product arrived labeled as Jumbo Salted Peanut...  \n",
       "2  \"Delight\" says it all  This is a confection that has been around a fe...  \n",
       "3         Cough Medicine  If you are looking for the secret ingredient i...  \n",
       "4            Great taffy  Great taffy at a great price.  There was a wid...  "
      ]
     },
     "execution_count": 52,
     "metadata": {},
     "output_type": "execute_result"
    }
   ],
   "source": [
    "filtered_data.shape #looking at the number of attributes and size of the data\n",
    "filtered_data.head()"
   ]
  },
  {
   "cell_type": "code",
   "execution_count": 53,
   "metadata": {},
   "outputs": [
    {
     "data": {
      "text/html": [
       "<div>\n",
       "<style scoped>\n",
       "    .dataframe tbody tr th:only-of-type {\n",
       "        vertical-align: middle;\n",
       "    }\n",
       "\n",
       "    .dataframe tbody tr th {\n",
       "        vertical-align: top;\n",
       "    }\n",
       "\n",
       "    .dataframe thead th {\n",
       "        text-align: right;\n",
       "    }\n",
       "</style>\n",
       "<table border=\"1\" class=\"dataframe\">\n",
       "  <thead>\n",
       "    <tr style=\"text-align: right;\">\n",
       "      <th></th>\n",
       "      <th>Id</th>\n",
       "      <th>ProductId</th>\n",
       "      <th>UserId</th>\n",
       "      <th>ProfileName</th>\n",
       "      <th>HelpfulnessNumerator</th>\n",
       "      <th>HelpfulnessDenominator</th>\n",
       "      <th>Score</th>\n",
       "      <th>Time</th>\n",
       "      <th>Summary</th>\n",
       "      <th>Text</th>\n",
       "    </tr>\n",
       "  </thead>\n",
       "  <tbody>\n",
       "    <tr>\n",
       "      <th>0</th>\n",
       "      <td>78445</td>\n",
       "      <td>B000HDL1RQ</td>\n",
       "      <td>AR5J8UI46CURR</td>\n",
       "      <td>Geetha Krishnan</td>\n",
       "      <td>2</td>\n",
       "      <td>2</td>\n",
       "      <td>5</td>\n",
       "      <td>1199577600</td>\n",
       "      <td>LOACKER QUADRATINI VANILLA WAFERS</td>\n",
       "      <td>DELICIOUS WAFERS. I FIND THAT EUROPEAN WAFERS ...</td>\n",
       "    </tr>\n",
       "    <tr>\n",
       "      <th>1</th>\n",
       "      <td>138317</td>\n",
       "      <td>B000HDOPYC</td>\n",
       "      <td>AR5J8UI46CURR</td>\n",
       "      <td>Geetha Krishnan</td>\n",
       "      <td>2</td>\n",
       "      <td>2</td>\n",
       "      <td>5</td>\n",
       "      <td>1199577600</td>\n",
       "      <td>LOACKER QUADRATINI VANILLA WAFERS</td>\n",
       "      <td>DELICIOUS WAFERS. I FIND THAT EUROPEAN WAFERS ...</td>\n",
       "    </tr>\n",
       "    <tr>\n",
       "      <th>2</th>\n",
       "      <td>138277</td>\n",
       "      <td>B000HDOPYM</td>\n",
       "      <td>AR5J8UI46CURR</td>\n",
       "      <td>Geetha Krishnan</td>\n",
       "      <td>2</td>\n",
       "      <td>2</td>\n",
       "      <td>5</td>\n",
       "      <td>1199577600</td>\n",
       "      <td>LOACKER QUADRATINI VANILLA WAFERS</td>\n",
       "      <td>DELICIOUS WAFERS. I FIND THAT EUROPEAN WAFERS ...</td>\n",
       "    </tr>\n",
       "    <tr>\n",
       "      <th>3</th>\n",
       "      <td>73791</td>\n",
       "      <td>B000HDOPZG</td>\n",
       "      <td>AR5J8UI46CURR</td>\n",
       "      <td>Geetha Krishnan</td>\n",
       "      <td>2</td>\n",
       "      <td>2</td>\n",
       "      <td>5</td>\n",
       "      <td>1199577600</td>\n",
       "      <td>LOACKER QUADRATINI VANILLA WAFERS</td>\n",
       "      <td>DELICIOUS WAFERS. I FIND THAT EUROPEAN WAFERS ...</td>\n",
       "    </tr>\n",
       "    <tr>\n",
       "      <th>4</th>\n",
       "      <td>155049</td>\n",
       "      <td>B000PAQ75C</td>\n",
       "      <td>AR5J8UI46CURR</td>\n",
       "      <td>Geetha Krishnan</td>\n",
       "      <td>2</td>\n",
       "      <td>2</td>\n",
       "      <td>5</td>\n",
       "      <td>1199577600</td>\n",
       "      <td>LOACKER QUADRATINI VANILLA WAFERS</td>\n",
       "      <td>DELICIOUS WAFERS. I FIND THAT EUROPEAN WAFERS ...</td>\n",
       "    </tr>\n",
       "  </tbody>\n",
       "</table>\n",
       "</div>"
      ],
      "text/plain": [
       "       Id   ProductId         UserId      ProfileName  HelpfulnessNumerator  \\\n",
       "0   78445  B000HDL1RQ  AR5J8UI46CURR  Geetha Krishnan                     2   \n",
       "1  138317  B000HDOPYC  AR5J8UI46CURR  Geetha Krishnan                     2   \n",
       "2  138277  B000HDOPYM  AR5J8UI46CURR  Geetha Krishnan                     2   \n",
       "3   73791  B000HDOPZG  AR5J8UI46CURR  Geetha Krishnan                     2   \n",
       "4  155049  B000PAQ75C  AR5J8UI46CURR  Geetha Krishnan                     2   \n",
       "\n",
       "   HelpfulnessDenominator  Score        Time  \\\n",
       "0                       2      5  1199577600   \n",
       "1                       2      5  1199577600   \n",
       "2                       2      5  1199577600   \n",
       "3                       2      5  1199577600   \n",
       "4                       2      5  1199577600   \n",
       "\n",
       "                             Summary  \\\n",
       "0  LOACKER QUADRATINI VANILLA WAFERS   \n",
       "1  LOACKER QUADRATINI VANILLA WAFERS   \n",
       "2  LOACKER QUADRATINI VANILLA WAFERS   \n",
       "3  LOACKER QUADRATINI VANILLA WAFERS   \n",
       "4  LOACKER QUADRATINI VANILLA WAFERS   \n",
       "\n",
       "                                                Text  \n",
       "0  DELICIOUS WAFERS. I FIND THAT EUROPEAN WAFERS ...  \n",
       "1  DELICIOUS WAFERS. I FIND THAT EUROPEAN WAFERS ...  \n",
       "2  DELICIOUS WAFERS. I FIND THAT EUROPEAN WAFERS ...  \n",
       "3  DELICIOUS WAFERS. I FIND THAT EUROPEAN WAFERS ...  \n",
       "4  DELICIOUS WAFERS. I FIND THAT EUROPEAN WAFERS ...  "
      ]
     },
     "execution_count": 53,
     "metadata": {},
     "output_type": "execute_result"
    }
   ],
   "source": [
    "display= pd.read_sql_query(\"\"\"\n",
    "SELECT *\n",
    "FROM Reviews\n",
    "WHERE Score != 3 AND UserId=\"AR5J8UI46CURR\"\n",
    "ORDER BY ProductID\n",
    "\"\"\", con)\n",
    "display"
   ]
  },
  {
   "cell_type": "code",
   "execution_count": 54,
   "metadata": {},
   "outputs": [],
   "source": [
    "\n",
    "\n",
    "#Sorting data according to ProductId in ascending order\n",
    "sorted_data=filtered_data.sort_values('ProductId', axis=0, ascending=True, inplace=False, kind='quicksort', na_position='last')\n",
    "\n"
   ]
  },
  {
   "cell_type": "code",
   "execution_count": 55,
   "metadata": {},
   "outputs": [
    {
     "data": {
      "text/plain": [
       "(19354, 10)"
      ]
     },
     "execution_count": 55,
     "metadata": {},
     "output_type": "execute_result"
    }
   ],
   "source": [
    "final = sorted_data.drop_duplicates(subset = {\"UserId\",\"ProfileName\",\"Time\",\"Text\"}, keep='first', inplace=False)\n",
    "final.shape"
   ]
  },
  {
   "cell_type": "code",
   "execution_count": 56,
   "metadata": {},
   "outputs": [
    {
     "data": {
      "text/plain": [
       "96.77"
      ]
     },
     "execution_count": 56,
     "metadata": {},
     "output_type": "execute_result"
    }
   ],
   "source": [
    "(final['Id'].size*1.0)/(filtered_data['Id'].size*1.0)*100"
   ]
  },
  {
   "cell_type": "code",
   "execution_count": 57,
   "metadata": {},
   "outputs": [
    {
     "data": {
      "text/html": [
       "<div>\n",
       "<style scoped>\n",
       "    .dataframe tbody tr th:only-of-type {\n",
       "        vertical-align: middle;\n",
       "    }\n",
       "\n",
       "    .dataframe tbody tr th {\n",
       "        vertical-align: top;\n",
       "    }\n",
       "\n",
       "    .dataframe thead th {\n",
       "        text-align: right;\n",
       "    }\n",
       "</style>\n",
       "<table border=\"1\" class=\"dataframe\">\n",
       "  <thead>\n",
       "    <tr style=\"text-align: right;\">\n",
       "      <th></th>\n",
       "      <th>Id</th>\n",
       "      <th>ProductId</th>\n",
       "      <th>UserId</th>\n",
       "      <th>ProfileName</th>\n",
       "      <th>HelpfulnessNumerator</th>\n",
       "      <th>HelpfulnessDenominator</th>\n",
       "      <th>Score</th>\n",
       "      <th>Time</th>\n",
       "      <th>Summary</th>\n",
       "      <th>Text</th>\n",
       "    </tr>\n",
       "  </thead>\n",
       "  <tbody>\n",
       "    <tr>\n",
       "      <th>0</th>\n",
       "      <td>64422</td>\n",
       "      <td>B000MIDROQ</td>\n",
       "      <td>A161DK06JJMCYF</td>\n",
       "      <td>J. E. Stephens \"Jeanne\"</td>\n",
       "      <td>3</td>\n",
       "      <td>1</td>\n",
       "      <td>5</td>\n",
       "      <td>1224892800</td>\n",
       "      <td>Bought This for My Son at College</td>\n",
       "      <td>My son loves spaghetti so I didn't hesitate or...</td>\n",
       "    </tr>\n",
       "    <tr>\n",
       "      <th>1</th>\n",
       "      <td>44737</td>\n",
       "      <td>B001EQ55RW</td>\n",
       "      <td>A2V0I904FH7ABY</td>\n",
       "      <td>Ram</td>\n",
       "      <td>3</td>\n",
       "      <td>2</td>\n",
       "      <td>4</td>\n",
       "      <td>1212883200</td>\n",
       "      <td>Pure cocoa taste with crunchy almonds inside</td>\n",
       "      <td>It was almost a 'love at first bite' - the per...</td>\n",
       "    </tr>\n",
       "  </tbody>\n",
       "</table>\n",
       "</div>"
      ],
      "text/plain": [
       "      Id   ProductId          UserId              ProfileName  \\\n",
       "0  64422  B000MIDROQ  A161DK06JJMCYF  J. E. Stephens \"Jeanne\"   \n",
       "1  44737  B001EQ55RW  A2V0I904FH7ABY                      Ram   \n",
       "\n",
       "   HelpfulnessNumerator  HelpfulnessDenominator  Score        Time  \\\n",
       "0                     3                       1      5  1224892800   \n",
       "1                     3                       2      4  1212883200   \n",
       "\n",
       "                                        Summary  \\\n",
       "0             Bought This for My Son at College   \n",
       "1  Pure cocoa taste with crunchy almonds inside   \n",
       "\n",
       "                                                Text  \n",
       "0  My son loves spaghetti so I didn't hesitate or...  \n",
       "1  It was almost a 'love at first bite' - the per...  "
      ]
     },
     "execution_count": 57,
     "metadata": {},
     "output_type": "execute_result"
    }
   ],
   "source": [
    "display = pd.read_sql_query(\"\"\"\n",
    "SELECT *\n",
    "FROM Reviews\n",
    "WHERE Score != 3 AND Id=44737 OR Id=64422\n",
    "ORDER BY ProductID\n",
    "\"\"\", con)\n",
    "display"
   ]
  },
  {
   "cell_type": "code",
   "execution_count": 58,
   "metadata": {},
   "outputs": [],
   "source": [
    "\n",
    "\n",
    "final = final[final.HelpfulnessNumerator<=final.HelpfulnessDenominator]\n",
    "\n"
   ]
  },
  {
   "cell_type": "code",
   "execution_count": 59,
   "metadata": {},
   "outputs": [
    {
     "name": "stdout",
     "output_type": "stream",
     "text": [
      "(19354, 10)\n"
     ]
    },
    {
     "data": {
      "text/plain": [
       "positive    16339\n",
       "negative     3015\n",
       "Name: Score, dtype: int64"
      ]
     },
     "execution_count": 59,
     "metadata": {},
     "output_type": "execute_result"
    }
   ],
   "source": [
    "#Before starting the next phase of preprocessing lets see the number of entries left\n",
    "print(final.shape)\n",
    "\n",
    "#How many positive and negative reviews are present in our dataset?\n",
    "final['Score'].value_counts()"
   ]
  },
  {
   "cell_type": "code",
   "execution_count": 60,
   "metadata": {},
   "outputs": [
    {
     "name": "stdout",
     "output_type": "stream",
     "text": [
      "1\n",
      "Why is this $[...] when the same product is available for $[...] here?<br />http://www.amazon.com/VICTOR-FLY-MAGNET-BAIT-REFILL/dp/B00004RBDY<br /><br />The Victor M380 and M502 traps are unreal, of course -- total fly genocide. Pretty stinky, but only right nearby.\n"
     ]
    }
   ],
   "source": [
    "import re\n",
    "i=0;\n",
    "for sent in final['Text'].values:\n",
    "    if (len(re.findall('<.*?>', sent))):\n",
    "        print(i)\n",
    "        print(sent)\n",
    "        break;\n",
    "    i += 1;    "
   ]
  },
  {
   "cell_type": "code",
   "execution_count": 61,
   "metadata": {},
   "outputs": [
    {
     "name": "stdout",
     "output_type": "stream",
     "text": [
      "{'why', 'hasn', 'didn', \"mustn't\", 'up', 'himself', 'her', 'into', 'who', 'being', 'isn', 'have', 'mightn', 've', 'the', 'd', 'few', 'ain', 'with', \"shouldn't\", 'yours', 'when', 'ma', 'and', 'does', 'such', 'yourselves', 'then', 'how', 'we', 'itself', 'other', 'between', 'most', 'herself', 'until', 'a', 'down', \"wasn't\", 'no', 'my', 'you', 'against', 'than', \"haven't\", 'can', 'them', \"should've\", 'only', 'needn', 'he', 'of', 'an', 'through', 'here', \"it's\", 'his', 'their', 'should', 'shan', 'they', 'doing', \"won't\", 'what', 'over', 'below', 'not', 'this', 'these', 'its', 'shouldn', \"you'll\", 'to', 'myself', 'had', 'just', 'weren', \"aren't\", 'aren', 'was', \"doesn't\", \"shan't\", 'y', 'wouldn', 'each', 'for', 'during', 're', 'wasn', 'nor', \"you're\", 'any', 'couldn', 'whom', \"wouldn't\", 'after', 'some', 'above', 't', 'themselves', 'don', 'from', 'won', 'been', 'll', 'i', 'are', 'own', 'but', 'me', 'your', 'do', 'once', 'there', 'yourself', 'same', 'further', 'theirs', 'him', \"you'd\", 'in', 'by', \"needn't\", 'were', 'at', 'did', \"don't\", \"that'll\", 'ours', 'too', 's', 'now', \"mightn't\", \"she's\", 'on', \"isn't\", 'hadn', 'those', 'where', 'be', 'haven', 'so', 'about', 'ourselves', \"didn't\", 'while', 'again', 'which', 'more', 'm', 'both', 'o', 'under', 'mustn', 'if', 'as', 'because', 'hers', 'before', 'out', 'very', 'she', 'will', \"hadn't\", 'it', \"you've\", 'our', 'am', 'all', 'that', 'doesn', \"weren't\", 'off', 'or', \"couldn't\", 'has', 'having', \"hasn't\", 'is'}\n",
      "************************************\n",
      "tasti\n"
     ]
    }
   ],
   "source": [
    "import re\n",
    "# Tutorial about Python regular expressions: https://pymotw.com/2/re/\n",
    "import string\n",
    "from nltk.corpus import stopwords\n",
    "from nltk.stem import PorterStemmer\n",
    "from nltk.stem.wordnet import WordNetLemmatizer\n",
    "\n",
    "stop = set(stopwords.words('english')) #set of stopwords\n",
    "sno = nltk.stem.SnowballStemmer('english') #initialising the snowball stemmer\n",
    "\n",
    "def cleanhtml(sentence): #function to clean the word of any html-tags\n",
    "    cleanr = re.compile('<.*?>')\n",
    "    cleantext = re.sub(cleanr, ' ', sentence)\n",
    "    return cleantext\n",
    "def cleanpunc(sentence): #function to clean the word of any punctuation or special characters\n",
    "    cleaned = re.sub(r'[?|!|\\'|\"|#]',r'',sentence)\n",
    "    cleaned = re.sub(r'[.|,|)|(|\\|/]',r' ',cleaned)\n",
    "    return  cleaned\n",
    "print(stop)\n",
    "print('************************************')\n",
    "print(sno.stem('tasty'))"
   ]
  },
  {
   "cell_type": "code",
   "execution_count": 62,
   "metadata": {},
   "outputs": [],
   "source": [
    "#Code for implementing step-by-step the checks mentioned in the pre-processing phase\n",
    "# this code takes a while to run as it needs to run on 500k sentences.\n",
    "i=0\n",
    "str1=' '\n",
    "final_string=[]\n",
    "all_positive_words=[] # store words from +ve reviews here\n",
    "all_negative_words=[] # store words from -ve reviews here.\n",
    "s=''\n",
    "for sent in final['Text'].values:\n",
    "    filtered_sentence=[]\n",
    "    #print(sent);\n",
    "    sent=cleanhtml(sent) # remove HTMl tags\n",
    "    for w in sent.split():\n",
    "        for cleaned_words in cleanpunc(w).split():\n",
    "            if((cleaned_words.isalpha()) & (len(cleaned_words)>2)):    \n",
    "                if(cleaned_words.lower() not in stop):\n",
    "                    s=(sno.stem(cleaned_words.lower())).encode('utf8')\n",
    "                    filtered_sentence.append(s)\n",
    "                    if (final['Score'].values)[i] == 'positive': \n",
    "                        all_positive_words.append(s) #list of all words used to describe positive reviews\n",
    "                    if(final['Score'].values)[i] == 'negative':\n",
    "                        all_negative_words.append(s) #list of all words used to describe negative reviews reviews\n",
    "                else:\n",
    "                    continue\n",
    "            else:\n",
    "                continue \n",
    "    #print(filtered_sentence)\n",
    "    str1 = b\" \".join(filtered_sentence) #final string of cleaned words\n",
    "    #print(\"***********************************************************************\")\n",
    "    \n",
    "    final_string.append(str1)\n",
    "    i+=1"
   ]
  },
  {
   "cell_type": "code",
   "execution_count": 63,
   "metadata": {},
   "outputs": [],
   "source": [
    "final['CleanedText']=final_string #adding a column of CleanedText which displays the data after pre-processing of the review "
   ]
  },
  {
   "cell_type": "code",
   "execution_count": 64,
   "metadata": {},
   "outputs": [],
   "source": [
    "final.head(3) #below the processed review can be seen in the CleanedText Column \n",
    "\n",
    "\n",
    "# store final table into an SQlLite table for future.\n",
    "conn = sqlite3.connect('final.sqlite')\n",
    "c=conn.cursor()\n",
    "conn.text_factory = str\n",
    "final.to_sql('Reviews', conn, schema=None, if_exists='replace', index=True, index_label=None, chunksize=None, dtype=None)"
   ]
  },
  {
   "cell_type": "code",
   "execution_count": 65,
   "metadata": {},
   "outputs": [],
   "source": [
    "con = sqlite3.connect(\"final.sqlite\")\n",
    "cleaned_data = pd.read_sql_query(\"select * from Reviews\", con)"
   ]
  },
  {
   "cell_type": "code",
   "execution_count": 66,
   "metadata": {},
   "outputs": [
    {
     "data": {
      "text/plain": [
       "(19354, 12)"
      ]
     },
     "execution_count": 66,
     "metadata": {},
     "output_type": "execute_result"
    }
   ],
   "source": [
    "cleaned_data.shape"
   ]
  },
  {
   "cell_type": "code",
   "execution_count": 67,
   "metadata": {},
   "outputs": [
    {
     "data": {
      "text/html": [
       "<div>\n",
       "<style scoped>\n",
       "    .dataframe tbody tr th:only-of-type {\n",
       "        vertical-align: middle;\n",
       "    }\n",
       "\n",
       "    .dataframe tbody tr th {\n",
       "        vertical-align: top;\n",
       "    }\n",
       "\n",
       "    .dataframe thead th {\n",
       "        text-align: right;\n",
       "    }\n",
       "</style>\n",
       "<table border=\"1\" class=\"dataframe\">\n",
       "  <thead>\n",
       "    <tr style=\"text-align: right;\">\n",
       "      <th></th>\n",
       "      <th>index</th>\n",
       "      <th>Id</th>\n",
       "      <th>ProductId</th>\n",
       "      <th>UserId</th>\n",
       "      <th>ProfileName</th>\n",
       "      <th>HelpfulnessNumerator</th>\n",
       "      <th>HelpfulnessDenominator</th>\n",
       "      <th>Score</th>\n",
       "      <th>Time</th>\n",
       "      <th>Summary</th>\n",
       "      <th>Text</th>\n",
       "      <th>CleanedText</th>\n",
       "    </tr>\n",
       "  </thead>\n",
       "  <tbody>\n",
       "    <tr>\n",
       "      <th>0</th>\n",
       "      <td>2547</td>\n",
       "      <td>2775</td>\n",
       "      <td>B00002NCJC</td>\n",
       "      <td>A13RRPGE79XFFH</td>\n",
       "      <td>reader48</td>\n",
       "      <td>0</td>\n",
       "      <td>0</td>\n",
       "      <td>positive</td>\n",
       "      <td>1281052800</td>\n",
       "      <td>Flies Begone</td>\n",
       "      <td>We have used the Victor fly bait for 3 seasons...</td>\n",
       "      <td>b'use victor fli bait season cant beat great p...</td>\n",
       "    </tr>\n",
       "    <tr>\n",
       "      <th>1</th>\n",
       "      <td>2546</td>\n",
       "      <td>2774</td>\n",
       "      <td>B00002NCJC</td>\n",
       "      <td>A196AJHU9EASJN</td>\n",
       "      <td>Alex Chaffee</td>\n",
       "      <td>0</td>\n",
       "      <td>0</td>\n",
       "      <td>positive</td>\n",
       "      <td>1282953600</td>\n",
       "      <td>thirty bucks?</td>\n",
       "      <td>Why is this $[...] when the same product is av...</td>\n",
       "      <td>b'product avail www amazon com victor trap unr...</td>\n",
       "    </tr>\n",
       "    <tr>\n",
       "      <th>2</th>\n",
       "      <td>1146</td>\n",
       "      <td>1245</td>\n",
       "      <td>B00002Z754</td>\n",
       "      <td>A29Z5PI9BW2PU3</td>\n",
       "      <td>Robbie</td>\n",
       "      <td>7</td>\n",
       "      <td>7</td>\n",
       "      <td>positive</td>\n",
       "      <td>961718400</td>\n",
       "      <td>Great Product</td>\n",
       "      <td>This was a really good idea and the final prod...</td>\n",
       "      <td>b'realli good idea final product outstand use ...</td>\n",
       "    </tr>\n",
       "    <tr>\n",
       "      <th>3</th>\n",
       "      <td>1145</td>\n",
       "      <td>1244</td>\n",
       "      <td>B00002Z754</td>\n",
       "      <td>A3B8RCEI0FXFI6</td>\n",
       "      <td>B G Chase</td>\n",
       "      <td>10</td>\n",
       "      <td>10</td>\n",
       "      <td>positive</td>\n",
       "      <td>962236800</td>\n",
       "      <td>WOW Make your own 'slickers' !</td>\n",
       "      <td>I just received my shipment and could hardly w...</td>\n",
       "      <td>b'receiv shipment could hard wait tri product ...</td>\n",
       "    </tr>\n",
       "    <tr>\n",
       "      <th>4</th>\n",
       "      <td>8696</td>\n",
       "      <td>9527</td>\n",
       "      <td>B00005V3DC</td>\n",
       "      <td>A8KY7S48EW7LW</td>\n",
       "      <td>A. Daly \"AD\"</td>\n",
       "      <td>0</td>\n",
       "      <td>0</td>\n",
       "      <td>positive</td>\n",
       "      <td>1350172800</td>\n",
       "      <td>The Best Cleansing Tea I've Ever Had</td>\n",
       "      <td>I've used this brand for years. If you're feel...</td>\n",
       "      <td>b'ive use brand year your feel clog ate massiv...</td>\n",
       "    </tr>\n",
       "  </tbody>\n",
       "</table>\n",
       "</div>"
      ],
      "text/plain": [
       "   index    Id   ProductId          UserId   ProfileName  \\\n",
       "0   2547  2775  B00002NCJC  A13RRPGE79XFFH      reader48   \n",
       "1   2546  2774  B00002NCJC  A196AJHU9EASJN  Alex Chaffee   \n",
       "2   1146  1245  B00002Z754  A29Z5PI9BW2PU3        Robbie   \n",
       "3   1145  1244  B00002Z754  A3B8RCEI0FXFI6     B G Chase   \n",
       "4   8696  9527  B00005V3DC   A8KY7S48EW7LW  A. Daly \"AD\"   \n",
       "\n",
       "   HelpfulnessNumerator  HelpfulnessDenominator     Score        Time  \\\n",
       "0                     0                       0  positive  1281052800   \n",
       "1                     0                       0  positive  1282953600   \n",
       "2                     7                       7  positive   961718400   \n",
       "3                    10                      10  positive   962236800   \n",
       "4                     0                       0  positive  1350172800   \n",
       "\n",
       "                                Summary  \\\n",
       "0                          Flies Begone   \n",
       "1                         thirty bucks?   \n",
       "2                         Great Product   \n",
       "3        WOW Make your own 'slickers' !   \n",
       "4  The Best Cleansing Tea I've Ever Had   \n",
       "\n",
       "                                                Text  \\\n",
       "0  We have used the Victor fly bait for 3 seasons...   \n",
       "1  Why is this $[...] when the same product is av...   \n",
       "2  This was a really good idea and the final prod...   \n",
       "3  I just received my shipment and could hardly w...   \n",
       "4  I've used this brand for years. If you're feel...   \n",
       "\n",
       "                                         CleanedText  \n",
       "0  b'use victor fli bait season cant beat great p...  \n",
       "1  b'product avail www amazon com victor trap unr...  \n",
       "2  b'realli good idea final product outstand use ...  \n",
       "3  b'receiv shipment could hard wait tri product ...  \n",
       "4  b'ive use brand year your feel clog ate massiv...  "
      ]
     },
     "execution_count": 67,
     "metadata": {},
     "output_type": "execute_result"
    }
   ],
   "source": [
    "cleaned_data.head()"
   ]
  },
  {
   "cell_type": "code",
   "execution_count": 68,
   "metadata": {},
   "outputs": [
    {
     "data": {
      "text/plain": [
       "positive    16339\n",
       "negative     3015\n",
       "Name: Score, dtype: int64"
      ]
     },
     "execution_count": 68,
     "metadata": {},
     "output_type": "execute_result"
    }
   ],
   "source": [
    "cleaned_data[\"Score\"].value_counts()"
   ]
  },
  {
   "cell_type": "code",
   "execution_count": 69,
   "metadata": {},
   "outputs": [
    {
     "data": {
      "text/plain": [
       "(7000, 12)"
      ]
     },
     "execution_count": 69,
     "metadata": {},
     "output_type": "execute_result"
    }
   ],
   "source": [
    "# To randomly sample 100k points from both class\n",
    "\n",
    "data_pos = cleaned_data[cleaned_data[\"Score\"] == \"positive\"].sample(n =4000)\n",
    "data_neg = cleaned_data[cleaned_data[\"Score\"] == \"negative\"].sample(n = 3000)\n",
    "final_100k = pd.concat([data_pos, data_neg])\n",
    "final_100k.shape"
   ]
  },
  {
   "cell_type": "code",
   "execution_count": 70,
   "metadata": {},
   "outputs": [
    {
     "data": {
      "text/html": [
       "<div>\n",
       "<style scoped>\n",
       "    .dataframe tbody tr th:only-of-type {\n",
       "        vertical-align: middle;\n",
       "    }\n",
       "\n",
       "    .dataframe tbody tr th {\n",
       "        vertical-align: top;\n",
       "    }\n",
       "\n",
       "    .dataframe thead th {\n",
       "        text-align: right;\n",
       "    }\n",
       "</style>\n",
       "<table border=\"1\" class=\"dataframe\">\n",
       "  <thead>\n",
       "    <tr style=\"text-align: right;\">\n",
       "      <th></th>\n",
       "      <th>index</th>\n",
       "      <th>Id</th>\n",
       "      <th>ProductId</th>\n",
       "      <th>UserId</th>\n",
       "      <th>ProfileName</th>\n",
       "      <th>HelpfulnessNumerator</th>\n",
       "      <th>HelpfulnessDenominator</th>\n",
       "      <th>Score</th>\n",
       "      <th>Time</th>\n",
       "      <th>Summary</th>\n",
       "      <th>Text</th>\n",
       "      <th>CleanedText</th>\n",
       "    </tr>\n",
       "  </thead>\n",
       "  <tbody>\n",
       "    <tr>\n",
       "      <th>2</th>\n",
       "      <td>1146</td>\n",
       "      <td>1245</td>\n",
       "      <td>B00002Z754</td>\n",
       "      <td>A29Z5PI9BW2PU3</td>\n",
       "      <td>Robbie</td>\n",
       "      <td>7</td>\n",
       "      <td>7</td>\n",
       "      <td>positive</td>\n",
       "      <td>2000-06-23</td>\n",
       "      <td>Great Product</td>\n",
       "      <td>This was a really good idea and the final prod...</td>\n",
       "      <td>b'realli good idea final product outstand use ...</td>\n",
       "    </tr>\n",
       "    <tr>\n",
       "      <th>599</th>\n",
       "      <td>17537</td>\n",
       "      <td>19119</td>\n",
       "      <td>B0001LVX4K</td>\n",
       "      <td>A2BURMCEXHSA0C</td>\n",
       "      <td>Chris Leggett</td>\n",
       "      <td>15</td>\n",
       "      <td>15</td>\n",
       "      <td>positive</td>\n",
       "      <td>2004-06-15</td>\n",
       "      <td>Cheese sandwiches are naked without Branston P...</td>\n",
       "      <td>This is the best sandwich topping ever!  I gre...</td>\n",
       "      <td>b'best sandwich top ever grew eat branston pic...</td>\n",
       "    </tr>\n",
       "    <tr>\n",
       "      <th>90</th>\n",
       "      <td>17952</td>\n",
       "      <td>19565</td>\n",
       "      <td>B000084ETV</td>\n",
       "      <td>A1RADTHXONQYP0</td>\n",
       "      <td>S. L. Jordan \"suncloud27\"</td>\n",
       "      <td>55</td>\n",
       "      <td>57</td>\n",
       "      <td>positive</td>\n",
       "      <td>2004-07-23</td>\n",
       "      <td>CANIDAE - a best choice for Fido or FiFi</td>\n",
       "      <td>I searched for a food that wasn't full of pres...</td>\n",
       "      <td>b'search food wasnt full preserv filler didnt ...</td>\n",
       "    </tr>\n",
       "    <tr>\n",
       "      <th>15</th>\n",
       "      <td>5897</td>\n",
       "      <td>6386</td>\n",
       "      <td>B000084EK9</td>\n",
       "      <td>A1Z54EM24Y40LL</td>\n",
       "      <td>c2</td>\n",
       "      <td>0</td>\n",
       "      <td>0</td>\n",
       "      <td>negative</td>\n",
       "      <td>2004-07-28</td>\n",
       "      <td>This stuff is bad!</td>\n",
       "      <td>I honestly have to say that I just won't buy t...</td>\n",
       "      <td>b'honest say wont buy varieti look bad smell b...</td>\n",
       "    </tr>\n",
       "    <tr>\n",
       "      <th>19</th>\n",
       "      <td>5888</td>\n",
       "      <td>6376</td>\n",
       "      <td>B000084EKD</td>\n",
       "      <td>A1Z54EM24Y40LL</td>\n",
       "      <td>c2</td>\n",
       "      <td>1</td>\n",
       "      <td>1</td>\n",
       "      <td>negative</td>\n",
       "      <td>2004-07-28</td>\n",
       "      <td>Needs improved</td>\n",
       "      <td>I haven't had a cat yet that liked this one.  ...</td>\n",
       "      <td>b'havent cat yet like one littl interest think...</td>\n",
       "    </tr>\n",
       "  </tbody>\n",
       "</table>\n",
       "</div>"
      ],
      "text/plain": [
       "     index     Id   ProductId          UserId                ProfileName  \\\n",
       "2     1146   1245  B00002Z754  A29Z5PI9BW2PU3                     Robbie   \n",
       "599  17537  19119  B0001LVX4K  A2BURMCEXHSA0C              Chris Leggett   \n",
       "90   17952  19565  B000084ETV  A1RADTHXONQYP0  S. L. Jordan \"suncloud27\"   \n",
       "15    5897   6386  B000084EK9  A1Z54EM24Y40LL                         c2   \n",
       "19    5888   6376  B000084EKD  A1Z54EM24Y40LL                         c2   \n",
       "\n",
       "     HelpfulnessNumerator  HelpfulnessDenominator     Score       Time  \\\n",
       "2                       7                       7  positive 2000-06-23   \n",
       "599                    15                      15  positive 2004-06-15   \n",
       "90                     55                      57  positive 2004-07-23   \n",
       "15                      0                       0  negative 2004-07-28   \n",
       "19                      1                       1  negative 2004-07-28   \n",
       "\n",
       "                                               Summary  \\\n",
       "2                                        Great Product   \n",
       "599  Cheese sandwiches are naked without Branston P...   \n",
       "90            CANIDAE - a best choice for Fido or FiFi   \n",
       "15                                  This stuff is bad!   \n",
       "19                                      Needs improved   \n",
       "\n",
       "                                                  Text  \\\n",
       "2    This was a really good idea and the final prod...   \n",
       "599  This is the best sandwich topping ever!  I gre...   \n",
       "90   I searched for a food that wasn't full of pres...   \n",
       "15   I honestly have to say that I just won't buy t...   \n",
       "19   I haven't had a cat yet that liked this one.  ...   \n",
       "\n",
       "                                           CleanedText  \n",
       "2    b'realli good idea final product outstand use ...  \n",
       "599  b'best sandwich top ever grew eat branston pic...  \n",
       "90   b'search food wasnt full preserv filler didnt ...  \n",
       "15   b'honest say wont buy varieti look bad smell b...  \n",
       "19   b'havent cat yet like one littl interest think...  "
      ]
     },
     "execution_count": 70,
     "metadata": {},
     "output_type": "execute_result"
    }
   ],
   "source": [
    "final_100k[\"Time\"] = pd.to_datetime(final_100k[\"Time\"], unit = \"s\")\n",
    "final_100k = final_100k.sort_values(by = \"Time\")\n",
    "final_100k.head()"
   ]
  },
  {
   "cell_type": "code",
   "execution_count": 71,
   "metadata": {},
   "outputs": [],
   "source": [
    "# Fuction to compute alpha value\n",
    "def naive_bayes(X_train, y_train):\n",
    "    \n",
    "    alpha_values = np.arange(1, 500, 0.5)\n",
    "        \n",
    "\n",
    "    # empty list that will hold cv scores\n",
    "    cv_scores = []\n",
    "\n",
    "    # perform 10-fold cross validation\n",
    "    for alpha in alpha_values:\n",
    "        mnb = MultinomialNB(alpha = alpha)\n",
    "        scores = cross_val_score(mnb, X_train, y_train, cv = 10, scoring = 'accuracy')\n",
    "        cv_scores.append(scores.mean())\n",
    "\n",
    "    # changing to misclassification error\n",
    "    MSE = [1 - x for x in cv_scores]\n",
    "\n",
    "    # determining best alpha\n",
    "    optimal_alpha = alpha_values[MSE.index(min(MSE))]\n",
    "    print('\\nThe optimal number of alpha is %d.' % optimal_alpha)\n",
    "\n",
    "    # plot misclassification error vs alpha\n",
    "    plt.plot(alpha_values, MSE, marker = '*') \n",
    "\n",
    "    #for xy in zip(alpha_values, np.round(MSE,3)):\n",
    "        #plt.annotate('(%s, %s)' % xy, xy=xy, textcoords='data')\n",
    "    plt.title(\"Misclassification Error vs alpha\")\n",
    "    plt.xlabel('value of alpha')\n",
    "    plt.ylabel('Misclassification Error')\n",
    "    plt.show()\n",
    "\n",
    "    #print(\"the misclassification error for each value of alpha is : \", np.round(MSE,3))\n",
    "    return optimal_alpha"
   ]
  },
  {
   "cell_type": "code",
   "execution_count": 72,
   "metadata": {},
   "outputs": [
    {
     "name": "stdout",
     "output_type": "stream",
     "text": [
      "shape of X: (7000,)\n"
     ]
    }
   ],
   "source": [
    "# 100k data which will use to train model after vectorization\n",
    "X = final_100k[\"CleanedText\"]\n",
    "print(\"shape of X:\", X.shape)"
   ]
  },
  {
   "cell_type": "code",
   "execution_count": 73,
   "metadata": {},
   "outputs": [
    {
     "name": "stdout",
     "output_type": "stream",
     "text": [
      "shape of y: (7000,)\n"
     ]
    }
   ],
   "source": [
    "# class label\n",
    "y = final_100k[\"Score\"]\n",
    "print(\"shape of y:\", y.shape)"
   ]
  },
  {
   "cell_type": "code",
   "execution_count": 74,
   "metadata": {},
   "outputs": [
    {
     "name": "stdout",
     "output_type": "stream",
     "text": [
      "(4900,) (4900,) (2100,)\n"
     ]
    }
   ],
   "source": [
    "# split data into train and test where 70% data used to train model and 30% for test\n",
    "# final_4000[:int(len(final_4000) * 0.75)], final_4000[int(len(final_4000) * 0.75):]\n",
    "from sklearn.model_selection import train_test_split\n",
    "X_train, x_test, y_train, y_test = train_test_split(X, y, test_size = 0.3, random_state = 42)\n",
    "print(X_train.shape, y_train.shape, x_test.shape)"
   ]
  },
  {
   "cell_type": "code",
   "execution_count": 75,
   "metadata": {},
   "outputs": [],
   "source": [
    "# Train Vectorizor\n",
    "from sklearn.feature_extraction.text import CountVectorizer \n",
    "\n",
    "bow = CountVectorizer()\n",
    "X_train = bow.fit_transform(X_train)\n",
    "\n"
   ]
  },
  {
   "cell_type": "code",
   "execution_count": 76,
   "metadata": {},
   "outputs": [],
   "source": [
    "# Test Vectorizor\n",
    "x_test = bow.transform(x_test)"
   ]
  },
  {
   "cell_type": "code",
   "execution_count": 165,
   "metadata": {},
   "outputs": [
    {
     "data": {
      "text/plain": [
       "(70, 1009)"
      ]
     },
     "execution_count": 165,
     "metadata": {},
     "output_type": "execute_result"
    }
   ],
   "source": [
    "x_test.shape\n"
   ]
  },
  {
   "cell_type": "code",
   "execution_count": 77,
   "metadata": {},
   "outputs": [
    {
     "data": {
      "text/plain": [
       "(4900, 9201)"
      ]
     },
     "execution_count": 77,
     "metadata": {},
     "output_type": "execute_result"
    }
   ],
   "source": [
    "X_train.shape"
   ]
  },
  {
   "cell_type": "code",
   "execution_count": 78,
   "metadata": {},
   "outputs": [
    {
     "data": {
      "text/plain": [
       "(4900,)"
      ]
     },
     "execution_count": 78,
     "metadata": {},
     "output_type": "execute_result"
    }
   ],
   "source": [
    "y_train.shape"
   ]
  },
  {
   "cell_type": "code",
   "execution_count": 79,
   "metadata": {},
   "outputs": [
    {
     "name": "stdout",
     "output_type": "stream",
     "text": [
      "\n",
      "The optimal number of alpha is 1.\n"
     ]
    },
    {
     "data": {
      "image/png": "[encoded data removed]",
      "text/plain": [
       "<Figure size 432x288 with 1 Axes>"
      ]
     },
     "metadata": {
      "needs_background": "light"
     },
     "output_type": "display_data"
    },
    {
     "data": {
      "text/plain": [
       "1.5"
      ]
     },
     "execution_count": 79,
     "metadata": {},
     "output_type": "execute_result"
    }
   ],
   "source": [
    "# To choose optimal_alpha using cross validation\n",
    "\n",
    "optimal_alpha_bow = naive_bayes(X_train, y_train)\n",
    "optimal_alpha_bow\n"
   ]
  },
  {
   "cell_type": "code",
   "execution_count": 80,
   "metadata": {},
   "outputs": [],
   "source": [
    "# instantiate learning model alpha = optimal_alpha\n",
    "nb_optimal =  MultinomialNB(alpha = optimal_alpha_bow)\n",
    "\n",
    "# fitting the model\n",
    "nb_optimal.fit(X_train, y_train)\n",
    "#knn_optimal.fit(bow_data, y_train)\n",
    "\n",
    "# predict the response\n",
    "pred = nb_optimal.predict(x_test)"
   ]
  },
  {
   "cell_type": "code",
   "execution_count": 81,
   "metadata": {},
   "outputs": [],
   "source": [
    "bow_features = bow.get_feature_names()"
   ]
  },
  {
   "cell_type": "code",
   "execution_count": 82,
   "metadata": {},
   "outputs": [
    {
     "data": {
      "text/plain": [
       "(2, 9201)"
      ]
     },
     "execution_count": 82,
     "metadata": {},
     "output_type": "execute_result"
    }
   ],
   "source": [
    "# To count feature for each class while fitting the model\n",
    "# Number of samples encountered for each (class, feature) during fitting\n",
    "\n",
    "feat_count = nb_optimal.feature_count_\n",
    "feat_count.shape"
   ]
  },
  {
   "cell_type": "code",
   "execution_count": 83,
   "metadata": {},
   "outputs": [
    {
     "data": {
      "text/plain": [
       "array([[-11.11961124, -10.60878561, -10.27231337, ..., -10.60878561,\n",
       "        -10.60878561, -11.11961124],\n",
       "       [-10.73370174, -11.24452737, -10.73370174, ...,  -9.29861722,\n",
       "        -11.24452737, -10.73370174]])"
      ]
     },
     "execution_count": 83,
     "metadata": {},
     "output_type": "execute_result"
    }
   ],
   "source": [
    "# Empirical log probability of features given a class(i.e. P(x_i|y))\n",
    "\n",
    "log_prob = nb_optimal.feature_log_prob_\n",
    "log_prob"
   ]
  },
  {
   "cell_type": "code",
   "execution_count": 84,
   "metadata": {},
   "outputs": [
    {
     "data": {
      "text/plain": [
       "(9201, 2)"
      ]
     },
     "execution_count": 84,
     "metadata": {},
     "output_type": "execute_result"
    }
   ],
   "source": [
    "feature_prob = pd.DataFrame(log_prob, columns = bow_features)\n",
    "feature_prob_tr = feature_prob.T\n",
    "feature_prob_tr.shape"
   ]
  },
  {
   "cell_type": "code",
   "execution_count": 85,
   "metadata": {},
   "outputs": [
    {
     "name": "stdout",
     "output_type": "stream",
     "text": [
      "Top 10 Negative Features:-\n",
      " tast      -4.486731\n",
      "like      -4.487609\n",
      "product   -4.602925\n",
      "one       -4.923167\n",
      "flavor    -5.000780\n",
      "would     -5.014074\n",
      "tri       -5.018545\n",
      "food      -5.201614\n",
      "use       -5.232582\n",
      "buy       -5.255034\n",
      "Name: 0, dtype: float64\n",
      "\n",
      "\n",
      " Top 10 Positive Features:-\n",
      " like     -4.496550\n",
      "tast     -4.669452\n",
      "love     -4.696786\n",
      "good     -4.756843\n",
      "great    -4.771151\n",
      "flavor   -4.784623\n",
      "coffe    -4.866101\n",
      "one      -4.907702\n",
      "use      -4.966006\n",
      "tri      -5.005552\n",
      "Name: 1, dtype: float64\n"
     ]
    }
   ],
   "source": [
    "# To show top 10 feature from both class\n",
    "# Feature Importance\n",
    "print(\"Top 10 Negative Features:-\\n\",feature_prob_tr[0].sort_values(ascending = False)[0:10])\n",
    "print(\"\\n\\n Top 10 Positive Features:-\\n\",feature_prob_tr[1].sort_values(ascending = False)[0:10])"
   ]
  },
  {
   "cell_type": "code",
   "execution_count": 86,
   "metadata": {},
   "outputs": [
    {
     "name": "stdout",
     "output_type": "stream",
     "text": [
      "Train accuracy 0.9163265306122449\n"
     ]
    }
   ],
   "source": [
    "# Accuracy on train data\n",
    "train_acc_bow = nb_optimal.score(X_train, y_train)\n",
    "print(\"Train accuracy\", train_acc_bow)"
   ]
  },
  {
   "cell_type": "code",
   "execution_count": 87,
   "metadata": {},
   "outputs": [
    {
     "name": "stdout",
     "output_type": "stream",
     "text": [
      "Train Error 0.083673%\n"
     ]
    }
   ],
   "source": [
    "# Error on train data\n",
    "train_err_bow = 1-train_acc_bow\n",
    "print(\"Train Error %f%%\" % (train_err_bow))"
   ]
  },
  {
   "cell_type": "code",
   "execution_count": 88,
   "metadata": {},
   "outputs": [
    {
     "name": "stdout",
     "output_type": "stream",
     "text": [
      "\n",
      "The accuracy of the naive bayes classifier for alpha = 1 is 83.809524%\n"
     ]
    }
   ],
   "source": [
    "# evaluate accuracy on test data\n",
    "acc_bow = accuracy_score(y_test, pred) * 100\n",
    "print('\\nThe accuracy of the naive bayes classifier for alpha = %d is %f%%' % (optimal_alpha_bow, acc_bow))"
   ]
  },
  {
   "cell_type": "code",
   "execution_count": 89,
   "metadata": {},
   "outputs": [
    {
     "data": {
      "text/plain": [
       "array([[ 688,  211],\n",
       "       [ 129, 1072]])"
      ]
     },
     "execution_count": 89,
     "metadata": {},
     "output_type": "execute_result"
    }
   ],
   "source": [
    "# Confusion Matrix\n",
    "from sklearn.metrics import confusion_matrix\n",
    "cm = confusion_matrix(y_test, pred)\n",
    "cm"
   ]
  },
  {
   "cell_type": "code",
   "execution_count": 90,
   "metadata": {},
   "outputs": [
    {
     "data": {
      "image/png": "[encoded data removed]",
      "text/plain": [
       "<Figure size 432x288 with 2 Axes>"
      ]
     },
     "metadata": {
      "needs_background": "light"
     },
     "output_type": "display_data"
    }
   ],
   "source": [
    "# plot confusion matrix to describe the performance of classifier.\n",
    "import seaborn as sns\n",
    "class_label = [\"negative\", \"positive\"]\n",
    "df_cm = pd.DataFrame(cm, index = class_label, columns = class_label)\n",
    "sns.heatmap(df_cm, annot = True, fmt = \"d\")\n",
    "plt.title(\"Confusiion Matrix\")\n",
    "plt.xlabel(\"Predicted Label\")\n",
    "plt.ylabel(\"True Label\")\n",
    "plt.show()"
   ]
  },
  {
   "cell_type": "code",
   "execution_count": 91,
   "metadata": {},
   "outputs": [
    {
     "name": "stdout",
     "output_type": "stream",
     "text": [
      "             precision    recall  f1-score   support\n",
      "\n",
      "   negative       0.84      0.77      0.80       899\n",
      "   positive       0.84      0.89      0.86      1201\n",
      "\n",
      "avg / total       0.84      0.84      0.84      2100\n",
      "\n"
     ]
    }
   ],
   "source": [
    "# To show main classification report\n",
    "from sklearn.metrics import classification_report\n",
    "print(classification_report(y_test, pred))"
   ]
  },
  {
   "cell_type": "code",
   "execution_count": 92,
   "metadata": {},
   "outputs": [],
   "source": [
    "# data\n",
    "X = final_100k[\"CleanedText\"]"
   ]
  },
  {
   "cell_type": "code",
   "execution_count": 93,
   "metadata": {},
   "outputs": [],
   "source": [
    "\n",
    "\n",
    "# Target/class-label\n",
    "y = final_100k[\"Score\"]\n",
    "\n"
   ]
  },
  {
   "cell_type": "code",
   "execution_count": 94,
   "metadata": {},
   "outputs": [
    {
     "name": "stdout",
     "output_type": "stream",
     "text": [
      "(4900,) (2100,) (4900,) (2100,)\n"
     ]
    }
   ],
   "source": [
    "\n",
    "\n",
    "# Split data\n",
    "X_train, x_test, y_train, y_test = train_test_split(X, y, test_size = 0.3, random_state = 42)\n",
    "print(X_train.shape, x_test.shape, y_train.shape, y_test.shape)\n",
    "\n"
   ]
  },
  {
   "cell_type": "code",
   "execution_count": 95,
   "metadata": {},
   "outputs": [
    {
     "name": "stderr",
     "output_type": "stream",
     "text": [
      "/home/dtewani/anaconda3/lib/python3.6/site-packages/sklearn/feature_extraction/text.py:1059: FutureWarning: Conversion of the second argument of issubdtype from `float` to `np.floating` is deprecated. In future, it will be treated as `np.float64 == np.dtype(float).type`.\n",
      "  if hasattr(X, 'dtype') and np.issubdtype(X.dtype, np.float):\n"
     ]
    },
    {
     "data": {
      "text/plain": [
       "<4900x132201 sparse matrix of type '<class 'numpy.float64'>'\n",
       "\twith 333840 stored elements in Compressed Sparse Row format>"
      ]
     },
     "execution_count": 95,
     "metadata": {},
     "output_type": "execute_result"
    }
   ],
   "source": [
    "#from sklearn.feature_extraction.text import TfidfVectorizer\n",
    "\n",
    "#tfidf = TfidfVectorizer()\n",
    "#tfidf_data = tfidf.fit_transform(final_4000[\"CleanedText\"])\n",
    "#tfidf_data\n",
    "\n",
    "\n",
    "#tf_idf_vect = TfidfVectorizer(ngram_range=(1,2))\n",
    "#tf_idf_vect = TfidfVectorizer(ngram_range=(1,2))\n",
    "#tf_idf_vect= TfidfVectorizer(ngram_range=(1,2))\n",
    "\n",
    "#tf_idf_vect=dfVectorizer(sublinear_tf=True, min_df=5, norm='l2', encoding='latin-1', ngram_range=(1, 2), stop_words='english')\n",
    "#features = tfidf.fit_transform(df.Consumer_complaint_narrative).toarray()\n",
    "\n",
    "#X_train = tf_idf_vect.fit_transform(X_train)\n",
    "#X_Train=CountVectorizer(ngram_range=(1,2) )\n",
    "#y_train.shape\n",
    "\n",
    "\n",
    "from sklearn.feature_extraction.text import TfidfVectorizer\n",
    "\n",
    "#tfidf = TfidfVectorizer()\n",
    "#tfidf_data = tfidf.fit_transform(final_4000[\"CleanedText\"])\n",
    "#tfidf_data\n",
    "tf_idf_vect = TfidfVectorizer(ngram_range=(1,2))\n",
    "X_train = tf_idf_vect.fit_transform(X_train)\n",
    "X_train"
   ]
  },
  {
   "cell_type": "code",
   "execution_count": 96,
   "metadata": {},
   "outputs": [
    {
     "data": {
      "text/plain": [
       "(2100, 132201)"
      ]
     },
     "execution_count": 96,
     "metadata": {},
     "output_type": "execute_result"
    }
   ],
   "source": [
    "# Convert test text data to its vectorizor\n",
    "x_test = tf_idf_vect.transform(x_test)\n",
    "x_test.shape"
   ]
  },
  {
   "cell_type": "code",
   "execution_count": 97,
   "metadata": {},
   "outputs": [
    {
     "name": "stdout",
     "output_type": "stream",
     "text": [
      "\n",
      "The optimal number of alpha is 1.\n"
     ]
    },
    {
     "data": {
      "image/png": "[encoded data removed]",
      "text/plain": [
       "<Figure size 432x288 with 1 Axes>"
      ]
     },
     "metadata": {
      "needs_background": "light"
     },
     "output_type": "display_data"
    },
    {
     "data": {
      "text/plain": [
       "1.0"
      ]
     },
     "execution_count": 97,
     "metadata": {},
     "output_type": "execute_result"
    }
   ],
   "source": [
    "# To choosing optimal_alpha\n",
    "\n",
    "optimal_alpha_tfidf = naive_bayes(X_train, y_train)\n",
    "optimal_alpha_tfidf"
   ]
  },
  {
   "cell_type": "code",
   "execution_count": 98,
   "metadata": {},
   "outputs": [],
   "source": [
    "# instantiate learning model alpha = optimal_alpha\n",
    "nb_optimal = MultinomialNB(alpha = optimal_alpha_tfidf)\n",
    "\n",
    "# fitting the model\n",
    "nb_optimal.fit(X_train, y_train)\n",
    "#knn_optimal.fit(bow_data, y_train)\n",
    "    \n",
    "# predict the response\n",
    "pred = nb_optimal.predict(x_test)"
   ]
  },
  {
   "cell_type": "code",
   "execution_count": 99,
   "metadata": {},
   "outputs": [],
   "source": [
    "tfidf_features = tf_idf_vect.get_feature_names()"
   ]
  },
  {
   "cell_type": "code",
   "execution_count": 100,
   "metadata": {},
   "outputs": [
    {
     "data": {
      "text/plain": [
       "(2, 132201)"
      ]
     },
     "execution_count": 100,
     "metadata": {},
     "output_type": "execute_result"
    }
   ],
   "source": [
    "# To count feature for each class while fitting the model\n",
    "# Number of samples encountered for each (class, feature) during fitting\n",
    "\n",
    "feat_count = nb_optimal.feature_count_\n",
    "feat_count.shape"
   ]
  },
  {
   "cell_type": "code",
   "execution_count": 101,
   "metadata": {},
   "outputs": [
    {
     "data": {
      "text/plain": [
       "array([2101., 2799.])"
      ]
     },
     "execution_count": 101,
     "metadata": {},
     "output_type": "execute_result"
    }
   ],
   "source": [
    "# Number of samples encountered for each class during fitting\n",
    "\n",
    "nb_optimal.class_count_"
   ]
  },
  {
   "cell_type": "code",
   "execution_count": 102,
   "metadata": {},
   "outputs": [
    {
     "data": {
      "text/plain": [
       "array([[-11.9048042 , -11.9048042 , -11.82366776, ..., -11.78632876,\n",
       "        -11.9048042 , -11.9048042 ],\n",
       "       [-11.8704761 , -11.8704761 , -11.93074635, ..., -11.93074635,\n",
       "        -11.84145578, -11.84145578]])"
      ]
     },
     "execution_count": 102,
     "metadata": {},
     "output_type": "execute_result"
    }
   ],
   "source": [
    "# Empirical log probability of features given a class(i.e. P(x_i|y))\n",
    "\n",
    "log_prob = nb_optimal.feature_log_prob_\n",
    "log_prob"
   ]
  },
  {
   "cell_type": "code",
   "execution_count": 103,
   "metadata": {},
   "outputs": [
    {
     "data": {
      "text/plain": [
       "(132201, 2)"
      ]
     },
     "execution_count": 103,
     "metadata": {},
     "output_type": "execute_result"
    }
   ],
   "source": [
    "feature_prob = pd.DataFrame(log_prob, columns = tfidf_features)\n",
    "feature_prob_tr = feature_prob.T\n",
    "feature_prob_tr.shape\n"
   ]
  },
  {
   "cell_type": "code",
   "execution_count": 104,
   "metadata": {},
   "outputs": [
    {
     "name": "stdout",
     "output_type": "stream",
     "text": [
      "Top 10 negative features:-\n",
      " tast      -8.132127\n",
      "product   -8.236740\n",
      "like      -8.244626\n",
      "would     -8.538825\n",
      "flavor    -8.548495\n",
      "one       -8.605688\n",
      "tri       -8.610071\n",
      "coffe     -8.618248\n",
      "buy       -8.690463\n",
      "order     -8.798959\n",
      "Name: 0, dtype: float64\n",
      "\n",
      "\n",
      " Top 10 positive features:-\n",
      " love     -7.937972\n",
      "great    -7.962661\n",
      "coffe    -8.037613\n",
      "good     -8.157429\n",
      "like     -8.159618\n",
      "tast     -8.194379\n",
      "flavor   -8.210641\n",
      "dog      -8.326006\n",
      "tea      -8.347894\n",
      "use      -8.377850\n",
      "Name: 1, dtype: float64\n"
     ]
    }
   ],
   "source": [
    "# To show top 10 feature from both class\n",
    "print(\"Top 10 negative features:-\\n\",feature_prob_tr[0].sort_values(ascending = False)[0:10])\n",
    "print(\"\\n\\n Top 10 positive features:-\\n\",feature_prob_tr[1].sort_values(ascending = False)[0:10])\n"
   ]
  },
  {
   "cell_type": "code",
   "execution_count": 105,
   "metadata": {},
   "outputs": [
    {
     "name": "stdout",
     "output_type": "stream",
     "text": [
      "Train accuracy 0.9514285714285714\n"
     ]
    }
   ],
   "source": [
    "# Accuracy on train data\n",
    "train_acc_tfidf = nb_optimal.score(X_train, y_train)\n",
    "print(\"Train accuracy\", train_acc_tfidf)"
   ]
  },
  {
   "cell_type": "code",
   "execution_count": 106,
   "metadata": {},
   "outputs": [
    {
     "name": "stdout",
     "output_type": "stream",
     "text": [
      "Train Error 0.048571%\n"
     ]
    }
   ],
   "source": [
    "# Error on train data\n",
    "train_err_tfidf = 1-train_acc_tfidf\n",
    "print(\"Train Error %f%%\" % (train_err_tfidf))"
   ]
  },
  {
   "cell_type": "code",
   "execution_count": 107,
   "metadata": {},
   "outputs": [
    {
     "name": "stdout",
     "output_type": "stream",
     "text": [
      "\n",
      "The accuracy of the naive bayes classifier for alpha = 1 is 71.380952%\n"
     ]
    }
   ],
   "source": [
    "# evaluate accuracy\n",
    "acc_tfidf = accuracy_score(y_test, pred) * 100\n",
    "print('\\nThe accuracy of the naive bayes classifier for alpha = %d is %f%%' % (optimal_alpha_tfidf, acc_tfidf))"
   ]
  },
  {
   "cell_type": "code",
   "execution_count": 108,
   "metadata": {},
   "outputs": [
    {
     "data": {
      "text/plain": [
       "array([[ 309,  590],\n",
       "       [  11, 1190]])"
      ]
     },
     "execution_count": 108,
     "metadata": {},
     "output_type": "execute_result"
    }
   ],
   "source": [
    "#from sklearn.matrics import confusion_matrix\n",
    "cm = confusion_matrix(y_test, pred)\n",
    "cm"
   ]
  },
  {
   "cell_type": "code",
   "execution_count": 109,
   "metadata": {},
   "outputs": [
    {
     "data": {
      "image/png": "[encoded data removed]",
      "text/plain": [
       "<Figure size 432x288 with 2 Axes>"
      ]
     },
     "metadata": {
      "needs_background": "light"
     },
     "output_type": "display_data"
    }
   ],
   "source": [
    "class_label = [\"negative\", \"positive\"]\n",
    "df_cm = pd.DataFrame(cm, index = class_label, columns = class_label)\n",
    "sns.heatmap(df_cm, annot = True, fmt = \"d\")\n",
    "plt.title(\"Confusion Matrix\")\n",
    "plt.xlabel(\"Predicted Label\")\n",
    "plt.ylabel(\"True Label\")\n",
    "plt.show()"
   ]
  },
  {
   "cell_type": "code",
   "execution_count": 110,
   "metadata": {},
   "outputs": [
    {
     "name": "stdout",
     "output_type": "stream",
     "text": [
      "             precision    recall  f1-score   support\n",
      "\n",
      "   negative       0.97      0.34      0.51       899\n",
      "   positive       0.67      0.99      0.80      1201\n",
      "\n",
      "avg / total       0.80      0.71      0.67      2100\n",
      "\n"
     ]
    }
   ],
   "source": [
    "from sklearn.metrics import classification_report\n",
    "print(classification_report(y_test, pred))"
   ]
  }
 ],
 "metadata": {
  "kernelspec": {
   "display_name": "Python 3",
   "language": "python",
   "name": "python3"
  },
  "language_info": {
   "codemirror_mode": {
    "name": "ipython",
    "version": 3
   },
   "file_extension": ".py",
   "mimetype": "text/x-python",
   "name": "python",
   "nbconvert_exporter": "python",
   "pygments_lexer": "ipython3",
   "version": "3.6.8"
  }
 },
 "nbformat": 4,
 "nbformat_minor": 2
}
