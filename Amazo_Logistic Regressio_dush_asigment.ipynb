{
 "cells": [
  {
   "cell_type": "markdown",
   "metadata": {
    "colab_type": "text",
    "id": "AM7jsfwALPlp"
   },
   "source": [
    "# Amazon Fine Food Reviews Analysis\n",
    "\n",
    "\n",
    "Data Source: https://www.kaggle.com/snap/amazon-fine-food-reviews <br>\n",
    "\n",
    "EDA: https://nycdatascience.com/blog/student-works/amazon-fine-foods-visualization/\n",
    "\n",
    "\n",
    "The Amazon Fine Food Reviews dataset consists of reviews of fine foods from Amazon.<br>\n",
    "\n",
    "Number of reviews: 568,454<br>\n",
    "Number of users: 256,059<br>\n",
    "Number of products: 74,258<br>\n",
    "Timespan: Oct 1999 - Oct 2012<br>\n",
    "Number of Attributes/Columns in data: 10 \n",
    "\n",
    "Attribute Information:\n",
    "\n",
    "1. Id\n",
    "2. ProductId - unique identifier for the product\n",
    "3. UserId - unqiue identifier for the user\n",
    "4. ProfileName\n",
    "5. HelpfulnessNumerator - number of users who found the review helpful\n",
    "6. HelpfulnessDenominator - number of users who indicated whether they found the review helpful or not\n",
    "7. Score - rating between 1 and 5\n",
    "8. Time - timestamp for the review\n",
    "9. Summary - brief summary of the review\n",
    "10. Text - text of the review\n",
    "\n",
    "\n",
    "#### Objective:\n",
    "Given a review, determine whether the review is positive (rating of 4 or 5) or negative (rating of 1 or 2).\n",
    "\n",
    "<br>\n",
    "[Q] How to determine if a review is positive or negative?<br>\n",
    "<br> \n",
    "[Ans] We could use Score/Rating. A rating of 4 or 5 can be cosnidered as a positive review. A rating of 1 or 2 can be considered as negative one. A review of rating 3 is considered nuetral and such reviews are ignored from our analysis. This is an approximate and proxy way of determining the polarity (positivity/negativity) of a review.\n",
    "\n",
    "\n"
   ]
  },
  {
   "cell_type": "markdown",
   "metadata": {
    "colab_type": "text",
    "id": "CaQ7XJ4OLPls"
   },
   "source": [
    "# [1]. Reading Data"
   ]
  },
  {
   "cell_type": "markdown",
   "metadata": {
    "colab_type": "text",
    "id": "5VnEBjKRLPlu"
   },
   "source": [
    "## [1.1] Loading the data\n",
    "\n",
    "The dataset is available in two forms\n",
    "1. .csv file\n",
    "2. SQLite Database\n",
    "\n",
    "In order to load the data, We have used the SQLITE dataset as it is easier to query the data and visualise the data efficiently.\n",
    "<br> \n",
    "\n",
    "Here as we only want to get the global sentiment of the recommendations (positive or negative), we will purposefully ignore all Scores equal to 3. If the score is above 3, then the recommendation wil be set to \"positive\". Otherwise, it will be set to \"negative\"."
   ]
  },
  {
   "cell_type": "code",
   "execution_count": 66,
   "metadata": {
    "colab": {},
    "colab_type": "code",
    "id": "x6YclOzXLPlv"
   },
   "outputs": [],
   "source": [
    "%matplotlib inline\n",
    "# imported necessary libraries\n",
    "import sqlite3\n",
    "import pandas as pd\n",
    "import numpy as np\n",
    "import nltk\n",
    "import string\n",
    "import seaborn as sns\n",
    "from sklearn.feature_extraction.text import TfidfVectorizer\n",
    "from sklearn.feature_extraction.text import CountVectorizer\n",
    "import matplotlib.pyplot as plt\n",
    "from sklearn.naive_bayes import MultinomialNB\n",
    "from sklearn.metrics import accuracy_score\n",
    "from sklearn.model_selection import train_test_split\n",
    "#from sklearn.model_selection import cross_val_score\n",
    "#from sklearn.cross_validation import cross_val_score\n",
    "#from sklearn.cross_validation import train_test_split\n",
    "from collections import Counter\n",
    "from sklearn.metrics import accuracy_score\n",
    "from sklearn import model_selection\n",
    "#from sklearn import cross_validation\n",
    "\n",
    "from sklearn.model_selection import cross_validate\n",
    "from sklearn.model_selection import train_test_split\n",
    "import os \n",
    "import re\n",
    "from sklearn import cross_validation\n",
    "from sklearn.model_selection import GridSearchCV\n",
    "from sklearn.linear_model import LogisticRegression\n",
    "from sklearn.metrics import roc_curve, auc\n",
    "from sklearn.metrics import roc_auc_score\n",
    "# using the SQLite Table to read data.\n",
    "con = sqlite3.connect('database.sqlite') \n",
    "filtered_data = pd.read_sql_query(\"\"\"\n",
    "SELECT *\n",
    "FROM Reviews\n",
    "WHERE Score != 3 limit 100000\n",
    "\"\"\", con) \n",
    "\n",
    "def partition(x):\n",
    "    if x < 3:\n",
    "        return 0\n",
    "    return 1\n",
    "\n",
    "\n",
    "actualScore = filtered_data['Score']\n",
    "positiveNegative = actualScore.map(partition) \n",
    "filtered_data['Score'] = positiveNegative"
   ]
  },
  {
   "cell_type": "code",
   "execution_count": null,
   "metadata": {},
   "outputs": [],
   "source": []
  },
  {
   "cell_type": "code",
   "execution_count": 2,
   "metadata": {
    "colab": {},
    "colab_type": "code",
    "id": "NZ4OSpSiLPl0",
    "outputId": "241c4c64-6186-4351-e38f-fcd06c6896dd"
   },
   "outputs": [],
   "source": [
    "#Sorting data according to ProductId in ascending order\n",
    "sorted_data=filtered_data.sort_values('ProductId', axis=0, ascending=True, inplace=False, kind='quicksort', na_position='last')"
   ]
  },
  {
   "cell_type": "code",
   "execution_count": 3,
   "metadata": {
    "colab": {},
    "colab_type": "code",
    "id": "r44Y4VDjLPl7"
   },
   "outputs": [
    {
     "data": {
      "text/plain": [
       "(46072, 10)"
      ]
     },
     "execution_count": 3,
     "metadata": {},
     "output_type": "execute_result"
    }
   ],
   "source": [
    "final = sorted_data.drop_duplicates(subset = {\"UserId\",\"ProfileName\",\"Time\",\"Text\"}, keep='first', inplace=False)\n",
    "final.shape"
   ]
  },
  {
   "cell_type": "code",
   "execution_count": null,
   "metadata": {},
   "outputs": [],
   "source": []
  },
  {
   "cell_type": "code",
   "execution_count": null,
   "metadata": {
    "colab": {},
    "colab_type": "code",
    "id": "tTwINQv1LPl_",
    "outputId": "0385b9ca-0a35-4c2b-b656-8e8494414e6f",
    "scrolled": true
   },
   "outputs": [],
   "source": []
  },
  {
   "cell_type": "code",
   "execution_count": null,
   "metadata": {
    "colab": {},
    "colab_type": "code",
    "id": "EOslHQgnLPmF",
    "outputId": "cb28598d-470a-42bb-e742-4763f953c8cb"
   },
   "outputs": [],
   "source": []
  },
  {
   "cell_type": "code",
   "execution_count": null,
   "metadata": {
    "colab": {},
    "colab_type": "code",
    "id": "pSwF4sdoLPmM",
    "outputId": "2f3bd7f2-0eea-45f7-eab6-bf08c630d9a3"
   },
   "outputs": [],
   "source": []
  },
  {
   "cell_type": "markdown",
   "metadata": {
    "colab_type": "text",
    "id": "PuNkhjz0LPmQ"
   },
   "source": [
    "#  [2] Exploratory Data Analysis"
   ]
  },
  {
   "cell_type": "markdown",
   "metadata": {
    "colab_type": "text",
    "id": "oCJaTWrTLPmS"
   },
   "source": [
    "## [2.1] Data Cleaning: Deduplication\n",
    "\n",
    "It is observed (as shown in the table below) that the reviews data had many duplicate entries. Hence it was necessary to remove duplicates in order to get unbiased results for the analysis of the data.  Following is an example:"
   ]
  },
  {
   "cell_type": "code",
   "execution_count": null,
   "metadata": {
    "colab": {},
    "colab_type": "code",
    "id": "3lvzRwWVLPmT",
    "outputId": "96ba6f90-6c40-4972-ecd2-d2d208e48877",
    "scrolled": false
   },
   "outputs": [],
   "source": []
  },
  {
   "cell_type": "markdown",
   "metadata": {
    "colab_type": "text",
    "id": "uT7p9_deLPmb"
   },
   "source": [
    "As it can be seen above that same user has multiple reviews with same values for HelpfulnessNumerator, HelpfulnessDenominator, Score, Time, Summary and Text and on doing analysis it was found that <br>\n",
    "<br> \n",
    "ProductId=B000HDOPZG was Loacker Quadratini Vanilla Wafer Cookies, 8.82-Ounce Packages (Pack of 8)<br>\n",
    "<br> \n",
    "ProductId=B000HDL1RQ was Loacker Quadratini Lemon Wafer Cookies, 8.82-Ounce Packages (Pack of 8) and so on<br>\n",
    "\n",
    "It was inferred after analysis that reviews with same parameters other than ProductId belonged to the same product just having different flavour or quantity. Hence in order to reduce redundancy it was decided to eliminate the rows having same parameters.<br>\n",
    "\n",
    "The method used for the same was that we first sort the data according to ProductId and then just keep the first similar product review and delelte the others. for eg. in the above just the review for ProductId=B000HDL1RQ remains. This method ensures that there is only one representative for each product and deduplication without sorting would lead to possibility of different representatives still existing for the same product."
   ]
  },
  {
   "cell_type": "code",
   "execution_count": 4,
   "metadata": {
    "colab": {},
    "colab_type": "code",
    "id": "mdsKFc50LPme"
   },
   "outputs": [],
   "source": [
    "#Sorting data according to ProductId in ascending order\n",
    "sorted_data=filtered_data.sort_values('ProductId', axis=0, ascending=True, inplace=False, kind='quicksort', na_position='last')"
   ]
  },
  {
   "cell_type": "code",
   "execution_count": 5,
   "metadata": {
    "colab": {},
    "colab_type": "code",
    "id": "2itLgX-NLPmk",
    "outputId": "ac765625-dfdc-4e4e-f886-bd3b7ca3635a"
   },
   "outputs": [
    {
     "data": {
      "text/plain": [
       "(46072, 10)"
      ]
     },
     "execution_count": 5,
     "metadata": {},
     "output_type": "execute_result"
    }
   ],
   "source": [
    "#Deduplication of entries\n",
    "final=sorted_data.drop_duplicates(subset={\"UserId\",\"ProfileName\",\"Time\",\"Text\"}, keep='first', inplace=False)\n",
    "final.shape"
   ]
  },
  {
   "cell_type": "code",
   "execution_count": 6,
   "metadata": {
    "colab": {},
    "colab_type": "code",
    "id": "IBU4iZk4LPmt",
    "outputId": "ceeba223-fe3f-407a-b4e5-0d46c08f69dd"
   },
   "outputs": [
    {
     "data": {
      "text/plain": [
       "92.144"
      ]
     },
     "execution_count": 6,
     "metadata": {},
     "output_type": "execute_result"
    }
   ],
   "source": [
    "#Checking to see how much % of data still remains\n",
    "(final['Id'].size*1.0)/(filtered_data['Id'].size*1.0)*100"
   ]
  },
  {
   "cell_type": "markdown",
   "metadata": {
    "colab_type": "text",
    "id": "gFBOfSe4LPmy"
   },
   "source": [
    "<b>Observation:-</b> It was also seen that in two rows given below the value of HelpfulnessNumerator is greater than HelpfulnessDenominator which is not practically possible hence these two rows too are removed from calcualtions"
   ]
  },
  {
   "cell_type": "code",
   "execution_count": null,
   "metadata": {
    "colab": {},
    "colab_type": "code",
    "id": "50flE40lLPmz",
    "outputId": "b6c7e38e-25c1-4a48-be1f-70fdf31aba13"
   },
   "outputs": [],
   "source": []
  },
  {
   "cell_type": "code",
   "execution_count": 7,
   "metadata": {
    "colab": {},
    "colab_type": "code",
    "id": "0YTPJMLTLPm7"
   },
   "outputs": [],
   "source": [
    "final=final[final.HelpfulnessNumerator<=final.HelpfulnessDenominator]"
   ]
  },
  {
   "cell_type": "code",
   "execution_count": 8,
   "metadata": {
    "colab": {},
    "colab_type": "code",
    "id": "LVJ_l-x2LPnC",
    "outputId": "d4a19c7a-16fe-4b5b-c3d1-aa1ef0f948a0"
   },
   "outputs": [
    {
     "name": "stdout",
     "output_type": "stream",
     "text": [
      "(46071, 10)\n"
     ]
    },
    {
     "data": {
      "text/plain": [
       "1    38479\n",
       "0     7592\n",
       "Name: Score, dtype: int64"
      ]
     },
     "execution_count": 8,
     "metadata": {},
     "output_type": "execute_result"
    }
   ],
   "source": [
    "#Before starting the next phase of preprocessing lets see the number of entries left\n",
    "print(final.shape)\n",
    "\n",
    "#How many positive and negative reviews are present in our dataset?\n",
    "final['Score'].value_counts()"
   ]
  },
  {
   "cell_type": "code",
   "execution_count": 9,
   "metadata": {},
   "outputs": [],
   "source": [
    "final_pos=final[final.Score==1]\n",
    "final_neg=final[final.Score==0]\n"
   ]
  },
  {
   "cell_type": "code",
   "execution_count": null,
   "metadata": {},
   "outputs": [],
   "source": []
  },
  {
   "cell_type": "code",
   "execution_count": null,
   "metadata": {},
   "outputs": [],
   "source": []
  },
  {
   "cell_type": "markdown",
   "metadata": {
    "colab_type": "text",
    "id": "GrTYWzYrLPnH"
   },
   "source": [
    "#  [3] Preprocessing"
   ]
  },
  {
   "cell_type": "markdown",
   "metadata": {
    "colab_type": "text",
    "id": "zbvLitZeLPnI"
   },
   "source": [
    "## [3.1].  Preprocessing Review Text\n",
    "\n",
    "Now that we have finished deduplication our data requires some preprocessing before we go on further with analysis and making the prediction model.\n",
    "\n",
    "Hence in the Preprocessing phase we do the following in the order below:-\n",
    "\n",
    "1. Begin by removing the html tags\n",
    "2. Remove any punctuations or limited set of special characters like , or . or # etc.\n",
    "3. Check if the word is made up of english letters and is not alpha-numeric\n",
    "4. Check to see if the length of the word is greater than 2 (as it was researched that there is no adjective in 2-letters)\n",
    "5. Convert the word to lowercase\n",
    "6. Remove Stopwords\n",
    "7. Finally Snowball Stemming the word (it was obsereved to be better than Porter Stemming)<br>\n",
    "\n",
    "After which we collect the words used to describe positive and negative reviews"
   ]
  },
  {
   "cell_type": "code",
   "execution_count": 10,
   "metadata": {},
   "outputs": [
    {
     "name": "stdout",
     "output_type": "stream",
     "text": [
      "{'some', 'did', 'above', 'during', 'more', 'by', \"mustn't\", 'couldn', 'of', 'but', 'each', 'if', 'out', 'me', 'who', 'you', 'than', 'y', 'there', 'does', 'was', \"shouldn't\", 'any', 'about', 'yourselves', 'these', 'or', 'into', 'ain', 'because', 'am', 'wouldn', 'our', 'has', 'only', 'a', 'both', 'doesn', 'needn', 'himself', 'and', 'through', \"won't\", 't', 'doing', 'under', \"wasn't\", 'that', 'weren', 'wasn', 'against', 'him', 'o', 'before', 'be', 'ourselves', 'themselves', 'which', 'such', 'for', 'they', 'very', 'being', 'were', 'my', 'off', 'is', 'shouldn', 'myself', 'their', 'have', 'too', 'with', 'her', 'further', \"needn't\", 'having', \"it's\", 'until', 'the', 'i', 'should', \"isn't\", 'yourself', \"you're\", 'here', 'd', \"that'll\", 'while', \"didn't\", 'she', 'itself', \"should've\", 'm', 'them', 'can', 'where', 'don', 'his', \"wouldn't\", 'after', 'your', 'mustn', 'we', 'again', 'hadn', 'other', 'most', 'isn', 'this', 'its', 'to', 'aren', \"weren't\", 'just', 'same', \"you've\", 've', 'between', 'll', \"doesn't\", 'then', 'few', 'what', 'are', 's', 'when', 'down', \"hasn't\", \"shan't\", 'from', 'once', \"aren't\", 'below', 'how', 'had', \"don't\", 'haven', 'over', 'hers', 'up', 'nor', 'ma', 'won', 'hasn', 'yours', \"mightn't\", 'in', 'an', 'mightn', \"you'll\", 'didn', 'own', 'on', 'not', 'now', \"couldn't\", \"you'd\", \"haven't\", 'whom', 'shan', 'no', \"she's\", 'at', 're', 'been', 'as', 'why', 'do', 'will', 'theirs', 'he', 'it', 'those', 'all', 'so', 'ours', \"hadn't\", 'herself'}\n",
      "************************************\n",
      "tasti\n"
     ]
    }
   ],
   "source": [
    "import re\n",
    "# Tutorial about Python regular expressions: https://pymotw.com/2/re/\n",
    "import string\n",
    "from nltk.corpus import stopwords\n",
    "from nltk.stem import PorterStemmer\n",
    "from nltk.stem.wordnet import WordNetLemmatizer\n",
    "\n",
    "stop = set(stopwords.words('english')) #set of stopwords\n",
    "sno = nltk.stem.SnowballStemmer('english') #initialising the snowball stemmer\n",
    "\n",
    "def cleanhtml(sentence): #function to clean the word of any html-tags\n",
    "    cleanr = re.compile('<.*?>')\n",
    "    cleantext = re.sub(cleanr, ' ', sentence)\n",
    "    return cleantext\n",
    "def cleanpunc(sentence): #function to clean the word of any punctuation or special characters\n",
    "    cleaned = re.sub(r'[?|!|\\'|\"|#]',r'',sentence)\n",
    "    cleaned = re.sub(r'[.|,|)|(|\\|/]',r' ',cleaned)\n",
    "    return  cleaned\n",
    "print(stop)\n",
    "print('************************************')\n",
    "print(sno.stem('tasty'))"
   ]
  },
  {
   "cell_type": "code",
   "execution_count": 11,
   "metadata": {},
   "outputs": [],
   "source": [
    "#Code for implementing step-by-step the checks mentioned in the pre-processing phase\n",
    "# this code takes a while to run as it needs to run on 500k sentences.\n",
    "i=0\n",
    "str1=' '\n",
    "final_string=[]\n",
    "all_positive_words=[] # store words from +ve reviews here\n",
    "all_negative_words=[] # store words from -ve reviews here.\n",
    "s=''\n",
    "for sent in final['Text'].values:\n",
    "    filtered_sentence=[]\n",
    "    #print(sent);\n",
    "    sent=cleanhtml(sent) # remove HTMl tags\n",
    "    for w in sent.split():\n",
    "        for cleaned_words in cleanpunc(w).split():\n",
    "            if((cleaned_words.isalpha()) & (len(cleaned_words)>2)):    \n",
    "                if(cleaned_words.lower() not in stop):\n",
    "                    s=(sno.stem(cleaned_words.lower())).encode('utf8')\n",
    "                    filtered_sentence.append(s)\n",
    "                    if (final['Score'].values)[i] == 1: \n",
    "                        all_positive_words.append(s) #list of all words used to describe positive reviews\n",
    "                    if(final['Score'].values)[i] ==0:\n",
    "                        all_negative_words.append(s) #list of all words used to describe negative reviews reviews\n",
    "                else:\n",
    "                    continue\n",
    "            else:\n",
    "                continue \n",
    "    #print(filtered_sentence)\n",
    "    str1 = b\" \".join(filtered_sentence) #final string of cleaned words\n",
    "    #print(\"***********************************************************************\")\n",
    "    \n",
    "    final_string.append(str1)\n",
    "    i+=1"
   ]
  },
  {
   "cell_type": "code",
   "execution_count": 12,
   "metadata": {
    "colab": {},
    "colab_type": "code",
    "id": "yYDc0ZXALPnK",
    "outputId": "5403fab9-796a-493d-f9d3-2a410d004f64"
   },
   "outputs": [
    {
     "name": "stdout",
     "output_type": "stream",
     "text": [
      "My dogs loves this chicken but its a product from China, so we wont be buying it anymore.  Its very hard to find any chicken products made in the USA but they are out there, but this one isnt.  Its too bad too because its a good product but I wont take any chances till they know what is going on with the china imports.\n",
      "==================================================\n",
      "this is yummy, easy and unusual. it makes a quick, delicous pie, crisp or cobbler. home made is better, but a heck of a lot more work. this is great to have on hand for last minute dessert needs where you really want to impress wih your creativity in cooking! recommended.\n",
      "==================================================\n",
      "Great flavor, low in calories, high in nutrients, high in protein! Usually protein powders are high priced and high in calories, this one is a great bargain and tastes great, I highly recommend for the lady gym rats, probably not \"macho\" enough for guys since it is soy based...\n",
      "==================================================\n",
      "For those of you wanting a high-quality, yet affordable green tea, you should definitely give this one a try. Let me first start by saying that everyone is looking for something different for their ideal tea, and I will attempt to briefly highlight what makes this tea attractive to a wide range of tea drinkers (whether you are a beginner or long-time tea enthusiast).  I have gone through over 12 boxes of this tea myself, and highly recommend it for the following reasons:<br /><br />-Quality:  First, this tea offers a smooth quality without any harsh or bitter after tones, which often turns people off from many green teas.  I've found my ideal brewing time to be between 3-5 minutes, giving you a light but flavorful cup of tea.  However, if you get distracted or forget about your tea and leave it brewing for 20+ minutes like I sometimes do, the quality of this tea is such that you still get a smooth but deeper flavor without the bad after taste.  The leaves themselves are whole leaves (not powdered stems, branches, etc commonly found in other brands), and the high-quality nylon bags also include chunks of tropical fruit and other discernible ingredients.  This isn't your standard cheap paper bag with a mix of unknown ingredients that have been ground down to a fine powder, leaving you to wonder what it is you are actually drinking.<br /><br />-Taste:  This tea offers notes of real pineapple and other hints of tropical fruits, yet isn't sweet or artificially flavored.  You have the foundation of a high-quality young hyson green tea for those true \"tea flavor\" lovers, yet the subtle hints of fruit make this a truly unique tea that I believe most will enjoy.  If you want it sweet, you can add sugar, splenda, etc but this really is not necessary as this tea offers an inherent warmth of flavor through it's ingredients.<br /><br />-Price:  This tea offers an excellent product at an exceptional price (especially when purchased at the prices Amazon offers).  Compared to other brands which I believe to be of similar quality (Mighty Leaf, Rishi, Two Leaves, etc.), Revolution offers a superior product at an outstanding price.  I have been purchasing this through Amazon for less per box than I would be paying at my local grocery store for Lipton, etc.<br /><br />Overall, this is a wonderful tea that is comparable, and even better than, other teas that are priced much higher.  It offers a well-balanced cup of green tea that I believe many will enjoy.  In terms of taste, quality, and price, I would argue you won't find a better combination that that offered by Revolution's Tropical Green Tea.\n",
      "==================================================\n"
     ]
    }
   ],
   "source": [
    "# printing some random reviews\n",
    "sent_0 = final['Text'].values[0]\n",
    "print(sent_0)\n",
    "print(\"=\"*50)\n",
    "\n",
    "sent_1000 = final['Text'].values[1000]\n",
    "print(sent_1000)\n",
    "print(\"=\"*50)\n",
    "\n",
    "sent_1500 = final['Text'].values[1500]\n",
    "print(sent_1500)\n",
    "print(\"=\"*50)\n",
    "\n",
    "sent_4900 = final['Text'].values[4900]\n",
    "print(sent_4900)\n",
    "print(\"=\"*50)"
   ]
  },
  {
   "cell_type": "code",
   "execution_count": 13,
   "metadata": {
    "colab": {},
    "colab_type": "code",
    "id": "AxYh-wPiLPnS",
    "outputId": "31bddcb2-6c52-4b16-f9fb-c03d5b3bb7c8"
   },
   "outputs": [
    {
     "name": "stdout",
     "output_type": "stream",
     "text": [
      "My dogs loves this chicken but its a product from China, so we wont be buying it anymore.  Its very hard to find any chicken products made in the USA but they are out there, but this one isnt.  Its too bad too because its a good product but I wont take any chances till they know what is going on with the china imports.\n"
     ]
    }
   ],
   "source": [
    "# remove urls from text python: https://stackoverflow.com/a/40823105/4084039\n",
    "sent_0 = re.sub(r\"http\\S+\", \"\", sent_0)\n",
    "sent_1000 = re.sub(r\"http\\S+\", \"\", sent_1000)\n",
    "sent_150 = re.sub(r\"http\\S+\", \"\", sent_1500)\n",
    "sent_4900 = re.sub(r\"http\\S+\", \"\", sent_4900)\n",
    "\n",
    "print(sent_0)"
   ]
  },
  {
   "cell_type": "code",
   "execution_count": 14,
   "metadata": {
    "colab": {},
    "colab_type": "code",
    "id": "JMSSWjZqLPne",
    "outputId": "eb1bae4e-6f37-45ee-84a3-ef3bebf4e30a"
   },
   "outputs": [
    {
     "name": "stdout",
     "output_type": "stream",
     "text": [
      "My dogs loves this chicken but its a product from China, so we wont be buying it anymore.  Its very hard to find any chicken products made in the USA but they are out there, but this one isnt.  Its too bad too because its a good product but I wont take any chances till they know what is going on with the china imports.\n",
      "==================================================\n",
      "this is yummy, easy and unusual. it makes a quick, delicous pie, crisp or cobbler. home made is better, but a heck of a lot more work. this is great to have on hand for last minute dessert needs where you really want to impress wih your creativity in cooking! recommended.\n",
      "==================================================\n",
      "Great flavor, low in calories, high in nutrients, high in protein! Usually protein powders are high priced and high in calories, this one is a great bargain and tastes great, I highly recommend for the lady gym rats, probably not \"macho\" enough for guys since it is soy based...\n",
      "==================================================\n",
      "For those of you wanting a high-quality, yet affordable green tea, you should definitely give this one a try. Let me first start by saying that everyone is looking for something different for their ideal tea, and I will attempt to briefly highlight what makes this tea attractive to a wide range of tea drinkers (whether you are a beginner or long-time tea enthusiast).  I have gone through over 12 boxes of this tea myself, and highly recommend it for the following reasons:-Quality:  First, this tea offers a smooth quality without any harsh or bitter after tones, which often turns people off from many green teas.  I've found my ideal brewing time to be between 3-5 minutes, giving you a light but flavorful cup of tea.  However, if you get distracted or forget about your tea and leave it brewing for 20+ minutes like I sometimes do, the quality of this tea is such that you still get a smooth but deeper flavor without the bad after taste.  The leaves themselves are whole leaves (not powdered stems, branches, etc commonly found in other brands), and the high-quality nylon bags also include chunks of tropical fruit and other discernible ingredients.  This isn't your standard cheap paper bag with a mix of unknown ingredients that have been ground down to a fine powder, leaving you to wonder what it is you are actually drinking.-Taste:  This tea offers notes of real pineapple and other hints of tropical fruits, yet isn't sweet or artificially flavored.  You have the foundation of a high-quality young hyson green tea for those true \"tea flavor\" lovers, yet the subtle hints of fruit make this a truly unique tea that I believe most will enjoy.  If you want it sweet, you can add sugar, splenda, etc but this really is not necessary as this tea offers an inherent warmth of flavor through it's ingredients.-Price:  This tea offers an excellent product at an exceptional price (especially when purchased at the prices Amazon offers).  Compared to other brands which I believe to be of similar quality (Mighty Leaf, Rishi, Two Leaves, etc.), Revolution offers a superior product at an outstanding price.  I have been purchasing this through Amazon for less per box than I would be paying at my local grocery store for Lipton, etc.Overall, this is a wonderful tea that is comparable, and even better than, other teas that are priced much higher.  It offers a well-balanced cup of green tea that I believe many will enjoy.  In terms of taste, quality, and price, I would argue you won't find a better combination that that offered by Revolution's Tropical Green Tea.\n"
     ]
    }
   ],
   "source": [
    "# https://stackoverflow.com/questions/16206380/python-beautifulsoup-how-to-remove-all-tags-from-an-element\n",
    "from bs4 import BeautifulSoup\n",
    "\n",
    "soup = BeautifulSoup(sent_0, 'lxml')\n",
    "text = soup.get_text()\n",
    "print(text)\n",
    "print(\"=\"*50)\n",
    "\n",
    "soup = BeautifulSoup(sent_1000, 'lxml')\n",
    "text = soup.get_text()\n",
    "print(text)\n",
    "print(\"=\"*50)\n",
    "\n",
    "soup = BeautifulSoup(sent_1500, 'lxml')\n",
    "text = soup.get_text()\n",
    "print(text)\n",
    "print(\"=\"*50)\n",
    "\n",
    "soup = BeautifulSoup(sent_4900, 'lxml')\n",
    "text = soup.get_text()\n",
    "print(text)"
   ]
  },
  {
   "cell_type": "code",
   "execution_count": 15,
   "metadata": {
    "colab": {},
    "colab_type": "code",
    "id": "BEtpMkhULPnt"
   },
   "outputs": [],
   "source": [
    "# https://stackoverflow.com/a/47091490/4084039\n",
    "import re\n",
    "\n",
    "def decontracted(phrase):\n",
    "    # specific\n",
    "    phrase = re.sub(r\"won't\", \"will not\", phrase)\n",
    "    phrase = re.sub(r\"can\\'t\", \"can not\", phrase)\n",
    "\n",
    "    # general\n",
    "    phrase = re.sub(r\"n\\'t\", \" not\", phrase)\n",
    "    phrase = re.sub(r\"\\'re\", \" are\", phrase)\n",
    "    phrase = re.sub(r\"\\'s\", \" is\", phrase)\n",
    "    phrase = re.sub(r\"\\'d\", \" would\", phrase)\n",
    "    phrase = re.sub(r\"\\'ll\", \" will\", phrase)\n",
    "    phrase = re.sub(r\"\\'t\", \" not\", phrase)\n",
    "    phrase = re.sub(r\"\\'ve\", \" have\", phrase)\n",
    "    phrase = re.sub(r\"\\'m\", \" am\", phrase)\n",
    "    return phrase"
   ]
  },
  {
   "cell_type": "code",
   "execution_count": 16,
   "metadata": {
    "colab": {},
    "colab_type": "code",
    "id": "GavAnzNjLPnx",
    "outputId": "517fca9a-b1b6-4c6c-ab33-4c5ac4a5bd62"
   },
   "outputs": [
    {
     "name": "stdout",
     "output_type": "stream",
     "text": [
      "Great flavor, low in calories, high in nutrients, high in protein! Usually protein powders are high priced and high in calories, this one is a great bargain and tastes great, I highly recommend for the lady gym rats, probably not \"macho\" enough for guys since it is soy based...\n",
      "==================================================\n"
     ]
    }
   ],
   "source": [
    "sent_1500 = decontracted(sent_1500)\n",
    "print(sent_1500)\n",
    "print(\"=\"*50)"
   ]
  },
  {
   "cell_type": "code",
   "execution_count": 17,
   "metadata": {
    "colab": {},
    "colab_type": "code",
    "id": "Kl8nOoL-LPn3",
    "outputId": "16742d57-2529-4fc0-9d28-e9332dbbca97"
   },
   "outputs": [
    {
     "name": "stdout",
     "output_type": "stream",
     "text": [
      "My dogs loves this chicken but its a product from China, so we wont be buying it anymore.  Its very hard to find any chicken products made in the USA but they are out there, but this one isnt.  Its too bad too because its a good product but I wont take any chances till they know what is going on with the china imports.\n"
     ]
    }
   ],
   "source": [
    "#remove words with numbers python: https://stackoverflow.com/a/18082370/4084039\n",
    "sent_0 = re.sub(\"\\S*\\d\\S*\", \"\", sent_0).strip()\n",
    "print(sent_0)"
   ]
  },
  {
   "cell_type": "code",
   "execution_count": 18,
   "metadata": {
    "colab": {},
    "colab_type": "code",
    "id": "EGB6X2uxLPn7",
    "outputId": "dbd754e5-eb73-4b3a-f3c3-7b1b40952851"
   },
   "outputs": [
    {
     "name": "stdout",
     "output_type": "stream",
     "text": [
      "Great flavor low in calories high in nutrients high in protein Usually protein powders are high priced and high in calories this one is a great bargain and tastes great I highly recommend for the lady gym rats probably not macho enough for guys since it is soy based \n"
     ]
    }
   ],
   "source": [
    "#remove spacial character: https://stackoverflow.com/a/5843547/4084039\n",
    "sent_1500 = re.sub('[^A-Za-z0-9]+', ' ', sent_1500)\n",
    "print(sent_1500)"
   ]
  },
  {
   "cell_type": "code",
   "execution_count": 19,
   "metadata": {
    "colab": {},
    "colab_type": "code",
    "id": "CCurSJJ2LPn_"
   },
   "outputs": [],
   "source": [
    "# https://gist.github.com/sebleier/554280\n",
    "# we are removing the words from the stop words list: 'no', 'nor', 'not'\n",
    "# <br /><br /> ==> after the above steps, we are getting \"br br\"\n",
    "# we are including them into stop words list\n",
    "# instead of <br /> if we have <br/> these tags would have revmoved in the 1st step\n",
    "\n",
    "stopwords= set(['br', 'the', 'i', 'me', 'my', 'myself', 'we', 'our', 'ours', 'ourselves', 'you', \"you're\", \"you've\",\\\n",
    "            \"you'll\", \"you'd\", 'your', 'yours', 'yourself', 'yourselves', 'he', 'him', 'his', 'himself', \\\n",
    "            'she', \"she's\", 'her', 'hers', 'herself', 'it', \"it's\", 'its', 'itself', 'they', 'them', 'their',\\\n",
    "            'theirs', 'themselves', 'what', 'which', 'who', 'whom', 'this', 'that', \"that'll\", 'these', 'those', \\\n",
    "            'am', 'is', 'are', 'was', 'were', 'be', 'been', 'being', 'have', 'has', 'had', 'having', 'do', 'does', \\\n",
    "            'did', 'doing', 'a', 'an', 'the', 'and', 'but', 'if', 'or', 'because', 'as', 'until', 'while', 'of', \\\n",
    "            'at', 'by', 'for', 'with', 'about', 'against', 'between', 'into', 'through', 'during', 'before', 'after',\\\n",
    "            'above', 'below', 'to', 'from', 'up', 'down', 'in', 'out', 'on', 'off', 'over', 'under', 'again', 'further',\\\n",
    "            'then', 'once', 'here', 'there', 'when', 'where', 'why', 'how', 'all', 'any', 'both', 'each', 'few', 'more',\\\n",
    "            'most', 'other', 'some', 'such', 'only', 'own', 'same', 'so', 'than', 'too', 'very', \\\n",
    "            's', 't', 'can', 'will', 'just', 'don', \"don't\", 'should', \"should've\", 'now', 'd', 'll', 'm', 'o', 're', \\\n",
    "            've', 'y', 'ain', 'aren', \"aren't\", 'couldn', \"couldn't\", 'didn', \"didn't\", 'doesn', \"doesn't\", 'hadn',\\\n",
    "            \"hadn't\", 'hasn', \"hasn't\", 'haven', \"haven't\", 'isn', \"isn't\", 'ma', 'mightn', \"mightn't\", 'mustn',\\\n",
    "            \"mustn't\", 'needn', \"needn't\", 'shan', \"shan't\", 'shouldn', \"shouldn't\", 'wasn', \"wasn't\", 'weren', \"weren't\", \\\n",
    "            'won', \"won't\", 'wouldn', \"wouldn't\"])"
   ]
  },
  {
   "cell_type": "code",
   "execution_count": 20,
   "metadata": {
    "colab": {},
    "colab_type": "code",
    "id": "mFHQEvfnLPoF",
    "outputId": "5cd6bcc3-54fe-4a8e-a39d-d6dabf3f37f9"
   },
   "outputs": [
    {
     "name": "stderr",
     "output_type": "stream",
     "text": [
      "100%|██████████| 46071/46071 [00:12<00:00, 3623.29it/s]\n"
     ]
    }
   ],
   "source": [
    "# Combining all the above stundents \n",
    "from tqdm import tqdm\n",
    "preprocessed_reviews = []\n",
    "# tqdm is for printing the status bar\n",
    "for sentance in tqdm(final['Text'].values):\n",
    "    sentance = re.sub(r\"http\\S+\", \"\", sentance)\n",
    "    sentance = BeautifulSoup(sentance, 'lxml').get_text()\n",
    "    sentance = decontracted(sentance)\n",
    "    sentance = re.sub(\"\\S*\\d\\S*\", \"\", sentance).strip()\n",
    "    sentance = re.sub('[^A-Za-z]+', ' ', sentance)\n",
    "    # https://gist.github.com/sebleier/554280\n",
    "    sentance = ' '.join(e.lower() for e in sentance.split() if e.lower() not in stopwords)\n",
    "    preprocessed_reviews.append(sentance.strip())"
   ]
  },
  {
   "cell_type": "code",
   "execution_count": null,
   "metadata": {
    "colab": {},
    "colab_type": "code",
    "id": "Tqx8QUeRLPoH",
    "outputId": "0182081c-6282-4113-b186-5b5bac596388"
   },
   "outputs": [],
   "source": []
  },
  {
   "cell_type": "code",
   "execution_count": null,
   "metadata": {},
   "outputs": [],
   "source": []
  },
  {
   "cell_type": "code",
   "execution_count": null,
   "metadata": {},
   "outputs": [],
   "source": []
  },
  {
   "cell_type": "code",
   "execution_count": null,
   "metadata": {},
   "outputs": [],
   "source": []
  },
  {
   "cell_type": "markdown",
   "metadata": {
    "colab_type": "text",
    "id": "9IuKp2HULPoL"
   },
   "source": [
    "<h2><font color='red'>[3.2] Preprocessing Review Summary</font></h2>"
   ]
  },
  {
   "cell_type": "code",
   "execution_count": 0,
   "metadata": {
    "colab": {},
    "colab_type": "code",
    "id": "Qk7gYOmKLPoM"
   },
   "outputs": [],
   "source": [
    "## Similartly you can do preprocessing for review summary also."
   ]
  },
  {
   "cell_type": "markdown",
   "metadata": {
    "colab_type": "text",
    "id": "B93jqKuhLPoQ"
   },
   "source": [
    "# [4] Featurization"
   ]
  },
  {
   "cell_type": "markdown",
   "metadata": {
    "colab_type": "text",
    "id": "Mr4j2QhgLPoQ"
   },
   "source": [
    "## [4.1] BAG OF WORDS"
   ]
  },
  {
   "cell_type": "code",
   "execution_count": 21,
   "metadata": {
    "colab": {},
    "colab_type": "code",
    "id": "dZVHt3mtLPoR",
    "outputId": "ea1629cd-7c92-400e-9acd-f7caeef0f389"
   },
   "outputs": [
    {
     "name": "stdout",
     "output_type": "stream",
     "text": [
      "some feature names  ['aa', 'aaa', 'aaaa', 'aaaaa', 'aaaaaaaaaaaa', 'aaaaaaaaaaaaaaa', 'aaaaaaahhhhhh', 'aaaaaawwwwwwwwww', 'aaaaah', 'aaaand']\n",
      "==================================================\n",
      "the type of count vectorizer  <class 'scipy.sparse.csr.csr_matrix'>\n",
      "the shape of out text BOW vectorizer  (46071, 39364)\n",
      "the number of unique words  39364\n"
     ]
    }
   ],
   "source": [
    "#BoW\n",
    "count_vect_bow = CountVectorizer() #in scikit-learn\n",
    "count_vect_bow.fit_transform(preprocessed_reviews)\n",
    "print(\"some feature names \", count_vect_bow.get_feature_names()[:10])\n",
    "print('='*50)\n",
    "\n",
    "final_counts = count_vect_bow.transform(preprocessed_reviews)\n",
    "print(\"the type of count vectorizer \",type(final_counts))\n",
    "print(\"the shape of out text BOW vectorizer \",final_counts.get_shape())\n",
    "print(\"the number of unique words \", final_counts.get_shape()[1])"
   ]
  },
  {
   "cell_type": "code",
   "execution_count": null,
   "metadata": {},
   "outputs": [],
   "source": []
  },
  {
   "cell_type": "code",
   "execution_count": null,
   "metadata": {},
   "outputs": [],
   "source": []
  },
  {
   "cell_type": "code",
   "execution_count": null,
   "metadata": {},
   "outputs": [],
   "source": []
  },
  {
   "cell_type": "code",
   "execution_count": null,
   "metadata": {},
   "outputs": [],
   "source": []
  },
  {
   "cell_type": "code",
   "execution_count": null,
   "metadata": {},
   "outputs": [],
   "source": []
  },
  {
   "cell_type": "code",
   "execution_count": null,
   "metadata": {},
   "outputs": [],
   "source": []
  },
  {
   "cell_type": "markdown",
   "metadata": {
    "colab_type": "text",
    "id": "tSf5kRdLLPoV"
   },
   "source": [
    "## [4.2] Bi-Grams and n-Grams."
   ]
  },
  {
   "cell_type": "code",
   "execution_count": 272,
   "metadata": {
    "colab": {},
    "colab_type": "code",
    "id": "Yfk2d7bLLPoW",
    "outputId": "33472132-5eb3-493f-b08c-081749f99239"
   },
   "outputs": [
    {
     "name": "stdout",
     "output_type": "stream",
     "text": [
      "the type of count vectorizer  <class 'scipy.sparse.csr.csr_matrix'>\n",
      "the shape of out text BOW vectorizer  (46071, 5000)\n",
      "the number of unique words including both unigrams and bigrams  5000\n"
     ]
    }
   ],
   "source": [
    "#bi-gram, tri-gram and n-gram\n",
    "\n",
    "#removing stop words like \"not\" should be avoided before building n-grams\n",
    "# count_vect = CountVectorizer(ngram_range=(1,2))\n",
    "# please do read the CountVectorizer documentation http://scikit-learn.org/stable/modules/generated/sklearn.feature_extraction.text.CountVectorizer.html\n",
    "\n",
    "# you can choose these numebrs min_df=10, max_features=5000, of your choice\n",
    "count_vect = CountVectorizer(ngram_range=(1,2), min_df=10, max_features=5000)\n",
    "final_bigram_counts = count_vect.fit_transform(preprocessed_reviews)\n",
    "print(\"the type of count vectorizer \",type(final_bigram_counts))\n",
    "print(\"the shape of out text BOW vectorizer \",final_bigram_counts.get_shape())\n",
    "print(\"the number of unique words including both unigrams and bigrams \", final_bigram_counts.get_shape()[1])"
   ]
  },
  {
   "cell_type": "markdown",
   "metadata": {
    "colab_type": "text",
    "id": "-cEEpDx0LPoZ"
   },
   "source": [
    "## [4.3] TF-IDF"
   ]
  },
  {
   "cell_type": "code",
   "execution_count": 273,
   "metadata": {
    "colab": {},
    "colab_type": "code",
    "id": "TgP61HqBLPoa",
    "outputId": "15f1c123-d93b-414d-914b-d4e3f32a6ac1"
   },
   "outputs": [
    {
     "name": "stdout",
     "output_type": "stream",
     "text": [
      "some sample features(unique words in the corpus) ['ability', 'able', 'able buy', 'able chew', 'able drink', 'able eat', 'able enjoy', 'able feed', 'able figure', 'able find']\n",
      "==================================================\n",
      "the type of count vectorizer  <class 'scipy.sparse.csr.csr_matrix'>\n",
      "the shape of out text TFIDF vectorizer  (46071, 27311)\n",
      "the number of unique words including both unigrams and bigrams  27311\n"
     ]
    }
   ],
   "source": [
    "tf_idf_vect = TfidfVectorizer(ngram_range=(1,2), min_df=10)\n",
    "tf_idf_vect.fit_transform(preprocessed_reviews)\n",
    "print(\"some sample features(unique words in the corpus)\",tf_idf_vect.get_feature_names()[0:10])\n",
    "print('='*50)\n",
    "\n",
    "final_tf_idf = tf_idf_vect.fit_transform(preprocessed_reviews)\n",
    "print(\"the type of count vectorizer \",type(final_tf_idf))\n",
    "print(\"the shape of out text TFIDF vectorizer \",final_tf_idf.get_shape())\n",
    "print(\"the number of unique words including both unigrams and bigrams \", final_tf_idf.get_shape()[1])"
   ]
  },
  {
   "cell_type": "markdown",
   "metadata": {
    "colab_type": "text",
    "id": "m3YEHTLPLPod"
   },
   "source": [
    "## [4.4] Word2Vec"
   ]
  },
  {
   "cell_type": "code",
   "execution_count": 274,
   "metadata": {
    "colab": {},
    "colab_type": "code",
    "id": "zwPZCf8cLPoe"
   },
   "outputs": [],
   "source": [
    "# Train your own Word2Vec model using your own text corpus\n",
    "i=0\n",
    "list_of_sentance=[]\n",
    "for sentance in preprocessed_reviews:\n",
    "    list_of_sentance.append(sentance.split())"
   ]
  },
  {
   "cell_type": "code",
   "execution_count": 275,
   "metadata": {
    "colab": {},
    "colab_type": "code",
    "id": "8ddGZNUfLPog",
    "outputId": "390d4ccb-cda2-4391-83e9-0e502b578171",
    "scrolled": true
   },
   "outputs": [
    {
     "name": "stdout",
     "output_type": "stream",
     "text": [
      "[('awesome', 0.8319552540779114), ('good', 0.8232302069664001), ('fantastic', 0.811173677444458), ('amazing', 0.7745252847671509), ('terrific', 0.7641183137893677), ('excellent', 0.7634623050689697), ('wonderful', 0.7405096292495728), ('perfect', 0.7227694988250732), ('decent', 0.6900899410247803), ('nice', 0.684459924697876)]\n",
      "==================================================\n",
      "[('greatest', 0.7698423266410828), ('best', 0.7417318820953369), ('closest', 0.6529676914215088), ('tastiest', 0.6525135040283203), ('experienced', 0.6512424945831299), ('awful', 0.632200300693512), ('ive', 0.6319876313209534), ('nastiest', 0.6252776384353638), ('horrible', 0.6187906861305237), ('terrible', 0.5939475297927856)]\n"
     ]
    }
   ],
   "source": [
    "from gensim.models import Word2Vec\n",
    "from gensim.models import KeyedVectors\n",
    "# Using Google News Word2Vectors\n",
    "\n",
    "# in this project we are using a pretrained model by google\n",
    "# its 3.3G file, once you load this into your memory \n",
    "# it occupies ~9Gb, so please do this step only if you have >12G of ram\n",
    "# we will provide a pickle file wich contains a dict , \n",
    "# and it contains all our courpus words as keys and  model[word] as values\n",
    "# To use this code-snippet, download \"GoogleNews-vectors-negative300.bin\" \n",
    "# from https://drive.google.com/file/d/0B7XkCwpI5KDYNlNUTTlSS21pQmM/edit\n",
    "# it's 1.9GB in size.\n",
    "\n",
    "\n",
    "# http://kavita-ganesan.com/gensim-word2vec-tutorial-starter-code/#.W17SRFAzZPY\n",
    "# you can comment this whole cell\n",
    "# or change these varible according to your need\n",
    "\n",
    "is_your_ram_gt_16g=False\n",
    "want_to_use_google_w2v = False\n",
    "want_to_train_w2v = True\n",
    "\n",
    "if want_to_train_w2v:\n",
    "    # min_count = 5 considers only words that occured atleast 5 times\n",
    "    w2v_model=Word2Vec(list_of_sentance,min_count=5,size=50, workers=4)\n",
    "    print(w2v_model.wv.most_similar('great'))\n",
    "    print('='*50)\n",
    "    print(w2v_model.wv.most_similar('worst'))\n",
    "    \n",
    "elif want_to_use_google_w2v and is_your_ram_gt_16g:\n",
    "    if os.path.isfile('GoogleNews-vectors-negative300.bin'):\n",
    "        w2v_model=KeyedVectors.load_word2vec_format('GoogleNews-vectors-negative300.bin', binary=True)\n",
    "        print(w2v_model.wv.most_similar('great'))\n",
    "        print(w2v_model.wv.most_similar('worst'))\n",
    "    else:\n",
    "        print(\"you don't have gogole's word2vec file, keep want_to_train_w2v = True, to train your own w2v \")"
   ]
  },
  {
   "cell_type": "code",
   "execution_count": 276,
   "metadata": {
    "colab": {},
    "colab_type": "code",
    "id": "bRWXmmnWLPoo",
    "outputId": "1cc345e7-d991-49b8-f1b7-a0d81f0b97e6"
   },
   "outputs": [
    {
     "name": "stdout",
     "output_type": "stream",
     "text": [
      "number of words that occured minimum 5 times  12798\n",
      "sample words  ['dogs', 'loves', 'chicken', 'product', 'china', 'wont', 'buying', 'anymore', 'hard', 'find', 'products', 'made', 'usa', 'one', 'isnt', 'bad', 'good', 'take', 'chances', 'till', 'know', 'going', 'imports', 'love', 'saw', 'pet', 'store', 'tag', 'attached', 'regarding', 'satisfied', 'safe', 'available', 'victor', 'traps', 'unreal', 'course', 'total', 'fly', 'pretty', 'stinky', 'right', 'nearby', 'used', 'bait', 'seasons', 'ca', 'not', 'beat', 'great']\n"
     ]
    }
   ],
   "source": [
    "w2v_words = list(w2v_model.wv.vocab)\n",
    "print(\"number of words that occured minimum 5 times \",len(w2v_words))\n",
    "print(\"sample words \", w2v_words[0:50])"
   ]
  },
  {
   "cell_type": "markdown",
   "metadata": {
    "colab_type": "text",
    "id": "TtWqibqfLPos"
   },
   "source": [
    "## [4.4.1] Converting text into vectors using Avg W2V, TFIDF-W2V"
   ]
  },
  {
   "cell_type": "markdown",
   "metadata": {
    "colab_type": "text",
    "id": "JriP5nZCLPot"
   },
   "source": [
    "#### [4.4.1.1] Avg W2v"
   ]
  },
  {
   "cell_type": "code",
   "execution_count": 277,
   "metadata": {
    "colab": {},
    "colab_type": "code",
    "id": "UnXI9NHTLPot",
    "outputId": "ecbe8256-9718-4bad-de33-e5ce1ee69038"
   },
   "outputs": [
    {
     "name": "stderr",
     "output_type": "stream",
     "text": [
      "100%|██████████| 46071/46071 [01:14<00:00, 620.77it/s]"
     ]
    },
    {
     "name": "stdout",
     "output_type": "stream",
     "text": [
      "46071\n",
      "50\n"
     ]
    },
    {
     "name": "stderr",
     "output_type": "stream",
     "text": [
      "\n"
     ]
    }
   ],
   "source": [
    "# average Word2Vec\n",
    "# compute average word2vec for each review.\n",
    "sent_vectors = []; # the avg-w2v for each sentence/review is stored in this list\n",
    "for sent in tqdm(list_of_sentance): # for each review/sentence\n",
    "    sent_vec = np.zeros(50) # as word vectors are of zero length 50, you might need to change this to 300 if you use google's w2v\n",
    "    cnt_words =0; # num of words with a valid vector in the sentence/review\n",
    "    for word in sent: # for each word in a review/sentence\n",
    "        if word in w2v_words:\n",
    "            vec = w2v_model.wv[word]\n",
    "            sent_vec += vec\n",
    "            cnt_words += 1\n",
    "    if cnt_words != 0:\n",
    "        sent_vec /= cnt_words\n",
    "    sent_vectors.append(sent_vec)\n",
    "print(len(sent_vectors))\n",
    "print(len(sent_vectors[0]))"
   ]
  },
  {
   "cell_type": "markdown",
   "metadata": {
    "colab_type": "text",
    "id": "2sHfb529LPow"
   },
   "source": [
    "#### [4.4.1.2] TFIDF weighted W2v"
   ]
  },
  {
   "cell_type": "code",
   "execution_count": 278,
   "metadata": {
    "colab": {},
    "colab_type": "code",
    "id": "sb_wDjAqLPow"
   },
   "outputs": [],
   "source": [
    "# S = [\"abc def pqr\", \"def def def abc\", \"pqr pqr def\"]\n",
    "model = TfidfVectorizer()\n",
    "tf_idf_matrix = model.fit_transform(preprocessed_reviews)\n",
    "# we are converting a dictionary with word as a key, and the idf as a value\n",
    "dictionary = dict(zip(model.get_feature_names(), list(model.idf_)))"
   ]
  },
  {
   "cell_type": "code",
   "execution_count": null,
   "metadata": {
    "colab": {},
    "colab_type": "code",
    "id": "3VrUzqx7LPoy",
    "outputId": "8480d5da-7b1d-4bbe-a4c9-fe0a5800b5d0",
    "scrolled": true
   },
   "outputs": [
    {
     "name": "stderr",
     "output_type": "stream",
     "text": [
      "100%|██████████| 46071/46071 [10:35<00:00, 72.49it/s] \n"
     ]
    }
   ],
   "source": [
    "# TF-IDF weighted Word2Vec\n",
    "tfidf_feat = model.get_feature_names() # tfidf words/col-names\n",
    "# final_tf_idf is the sparse matrix with row= sentence, col=word and cell_val = tfidf\n",
    "\n",
    "tfidf_sent_vectors = []; # the tfidf-w2v for each sentence/review is stored in this list\n",
    "row=0;\n",
    "for sent in tqdm(list_of_sentance): # for each review/sentence \n",
    "    sent_vec = np.zeros(50) # as word vectors are of zero length\n",
    "    weight_sum =0; # num of words with a valid vector in the sentence/review\n",
    "    for word in sent: # for each word in a review/sentence\n",
    "        if word in w2v_words and word in tfidf_feat:\n",
    "            vec = w2v_model.wv[word]\n",
    "#             tf_idf = tf_idf_matrix[row, tfidf_feat.index(word)]\n",
    "            # to reduce the computation we are \n",
    "            # dictionary[word] = idf value of word in whole courpus\n",
    "            # sent.count(word) = tf valeus of word in this review\n",
    "            tf_idf = dictionary[word]*(sent.count(word)/len(sent))\n",
    "            sent_vec += (vec * tf_idf)\n",
    "            weight_sum += tf_idf\n",
    "    if weight_sum != 0:\n",
    "        sent_vec /= weight_sum\n",
    "    tfidf_sent_vectors.append(sent_vec)\n",
    "    row += 1"
   ]
  },
  {
   "cell_type": "markdown",
   "metadata": {},
   "source": [
    "BOW"
   ]
  },
  {
   "cell_type": "code",
   "execution_count": null,
   "metadata": {},
   "outputs": [],
   "source": []
  },
  {
   "cell_type": "code",
   "execution_count": 31,
   "metadata": {},
   "outputs": [],
   "source": [
    "labels = final['Score'] \n",
    "df = labels\n",
    "X=final_bigram_counts \n",
    "y = np.array(df)"
   ]
  },
  {
   "cell_type": "code",
   "execution_count": 32,
   "metadata": {},
   "outputs": [
    {
     "data": {
      "text/plain": [
       "(46071,)"
      ]
     },
     "execution_count": 32,
     "metadata": {},
     "output_type": "execute_result"
    }
   ],
   "source": [
    "from sklearn import cross_validation\n",
    "# split the data set into train and test\n",
    "X_1, X_test, y_1, y_test = cross_validation.train_test_split(X, y, test_size=0.3, random_state=0)\n",
    "\n",
    "# split the train data set into cross validation train and cross validation test\n",
    "X_tr, X_cv, y_tr, y_cv = cross_validation.train_test_split(X_1, y_1, test_size=0.3)\n",
    "\n",
    "y.shape"
   ]
  },
  {
   "cell_type": "code",
   "execution_count": 33,
   "metadata": {},
   "outputs": [
    {
     "data": {
      "text/plain": [
       "GridSearchCV(cv=5, error_score='raise',\n",
       "       estimator=LogisticRegression(C=1.0, class_weight=None, dual=False, fit_intercept=True,\n",
       "          intercept_scaling=1, max_iter=100, multi_class='ovr', n_jobs=1,\n",
       "          penalty='l2', random_state=None, solver='liblinear', tol=0.0001,\n",
       "          verbose=0, warm_start=False),\n",
       "       fit_params=None, iid=True, n_jobs=1,\n",
       "       param_grid=[{'C': [0.0001, 0.01, 1, 100, 10000]}],\n",
       "       pre_dispatch='2*n_jobs', refit=True, return_train_score='warn',\n",
       "       scoring='accuracy', verbose=0)"
      ]
     },
     "execution_count": 33,
     "metadata": {},
     "output_type": "execute_result"
    }
   ],
   "source": [
    "from sklearn.model_selection import GridSearchCV\n",
    "from sklearn.linear_model import LogisticRegression\n",
    "tuned_parameters = [{'C': [10**-4, 10**-2, 10**0, 10**2, 10**4]}]\n",
    "model = GridSearchCV(LogisticRegression(), tuned_parameters, scoring = 'accuracy', cv=5)\n",
    "model.fit(X_1, y_1)"
   ]
  },
  {
   "cell_type": "code",
   "execution_count": 34,
   "metadata": {},
   "outputs": [
    {
     "name": "stdout",
     "output_type": "stream",
     "text": [
      "LogisticRegression(C=1, class_weight=None, dual=False, fit_intercept=True,\n",
      "          intercept_scaling=1, max_iter=100, multi_class='ovr', n_jobs=1,\n",
      "          penalty='l2', random_state=None, solver='liblinear', tol=0.0001,\n",
      "          verbose=0, warm_start=False)\n",
      "0.9703246612298055\n"
     ]
    }
   ],
   "source": [
    "print(model.best_estimator_)\n",
    "print(model.score(X_1, y_1))"
   ]
  },
  {
   "cell_type": "code",
   "execution_count": null,
   "metadata": {},
   "outputs": [],
   "source": [
    "clf=LogisticRegression(C=1, class_weight=None, dual=False, fit_intercept=True,\n",
    "          intercept_scaling=1, max_iter=100, multi_class='ovr', n_jobs=4,\n",
    "          penalty='l2', random_state=None, solver='liblinear', tol=0.0001,\n",
    "          verbose=0, warm_start=False)\n",
    "clf.fit(X_1, y_1)"
   ]
  },
  {
   "cell_type": "code",
   "execution_count": 141,
   "metadata": {},
   "outputs": [],
   "source": [
    "from sklearn.metrics import roc_curve, auc\n",
    "from sklearn.metrics import roc_auc_score\n",
    "train_auc = []\n",
    "cv_auc = []\n",
    "y_train_pred =  clf.predict_proba (X_tr)[:,1]\n",
    "y_cv_pred =  clf.predict_proba(X_cv)[:,1]\n",
    "train_auc.append(roc_auc_score(y_tr,y_train_pred))\n",
    "cv_auc.append(roc_auc_score(y_cv, y_cv_pred))"
   ]
  },
  {
   "cell_type": "code",
   "execution_count": 142,
   "metadata": {},
   "outputs": [
    {
     "data": {
      "image/png": "[encoded data removed]",
      "text/plain": [
       "<Figure size 432x288 with 1 Axes>"
      ]
     },
     "metadata": {
      "needs_background": "light"
     },
     "output_type": "display_data"
    }
   ],
   "source": [
    "plt.plot( train_auc, label='Train AUC')\n",
    "plt.plot(cv_auc, label='CV AUC')\n",
    "plt.legend()\n",
    "plt.xlabel(\"K: hyperparameter\")\n",
    "plt.ylabel(\"AUC\")\n",
    "plt.title(\"ERROR PLOTS\")\n",
    "plt.show() "
   ]
  },
  {
   "cell_type": "code",
   "execution_count": 134,
   "metadata": {},
   "outputs": [],
   "source": [
    "from sklearn import metrics\n",
    "preds = clf.predict_proba(X_1)[:,1]\n",
    "fpr, tpr, _ = metrics.roc_curve(y_1, preds)\n",
    "df = pd.DataFrame(dict(fpr=fpr, tpr=tpr))"
   ]
  },
  {
   "cell_type": "code",
   "execution_count": 328,
   "metadata": {},
   "outputs": [
    {
     "ename": "NameError",
     "evalue": "name 'neigh' is not defined",
     "output_type": "error",
     "traceback": [
      "\u001b[0;31m---------------------------------------------------------------------------\u001b[0m",
      "\u001b[0;31mNameError\u001b[0m                                 Traceback (most recent call last)",
      "\u001b[0;32m<ipython-input-328-6f45762617a4>\u001b[0m in \u001b[0;36m<module>\u001b[0;34m\u001b[0m\n\u001b[0;32m----> 1\u001b[0;31m \u001b[0my_train_pred\u001b[0m \u001b[0;34m=\u001b[0m  \u001b[0mneigh\u001b[0m\u001b[0;34m.\u001b[0m\u001b[0mpredict_proba\u001b[0m \u001b[0;34m(\u001b[0m\u001b[0mX_tr\u001b[0m\u001b[0;34m)\u001b[0m\u001b[0;34m[\u001b[0m\u001b[0;34m:\u001b[0m\u001b[0;34m,\u001b[0m\u001b[0;36m1\u001b[0m\u001b[0;34m]\u001b[0m\u001b[0;34m\u001b[0m\u001b[0;34m\u001b[0m\u001b[0m\n\u001b[0m\u001b[1;32m      2\u001b[0m \u001b[0my_cv_pred\u001b[0m \u001b[0;34m=\u001b[0m  \u001b[0mneigh\u001b[0m\u001b[0;34m.\u001b[0m\u001b[0mpredict_proba\u001b[0m\u001b[0;34m(\u001b[0m\u001b[0mX_cv\u001b[0m\u001b[0;34m)\u001b[0m\u001b[0;34m[\u001b[0m\u001b[0;34m:\u001b[0m\u001b[0;34m,\u001b[0m\u001b[0;36m1\u001b[0m\u001b[0;34m]\u001b[0m\u001b[0;34m\u001b[0m\u001b[0;34m\u001b[0m\u001b[0m\n\u001b[1;32m      3\u001b[0m \u001b[0mtrain_auc\u001b[0m\u001b[0;34m.\u001b[0m\u001b[0mappend\u001b[0m\u001b[0;34m(\u001b[0m\u001b[0mroc_auc_score\u001b[0m\u001b[0;34m(\u001b[0m\u001b[0my_tr\u001b[0m\u001b[0;34m,\u001b[0m\u001b[0my_train_pred\u001b[0m\u001b[0;34m)\u001b[0m\u001b[0;34m)\u001b[0m\u001b[0;34m\u001b[0m\u001b[0;34m\u001b[0m\u001b[0m\n\u001b[1;32m      4\u001b[0m \u001b[0mcv_auc\u001b[0m\u001b[0;34m.\u001b[0m\u001b[0mappend\u001b[0m\u001b[0;34m(\u001b[0m\u001b[0mroc_auc_score\u001b[0m\u001b[0;34m(\u001b[0m\u001b[0my_cv\u001b[0m\u001b[0;34m,\u001b[0m \u001b[0my_cv_pred\u001b[0m\u001b[0;34m)\u001b[0m\u001b[0;34m)\u001b[0m\u001b[0;34m\u001b[0m\u001b[0;34m\u001b[0m\u001b[0m\n",
      "\u001b[0;31mNameError\u001b[0m: name 'neigh' is not defined"
     ]
    }
   ],
   "source": [
    " y_train_pred =  neigh.predict_proba (X_tr)[:,1]\n",
    "y_cv_pred =  neigh.predict_proba(X_cv)[:,1]\n",
    "train_auc.append(roc_auc_score(y_tr,y_train_pred))\n",
    "cv_auc.append(roc_auc_score(y_cv, y_cv_pred))"
   ]
  },
  {
   "cell_type": "code",
   "execution_count": 144,
   "metadata": {},
   "outputs": [
    {
     "data": {
      "text/plain": [
       "0.9988439100122226"
      ]
     },
     "execution_count": 144,
     "metadata": {},
     "output_type": "execute_result"
    }
   ],
   "source": [
    "auc = metrics.auc(fpr,tpr)\n",
    "auc"
   ]
  },
  {
   "cell_type": "code",
   "execution_count": null,
   "metadata": {},
   "outputs": [],
   "source": []
  },
  {
   "cell_type": "code",
   "execution_count": 145,
   "metadata": {},
   "outputs": [],
   "source": [
    "bow = CountVectorizer(max_features=10, lowercase=True, ngram_range=(1,1),analyzer = \"word\")"
   ]
  },
  {
   "cell_type": "code",
   "execution_count": 146,
   "metadata": {},
   "outputs": [],
   "source": [
    "final_bigram_counts = bow.fit_transform(preprocessed_reviews)"
   ]
  },
  {
   "cell_type": "code",
   "execution_count": 148,
   "metadata": {},
   "outputs": [
    {
     "data": {
      "text/plain": [
       "array([1, 1, 1, ..., 1, 4, 1], dtype=int64)"
      ]
     },
     "execution_count": 148,
     "metadata": {},
     "output_type": "execute_result"
    }
   ],
   "source": [
    "final_bigram_counts.data"
   ]
  },
  {
   "cell_type": "code",
   "execution_count": null,
   "metadata": {},
   "outputs": [],
   "source": [
    "final_bigram_counts"
   ]
  },
  {
   "cell_type": "code",
   "execution_count": null,
   "metadata": {},
   "outputs": [],
   "source": []
  },
  {
   "cell_type": "code",
   "execution_count": 378,
   "metadata": {},
   "outputs": [
    {
     "name": "stdout",
     "output_type": "stream",
     "text": [
      "Most Common Positive Words :  [(b'like', 17833), (b'tast', 15923), (b'good', 14331), (b'love', 14032), (b'flavor', 13822), (b'great', 13105), (b'one', 12248), (b'use', 11814), (b'tri', 11000), (b'product', 10803), (b'tea', 10602), (b'coffe', 10091), (b'get', 9179), (b'make', 9097), (b'food', 9089), (b'dog', 7456), (b'would', 7140), (b'time', 6847), (b'eat', 6785), (b'buy', 6753)]\n",
      "Most Common Negative Words :  [(b'tast', 4739), (b'like', 4518), (b'product', 3596), (b'one', 2734), (b'flavor', 2640), (b'would', 2480), (b'tri', 2447), (b'use', 2018), (b'good', 1999), (b'get', 1922), (b'buy', 1821), (b'food', 1815), (b'coffe', 1795), (b'tea', 1676), (b'dog', 1662), (b'order', 1636), (b'dont', 1614), (b'even', 1562), (b'eat', 1428), (b'box', 1401)]\n"
     ]
    }
   ],
   "source": [
    "freq_dist_positive=nltk.FreqDist(all_positive_words)\n",
    "freq_dist_negative=nltk.FreqDist(all_negative_words)\n",
    "print(\"Most Common Positive Words : \",freq_dist_positive.most_common(20))\n",
    "print(\"Most Common Negative Words : \",freq_dist_negative.most_common(20))"
   ]
  },
  {
   "cell_type": "code",
   "execution_count": null,
   "metadata": {},
   "outputs": [],
   "source": []
  },
  {
   "cell_type": "code",
   "execution_count": null,
   "metadata": {},
   "outputs": [],
   "source": [
    "plt.plot(K, train_auc, label='Train AUC')\n",
    "plt.plot(K, cv_auc, label='CV AUC')\n",
    "plt.legend()\n",
    "plt.xlabel(\"K: hyperparameter\")\n",
    "plt.ylabel(\"AUC\")\n",
    "plt.title(\"ERROR PLOTS\")\n",
    "plt.show() "
   ]
  },
  {
   "cell_type": "code",
   "execution_count": 128,
   "metadata": {},
   "outputs": [
    {
     "ename": "ModuleNotFoundError",
     "evalue": "No module named 'ggplot'",
     "output_type": "error",
     "traceback": [
      "\u001b[0;31m---------------------------------------------------------------------------\u001b[0m",
      "\u001b[0;31mModuleNotFoundError\u001b[0m                       Traceback (most recent call last)",
      "\u001b[0;32m<ipython-input-128-9b83dd33ab33>\u001b[0m in \u001b[0;36m<module>\u001b[0;34m\u001b[0m\n\u001b[0;32m----> 1\u001b[0;31m \u001b[0;32mfrom\u001b[0m \u001b[0mggplot\u001b[0m \u001b[0;32mimport\u001b[0m \u001b[0;34m*\u001b[0m\u001b[0;34m\u001b[0m\u001b[0;34m\u001b[0m\u001b[0m\n\u001b[0m\u001b[1;32m      2\u001b[0m \u001b[0mggplot\u001b[0m\u001b[0;34m(\u001b[0m\u001b[0mdf\u001b[0m\u001b[0;34m,\u001b[0m \u001b[0maes\u001b[0m\u001b[0;34m(\u001b[0m\u001b[0mx\u001b[0m\u001b[0;34m=\u001b[0m\u001b[0;34m'fpr'\u001b[0m\u001b[0;34m,\u001b[0m \u001b[0my\u001b[0m\u001b[0;34m=\u001b[0m\u001b[0;34m'tpr'\u001b[0m\u001b[0;34m)\u001b[0m\u001b[0;34m)\u001b[0m \u001b[0;34m+\u001b[0m\u001b[0;31m\\\u001b[0m\u001b[0;34m\u001b[0m\u001b[0;34m\u001b[0m\u001b[0m\n\u001b[1;32m      3\u001b[0m \u001b[0mgeom_line\u001b[0m\u001b[0;34m(\u001b[0m\u001b[0;34m)\u001b[0m \u001b[0;34m+\u001b[0m\u001b[0;31m\\\u001b[0m\u001b[0;34m\u001b[0m\u001b[0;34m\u001b[0m\u001b[0m\n\u001b[1;32m      4\u001b[0m \u001b[0mgeom_abline\u001b[0m\u001b[0;34m(\u001b[0m\u001b[0mlinetype\u001b[0m\u001b[0;34m=\u001b[0m\u001b[0;34m'dashed'\u001b[0m\u001b[0;34m)\u001b[0m\u001b[0;34m\u001b[0m\u001b[0;34m\u001b[0m\u001b[0m\n",
      "\u001b[0;31mModuleNotFoundError\u001b[0m: No module named 'ggplot'"
     ]
    }
   ],
   "source": [
    "from ggplot import *\n",
    "ggplot(df, aes(x='fpr', y='tpr')) +\\\n",
    "geom_line() +\\\n",
    "geom_abline(linetype='dashed')"
   ]
  },
  {
   "cell_type": "code",
   "execution_count": null,
   "metadata": {},
   "outputs": [],
   "source": [
    "##Computing false and true positive rates\n",
    "fpr, tpr,_=roc_curve(logit1.predict(inputData),outputData,drop_intermediate=False)\n",
    "\n",
    "import matplotlib.pyplot as plt\n",
    "plt.figure()\n",
    "##Adding the ROC\n",
    "plt.plot(fpr, tpr, color='red',\n",
    " lw=2, label='ROC curve')\n",
    "##Random FPR and TPR\n",
    "plt.plot([0, 1], [0, 1], color='blue', lw=2, linestyle='--')\n",
    "##Title and label\n",
    "plt.xlabel('FPR')\n",
    "plt.ylabel('TPR')\n",
    "plt.title('ROC curve')\n",
    "plt.show()"
   ]
  },
  {
   "cell_type": "code",
   "execution_count": null,
   "metadata": {},
   "outputs": [],
   "source": []
  },
  {
   "cell_type": "code",
   "execution_count": null,
   "metadata": {},
   "outputs": [],
   "source": []
  },
  {
   "cell_type": "code",
   "execution_count": null,
   "metadata": {},
   "outputs": [],
   "source": [
    "%%time\n",
    "from sklearn.preprocessing import label_binarize\n",
    "train_auc = []\n",
    "cv_auc = []\n",
    "y2 = label_binarize(y_1, classes=['0.', '1.'])\n",
    "ycv = label_binarize(y_cv, classes=['0.', '1.'])\n",
    "#y2=y2.flatten()\n",
    "#K = [1,3,5,7,9,10,11,13,15,17,19,20]\n",
    "\n",
    "lr=LogisticRegression(C=1, class_weight=None, dual=False, fit_intercept=True,\n",
    "          intercept_scaling=1, max_iter=100, multi_class='ovr', n_jobs=1,\n",
    "          penalty='l2', random_state=None, solver='liblinear', tol=0.0001,\n",
    "          verbose=0, warm_start=False)\n",
    "    \n",
    "y_train_pred =  neigh.predict_proba (X_tr)[:,1]\n",
    "y_cv_pred =  neigh.predict_proba(X_cv)[:,1]\n",
    "train_auc.append(roc_auc_score(y_tr,y_train_pred))\n",
    "cv_auc.append(roc_auc_score(y_cv, y_cv_pred))\n",
    "    \n",
    "plt.plot(K, train_auc, label='Train AUC')\n",
    "plt.plot(K, cv_auc, label='CV AUC')\n",
    "plt.legend()\n",
    "plt.xlabel(\"K: hyperparameter\")\n",
    "plt.ylabel(\"AUC\")\n",
    "plt.title(\"ERROR PLOTS\")\n",
    "plt.show() "
   ]
  },
  {
   "cell_type": "code",
   "execution_count": null,
   "metadata": {},
   "outputs": [],
   "source": [
    "roc=roc_auc_score(y_test, model.predict_proba(X_test)[:,1])"
   ]
  },
  {
   "cell_type": "code",
   "execution_count": 165,
   "metadata": {},
   "outputs": [
    {
     "data": {
      "text/plain": [
       "array([1, 1, 1, ..., 1, 4, 1], dtype=int64)"
      ]
     },
     "execution_count": 165,
     "metadata": {},
     "output_type": "execute_result"
    }
   ],
   "source": [
    "final_bigram_counts.data"
   ]
  },
  {
   "cell_type": "code",
   "execution_count": 168,
   "metadata": {},
   "outputs": [
    {
     "ename": "AttributeError",
     "evalue": "get_feature_names not found",
     "output_type": "error",
     "traceback": [
      "\u001b[0;31m---------------------------------------------------------------------------\u001b[0m",
      "\u001b[0;31mAttributeError\u001b[0m                            Traceback (most recent call last)",
      "\u001b[0;32m<ipython-input-168-0fffdbcad524>\u001b[0m in \u001b[0;36m<module>\u001b[0;34m\u001b[0m\n\u001b[0;32m----> 1\u001b[0;31m \u001b[0mfeatures\u001b[0m \u001b[0;34m=\u001b[0m \u001b[0mfinal_bigram_counts\u001b[0m\u001b[0;34m.\u001b[0m\u001b[0mget_feature_names\u001b[0m\u001b[0;34m(\u001b[0m\u001b[0;34m)\u001b[0m\u001b[0;34m\u001b[0m\u001b[0;34m\u001b[0m\u001b[0m\n\u001b[0m",
      "\u001b[0;32m~/anaconda3/lib/python3.6/site-packages/scipy/sparse/base.py\u001b[0m in \u001b[0;36m__getattr__\u001b[0;34m(self, attr)\u001b[0m\n\u001b[1;32m    684\u001b[0m             \u001b[0;32mreturn\u001b[0m \u001b[0mself\u001b[0m\u001b[0;34m.\u001b[0m\u001b[0mgetnnz\u001b[0m\u001b[0;34m(\u001b[0m\u001b[0;34m)\u001b[0m\u001b[0;34m\u001b[0m\u001b[0;34m\u001b[0m\u001b[0m\n\u001b[1;32m    685\u001b[0m         \u001b[0;32melse\u001b[0m\u001b[0;34m:\u001b[0m\u001b[0;34m\u001b[0m\u001b[0;34m\u001b[0m\u001b[0m\n\u001b[0;32m--> 686\u001b[0;31m             \u001b[0;32mraise\u001b[0m \u001b[0mAttributeError\u001b[0m\u001b[0;34m(\u001b[0m\u001b[0mattr\u001b[0m \u001b[0;34m+\u001b[0m \u001b[0;34m\" not found\"\u001b[0m\u001b[0;34m)\u001b[0m\u001b[0;34m\u001b[0m\u001b[0;34m\u001b[0m\u001b[0m\n\u001b[0m\u001b[1;32m    687\u001b[0m \u001b[0;34m\u001b[0m\u001b[0m\n\u001b[1;32m    688\u001b[0m     \u001b[0;32mdef\u001b[0m \u001b[0mtranspose\u001b[0m\u001b[0;34m(\u001b[0m\u001b[0mself\u001b[0m\u001b[0;34m,\u001b[0m \u001b[0maxes\u001b[0m\u001b[0;34m=\u001b[0m\u001b[0;32mNone\u001b[0m\u001b[0;34m,\u001b[0m \u001b[0mcopy\u001b[0m\u001b[0;34m=\u001b[0m\u001b[0;32mFalse\u001b[0m\u001b[0;34m)\u001b[0m\u001b[0;34m:\u001b[0m\u001b[0;34m\u001b[0m\u001b[0;34m\u001b[0m\u001b[0m\n",
      "\u001b[0;31mAttributeError\u001b[0m: get_feature_names not found"
     ]
    }
   ],
   "source": [
    "features = final_bigram_counts.               .get_feature_names()"
   ]
  },
  {
   "cell_type": "code",
   "execution_count": null,
   "metadata": {},
   "outputs": [],
   "source": [
    "final_bigram_counts.toarray"
   ]
  },
  {
   "cell_type": "code",
   "execution_count": 189,
   "metadata": {},
   "outputs": [
    {
     "ename": "AttributeError",
     "evalue": "'CountVectorizer' object has no attribute 'toarray'",
     "output_type": "error",
     "traceback": [
      "\u001b[0;31m---------------------------------------------------------------------------\u001b[0m",
      "\u001b[0;31mAttributeError\u001b[0m                            Traceback (most recent call last)",
      "\u001b[0;32m<ipython-input-189-8316ae883794>\u001b[0m in \u001b[0;36m<module>\u001b[0;34m\u001b[0m\n\u001b[1;32m      1\u001b[0m \u001b[0mcount_vec\u001b[0m \u001b[0;34m=\u001b[0m \u001b[0mCountVectorizer\u001b[0m\u001b[0;34m(\u001b[0m\u001b[0;34m)\u001b[0m\u001b[0;34m\u001b[0m\u001b[0;34m\u001b[0m\u001b[0m\n\u001b[1;32m      2\u001b[0m \u001b[0mcount_occurs\u001b[0m \u001b[0;34m=\u001b[0m \u001b[0mcount_vec\u001b[0m\u001b[0;34m.\u001b[0m\u001b[0mfit_transform\u001b[0m\u001b[0;34m(\u001b[0m\u001b[0mpreprocessed_reviews\u001b[0m\u001b[0;34m)\u001b[0m\u001b[0;34m\u001b[0m\u001b[0;34m\u001b[0m\u001b[0m\n\u001b[0;32m----> 3\u001b[0;31m \u001b[0mcount_vec\u001b[0m\u001b[0;34m.\u001b[0m\u001b[0mtoarray\u001b[0m\u001b[0;34m(\u001b[0m\u001b[0;34m)\u001b[0m\u001b[0;34m\u001b[0m\u001b[0;34m\u001b[0m\u001b[0m\n\u001b[0m",
      "\u001b[0;31mAttributeError\u001b[0m: 'CountVectorizer' object has no attribute 'toarray'"
     ]
    }
   ],
   "source": [
    "count_vec = CountVectorizer()\n",
    "count_occurs = count_vec.fit_transform(preprocessed_reviews)\n",
    "count_vec.toarray()"
   ]
  },
  {
   "cell_type": "code",
   "execution_count": 192,
   "metadata": {},
   "outputs": [],
   "source": [
    "count_vect = CountVectorizer() #in scikit-learn\n",
    "count_vect1=count_vect.fit_transform(preprocessed_reviews)\n",
    "#print(\"some feature names \", count_vect1.get_feature_names()[:10])\n",
    "#print('='*50)"
   ]
  },
  {
   "cell_type": "code",
   "execution_count": null,
   "metadata": {},
   "outputs": [],
   "source": [
    "count_vect1.t"
   ]
  },
  {
   "cell_type": "code",
   "execution_count": 190,
   "metadata": {},
   "outputs": [],
   "source": [
    "count_vec = CountVectorizer()\n",
    "count_occurs = count_vec.fit_transform(preprocessed_reviews)"
   ]
  },
  {
   "cell_type": "code",
   "execution_count": null,
   "metadata": {},
   "outputs": [],
   "source": []
  },
  {
   "cell_type": "code",
   "execution_count": 197,
   "metadata": {},
   "outputs": [
    {
     "data": {
      "text/html": [
       "<div>\n",
       "<style scoped>\n",
       "    .dataframe tbody tr th:only-of-type {\n",
       "        vertical-align: middle;\n",
       "    }\n",
       "\n",
       "    .dataframe tbody tr th {\n",
       "        vertical-align: top;\n",
       "    }\n",
       "\n",
       "    .dataframe thead th {\n",
       "        text-align: right;\n",
       "    }\n",
       "</style>\n",
       "<table border=\"1\" class=\"dataframe\">\n",
       "  <thead>\n",
       "    <tr style=\"text-align: right;\">\n",
       "      <th></th>\n",
       "      <th>Word</th>\n",
       "      <th>Count</th>\n",
       "    </tr>\n",
       "  </thead>\n",
       "  <tbody>\n",
       "    <tr>\n",
       "      <th>16592</th>\n",
       "      <td>pedophiles</td>\n",
       "      <td>[2, 0, 0, 0, 0, 0, 0, 0, 0, 0, 0, 0, 0, 0, 0, ...</td>\n",
       "    </tr>\n",
       "    <tr>\n",
       "      <th>3742</th>\n",
       "      <td>charlee</td>\n",
       "      <td>[1, 0, 0, 0, 0, 0, 0, 0, 0, 0, 0, 0, 0, 0, 0, ...</td>\n",
       "    </tr>\n",
       "    <tr>\n",
       "      <th>17085</th>\n",
       "      <td>planet</td>\n",
       "      <td>[1, 0, 0, 0, 0, 0, 0, 0, 0, 0, 0, 0, 0, 0, 0, ...</td>\n",
       "    </tr>\n",
       "    <tr>\n",
       "      <th>2820</th>\n",
       "      <td>browsed</td>\n",
       "      <td>[1, 0, 0, 0, 0, 0, 0, 0, 0, 0, 0, 0, 0, 0, 0, ...</td>\n",
       "    </tr>\n",
       "    <tr>\n",
       "      <th>899</th>\n",
       "      <td>aniseed</td>\n",
       "      <td>[1, 0, 0, 0, 0, 0, 0, 0, 0, 0, 0, 0, 0, 0, 0, ...</td>\n",
       "    </tr>\n",
       "    <tr>\n",
       "      <th>8357</th>\n",
       "      <td>favourite</td>\n",
       "      <td>[0, 1, 0, 0, 0, 0, 0, 0, 0, 0, 0, 0, 0, 0, 0, ...</td>\n",
       "    </tr>\n",
       "    <tr>\n",
       "      <th>4141</th>\n",
       "      <td>circumvent</td>\n",
       "      <td>[0, 1, 0, 0, 0, 0, 0, 0, 0, 0, 0, 0, 0, 0, 0, ...</td>\n",
       "    </tr>\n",
       "    <tr>\n",
       "      <th>16826</th>\n",
       "      <td>petshops</td>\n",
       "      <td>[0, 1, 0, 0, 0, 0, 0, 0, 0, 0, 0, 0, 0, 0, 0, ...</td>\n",
       "    </tr>\n",
       "    <tr>\n",
       "      <th>5992</th>\n",
       "      <td>delicious</td>\n",
       "      <td>[0, 1, 0, 0, 0, 0, 0, 0, 0, 0, 0, 0, 0, 0, 0, ...</td>\n",
       "    </tr>\n",
       "    <tr>\n",
       "      <th>15755</th>\n",
       "      <td>onceand</td>\n",
       "      <td>[0, 0, 1, 0, 0, 0, 0, 0, 0, 0, 0, 0, 0, 0, 0, ...</td>\n",
       "    </tr>\n",
       "    <tr>\n",
       "      <th>4375</th>\n",
       "      <td>cocktails</td>\n",
       "      <td>[0, 0, 0, 1, 0, 0, 0, 0, 0, 0, 0, 0, 0, 0, 0, ...</td>\n",
       "    </tr>\n",
       "    <tr>\n",
       "      <th>7002</th>\n",
       "      <td>drinkability</td>\n",
       "      <td>[0, 0, 0, 0, 1, 0, 0, 0, 0, 0, 0, 0, 0, 0, 0, ...</td>\n",
       "    </tr>\n",
       "    <tr>\n",
       "      <th>68</th>\n",
       "      <td>abuse</td>\n",
       "      <td>[0, 0, 0, 0, 1, 0, 0, 0, 0, 0, 0, 0, 0, 0, 0, ...</td>\n",
       "    </tr>\n",
       "    <tr>\n",
       "      <th>14164</th>\n",
       "      <td>meticulous</td>\n",
       "      <td>[0, 0, 0, 0, 0, 1, 0, 0, 0, 0, 0, 0, 0, 0, 0, ...</td>\n",
       "    </tr>\n",
       "    <tr>\n",
       "      <th>1411</th>\n",
       "      <td>aud</td>\n",
       "      <td>[0, 0, 0, 0, 0, 0, 1, 0, 0, 0, 0, 0, 0, 0, 0, ...</td>\n",
       "    </tr>\n",
       "    <tr>\n",
       "      <th>4296</th>\n",
       "      <td>closestto</td>\n",
       "      <td>[0, 0, 0, 0, 0, 0, 0, 2, 0, 0, 0, 0, 0, 0, 0, ...</td>\n",
       "    </tr>\n",
       "    <tr>\n",
       "      <th>15854</th>\n",
       "      <td>options</td>\n",
       "      <td>[0, 0, 0, 0, 0, 0, 0, 0, 1, 0, 0, 0, 0, 0, 0, ...</td>\n",
       "    </tr>\n",
       "    <tr>\n",
       "      <th>2854</th>\n",
       "      <td>bubba</td>\n",
       "      <td>[0, 0, 0, 0, 0, 0, 0, 0, 1, 0, 0, 0, 0, 0, 0, ...</td>\n",
       "    </tr>\n",
       "    <tr>\n",
       "      <th>13563</th>\n",
       "      <td>mahal</td>\n",
       "      <td>[0, 0, 0, 0, 0, 0, 0, 0, 1, 0, 0, 0, 0, 0, 0, ...</td>\n",
       "    </tr>\n",
       "    <tr>\n",
       "      <th>2667</th>\n",
       "      <td>breakfasty</td>\n",
       "      <td>[0, 0, 0, 0, 0, 0, 0, 0, 0, 1, 0, 0, 0, 0, 0, ...</td>\n",
       "    </tr>\n",
       "    <tr>\n",
       "      <th>5841</th>\n",
       "      <td>deceived</td>\n",
       "      <td>[0, 0, 0, 0, 0, 0, 0, 0, 0, 1, 0, 0, 0, 0, 0, ...</td>\n",
       "    </tr>\n",
       "    <tr>\n",
       "      <th>15676</th>\n",
       "      <td>ohama</td>\n",
       "      <td>[0, 0, 0, 0, 0, 0, 0, 0, 0, 0, 1, 0, 0, 0, 0, ...</td>\n",
       "    </tr>\n",
       "    <tr>\n",
       "      <th>6857</th>\n",
       "      <td>doors</td>\n",
       "      <td>[0, 0, 0, 0, 0, 0, 0, 0, 0, 0, 1, 0, 0, 0, 0, ...</td>\n",
       "    </tr>\n",
       "    <tr>\n",
       "      <th>6889</th>\n",
       "      <td>doubled</td>\n",
       "      <td>[0, 0, 0, 0, 0, 0, 0, 0, 0, 0, 1, 0, 0, 0, 0, ...</td>\n",
       "    </tr>\n",
       "    <tr>\n",
       "      <th>15760</th>\n",
       "      <td>ones</td>\n",
       "      <td>[0, 0, 0, 0, 0, 0, 0, 0, 0, 0, 1, 0, 0, 0, 0, ...</td>\n",
       "    </tr>\n",
       "    <tr>\n",
       "      <th>15754</th>\n",
       "      <td>omni</td>\n",
       "      <td>[0, 0, 0, 0, 0, 0, 0, 0, 0, 0, 1, 0, 0, 0, 0, ...</td>\n",
       "    </tr>\n",
       "    <tr>\n",
       "      <th>6860</th>\n",
       "      <td>doorways</td>\n",
       "      <td>[0, 0, 0, 0, 0, 0, 0, 0, 0, 0, 0, 1, 0, 0, 0, ...</td>\n",
       "    </tr>\n",
       "    <tr>\n",
       "      <th>10939</th>\n",
       "      <td>hopes</td>\n",
       "      <td>[0, 0, 0, 0, 0, 0, 0, 0, 0, 0, 0, 0, 1, 0, 0, ...</td>\n",
       "    </tr>\n",
       "    <tr>\n",
       "      <th>12042</th>\n",
       "      <td>jake</td>\n",
       "      <td>[0, 0, 0, 0, 0, 0, 0, 0, 0, 0, 0, 0, 1, 0, 0, ...</td>\n",
       "    </tr>\n",
       "    <tr>\n",
       "      <th>17633</th>\n",
       "      <td>presidor</td>\n",
       "      <td>[0, 0, 0, 0, 0, 0, 0, 0, 0, 0, 0, 0, 0, 1, 0, ...</td>\n",
       "    </tr>\n",
       "    <tr>\n",
       "      <th>...</th>\n",
       "      <td>...</td>\n",
       "      <td>...</td>\n",
       "    </tr>\n",
       "    <tr>\n",
       "      <th>2804</th>\n",
       "      <td>brothers</td>\n",
       "      <td>[0, 0, 0, 0, 0, 0, 0, 0, 0, 0, 0, 0, 0, 0, 0, ...</td>\n",
       "    </tr>\n",
       "    <tr>\n",
       "      <th>4505</th>\n",
       "      <td>combines</td>\n",
       "      <td>[0, 0, 0, 0, 0, 0, 0, 0, 0, 0, 0, 0, 0, 0, 0, ...</td>\n",
       "    </tr>\n",
       "    <tr>\n",
       "      <th>6095</th>\n",
       "      <td>dependant</td>\n",
       "      <td>[0, 0, 0, 0, 0, 0, 0, 0, 0, 0, 0, 0, 0, 0, 0, ...</td>\n",
       "    </tr>\n",
       "    <tr>\n",
       "      <th>6614</th>\n",
       "      <td>disodium</td>\n",
       "      <td>[0, 0, 0, 0, 0, 0, 0, 0, 0, 0, 0, 0, 0, 0, 0, ...</td>\n",
       "    </tr>\n",
       "    <tr>\n",
       "      <th>5600</th>\n",
       "      <td>customary</td>\n",
       "      <td>[0, 0, 0, 0, 0, 0, 0, 0, 0, 0, 0, 0, 0, 0, 0, ...</td>\n",
       "    </tr>\n",
       "    <tr>\n",
       "      <th>14604</th>\n",
       "      <td>mongolian</td>\n",
       "      <td>[0, 0, 0, 0, 0, 0, 0, 0, 0, 0, 0, 0, 0, 0, 0, ...</td>\n",
       "    </tr>\n",
       "    <tr>\n",
       "      <th>13186</th>\n",
       "      <td>literal</td>\n",
       "      <td>[0, 0, 0, 0, 0, 0, 0, 0, 0, 0, 0, 0, 0, 0, 0, ...</td>\n",
       "    </tr>\n",
       "    <tr>\n",
       "      <th>11263</th>\n",
       "      <td>imaginable</td>\n",
       "      <td>[0, 0, 0, 0, 0, 0, 0, 0, 0, 0, 0, 0, 0, 0, 0, ...</td>\n",
       "    </tr>\n",
       "    <tr>\n",
       "      <th>18999</th>\n",
       "      <td>repetitive</td>\n",
       "      <td>[0, 0, 0, 0, 0, 0, 0, 0, 0, 0, 0, 0, 0, 0, 0, ...</td>\n",
       "    </tr>\n",
       "    <tr>\n",
       "      <th>13544</th>\n",
       "      <td>magazineraved</td>\n",
       "      <td>[0, 0, 0, 0, 0, 0, 0, 0, 0, 0, 0, 0, 0, 0, 0, ...</td>\n",
       "    </tr>\n",
       "    <tr>\n",
       "      <th>7934</th>\n",
       "      <td>excessive</td>\n",
       "      <td>[0, 0, 0, 0, 0, 0, 0, 0, 0, 0, 0, 0, 0, 0, 0, ...</td>\n",
       "    </tr>\n",
       "    <tr>\n",
       "      <th>18378</th>\n",
       "      <td>rank</td>\n",
       "      <td>[0, 0, 0, 0, 0, 0, 0, 0, 0, 0, 0, 0, 0, 0, 0, ...</td>\n",
       "    </tr>\n",
       "    <tr>\n",
       "      <th>16264</th>\n",
       "      <td>pair</td>\n",
       "      <td>[0, 0, 0, 0, 0, 0, 0, 0, 0, 0, 0, 0, 0, 0, 0, ...</td>\n",
       "    </tr>\n",
       "    <tr>\n",
       "      <th>12232</th>\n",
       "      <td>judging</td>\n",
       "      <td>[0, 0, 0, 0, 0, 0, 0, 0, 0, 0, 0, 0, 0, 0, 0, ...</td>\n",
       "    </tr>\n",
       "    <tr>\n",
       "      <th>13989</th>\n",
       "      <td>medallions</td>\n",
       "      <td>[0, 0, 0, 0, 0, 0, 0, 0, 0, 0, 0, 0, 0, 0, 0, ...</td>\n",
       "    </tr>\n",
       "    <tr>\n",
       "      <th>2435</th>\n",
       "      <td>boneless</td>\n",
       "      <td>[0, 0, 0, 0, 0, 0, 0, 0, 0, 0, 0, 0, 0, 0, 0, ...</td>\n",
       "    </tr>\n",
       "    <tr>\n",
       "      <th>12150</th>\n",
       "      <td>jimmy</td>\n",
       "      <td>[0, 0, 0, 0, 0, 0, 0, 0, 0, 0, 0, 0, 0, 0, 0, ...</td>\n",
       "    </tr>\n",
       "    <tr>\n",
       "      <th>17412</th>\n",
       "      <td>potato</td>\n",
       "      <td>[0, 0, 0, 0, 0, 0, 0, 0, 0, 0, 0, 0, 0, 0, 0, ...</td>\n",
       "    </tr>\n",
       "    <tr>\n",
       "      <th>10266</th>\n",
       "      <td>gunshot</td>\n",
       "      <td>[0, 0, 0, 0, 0, 0, 0, 0, 0, 0, 0, 0, 0, 0, 0, ...</td>\n",
       "    </tr>\n",
       "    <tr>\n",
       "      <th>998</th>\n",
       "      <td>anywho</td>\n",
       "      <td>[0, 0, 0, 0, 0, 0, 0, 0, 0, 0, 0, 0, 0, 0, 0, ...</td>\n",
       "    </tr>\n",
       "    <tr>\n",
       "      <th>8877</th>\n",
       "      <td>fold</td>\n",
       "      <td>[0, 0, 0, 0, 0, 0, 0, 0, 0, 0, 0, 0, 0, 0, 0, ...</td>\n",
       "    </tr>\n",
       "    <tr>\n",
       "      <th>3178</th>\n",
       "      <td>camcorder</td>\n",
       "      <td>[0, 0, 0, 0, 0, 0, 0, 0, 0, 0, 0, 0, 0, 0, 0, ...</td>\n",
       "    </tr>\n",
       "    <tr>\n",
       "      <th>6962</th>\n",
       "      <td>drawers</td>\n",
       "      <td>[0, 0, 0, 0, 0, 0, 0, 0, 0, 0, 0, 0, 0, 0, 0, ...</td>\n",
       "    </tr>\n",
       "    <tr>\n",
       "      <th>11933</th>\n",
       "      <td>islight</td>\n",
       "      <td>[0, 0, 0, 0, 0, 0, 0, 0, 0, 0, 0, 0, 0, 0, 0, ...</td>\n",
       "    </tr>\n",
       "    <tr>\n",
       "      <th>14819</th>\n",
       "      <td>multiples</td>\n",
       "      <td>[0, 0, 0, 0, 0, 0, 0, 0, 0, 0, 0, 0, 0, 0, 0, ...</td>\n",
       "    </tr>\n",
       "    <tr>\n",
       "      <th>18899</th>\n",
       "      <td>relocation</td>\n",
       "      <td>[0, 0, 0, 0, 0, 0, 0, 0, 0, 0, 0, 0, 0, 0, 0, ...</td>\n",
       "    </tr>\n",
       "    <tr>\n",
       "      <th>11842</th>\n",
       "      <td>investigating</td>\n",
       "      <td>[0, 0, 0, 0, 0, 0, 0, 0, 0, 0, 0, 0, 0, 0, 0, ...</td>\n",
       "    </tr>\n",
       "    <tr>\n",
       "      <th>16221</th>\n",
       "      <td>packaged</td>\n",
       "      <td>[0, 0, 0, 0, 0, 0, 0, 0, 0, 0, 0, 0, 0, 0, 0, ...</td>\n",
       "    </tr>\n",
       "    <tr>\n",
       "      <th>8449</th>\n",
       "      <td>fertilizer</td>\n",
       "      <td>[0, 0, 0, 0, 0, 0, 0, 0, 0, 0, 0, 0, 0, 0, 0, ...</td>\n",
       "    </tr>\n",
       "    <tr>\n",
       "      <th>8956</th>\n",
       "      <td>forcing</td>\n",
       "      <td>[0, 0, 0, 0, 0, 0, 0, 0, 0, 0, 0, 0, 0, 0, 0, ...</td>\n",
       "    </tr>\n",
       "  </tbody>\n",
       "</table>\n",
       "<p>1000 rows × 2 columns</p>\n",
       "</div>"
      ],
      "text/plain": [
       "                Word                                              Count\n",
       "16592     pedophiles  [2, 0, 0, 0, 0, 0, 0, 0, 0, 0, 0, 0, 0, 0, 0, ...\n",
       "3742         charlee  [1, 0, 0, 0, 0, 0, 0, 0, 0, 0, 0, 0, 0, 0, 0, ...\n",
       "17085         planet  [1, 0, 0, 0, 0, 0, 0, 0, 0, 0, 0, 0, 0, 0, 0, ...\n",
       "2820         browsed  [1, 0, 0, 0, 0, 0, 0, 0, 0, 0, 0, 0, 0, 0, 0, ...\n",
       "899          aniseed  [1, 0, 0, 0, 0, 0, 0, 0, 0, 0, 0, 0, 0, 0, 0, ...\n",
       "8357       favourite  [0, 1, 0, 0, 0, 0, 0, 0, 0, 0, 0, 0, 0, 0, 0, ...\n",
       "4141      circumvent  [0, 1, 0, 0, 0, 0, 0, 0, 0, 0, 0, 0, 0, 0, 0, ...\n",
       "16826       petshops  [0, 1, 0, 0, 0, 0, 0, 0, 0, 0, 0, 0, 0, 0, 0, ...\n",
       "5992       delicious  [0, 1, 0, 0, 0, 0, 0, 0, 0, 0, 0, 0, 0, 0, 0, ...\n",
       "15755        onceand  [0, 0, 1, 0, 0, 0, 0, 0, 0, 0, 0, 0, 0, 0, 0, ...\n",
       "4375       cocktails  [0, 0, 0, 1, 0, 0, 0, 0, 0, 0, 0, 0, 0, 0, 0, ...\n",
       "7002    drinkability  [0, 0, 0, 0, 1, 0, 0, 0, 0, 0, 0, 0, 0, 0, 0, ...\n",
       "68             abuse  [0, 0, 0, 0, 1, 0, 0, 0, 0, 0, 0, 0, 0, 0, 0, ...\n",
       "14164     meticulous  [0, 0, 0, 0, 0, 1, 0, 0, 0, 0, 0, 0, 0, 0, 0, ...\n",
       "1411             aud  [0, 0, 0, 0, 0, 0, 1, 0, 0, 0, 0, 0, 0, 0, 0, ...\n",
       "4296       closestto  [0, 0, 0, 0, 0, 0, 0, 2, 0, 0, 0, 0, 0, 0, 0, ...\n",
       "15854        options  [0, 0, 0, 0, 0, 0, 0, 0, 1, 0, 0, 0, 0, 0, 0, ...\n",
       "2854           bubba  [0, 0, 0, 0, 0, 0, 0, 0, 1, 0, 0, 0, 0, 0, 0, ...\n",
       "13563          mahal  [0, 0, 0, 0, 0, 0, 0, 0, 1, 0, 0, 0, 0, 0, 0, ...\n",
       "2667      breakfasty  [0, 0, 0, 0, 0, 0, 0, 0, 0, 1, 0, 0, 0, 0, 0, ...\n",
       "5841        deceived  [0, 0, 0, 0, 0, 0, 0, 0, 0, 1, 0, 0, 0, 0, 0, ...\n",
       "15676          ohama  [0, 0, 0, 0, 0, 0, 0, 0, 0, 0, 1, 0, 0, 0, 0, ...\n",
       "6857           doors  [0, 0, 0, 0, 0, 0, 0, 0, 0, 0, 1, 0, 0, 0, 0, ...\n",
       "6889         doubled  [0, 0, 0, 0, 0, 0, 0, 0, 0, 0, 1, 0, 0, 0, 0, ...\n",
       "15760           ones  [0, 0, 0, 0, 0, 0, 0, 0, 0, 0, 1, 0, 0, 0, 0, ...\n",
       "15754           omni  [0, 0, 0, 0, 0, 0, 0, 0, 0, 0, 1, 0, 0, 0, 0, ...\n",
       "6860        doorways  [0, 0, 0, 0, 0, 0, 0, 0, 0, 0, 0, 1, 0, 0, 0, ...\n",
       "10939          hopes  [0, 0, 0, 0, 0, 0, 0, 0, 0, 0, 0, 0, 1, 0, 0, ...\n",
       "12042           jake  [0, 0, 0, 0, 0, 0, 0, 0, 0, 0, 0, 0, 1, 0, 0, ...\n",
       "17633       presidor  [0, 0, 0, 0, 0, 0, 0, 0, 0, 0, 0, 0, 0, 1, 0, ...\n",
       "...              ...                                                ...\n",
       "2804        brothers  [0, 0, 0, 0, 0, 0, 0, 0, 0, 0, 0, 0, 0, 0, 0, ...\n",
       "4505        combines  [0, 0, 0, 0, 0, 0, 0, 0, 0, 0, 0, 0, 0, 0, 0, ...\n",
       "6095       dependant  [0, 0, 0, 0, 0, 0, 0, 0, 0, 0, 0, 0, 0, 0, 0, ...\n",
       "6614        disodium  [0, 0, 0, 0, 0, 0, 0, 0, 0, 0, 0, 0, 0, 0, 0, ...\n",
       "5600       customary  [0, 0, 0, 0, 0, 0, 0, 0, 0, 0, 0, 0, 0, 0, 0, ...\n",
       "14604      mongolian  [0, 0, 0, 0, 0, 0, 0, 0, 0, 0, 0, 0, 0, 0, 0, ...\n",
       "13186        literal  [0, 0, 0, 0, 0, 0, 0, 0, 0, 0, 0, 0, 0, 0, 0, ...\n",
       "11263     imaginable  [0, 0, 0, 0, 0, 0, 0, 0, 0, 0, 0, 0, 0, 0, 0, ...\n",
       "18999     repetitive  [0, 0, 0, 0, 0, 0, 0, 0, 0, 0, 0, 0, 0, 0, 0, ...\n",
       "13544  magazineraved  [0, 0, 0, 0, 0, 0, 0, 0, 0, 0, 0, 0, 0, 0, 0, ...\n",
       "7934       excessive  [0, 0, 0, 0, 0, 0, 0, 0, 0, 0, 0, 0, 0, 0, 0, ...\n",
       "18378           rank  [0, 0, 0, 0, 0, 0, 0, 0, 0, 0, 0, 0, 0, 0, 0, ...\n",
       "16264           pair  [0, 0, 0, 0, 0, 0, 0, 0, 0, 0, 0, 0, 0, 0, 0, ...\n",
       "12232        judging  [0, 0, 0, 0, 0, 0, 0, 0, 0, 0, 0, 0, 0, 0, 0, ...\n",
       "13989     medallions  [0, 0, 0, 0, 0, 0, 0, 0, 0, 0, 0, 0, 0, 0, 0, ...\n",
       "2435        boneless  [0, 0, 0, 0, 0, 0, 0, 0, 0, 0, 0, 0, 0, 0, 0, ...\n",
       "12150          jimmy  [0, 0, 0, 0, 0, 0, 0, 0, 0, 0, 0, 0, 0, 0, 0, ...\n",
       "17412         potato  [0, 0, 0, 0, 0, 0, 0, 0, 0, 0, 0, 0, 0, 0, 0, ...\n",
       "10266        gunshot  [0, 0, 0, 0, 0, 0, 0, 0, 0, 0, 0, 0, 0, 0, 0, ...\n",
       "998           anywho  [0, 0, 0, 0, 0, 0, 0, 0, 0, 0, 0, 0, 0, 0, 0, ...\n",
       "8877            fold  [0, 0, 0, 0, 0, 0, 0, 0, 0, 0, 0, 0, 0, 0, 0, ...\n",
       "3178       camcorder  [0, 0, 0, 0, 0, 0, 0, 0, 0, 0, 0, 0, 0, 0, 0, ...\n",
       "6962         drawers  [0, 0, 0, 0, 0, 0, 0, 0, 0, 0, 0, 0, 0, 0, 0, ...\n",
       "11933        islight  [0, 0, 0, 0, 0, 0, 0, 0, 0, 0, 0, 0, 0, 0, 0, ...\n",
       "14819      multiples  [0, 0, 0, 0, 0, 0, 0, 0, 0, 0, 0, 0, 0, 0, 0, ...\n",
       "18899     relocation  [0, 0, 0, 0, 0, 0, 0, 0, 0, 0, 0, 0, 0, 0, 0, ...\n",
       "11842  investigating  [0, 0, 0, 0, 0, 0, 0, 0, 0, 0, 0, 0, 0, 0, 0, ...\n",
       "16221       packaged  [0, 0, 0, 0, 0, 0, 0, 0, 0, 0, 0, 0, 0, 0, 0, ...\n",
       "8449      fertilizer  [0, 0, 0, 0, 0, 0, 0, 0, 0, 0, 0, 0, 0, 0, 0, ...\n",
       "8956         forcing  [0, 0, 0, 0, 0, 0, 0, 0, 0, 0, 0, 0, 0, 0, 0, ...\n",
       "\n",
       "[1000 rows x 2 columns]"
      ]
     },
     "execution_count": 197,
     "metadata": {},
     "output_type": "execute_result"
    }
   ],
   "source": [
    "count_occur_df = pd.DataFrame(\n",
    "    (count, word) for word, count in\n",
    "     zip(count_vect1.toarray().tolist(), \n",
    "    count_vect.get_feature_names()))\n",
    "\n",
    "count_occur_df.columns = ['Word', 'Count']\n",
    "count_occur_df.sort_values('Count', ascending=False, inplace=True)\n",
    "count_occur_df.head(1000)"
   ]
  },
  {
   "cell_type": "code",
   "execution_count": null,
   "metadata": {},
   "outputs": [],
   "source": []
  },
  {
   "cell_type": "code",
   "execution_count": 167,
   "metadata": {},
   "outputs": [
    {
     "ename": "NameError",
     "evalue": "name 'features' is not defined",
     "output_type": "error",
     "traceback": [
      "\u001b[0;31m---------------------------------------------------------------------------\u001b[0m",
      "\u001b[0;31mNameError\u001b[0m                                 Traceback (most recent call last)",
      "\u001b[0;32m<ipython-input-167-17defbfb29c4>\u001b[0m in \u001b[0;36m<module>\u001b[0;34m\u001b[0m\n\u001b[1;32m      8\u001b[0m     \u001b[0;32mreturn\u001b[0m \u001b[0mdf\u001b[0m\u001b[0;34m\u001b[0m\u001b[0;34m\u001b[0m\u001b[0m\n\u001b[1;32m      9\u001b[0m \u001b[0;34m\u001b[0m\u001b[0m\n\u001b[0;32m---> 10\u001b[0;31m \u001b[0mtop_tfidf\u001b[0m \u001b[0;34m=\u001b[0m \u001b[0mtop_tfidf_feats\u001b[0m\u001b[0;34m(\u001b[0m\u001b[0mfinal_bigram_counts\u001b[0m\u001b[0;34m[\u001b[0m\u001b[0;36m1\u001b[0m\u001b[0;34m,\u001b[0m\u001b[0;34m:\u001b[0m\u001b[0;34m]\u001b[0m\u001b[0;34m.\u001b[0m\u001b[0mtoarray\u001b[0m\u001b[0;34m(\u001b[0m\u001b[0;34m)\u001b[0m\u001b[0;34m[\u001b[0m\u001b[0;36m0\u001b[0m\u001b[0;34m]\u001b[0m\u001b[0;34m,\u001b[0m\u001b[0mfeatures\u001b[0m\u001b[0;34m,\u001b[0m\u001b[0;36m10\u001b[0m\u001b[0;34m)\u001b[0m\u001b[0;34m\u001b[0m\u001b[0;34m\u001b[0m\u001b[0m\n\u001b[0m\u001b[1;32m     11\u001b[0m \u001b[0;31m#final_tf_idf\u001b[0m\u001b[0;34m\u001b[0m\u001b[0;34m\u001b[0m\u001b[0;34m\u001b[0m\u001b[0m\n",
      "\u001b[0;31mNameError\u001b[0m: name 'features' is not defined"
     ]
    }
   ],
   "source": [
    "# source: https://buhrmann.github.io/tfidf-analysis.html\n",
    "def top_tfidf_feats(row, features, top_n=25):\n",
    "    ''' Get top n tfidf values in row and return them with their corresponding feature names.'''\n",
    "    topn_ids = np.argsort(row)[::-1][:top_n]\n",
    "    top_feats = [(features[i], row[i]) for i in topn_ids]\n",
    "    df = pd.DataFrame(top_feats)\n",
    "    df.columns = ['feature', 'tfidf']\n",
    "    return df\n",
    "\n",
    "top_tfidf = top_tfidf_feats(final_bigram_counts[1,:].toarray()[0],features,10)\n",
    "#final_tf_idf"
   ]
  },
  {
   "cell_type": "code",
   "execution_count": 375,
   "metadata": {},
   "outputs": [
    {
     "ename": "AttributeError",
     "evalue": "values not found",
     "output_type": "error",
     "traceback": [
      "\u001b[0;31m---------------------------------------------------------------------------\u001b[0m",
      "\u001b[0;31mAttributeError\u001b[0m                            Traceback (most recent call last)",
      "\u001b[0;32m<ipython-input-375-66bc1eb5149f>\u001b[0m in \u001b[0;36m<module>\u001b[0;34m\u001b[0m\n\u001b[1;32m      7\u001b[0m \u001b[0mall_negative_words\u001b[0m\u001b[0;34m=\u001b[0m\u001b[0;34m[\u001b[0m\u001b[0;34m]\u001b[0m \u001b[0;31m# store words from -ve reviews here.\u001b[0m\u001b[0;34m\u001b[0m\u001b[0;34m\u001b[0m\u001b[0m\n\u001b[1;32m      8\u001b[0m \u001b[0ms\u001b[0m\u001b[0;34m=\u001b[0m\u001b[0;34m''\u001b[0m\u001b[0;34m\u001b[0m\u001b[0;34m\u001b[0m\u001b[0m\n\u001b[0;32m----> 9\u001b[0;31m \u001b[0;32mfor\u001b[0m \u001b[0msent\u001b[0m \u001b[0;32min\u001b[0m \u001b[0mfinal_bigram_counts\u001b[0m\u001b[0;34m.\u001b[0m\u001b[0mvalues\u001b[0m\u001b[0;34m:\u001b[0m\u001b[0;34m\u001b[0m\u001b[0;34m\u001b[0m\u001b[0m\n\u001b[0m\u001b[1;32m     10\u001b[0m     \u001b[0mfiltered_sentence\u001b[0m\u001b[0;34m=\u001b[0m\u001b[0;34m[\u001b[0m\u001b[0;34m]\u001b[0m\u001b[0;34m\u001b[0m\u001b[0;34m\u001b[0m\u001b[0m\n\u001b[1;32m     11\u001b[0m     \u001b[0;31m#print(sent);\u001b[0m\u001b[0;34m\u001b[0m\u001b[0;34m\u001b[0m\u001b[0;34m\u001b[0m\u001b[0m\n",
      "\u001b[0;32m~/anaconda3/lib/python3.6/site-packages/scipy/sparse/base.py\u001b[0m in \u001b[0;36m__getattr__\u001b[0;34m(self, attr)\u001b[0m\n\u001b[1;32m    684\u001b[0m             \u001b[0;32mreturn\u001b[0m \u001b[0mself\u001b[0m\u001b[0;34m.\u001b[0m\u001b[0mgetnnz\u001b[0m\u001b[0;34m(\u001b[0m\u001b[0;34m)\u001b[0m\u001b[0;34m\u001b[0m\u001b[0;34m\u001b[0m\u001b[0m\n\u001b[1;32m    685\u001b[0m         \u001b[0;32melse\u001b[0m\u001b[0;34m:\u001b[0m\u001b[0;34m\u001b[0m\u001b[0;34m\u001b[0m\u001b[0m\n\u001b[0;32m--> 686\u001b[0;31m             \u001b[0;32mraise\u001b[0m \u001b[0mAttributeError\u001b[0m\u001b[0;34m(\u001b[0m\u001b[0mattr\u001b[0m \u001b[0;34m+\u001b[0m \u001b[0;34m\" not found\"\u001b[0m\u001b[0;34m)\u001b[0m\u001b[0;34m\u001b[0m\u001b[0;34m\u001b[0m\u001b[0m\n\u001b[0m\u001b[1;32m    687\u001b[0m \u001b[0;34m\u001b[0m\u001b[0m\n\u001b[1;32m    688\u001b[0m     \u001b[0;32mdef\u001b[0m \u001b[0mtranspose\u001b[0m\u001b[0;34m(\u001b[0m\u001b[0mself\u001b[0m\u001b[0;34m,\u001b[0m \u001b[0maxes\u001b[0m\u001b[0;34m=\u001b[0m\u001b[0;32mNone\u001b[0m\u001b[0;34m,\u001b[0m \u001b[0mcopy\u001b[0m\u001b[0;34m=\u001b[0m\u001b[0;32mFalse\u001b[0m\u001b[0;34m)\u001b[0m\u001b[0;34m:\u001b[0m\u001b[0;34m\u001b[0m\u001b[0;34m\u001b[0m\u001b[0m\n",
      "\u001b[0;31mAttributeError\u001b[0m: values not found"
     ]
    }
   ],
   "source": [
    "#Code for implementing step-by-step the checks mentioned in the pre-processing phase\n",
    "# this code takes a while to run as it needs to run on 500k sentences.\n",
    "i=0\n",
    "str1=' '\n",
    "final_string=[]\n",
    "all_positive_words=[] # store words from +ve reviews here\n",
    "all_negative_words=[] # store words from -ve reviews here.\n",
    "s=''\n",
    "for sent in final_bigram_counts.values:\n",
    "    filtered_sentence=[]\n",
    "    #print(sent);\n",
    "    sent=cleanhtml(sent) # remove HTMl tags\n",
    "    for w in sent.split():\n",
    "        for cleaned_words in cleanpunc(w).split():\n",
    "            if((cleaned_words.isalpha()) & (len(cleaned_words)>2)):    \n",
    "                if(cleaned_words.lower() not in stop):\n",
    "                    s=(sno.stem(cleaned_words.lower())).encode('utf8')\n",
    "                    filtered_sentence.append(s)\n",
    "                    if (final['Score'].values)[i] == 'positive': \n",
    "                        all_positive_words.append(s) #list of all words used to describe positive reviews\n",
    "                    if(final['Score'].values)[i] == 'negative':\n",
    "                        all_negative_words.append(s) #list of all words used to describe negative reviews reviews\n",
    "                else:\n",
    "                    continue\n",
    "            else:\n",
    "                continue \n",
    "    #print(filtered_sentence)\n",
    "    str1 = b\" \".join(filtered_sentence) #final string of cleaned words\n",
    "    #print(\"***********************************************************************\")\n",
    "    \n",
    "    final_string.append(str1)\n",
    "    i+=1"
   ]
  },
  {
   "cell_type": "markdown",
   "metadata": {},
   "source": [
    "TFIDF LR"
   ]
  },
  {
   "cell_type": "code",
   "execution_count": 209,
   "metadata": {},
   "outputs": [],
   "source": [
    "labels = final['Score'] \n",
    "df = labels\n",
    "X=final_tf_idf\n",
    "y = np.array(df)"
   ]
  },
  {
   "cell_type": "code",
   "execution_count": 210,
   "metadata": {},
   "outputs": [],
   "source": [
    "# split the data set into train and test\n",
    "X_1, X_test, y_1, y_test = cross_validation.train_test_split(X, y, test_size=0.3, random_state=0)\n",
    "\n",
    "# split the train data set into cross validation train and cross validation test\n",
    "X_tr, X_cv, y_tr, y_cv = cross_validation.train_test_split(X_1, y_1, test_size=0.3)\n"
   ]
  },
  {
   "cell_type": "code",
   "execution_count": 211,
   "metadata": {},
   "outputs": [
    {
     "data": {
      "text/plain": [
       "GridSearchCV(cv=3, error_score='raise',\n",
       "       estimator=LogisticRegression(C=1.0, class_weight=None, dual=False, fit_intercept=True,\n",
       "          intercept_scaling=1, max_iter=100, multi_class='ovr', n_jobs=1,\n",
       "          penalty='l2', random_state=None, solver='liblinear', tol=0.0001,\n",
       "          verbose=0, warm_start=False),\n",
       "       fit_params=None, iid=True, n_jobs=1,\n",
       "       param_grid=[{'C': [0.0001, 0.01, 1, 100, 10000]}],\n",
       "       pre_dispatch='2*n_jobs', refit=True, return_train_score='warn',\n",
       "       scoring='accuracy', verbose=0)"
      ]
     },
     "execution_count": 211,
     "metadata": {},
     "output_type": "execute_result"
    }
   ],
   "source": [
    "tuned_parameters = [{'C': [10**-4, 10**-2, 10**0, 10**2, 10**4]}]\n",
    "model = GridSearchCV(LogisticRegression(), tuned_parameters, scoring = 'accuracy', cv=3)\n",
    "model.fit(X_1, y_1)\n"
   ]
  },
  {
   "cell_type": "code",
   "execution_count": 212,
   "metadata": {
    "scrolled": true
   },
   "outputs": [
    {
     "name": "stdout",
     "output_type": "stream",
     "text": [
      "LogisticRegression(C=100, class_weight=None, dual=False, fit_intercept=True,\n",
      "          intercept_scaling=1, max_iter=100, multi_class='ovr', n_jobs=1,\n",
      "          penalty='l2', random_state=None, solver='liblinear', tol=0.0001,\n",
      "          verbose=0, warm_start=False)\n",
      "0.9999261829187274\n"
     ]
    }
   ],
   "source": [
    "print(model.best_estimator_)\n",
    "print(model.score(X_1, y_1))"
   ]
  },
  {
   "cell_type": "code",
   "execution_count": 213,
   "metadata": {},
   "outputs": [
    {
     "data": {
      "text/plain": [
       "LogisticRegression(C=100, class_weight=None, dual=False, fit_intercept=True,\n",
       "          intercept_scaling=1, max_iter=100, multi_class='ovr', n_jobs=1,\n",
       "          penalty='l2', random_state=None, solver='liblinear', tol=0.0001,\n",
       "          verbose=0, warm_start=False)"
      ]
     },
     "execution_count": 213,
     "metadata": {},
     "output_type": "execute_result"
    }
   ],
   "source": [
    "clf=LogisticRegression(C=100, class_weight=None, dual=False, fit_intercept=True,\n",
    "          intercept_scaling=1, max_iter=100, multi_class='ovr', n_jobs=1,\n",
    "          penalty='l2', random_state=None, solver='liblinear', tol=0.0001,\n",
    "          verbose=0, warm_start=False)\n",
    "clf.fit(X_1, y_1)"
   ]
  },
  {
   "cell_type": "code",
   "execution_count": 214,
   "metadata": {},
   "outputs": [],
   "source": [
    "from sklearn import metrics\n",
    "preds = clf.predict_proba(X_1)[:,1]\n",
    "fpr, tpr, _ = metrics.roc_curve(y_1, preds)\n",
    "df = pd.DataFrame(dict(fpr=fpr, tpr=tpr))"
   ]
  },
  {
   "cell_type": "code",
   "execution_count": 215,
   "metadata": {},
   "outputs": [
    {
     "data": {
      "text/plain": [
       "0.9999842277136147"
      ]
     },
     "execution_count": 215,
     "metadata": {},
     "output_type": "execute_result"
    }
   ],
   "source": [
    "auc = metrics.auc(fpr,tpr)\n",
    "auc"
   ]
  },
  {
   "cell_type": "code",
   "execution_count": null,
   "metadata": {},
   "outputs": [],
   "source": []
  },
  {
   "cell_type": "code",
   "execution_count": null,
   "metadata": {},
   "outputs": [],
   "source": []
  },
  {
   "cell_type": "code",
   "execution_count": 267,
   "metadata": {},
   "outputs": [],
   "source": [
    "features = tf_idf_vect.get_feature_names()"
   ]
  },
  {
   "cell_type": "code",
   "execution_count": 268,
   "metadata": {},
   "outputs": [],
   "source": [
    "# source: https://buhrmann.github.io/tfidf-analysis.html\n",
    "def top_tfidf_feats(row, features, top_n=25):\n",
    "    ''' Get top n tfidf values in row and return them with their corresponding feature names.'''\n",
    "    topn_ids = np.argsort(row)[::-1][:top_n]\n",
    "    top_feats = [(features[i], row[i]) for i in topn_ids]\n",
    "    df = pd.DataFrame(top_feats)\n",
    "    df.columns = ['feature', 'tfidf']\n",
    "    return df\n",
    "\n",
    "top_tfidf = top_tfidf_feats(final_tf_idf[1,:].toarray()[0],features,10)"
   ]
  },
  {
   "cell_type": "code",
   "execution_count": 269,
   "metadata": {
    "collapsed": true
   },
   "outputs": [
    {
     "data": {
      "text/html": [
       "<div>\n",
       "<style scoped>\n",
       "    .dataframe tbody tr th:only-of-type {\n",
       "        vertical-align: middle;\n",
       "    }\n",
       "\n",
       "    .dataframe tbody tr th {\n",
       "        vertical-align: top;\n",
       "    }\n",
       "\n",
       "    .dataframe thead th {\n",
       "        text-align: right;\n",
       "    }\n",
       "</style>\n",
       "<table border=\"1\" class=\"dataframe\">\n",
       "  <thead>\n",
       "    <tr style=\"text-align: right;\">\n",
       "      <th></th>\n",
       "      <th>feature</th>\n",
       "      <th>tfidf</th>\n",
       "    </tr>\n",
       "  </thead>\n",
       "  <tbody>\n",
       "    <tr>\n",
       "      <th>0</th>\n",
       "      <td>product available</td>\n",
       "      <td>0.431227</td>\n",
       "    </tr>\n",
       "    <tr>\n",
       "      <th>1</th>\n",
       "      <td>fly</td>\n",
       "      <td>0.405220</td>\n",
       "    </tr>\n",
       "    <tr>\n",
       "      <th>2</th>\n",
       "      <td>nearby</td>\n",
       "      <td>0.391301</td>\n",
       "    </tr>\n",
       "    <tr>\n",
       "      <th>3</th>\n",
       "      <td>stinky</td>\n",
       "      <td>0.387920</td>\n",
       "    </tr>\n",
       "    <tr>\n",
       "      <th>4</th>\n",
       "      <td>total</td>\n",
       "      <td>0.321827</td>\n",
       "    </tr>\n",
       "    <tr>\n",
       "      <th>5</th>\n",
       "      <td>course</td>\n",
       "      <td>0.271735</td>\n",
       "    </tr>\n",
       "    <tr>\n",
       "      <th>6</th>\n",
       "      <td>available</td>\n",
       "      <td>0.243603</td>\n",
       "    </tr>\n",
       "    <tr>\n",
       "      <th>7</th>\n",
       "      <td>pretty</td>\n",
       "      <td>0.221026</td>\n",
       "    </tr>\n",
       "    <tr>\n",
       "      <th>8</th>\n",
       "      <td>right</td>\n",
       "      <td>0.202899</td>\n",
       "    </tr>\n",
       "    <tr>\n",
       "      <th>9</th>\n",
       "      <td>product</td>\n",
       "      <td>0.139521</td>\n",
       "    </tr>\n",
       "  </tbody>\n",
       "</table>\n",
       "</div>"
      ],
      "text/plain": [
       "             feature     tfidf\n",
       "0  product available  0.431227\n",
       "1                fly  0.405220\n",
       "2             nearby  0.391301\n",
       "3             stinky  0.387920\n",
       "4              total  0.321827\n",
       "5             course  0.271735\n",
       "6          available  0.243603\n",
       "7             pretty  0.221026\n",
       "8              right  0.202899\n",
       "9            product  0.139521"
      ]
     },
     "execution_count": 269,
     "metadata": {},
     "output_type": "execute_result"
    }
   ],
   "source": [
    "top_tfidf"
   ]
  },
  {
   "cell_type": "code",
   "execution_count": 408,
   "metadata": {},
   "outputs": [],
   "source": [
    "label2=labels"
   ]
  },
  {
   "cell_type": "code",
   "execution_count": 411,
   "metadata": {},
   "outputs": [],
   "source": [
    "labels2=[labels.values==1]"
   ]
  },
  {
   "cell_type": "code",
   "execution_count": 412,
   "metadata": {},
   "outputs": [
    {
     "data": {
      "text/plain": [
       "[array([False,  True,  True, ..., False, False,  True])]"
      ]
     },
     "execution_count": 412,
     "metadata": {},
     "output_type": "execute_result"
    }
   ],
   "source": [
    "labels2"
   ]
  },
  {
   "cell_type": "code",
   "execution_count": 406,
   "metadata": {},
   "outputs": [
    {
     "data": {
      "text/html": [
       "<div>\n",
       "<style scoped>\n",
       "    .dataframe tbody tr th:only-of-type {\n",
       "        vertical-align: middle;\n",
       "    }\n",
       "\n",
       "    .dataframe tbody tr th {\n",
       "        vertical-align: top;\n",
       "    }\n",
       "\n",
       "    .dataframe thead th {\n",
       "        text-align: right;\n",
       "    }\n",
       "</style>\n",
       "<table border=\"1\" class=\"dataframe\">\n",
       "  <thead>\n",
       "    <tr style=\"text-align: right;\">\n",
       "      <th></th>\n",
       "      <th>Id</th>\n",
       "      <th>ProductId</th>\n",
       "      <th>UserId</th>\n",
       "      <th>ProfileName</th>\n",
       "      <th>HelpfulnessNumerator</th>\n",
       "      <th>HelpfulnessDenominator</th>\n",
       "      <th>Score</th>\n",
       "      <th>Time</th>\n",
       "      <th>Summary</th>\n",
       "      <th>Text</th>\n",
       "    </tr>\n",
       "  </thead>\n",
       "  <tbody>\n",
       "    <tr>\n",
       "      <th>22620</th>\n",
       "      <td>24750</td>\n",
       "      <td>2734888454</td>\n",
       "      <td>A13ISQV0U9GZIC</td>\n",
       "      <td>Sandikaye</td>\n",
       "      <td>1</td>\n",
       "      <td>1</td>\n",
       "      <td>0</td>\n",
       "      <td>1192060800</td>\n",
       "      <td>made in china</td>\n",
       "      <td>My dogs loves this chicken but its a product f...</td>\n",
       "    </tr>\n",
       "    <tr>\n",
       "      <th>22621</th>\n",
       "      <td>24751</td>\n",
       "      <td>2734888454</td>\n",
       "      <td>A1C298ITT645B6</td>\n",
       "      <td>Hugh G. Pritchard</td>\n",
       "      <td>0</td>\n",
       "      <td>0</td>\n",
       "      <td>1</td>\n",
       "      <td>1195948800</td>\n",
       "      <td>Dog Lover Delites</td>\n",
       "      <td>Our dogs just love them.  I saw them in a pet ...</td>\n",
       "    </tr>\n",
       "    <tr>\n",
       "      <th>2546</th>\n",
       "      <td>2774</td>\n",
       "      <td>B00002NCJC</td>\n",
       "      <td>A196AJHU9EASJN</td>\n",
       "      <td>Alex Chaffee</td>\n",
       "      <td>0</td>\n",
       "      <td>0</td>\n",
       "      <td>1</td>\n",
       "      <td>1282953600</td>\n",
       "      <td>thirty bucks?</td>\n",
       "      <td>Why is this $[...] when the same product is av...</td>\n",
       "    </tr>\n",
       "    <tr>\n",
       "      <th>2547</th>\n",
       "      <td>2775</td>\n",
       "      <td>B00002NCJC</td>\n",
       "      <td>A13RRPGE79XFFH</td>\n",
       "      <td>reader48</td>\n",
       "      <td>0</td>\n",
       "      <td>0</td>\n",
       "      <td>1</td>\n",
       "      <td>1281052800</td>\n",
       "      <td>Flies Begone</td>\n",
       "      <td>We have used the Victor fly bait for 3 seasons...</td>\n",
       "    </tr>\n",
       "    <tr>\n",
       "      <th>1145</th>\n",
       "      <td>1244</td>\n",
       "      <td>B00002Z754</td>\n",
       "      <td>A3B8RCEI0FXFI6</td>\n",
       "      <td>B G Chase</td>\n",
       "      <td>10</td>\n",
       "      <td>10</td>\n",
       "      <td>1</td>\n",
       "      <td>962236800</td>\n",
       "      <td>WOW Make your own 'slickers' !</td>\n",
       "      <td>I just received my shipment and could hardly w...</td>\n",
       "    </tr>\n",
       "    <tr>\n",
       "      <th>1146</th>\n",
       "      <td>1245</td>\n",
       "      <td>B00002Z754</td>\n",
       "      <td>A29Z5PI9BW2PU3</td>\n",
       "      <td>Robbie</td>\n",
       "      <td>7</td>\n",
       "      <td>7</td>\n",
       "      <td>1</td>\n",
       "      <td>961718400</td>\n",
       "      <td>Great Product</td>\n",
       "      <td>This was a really good idea and the final prod...</td>\n",
       "    </tr>\n",
       "    <tr>\n",
       "      <th>8696</th>\n",
       "      <td>9527</td>\n",
       "      <td>B00005V3DC</td>\n",
       "      <td>A8KY7S48EW7LW</td>\n",
       "      <td>A. Daly \"AD\"</td>\n",
       "      <td>0</td>\n",
       "      <td>0</td>\n",
       "      <td>1</td>\n",
       "      <td>1350172800</td>\n",
       "      <td>The Best Cleansing Tea I've Ever Had</td>\n",
       "      <td>I've used this brand for years. If you're feel...</td>\n",
       "    </tr>\n",
       "    <tr>\n",
       "      <th>8695</th>\n",
       "      <td>9526</td>\n",
       "      <td>B00005V3DC</td>\n",
       "      <td>APASCXWTM041</td>\n",
       "      <td>Ed Raton</td>\n",
       "      <td>0</td>\n",
       "      <td>0</td>\n",
       "      <td>1</td>\n",
       "      <td>1350604800</td>\n",
       "      <td>Good, effective product</td>\n",
       "      <td>Good flavor, unique in all the teas that I've ...</td>\n",
       "    </tr>\n",
       "    <tr>\n",
       "      <th>8694</th>\n",
       "      <td>9525</td>\n",
       "      <td>B00005V3DC</td>\n",
       "      <td>A2ZYCEEYBUQZND</td>\n",
       "      <td>Robby \"Robby C\"</td>\n",
       "      <td>5</td>\n",
       "      <td>7</td>\n",
       "      <td>1</td>\n",
       "      <td>1176249600</td>\n",
       "      <td>Best herbal tea for digestion</td>\n",
       "      <td>If you're new to this product you need to be v...</td>\n",
       "    </tr>\n",
       "    <tr>\n",
       "      <th>48736</th>\n",
       "      <td>52952</td>\n",
       "      <td>B00006IDJO</td>\n",
       "      <td>A1NKE5OYRM326V</td>\n",
       "      <td>The Amazin' Amazon Guy \"Help Me I'm Too Cool!\"</td>\n",
       "      <td>2</td>\n",
       "      <td>7</td>\n",
       "      <td>0</td>\n",
       "      <td>1206835200</td>\n",
       "      <td>They Secretly Switched The Coffee At My Favori...</td>\n",
       "      <td>One of the favorite places that I frequent whe...</td>\n",
       "    </tr>\n",
       "    <tr>\n",
       "      <th>48731</th>\n",
       "      <td>52946</td>\n",
       "      <td>B00006IDJU</td>\n",
       "      <td>A2CA4TJR6L3J2W</td>\n",
       "      <td>yetanotherstephanie</td>\n",
       "      <td>0</td>\n",
       "      <td>0</td>\n",
       "      <td>1</td>\n",
       "      <td>1209254400</td>\n",
       "      <td>Yay!! Finally!!</td>\n",
       "      <td>I've been trying to find the individual-pack o...</td>\n",
       "    </tr>\n",
       "    <tr>\n",
       "      <th>2941</th>\n",
       "      <td>3203</td>\n",
       "      <td>B000084DVR</td>\n",
       "      <td>A3DKGXWUEP1AI2</td>\n",
       "      <td>Glenna E. Bauer \"Puppy Mum\"</td>\n",
       "      <td>3</td>\n",
       "      <td>3</td>\n",
       "      <td>1</td>\n",
       "      <td>1163030400</td>\n",
       "      <td>Premium Quality Dog Food!!!</td>\n",
       "      <td>We have been using this food for about 6 month...</td>\n",
       "    </tr>\n",
       "    <tr>\n",
       "      <th>2942</th>\n",
       "      <td>3204</td>\n",
       "      <td>B000084DVR</td>\n",
       "      <td>A1UGDJP1ZJWVPF</td>\n",
       "      <td>T. Moore \"thoughtful reader\"</td>\n",
       "      <td>1</td>\n",
       "      <td>1</td>\n",
       "      <td>1</td>\n",
       "      <td>1177977600</td>\n",
       "      <td>Good stuff!</td>\n",
       "      <td>I'm glad my 45lb cocker/standard poodle puppy ...</td>\n",
       "    </tr>\n",
       "    <tr>\n",
       "      <th>1071</th>\n",
       "      <td>1161</td>\n",
       "      <td>B000084E1U</td>\n",
       "      <td>A3DH85EYHW4AQH</td>\n",
       "      <td>Eric Hochman</td>\n",
       "      <td>1</td>\n",
       "      <td>1</td>\n",
       "      <td>1</td>\n",
       "      <td>1140739200</td>\n",
       "      <td>Cats love it!</td>\n",
       "      <td>I have nine cats and they are crazy about thes...</td>\n",
       "    </tr>\n",
       "    <tr>\n",
       "      <th>5905</th>\n",
       "      <td>6395</td>\n",
       "      <td>B000084EK5</td>\n",
       "      <td>A1Z54EM24Y40LL</td>\n",
       "      <td>c2</td>\n",
       "      <td>1</td>\n",
       "      <td>1</td>\n",
       "      <td>1</td>\n",
       "      <td>1090972800</td>\n",
       "      <td>Family favorite - looks like steak!</td>\n",
       "      <td>This is my cat's third favorite food.  It's gr...</td>\n",
       "    </tr>\n",
       "    <tr>\n",
       "      <th>5906</th>\n",
       "      <td>6396</td>\n",
       "      <td>B000084EK6</td>\n",
       "      <td>A1Z54EM24Y40LL</td>\n",
       "      <td>c2</td>\n",
       "      <td>0</td>\n",
       "      <td>0</td>\n",
       "      <td>1</td>\n",
       "      <td>1091059200</td>\n",
       "      <td>Great food!</td>\n",
       "      <td>This is another favorite in our house.  My cat...</td>\n",
       "    </tr>\n",
       "    <tr>\n",
       "      <th>5907</th>\n",
       "      <td>6397</td>\n",
       "      <td>B000084EK7</td>\n",
       "      <td>A1Z54EM24Y40LL</td>\n",
       "      <td>c2</td>\n",
       "      <td>0</td>\n",
       "      <td>0</td>\n",
       "      <td>1</td>\n",
       "      <td>1090972800</td>\n",
       "      <td>What's in this?</td>\n",
       "      <td>This one is a great basic food. Whatever is in...</td>\n",
       "    </tr>\n",
       "    <tr>\n",
       "      <th>5896</th>\n",
       "      <td>6385</td>\n",
       "      <td>B000084EK9</td>\n",
       "      <td>AUQIKXJAWMOK5</td>\n",
       "      <td>Desert Rat</td>\n",
       "      <td>0</td>\n",
       "      <td>0</td>\n",
       "      <td>1</td>\n",
       "      <td>1232496000</td>\n",
       "      <td>Our cats love this food</td>\n",
       "      <td>Of course, nobody can ever figure out what cat...</td>\n",
       "    </tr>\n",
       "    <tr>\n",
       "      <th>5897</th>\n",
       "      <td>6386</td>\n",
       "      <td>B000084EK9</td>\n",
       "      <td>A1Z54EM24Y40LL</td>\n",
       "      <td>c2</td>\n",
       "      <td>0</td>\n",
       "      <td>0</td>\n",
       "      <td>0</td>\n",
       "      <td>1090972800</td>\n",
       "      <td>This stuff is bad!</td>\n",
       "      <td>I honestly have to say that I just won't buy t...</td>\n",
       "    </tr>\n",
       "    <tr>\n",
       "      <th>5895</th>\n",
       "      <td>6384</td>\n",
       "      <td>B000084EK9</td>\n",
       "      <td>A2OVA909VD90P6</td>\n",
       "      <td>Caryn Trungale Sova</td>\n",
       "      <td>0</td>\n",
       "      <td>0</td>\n",
       "      <td>1</td>\n",
       "      <td>1325808000</td>\n",
       "      <td>Four cats love it.</td>\n",
       "      <td>At 60 years old I have had the care of cats my...</td>\n",
       "    </tr>\n",
       "    <tr>\n",
       "      <th>5885</th>\n",
       "      <td>6373</td>\n",
       "      <td>B000084EKA</td>\n",
       "      <td>A1Z54EM24Y40LL</td>\n",
       "      <td>c2</td>\n",
       "      <td>0</td>\n",
       "      <td>0</td>\n",
       "      <td>1</td>\n",
       "      <td>1090972800</td>\n",
       "      <td>Not their best...</td>\n",
       "      <td>I think 9 Lives does a better job on this vari...</td>\n",
       "    </tr>\n",
       "    <tr>\n",
       "      <th>5886</th>\n",
       "      <td>6374</td>\n",
       "      <td>B000084EKB</td>\n",
       "      <td>A1Z54EM24Y40LL</td>\n",
       "      <td>c2</td>\n",
       "      <td>0</td>\n",
       "      <td>0</td>\n",
       "      <td>1</td>\n",
       "      <td>1091059200</td>\n",
       "      <td>Great food!</td>\n",
       "      <td>This version is ground.  NOt my current cat's ...</td>\n",
       "    </tr>\n",
       "    <tr>\n",
       "      <th>5887</th>\n",
       "      <td>6375</td>\n",
       "      <td>B000084EKC</td>\n",
       "      <td>A1Z54EM24Y40LL</td>\n",
       "      <td>c2</td>\n",
       "      <td>1</td>\n",
       "      <td>1</td>\n",
       "      <td>1</td>\n",
       "      <td>1090972800</td>\n",
       "      <td>Great food for all cats!</td>\n",
       "      <td>According to my cat, this stuff is just great....</td>\n",
       "    </tr>\n",
       "    <tr>\n",
       "      <th>5888</th>\n",
       "      <td>6376</td>\n",
       "      <td>B000084EKD</td>\n",
       "      <td>A1Z54EM24Y40LL</td>\n",
       "      <td>c2</td>\n",
       "      <td>1</td>\n",
       "      <td>1</td>\n",
       "      <td>0</td>\n",
       "      <td>1090972800</td>\n",
       "      <td>Needs improved</td>\n",
       "      <td>I haven't had a cat yet that liked this one.  ...</td>\n",
       "    </tr>\n",
       "    <tr>\n",
       "      <th>5894</th>\n",
       "      <td>6382</td>\n",
       "      <td>B000084EKG</td>\n",
       "      <td>A1BU6BSOO8WE5T</td>\n",
       "      <td>Jennifer</td>\n",
       "      <td>1</td>\n",
       "      <td>1</td>\n",
       "      <td>1</td>\n",
       "      <td>1196035200</td>\n",
       "      <td>My cat's favorite!</td>\n",
       "      <td>My cat is so picky! I've tried every brand and...</td>\n",
       "    </tr>\n",
       "    <tr>\n",
       "      <th>5893</th>\n",
       "      <td>6381</td>\n",
       "      <td>B000084EKG</td>\n",
       "      <td>A1Z54EM24Y40LL</td>\n",
       "      <td>c2</td>\n",
       "      <td>2</td>\n",
       "      <td>2</td>\n",
       "      <td>1</td>\n",
       "      <td>1090972800</td>\n",
       "      <td>Awesome food!</td>\n",
       "      <td>This is my cat's favorite one.  He just licks ...</td>\n",
       "    </tr>\n",
       "    <tr>\n",
       "      <th>5883</th>\n",
       "      <td>6370</td>\n",
       "      <td>B000084EKL</td>\n",
       "      <td>A3INRM1QVW21W9</td>\n",
       "      <td>Jersey Mom</td>\n",
       "      <td>1</td>\n",
       "      <td>1</td>\n",
       "      <td>1</td>\n",
       "      <td>1318723200</td>\n",
       "      <td>Great product</td>\n",
       "      <td>This is the only food my cat will eat.  If I b...</td>\n",
       "    </tr>\n",
       "    <tr>\n",
       "      <th>5884</th>\n",
       "      <td>6371</td>\n",
       "      <td>B000084EKM</td>\n",
       "      <td>A2D1U27937CQQB</td>\n",
       "      <td>Jeffrey A. Groves</td>\n",
       "      <td>0</td>\n",
       "      <td>0</td>\n",
       "      <td>1</td>\n",
       "      <td>1285718400</td>\n",
       "      <td>Our finicky eater's favorite food</td>\n",
       "      <td>This flavor of Fancy Feast is decidedly the fa...</td>\n",
       "    </tr>\n",
       "    <tr>\n",
       "      <th>5841</th>\n",
       "      <td>6324</td>\n",
       "      <td>B000084EKW</td>\n",
       "      <td>A1L43KWWR05PCS</td>\n",
       "      <td>Lawyeraau</td>\n",
       "      <td>2</td>\n",
       "      <td>3</td>\n",
       "      <td>1</td>\n",
       "      <td>1125792000</td>\n",
       "      <td>MMMMMMMEEEEEEEEEEOOOOOOOOOOOWWWWWWW...</td>\n",
       "      <td>These Fancy Feast Variety Packs, which contain...</td>\n",
       "    </tr>\n",
       "    <tr>\n",
       "      <th>5840</th>\n",
       "      <td>6323</td>\n",
       "      <td>B000084EKW</td>\n",
       "      <td>A2R6RA8FRBS608</td>\n",
       "      <td>Matthew G. Sherwin</td>\n",
       "      <td>12</td>\n",
       "      <td>12</td>\n",
       "      <td>1</td>\n",
       "      <td>1202688000</td>\n",
       "      <td>one great big huge high-five--from my cat !!!</td>\n",
       "      <td>My cat LOVES Fancy Feast cat food; and this va...</td>\n",
       "    </tr>\n",
       "    <tr>\n",
       "      <th>...</th>\n",
       "      <td>...</td>\n",
       "      <td>...</td>\n",
       "      <td>...</td>\n",
       "      <td>...</td>\n",
       "      <td>...</td>\n",
       "      <td>...</td>\n",
       "      <td>...</td>\n",
       "      <td>...</td>\n",
       "      <td>...</td>\n",
       "      <td>...</td>\n",
       "    </tr>\n",
       "    <tr>\n",
       "      <th>8141</th>\n",
       "      <td>8908</td>\n",
       "      <td>B009D668KS</td>\n",
       "      <td>A1YDQ8I5KVNF8P</td>\n",
       "      <td>Rangermenace \"Kinglord\"</td>\n",
       "      <td>0</td>\n",
       "      <td>0</td>\n",
       "      <td>1</td>\n",
       "      <td>1349308800</td>\n",
       "      <td>real Diet Dr. Pepper</td>\n",
       "      <td>My package was mailed out 1st and received on ...</td>\n",
       "    </tr>\n",
       "    <tr>\n",
       "      <th>38865</th>\n",
       "      <td>42202</td>\n",
       "      <td>B009DR3GYI</td>\n",
       "      <td>A3HN9CXDWOYPQ</td>\n",
       "      <td>Iaqueenie</td>\n",
       "      <td>0</td>\n",
       "      <td>0</td>\n",
       "      <td>1</td>\n",
       "      <td>1349308800</td>\n",
       "      <td>Delicious</td>\n",
       "      <td>This is the ultimate in flavored coffee. Excel...</td>\n",
       "    </tr>\n",
       "    <tr>\n",
       "      <th>38864</th>\n",
       "      <td>42201</td>\n",
       "      <td>B009DR3GYI</td>\n",
       "      <td>A1ECIT3IBKPQCV</td>\n",
       "      <td>Blaqueniss</td>\n",
       "      <td>0</td>\n",
       "      <td>0</td>\n",
       "      <td>1</td>\n",
       "      <td>1350086400</td>\n",
       "      <td>Coffee Fan</td>\n",
       "      <td>Sooooooo delicious!!!  This coffee is so good ...</td>\n",
       "    </tr>\n",
       "    <tr>\n",
       "      <th>38862</th>\n",
       "      <td>42199</td>\n",
       "      <td>B009DR3GYI</td>\n",
       "      <td>A236IN6J0H7E2V</td>\n",
       "      <td>Steve G</td>\n",
       "      <td>1</td>\n",
       "      <td>1</td>\n",
       "      <td>1</td>\n",
       "      <td>1349827200</td>\n",
       "      <td>Best of the pumpkin kcups</td>\n",
       "      <td>This kcup was pretty tasty once you get past t...</td>\n",
       "    </tr>\n",
       "    <tr>\n",
       "      <th>38861</th>\n",
       "      <td>42198</td>\n",
       "      <td>B009DR3GYI</td>\n",
       "      <td>A8AOI6SNSGY6</td>\n",
       "      <td>Barbara Amante</td>\n",
       "      <td>1</td>\n",
       "      <td>1</td>\n",
       "      <td>1</td>\n",
       "      <td>1349913600</td>\n",
       "      <td>Do Not Buy Here</td>\n",
       "      <td>This is a LOT of money.  I can purchase this s...</td>\n",
       "    </tr>\n",
       "    <tr>\n",
       "      <th>38863</th>\n",
       "      <td>42200</td>\n",
       "      <td>B009DR3GYI</td>\n",
       "      <td>A1NBK07JEBCFI</td>\n",
       "      <td>Jess</td>\n",
       "      <td>1</td>\n",
       "      <td>1</td>\n",
       "      <td>1</td>\n",
       "      <td>1348444800</td>\n",
       "      <td>so good</td>\n",
       "      <td>I normally prefer Starbucks pumpkin lattes to ...</td>\n",
       "    </tr>\n",
       "    <tr>\n",
       "      <th>49648</th>\n",
       "      <td>53915</td>\n",
       "      <td>B009EOLK0C</td>\n",
       "      <td>A3KQ5Q90X2ZCLV</td>\n",
       "      <td>Lynda. Fitzgerald \"Lynda Fitzgerald\"</td>\n",
       "      <td>0</td>\n",
       "      <td>0</td>\n",
       "      <td>1</td>\n",
       "      <td>1349913600</td>\n",
       "      <td>I'm rating the coffee, you understand...</td>\n",
       "      <td>I've always been a Starbucks coffee drinker--t...</td>\n",
       "    </tr>\n",
       "    <tr>\n",
       "      <th>713</th>\n",
       "      <td>768</td>\n",
       "      <td>B009HINRX8</td>\n",
       "      <td>A2CAZG1CQ8BQI5</td>\n",
       "      <td>Patricia J. Nohalty</td>\n",
       "      <td>0</td>\n",
       "      <td>0</td>\n",
       "      <td>1</td>\n",
       "      <td>1337212800</td>\n",
       "      <td>Kona for Tassimo</td>\n",
       "      <td>Of all the coffee's available for Tassimo this...</td>\n",
       "    </tr>\n",
       "    <tr>\n",
       "      <th>709</th>\n",
       "      <td>763</td>\n",
       "      <td>B009HINRX8</td>\n",
       "      <td>A3N9477PUE6WMR</td>\n",
       "      <td>patc477</td>\n",
       "      <td>4</td>\n",
       "      <td>4</td>\n",
       "      <td>1</td>\n",
       "      <td>1323302400</td>\n",
       "      <td>Good Tasting cup o' joe</td>\n",
       "      <td>This is a bold blend that has a great taste. T...</td>\n",
       "    </tr>\n",
       "    <tr>\n",
       "      <th>712</th>\n",
       "      <td>766</td>\n",
       "      <td>B009HINRX8</td>\n",
       "      <td>A39BLB42U7M6BD</td>\n",
       "      <td>James Brooks</td>\n",
       "      <td>0</td>\n",
       "      <td>0</td>\n",
       "      <td>1</td>\n",
       "      <td>1344643200</td>\n",
       "      <td>One of the better T-Discs</td>\n",
       "      <td>I have tried about 75% of the available T-Disc...</td>\n",
       "    </tr>\n",
       "    <tr>\n",
       "      <th>711</th>\n",
       "      <td>765</td>\n",
       "      <td>B009HINRX8</td>\n",
       "      <td>A1OEL4UZT3KKI4</td>\n",
       "      <td>coffee drinker in PA \"coffee drinker in PA\"</td>\n",
       "      <td>0</td>\n",
       "      <td>0</td>\n",
       "      <td>1</td>\n",
       "      <td>1344988800</td>\n",
       "      <td>great coffee - terrible price</td>\n",
       "      <td>This is one of the best choices, in my opinion...</td>\n",
       "    </tr>\n",
       "    <tr>\n",
       "      <th>710</th>\n",
       "      <td>764</td>\n",
       "      <td>B009HINRX8</td>\n",
       "      <td>ADDBLG0CFY9AI</td>\n",
       "      <td>S.A.D.</td>\n",
       "      <td>1</td>\n",
       "      <td>1</td>\n",
       "      <td>1</td>\n",
       "      <td>1326758400</td>\n",
       "      <td>Best of the Tassimo's</td>\n",
       "      <td>We've tried many Tassimo flavors.  This is by ...</td>\n",
       "    </tr>\n",
       "    <tr>\n",
       "      <th>36471</th>\n",
       "      <td>39644</td>\n",
       "      <td>B009KAQZ9G</td>\n",
       "      <td>A3UCO959VA9MV</td>\n",
       "      <td>Maryann Wardach</td>\n",
       "      <td>0</td>\n",
       "      <td>0</td>\n",
       "      <td>1</td>\n",
       "      <td>1299024000</td>\n",
       "      <td>cappucino t-discs</td>\n",
       "      <td>Some product work needs to be done on the disc...</td>\n",
       "    </tr>\n",
       "    <tr>\n",
       "      <th>36469</th>\n",
       "      <td>39642</td>\n",
       "      <td>B009KAQZ9G</td>\n",
       "      <td>A20NB4UBW4WDKG</td>\n",
       "      <td>Gerardo \"GD\"</td>\n",
       "      <td>1</td>\n",
       "      <td>1</td>\n",
       "      <td>1</td>\n",
       "      <td>1293321600</td>\n",
       "      <td>Coffe shop quality capuccino at home</td>\n",
       "      <td>I love coffee. Usually I would not recommend M...</td>\n",
       "    </tr>\n",
       "    <tr>\n",
       "      <th>36470</th>\n",
       "      <td>39643</td>\n",
       "      <td>B009KAQZ9G</td>\n",
       "      <td>A3D9NUCR4RXDPY</td>\n",
       "      <td>Kathleen San Martino</td>\n",
       "      <td>1</td>\n",
       "      <td>1</td>\n",
       "      <td>1</td>\n",
       "      <td>1292544000</td>\n",
       "      <td>Very,Very Good</td>\n",
       "      <td>This cappuccino is very good and tastes almost...</td>\n",
       "    </tr>\n",
       "    <tr>\n",
       "      <th>34007</th>\n",
       "      <td>37008</td>\n",
       "      <td>B009KOHGEK</td>\n",
       "      <td>A36WGHR8TO5DKT</td>\n",
       "      <td>Goldwave \"shopper\"</td>\n",
       "      <td>0</td>\n",
       "      <td>0</td>\n",
       "      <td>1</td>\n",
       "      <td>1349913600</td>\n",
       "      <td>Good if Possibly Adulterated Basic Bison Patties</td>\n",
       "      <td>The seller shipped very quickly and with secur...</td>\n",
       "    </tr>\n",
       "    <tr>\n",
       "      <th>29872</th>\n",
       "      <td>32548</td>\n",
       "      <td>B009NTCO4O</td>\n",
       "      <td>A11RBPFPML8MOU</td>\n",
       "      <td>R. Gibson</td>\n",
       "      <td>0</td>\n",
       "      <td>0</td>\n",
       "      <td>1</td>\n",
       "      <td>1349481600</td>\n",
       "      <td>Update of previous review</td>\n",
       "      <td>This is a resubmittal of a previous review.  O...</td>\n",
       "    </tr>\n",
       "    <tr>\n",
       "      <th>29873</th>\n",
       "      <td>32549</td>\n",
       "      <td>B009NTCO4O</td>\n",
       "      <td>A23VTQHC5P1973</td>\n",
       "      <td>Troy Daniels \"-=TD=-\"</td>\n",
       "      <td>0</td>\n",
       "      <td>0</td>\n",
       "      <td>1</td>\n",
       "      <td>1296777600</td>\n",
       "      <td>Tasty</td>\n",
       "      <td>I was a little nervous about giving this as a ...</td>\n",
       "    </tr>\n",
       "    <tr>\n",
       "      <th>29871</th>\n",
       "      <td>32547</td>\n",
       "      <td>B009NTCO4O</td>\n",
       "      <td>AVFP6Y641X6CZ</td>\n",
       "      <td>Bay Buyer</td>\n",
       "      <td>0</td>\n",
       "      <td>0</td>\n",
       "      <td>1</td>\n",
       "      <td>1350432000</td>\n",
       "      <td>Creamy &amp; Delicious...but...</td>\n",
       "      <td>Cheesecake arrived within a week of ordering. ...</td>\n",
       "    </tr>\n",
       "    <tr>\n",
       "      <th>29870</th>\n",
       "      <td>32546</td>\n",
       "      <td>B009NTCO4O</td>\n",
       "      <td>A8Y0K5BEEW2LP</td>\n",
       "      <td>TrueBlueMissy13! \"Melissa\"</td>\n",
       "      <td>1</td>\n",
       "      <td>1</td>\n",
       "      <td>1</td>\n",
       "      <td>1292544000</td>\n",
       "      <td>Sampler Cheesecake</td>\n",
       "      <td>It's absolutely delicious.  This is the best c...</td>\n",
       "    </tr>\n",
       "    <tr>\n",
       "      <th>29868</th>\n",
       "      <td>32544</td>\n",
       "      <td>B009NTCO4O</td>\n",
       "      <td>A12QG19R576S3Z</td>\n",
       "      <td>BRATSIXXX \"BRATSIXXX\"</td>\n",
       "      <td>6</td>\n",
       "      <td>8</td>\n",
       "      <td>1</td>\n",
       "      <td>1194134400</td>\n",
       "      <td>***A HAPPY*BIRTHDAY,,,</td>\n",
       "      <td>I ORDERED THIS CHEESECAKE FOR MY BROTHER FOR H...</td>\n",
       "    </tr>\n",
       "    <tr>\n",
       "      <th>29867</th>\n",
       "      <td>32543</td>\n",
       "      <td>B009NTCO4O</td>\n",
       "      <td>A2FLFZ91XI48P1</td>\n",
       "      <td>CARLOS PENAGOS ROJAS</td>\n",
       "      <td>4</td>\n",
       "      <td>4</td>\n",
       "      <td>1</td>\n",
       "      <td>1232409600</td>\n",
       "      <td>delicious cake</td>\n",
       "      <td>my experience with \" Omaha\" it is very good, t...</td>\n",
       "    </tr>\n",
       "    <tr>\n",
       "      <th>29863</th>\n",
       "      <td>32539</td>\n",
       "      <td>B009NTCO4O</td>\n",
       "      <td>A16MSLN6N2NG6H</td>\n",
       "      <td>Teresa</td>\n",
       "      <td>17</td>\n",
       "      <td>17</td>\n",
       "      <td>1</td>\n",
       "      <td>1198627200</td>\n",
       "      <td>Omaha cheesecake sampler/ Teresa, ny</td>\n",
       "      <td>I purchased this item for a christmas&lt;br /&gt;gif...</td>\n",
       "    </tr>\n",
       "    <tr>\n",
       "      <th>29866</th>\n",
       "      <td>32542</td>\n",
       "      <td>B009NTCO4O</td>\n",
       "      <td>A1CBP5CSBSEBV7</td>\n",
       "      <td>B. Dow \"Chesapeakeblueeyes\"</td>\n",
       "      <td>6</td>\n",
       "      <td>6</td>\n",
       "      <td>1</td>\n",
       "      <td>1197936000</td>\n",
       "      <td>Excellent Gift to Yourself and Others</td>\n",
       "      <td>This cheesecake is the best.  I sent several o...</td>\n",
       "    </tr>\n",
       "    <tr>\n",
       "      <th>29865</th>\n",
       "      <td>32541</td>\n",
       "      <td>B009NTCO4O</td>\n",
       "      <td>A3DO26SPN14CG1</td>\n",
       "      <td>M. Grinnell</td>\n",
       "      <td>9</td>\n",
       "      <td>9</td>\n",
       "      <td>1</td>\n",
       "      <td>1169164800</td>\n",
       "      <td>Great gift!</td>\n",
       "      <td>I gave this to my Brother-in-law's family for ...</td>\n",
       "    </tr>\n",
       "    <tr>\n",
       "      <th>29864</th>\n",
       "      <td>32540</td>\n",
       "      <td>B009NTCO4O</td>\n",
       "      <td>A2FO1R8FB6BLDI</td>\n",
       "      <td>V. Demand</td>\n",
       "      <td>10</td>\n",
       "      <td>10</td>\n",
       "      <td>1</td>\n",
       "      <td>1191283200</td>\n",
       "      <td>Yum Good</td>\n",
       "      <td>I have ordered this delicious cheesecake twice...</td>\n",
       "    </tr>\n",
       "    <tr>\n",
       "      <th>29869</th>\n",
       "      <td>32545</td>\n",
       "      <td>B009NTCO4O</td>\n",
       "      <td>A1SGWAO6PDKQ53</td>\n",
       "      <td>Female_Jedi_Master</td>\n",
       "      <td>1</td>\n",
       "      <td>1</td>\n",
       "      <td>1</td>\n",
       "      <td>1326412800</td>\n",
       "      <td>~Well received~</td>\n",
       "      <td>I purchased this to send as a gift and the rec...</td>\n",
       "    </tr>\n",
       "    <tr>\n",
       "      <th>35419</th>\n",
       "      <td>38512</td>\n",
       "      <td>B009O7B1I0</td>\n",
       "      <td>A2YWHBF45M64S2</td>\n",
       "      <td>EcyMom</td>\n",
       "      <td>0</td>\n",
       "      <td>0</td>\n",
       "      <td>0</td>\n",
       "      <td>1350864000</td>\n",
       "      <td>Reprehensible</td>\n",
       "      <td>This Trader Joe's product is good quality.  Bu...</td>\n",
       "    </tr>\n",
       "    <tr>\n",
       "      <th>1362</th>\n",
       "      <td>1478</td>\n",
       "      <td>B009UOFU20</td>\n",
       "      <td>AJVB004EB0MVK</td>\n",
       "      <td>D. Christofferson</td>\n",
       "      <td>0</td>\n",
       "      <td>0</td>\n",
       "      <td>0</td>\n",
       "      <td>1345852800</td>\n",
       "      <td>weak coffee not good for a premium product and...</td>\n",
       "      <td>This coffee supposedly is premium, it tastes w...</td>\n",
       "    </tr>\n",
       "    <tr>\n",
       "      <th>5259</th>\n",
       "      <td>5703</td>\n",
       "      <td>B009WSNWC4</td>\n",
       "      <td>AMP7K1O84DH1T</td>\n",
       "      <td>ESTY</td>\n",
       "      <td>0</td>\n",
       "      <td>0</td>\n",
       "      <td>1</td>\n",
       "      <td>1351209600</td>\n",
       "      <td>DELICIOUS</td>\n",
       "      <td>Purchased this product at a local store in NY ...</td>\n",
       "    </tr>\n",
       "  </tbody>\n",
       "</table>\n",
       "<p>46071 rows × 10 columns</p>\n",
       "</div>"
      ],
      "text/plain": [
       "          Id   ProductId          UserId  \\\n",
       "22620  24750  2734888454  A13ISQV0U9GZIC   \n",
       "22621  24751  2734888454  A1C298ITT645B6   \n",
       "2546    2774  B00002NCJC  A196AJHU9EASJN   \n",
       "2547    2775  B00002NCJC  A13RRPGE79XFFH   \n",
       "1145    1244  B00002Z754  A3B8RCEI0FXFI6   \n",
       "1146    1245  B00002Z754  A29Z5PI9BW2PU3   \n",
       "8696    9527  B00005V3DC   A8KY7S48EW7LW   \n",
       "8695    9526  B00005V3DC    APASCXWTM041   \n",
       "8694    9525  B00005V3DC  A2ZYCEEYBUQZND   \n",
       "48736  52952  B00006IDJO  A1NKE5OYRM326V   \n",
       "48731  52946  B00006IDJU  A2CA4TJR6L3J2W   \n",
       "2941    3203  B000084DVR  A3DKGXWUEP1AI2   \n",
       "2942    3204  B000084DVR  A1UGDJP1ZJWVPF   \n",
       "1071    1161  B000084E1U  A3DH85EYHW4AQH   \n",
       "5905    6395  B000084EK5  A1Z54EM24Y40LL   \n",
       "5906    6396  B000084EK6  A1Z54EM24Y40LL   \n",
       "5907    6397  B000084EK7  A1Z54EM24Y40LL   \n",
       "5896    6385  B000084EK9   AUQIKXJAWMOK5   \n",
       "5897    6386  B000084EK9  A1Z54EM24Y40LL   \n",
       "5895    6384  B000084EK9  A2OVA909VD90P6   \n",
       "5885    6373  B000084EKA  A1Z54EM24Y40LL   \n",
       "5886    6374  B000084EKB  A1Z54EM24Y40LL   \n",
       "5887    6375  B000084EKC  A1Z54EM24Y40LL   \n",
       "5888    6376  B000084EKD  A1Z54EM24Y40LL   \n",
       "5894    6382  B000084EKG  A1BU6BSOO8WE5T   \n",
       "5893    6381  B000084EKG  A1Z54EM24Y40LL   \n",
       "5883    6370  B000084EKL  A3INRM1QVW21W9   \n",
       "5884    6371  B000084EKM  A2D1U27937CQQB   \n",
       "5841    6324  B000084EKW  A1L43KWWR05PCS   \n",
       "5840    6323  B000084EKW  A2R6RA8FRBS608   \n",
       "...      ...         ...             ...   \n",
       "8141    8908  B009D668KS  A1YDQ8I5KVNF8P   \n",
       "38865  42202  B009DR3GYI   A3HN9CXDWOYPQ   \n",
       "38864  42201  B009DR3GYI  A1ECIT3IBKPQCV   \n",
       "38862  42199  B009DR3GYI  A236IN6J0H7E2V   \n",
       "38861  42198  B009DR3GYI    A8AOI6SNSGY6   \n",
       "38863  42200  B009DR3GYI   A1NBK07JEBCFI   \n",
       "49648  53915  B009EOLK0C  A3KQ5Q90X2ZCLV   \n",
       "713      768  B009HINRX8  A2CAZG1CQ8BQI5   \n",
       "709      763  B009HINRX8  A3N9477PUE6WMR   \n",
       "712      766  B009HINRX8  A39BLB42U7M6BD   \n",
       "711      765  B009HINRX8  A1OEL4UZT3KKI4   \n",
       "710      764  B009HINRX8   ADDBLG0CFY9AI   \n",
       "36471  39644  B009KAQZ9G   A3UCO959VA9MV   \n",
       "36469  39642  B009KAQZ9G  A20NB4UBW4WDKG   \n",
       "36470  39643  B009KAQZ9G  A3D9NUCR4RXDPY   \n",
       "34007  37008  B009KOHGEK  A36WGHR8TO5DKT   \n",
       "29872  32548  B009NTCO4O  A11RBPFPML8MOU   \n",
       "29873  32549  B009NTCO4O  A23VTQHC5P1973   \n",
       "29871  32547  B009NTCO4O   AVFP6Y641X6CZ   \n",
       "29870  32546  B009NTCO4O   A8Y0K5BEEW2LP   \n",
       "29868  32544  B009NTCO4O  A12QG19R576S3Z   \n",
       "29867  32543  B009NTCO4O  A2FLFZ91XI48P1   \n",
       "29863  32539  B009NTCO4O  A16MSLN6N2NG6H   \n",
       "29866  32542  B009NTCO4O  A1CBP5CSBSEBV7   \n",
       "29865  32541  B009NTCO4O  A3DO26SPN14CG1   \n",
       "29864  32540  B009NTCO4O  A2FO1R8FB6BLDI   \n",
       "29869  32545  B009NTCO4O  A1SGWAO6PDKQ53   \n",
       "35419  38512  B009O7B1I0  A2YWHBF45M64S2   \n",
       "1362    1478  B009UOFU20   AJVB004EB0MVK   \n",
       "5259    5703  B009WSNWC4   AMP7K1O84DH1T   \n",
       "\n",
       "                                          ProfileName  HelpfulnessNumerator  \\\n",
       "22620                                       Sandikaye                     1   \n",
       "22621                               Hugh G. Pritchard                     0   \n",
       "2546                                     Alex Chaffee                     0   \n",
       "2547                                         reader48                     0   \n",
       "1145                                        B G Chase                    10   \n",
       "1146                                           Robbie                     7   \n",
       "8696                                     A. Daly \"AD\"                     0   \n",
       "8695                                         Ed Raton                     0   \n",
       "8694                                  Robby \"Robby C\"                     5   \n",
       "48736  The Amazin' Amazon Guy \"Help Me I'm Too Cool!\"                     2   \n",
       "48731                             yetanotherstephanie                     0   \n",
       "2941                      Glenna E. Bauer \"Puppy Mum\"                     3   \n",
       "2942                     T. Moore \"thoughtful reader\"                     1   \n",
       "1071                                     Eric Hochman                     1   \n",
       "5905                                               c2                     1   \n",
       "5906                                               c2                     0   \n",
       "5907                                               c2                     0   \n",
       "5896                                       Desert Rat                     0   \n",
       "5897                                               c2                     0   \n",
       "5895                              Caryn Trungale Sova                     0   \n",
       "5885                                               c2                     0   \n",
       "5886                                               c2                     0   \n",
       "5887                                               c2                     1   \n",
       "5888                                               c2                     1   \n",
       "5894                                         Jennifer                     1   \n",
       "5893                                               c2                     2   \n",
       "5883                                       Jersey Mom                     1   \n",
       "5884                                Jeffrey A. Groves                     0   \n",
       "5841                                        Lawyeraau                     2   \n",
       "5840                               Matthew G. Sherwin                    12   \n",
       "...                                               ...                   ...   \n",
       "8141                          Rangermenace \"Kinglord\"                     0   \n",
       "38865                                       Iaqueenie                     0   \n",
       "38864                                      Blaqueniss                     0   \n",
       "38862                                         Steve G                     1   \n",
       "38861                                  Barbara Amante                     1   \n",
       "38863                                            Jess                     1   \n",
       "49648            Lynda. Fitzgerald \"Lynda Fitzgerald\"                     0   \n",
       "713                               Patricia J. Nohalty                     0   \n",
       "709                                           patc477                     4   \n",
       "712                                      James Brooks                     0   \n",
       "711       coffee drinker in PA \"coffee drinker in PA\"                     0   \n",
       "710                                            S.A.D.                     1   \n",
       "36471                                 Maryann Wardach                     0   \n",
       "36469                                    Gerardo \"GD\"                     1   \n",
       "36470                            Kathleen San Martino                     1   \n",
       "34007                              Goldwave \"shopper\"                     0   \n",
       "29872                                       R. Gibson                     0   \n",
       "29873                           Troy Daniels \"-=TD=-\"                     0   \n",
       "29871                                       Bay Buyer                     0   \n",
       "29870                      TrueBlueMissy13! \"Melissa\"                     1   \n",
       "29868                           BRATSIXXX \"BRATSIXXX\"                     6   \n",
       "29867                            CARLOS PENAGOS ROJAS                     4   \n",
       "29863                                          Teresa                    17   \n",
       "29866                     B. Dow \"Chesapeakeblueeyes\"                     6   \n",
       "29865                                     M. Grinnell                     9   \n",
       "29864                                       V. Demand                    10   \n",
       "29869                              Female_Jedi_Master                     1   \n",
       "35419                                          EcyMom                     0   \n",
       "1362                                D. Christofferson                     0   \n",
       "5259                                             ESTY                     0   \n",
       "\n",
       "       HelpfulnessDenominator  Score        Time  \\\n",
       "22620                       1      0  1192060800   \n",
       "22621                       0      1  1195948800   \n",
       "2546                        0      1  1282953600   \n",
       "2547                        0      1  1281052800   \n",
       "1145                       10      1   962236800   \n",
       "1146                        7      1   961718400   \n",
       "8696                        0      1  1350172800   \n",
       "8695                        0      1  1350604800   \n",
       "8694                        7      1  1176249600   \n",
       "48736                       7      0  1206835200   \n",
       "48731                       0      1  1209254400   \n",
       "2941                        3      1  1163030400   \n",
       "2942                        1      1  1177977600   \n",
       "1071                        1      1  1140739200   \n",
       "5905                        1      1  1090972800   \n",
       "5906                        0      1  1091059200   \n",
       "5907                        0      1  1090972800   \n",
       "5896                        0      1  1232496000   \n",
       "5897                        0      0  1090972800   \n",
       "5895                        0      1  1325808000   \n",
       "5885                        0      1  1090972800   \n",
       "5886                        0      1  1091059200   \n",
       "5887                        1      1  1090972800   \n",
       "5888                        1      0  1090972800   \n",
       "5894                        1      1  1196035200   \n",
       "5893                        2      1  1090972800   \n",
       "5883                        1      1  1318723200   \n",
       "5884                        0      1  1285718400   \n",
       "5841                        3      1  1125792000   \n",
       "5840                       12      1  1202688000   \n",
       "...                       ...    ...         ...   \n",
       "8141                        0      1  1349308800   \n",
       "38865                       0      1  1349308800   \n",
       "38864                       0      1  1350086400   \n",
       "38862                       1      1  1349827200   \n",
       "38861                       1      1  1349913600   \n",
       "38863                       1      1  1348444800   \n",
       "49648                       0      1  1349913600   \n",
       "713                         0      1  1337212800   \n",
       "709                         4      1  1323302400   \n",
       "712                         0      1  1344643200   \n",
       "711                         0      1  1344988800   \n",
       "710                         1      1  1326758400   \n",
       "36471                       0      1  1299024000   \n",
       "36469                       1      1  1293321600   \n",
       "36470                       1      1  1292544000   \n",
       "34007                       0      1  1349913600   \n",
       "29872                       0      1  1349481600   \n",
       "29873                       0      1  1296777600   \n",
       "29871                       0      1  1350432000   \n",
       "29870                       1      1  1292544000   \n",
       "29868                       8      1  1194134400   \n",
       "29867                       4      1  1232409600   \n",
       "29863                      17      1  1198627200   \n",
       "29866                       6      1  1197936000   \n",
       "29865                       9      1  1169164800   \n",
       "29864                      10      1  1191283200   \n",
       "29869                       1      1  1326412800   \n",
       "35419                       0      0  1350864000   \n",
       "1362                        0      0  1345852800   \n",
       "5259                        0      1  1351209600   \n",
       "\n",
       "                                                 Summary  \\\n",
       "22620                                      made in china   \n",
       "22621                                  Dog Lover Delites   \n",
       "2546                                       thirty bucks?   \n",
       "2547                                        Flies Begone   \n",
       "1145                      WOW Make your own 'slickers' !   \n",
       "1146                                       Great Product   \n",
       "8696                The Best Cleansing Tea I've Ever Had   \n",
       "8695                             Good, effective product   \n",
       "8694                       Best herbal tea for digestion   \n",
       "48736  They Secretly Switched The Coffee At My Favori...   \n",
       "48731                                    Yay!! Finally!!   \n",
       "2941                         Premium Quality Dog Food!!!   \n",
       "2942                                         Good stuff!   \n",
       "1071                                       Cats love it!   \n",
       "5905                 Family favorite - looks like steak!   \n",
       "5906                                         Great food!   \n",
       "5907                                     What's in this?   \n",
       "5896                             Our cats love this food   \n",
       "5897                                  This stuff is bad!   \n",
       "5895                                  Four cats love it.   \n",
       "5885                                   Not their best...   \n",
       "5886                                         Great food!   \n",
       "5887                            Great food for all cats!   \n",
       "5888                                      Needs improved   \n",
       "5894                                  My cat's favorite!   \n",
       "5893                                       Awesome food!   \n",
       "5883                                       Great product   \n",
       "5884                   Our finicky eater's favorite food   \n",
       "5841              MMMMMMMEEEEEEEEEEOOOOOOOOOOOWWWWWWW...   \n",
       "5840       one great big huge high-five--from my cat !!!   \n",
       "...                                                  ...   \n",
       "8141                                real Diet Dr. Pepper   \n",
       "38865                                          Delicious   \n",
       "38864                                         Coffee Fan   \n",
       "38862                          Best of the pumpkin kcups   \n",
       "38861                                    Do Not Buy Here   \n",
       "38863                                            so good   \n",
       "49648           I'm rating the coffee, you understand...   \n",
       "713                                     Kona for Tassimo   \n",
       "709                              Good Tasting cup o' joe   \n",
       "712                            One of the better T-Discs   \n",
       "711                        great coffee - terrible price   \n",
       "710                                Best of the Tassimo's   \n",
       "36471                                  cappucino t-discs   \n",
       "36469               Coffe shop quality capuccino at home   \n",
       "36470                                     Very,Very Good   \n",
       "34007   Good if Possibly Adulterated Basic Bison Patties   \n",
       "29872                          Update of previous review   \n",
       "29873                                              Tasty   \n",
       "29871                        Creamy & Delicious...but...   \n",
       "29870                                 Sampler Cheesecake   \n",
       "29868                             ***A HAPPY*BIRTHDAY,,,   \n",
       "29867                                     delicious cake   \n",
       "29863               Omaha cheesecake sampler/ Teresa, ny   \n",
       "29866              Excellent Gift to Yourself and Others   \n",
       "29865                                        Great gift!   \n",
       "29864                                           Yum Good   \n",
       "29869                                    ~Well received~   \n",
       "35419                                      Reprehensible   \n",
       "1362   weak coffee not good for a premium product and...   \n",
       "5259                                           DELICIOUS   \n",
       "\n",
       "                                                    Text  \n",
       "22620  My dogs loves this chicken but its a product f...  \n",
       "22621  Our dogs just love them.  I saw them in a pet ...  \n",
       "2546   Why is this $[...] when the same product is av...  \n",
       "2547   We have used the Victor fly bait for 3 seasons...  \n",
       "1145   I just received my shipment and could hardly w...  \n",
       "1146   This was a really good idea and the final prod...  \n",
       "8696   I've used this brand for years. If you're feel...  \n",
       "8695   Good flavor, unique in all the teas that I've ...  \n",
       "8694   If you're new to this product you need to be v...  \n",
       "48736  One of the favorite places that I frequent whe...  \n",
       "48731  I've been trying to find the individual-pack o...  \n",
       "2941   We have been using this food for about 6 month...  \n",
       "2942   I'm glad my 45lb cocker/standard poodle puppy ...  \n",
       "1071   I have nine cats and they are crazy about thes...  \n",
       "5905   This is my cat's third favorite food.  It's gr...  \n",
       "5906   This is another favorite in our house.  My cat...  \n",
       "5907   This one is a great basic food. Whatever is in...  \n",
       "5896   Of course, nobody can ever figure out what cat...  \n",
       "5897   I honestly have to say that I just won't buy t...  \n",
       "5895   At 60 years old I have had the care of cats my...  \n",
       "5885   I think 9 Lives does a better job on this vari...  \n",
       "5886   This version is ground.  NOt my current cat's ...  \n",
       "5887   According to my cat, this stuff is just great....  \n",
       "5888   I haven't had a cat yet that liked this one.  ...  \n",
       "5894   My cat is so picky! I've tried every brand and...  \n",
       "5893   This is my cat's favorite one.  He just licks ...  \n",
       "5883   This is the only food my cat will eat.  If I b...  \n",
       "5884   This flavor of Fancy Feast is decidedly the fa...  \n",
       "5841   These Fancy Feast Variety Packs, which contain...  \n",
       "5840   My cat LOVES Fancy Feast cat food; and this va...  \n",
       "...                                                  ...  \n",
       "8141   My package was mailed out 1st and received on ...  \n",
       "38865  This is the ultimate in flavored coffee. Excel...  \n",
       "38864  Sooooooo delicious!!!  This coffee is so good ...  \n",
       "38862  This kcup was pretty tasty once you get past t...  \n",
       "38861  This is a LOT of money.  I can purchase this s...  \n",
       "38863  I normally prefer Starbucks pumpkin lattes to ...  \n",
       "49648  I've always been a Starbucks coffee drinker--t...  \n",
       "713    Of all the coffee's available for Tassimo this...  \n",
       "709    This is a bold blend that has a great taste. T...  \n",
       "712    I have tried about 75% of the available T-Disc...  \n",
       "711    This is one of the best choices, in my opinion...  \n",
       "710    We've tried many Tassimo flavors.  This is by ...  \n",
       "36471  Some product work needs to be done on the disc...  \n",
       "36469  I love coffee. Usually I would not recommend M...  \n",
       "36470  This cappuccino is very good and tastes almost...  \n",
       "34007  The seller shipped very quickly and with secur...  \n",
       "29872  This is a resubmittal of a previous review.  O...  \n",
       "29873  I was a little nervous about giving this as a ...  \n",
       "29871  Cheesecake arrived within a week of ordering. ...  \n",
       "29870  It's absolutely delicious.  This is the best c...  \n",
       "29868  I ORDERED THIS CHEESECAKE FOR MY BROTHER FOR H...  \n",
       "29867  my experience with \" Omaha\" it is very good, t...  \n",
       "29863  I purchased this item for a christmas<br />gif...  \n",
       "29866  This cheesecake is the best.  I sent several o...  \n",
       "29865  I gave this to my Brother-in-law's family for ...  \n",
       "29864  I have ordered this delicious cheesecake twice...  \n",
       "29869  I purchased this to send as a gift and the rec...  \n",
       "35419  This Trader Joe's product is good quality.  Bu...  \n",
       "1362   This coffee supposedly is premium, it tastes w...  \n",
       "5259   Purchased this product at a local store in NY ...  \n",
       "\n",
       "[46071 rows x 10 columns]"
      ]
     },
     "execution_count": 406,
     "metadata": {},
     "output_type": "execute_result"
    }
   ],
   "source": [
    "gapminder['year']==2002"
   ]
  },
  {
   "cell_type": "code",
   "execution_count": 405,
   "metadata": {},
   "outputs": [
    {
     "data": {
      "text/plain": [
       "[0]"
      ]
     },
     "execution_count": 405,
     "metadata": {},
     "output_type": "execute_result"
    }
   ],
   "source": [
    "data_pos"
   ]
  },
  {
   "cell_type": "code",
   "execution_count": null,
   "metadata": {},
   "outputs": [],
   "source": []
  },
  {
   "cell_type": "code",
   "execution_count": null,
   "metadata": {},
   "outputs": [],
   "source": [
    "final_pos"
   ]
  },
  {
   "cell_type": "code",
   "execution_count": 476,
   "metadata": {},
   "outputs": [
    {
     "data": {
      "text/plain": [
       "['dogs loves chicken product china wont buying anymore hard find chicken products made usa one isnt bad good product wont take chances till know going china imports',\n",
       " 'dogs love saw pet store tag attached regarding made china satisfied safe',\n",
       " 'product available victor traps unreal course total fly genocide pretty stinky right nearby',\n",
       " 'used victor fly bait seasons ca not beat great product',\n",
       " 'received shipment could hardly wait try product love slickers call instead stickers removed easily daughter designed signs printed reverse use car windows printed beautifully print shop program going lot fun product windows everywhere surfaces like tv screens computer monitors',\n",
       " 'really good idea final product outstanding use decals car window everybody asks bought decals made two thumbs',\n",
       " 'used brand years feeling clogged ate massive meal sips tea new make sure home work little well know mean careful first couple times using try little sips see result morning earlier follow lots water',\n",
       " 'good flavor unique teas tried tea effective cleansing one system not harsh regular laxative consumed daily needed',\n",
       " 'new product need careful dosage strong batches stronger others',\n",
       " 'one favorite places frequent afford nice meal pungent moon trenton besides steaks macadamia encrusted tilapia one best things place heavenly coffee serve fine desserts coffee actually one main reasons go one night enjoying meal asked coffee dessert got served rancid stuff almost spit first sip table run bathroom gagging made back table barely asked waiter wide world sports happened coffee said filming television commercial folger secretly replacing coffee folger film people reactions coffee switch needless say not get commercial would not savvy marketing folger show guy gagging making beeline bathroom tasting coffee not know got people commercials rave coffee not anyone restaurant people not reaction lot making faces like would smelled dead octopus dirty trick would think folger would bagged idea commercial seeing people reactions guess found schmo say liked someone wanting tv go figure',\n",
       " 'trying find individual pack option affordable price months love ability know exactly much creamer using counting individual packets product not available grocery store coffee dispensers local convenience stores perfect keeping desk work not use community fridge not lump coffee like powdered versions little less convenient home though accustomed using refrigerated bottled versions opening little packets one time get annoying know exactly much creamer adding coffee instead dolloping random splash need someone add sugar free versions coffee mate amazon selection hint hint',\n",
       " 'using food months find excellent fact two dogs coton de tulear standard poodle puppy love food thriving coats excellent condition overall structure perfect good tasting dog good good deal owner around best food ever used excellent',\n",
       " 'glad cocker standard poodle puppy loves stuff trust brand superior nutrition compare labels previous feed pedigree mostly corn little dude healthy happy high energy glossy coat also superior nutrition produces smaller compact stools',\n",
       " 'nine cats crazy kibbles last thing want cat food cats hate buying',\n",
       " 'cat third favorite food great stuff gravy thick food looks like bits steak slicked friend cat licks bowl clean every time wants send discounts much stuff buy buy case gives idea',\n",
       " 'another favorite house cat not want times month still wants licks bowl clean fish not favorite really likes salmon one outstanding ground not make sliced bits version not favorite either get pretty quickly try one definite winner',\n",
       " 'one great basic food whatever cats really go mine no exception current cat really not like ground variety eat occasionally buy twice year previous cat often really enjoyed hard judge cat eat cat likes ground give one go really seems big favorite',\n",
       " 'course nobody ever figure cats like experience opposite one star review two bengal cats ate kibble years serious teeth problems switch canned food tried different brands flavors would eat days turn noses even expensive food vet not please tried friskies sea captains choice flavor went nuts gobbling like candy bought cans time figuring would tire no eating gusto coupe months buy case not understand not smelling good perhaps got bad batch smells like cat foods us pate easy dish long cats love complain',\n",
       " 'honestly say not buy variety looks bad smells bad sure tastes bad cat not touch no way no not even look cat way one looks like huge ground mess leftovers fish market sure cats must like still made things much much better one',\n",
       " 'years old care cats entire life presently four cats three barn cats one came woods adopted us cats love gobble friskies pate varieties mariner catch sea captain choice ocean whitefish tuna also serve foster parent local pet shelter find varieties food best tolerated completely consumed varieties salmon pate rich use special treat incidentally cats always reach great age friskies cat kitten died years old jumped high bed severely injured spine time happened vet asked food used years always friskies dry wet pet foods find best value maintains pet good health right end youngest cat died care years old cats permanent pets countless foster pets years',\n",
       " 'think lives better job variety friskies say cat friskies not look fresh appetizing lives cat not like well smells nasty looks not quite good lives think could definitely better variety maybe even add cheese cat leaves one dish eats lives version',\n",
       " 'version ground not current cat favorite version really likes taste wish would make one not ground pieces variety previous cat really liked one usually licked bowl clean neither wanted twice month not know seems little richer others',\n",
       " 'according cat stuff great licks hours eating one loves taste lick bowl clean one eats usually pretty quickly still not want times month fish not exactly favorite food great diversion regular fare one truly appreciates',\n",
       " 'not cat yet liked one little interesting think smells nasty think taste really gets current cat not touch might eat couple bites really hungry always wind throwing one ground cat likes pieces not try one',\n",
       " 'cat picky tried every brand flavor cat favorite',\n",
       " 'cat favorite one licks bowl clean whenever gets usually buy case one time judging often sells cats must love cheese hunks large look quite tasty nice variety something sure every cat loves previous cat ran whenever got give current cat no different give one try glad',\n",
       " 'food cat eat buy another variety brand sits bowl gets stale throw',\n",
       " 'flavor fancy feast decidedly favorite waif cat usually picky eater trout flavor really gets excited local store ran flavor may not restock ordered online got good price case food arrived good condition little confused old label image web site different enough new label double check getting item expecting turned correct item well',\n",
       " 'fancy feast variety packs contain twenty four cans always ensure good supply cat food hand also not waste time stacking individual cans always box one gourmet variety pack fish seafood based hand contains eight cans ground ocean whitefish tuna salmon cod well sole shrimp also always hand fancy feast sliced variety pack contains eight cans beef chicken hearts livers turkey addition also box fancy feast grilled variety pack hand times contains eight cans grilled beef turkey chicken savory sauce cat mamushka loves',\n",
       " 'cat loves fancy feast cat food variety pack particular makes mealtime veritable newsworthy event always eats loves tell get eight cans ocean whitefish tuna feast eight cans savory salmon feast cod eight cans still sole shrimp feast good food nutritional content always look buy food cat vitamin e like naturally ask vet concerns cat personal individual needs nutritional content daily diet catch sale stock however would use cans food within six months buying overall one better brands cat food recommend cat love nutritional content great',\n",
       " 'innova evo cat kitten food dry bag not good fancy feast',\n",
       " 'cat loves fancy feast cat food variety pack particular makes mealtime veritable newsworthy event always eats loves tell get eight cans sliced chicken hearts liver feast eight cans sliced turkey feast cod eight cans still sliced beef feast also come gravy flavoring good food nutritional content always look buy food cat vitamin e like naturally ask vet concerns cat personal individual needs nutritional content daily diet catch sale stock however would use cans food within six months buying fancy feast one better brands cat food recommend cat love nutritional content great',\n",
       " 'stuff really nice around special treat cat would not introduce regular daily diet may wind poor house pricey cans small want spoil cat birthday holidays etc great cat not really care prefers chicken hearts livers could care less not buy occasionally really not worth much not care much taste not drive dish actually leaves lot wants regular old friskies persian like commercial mine not really like',\n",
       " 'fancy feast variety packs contain twenty four cans always ensure good supply cat food hand also not waste time stacking individual cans always box one sliced variety pack contains eight cans beef chicken hearts livers turkey also always hand fancy feast gourmet variety pack contains eight cans ocean whitefish tuna salmon cod sole shrimp combo addition also box fancy feast grilled variety pack hand times contains eight cans grilled beef turkey chicken savory sauce cat mamushka loves every morning meows serve fancy feast proceeds devour',\n",
       " 'get stuff club less dollars come fish packs different kinds cans meat also kinds cans',\n",
       " 'vizslas done well food since switched foster smith food last year',\n",
       " 'read lot health benefits using canidae dogs think seen evidence healthier skin dog skin issues',\n",
       " 'best dog food ever hadi adopted rottweiler mamma mia local pound not good shapeher coat thin sheher backbones hip bones stuck dandernow month thick coat no dander gained lbshe eating cups daythis great stuff loves',\n",
       " 'canidae excellent food meat based great people looking top quality dog food not want break bank know lot people not afford dog food extremely expensive yet not want feed cheap fillers grain based foods person tight budget canidae worth try notice big difference energy well skin coat lot senior dogs switch als formula zoomies energy lower quality diets canidae worth every penny',\n",
       " 'food amazing got dog fed canidae saw clean coat healthy looked went got cat version big cat lost weight looks best years little kitten healthy gaining good amounts weight not getting plump not like cat foods like mcdonalds pets no sudden highs lows eating thought pet food pet food never change food pets amazing give weeks see',\n",
       " 'fed dogs canidae months problems soon switched formula went happy completely unsatisfied dogs broke hot spots itched time like reviews say chronic digestive upset would not touch food soon switched foods went back normal also emailed company emailed back saying no way food food highest quality dogs make sure buy food feeding trials know may think cruel really want food trials done pets canidae',\n",
       " 'new food changed formula need introduced animals slowly slowly however not given option canidae ran old stages life dry dog food purchased new bag new formula no warning label none old mix problem four dogs years old granted changes may added benefit new formula not benefit not notify consumers quite extensive change additional items recipe meanwhile deal dogs vomiting bloody diarrhea well vet bills past days canidae neglectful oversight not informing consumers found new formula days ago researching canidae web found disgruntled consumers give star one good thing say canidae old formula great way thank god not compared recall last year killed thousands pets way wrong old formula',\n",
       " 'relied canidae dogs years nice maintenance food dogs could eat last bag purchased smelled looked different almost immediately feeding dogs mastiff became ill bloated belly diarrhea lethargic next day schnauzers became ill symptoms checked bag food found nothing written far new formula cooked boiled chicken rice symptoms went away checked line found many complaints canidae professional dog groomer recommended food took bag back pet store refund found better food feed dogs canidae changing formula cost vet bill mastiff carpet cleaning bill pass brand stores',\n",
       " 'used canidae products exclusively dogs many years great results healthy shiny coats active beautiful however sheltie chow mix recurring ear problems life vet could not identify problem ears not infected always looked red irritated tried everything nothing really helped one day whim bought new grain free canidae surprise ears cleared almost immediately time looking elusive infection apparently wheat allergy test theory one day fed piece bread wheat next day tugging ears back grain free canidae dogs love sheltie mix passed birthday going strong',\n",
       " 'dogs love canidae maintenance formula life stages look ingredient list easy see find lots chicken turkey lamb rice sorts good stuff unlike lot subpar dog foods no corn plus dogs love taste great value quality food would recommend dog owner',\n",
       " 'researching dog food years living japan us military ordering dog food petco online tried solid gold hund n flocken dvp natural balance costco kirkland super premium eukanuba fp prescription diet hills zd ultra allergen free prescription diet able source canidae solid gold foods locally dal serious allergies foods better results super pricey prescription diets sold candidae pay lb sack not bad considering sourcing locally tokyo economy dogs love food solid gold believe fine foods food looks tastier solid gold wolf pup feeding german shepherd seems heartier hund n flocken well looks like must taste good dogs go nuts like crack addiction happy found solution applicable dogs something said companies go extra mile man best friend not right feed pets crap sell stores used think eukanuba great dog food thank god internet buy food not disappointed',\n",
       " 'proven excellent food bulldog no longer tear stains coat luxurious actually eats less food nourishing heartily recommended',\n",
       " 'black lab eating canidae life stages dry dog food since switched puppy food canidae early breeder recommended dog food well old formula except thought seasonal hot spots would chew hair insides legs also behind since purchasing latest bag three weeks ago throwing frequent burping smells vomit horribly smelly flatulance clean carpet poop accident two days ago initially upset find latest bag sized lbs lb sent e mail telling would rather pay something sized response economy industry faced challenging times commodities energy cost time high continue sky rocket ended response condescending comment also lot positive feedback women shoppers love new sizes handle much better unloading car talking dog breeder discovered formula changed dogs many breeders dogs problems new formula canidae team not mention formula change asked sizing would nice started searching internet found horror stories dogs becoming sick new formula plus many dog owners upset canidae not make much effort inform customers new formula change sent another e mail canidae regarding formula change lack informing customers dog reacting not address comments making dog others sick stated best post changes internet reading posts not case also found forum postings internet canidae partnership diamond pet foods diamond involved dog food recalls dogs dying tainted food maybe since recall deaths diamond cleaned act stringent guidelines inspections wants take chance comes beloved dogs',\n",
       " 'canidae paws customer since feb lg dogs previously fed purina one switched blue buffalo dec canidae feb food scare blue buffalo particular give dogs dog died cancer knee replacements due arthritis joint issues dogs great canidae spoke w canidae less mins ago not changed product read review person gave product great review thinks product changed due dogs digestive issues something like left msg canidae mins ago already called back work answer questions unlike blue food scare seen blog concerning something acetaminophen canidae false lady said canidae foods tested putting baggie together blah blah way false allegation internet spreads rumors like wildfire drive hrs stock canidae highly recommend',\n",
       " 'nine year old dingo used get smelly month iams three months since last bath brush no smell canidae old chihuahua iams puppies kept sneeking canidae dingo eats scaf like crazy buzz dingo weight improved without starving best dog food price good although buy pet store',\n",
       " 'found dog food research help dogs allergies goldens dog terrible allergies canidae life stages weeks no itching scratching ear infections vomiting fur silky happy healthy use food cost calculator dog eats less many garbage filled brands also offer coupons web site really not expensive cats switched felidae also highly recommend',\n",
       " 'tried different foods puppies brand actually seem enjoy tried science hills diet purina puppy chow iams finally decided needed find something not sorts fillers decided try canidae not know eat right away produces lot less poop kinds food would see sit hours hours plus purina gave stinkiest biggest icky poop poop gotten lot smaller not need go much seen stuff online though first stating caused dogs sick worried feeding first time however no problems think bad batch not long ago great think best filler less food price',\n",
       " 'using food years since read raving reviews many sites looking reasonably priced food better quality cheap chain crap not want pay pound high quality food canidae right budget quality needs dog loves not really judge alone lab eat anything however coat nice stool right consistency hardly ever ill also never ever gas burp time time not smelly like others mentioned not happy price increased quality supposedly dropped bit still happy food overall continued use always lookout high quality food reasonable price anyone knows something high quality around price point please respond post let know different note person actually hear formula change late went purchase food saw bag discontinued went looking reason make sure not issues right website mentioned formula change bag change proper way transition dog old new food avoid digestive issues full bag old formula left followed instructions guess no issues whatsoever transition dog not get sick not single problem food new old formula',\n",
       " 'huge fan canidae beginning month ago company changed formula cheaper raw materials smaller bags worst outsourced manufacturing diamond pet foods yes company linked multiple recalls past please search google consumeraffairs com not giving dog brand anymore mass produced garbage iams eureka etc',\n",
       " 'dogs enjoy food seem lively excited eat happy also not made menu foods peace mind factor high great product',\n",
       " 'happy see could order product online shipped home difficult find stores',\n",
       " 'bought food adult male chiweenie two female chiweeniepom puppies researched finally deciding get particular brand glad get brand dogs absolutely love buying canidae puppies purina puppy chow adult eating kibbles n bits brand healthy poop smelled horrible knew much healthier food gave adult see liked indeed attempted try feed last bit junk food left would not touch dry food eat canidae nothing else puppies love read bad reviews chose still buy hope good outcome good dogs healthier ever not diarrhea vomitting weightloss unhealthy weight gain anything read reviews dogs also no allerges know either another plus poop not smell bad either mean still stinks nothing like started feeding canidae thursday july two months later healthier ever no adverse effects veterinarian likes',\n",
       " 'not dog love food got super quick time enough food dog next month half english bulldog keeps slim shape already ordered three times continue order long amazon thank would recommend people whos dogs overweight need natural food no products etc dog happy stay slim live longer',\n",
       " 'miniature schnauzer giant schnauzer wanted buy one type food worked perfectly gentle seemed digest better much less poop better quality best big box store stock definitely purchase',\n",
       " 'although not buy canidae amazon wanted rave quality dealer operate pet boarding facility switch dogs everyday canidae without mixing diets due nature business saves tons labor dogs not gobble not get upset tummies feeding pack competitive working dogs border collies australian shepherds years boarding dogs per day not found anything even close quality value canidae many kennels try cut corners feed believe paying little canidae made money dogs feel great kennels stay clean owners peace mind less poop scoop big deal around strong supporter feed company puts together natural excellent ingredient product tried many completely sold canidae',\n",
       " 'dogs love food service always fast reliable',\n",
       " 'fed dogs science diet iams years grew concerned recalls tainted food research found canidae uses high quality ingredients u dogs like much iams science diet feel great eating healthier food',\n",
       " 'ca not change rating give star used canidae last year dogs thrived coats dull scratch lick time loose stools eat hungry understand commodities going would rather raised prices rather switch ingredients without warning gotta go hunt another brand good dogs not part original recall may time buy cow',\n",
       " 'puppy week bernese mountain dog sensitive stomach frequent diarrhea expensive vet prescribed diet first two weeks eventually needed growth oriented food switched eukanuba large breed puppy recommendation vet still rarely solid stools also day coat seemed less shiny ton dandruff scratched like crazy week canidae gradually mixing decreasing eukanuba stopped itching poop way solid far less frequent know no perfect pet food dog sensitive stomach possible allergies thinking corn another filler eukanuba iams uses canidae could godsend every dog deserves better quality food one products ton fillers like pup simply not handle low quality stuff',\n",
       " 'pretty scary reading reviews learned switch new formulas canidae quite back stuck german shepard cat went switch fine baffles many great experiences listed see bad ones wonder innocent little dogs not something else going instead getting bad food maybe not work everyone dog anyway kids active age great canidae felidae seems best combination high quality ingredients reasonable price big fan receommend anyone fact cat loves new formula even old getting little fat',\n",
       " 'warning not even make food licensed another company look back bag not even list made says guaranteed canidae asked made either completely given huge run around thing ever got state made would not even tell companythis dangerous pet food recalls happened years ago sourcing manufacturing',\n",
       " 'ok several dog food brands high end holistic fancy stuff ruff lol times finding works perfect female rhodesian ridgeback wont bash brands seem food seems work one pup not another dont jerk think food crap not work dog good owner look things like react well said neurotic edge dog huge shedding issues rr not shed food like miracle cure year poor little girl trying different foods gets complements great looks strangers walk streets used high end prices food also value seeing get make difference trust us full five star no shedding great coat healthy mind value not afraid try others arnt working dog even want puppy look even better',\n",
       " 'oh goodness year old pug beagle mix lethargic years would not really play dull coat no matter much groomed itchy paws armpits long time never knew crap big name brand dog foods always purina sort started research blown away read quickly became obsessed finding better food without paying arm leg refuse pay dogs food food researching different dog foods prices brands different websites went canidae life stages chicken turkey lamb fish via amazon free super saver shipping year old puggle new week old labrador retriever puppy not regretted change purchase absolutely thrilled year old not nearly itchy crazy shiny coat kinds energy keep puppy also breeder new lab purina pro plan large breed switched right away even coat looks much better weeks not wait see difference two next months get little bit constipated transition period old foods canidae little bit canola oil days drizzled breakfast dinner fixed bodies adjusted regular no problems also transition could not get either eat even one piece old food would pick canidae gobble leave old food bowl later famished funny watch great product great service definitely continue order lb bag via amazon packaging poor different issue box food shipped not even big enough bag ups driver brought food pieces box laying top bag oh well still thrilled product update several months later dogs still fantastic canidae food puppy coat actually sparkles like put glitter sunlight crazy puggle shedding third used thing ever chews one paws vet gave spray still thrilled food amazon price free shipping',\n",
       " 'belgian malinois amazingly well food coats looked better canidae food even eliminated horrible gas large dogs known amazon upped price bag switched diamond naturals not coats begin lose sheen awful smelling gas came back well putting back canidae worth',\n",
       " 'good product dog older almost years food kept healthy years foods make sick stomach alwasy well canidae slightly expensive amazon locally takes week local store special order worth',\n",
       " 'dog month wanna change food adult food feeding science diet big breed puppy food problem not wanna eat food everytime feeding food favoraite treat dog want hudsband stand right around hard feed everyday today got canidae food fed like canidae science diet together dog jumped food bowl held soon put food ate like vaccum really surprised fast ate food without treat searched onine reliable site recommend',\n",
       " 'far best dog food given dog problems dog eating almost year started dog food would not want eat feed twice day splitting daily amount not interested would eat little bit day switched food eaten dog food whole amount every day also read dog food rating website best dog foods canidae one top dog foods market makes feel good giving dog something loves also healthy let say energy doggie friends play longer harder know give quality dog food',\n",
       " 'dog food food breeder uses dogs adult puppies continued feed puppy canidae got turning fine dog rod',\n",
       " 'dogs eating canidae years always done well food currently three dogs no issues new formulations say black lab mix even brighter coat love came bag three dogs go lot dog food definitely recommend food',\n",
       " 'otherwise healthy active year old rottweiler switched blue buffalo canidae came highly recommended holistic pet store frequent going next get earful shortly noticed stool became loose common change dog diet mixed new food old week gradually increasing amount new figured would get better days fact became increasingly worse point spots blood showing stool took vet thinking point must picked parasite test came back negative vet thought must something ate recommended feed chicken rice week even problem solved week put back regular food canidae problem began return albeit gradually started see spots blood convinced not something picked dog food learned actually class action suit dog food maker exact problem described cases people dogs even died never purchase brand switching dog immediately back blue buffalo time no mixing',\n",
       " 'told improve diet true pets probably not aware crap meats fillers used produce popular name brand foods expensive advertizing canidae not cheap either quality ingredients sons collie gets since month fur much shinier dog not smell loves food',\n",
       " 'reading book deadly feasts horrified learn kinds items may end dogs food started researching different dog foods consistently received brand recommendations innova canidae wellness chicken soup dog lover soul etc initially settled canidae also tried wellness recommendation wellness produced loose stools two foster poodles no longer use brand canidae however perfect multi dog household often includes dogs ranging puppyhood senior status ingredients phenomenal reviewers said food contains no corn wheat soy common allergens dogs although also use would recommend innova evo dry dog food canidae costs pounds innova costs pound bag budgeting bit would still like give dog best canidae great switching dogs canidae noticed several things first labrador retriever coat sheen increased point nearly blinding sunglight second lost pounds developed greater muscle tone although always fed recommended portions commercial foods third shedding dogs shed lot less past fourth bad doggy breath greatly reduced see no excuse not switch dog commercial food canidae another super premium brand costs no fancy bag iams science diet add quality years pets lives dog prone allergies poodle food not beat family adopt malipoo emailed say cannot feed anything canidae develops loose stools needs taken bathroom contantly dog sake switch food lot better chain store foods',\n",
       " 'fed dogs canidae since days ago no problems highly recommended food everyone would listen no longer case recently canidae decided change formula without notice placed bag two weeks first last bag canidae every buy one dogs began chewing feet prior days ago never hot spot anything close cannot get stop chewing red soaking wet paws one expensive vet bill later vet said allergic reaction allergies not want dogs miserable allergies besides constant chewing not one dogs firm stool since first meal new formula one dogs prone anal glad issues critical firm stool addition issues breeder recommended food feeding dogs canidae much longer taken dogs food dogs became violently ill vomiting non stop itching acting lethargic contacted many many people knows use canidae issues many taken dogs vet switched different food not made canidae bad chose make change lost countless loyal customers trying save money rice not imagine business much longer updated moved dogs california natural breeder also switched dogs california natural far everyone great canidae got systems',\n",
       " 'although not bought canidae amazon local store near carries life stages bag wanted write remark impressed food almost year old chocalate lab got breeder weeks eukanuba stayed talking friend breeds world class vizlas told feeds canidae wonderful switched canidae thank god ever since chocalate lab people actually think black lab darkest chocolate lab u ever seen coat beautiful glossy eukanuba light brown discolored coats huge problem choc labs canidae solved problem problems menu foods include called good foods like eukanuba science diet iams etc relief trust canidae not worried impressed overall',\n",
       " 'switched canidae sciencediet reading dog foods internet not noticed major differences dogs habits frequencies eating habits acted finicky sometimes would take day finish one bowl food eats whole helping less seconds really seems like food sticking brand looks like',\n",
       " 'rescued greyhound great canidae got last order last month mess digestively email discussion group greyhounds seen lots complaints well confirmation formula changed definitely not working dog anymore also aware used lb bags price sell lb bag know everyone hurting financially think case dogs got sold river bucks disappointing',\n",
       " 'bought small bag canidae give try always trying new foods dogs normally serve kinds food dinner whenever put canidae dish dogs would always eat food first glad bought small bag price food appealing dogs not like glad gone never buy',\n",
       " 'brought one small package canidea oversea agent ago puppy tried french brand first mixed together seems ok old finished something weird happened started eating stools yes also vomited white yellowish foam coughing totally swished brand even sent vet checking blood taking pills medical treat thinking might catch cold anyway feel lucky vet cost much cheaper refuse eat little really hungry time would rather biting bone glad saw comments change brand asap',\n",
       " 'adopted penelope mo old min pin hound mix couple weeks ago decided switch purina pro plan w shredded chicken premium food reading many conflicting reviews site elsewhere decided try canidae sister feeds canidae great results local pet store cheapest premium foods narrow margin mixed little canidae penny kibble guess pieces total breakfast dinner watched closely within day noticed changes first lost little focus training seeming bit confused usual no biggie also sneezed times never sneezed importantly though noticed started nibble chew feet continued sporadically another day half not constant serious not seem agitated not bite feet point redness bleeding still clear caused change diet nothing else routine changed pieces canidae per day read reviews canidae new formula known might happen made decision switch right away lot research decided try solid gold hund n flocken puppies mixed solid gold proportions canidae nibbling stopped immediately no sneezing either focus seems improved well though not completely credit food puppies days still clear serious allergy problems resolved done research dog foods already know finding right food requires go beyond ingredient list foods not work dogs however good look paper indeed convinced many hours reading reviews no food works dogs said clear many many people problems new canidae formula premium super premium brands knows canidae claims new formula no changes could account allergies cares feel free try canidae dog watch closely better yet wish start different brand nothing special canidae ingredients list risk',\n",
       " 'fed canidae two dogs almost years always ate eagerly never stomach upset got raves vet muscle weight coats food last summer opened fresh bag kibble exact packaging bought usual store immediately noticed much lighter color previous bags fed anyway within day aussie bulletproof stomach absolutely no digestive issues began horrible gas softer stools really loud liquidy gurgling noises abdomen continued feed entire bag thinking would adjust eventually dog fine well aussie never adjust spent month symptoms dreaded mealtimes stench sounds would create kibble next bag bought old normal shade brown aussie stomach noises soft stools awful gas went away practically overnight hearing reading canidae developed new formula making dogs sick stories people whose dogs got far sicker dodgy responses long time customers got canidae called complain unannounced change made us decide time new dog food went healthwise premium kibble made company makes innova california natural evo not worth continue loyal canidae risk dogs perhaps getting sick many others read canidae new formula horror stories consumeraffairs com',\n",
       " 'dog canidae almost years loved healthy full shiny coat plenty energy suddenly around december started vomiting loose yellow stools became lethargic took vets several hundred dollars tests could not find anything wrong research found numerous people exact problems turns recently changed formula changed manufacturers decreased amount food package research not high quality food used',\n",
       " 'used dog food years year ago reduced size bag increased price continued buy no one told change formula elderly dog started getting hot spots vomiting yellow stuff thought upset tummy vet treated antacids cortizone creams poor dog lousy time drinking massive amounts water kindeys blood sugar checked ok last month changed california naturals costs less get cheaper store stopped vomiting not drink much water not even think reading reviews online saw symptoms people dogs not go back canadae keep away crappy dog food dog least bit sensitive create toxic effects dog poisonious dogs allergies',\n",
       " 'surprised lot negative comments canidae year old german shepherd picky eater sensitive skin tired brands food innova natural balance taste wild evo scratches bites constant canidae beautiful shinny coat not itch loves amazing difference stools sometimes loose nothing complain worry not putting foods saying canidae food wonders gotten wuite comments shinny coat every dog different need find perfect dog food like use chicken version dog food analysis notice star rating jetta happy candiae',\n",
       " 'using canidae years along nuvet vitamins wonderful product ingredients change not noticed sort change siberian huskies ever still high energy lush coats white teeth great done density happy product no problems',\n",
       " 'not bad good deal big bag food especially kind dog food bad salmon one costs alot',\n",
       " 'would not recomend food chihuahuas greyhound eat food free feed lost excessive weight eat eat still loose weight dogs healthy vet vet said food changed diet wk gained weight back lost',\n",
       " 'adoption worker local humane society recommended product grain free high meat content dog loves food relatively small dog still puppy stage kibbles right size bit pricier supermarket brands dog foods think dog health worth extra minor investment',\n",
       " 'feeding two labradors food yrs well older lab seems thrive despite level arthritis hips still active not mean ascribe canidae soley certainly helps',\n",
       " 'came across canidae adopted week puppy whose mother transitioned not know care properly went local pet store said canidae food use use throughout life simply wet food first weeks going completely dry loved throughout also feed pound goldendoodle loves well definitely great find',\n",
       " 'like dog food dog high quality not expensive say though bag came ragged opened',\n",
       " 'fine food time early august bought two bags formula old lb dog lamb meal rice year old loose stools entire time older dog finished bag switched innova diarrhea cleared immediately argument canidae makes web site needing make slow transition best specious throw remaining food young dog get back normal investigate large number complaints web new formula exposing pet',\n",
       " 'switched solid gold merrick wilderness solid gold sold dogs terrible gas merrick likely unnecessary fruits switched canidae well ordered amazon free shipping cheaper getting local store',\n",
       " 'good quality product cheaper easier get amazon local pet store switched merrick dogs terrible gas great ingredient list',\n",
       " 'tried natural dog foods grain fillers dog liked never reacted way natural no grain dog food hardly wait feeding time gobbles licks bowl clean seems energetic since eating canidae no grain doubt ever change',\n",
       " 'table scraps canidae brand dry wet feed blk lab done excellent healthy shinny coat people routinely comment nice coat looks even ask feed sent bag brother noticed dog coat healthier looking week two highly recommend product',\n",
       " 'fyi customers item beef ocean fish formula red bag haste purchased thinking version chicken rice formula woops went bought bag chicken rice mix beef fish not wreak havoc pup digestive system say started feeding pup starting stinky farts never also roshan right fish breath ick overall dog no issues formula stinky stick chicken rice bag done',\n",
       " 'four month old st bernard puppy always fed year old german shep hill science research found awful stuff always thought expensive meant good even picky gs eats no canned dog food incentive course puppy eat anything everything lol coat beautiful not digestion problems love usda grade meat no corn corn kill st bernards couple bucks hills science love fact feed dogs food stages kind',\n",
       " 'dog loves food say skeptical first since everyone talked new formula terrible well maybe new formula dog loves no problems eating use food treats nice shiny coat looks healthy diaeresis first breeder feeding cheap stuff took stomach adjust',\n",
       " 'two little little dogs eat grain free kibbles stomachs sensitive besides fact really like eating food healthy choice difficult finding grain free dry dog food dogs eat',\n",
       " 'year old mastiff despite tough appearance bit delicate belly eating since puppy bad experience nasty corn based product dog yr old shelter rescue mixed breed eats well happy healthy would recommend food totally worth extra spend',\n",
       " 'sure homework product purchasing three dogs getting sick canidae changed formula late summer early fall googled product read many complaints dogs symptoms immediately took dogs food healthy since never trust product loyal customer years',\n",
       " 'avid canidae supporter year half breeder recommended impressed dog responded however months back changed formula also lessened bags raised price terrible went bags could not understand dog consistently producing loose stools never randomly found bag old formula left local dealer bought immediately stools firmed bag new formula dog sick done no longer support canidae not buy research kind money lot better dog foods',\n",
       " 'switched canidae als tainted food scare happy choice recommended food many people changed formula made major change without much sticker slapped bag notifying customers change sent dog tail spin severe vomiting diarrhea hot spots itching main symptoms since always done well canidae never dreamed food weeks worry meds messes clean plus prednisone scary hot spot vet shrieked saw started researching food change thing stopped problems lost lbs short amount time canidae customer service rep blamed not transitioning properly talk adding insult injury not good food us not good company deal wish could give zero stars',\n",
       " 'one best dog foods market saved quite bit money order directly amazon rather try find locally',\n",
       " 'jack russells papillon many people know jacks extemely active breed keeping weight problem feeding flint river high quality food jacks getting cups day maintain slightly average weight papillon proper weight still getting cups flint river day decided switch foods much debate chose canidae time took slowly switch days jacks already gained weight looking much better weeks reduce food becuase getting fat jacks eat cup twice daily never looked better papillon eats cup cup pm reduction food alone saved much money feeding less less poop clean really cannot say enough food made dogs balanced mentally physically',\n",
       " 'toy fox terrier mix eating canidae since adopted changed science diet not amazing transformation sick twice speak no unexpected need go outside accidents house illness comes predictable sunrise albeit somewhat less pleasant high energy dog eats cup day bag lasts months calculates less food canidae may cost better known brands bargain improved nutrition related benefits see never occurred could food true basically no smell others mentioned every way glossy happy clean puppy like',\n",
       " 'fed recommended food several years one best dry foods available however last months late something changed dogs experienced chronic digestive upset food refused eat upon switching another quality food problems stopped tried another bag last week results dog owners breeders vets handlers also reported problems canidae foods past months no one including successful getting sort satisfactory reply canidae asked changed formulas ingredient suppliers etc disappointed canidae one quality foods not raised prices significantly past year still affordable dog owners apparently also led changes company not willing address disappointed food recommended highly past problems changed dogs eagle pack holistic selects expensive back old selves healthy no digestive troubles great coats',\n",
       " 'dogs canidae past several years even picky dog lost half teeth loved however recently bought new bag canidae packaging different thought thing changed nothing bag indicating new formula noticed kibble lighter color previous bags still not think much however two three dogs consistently refuse eat dog eat new bag one diet two years quite frankly eat anything disappointed change formula not even mentioned bag changed great food one dogs not eat note emailed canidae ask formula changed not mentioned new bags response quality raw material well quality control actually increased not decreased yes diversified complex carbohydrates rice continues climb high quality availability decreases products better ever consistent getting lot positive feedback customers actually feeding pets improved formulas not actually said thought raw material decreased dogs refused eat say getting positive feedback customers actually feeding new formula trying imply pretended feed new food',\n",
       " 'bought bag canidae new formula old canidae formula mixing new formula new formula meat puppy loves new formula jumped unfortunate canidae not announce going change formula making lot dogs sick due sudden change food',\n",
       " 'involved dog rescue fact founding board member large active rescue group adopts dogs per year keeping high standards placement standards dog rescue used canidae years recommended many adopters recently personally seen problems dogs well dogs throughout rescue stools many cases serious diarrhea talking local veterinarians use found many seen recent issues canidae causing client dogs similar diarrhea experienced know canidae past changed formula causing problems appears happened shame good success food personally dog rescue no longer use product',\n",
       " 'work veterinary hospital big food scare found calling around different food companies see made american product american not mean imported products thrown food assembled united states could called made wanted meat grown veggies grown no imports found dog food recommended bloodhound breeder bloodhounds known gunky skin must wrinkles prone eye infections allergies bloat numerous conditions well bloodhounds not dogs dogs healthy glowing coats shiney eyes bring lots ribbons show ring dogs couch potatoes feel better feeding something good first worried smaller bite size might interfere good tartar control months food no tartar one dog tartar control problem long time doggy breath never better could give food stars would would recommend food toy breeds well giant breeds used opened bag food would keep nose away dog food stinky not food not saying want mouthful not stinky like dog foods actually smell herbs use product wish list amazon anyone wants get good gift get bag definately gift use',\n",
       " 'started feeding dogs canidae life stages dry dog food almost years ago prior used nutromax wow amazing food german shepherd golden retrievers incredible coats poops firm easy pick nearly odorless no allergies either unlike friends whose poor dogs suffer kind food skin problems convinced one person change canidae happy well golden buy locally go thru pounds every weeks feeding large dogs highly recommend food could not happier update canidae moved manufacturing different plant late time order save money changed formulas added lot grain products caused dogs numerous skin gi problems organization oversees pet food standards received complaints canidae manufacturer recent history due formula change fried mine owns pet supply store says getting canidae bags back owners w pets problems w new formula dogs bad reactions even gradual change told ahead time friend changed formula diarrhea vomiting itching scratching one golden scratched raw point take vet using canidae many years recommending many others decided enough enough got rid switched using california natural lamb rice orijen adult two natural foods produced highest quality control available company control ingredients manufacture food numerous quality checkpoints distribution dogs different ages different needs blend calnat orijen wow difference coats shiny energy levels great poops solid virtually odor free love great foods bit expensive foods worth every penny cal nat orijen best foods buy opinion considering canidae would recommend look cal nat orijen instead new rating canidae starscalifornia natural starsorijen stars would give orijen stars could really good',\n",
       " 'used great food changed formula dogs suffered customer service rude dogs showed signs distress within first hours eating new formula explosive diaherra vomiting fur became dull change back canidae',\n",
       " 'lot research decided switch old doberman iams canidae impressed product samson loves stuff iams entice eat mixing canned food tablefood canidae eagerly wolfs not first ingredients meats human grade besides less filler canidae uses no corn products good dogs allergies corn common allergen dogs may balk price going use less food per day junk brands due high quality indredients stuff besides canidae considerably cheaper top shelf brands like eagle pack flint river happy able feed dog super premium grade food knowing much healthier bucks per bag mid grade food like iams pro plan look like believe one best values pet nutrition market today',\n",
       " 'goldendoodle felt little thin side started researching dog foods found not really good second ingredient ground corn found not dog food filler non digestible filler filler surfing sifting information good explanation terms eager information could get pursue ended canidae life stages dry others consideration considering cost balanced good nutrition supplements included food availability opted canidae top five ingredients fat case chicken fat three animal protein meal chicken turkey lamb meals two ingredients brown white rice good easily digestible grains understanding dog food weighted ingredients listed based weight prior reduced cooking process meaning ingredient list lists chicken first precooked weight cooking water nutrients calories lost process ingredients measured listing cooking ingredient list would not come looking good chicken might not high list chicken meal listed start grade chicken generally speaking however meal weighted listed cooked ameal protein ameal protein protein end cooked water cooked ameal protein ingredient list good grade meat protein not reduced processing ingredients together five lbs chicken may end however chicken meal stays made example clarity not based math science ingredients go list additional herring meal vitamins probiotics good intestinal health natural preservatives supplements like amino acids calcium name couple beforehand riley less excited meal time would pick almost beginning walk away come back little eating allot drinking eats big benefit another part reason search reduction feces going times day no small amount two four times day far improvement condition feces also firmer normal coloring less seems like body getting food seems improved activity level playfulness increased not hyper means healthier perhaps calms right command even around dogs far good change read poor results happen weeks months change far good not shed watching carefully new hair loss not wait occurs take certainly would say conditionally turning good food dog would suggest others looking quality food months canidae riley still looking good no sudden hair loss healthy energetic eating type still happy decision still using',\n",
       " 'dogs eating canidae since stopped eating puppy food great yesterday bought new bag became violently ill eating one bowl variant diet returned bag back pet store found changed formula ingredients become expensive not even notify consumers dogs sensitive stomachs may consider simple change made sick complete disregard dogs supposedly care understand need make money notify consumer make educated decision buy old formula higher price',\n",
       " 'husband switched three dogs canidae earlier year based many glowing recommendations found internet dogs done well recently always bought pound bags three large dogs pound bags became ill diarrhea oldest dog diarrhea horrible hot spots buttocks fur falling flaky dry skin last weeks one dogs sick house today husband mentioned beginning suspect canidae suspected canidae may changed formula checked internet see anyone else complaining complaints internet apparently canidae changed formula without warning many dogs tolerated well past suddenly becoming violently ill husband picking bag another brand tonight used no problems past not feed canidae dog owners know not change pets food suddenly cause become ill apparently canidae without warning anyone allowing opportunity gradually switch dogs new formula apparently canidae blaming net hysteria reason people blaming food dog illnesses dogs sick several weeks way even suspected canidae',\n",
       " 'update march still feed grain free kibble shelties still love still happy found way eliminate gas younger sheltie mixing dry kibble bit hot water letting sit minutes feeding furry kids reason younger sheltie tummy finds easier digest not gas woohoo able feed kibble get twice much used think feeding canidae grain free dogs almost years dogs never upset tummy way buying directly amazon item says usually ships weeks days order get update email amazon saying something like good news able ship sooner thought item delivered week date ordered sure enough arrives within week ordering original review feed dogs canidae grain free life stages food called canidae pureelements not think amazon updated photo name food yet ingredients not changed grain free variety younger sheltie epilepsy gluten corn possible seizure triggers feed shelties wheat corn gluten free diet canidae part diet feed small meals day cup canidae grain free als piece raw turkey neck veggies last two meals last meal sometimes another cup canidae instead veggies know complicated right dogs really better mostly raw diet like still use kibble fastest way feed meal first thing morning let go potty fed variety kibbles natural pet food shops grain others grain free fed kibble diet canidae brands younger sheltie terrible gas older sheltie anal gland problems would anal sac blowout least month gross covered couches blankets easily washed gosh hope not eating lunch read review anyway started giving raw food gas disappeared girl sheltie no longer anal gland issues teeth cleaner not want turn raw food way go preaching session swear dogs raw better easier younger sheltie digest not gas us home gives older sheltie firmer poo anal glands work like supposed canidae not help dogs particular issues like raw however canidae heck lot easier cheaper feed furry kids certainly love canidae taste inhale dog not weird kibble digestion issues like mine canidae grain free als star dog food dogs sensitive systems food canidae grain free life stages protein level seems better shetland sheepdogs stomachs higher protein kibbles fed another brand grain free kibble innova evo turkey chicken protein high handle even switching gradually getting cup day protein made poo liquid stuck canidae grain free als also done mix grain free als grain free salmon furry kids love salmon variety smells like fish big surprise right try not breathe dishing not care smell fish like pups write amazon price local natural pet store much would like support local business local natural pet store terrible long story buy canidae amazon ingredients chicken meal turkey meal lamb potatoes peas chicken fat preserved mixed tocopherols lamb meal ocean fish meal tomato pomace natural flavor choline chloride suncured alfalfa meal inulin chicory root lecithin sage extract cranberries beta carotene rosemary extract sunflower oil yucca schidigera extract dried enterococcus faecium fermentation product dried lactobacillus acidophilus fermentation product dried lactobacillus casei fermentation product dried lactobacillus plantarum fermentation product dried trichoderma longibrachiatum fermentation extract vitamin e supplement iron proteinate zinc proteinate copper proteinate ferrous sulfate zinc sulfate copper sulfate potassium iodide thiamine mononitrate manganese proteinate manganous oxide ascorbic acid vitamin supplement biotin niacin calcium pantothenate manganese sulfate sodium selenite pyridoxine hydrochloride vitamin vitamin supplement riboflavin vitamin supplement folic acid papaya pineapple',\n",
       " 'happy canidae customer year recommending product everyone however recently changed formula dog violently ill talked suppliers canidae chicago area receiving countless complaints sick dogs since new formula introduced taking dog food immediately sensitive different foods past never violently disturbing would make switch without notification least finally know wrong dog happening countless others beware',\n",
       " 'searched food not full preservatives fillers not cost pound alot research read alot labels siberian husky pup canidae really proven former conissour cheap discount store dog foods finally realized advantages feeding natural premium food dogs poop doesnt really stink true poop still poop smell minimal noticed also quickly disinigrates ground rains cheap food smelled like rank dog poop would make retch gag much less poop firmer stools barely odor less food consumed per day no bad breath dog food swells wet also undesirable flint river ranch brand canidae stay intact avoiding bloat factor learned learn also excellent value try canidae see',\n",
       " 'difficult rate dog food guess look ingredients dog eats good well ingredients great dog didnt like pretty pricey thats say',\n",
       " 'switched dog canned ages food diarrhea vomiting days never ill healthy dog years old look online investigate product via consumer affairs story common dogs even dying gi tract infections siezures horrible allergies switching back old standby sojo kind tired know good not hurt',\n",
       " 'feeding dog months realized stool pretty runny whole time today diarrhea probably second third time period came online see others problem sure enough answer yes done dog food would suggest not right',\n",
       " 'first opened box looked perfectly fine expiration date april bag seemed fine went open corner resealable pouring spout already opened seal supposed intact opened first time looks someone reused bag im not entirely sure even dog food someone could put ever feel like called canidae charged dog food looked different well texture pieces bigger darker color bag canidae compared not feeding dog guess lesson learned buying internet maybe story make think twice bright side price cheaper shipping hawaii less week free shipping may add buy risk dogs health isnt worth taking chance could canidae want certain canidae phillip',\n",
       " 'fed canidae als old formula years dogs thrived canidae switched formula mfg immediately switched another food afer reported problems feed store talked trying new formula went back als big mistake experienced weight loss explosive diarreha vomitting lethargy etc dogs lbs varying pedigrees ages sick weight loss poor coats vomitting etc run complete extensive blood panels rule health problems dogs bottomline blood panels ok food canidae issue use fantastic food dangerous food feed entire pack dogs health declined new formula switched foods something canidae dogs recovering love las vegas russian roulette feed canidae want avoid major vet expenses heartache choose another food homework research canidae als problems make best educated decision pets year since originally posted review product thought time update still warn folks feeding canidae als canidae formuals not know dogs recovered thank goodness back running fenceline greeting visitors etc not sickly become aka lethergic diarreha lost weight crew faced know bunch pros cons various websites concerning canidae use one biggest flag wavers canidae formula change vet expenses forced face believe heavy heart cannot recommend canidae not flare noticed internet vindications company personnal gain great concern illnesses experienced pack dogs took several months vet care dry dog food changes dogs recover not want see beloved family members undergo gone please please please check highly recommended non bias dog food analysis site still recommending canidae als star highest rating premium food feed caveate however position product dfa heard complaints number animals hear not well food appears risen substantially ask personal research concerning food keep eye pet food reactions make best educated decision beloved four footed furry family members',\n",
       " 'aware new formula als not agreeing lot dogs one dogs no amount transitioning improved diarrhea vomiting hot spots many many complaints web people dogs symptoms finally stopped upon changing another food canidae made major changes als formulas nothing alert public web site still nothing bags make people aware changes except new ingredient list homework buying dog food dog owners across country spent lots money unnecessarily vets trying find answers dogs medical problems find food feeding used outstanding product wish could give zero stars',\n",
       " 'food great german shepherd well cups day stages formula hard time finding area smaller town excited see available no find much costs ship bag amazon not seem contact us option either find much charge pound bag without anyone tell shipping bag would love know thanks birdy',\n",
       " 'started ok weeks dog decided not like taste much became picky would not finish feedings ended discarding half bag switching wellness brand puppy mix canidae produce dense dark stools pick poop makes easy fenced yard not bother',\n",
       " 'canidae excellent dogs siberian picky times seem like canidae company open informative not feeding dogs anything comes china unless go flat broke many foods pet people say made america ingredients foreign countries food pressed together packaged consider dishonest immoral also obviously legal thanks federal policy favors free trade profit health american children much less pets premium food sans fillers trash really no expensive since feed less dog healthier call company companies ask ingredients science diet purina good reason way evasive canidae',\n",
       " 'new akita puppy bought canidae als since could not get breeders type food area transitioning canidae stools loose yellow looked line saw canidae switched formula puppy symptoms mild compared read immediately switched puppy wellness puppy everything coming fine since',\n",
       " 'dog sick months lost body weight coat falling clumps still barely eating eventhough vet could not figure wrong switched canidae based friend recommendation gained half weight back weeks coat improving energy levels siberian husky food not beat',\n",
       " 'upon receiving order canidae beef ocean fish formula lbs found instead received another formula original formula chicken turkey etc look picture ingredients see amazon picture ingredients formula received bag received lbs not clearly amazon made boo boo somewhere dogs eaten formula believe canidae pretty good nutritious formula not sending back however folks must beef ocean fish formula may not happy ordered amazon years never problem unfortunately could not find way notify amazon without returning item hence review many folks critical canidae big mistake changing formula couple years ago without going public change skewed reviews reflect dissatisfaction product found good palatable food money would bet canidae not make mistake secret formula change',\n",
       " 'dogs cats years always fed science diet iams newest dog itcher research decided try new dog food settled canidae reason reviewers top notch ingredients reasonable price loves alternate dry dry wet every day best no itching hot spots vet believes allergic corn products iams common allergy dogs added benefits poop less poop pick poop solid not runny like reviewer said poop way less smelly',\n",
       " 'great product healthy dogs first food love eat helped older dog lose weight year old lab gain weight needed healthy',\n",
       " 'food made new dogs two small dogs energy levels quality coats show marked improvement within first two weeks one year use notice marked increase general health activity',\n",
       " 'know review little dated earlier posts love food labs never fed anything else giving stars due increase price decrease size used lb bag bag atleast neck woods know buy bag not fit container started feeding years ago one labs cancer wanted give best nutrition possible breaking bank thrived food since passed labs labs not heard change formula nor ever fed anything else remember dog food recall couple years back dogs getting sick due contamination sorts canidae never part recalled list far know know gas labs no matter feed sort gas not feed dogs table scraps use milk bones treats far concerned little gas fine long coming not stuck inside becomes problem mammals gas fact life think prevent dogs gas crazy feel terrible dog owners sick pets hope found alternative happy feeding',\n",
       " 'first time dog owner wanted ensure presa canarios fed good dog food research canidae dog food one best listed addition grain free caught eye since contemplating going raw diet research canidae grain free formula close get natural diet without committing raw food great product dogs love must admit flatulence rough times ha ha overall health well fare dog main concern',\n",
       " 'used fan canidae recent vet bills sick dog found huge amount consumer affairs complaints company blood work ultrasound many tests trying figure dog not eating throwing rare occasion pockets gas size base balls small dog symptoms kidney liver failure vet determined might food found hard believe could not find anything else wrong read complaints see many people lost dogs started using one companies production whose imported food killed many animals year ago soon quit feeding poison started getting better one lucky ones since pet not die write still not gained weight back company acting nothing wrong probably advice attorneys not need take word please read',\n",
       " 'ordered directly petfooddirect saw negative reviews delivery decided would make transition slowly week half later feeding approx half old half new one dogs started vomiting diarrhea no appetite lethargic switching plain chicken rice diet not get better soon take vet dog must iron constitution seems fine update took sick dog vet given iv fluids became dehydrated one day later seems little better vet said blood work came back little bring back x ray recheck going hold think improving bland diet dog alarming sounds coming stomach last night seems fine today think first dog not become sick kept giving canidae think dog would eventually become sick well',\n",
       " 'dogs started canidae years ago dramatic change energy coat done wonderfully food since lot negative attention recently formula change yet trouble new formula continue eat well no stool problems itchiness vomiting others suggested still quite pleased canidae continue use dogs',\n",
       " 'could give product no stars would giving dog food dogs years past month formula changed put shelf dog allergic reaction something first thought allergies dogs like humans change get older one problems tried cleaning patio daily basis bought new food water bowls stainless steel wash water bowl much possible even took vet numerous times vet practicing years best area puzzled nothing worked dog started lose fur odd looking spots chin open sores not go away no matter much wash put medicine consistently scraching making worse toes red inflamed ears bright red color like rash lastly not eating much diarreah week later dog broke hives rushed emergency room gave shots slowly went away starting experience problems dog last time went pet store pick food heard customers yelling food making dog sick heard symptoms described shop owner not know taken food shelf given refund decided not buy canidae go online research found canidae changed formula added many new ingredients grains millet dogs allergic found forums people describing issues dogs like called customer service nothing blamed us dogs reaction food asked fault inadequte labeling bag food buy fault using dog food last years no response customer service representative call simply said not like not buy hung bag never changed appearance nor add stickers indicate change formula would checked make sure changed would not affect dogs lest would known signs watch change terrible food something different reaction feel horrible company pay vet bills not inform us consumers changes understand choose pets purchase foods not choose change formula fine way could reason changing formula make cheaper produce increasing price dog food case would kept purchasing see light go back old formula family never purchase like many others sure not chosen food grain free starting chow like long recovery road ahead male dog coat face worst hope anyone looking buy food find formula done others animals like mine buy',\n",
       " 'used food months first thought great since taken dogs coats dry bad hair loss dogs hard keep weight food',\n",
       " 'asked breeder canidae never even heard told german shepards sensitive stomachs also prone hip problems product beneficial dogs ever since puppy dogs canidae tried others could not find canadie like noticed differance various ways happy see buy product online get dog back tract',\n",
       " 'canidae best food lab last years changed formula june omg disaster first bowl new formula mix old stuff transition disappointed no notice bag new formulation old stuff worked great sure save bucks changed cheaper ingredients well done dog worst gas runny stools need find food handle not easy task since got skin allergies not buy anything got topnotch canidae ideal old formula not anymore suggestions transition',\n",
       " 'bit nervous trying kibble reading negative reviews decided give go since one reasonably priced wheat corn free premium kibbles available live ingredients list looked respectable first ingredients human grade meat meals nutritional information meets aafco profile life stages also ingredients apparently u no worries melamine two recent melamine scares chinese wheat gluten chinese milk powder bag girl thrives likes hard keep weight food good high energy content compared kibbles feed partially raw partially kibble not canidae perhaps makes difference well dog honestly say no problems kibble keep feeding',\n",
       " 'excellent price dog food well prompt easy delivery front doorstep certainly makes hauling large bags like lot easier food feed pets price far best around locally store thorugh pet supply mail order services recommend',\n",
       " 'ecstatic purchased two bags canidae dog food used food years dogs love beautiful coats august free shipping amazon actual shipper petcare rx since feeding large dogs including rescue go lot food nice delivered door signed reorder noticed amazon increased price theory goes free shipping rolled new cost food no cheaper purchase amazon since neighborhood pet store sells not order days ahead make sure get current supply runs shame amazon',\n",
       " 'adopted mastiff mix puppy last year research threw away full bag puppy chow not good dogs tried mid level food stars dog food reviews ok high protein giant breeds decided get great dane spring started looking food would good dogs found tried initial adjustment necessary food seem well giant breed large mutt go lbs month wanted something affordable quality fits bill large lb bags usually bit dollar per pound comparable big box brands able get dane proper weight keep mutt chubbing much impressed would love feed orijen taste wild cost prohibitive glad one fits bill without draining bank account',\n",
       " 'done quite bit research chose dog food dogs seems best money needed needed something would benefit different age stages nutritionally bulk best price based research came dog food one dogs full grown used eating different brands junk knew feeding not fond first got used eats without issue puppy loves overstuff not ration meal times gives peace mind getting need not going broke giving complaint horrid flatulence dog food seems give never experienced adult dog years always eaten store brands dog food maybe issue overall satisfied live occasional unpleasantness seconds means eating healthy also noticeable difference coats health another plus could not good conscience give five flatulence really room clearing pose could uses unwanted guests bright side',\n",
       " 'smallest chihuahuas larger outdoor dog sizes eat easily dogs like seem know arrives problem takes week get need remember order early',\n",
       " 'dogs always high quality diet recently decided give food try little hesitant first due price figured dogs worth since making switch rescue yellow lab made vast improvements no matter ate always itching scratching especially base tail used get sore times would actually bleed coat skin perfect no itching scratching chewing dogs also eating less maintaining weight nicely less food means less waste yard could not happier food dogs stay long continue making also switched cat grain free salmon cat food',\n",
       " 'dog food best excellent price free shipping high grade quality ingedients no fillers no products no wheat no corn puppy started looking like beagle puppy oz got wks turned barely wks old pounds growing think actually coon hound itchy skin wanted find product could eat yr old wonder dog wonder could also eat canidae perfect answer since using canidae puppy far less itchy still parts canidae one part food pedigree puppies older dog less stiff joints coat softer looking forward long time relationship canidae thanks',\n",
       " 'used buy one purina brands dogs fine first friend told product looked around bit decided give one try pug know stinky farts could get eating one pug seems less flatulence problems least far far less smelly ones could also feed little less order maintain proper weight opposed brands much filler pets seem much happier energetic much healthier looking less smelly farts',\n",
       " 'tried several brands compariable ingredients one far best dogs coats shiny no allergy issues yr old lab issues since couple years old canidae no issues year issues tsc new brand chicken soup would given stars kinda expensive get pay',\n",
       " 'see lot negative comments reviews look ingredients cost value best food found two dogs food well gradually switched blue buffalo raised prices canidae better product opinion anyway asked pet supply store owner said years despite negative reviews maybe bags ever returned store happy product price dogs like',\n",
       " 'read lots reviews internet dry dog food one highly rated grain free may expensive well worth price standard poodle picky food not food hound least liked immediately',\n",
       " 'dogs love food look great coats shiny no scratching itching also love free shipping price not afraid give try dogs thank',\n",
       " 'something never want without dogs enjoyable course alsoaid helping keep teeth breath cleaner thank',\n",
       " 'started english pointer trouble maintaining weight helping loves stuff everything say',\n",
       " 'interesting read reviews especially ones comment bugs using swheat scoop since adopted cat may not single problem one local retailer carries box form maybe bags infiltrated easily bugs maybe timing maufacture environmental conditions factory warehouse maybe location end use litterbox environmental conditions space combination aforementioned possibilities way regarless observations noted look problems future batches make sure add bay leaves noted another reviewer certainly not plan changing anytime soon however even chance bugs stuff wonderful grew cats volunteered shelter never buy clay dust awful fragrance even worse several years keeping cat box storage room parents found layer light perfumy dust everything pulled boxes began sorting items rummage sale think getting circulated around house try another natural litter experience swheat scoop ended switching short time later brand glad sticks bottom level starts get low add fine try scoop something every day may days life gets busy still not much odor clumps nicely however try scoop know cat not used box make sure clumps time set never problem otherwise flushing sometimes problem get impatient overload bowl fail let soak soften minutes particular toilet issues bottom line love stuff parents would recommend anyone',\n",
       " 'using swheat scoop years switched world best alas much dust swheat scoop fine cats not get tracked around much brands problem food moth bug infestations hotter summers cure crumple bay leaves open litter tray pop bag unused litter also works protect herbs dried beans grains etc',\n",
       " 'litter wheat product attracts meal bugs bag actually came bugs opened bag left bathroom came back hours later bugs crawling bag wall done everything eliminate bugs naturally disposed every crumb swheat scoop house difficult get rid permanently due life cycle meal bugs think eliminated months later back not buy product even think works great cat litter run risk plagued bugs forever',\n",
       " 'two cat mom clumping clay litter user decades came bit late natural litter party afraid natural litters would clump poorly smell bad etc swheat scoop second natural litter tried planned try stuff great decided no need look no thing cat litter never smells bad no dust never tracks produces clumps perfect neither stick side bottom box nor crumble apart bit said swheat scoop closest perfect ever found respects smell slightly barnyard like wheat notice scooping box scoop daily not ambient smell live condo litter box bathroom would notice lingering smell dust hands least dusty litter clay natural ever tried tracking minimal par lowest tracking clay litters used superior lightweight pine cedar natural litters swheat scoop consistency quite like grape nuts cereal sorry gross anyone eats grape nuts granules heavier side tend not track clumps not perfectly tight scooped easily enough high volume urine clumps stick bottom sides bit experience tighter clumping clay litters adhere much bottom sides one cats pees ton side sticking drove nuts clay litter another reviewer mentioned keeping litter level high enough definitely mitigates problem not experienced bug problem others mentioned willing risk considering great stuff',\n",
       " 'bought litter loved could flush almost no dust one day opened new bag days later went clean litter box millions probably not exaggerating wheat weevils cat bathroom covered tiny creepy crawlies small barely see millions not miss rate reproduction crazy loved litter year got contaminated bag bang immediately threw old new unopened litter guess going back reliable not flushable clay litter',\n",
       " 'used swheat least years never bug problem lived east desert southwest no problems either climate virtually no smell even come back vacations clumping action remarkable also disposed clumps toilet never plumbing problem sticks bottom litter pan chances not enough pan use pan sifter insert pan years seem made',\n",
       " 'using swheat scoop years absolutely love one cat uses litter box uses tub years got not control odors well not add anything help clumps nicely scooping best parts not get face full choking clay dust change litter flushable second litter box cat genie also love clean upstairs box every days first whiff odor flush away takes flushes one whole litter box worth small increments see reviews bug issues years not seen one bug kind also rewards program great buy bags get one free plus send coupons time',\n",
       " 'wholesome treats calories per biscotti crouton pound dog weight problem treats use reward obedience multiple times day biscotti not crumble pocket walk dog even sniffs pockets home ask another one even though treats tiny not swallow whole chews maybe savor also put no soy wheat corn products preservatives gastro esophogeal system happened improve lot became regular hypo allergenic treats not cost much regular ones time first bought figured would safe buy dog not problems treats change food might also explain sticking hypo allergenic even though not eligible free shipping said dog likes treats lot not favorite give medium sized biscuit',\n",
       " 'honest not buy amazon received gift something ordered elsewhere moment package arrived door bichon molly went crazy dancing hind legs trying reach counter could not open package fast enough small crunchy good dogs loves much hide little bag back cupboard',\n",
       " 'use treats dogs time positive results fact make regular one dogs sensitive systems quite appreciated used use treats not good quality wise fit training not greasy means keep pocket treat bag quite easily solid treats not brittle no real fear falling apart pocket treat bag not totally solid baked quality gives harder consistency provides great crunch dogs closes thing compare small croutons slightly smaller like would put salad instance make sure got good supply around house money not problem wholesome ingredients contain not feel guilty giving extras',\n",
       " 'dogs torn acl life came process pt diet change started give day girls could not love makes love take easily getting great vitamins process wish knew sooner would absolutely give future dogs well sad local stores stopped selling solely get amazon service quick easy overall could not say enough great things product',\n",
       " 'great overall treats dog loves easy break apart make last longer cats like',\n",
       " 'great dog treats made natural ingredients dogs love give treats provide glucosamine needed especially larger dogs get good grain free dog food not contain glucosamine older dog needs zuke hip action really seems help brought item several years highly recommend',\n",
       " 'getting treats last year two senior dogs various hip joint problems past not problems since taking love tried flavors not problem eating think yummy treat get excited pull would definitely recommend anyone older dogs',\n",
       " 'order hip action every month dogs think like better thier food not looking treat dogs getting older primary reason purchase hip action medicinal properties not say see huge difference dogs agility hopefully caught issue dogs major problem must try dogs love',\n",
       " 'dog goldie loves treats supposed good continue try give healthy treats love',\n",
       " 'year old female german shepherd lately noticing bit difficult time getting hips always seem stiff since not know anything dog vitamins decided take route treats would much rather give something might possibly like giving pill thing not really like much usually try times get eat bright side get eat little hassle even brighter side treats reason gave stars instead fact seem helping stiff joints gone one oz bag treats noticed difference stands walks runs first time legs not look stiff p get treats cheaper linens things website lnt com not pay shipping paid pound treats',\n",
       " 'boppy gets overly excited rodan grey crane flies creek squirrel raids bird feeder torn acl takes top speed get treats glucosamine much easier trying get pill like chicken flavor best tried beef like made usa much better hips joints vet tells really knee acl problems zukes great product like give enjoys good treat',\n",
       " 'bought year old pug bad hips arthritis teeth poor ole girl sweetheart getting around hard soft chew no problem still stiff sleeping long time loosens right starts moving metacam worked waaaay expensive love made usa part profits donated dog cat research fund win win win around us almost got mention loves',\n",
       " 'zuke best dog loves eat zuke best dog loves eat',\n",
       " 'year old lab run play ball freinds loves like wonder treat',\n",
       " 'say zukes pb hip action treats not said already dog loves peanut butter treats full peanut butter well mg glucosamine mg chondroitin keep year old joints flexible long hikes swims zukes donates portion proceeds dog cat cancer fund every year makes products wheat corn soy free ever heard vegan dog',\n",
       " 'love products love idea behind fact help animals cancer zukes president please',\n",
       " 'dogs love treats giving treats several years go nuts know going get one vet recommends supplements get older bit pricey think worth much better amazon carrying directly also say manufacturer stands products used buy pack party seller amazon last shipment noticeable bags treats hard brittle despite well use date printed bag packaging intact no holes emailed manufacturer within days shipped new bags without hassle customer service',\n",
       " 'dog loves treats love much fun give glucosamine chondroitin treat instead pill liquid pretty affordable also travel fairly well soft enough break half want give half treat possible problem worry giving dog many day package guidelines many treats give per day based dog weight far medicating not problem especially break half really amping dog walks runs get ready hiking spring far not limp free stiffness used get nap seems significantly reduced really happy buying trying zuke treats',\n",
       " 'best little guy loves pack hikes seem give year old lab extra boost needs see difference energy run try best keep stocked seem help amazon best price around favorite peanut butter',\n",
       " 'gave year old terrier treats really believe helped feel better lately playing ball self plays not years happy watch long walks happy keep walking well',\n",
       " 'dogs love treats get one take medicine no problem getting swallow pills long jar zuke call',\n",
       " 'vet recommended glucosamine chondroitin terriers help arthritis knee problems really tell difference old dog love flavor bites strong meaty smell',\n",
       " 'dog likes well takes per day standard poodle years old',\n",
       " 'dog loves treats actually less stiff hard day playing great treat helping pets healthier',\n",
       " 'year old corgi problems going stairs no interest playing toys last year went vet gave rimadyl helped still issues carry stairs started giving zukes whim seeing local pet store stuff works sold playing dogs goes stairs brings toys us play like old self',\n",
       " 'say dogs love like ingredients far dog treats go nice soft chewy make great treats',\n",
       " 'dog loves treats perfect small enough give lots without feeling like giving something bad',\n",
       " 'vet recommended give dog dr zuke hip action difficult find area pleased locate amazon dog loves taste moist chicken flavored squares',\n",
       " 'lab loves anything zukes almost anything piece happy knowing contains glucosamine still young large breed walks stairs also smells good easy break apart training',\n",
       " 'treats great dogs love natural healthy not beat',\n",
       " 'giving treats dogs past years never upset stomachs every time say word tion end get excited great products great ingredients trustworthy company',\n",
       " 'mom purchased variety treats dog try not hip problems needed treat would not turn nose not choke pieces x squares centimeter thick smell like fruity beef bullion even though formula says chicken bichon frise yrs old likes treats texture reminds lara bar tad firmer dryer',\n",
       " 'dog loves think help even though medicine hips also break half not want give full treat time',\n",
       " 'finicky basenji loves treats dogs also getting years joints bones remain strong not know treats contribute giving long time maybe',\n",
       " 'dog loves treats typically try give one day treats get often day two missed no worry long supplement desired ingredients hip joint products food treats soft good dog ages no choking worries nice thing zukes ingredients list not mile long not use meat products also not see lot strange ingredients common mass marketed products',\n",
       " 'got help perk olden golden loved seemed help little guess no cure age far better way get dog take glucosamine chondroitin hardest time getting take pill note treats get stale pretty quickly not seal bag well ziplock',\n",
       " 'buying product since sep dog loves sometimes refuses treats never must good comes one half inch squares little big us cut smaller bite size pieces great training still young not comment hip action part yet want give dog good quality treat think worth price',\n",
       " 'dog fairly sensitive stomach picky eater usually quite careful trying new treats loved',\n",
       " 'first introduced zuke health expo anaheim kind enough give samples take home dog firstly loves picky secondly seems help arthritis',\n",
       " 'bought treats year olo husky beagle mix dog within two weeks showed visible improvement mobility seemed pain free pretty bad arthritis seem working well issue semi soft treat pretty broken big lump bag great product',\n",
       " 'happy see product actually backed said flavor purchased products stated bacon flavored dogs love could not get dogs eat one usually eats anything no problem getting dogs eat zuke hip action natural dogs treats noticed slight improvement movement not using product long good see movement improves time',\n",
       " 'treats good dogs natural yummy black lab loved went one day hopefully helped hips',\n",
       " 'older dog arthritis right hip good recommendations purchased loves retriever younger given also preventative',\n",
       " 'two chihuahuas absolutely love treats get one bedtime follow around give great healthy moist treats good price would highly recommend',\n",
       " 'helps dogs age keeps joints working must also taste good practically inhale',\n",
       " 'dog loves treats really helped arthritis reordered tried items local pet stores nothing likes well works well',\n",
       " 'elderly lab suffers arthritis pain greatly diminished taking glucosamine chondroitin unfortunately not fan gravy chewable tablets pill forms hip action fantastic find actually wants meds set clock days pm goes kitchen stares cupboard store hip action waits two treats',\n",
       " 'zukes hip action great treats dogs lab shep mix already hip troubles old found treats loves running around like pup thank amazon selling great deal would paid one bag bags got bags price',\n",
       " 'dog really loves treats picky years old previously problems knees since giving seems feels better',\n",
       " 'glad found something healthy yummy puppy gobbles whenever give',\n",
       " 'two dogs absolutely love zuke hip action dog treats great finally find treat not beneficial health well really liking way taste give two day dogs combined weight lbs treats recommend feeding lot making kind expensive price right maya luna happy definitely ordering regular basis',\n",
       " 'thought would try last attempt getting dogs take glucosamine willingly worked even lb chihuahua not eat treats chihuahuas doberman love warn smell horrible found worse treat smells pups like lol buying',\n",
       " 'dogs love flavor tried chicken peanut butter go nuts though admit peanut butter less intense smell chicken human noses see difference dogs coats almost immediately highly recommend zuke products',\n",
       " 'boys hips getting worse old age every little bit helps dog loves like made usa',\n",
       " 'read reviews dubious dog stopped walking stairs not jumping chaise sleep night started zuke hip action little weeks ago yesterday first time months came upstairs day work office today jumped chaise nap figure no placebo effects animals not treats must effect mobility pain repeat customer',\n",
       " 'older dog broccoli quietly aging sleeping couch instead bed not jumping rarely playing started gradually not really notice virtually sleeping day hips stiff walked gate stilted never ran anymore friend talking decreased mobility weeks ago recommended try glucosamine chondroitin purchased zuke hip action beef two weeks feeding double dose noticed huge change stiffness hips still evident running around jumping bed jumping back legs playing much often longer periods time would play seconds lie begging play run around not wait see progress month plan reduce amount one treat day recommended size weeks per recommendations read online also giving treat new puppy every day ward future problems keep joints healthy greyhound mix really long legs concerned various bone joint problems could prone far taste dogs love treats tried fact giving zuke daily supplement firm believers benefits glad see old friend acting like puppy thank zuke',\n",
       " 'yr old cat soft tissue problems hips upper rear legs hip action made world difference mobility highly recommend product',\n",
       " 'liked zuke hip action natural dog treats roasted chicken dogs liked considered treat seem run bit better',\n",
       " 'healthy treats plus help service dog gets older seeing alot work',\n",
       " 'given dog zuke hip action two years taking rimadyl back problems due health problems could no longer take long term hip action product working keep free pain mobile made great difference quality life plus loves getting notreat every day',\n",
       " 'golden retriever allergies tried many products zukes not set allergies gives girl needs getting older moves better',\n",
       " 'treat dogs actually good also much better price found previously local retailers great product huge savings could better',\n",
       " 'not usually bother reviews results pretty much demanded shepherd mix literally different dog since starting take treats past couple years acting quite old slow not much energy often would arthritic type pain shoulders hips would play couple minutes lay totally uninterested continuing could see eyes tired old variety supplements not done much felt awful could give aspirin pain switched food one higher glucosamine not make much identifiable difference last month would significantly worse shoulder hip pains weeks went online research arthritis supplements orthopedic pet beds last step deciding put medication reading reviews zukes hip action treats decided give shot bought two bags amazon oh goodness two three weeks blown away acting like energy jumping eyes look much happier best part see happy excited previously years since would run longer twenty minutes end run would dragging behind week took run went hour still ahead finished hopeful able enjoy golden years without misery poorly aging dog completely believer product giving every dog ever plus saved bundle expensive pet bed',\n",
       " 'lbs chihuahua doxie mix picky eater not motivated food always trial error comes trying new treat treats choice freeze dried tripe freeze dried liver freeze dried chicken get idea boy expensive taste lol said since nearing year old mark wanted begin giving glucosamine chondroitin hips joints started notice become little reluctant jump bed preferring helped think happening due getting older usage treats help prevention better start early late know feeding pills hassle already giving globs peanut butter day hide',\n",
       " 'month old german shepherd rotty loves kind like licorice easy break apart not fall apart bad gone less week lol',\n",
       " 'knowing mother agony son let dog remain home moved already spoiled raider became center world would anything returned love tenfold age little pupcake began screaming whenever attempting rise sleep throughout year pain grew far greater husband forced talk much pain much pain letting live could not bear let go trip utah friends saw anguish overwhelming us recommended try zuke hours later raider running first time years happy ran trouble one time mommy late refilling zuke kid naught screaming gone since day one owe much awesome hiker owned zuke developed notreat help much would not wish pain anyone thankful zuke smart daddy',\n",
       " 'feeding bichon zuke hip action treats years gets one day breakfast expects two knee operations one reason looked treat targeted joints etc rated no idea zuke hip action really work terms improved mobility yes loves treats yes walks every day yes hoping zuke working aid mobility nevertheless loves zuke treat like fact made usa natural note caution bichon owners urinary stone issues not feed bichon beef products chicken great update updated rating recently took dog vet confirmed age going no arthritis fact front back legs full mobility attribute part success walking every day also zuke hip action treats digby zuke hip action treat years treat joint action remedy feed addition nupro natural dog suppplement nutrients minerals vitamins zuke hip action treats not reason well believe treat conjunction exercise proper diet significantly contributed overall well',\n",
       " 'year old lab mix started problemswith hip joints always active dog watching lay around not want interact hard see initially vet gave us rimadyl get acute phase bit pricey know hard stomach kidneys searched internet read reviews several days time reasearch led back product went local pet supply store get treat opened bag thought sure dog would turn nose smell awful well husband calls doggie crack dog loves treats soon sees bag runs get snack yep runs not giving something loves something helped mobility followed directions found vets website double dose several weeks give maintenance dose glucosamine difference shop around purchase local store make mistake run quite difference price stores online completely sold product started purchasing treats products well ca not go wrong zukes',\n",
       " 'eldery dog hip joint problems using zuke little month seen amazing improvements loves way treats taste goes crazy sight bag navigate stairs interested play even runs daily walks zuke',\n",
       " 'vet told little yorkie stage iv luxating patellas knees blown devastated vet told give glucosamine chondrotin went local pet chain spent considerable amount chicken flavor tablets large chain tablets product carried hard tablets not easily broken half small dog top would not anything took little nose pushed away start crushing hiding piece people food annoyance began search different product form found zuke online soft not wait zuke treat every day no crushing still tabs left use zuke product also includes beef fruits vegetables happy product continue use little echo perked jumps runs one would never know condition condition stage correctable surgery thousands dollars not thank founder company patrick memory dog zuke also donate dog cat cancer fund know long review product really deserves kudos side note pain management physician also recommended golden aloe daily help arthritic pain sets diagnosis well best friend disability not able afford surgery required really relying products keep comfortable long possible years old',\n",
       " 'days not easy find us made dog natural treat relatively low price treated year old westie long time healthy partner beef turkey strips gave zuke try yet soon opened bag knew dog would not like dose not look good smell good not even like taste dog would like',\n",
       " 'giving pound shepherd lab collie husky mix hip action since pup vet believes realy going help prevent hip problems shepherd usually eventhough cannot buy locally make sure buy line boy remain healthy happy',\n",
       " 'dog refused eat give away beware dog picky',\n",
       " 'dog loves treats whatever flavor may favorites healthy',\n",
       " 'bought small dog haveing joint problems within weeks great no limping great price well looking joint suppliment good choice',\n",
       " 'made home smell like restaurant potent deducted star though dogs like',\n",
       " 'pug perhaps spoiled comes treats ordered chicken beef gave chicken first turned nose away chopped added gravy ate gravy cannot attest effectiveness product',\n",
       " 'yes tasted taste like chemicals guess expect joint supplement shih tzu pekingese would not eat',\n",
       " 'maltese yrs limping took vet said might cancer leg probably need cut leg not money take back vet check crying pain read others reviews amazon found zuke immediately bought gave doses day week running around house ans jumps dog not like taste sandwiched sliced cheese eat no problem thank much zuke buy every month',\n",
       " 'purchased beef chicken flavor hip action month ago skeptical couple reasons first dog not liked glucosomine treats given past pills difficult get well also skeptical would see difference dog year old husky great pyrenese mix weighs pounds extreme arthritis four legs increasingly difficult go stairs giving treats per day little month seeing difference surprised seems feel better though steps still challenge getting one try instead three four tries importantly loves treats thank knowing time left important member family getting shorter relieved make little comfortable last stages life',\n",
       " 'really like zukes made usa treats break small pieces lb lb dogs like peanut butter flavor however never give whole one given day glucosamine condroiten believe excess ingredients not beneficial limited dose may helpful',\n",
       " 'product amazing gift card town feed store husband happened pick older rott boarder collie joint arthritis trouble vet given several medications one not eat unless force makes act wonky vet says not problem either product know dog anyway fluke purchase mobility attitude improved leaps bounds within two weeks no longer cries yelps tries get much playful bucky dog also allergic corn not easy find treat not corn product free corn additives e wheat soy artificial colors flavors added fat products thing could wish disclosure caloric content not know many calories treat use conjunction senior glucosamine condroiton dog food pk purchased minute trip town one treat takes three huge dog day decided see could get line everything found still expensive especially h thought maybe amazon sure enough thanks amazon importantly greatful thanks zuke miracle product could not happy god gave us great gift gave us furry friends',\n",
       " 'dogs love treats border collie problems stiffness back legs thought would give try giving everyday month last weekend racied stairs outside really think helping subscribe save keep giving forever keeps pain also give one yorkie no hip lep problems maybe head em pass love taste sit patiently waiting treat thank zuke',\n",
       " 'dogs love great treat give dog make happy great price get free shipping',\n",
       " 'rescued havanese dog breeder going put hip deformity turns hip fine ball leg bone broken sometime puppy caused immense pain moved certain positions caused limp running fast question jumping lowest heights even sat left leg would side awkward angle stuck catch could not make stronger hurt hurt weak tried glucosamine supplements powdery seemed not like taste chicken jerky glucosamine seemed china fda advisory liver kidney problems found zukes hip action first time opened package dog danced hind legs get better sniff squares soft dense split smaller pieces easily training extend reward time dog sure find even smallest crumb treats last long time small medium sized dog like mine bag makes satisfying crinkle sound dogs listens really like high quality made america improvement began immediately weeks daily treats difference use hind leg amazing cushion flex hip let use leg much active better behavior lots running jumping even sits legs another thing noticed would lay bed back bad leg would pulled legs spread like normal easier tummy rubs silly even army crawls wish found sooner saw dog running around would never know hip problem past',\n",
       " 'buy nine year old chihuahua bad knees hips back also lost majority teeth due former owners neglected dental health loves seem help lot pull bag starts tricks hoping give one eat easily even without majority teeth although break smaller pieces since pounds treats seem really improved mobility stamina skips less get kneecap back place bunny hops less hips hurt jumps bed without help used stand top pet stairs wait pick always tons energy body keep better',\n",
       " 'elderly dog hip joint problems taking zuke hip action dog treats little month huge difference loves way treats taste best walking ease easier time stairs yesterday broke full sprint first time ages followed guideline size listed back package surprised results love zuke',\n",
       " 'old arthritic siberian husky tried counter glucosamine nothing vet told us pills sold counter poor quality not sufficiently digest enter bloodstream humans dogs later tried zuke hip action definitely saw difference using several years dog arthritis progressed prescription meds senior dog food also gulcosamine great running stairs playing people think puppy quickly tired beef flavor hip action still loves peanut butter flavor continue using product long dog',\n",
       " 'tried lot different arthritis supplements small dogs one best product found price dogs love wonderful see running around could hardly move pain granted old one one believe product given better quality life exactly want pets',\n",
       " 'bestfriend deserves good treats also good chose really make big difference activity level',\n",
       " 'month old pomeranian puppy poms tendency develop collapsed tracheas also issues luxating patellas knee problems areas made cartilage give one per day make sure strengthen cartilage joints try prevent delay issues may develop later hopefully vet bill money road loves things chewy texture must admit smell good haha little guys live long time typically want happy healthy life nothing like power prevention love made usa not china healthy natural',\n",
       " 'started giving dogs large breed not really old yet mostly wood tile floors hard joints started giving hopes preventing extent damage pain love small dog not old wants not think good since thrown pieces fairly large dog knows getting real treat not found flavor not like although beef seems favorite like seem made usa product since lost dog bad dog food epidemic since careful give dogs',\n",
       " 'border collie husky years old love dearly sweet disposition keep zuke treats basket utility room whenever go room sasha follows starts tricks hoping get one treats loves judy watson',\n",
       " 'always liked zuke products looking glucosamine supplement zukes near top short list candidates chose zuke treats contains mg glucosamine formula contains no wheat corn soy products artificials not everyone agrees efficacy glucosamine taken years wonderful results bichon problem hips showed marked improvement taking glucosamine square treats soft easily broken pieces desired piper gets zuke treat every night eats gusto bag run course ordering another',\n",
       " 'large dogs getting older little slower got anything also small dog young wants like nothing harmful usa product much healthful treat supplement many available buying',\n",
       " 'dogs love zuke hip action treats not know realized not individual bags selling cheaper three pack',\n",
       " 'not sure giving lab treat make feel better would really work running walks easier time getting naps great product plus loves taste',\n",
       " 'mz sparkle loves working town could not find place carries easy order amazon gotten prime membership kinda reasons new city difficulty finding go purchases sparkle delighted',\n",
       " 'older shih tzu weight starting hip problems bought treats hide daily pills perfect soft squish around pills easily also easy chop smaller pieces use training treats',\n",
       " 'actual treats times larger picture box king charles spaniel cannot even chew big roughly size double stuff oreo hard rock',\n",
       " 'treats hit two med lg dogs lbs buy small medium size dog treats though find size perfect would bit large smaller dog two enamored al say scooby doo come running one book',\n",
       " 'dogs favorites beef pizza preferably beef able bribe teach new tricks let dogs try',\n",
       " 'perfect stuffing toys like kongs types smaller holes put round square ones aussie large regularly shaped kong biscuit looking ones rat terrier stuffable chew toys not get regularly shaped kong jaw smaller kong opening fishes cookies easily gets toys petsmart tough well smaller openings like kong stuff ball takes minutes get cookies much harder regular biscuits takes minutes get regular biscuits snaps toy rat terrier powerful chewer',\n",
       " 'picky italian greyhound goes crazy definitely favorite snack many four distinct flavors dog even gets excited others firm dense not rock hard enough give decent teeth cleaning little dogs still break apart crumble chewed not particularly messy like dry snacks really disappointed not find locally anymore least get online',\n",
       " 'premo treats getting harder find locally dog loves supplier got us fast great price product good large dogs smaller dogs probably not lbs treat size might generous little guys big dogs love great portion size treats small large dogs appropriate dogs large treats especially grand big dogs since many treats market rarely meet requirements satisfaction one large scooby snack well received biggest dogs saving',\n",
       " 'dogs showed no interest dog buiscuits years introduced scooby snacks love not settle night get one magic secret ingredient trouble getting locally petsmart no longer carries buy online quality life house greatly diminished siscontinued',\n",
       " 'bought dog food bag showed pictured veggies chunks meat name like beneful thought purchasing nutritious brand dog food dogs eat food reading ingredients completely regret purchasing feel awful feeding dogs first three ingredients ground yellow corn chicken product meal corn gluten meal disgusting main ingredient corn filler one thing vet told back never forgot eat corn comes end thing happens dogs basically dogs cannot digest corn filler causes actually eat feel full poop retain less nutrients meat beneful product not even real meat products stuff leftover actual meat harvested talking beaks chicken feet eyeballs even chicken poop would not recommend product anyone reason ever absolutely awful dog food not believe pictures veggies full chunks meat bag allowed packaging disgusting product misleading considered false advertising recommend stay far away beneful purina products purchasing dog cat food important thing consider first ingredients make sure first three decent ingredients would eat know look usually buy pets natural organic foods blue buffalo halo wellness',\n",
       " 'ive noticed dog frequent bowel movement usual strict schedule potty break good past years tried food poops apt front us go bad like poster one hell laxative well trained yorkie cant even hold',\n",
       " 'put dogs food month half ago began notice older overweight dog become playful energetic already lost weight also others solid stools actually enjoy eating would recommend everyone',\n",
       " 'two dogs weeks switching beneful healthy weight noticed unpleasant results whine go outside much ever actually bowel movements right front us not get outside time dogs gone needing go outside times day times daily handle number bowel movements theory dog food goes right dog not much actually utilized body makes wonder many nutrients dogs actually receiving poor dog food opinion used dog needs laxative likely going back purina one',\n",
       " 'started giving dog couple weeks ago really loved different beneful gave one try loves excited time eat would barely touch purina little bites took state mom place pooped house times took blame not paying enough attention however since come back home pooped apt times week never thought maybe spiteful really think not help food one hell laxative thats looking glad bought small bag not giving one another try gets stars likes sure would lose weight keeps pooping much terrible',\n",
       " 'two golden retrievers beneful weight control least years not see ordinary pooping problems others mention love lost considerable weight considered obese one normal weight slightly overweight real complaint stopped selling least around larger bags find bags price go bags month little pricey',\n",
       " 'tennis player hubby mine got pack rack opel corsa casually started cherishing peppermint flavour gotta lasting refreshing flavour best part real mouth freshner keeps teeth whiter feels good chewing long time normally indians prefer amukhwas masalas lunch dinner prefer chewing gum refreshes taste buds good pick',\n",
       " 'nothing product bother link top page buy used chewing gum lose flavor bedpost overnight andy alaska',\n",
       " 'love stuff sugar free not rot gums tastes good going buy gum get',\n",
       " 'love diamond brand foods reccomended use vet dog developed allergies preservatives food colors thought biscuits would follow standards disappointed open find rainbow colored biscuits try give bright red ones dog not allergic dogs like well enough good deal buy colored treats would probably give stars',\n",
       " 'thanks getting original necco candies back new formula ones awful please keep stock',\n",
       " 'product costs slightly single roll box rolls came unbroken nicely packaged definitely good deal taste great',\n",
       " 'enjoyed wayback machine purchase found wafers good shape excellent price sharing office find memories roll taste',\n",
       " 'child fell love candy flavors fun fast forward years ago found neccos dollar store began buying reason necco company decided mess perfection formulated flavors reflect ones used many years ago time sadly horrible tried roll could not identify even one flavors threw away never bought one day checking something else amazon popped not new improved ones ones enjoyed childhood ordered boxes amazon necco heaven ever since',\n",
       " 'used decor ginger bread kids actually picked bread eat curious tryed taste good liven ginger bread decor taste',\n",
       " 'got lb bag petsmart not good price amazon dog loves though',\n",
       " 'vavoderm great dog food buy bulldogs met rep company petsmart told product gave coupons tried would recommend highly',\n",
       " 'first glance thought great deal read reviews looked little closer claims regular list price pound bag give break seriously amazon',\n",
       " 'buy dog food local store bit cheaper wanted review anyone interested dog loves chicken turned nose chicken meal dog foods one avoderm would graze food eat really hungry avoderm eats food right away right put bowl not seem love really done wonders coat hair sleek shiny smooth less dander well feel good giving avoderm natural product even grain free options pup allergic grain easy find item big box pet stores highly recommend pup thank',\n",
       " 'ordered food always use pay large bag not realize getting small lb bag not deal higher pay pet store',\n",
       " 'adopted girls shelters eating regular old dog food coats dull not realize dull started eating avoderm stuff amazing love coats soft bright',\n",
       " 'used breeders choice avoderm many years excellent results e shiney coat no digestion problems ect natural low protein large breeds like bernese mountain dog priceythough',\n",
       " 'buy pet store web rip sorry',\n",
       " 'blend one starbucks gentler blends like taste starbucks appreciate often described burnt taste starbucks beans known strongly roasted taste maxwell house afficionados steer clear invest starbucks coffee make sure like flavor tasting brew local franchise not one near make sure like strong coffee flavor although enjoy starbucks coffee leery recommending uninitiated like taste stock coffee stores well months freezer',\n",
       " 'grocery store kinds gourmet coffees laid one tried tasted like dust maybe ubiquitous starbucks puts decent product get good cup important breakfast blend bit mild tastes like really strong coffee guest general consumption mild aromatic coffee better',\n",
       " 'dog loved original purina one adult chicken rice dog food however since purina developed smart blend not eat unless add turkey tan color pieces awful kind rubbery went back buying regular purina chicken rice mix morsels pretty much size color dog really likes older version much better not buying blend mixture sometimes change not better',\n",
       " 'not know putting dog food keeps dogs getting bored eating brand daily almost year love repeat delivery option great not go store get dog food last minute long time',\n",
       " 'often buy costo lamb rice dog food costco used carry purina one bought purina costco no longer carry purina ingredients costo purina appear much however siberian husky prefers purina whenever run dog food going costco hassle spend get purina',\n",
       " 'buying pet food tricky proposition review dog food purina one smartblend specific spend hours no days actually researching various dog foods line via various publications name brand find many defend right matt hand brand distracters folks absolutely hate stuff care dog really not dog not care need research feel best animal let make one statement write review rather important statement dog gets sick given dog food goodness sakes throw stuff stop feeding dog food try something different time four dogs range pounds pounds two years old years old wife dogs lives cats primarily dog people using purina products years quite happy results healthy dogs go great lengths keep way present past four five years using purina one smartblend lamb rice formula great results no weigh loss nor weight gains long keep stuff problems dogs absolutely love people food garbage guts comes finding delicious things yard woods people food things usually bring case diarrhea cases vomiting take care not happen quite often find dogs much smarter four certainly skilled beggars purina far find manufactured u yes owned swiss company nestle would seem food made u someone correct wrong please compare stuff food brands stacks quite well dogs prefer food brands tried time time later course must remembered four quite happy four day old road killed possum get lamb seems soothing effect not seem problems digesting meat additives not get wrong would prefer served baked chicken absolute favored food earth day ai not going happen noted time change dog food brands dog food mixes going digestive problems dogs almost always cause diarrhea loose stools must change brands contents slowly mixing new brand old gradually several days pain worth buy stuff pound bags locally price bit higher per pound find amazon although varies month month amazon prime shipping not factor fret overall happy food unless learn differently dogs start poorly dog foods equal quality challenge find one suits particular dog needs stuff job us blankenshipthe ozarks',\n",
       " 'tried different kinds dog food discovering smartblend lamb rice tried iams varieties science diet varieties kibbles bits costco brand pro plan finally food shar pei greyhound mix would eat would not give awful gas thanks much purina',\n",
       " 'one dogs picky liked shocked able find winco coupon bag',\n",
       " 'dog favorite food especially loves large dark chunks dried meat eats first pieces good size dog large size small dog not quit medium sized prefer beef chicken not lamb lamb subscription could not beat subscription price cheaper stores shows door often need',\n",
       " 'great deal bought bag subscribed scheduled delivery couple weeks later price jumps well cost locally canceled future deliveries nice dog food crazy way business amazon',\n",
       " 'two stars kind not sure going using dog food time bag opened amazon not last ten bag stuff first different color second soft bits hardly bag soft bits bag hard crumble hand may not amazon fault could store wrong purina change blend either way not happy nor dog calling purina first thing tomorrow morning ask money back buy local bag see right buyer update called purina sending coupon free bag additional discount coupon trouble take ten days wife went walmart today get new bag dog eat',\n",
       " 'cats really enjoy food economical way purchase store usually stock anyway',\n",
       " 'product delivered makes good sense less expensive no need carry multiple smaller bags floor plenty hand little girls love healthy product',\n",
       " 'not know whether high fat content spurring feline acne food literally leaves grease stain nose eating allergic reaction food gave kitten pretty bad swelling redness slight hair loss around lips forced switch brands move recently noticed sores went away finally found brand weeks sores promptly returned back another brand within week switching sores went away',\n",
       " 'catch right price prime save buck two decent food no trip store feed cats not disappointed food compare around deal',\n",
       " 'stuff incredible put pork chicken meat really especially cooking love actually brings flavor not undue hotness',\n",
       " 'trouble finding product shelves grocery stores amazing find favorite pork rub amount last many times not one thank paul prudhomme',\n",
       " 'great pork seasoning first tried sample requested company free buy large loved much tried first time couple thick iowa style pork chops cooked charcoal grill hooked since used ribs pork roasts pleased every time',\n",
       " 'think paying oz bottle real bargin like fish bast butter sprinkle magic grill quickly never cook fish able grill fish',\n",
       " 'go seasoning blend wish discovered sooner use everything including fish chicken pork shrimp burgers steak potatoes veggies dry rubs marinades soups stews even tempted top ice cream far able restrain blackening seasoning find nice around blend seasonings herbs spices without top spicy peppery flavor key not melt face heat larger cansiter much better bargain little ounce containers opinion amazon also ounce cansiters usually order running low never tried stuff pick ounce size see like realize good glad amazon big cansiters',\n",
       " 'absolutely love product home chef use product seafood adds distinct flavor takes fish seafood another level excellence great even basic cooks',\n",
       " 'experimenting cajun food quite sometime talked several different creole chefs two three spoked recommended seasoning creole seasoning use meat bought variety pack chef paul prudhomme seasonings nothing really stuck like one using chef paul prudhomme seasonings not purchased one treat not find specific product stores makes great buy',\n",
       " 'new orleans live michigan not get many chances cajun food ordered crawfish tails louisiana crawfish company used spice make blackened crawfish tails man ever good',\n",
       " 'im never fan eating fish diet requires dug cupboard found seasoning wife bought last year tried fell love went entire bottle weeks however tried get wasnt sold locally bought ounce canister worried might get discontinued much better value side doesnt shaker top anyway enjoy fish im staying diet seasoning works well everything even daughter likes definitely hit house',\n",
       " 'absolutely love seasoning worked years ago restaurant seasoning would put fish chicken beef adds lot flavor without adding lot fat calories use veggies soups fish name not seem keep house approx small bottle market large canister much better deal last us good long time',\n",
       " 'not tried bad seasoning flavor yet wonderful favorites vegetable magic not vegetables makes delicious omelettes pork magic saute centercut pork chops olive oil sprinkle pork magic kids love',\n",
       " 'best seafood fish seasoning found sprinkle kind seafood fish nicely seasoned flavor not salty want salt add separately really nice herbs',\n",
       " 'used paul prudhomme seafood seasoning many years although tried others nothing compares one used fish',\n",
       " 'ok serious like cajun food even not really need seasoning blends pantry got special seasoning everything yet run across one not tasty extreme also order gallon hot sauce flavorful hot sauce ever tried not hot not eat put us government operated like might actually good news day awhile',\n",
       " 'use time happy able get large canister store carries oz jars buy online',\n",
       " 'love seasoning truly magic eat fish time brings flavor feel like television cook use stuff no longer worry running old bay long house',\n",
       " 'used product years wonderful grilled fish little less salty redfish magic',\n",
       " 'still one best cajun spice mixes around price makes no sense buy individual bottles good bargain bought cheap spice bottles filled given away friends family',\n",
       " 'love stuff favorite seasoning french fries unfortunately hard find near find find small jar never lasts long finding huge canister like amazon thing use everything without fear running try fries trust',\n",
       " 'love blend chicken caesar salad used start thinking hours lunch serve chicken hot drizzled fresh lime juice awesome must times checker calistoga',\n",
       " 'used blackened redfish seasoning years made mistake ordering containers wrong stuff blackened steak magic rather returning decided try using best steak like sirloin better ribeye leaner would suggest following recipe exactly use coleman stove doors heavy steel french frying pan cast iron would work well smoke house unless industrial hood never order steak anymore always better home would also recommend letting steak come near room temperature blackening',\n",
       " 'love stuff grilling steak pat steak dry lightly spray bourbon sprinkle seasoning taste like lots seasoning remember lose grilling flip steak side let soak lighting grill grilling lightly brush steak melted butter careful not remove seasoning make sure grill really hot sear outside spray bit bourbon flip steak side flavor similar bourbon street steak applebees opinion mine little better may take times get pat worth',\n",
       " 'good stuff like would get restaurant coat steak preferably ribeye melted butter press steak pile seasoning every speck coated heavily cook steak white hot cast iron pan rare middle almost burned outside go wonderful product',\n",
       " 'seasoned roasted pretzels product works paul blackened steak seasoning yumm',\n",
       " 'bought years ago really liked must changed recipe tasted odd sort medicinal',\n",
       " 'chef pauls blackened steak magic awesome never bbq steak without buying small bottles pay canister twice much seller good price fast shipment',\n",
       " 'paul prudhomme makes great seafood seasoning pork veal seasoning found vegetable seasoning spicy',\n",
       " 'using different seasonings years found seasoning vegetable magic not use anything else seasoning food right amount spiciness use everything including meats soups etc not vegetables would give stars would recommend tried year ago first time went whole canister year people home goes far love got another one',\n",
       " 'put fries broiled veges stir fry asian cooking buy oz go',\n",
       " 'spice would buy oz container ambitious would create video montage us pouring every food eat even pancakes ok not really broccoli asparagus pizza chicken toast eggs even better mix veggie magic w olive oil instant gourmand guests always ask food delicious no matter serve answer always chef prudhomme veggie magic',\n",
       " 'ever wonder veggies restaurants taste better home vegetable magic may reason eat lot catered foods always asking recipes chef paul name comes lot',\n",
       " 'love seasoning use veggies slight heat not hot great disguise veggies not particularly like',\n",
       " 'using least years started fit life stir frying veggies family loved veggies finished every night using ever since veggies meat great hamburgers pork chops chicken etc favorite seasonings chef paul sells grown children families using also used home made salad dressings',\n",
       " 'original product came foil seal open seasoning leaked sent email seller noting gift brand newproduct door step days later excellent service thank making right excellent product',\n",
       " 'hooked wonderful highly recommended taste flavor price tried different teas different restaurants tea houses love one home use nearly every day trying teas future',\n",
       " 'normally hate hate hate citrus anything tea always thought tasted way lemon dish soap smells received tea sampler wow not get enough first citrus flavored tea ever liked life smells really good sorta like froot loops not even need put sugar honey enjoy',\n",
       " 'daughter loved little tin came adagio tea set much got cannister christmas think end regular gift love much really delicious green tea good drink time products tried adagio wonderful',\n",
       " 'pretty remarkable writing review rooibos not product go way buy drink received sample one adagio orders liked liked enough buy rooibos strong true caramel flavor loved product showed liked caramel flavored teas overall good beverage evenings caffeine free fond rooibos shous definitely give try',\n",
       " 'adagio herbal teas highest quality best tasting products existence sour apple probably one least like name tasty nonetheless pina colada berry blast blood orange dewey cherry live names simply delicious',\n",
       " 'tasty tea almost like snack eat bag smooth not need much sweetener',\n",
       " 'adagio herbal teas highest quality best tasting products existence sour apple probably one least like name tasty nonetheless raspberry patch pina colada berry blast blood orange dewey cherry mango melange berry blues live names simply delicious',\n",
       " 'tasty high quality blend little tart prefer mix teas unto great mix white tea evening cup',\n",
       " 'tea delicious flavorful aroma inviting not really require use sugar drink require sugar tea usually something natural sweentness tea makes palatable drink without sugar goes teas tried adiago tea fruit mix',\n",
       " 'pleased individually packed teas ordered nieces christmas although not tasted yet presentation alone simply marvelous could not pleased gifts little ladies speed order expedited amazing thank wonderful product professional merry christmass happy new year',\n",
       " 'love sunflower seeds chocolate cherries imagine delight found chocolate cherry sunflower seeds available amazon packet arrived tore open downed entire contents eager mouth expecting explosion chocolate cherry sunflowery sapidity instead got mouthful hard shells crunched tough outer hulls wondering inventiveness manufacturers somehow injected chocolate cherry flavors hard unopened shells macerated hull softer kernel splintery mash found chocolate cherry flavors somehow gone missing wife came home mentioned ripped chocolate cherry sunflower seeds lacked chocolate cherry flavors fact barely edible wife picked empty packet looked moment hit head dining room chair idiot said seeds planting clobbered antique oak coat tree not know ever married continued always stupid embarrassing things no matter hard hit never learn whacked coffee table emphasis maybe gotten bad batch seeds think order next time manufacturers better not forget chocolate cherry flavors someone going get beating',\n",
       " 'started seeds indoors early march hardened front porch full beautiful bloom throughout garden used four different sunflowers year chocolate cherries smallest pretty heat tolerant handle dry conditions marvelous photography subjects',\n",
       " 'renee seeds never failed yet chocolate cherry sunflowers giant head lots little flowers must seen person enjoy february still enjoying great flowers try upload video show one key found lucky hot winter keep ground relative moist humus covering plants ground correct not soaked become rotten good luck seeds',\n",
       " 'first planted wrong area simply not enough soil depth finally bloomed took bad summer plants beautiful loved deep red color definitely add sunflower garden',\n",
       " 'planted mine separate area next yellow mixed color sunflowers never sprouted shrugs wonder got old batch seeds',\n",
       " 'shipped day ordered arrived within days live opposite coast made order arrived nicely packaged price got lbs oz biscotti weighed kitchen scale cut big pieces add shipping handling comes little per piece approximately local bakery charges per biscotti guess going price homemade biscotti days flavor almondy hardness perfect biscotti hard crunchy not hard could not eat without dunking biscotti biscotti eaten dunked coffee tea cocoa dunked mine chai tea tastes great biscotti not fall apart dunked like almond flavor wish came anise flavor favorite biscotti flavor',\n",
       " 'first ordered try purchasing vegenomicon recipes using sounded intriguing something different ordered amazon not find area sweet rice cooking wine lot not limit cookbooks ordering amazon ever since love cook love product',\n",
       " 'product described needed shipping little slow side box absolutely demolished time got not know bottle not break looked like somebody kicked field goal box',\n",
       " 'read ingredients fd c red no say rice vinegar would not serve hitler another chinese ripoff',\n",
       " 'probably favorite coconut milk fresh creamy consistency no odd aftertaste one great cooking desserts',\n",
       " 'product perfect coconit powder seller quick delivery definitely look buy thanks much mp',\n",
       " 'allergic corn eating marshmallows candy pecan pie etc without able corn syrup real problem lyle golden syrup made cane sugar syrup used substitute corn syrup not taste quite though good think one calls pecan pie made lyle golden syrup sugar pecan pie instance satisfying thing instead substitute pecan pie seems little sweeter corn syrup',\n",
       " 'bought gift valentine day girlfriend pleased chocolate roses presentation taste chocolate definitely not disappoint delicious believe well worth cost even though not eligible amazon prime arrived within five days',\n",
       " 'high quality chocolate packaged gorgeous long stemmed box nice gift impress wonderful chocolate besides',\n",
       " 'since one review hesitant buying went ahead glad bought wife wedding anniversary loved truffles much not share arrived inside nice sturdy box surrounded lots bubble wrap would definitely recommend buy especially special occasions',\n",
       " 'excellent chocolate hachez quality brand reason not give stars reserve hachez red wrapper valrhona one bad experience chocolate otherwise gotten good reviews give second try may gotten stale bar perhaps less perfect batch fine chocolate vary although experience hachez consistent want bite go world market get would not recommend anything taste dares however looking better deal chocolate bars like suggest look world market found dark chocolate tried prices typically run bars unfortunately hachez stock local store several months valrhona must say no flavor review fairly absurd found many dark chocolate bars sub standard never found dark chocolate no flavor',\n",
       " 'hachez far favorite chocolate smooth creaminess dark chocolate melts mouth heaven also not beat price imported chocolate square hachez glass red wine finish dinner blessed',\n",
       " 'one smoothest extra dark chocolates tried compared much higher prices brands like el rey cluizel etc hachez darn good hunk cocoa goodness',\n",
       " 'not care good chocolate shipping candy bar total ripoff not order pirates',\n",
       " 'used favorite dark chocolate discovered dark hachez bars one reviewer thought crumbly guess something cold mouth eating not want dark chocolate not melt tongue well company makes smooth intense chocolate not like bitterness sourness dark chocolate came home germany stocked hachez duty free shop wish would bought stuff fantastic',\n",
       " 'flavorless dark chocolate ever tasted flat taste melts crumbly mouth prefer rich powerful chocolate smooth texture',\n",
       " 'happy see suger free option cake disappointed tried leaves bad aftertaste not light fluffy texture cornbread not purchase',\n",
       " 'love cake mixes diabetic cakes sugar free cake good frostings great pancake batter also great run order love cakes',\n",
       " 'mix probably not something would want use everyday new enough different enough something special add summertime recipe want reward something fun fruity fill bill quickly easily no aftertaste often associated diet drinks highly recommend',\n",
       " 'love stuff price gotten high never find stores want order amazon',\n",
       " 'nice find sweet low candies difficult time finding stores wife diabetic give much nice treat',\n",
       " 'candy tasty want need reduce intake sugar love flavor keep big dish full office officially visitors co workers stop ask something grab handful',\n",
       " 'year old mom watch sugar send candies often favorite flavors sugar free delivered door dose not like receive surprise treat mail cause happy',\n",
       " 'find product supermarket cheaper amazon price not always easy find stores flavors intense rich coffee break pocket helps tide appetite offered one friends asked buy',\n",
       " 'outstanding cheese personality grates well pasta potatoes omelettes wine fine spanish reds cheese especially tasty peary sauv blanc',\n",
       " 'product previously ordered excellent time tasted old hard finally threw away still not figured ever got first place ordered another product amazon somehow got well',\n",
       " 'received tea christmas tea great flavor quickly become new favorite',\n",
       " 'bought brand online indian grocery store usually excellent products able turn cream butter using super blender adding water barely flavor usually buy chao kah brand coconut cream quite tasty flavorful read another review different product making coconut cream complaint not shreds texture mine virtually tasteless',\n",
       " 'description product disceptive product represented powder not powder granule nothing shredded coconut not even dissolve high speed commercial blender unless using product manufacture dark chocolate coated coconut patty useless intention use additive healthy shake ended ruining shake resort chewing undissolved tasteless coconut pieces rather drinking shake additionally way product packaged no protective cardboard preventing slashing top package box opened could rated product zero stars would redeeming quality rather inexpensive gave one package away free patient loves coconut gave back two days later complaining terrible',\n",
       " 'love prefer coffee chicory adds mellowness lowers caffeine without hurting taste however not chicory root available roasted granulated chicory simply added drip coffee maker along coffee match rich dark roast use quarter third chicory',\n",
       " 'chicory wonderful taste recommend mixed coffee also delicious milk',\n",
       " 'stuff exactly described highly recommend use small amounts found going mild panic scooped spoonful',\n",
       " 'received salsa today based reviews hoping something could barely eat heat freak say salsa good great flavor packs good heat call insane bit statement another reviewer mentioned would take months eat whole jar bet go stuff less weeks not get wrong stuff hot not used hot stuff probably send running hills however someone like hot not super hot certainly not insane ghost pepper chili made almost hallucinate im not kidding expecting salsa ate tortilla chips fully coated salsa sucked em without even something drink dont want come salsa good want true chili heads know not insane compared standards enjoy tasty not insane',\n",
       " 'person loves hot hot sauce let tell respect salsa need couple drops stuff get wonderful burn anything put add hot wing sauce get smokin hot flavor add half teaspoon jar hooters sauce got best hot wings around put much something burn tastebuds not taste nothing hot love salsa best',\n",
       " 'fan dave insanity sauce several years decided try salsa consistency taco sauce salsa dave insanity sauce ghost pepper sauce know heat level insane not familiar dave gourmet products would advise working way least eat habanero peppers without issue several steps least get sauce try half teaspoon time per dish mind acclimated good great flavor tastes like put salsa dis highly recommended although first try would recommend day next day ie intestinal turbulence horrid gas love anticipate take months go jar',\n",
       " 'bought bottle dave insanity twelve years ago hot sauce store boulder co back dave hottest sauce made one two drops pot soup made whole thing damn near unbearable yet roommate managed use half bottle around months saw salsa thought knew getting assumed salsa would pretty ungodly hot somehwat milder sauce given contains ingredients like tomatoes onions boy wrong stuff hot insanity sauce even though diluted salsa ingredients not necessarily bad thing heat not kill not even cause real damage feel way not expect empty jar rate scarf chipotle corn salsa green olive tomatillo tapanade though eat little bit everyday tortilla chips sour cream sprinkle tiny amount plateful nachos spread teaspoonful quesadillas last three months think salsa level decreased tablespoons time seems like progress good stuff committed chileheads accurately chileheads committed',\n",
       " 'not purchased product wanted post misleading cream tartar salt tartaric acid cream tartar used baking trying make mascarpone cheese need tartaric acid',\n",
       " 'tartaric acid cream tartar not thing cream tartar made tartaric acid weak salt derived tartaric acid half neutralized potassium hydroxide home recipes call tartaric acid substitute tsp cream tartar tartaric acid buying tartaric acid not looking cream tartar seller not label cream tartar tartaric acid',\n",
       " 'bulk paprika black cloud looming food industry ready storm spice section local grocers suggest take cover immediately least invest sturdy poncho',\n",
       " 'introduced cavender greek seasoning several years ago greek festival versatile use blacken steaks grill pork chops season gravy season hamburgers potatoes give gifts friends love much',\n",
       " 'things even remotely versatile cavender fantastic chicken beef pork never tried fish sure would great try keep least two three cans hand times never run feeling generous even give away friends',\n",
       " 'first started using cavenders teens living midwest first started cooking experimented making fried rice parents bought container cavenders tossed rice fell love using ever since going forty years wife use wide variety dishes simple casseroles complex fish meat dishes still love fried rice not tried glad',\n",
       " 'best friend turned cavender back use many recipes would lost without goes salad pasta veggies meats soups ok never used dessert recipe backpacked east coast australia two months cavender thing made sure pack jumbo size introduced people seasoning secret ingredient popular recipes lately making simple salad torn bibb lettuce leaves olive oil cavender little grated parmesan little balsamic vinegar nothing else not get enough',\n",
       " 'wing time best buffalo wing sauce ever get garlic favorite thought medium hot equally good depending burn preferences hot hot though not inedible though not tried super hot also low sodium care',\n",
       " 'usual took sauce work everyone try not hot person loved great roast beef pastrami sandwich excellent flavor profile thinking things mustard might go using not really hot stomached dollop da bomb final answer not really relied upon aspect',\n",
       " 'get stuff california tortilla first name turned alot crappy hot sauces flavorless heat gimmicky names like one pleasantly surprised mustard tanginess decent heat nothing crazy could take lil hotter tabasco value flavor addiction heat try good',\n",
       " 'one favorite sauces rating hottness difficult every one tastes things different say original tabasco hot not feel par original tabasco heat different flavor colon cleaner mustard based sauce lot flavor main ingredients scotch bonnet peppers mustard not hot not taste like brands one favs like change things extensive collection hot sauce like great addition price seems bit high highest v seen seen low averages around',\n",
       " 'bit nutty clever marketing sauce pretty crappy given chunky consistency fact word colon name pretty much turn appears result colon cleansing ask case odd slightly bitter taste think mustard put yuck',\n",
       " 'nothing hot salsa nothing gourmet salsa not offensive unless expecting hot hot not aside middle road salsa nothing write home ten bucks jar ten bucks shipping feel little ripped side anyone looking really good burn take not waste time child could eat salsa no problem',\n",
       " 'hot sauce no joke loved spicy food since could walk not remember ever eating anything half potent sauce put couple drops stuff nearly everything eat not incredibly hot really nice flavor well careful like label warns clean oil stains driveway w stuff',\n",
       " 'tried sauce chip four drops worth half hour later laying floor bathroom thought feeling dying warned take little drop man stuff hot like hot stuff try caution',\n",
       " 'get sauce first time would take edge toothpick dip sauce get smallest amount tounge burn good minutes let know exactly hot sauce would bet people use sauce additive foods like salsa chili like put burittos football sized ones mexican resturants one drop every third bite eat way prepared pay price mouth burn no relief sight sinuses clear nose run uncontrollably eyes may turn red might hard time breathing not forget second burn next time use toilet serious warning mexican resturant friend ate dave burrito dave kicked go everyone resturant could hear howling pain bathroom know one person eat sauce sauce everyone else tried begged ambulance help hot love one note use additive little crank heat level foods not think hot salsa grocery store hot drops make salsa much hotter favor make salsa easy chop two jalepenjo peppers onions diced tomatoes maybe subsitute chipolte want sweetness juice lime dash dave salt let sit fridge hour hour drain liquid blender add one canned tomatoes blend add back salsa mixing something different chop bit mint salsa give odd taste mouth burn breath cool breath',\n",
       " 'love hot sauce never used like spicy food tried nearly burned tounge tasted sooooo good initial pain love perfect people bored regular hot sauces nothin compares fabulous hot sauce put everything add spice flavor dish put directly food not sure reccomended put directly food love think tried every hot sauce think handle heat try dave proove wrong love dave insanity sauce',\n",
       " 'bottle elixir gods couple years learning lesson hard way use sparingly condiment first brought bottle thermo nuclear liquid home decided make super charged buffalo wing sauce proceeded mix tablespoon frank red hot ounces dumped dozen chicken wings hot oil began eating first wing sensation heat pretty intense reasonably sure committed error judgement eating dozen wings downing couple beers lost ablity see speak think clearly seriously great flavorful sauce tons heat enjoy responsibly oh others mentioned secondary burn sauce not underestimated',\n",
       " 'spice lovers real deal one bag far pretty sure hooked gets hotter eat plenty favorite cool beverage around attempting treat helps not adverse little pain little pricy check web bulk purchases want',\n",
       " 'love able use crock pot stove oven microwave not keep hand regular potatoes sometimes go rot',\n",
       " 'jamaica hellfire great great pork chicken pasta anything think not hot know',\n",
       " 'love sauce although not thick used remember great paste still great love blend peppers',\n",
       " 'one best habanero hot sauces slight vinegar taste not overpowering flavor phenomenal',\n",
       " 'great flavor hawt trust stuff delivers exactly says get ice bath ready wear loose clothing haw haw',\n",
       " 'without words best best like hot sauce try really hot spicy delicious',\n",
       " 'boyfriend uses stuff religously everything cautious seeps thru frig burns heck outta anything touch max cap full set ya fire oh next day stay near pot cuz think hot goin z even hotter comin',\n",
       " 'single hottest thing ever ingested flavor not appealing though like hot fine like painfully hot stuff',\n",
       " 'like hot stuff thing killer put tiny dab toothpick sick rest day',\n",
       " 'started officially collecting hot sauces extracts although started collecting hobby fan hot foods decades plus grown many different peppers including not limited jalape cayenne haba ero thought knew hot tried source collectors extract extract rated nuclear scoville heat units shu tried food additive directly tongue not try latter stuff hottest sauce extract ever lot close seconds not quite peak heat staying power source hot instantly think wow hot creeps even reaching milk ice cream water anything make stop personal favorite highly recommend source anyone true hot pepper enthusiast five stars',\n",
       " 'tried since use every day best thing money buy huge ultra multi hot',\n",
       " 'tried maybe anchovies right mind radio clowns john boy billywould put anchovies barbecue sauce right well not good steak sauces andworcestershire anchovies cant make decent caesar salad without either sauce food amazing ribs chicken not get better not real tomato taste like mainstream bbq sauce not mustard flavor either likeyou find florida south carolina although jb b north carolina nota traditional nc style sauce either thank god cause nc bbq overhypedand overrated stuff ever went whole new direction recipecause nothing else like use finishing sauce grill dilute beer vinegar useit marinade even steak also great rotisserie chicken wings wantmore heat get hot spicy version even better btw favorite recipe ribs using emeril rib rub john boy billy grillinsauce finisher great combination check web creative recipes likethe spammer one spam one bottle grillin sauce oven haw haw',\n",
       " 'glaze finisher put thankee perfectly mild blend habaneros hints papaya honey garlic ginger creamy mustard base fantastic must hot sauce collector scovies',\n",
       " 'routinely keep stockpile fifty yes hot sauces refigerator safe say hot sauce problem sauce gets used fastest purchased often not typical sauce means fruity flavor bring little pain times would recommend sauce anyone wants something ordinary exceptional',\n",
       " 'stuff great everything eggs burgers bbq anything wonderful smokey flavor label says fairly hot true chile heads pretty mild real deal chipotle flavor south border problem oz bottle must type something people buy product local mega mart yes said beware',\n",
       " 'love name sauce tastes great nice smokey chipotle flavor not spicy',\n",
       " 'sauce awesome went month long quest next best table hot sauce read million reviews different hot sauce sites order product product finding flavorless powered powered simply disgusting versatile hot sauce makes fantastic table sauce well excellent marinade wings showcases cayenne garlic without making cayenne garlic much unwelcome immediate medium burn satisfy anyone seeking nice well rounded table sauce btw independent hot sauce reviews non amazon hard go lot video reviews people reviewing hot sauce think want see eating hot sauce cracker crappy webcam review sauce continuing munch mouthful hot cracker gross',\n",
       " 'found hot sauce shopping old town st augustine florida store filled sauces every kind asked woman working favorite instantly led made florida gator hammock order case not without seriously sauce full unique flavor delicious also purchased flavors lethal hammock wonderfully really hot swamp gator medium heat course gator mild hot sprinkles great chili stir fry worth try love hot sauce become favorite',\n",
       " 'wow recommendation store owner husband bought bottle gator hammock specialty hot sauce shop dahlonega ga truly flavorful hot sauce yes hot not kind hot sign waiver make cry would rate heat scale heat great guess trying prove macho kind person thinks eating start dare really love sauce flavor imparts must mystery spice blend mentioned bottle bit fruity peppers not sweet savory notes much complex basic tabasco texas pete not pronounced vinegar flavor case hot sauces not tried yet would imagine would amazing add splash tomato soup bloody mary done half half ketchup spicy burger topping splash scrambled eggs best scrambled eggs ever little pulled pork barbeque along splash vinegar tiny squeeze honey voila instant barbecue sauce cannot say enough good things gator hammock went website day make wide range products guess working way inventory next months',\n",
       " 'amazing hot sauce really like kick notch without inducing extreme pain perfect blend heat flavor goes everything collection hot sauces one almost need case real delight mix sour cream fast dip bound get big points not say enough positive things product world full sauces exist hot truly condiment designed savored',\n",
       " 'first tried sauce firehouse subs nice blend spices right amount heat tastes great subs potatoes lots stuff not ordinary hot sauce full flavor',\n",
       " 'got back firehouse subs numerous sauces available try not huge hot sauce aficionado enjoy good food sauce good not hot not overpowering vinegar base flavor peppers spices strong comes across nicely foods purchasing bottle sauce',\n",
       " 'hey like hot sauce not love garlic best worlds little goes long way purchased well give gift several friends enjoy hot sauces',\n",
       " 'one best hot sauce definitely different flavor buying particular brand years variations thereof',\n",
       " 'aint lying oh man stuff good breathtakingly peacefully hot time unbelievable thick use sparingly slather take punishment great tart sweet flavor shows habanero good stuff',\n",
       " 'using batch batch years hands favorite hot sauce recall first stumbled upon batch thought good went ordered pain good hot sauces give try good crap none compared batch like hot hot sauce must try batch perfect balance flavor heat many really hot sauces hot lose flavor supermarket hot sauces hand often times decent flavor little heat eat batch spice salsa straight tortilla chips whatever needs little kick recently added drops cocktail sauce dipping shrimp amazing available amazon would literally buy case directly folks pain good give half bottles away gifts warning not give people not openly volunteer love hot sauces usually not take heat literally go get batch enjoy',\n",
       " 'sauce great flavor hot thought love jerk seasoning excited find intense heat makes hard enjoy want enjoy jerk flavor get something else want something numb mouth get',\n",
       " 'best hot sauce ever tasted hot habanjeros not expect less also contains pineapple usually avoid however case awesome fridge no less hot sauces times one constant',\n",
       " 'great hot sauce kick boyfriend likes marienate carne asada everyone seems like not hot right kick extra flavor',\n",
       " 'hot sauce full flavor decent amount heat love garlic flavors purchase',\n",
       " 'sauce awesome not insane hot nice hot taste super good',\n",
       " 'hot sauce thicker hot sauces not particularly overly hot like ghost pepper sauce sauces made habenero nor secondary flavor vinegar like tobasco particularly well balanced sauce wife favorite sauce rarely likes hot stuff bad expensive',\n",
       " 'bought product birthday getting answer akin pulling teeth word hawt',\n",
       " 'well york pep patty addict reading ingredients sugar semisweet chocolate chocolate sugar lactose cocoa cocoa butter milk fat soy lecithin pgpr emulsifiers vanillin artificial flavor corn syrup invert sugar egg whites oil peppermint realized not want eat corn syrup avoid years ago not mean first ingredient sugar pgpr believe preservative also never ingredient years ago soy allergen many well eggs ok enough rant trying find substitute see review another honey mint recently tried not totally thrilled yesterday health food store bought one honey acre mint gave try wow yummy filling creamy chocolate velvet consistency mint well minty known would bought ordered box official peppermint patty addiction',\n",
       " 'son missed peppermint patties year honey mints fabulous loves allergy free goodness',\n",
       " 'modeled york peppermint patties mints perfect match chocolate sweet honey filling bit thinner sweeter mints style tell ingredients natural thin layer gooey honey complements unsweetened chocolate beautifully highly recommend tasty treat',\n",
       " 'got local bee keeping specialty store sacramento good came online see get less highly recommended fellow food allergy sufferers',\n",
       " 'tried friend allergies not hooked honey goes smoother sugar regular mint patties mints yummy',\n",
       " 'got tree winter time great condition needles fell almost immediately grown back spring pot real ceramic fully covered moss soil seen pot alone pretty good value',\n",
       " 'received dawn redwood couple days ago not think got impression others first saw tree ordered early year assuming starting get leaves spring wife first impression looked like charlie brown christmas tree love bark tree makes look older trunk tree taper probably average soil top tree inches tall color bark color leaves really beautiful anxious fill overall looks like potential nice tree',\n",
       " 'tree well packaged came watered say younger picture showed updati unpacked put indirect sunlight watered suggested going well three weeks later dead tree traveled across country not sure long box gift say not sure factor amazon wise one good tree still going one dead tree update well not dispose tree found new limb sprout update try recover tree',\n",
       " 'arrived well packed no damage came earily april lush green slightly different pot site acutally like one got better week nothing shown signs dieing would definatly buy brussels',\n",
       " 'not sure say yet tree not expected looked like put stick pot hacked little sent way days leaves turned brown limp hopeing phase wait see ordered many trees amazon great hope one turns aroun',\n",
       " 'taking one world largest trees turning small wonder anyone even balcony truly wonder dawn redwood make fascinating bonsai subject delicate foliage turning autumn yellow brown regrowing bright green spring mine arrived even better looking photo larger trunk base tapered nicely top soil surface covered fine bright green moss tree dormant state december delivery brussel reliable years getting free shipping via amazon prime membership extra bonus whether tree lives dies responsibility require daily watering continual pruning years prepared large box filled peanuts serves secure tree well insulate shipping',\n",
       " 'tree totally brown appears dead trimmed quite funky hope may sprout something spring',\n",
       " 'back march ordered four dawn redwoods nursery ebay feet tall arrived bareroot healthy plan plant three ground replace trees uprooted katrina fourth go pot trained bonsai four trees thriving one pot looked like plant yearned join rest family yard rather forested bonsai collection clearly going take time patience training get look like bonsai decided put ground order brussels dawn redwood glad brussels tree long way specimen already looks like bonsai mature looking minature redwood beatuiful tapered trunk gorgeous lower branching lacking nursery tree arrived pruned favor topgrowth brussels dawn redwood absolutely stunning far superior tree pictured amazon sure nursery tree would acquired look eventually much training loves growing kinfolk yard meanwhile beautifully shaped little tree brussels marvel every time sit outside bonsai collection frankly not take eyes neither impatient nature nor champion acting impulse times instant gratification acting impulse rewards one brussels dawn redwood looks like tree not seedling nothing short breathtaking',\n",
       " 'excellent experience chance see tree recently trip friends home larger healthier immagined friend recieved pleased',\n",
       " 'soooooo upset order ordered christmas gift brother law loves redwoods arrived deader dead saddest looking stump ever seen life charlie brown christmas tree looks lush full comparison never upset purchase amazon',\n",
       " 'good size primitive pruning would preferred not pruned left really bad job bonsai',\n",
       " 'received dawn redwood bonsai yesterday impressed big base plant top stands plant arrived unharmed packaging healthy looking packaging saran wrap soil hold moisture tell someone took great care packaging plant sending could not happier see keep alive',\n",
       " 'initially purchased plant month half ago looked nice pot broken emailed lou new shipped new plant along new pot great great customer service lous bonsai wish ups handled packages better pots broken',\n",
       " 'bought amazon not seller depicted currently plant looked great arrival died days despite trying hard following instructions wonder shipping box depriving light etc days causes damage',\n",
       " 'received dawn redwood today looks wonderful initially nervous purchasing plants online bad experiences nurseries read reviews particular tree convinced try tree arrived great shape actually spent days box well packed looks healthy soil still damp arrival thanks care taken selecting packing shipping tree would no hesitation recommending others',\n",
       " 'bought package deal redwood grove shipped quickly arrived healthy sister husband appreciate fact bonsai live outside small home california foothills',\n",
       " 'picture straight stick lopped top bare branches tiny bits green bonsai plant well packed pathetic unpacked resemblance photos amazon page would pot identical received sympathy gift death family hard imagine absurd item noted sender apparently complained got second sent similar first deceptive photo item needs strong disclaimer use gift',\n",
       " 'tree well packaged came quickly dead would liked written instructions tree rather recommendation call seller also not sure whether tree dormant perhaps supposed look way december still hoping may revive hanging intended gift celebrate marriage could not give dead looking tree circumstance',\n",
       " 'received tree week purchased bonsai trees online vendors none compared starting packing tree could tell packed great care arrived perfect shape tree healthy beautiful far beautiful picture shown amazon tree wonderful aroma smells like forest fall morning could tell healthy immediately sometimes order things line disappointed not enough go trouble sending item back minute saw tree wished ordered order items company hope fine purchase',\n",
       " 'lou lou bonsai true word give cell phone make sure everything arrived order answer questions no matter small one thinks may rate lou bonsai',\n",
       " 'order red dawn bonsai tree great highly would choose place buy bonsai trees place order helpfull questions see soon great job',\n",
       " 'product arrive quickly well packed outstanding job received days purchasing tree arrived still moist green light color leaves expected stress shipping placed shade days gave good mist every day leave kept direct sun light leaves gained full color another thing looked like since last prune job able prune liking also pot awesome feel like bought nice pot got tree free recommend product anyone make sure follow arrival instructions product page amazon shipping no instructions come tree package everything page product right hope helps one',\n",
       " 'recieved product lou bonsai disapointment first opening box pot pieces understand happens plant horrible condition looked like nothing picture understand not tree apparent grower lopped top tree grew like plant looks horrible roommate displaying living room crappy look disapointed avid collector bonsai trees take years bush look like tree contacted lou told going reship never happened not buy lou bonsai totally ruined everything transaction',\n",
       " 'horrific looked like found twig loped top starters sent middle winter christmas gift mom dad might add still not droped leaves poorly potted like going root rock style rock top cut leading shoots needeles say held needles winter never really went dormant peroied finaly droped dry bones leaves near end winter spring came strugled tried bud failed dead dead checked worst attempt bonsai ever seen type tree could not think worse specimen one company use term companay loosly sent stay away form company could give less one star rating would',\n",
       " 'not normally give product reviews amazon even though tend buy lot stuff fact first time wanted redwood bonsai awhile little skeptical would get price online vendor boy treat far best deal ive received bonsai coming inches meticulously packaged much expected heck huge ceramic pot comes could easily set back places not mention beautifully accented moss really content',\n",
       " 'base tree thicker one shown picture received nice taper nice touch little bit moss growing dirt tree came packaged tall box inner styrofoam base protect pot pot base tree wrapped tight thick plastic soil damp upon arrival rest space inside box filled biodegradable type foam peanuts watch get everywhere take tree fantastic tree',\n",
       " 'reluctant buy one reading negative reviews also encouraged positive ones glad decided take chance mailed directly mother gift like reviews say arrived quickly packaged extremely well not single branch damaged pot also made trip perfect condition given fact february expected arrive baren foliage actually healthy full little green buds branches pruned give tree nice shape soil according mom correct type soil not temporary crud made last long shipping time thank making gift nice one mom really loves',\n",
       " 'first order get tape measure measure like description says beautiful bonsai quite tall absolutely beautiful deck outdoor table centerpiece using packaging good lot peanuts shipped great condition nice work run nursery taking good care requires time release fertilizer important water daily especially summer came nice booklet accurate instructions tree shows signs changing come back amend review one day seems like survive fine looks healthy general rule dies first month proper care could bad plant dies improper care',\n",
       " 'yes came packed nicely like reviews say even got earlier expected upset really ugly tree not expecting something perfectly manicured shown picture definitely not expecting hackjob arrived doorstep looked like someone lopped foot order fit box got hour ago seriously debating returning not know make look like anything diseased half dead stick leaves glued trunk straight nice even free shipping still arrived moist soil pot also nice reason star instead less',\n",
       " 'tree ugly not cut away look like little tree tree huge nice ugly top looks like one potted bush cheap buy nothing like bonsai looks like year old made sad present',\n",
       " 'received dawn redwood quickly well packed tree perfect health truly wonder ship nicely half way across country low price nice nearly inch diameter root base one root crossing trunk easily fixed many branches allowing one determine style would like nice tree sale price extraordinary buy pot shipping alone would cost even full retail not likely find better deal anywhere not completed bonsai ever complete excellent starter tree year two look spectacular two months already get many compliments beauty potential three way right think make fantastic forest planting low price',\n",
       " 'first true gut feeling rating three giving four think company really good product shipped fast packed really well not super happy trident maple forest not totally disappointed either really not know expect since item not reviewed could not find many photos never ordered anything alive internet main disappointment probably due ignorance bonsais various bonsais sadly killed seen trident forest brochure really wanted awhile ago idea mini forest sounded really neat also love maple trees really seemed perfect received bonsai today little disappointed saw trees basically look like someone cut tree limbs maple tree put pot may bonsai trees made not know thought maybe mini trees grown seed pruned trained small said not know much bonsais also disappointed read making forest one really try not put trees order try make symmetrical forest almost arranged perfect oval shape also largest tree loose feels like may pop soil moment trees look like stick tree maybe small leaves top tree pruned diagonally planning returning product no probably not unless starts looking sick next two weeks one trees falls pot think cute bonsai hoping take really good care get grow leaves fill honest seen store dollars would not ever considered buying giving four shipped fast packed really well lost leaves think pretty good leaves wilted assuming dark box days also not want rate tree low really not know expect want fair product company also love leaves took photos packed unpacking tree hoping post photos amazon hope helps decide want one like said small cute definitely not like photo posted amazon not thick leaves stems may due season oh tallest tree inches soil top stick',\n",
       " 'great product love brussel bonsai looks better picture package difficult open hey tree not even lose one leaf no exaggeration perfect transaction third tree bought brussel pretty good company not complain',\n",
       " 'received product without information contact anything wrong pot completely cracked appears trees close dying plant currently dormant winter knows happen spring however know pot not fixed disappointed lack customer service product price paid',\n",
       " 'light flavor still good trying stay away ramen soup loaded much sodium answer noodles thin rice noodles package says good vegan diet add small finely chopped mushroom sort small piece veggie filling',\n",
       " 'favorite soup thai kitchens roasted garlic close second mushroom one close third easy make bowl included add seasoning add water wait minutes waiting usually microwave left meat vegetables get larger bowl pour everything add hot sauce sit filling delicious lunch plus bowls useful keep art corner various projects water kids paint keep kitchen use short term storage cooking store small amounts food overnight fridge ramen soft spot heart getting college thai kitchen noodles favorite',\n",
       " 'indeed syrup wonderful smooth taste natural alternative sweeteners good breakfast dishes making homemade granola snacks nice delicious find love sweet dreams brown rice syrup organic oz',\n",
       " 'not get enough hazelnut chocolate almond confections absolutely delicious appropriate connoisseurs european style chocolates however price shipping handling outrageous double price original product',\n",
       " 'really enjoy flavor torrincini aware package traditional hard torrone say hard mean not big fan hard variety soft chocolate versions extremely tasty',\n",
       " 'agree review flavor favorite treats amazing',\n",
       " 'look tasty candy freak try say least extremely dissapointed chemical taste texture like chewing glue nasty would never eat buy goes flavors',\n",
       " 'product great flavor die purchase sugar high goes away',\n",
       " 'arrived nice fresh tad tart expected like',\n",
       " 'good fruit slices flavor tart not sweet dusting sugar good left get little solid not gel like',\n",
       " 'bought cherry lime lemon flavors wonderful not hard not soft perfect amount sugar back soon',\n",
       " 'english husband asked consuming half pound one sitting idea much meal would cost savoy felt fantastically indulged happy',\n",
       " 'smoked salmon absolutely disgusting box neat also put together poorly china would not recommend buying not waste money',\n",
       " 'great service salmon dinner night box design well done enjoyed design',\n",
       " 'purchased gifts box lovely gift box huge looks like photo salmon vacuum sealed foil packaging',\n",
       " 'love smoked salmon great value grocery store get nice wooden box makes great gift well no gift wrap required not wait till next one gets',\n",
       " 'growing oregon coast get used good salmon stuff soggy oily not taste right ended throwing away trying first time life ever tossed salmon disappointing wish could get refund',\n",
       " 'friends south texas know much smoked salmon people wisconsin know raising cattle purposes draining milk everyone purchased product said great crackers supposedly acceptable present smokey flavor made apparently quality salmon anyway bought gift item several times everyone said liked friends type would tell something tasted like excrement like smoked salmon looking good gift someone likes smoked items apparently cant go wrong purchasing product',\n",
       " 'agree shipped nice wooden box used things fish excellent flavor surprised find not expected expected smoked lox salmon like find good deli grocery store not fully cooked salmon actually expecting latter great product however not smoked cooked long',\n",
       " 'used salmon create pasta dish alfredo sauce family absolutely loved lovely green salad garlic bread complement pasta dish would recommend salmon anyone salmon not used snacked absolutely love salmon',\n",
       " 'eaten smoked salmon sixty years love stink stuff enough turn stomach possible second package worse first tasted bad smelled',\n",
       " 'purchased item christmas gifts two people list difficult buy price within alloted budget purchased two eligible free super saver shipping always big plus packaging attractive larger expecting although no idea quality salmon hence rating receive gift would pleased would consider buying item need gift',\n",
       " 'bought husband said best ever order dad make nice gift someone likes salmon also great price amazon',\n",
       " 'salmon not good quality compared fresh smoked salmon alaska maine necessary box made china would much rather pay cents american made product reminds walmart closed rolling pin manufacturing facility near town maine moved production china save cents per rolling pin unbelievable disgusting',\n",
       " 'grew columbia river tasted levels quality smoked salmon worst insult every salmon smoker ever lived not smoked salmon vile slop',\n",
       " 'usually im fresh fish type person however saw unusual packaging price decided give product ago recommend unsurpassable flavor usually not find packaged salmon plus box neat keepsake fish enthusiast',\n",
       " 'thought grav lox really smoked fish tastes awesome not expecting',\n",
       " 'ordered salmon thursday january received january salmon delicious wooden box nice design used store items future',\n",
       " 'not order often anywhere times amazon love eat fish esp smoked salmon though great deal disappointed packages small fish fillets thin really not great taste smoked would given one star not hate would not order',\n",
       " 'offered one daughters found much liking hot smoked salmon',\n",
       " 'anyone fan mahi mahi fish knows distinct flavor non fishy true mahi filet delicious eaten mahi many restaurants caribbean tell took box baked not mahi parts extremely fishy not mahi taste texture seemed mahi fish taste wise absolutely not would not buy',\n",
       " 'buy joseph sugar free cookies quite often not really mind less decadent quality sugar free however bought oatmeal cookies throw package away bad stick chocolate chip cookies leave alone turn goo mouth remind kind wallpaper paste',\n",
       " 'love cookies fatty not cookies though cookie version sin ever held sin tangible form well not cookies job cookies religion would anti christ hitler could not make cookie tasted bad look cooking attempts things taste like grabbed shells peanuts floor stadium shoved mouth intent assaulting taste buds ever wanted assault friends taste buds behold compact way please keep mind chaser type liquid necessity attempting eat unfortunately not present man trying come dastardly doom disks speaking eating one compelled bathroom satanic calling belly upon making vomited profusely first time life taste vomit welcomed note never allowed near anyone ever bulimic anorexic give ever incentive vomit know threw window car would ticketed littering due simple fact lack trait know biodegradable bacterial could not even bothered touch could go bad alas finish taking care cookies going take bag remainder cookies laminated seal forever shipping nato intent cookies banned war edit post upon receiving update nato cookies little known fact cookies first made know else happed chernobyl disaster yeah think',\n",
       " 'eating josephs cookies many years not diabetic look low carbohydrate desserts sweets cookies amongst best tasting cookies category fulfilling eat unlike many low carb sweets wish joseph would make soft style cookies use make great crunchy style cookies still delicious',\n",
       " 'searching aimlessly foods daughter age eat many food allergies allergic dairy eggs soy nuts corn rice apples strawberries came across lone bag cookies whopping local big lots thought would give em shot well best buck ever spent cookies loves not smell bad reviewers claimed yes oatmealy crunchy side get year old eat get two thumbs wish cheaper cookie able find not find anywhere else cept joseph site pay price',\n",
       " 'mom diabetic loves cookies enjoy good taste not cheat diet taste homemade stay fresh package good way feel like cheating diet still good purchased joseph sugar free cookies several years pleased products',\n",
       " 'please not take review dare please heed caution utmost seriousness come across bag like not open consequences great get later proper disposal not let anyone see might tempted opening seeing deceptive word cookie included title two options require items difficult obtain acceptable ways destruction ensure ruinous abominations not return even worse creatures first find thermite similar accelerant burn degrees f second option use rocket escape earth orbit must carefully calculate route sun not get slingshotted back us cannot risk something like consequences ever seen roland emmerich film day tomorrow independence day godzilla etc recall shots people running horrified central location scrambling futility escape inexplicable horrors discovered months digging deep throat style meetings shady parking garages emmerich adds special effects post production uses cookies inspiration extras film finally understand lead actors awful even talented actors like john cusack extras provide incredibly convincing performances andrew johnson widely regarded worst president us history imagine remains fermented like sauerkraut sealed jars put time capsule unveiled horrendous joseph character years later festering stink stick months skunk mated sin scent diabolically baked innocent looking cookie reason giving stars instead cookies given amazing idea spec horror screenplay career hollywood screenwriter flourish due incomprehensibly awful monstrosities',\n",
       " 'like product much desire purchase product product satisfies desire sweet',\n",
       " 'stuff tasted terrible spit content permeated poor mouth people around would not take dare try one hamster cage smell drifting bag couple people tried could not keep listen hard change lifestyle cookies food bad cookies make person feel good true regular cookies removed menu try find something else anything else',\n",
       " 'thought good sugar free cookie no sugar free taste seem little bland think better nice cup coffee crispy light not need alot satisfied actually pay indulge',\n",
       " 'cookies great careful though make eat want great need sugar free treats',\n",
       " 'joseph makes entire line sugar free cookies carbs per cookie diameter personal favorites different flavors lemon oatmeal almond three delicious especially dessert watching carbs nothing taste even hints artificial sweetener flavors chocolate chip peanut butter sort bland pecan shortbread along line pecan sandie rather actual shortbread cookies delicious size low carb dieters need good self discipline order keep actual carb count eating',\n",
       " 'tried email complaint address printed package email no longer active called number listed asking new address call back none came opened bag pecan shortbread no date code listed package smelled rancid stale one cookies long hair pertruded take microscope find resemblence crushed pecans even slightest nutty taste suffice say product plain aweful ca not mess lemon experience asked world market stop selling pecan shortbread sure not buy',\n",
       " 'warning weak stomach dont read giving one star since not think leave blank written company problem sent pictures three weeks gone no response hoping acknowledgment apology alas ordered cookies great comments amazon newly diagnosed diabetic loves cookies opened lemon cookies reading kindle something mouth didnt feel right spit discribed tail appears baked cookie hanging piece spit mouth year old grandmother conservative never posted anything like anywhere heaven knows ate cookies preceding tail assuming rodent tail amazon trusted part life let tell terrified eat anything package beware cookies obviously least terrible quality assurance dept no customer service',\n",
       " 'liked lemon better almond ones bag bigger expected great munchies lots cookies',\n",
       " 'hated taste consistcy cookies not good tried variety josephs brand sugar free cookies not like',\n",
       " 'little cookies quite good however seem produce gas many may give one runs',\n",
       " 'cookies taste ok not going mistake regular cookies good enough size quarter type diabetes well controlled rarely numbers anymore even meal ate six cookies count shot could eaten couple much larger tastier normal cookies not reading high want try not buy large supply sure not thing',\n",
       " 'madelaine chocolates good quality wonderful taste texture not give bellyache holiday special occasion chocolates whether buying easter bunny specially wrapped chocolates fresh well made good ingredients buying could not find individually wrapped quality halloween chocolate figure orange black wrapper close enough glad found something acceptable made dependable even somewhat fancy brand',\n",
       " 'chocolates great idea golf league banquet grab gift however little smaller imagined not golf ball size much smaller like marble sized still made great grab gifts though',\n",
       " 'get busy home like sausage lot quick meal options flavor bit sweet works well lots types vegetables usually slice lengthwise saute done add sweet potatoes potatoes onions pan make skillet bit cheese top food groups one pan meal family enjoys mac cheese peas sausage mixed another option daughter crazy cut sausage coins cook make homemade mac cheese usual add frozen peas sausage finish cooking sweetness sausage salty cheese good easy make',\n",
       " 'use keep finicky toddler protein levels great delicious way imagine cooking sausage favorite recipe sautee one large onion tablespoon dried basil oregano salt pepper butter add sausage cut coins russet potatoes cut thick rounds cover chicken stock simmer potatoes soft not dissolved throw handfuls pre washed baby spinach usually use half pound frozen would work fine put minute earlier stir spinach cooked serve enjoy',\n",
       " 'winter fresh blueberries exceed food budget dried blue berries fine muffins breads puddings also enjoy fruit cereal winter often oatmeal sprinkle blueberries bowl oatmeal wonderful cold morning',\n",
       " 'bought could make fresh margaritas nephew returned afghanistan arrived fresh packed well would recommend site anyone loves fresh mexican limes middle winter',\n",
       " 'fresh limes underappreciated joy kitchen squirts lime juice water makes wonderful healthy alternative carbonated beverages without sugar additionally essential salsa right c lime juice small tomatillos husks removed washed asin chipotles seeds removed asin c cilantro roughly small small onion optional salt tastecook tomatillos tomatoes onion place cookie sheet broil degrees tomatoes come minutes tomatillos onion minutes let cool puree tomatillos blender lime juice boullion garlic chipotles add half cilantro whirl little bit add remaining ingredients let stand minutes serve room temperature',\n",
       " 'product great shipping quick importantly key lime pie delicious taught make simple exotic dessert years ago visting family living marathon resident lime tree front yard living north little bit keys sunshine would arrive box limes perfect fresh grouper fingers lobster tails would arrive another story meantime limes melissa first rate p respect key lime juice not fresh makes difference',\n",
       " 'gift shipped directly melissa told perfect shape size color also said made fantastic key lime pies special treat holiday since live north',\n",
       " 'tea incredible complexity flavor mind tingling like fine wine fermented pu erh tea gets better age product surprised excellence',\n",
       " 'droolin fool thinkin tasty cakes day long cakes cakes cakes japanese bread crumbs use says master yoda thoughtfulness shows ever expanding waistline cakes cakes cakes fresh creamery thighs chunky lumpy rump social services caseworker asks ssi going soon streets bigger burden society reply cakes cakes cakes crustacean junky strung bangor white succulent chunks maine reef roaches infesting soul thick luscious claws pinch sanity crave gastronomic release innumerable patties oh santa god please deliver unto sweet delectable cakes cakes cakes',\n",
       " 'company american classic business years best hot sauce taco sauce bar none good brands oout best nothing compares hot sauce reasonable heat bite adds unique flavor favorite mex foods taco mild sauce milder perfect tacos enchaladas tostadas tamales bell beefers frozen mex dinners harder find green sauce die great everything unfortunately not see green stuff amazon find get try three grew stuff partial keep five six bottles variety shelves times try not want go back run mill commercial stuff',\n",
       " 'different sauce nothing like anything find grocery store closer botique salsas recently appeared new taco restaurant trend little smokey picky old eat burrito family always mild table southern california transplanted south florida happy mail order get little single serve pouches directly company',\n",
       " 'thank goodness mexgrocer love pico pica sauce cannot find product local grocery stores anymore internet shopping makes living podunk town bearable no long lists saved occasional trip big city first name basis ups fedex drivers usps shipments hit miss fit mailbox great not saddle head town pico pica favorite product good love',\n",
       " 'love pico pica adds flavor not hot eat least meals every day good eggs good pizza good vegetables really not go wrong',\n",
       " 'friend grew el salvador made hot chocolate one night wanted know ingredients would used loved drink not quik childhood pop piece large mug skim milk microwave bit notil heated mix w small egg whisk enjoy',\n",
       " 'real mexican chocolate version much better mass produced american chocolate simply cocoa content much higher w european chocolate real dark chocolate w little spice sugar not think requires additional sugar make since want dark chocolate flavor use whisk comes delicious think one best products nestle makes one consistently purchase fact going try powder mix version convenience since chocolate processed probably not good however also received positive reviews',\n",
       " 'sorry champurrado fans not real deal artificial version way sweet please compare others hecho en mexico get amolinillo ps use almond milk make mine',\n",
       " 'nestle comes abuelita excellent hot chocolate fall wintry days sugared dark chocolate hint cinnamon box comes six tablets best way serve heat four cups milk break one tablet put milk chocolate blender blend approximately one minute standard powdered hot chocolate cupboard kids seem go abuelita first add one broken tablet milk cocomotion minutes hot chocolate heaven abuelita homemade dark chocolate taste not found conventional powdered brands product well worth keeping hand hot chocolate days',\n",
       " 'angry not try sooner beats pants powdered stuff pre measured packets sure love hint cinnamon made first batch thought may grainy feel looks little grainy not grainy mouthfeel husband hesistant thinks cinnamon smells like armpits anyway love wish would tried many years ago',\n",
       " 'never used make hot chocolate drink favorite chocolate use cookies chopped chunks mixed dough stands normal chocolate chips beautifully slightly grainy texture comes baking perfectly intact creates wonderful contrast chewy cookie try wonderful',\n",
       " 'daughter enjoying hot chocolate california wanted find locally got home not able find stores ordered arrived quickly well packed product fresh mexican hot chocolate much flavorful regular kinds looking forward enjoying winter',\n",
       " 'not hot chocolate classic sense hot chocolate beverage not wasted young children adults lacking taste buds someone really enjoys flavors textures etc get difference might well stir swiss miss',\n",
       " 'love hot chocolate great drink first couple times made not correctly not good nuke bar chocolate seconds microwave put blender ingredients blend not chalky would sad learned put chocolate microwave put milk sauce pan warm add chocolate stir chocolate melts put blender use immersion blender get spices blended yeah best hot chocolate world go wrong big beautiful piece chocolate hot chocolate drinks kind boring compared',\n",
       " 'couple years ago husband pointed cocoa not tried would always amused granny mischievous smile since would trading smirks abuelita long insisted try not looked back made milk cocoa full flavor complemented nice spicy accent everything else tastes bland comparison',\n",
       " 'came hot chocolate beverage used swiss miss one cold morning moving hot tub rewarded abuelita hot cocoa tastes cinnamon spices like add bit cayenne chili powder delicious',\n",
       " 'found product disappointing not dissolve quickly left gritty residue high sugar almost grams per tab saturated fat listed one ingredients',\n",
       " 'best chocolate drink tasted long time caffeine free cinnamon adds wonderful taste make almost every night add cups milk cup water bring boil add tablet let boil makes servings excellent product',\n",
       " 'making hot chocolate w abuelita years found heat tablet paper microwave spoon softer mostly melted mix not require blender diminish flavor may want start secs warm needed',\n",
       " 'like powder add lattes first discovered going local la coffee house made mexican hot chocolate mexican mochas yummy started making home espresso press blending chocolate milk adding espresso whola homemade mexican mocha thanks abuelita',\n",
       " 'surprised find grandmas chocolate online lol especially delicious product originated mexico mother used give brothers often enough part family say not found chocolate similar flavor whatsoever best chocolate highly recommend surprised great lavor salud',\n",
       " 'got months ago high hopes barely ok kind grainy not dissolve milk',\n",
       " 'best hot chocolate ever tasted cinnamon makes good',\n",
       " 'fabulous drank traveling cancun every morning found grocery thrilled put tablet blender pulverize one time otherwise melt pour hot milk blender else put separate container stir hot milk heated microwave tablet makes four cups add heaping tablespoons yum',\n",
       " 'pleasure taste real deal mexico loved came home sought real deal states guess not look far come pretty good substitute also like brand mexican chocolate tried side side almost exactly love texture often not eat way right package make good mexican cocoa need use paddle put chocolate cup pour hot milk paddle till melted foamy not need microwave yuck not put blender mexican people part not use blenders hot cocoa buy store expensive',\n",
       " 'recently made yet another stop jim apple farm south jordan mn time found wonderful apple flavored soda made mexico essence tastes like light apple juice sweetened cane sugar carbonated simply put good product according information read product first introduced u markets late however least part country not made much impact introduced beverage keeping eye highly recommend giving try',\n",
       " 'product ok think much sugar flavor not strong enjoyed not meet expectations',\n",
       " 'beans good find none local stores carry dried pink beans',\n",
       " 'recent trip mexico introduced tasty seasoning dificult find local markets good kinds meats includin seafood amazing halibut steaks even turkey amazon com amaziing resource hard find items',\n",
       " 'ordered try different types drink sent lot watermelon strawberry hibiscus drinks also not mix well clumpy',\n",
       " 'favorite type gum wish could get locally got quick much shipping though',\n",
       " 'purchased product diabetic wanting key lime pie tasted great would buy',\n",
       " 'not taste natural like real key lime pie recommend skip flavor product instead try lemon strawberry flavors much better natural taste positive side product sugar free low calories easy make general company products good particular flavor product lacking',\n",
       " 'one favorites light dessert great fish dinner salad supper refreshing summertime light texture delightful taste',\n",
       " 'made pie mousse terrific even reorded good',\n",
       " 'looking forward trying product tasted really chemical plastic disappointing',\n",
       " 'not tasty others bulk would pay',\n",
       " 'highly recommend candies best really good price come individually wraped nice colors direrent picture bright colors love give girls boys also oriental traiding brand website really good reviews item look website look item not happy kids loves',\n",
       " 'crazy not soft spot chuckles know darn well one favorites kid not resist package two even today love cherry flavored wish would introduce red package chuckles limited edition boy would hold posterity tip chuckles lovers freeze em last lot longer way well complimented favorite non caloric beverage ladies need watch expanding figures unless stork way god bless chuckles',\n",
       " 'chatchi favorite afternoon treat became mysteriously unavailable vending machine work chatchi panicked would chatchi get work day without chuckles delicious fat free candy provides sweet filled enjoyment earn every day fortunately amazon carries delicious chewy fruity candy chatchi get back job chatchi complaint chuckles black licorice flavor chatchi normally likes black licorice flavor overpowering chatchi needs eat last not ruin remaining cherry orange lemon lime flavors chatchi loves chuckles',\n",
       " 'young nearly half century ago chuckles popular candy really enjoyed eating jellied treats dusted granulated sugar definitely satisfied sweet tooth still enjoy occasion though not easy find old days waned somewhat popularity particular favorite cherry flavor sold cherry pack would bought ton luckily cherry pack not available also enjoyed licorice orange flavors lemon lime however flavors liked least would benevolently offer younger sisters heart days',\n",
       " 'little bumble bee decorations work perfectly cupcakes bug themed party top cupcake green grass frosting one bumble bee adorable kids said taste good',\n",
       " 'adorable used bee hive cake right setting add special designer touch cake turn nice cake piece edible art',\n",
       " 'bees perfect however card opposed advertised left us quite short project',\n",
       " 'purchased load packs exact put beehive cake decorate bbshower not looked great everybody loved getting one crunching sugar getting sugar rush little sugar bee especially liked came directions exactly envisioned purchsed',\n",
       " 'little bees showed perfectly packaged two days arrival estimate super cute made extremely happy afraid would show rock hard inedible goofy coloring little bit exactly appear photo white belongs stripes solid straight delicate firm perfect addition little beehive cupcakes fully intend ordering product seller future confidence',\n",
       " 'thrilled sugar bees use cupcakes held baby shower winnie pooh theme focused food decor honey bees things acre wood cupcakes looked like honeycombs dripping honey bees perfect size place couple',\n",
       " 'wanted tasted great huge success arrived time etc no problems',\n",
       " 'product came within couple days product stayed fresh couple weeks stored daughter birthday party used product top cupcakes tasted great',\n",
       " 'bees cute used put beehive cupcakes son bday party looked great',\n",
       " 'put nordic ware beehive cake baked rosh hashanah last year centerpiece cake everyone commented cute bees stuck toothpicks little cake frosting appeared flying around hive ordered year apple cake centerpiece bees face different directions put pair doorway kissing beautiful addition holiday table',\n",
       " 'bees arrived expected packed super securely pictured problem tempting year old niece picked every single one cake ate even served dessert',\n",
       " 'sugar bees looked cute cake made babee shower look good people asking edible arrived quick price great',\n",
       " 'delighted opened package contained cake decorating bees beautiful made smile knew made excellent choice bee hive cake thank',\n",
       " 'specialty items going pay cost happy procurement product quality wife serious baker loves little bees',\n",
       " 'sugar bees came exactly described well packaged none broken arrived great son birthday cake crazy bee movie could not bring spend load bday cake grocery store bought help decorate cake shipping early end estimated delivery window pleased item consider purchasing similar item next birthday cake',\n",
       " 'ordered decorations lemon lavendar cupcakes perfect no special occasion entertaining dinner looking add little something extra',\n",
       " 'bumblebees arrived time carefully packaged none broken larger expected cute cannot attest taste bought decorate cake small enough flavor not affect overall taste guessing taste like hard sugar',\n",
       " 'little sugar bees hit cake cute addition winnie pooh cake love packed would not break would definitely order',\n",
       " 'bees great none broken cute great price worked perfect one year old bee hive cake',\n",
       " 'first time trying quinoa loved found product well packaged delivered advertised eating lot quinoa stick eden',\n",
       " 'find morel mushrooms package store unbelievable not thanks melissa not experienced better tasting mushroom morel tried melissa dried morel mushrooms package discovered morels good take short trip store day spent woods',\n",
       " 'must say melissa soyrizo best ever tasted even kids love much better real stuff greasy full fat mix egg whites put tortilla delicious takes minute heat skillet add eggs ready not get better thank thanks melissa great product',\n",
       " '',\n",
       " 'love soyrizo hannaford brothers northeast no longer carrying called whole foods store not carry either price soyrizo shipping charges amazon prohibitive disappointed not access product anymore',\n",
       " 'wanting get away pork cholesterol go not vegan vegetarian means choose not eat pork various reasons know goes regular chorizo well not usual meat still enjoy mom awesome chorizo buy soyrizo',\n",
       " 'soyrizo best thing ever happen veganism love stuff much could eat everyday favorite way prepare oven roasted orange peppers red onions bed spanish rice also served many meat eaters love even spanish meat eater still eats traditional chorizo goes home spain yummy yum yum thank melissa',\n",
       " 'love stuff routinely went one package week well made seasoned local stores stopped carrying brand none others even come close goodness melissa perfect ingredient potatoes eggs beans mexican pizza tacos chili stew tons things glad found no longer go soyrizo withdrawals unfortunately online price quite bit expensive finding locally around package',\n",
       " 'love soyrizo available locally would totally buy online not make potato soyrizo burritos soyrizo omelettes special sunday veg breakfasts spicy not overwhelming slightly sweet smoky great texture dummy proof prepare',\n",
       " 'not sausage paste plastic tube shaped like sausage cut tube left log mash one reviewer mentioned would better honest came tub taste fine not remarkable way not sure product better putting tofu tsp spices blender shaping like poop usually vegan fake meats least texturally close not approximate meat exactly least trying soyrizo makes no attempt plastic packaging claims replace pain butt cook no structure burns readily cooked half high temperature like packaging suggested burned quickly cooked half low temperature cut smaller poops could roll regardless long cooked not dry become solid disappointed soyrizo not buy',\n",
       " 'stuff really f n good downside digusting intestine tube package one upsides synthetic animal chunks not package synthetic animal pieces would buy lot often came little tub',\n",
       " 'basically seasoned paste plastic tube not cook well good extra flavoring taste seemed bit weird tasted like plastic gross save money get good quality spices add meal',\n",
       " 'wild huckleberry jam wonderful tastes like huckleberries therefore really enoyed definitely purchase',\n",
       " 'jam amazing great flavor great texture spreads well anything might suggest put vanilla ice cream huckleberry ice cream definitely recommend product bought',\n",
       " 'company delivered reasonable amount time jam tasty would recommend',\n",
       " 'son love jam per jar not eating often fresh fruit flavor wonderful think huckleberries also nutritious',\n",
       " 'normally not use jam consistancy jam usually seedy chunky sweet taste exception huckelberry jam huckelberry perfect balance jelly jam huckelberries not overpoweringly sweet jam use peanut butter great tasting sandwitch thank huckelberry',\n",
       " 'traveling thru montana huckleberry shake incredible full intense flavor home remissed not buying huckleberry products shopped montana huckleberry products tried jam found sorely lacking intense flavor far less enjoyable trader joe good blueberry blackberry etc jams got meek mild thought sugar laden even french bread overwhelmed flavor jam shows weak flavor soon thry syrup topping report would pass even smuckers jams fare far better flavor',\n",
       " 'mom years old telling stories father used make huckleberry pies great wanted give treat googled huckleberry found company selling amazon called store spoke friendly young lady named krista wound ordering pie filling first surprised mom jam loved baked pie said like father think kind crust wasnt good would definitely recommend product',\n",
       " 'excellent product tastes exactly way want huckleberry fix thing get',\n",
       " 'second order company family loves huckleberry jam jam delicious real huckleberries course jam high quality mom new favorite jam anything else highly recommend purchasing company looking great jam try not hesitate truly yummy',\n",
       " 'jam highlights whole huckleberries not sweet real treat us lost local huckleberry bushes development no longer time collect jam brings back flavors thought long gone lovely bit nostalfia christmas',\n",
       " 'enjoy rich spread toast crumpets english muffins etc huckleberry medley looking ripe fresh berries abound preserves makes satisfying complement breakfast menu treat find product not watered please everyone taste',\n",
       " 'wild huckleberry ambrosia like berries tastebud bursting robust flavor somewhat tart quite rare never mistaken common blueberry indeed delicacy extraordinary mark twain named famous character not people know wild huckleberries tend passionate evocative summer sunlight mountainsides mysterious woods images children berry hunting huckleberry bushes small oval leaves blue black berries perfectly round intense flavor unique tartness crunch uncultivated cousin blueberry grows wild elevations feet twelve species huckleberries native washington oregon also grow wild rocky mountains however varied berry season short late july mid september hard find tend expensive huckleberry lovers swoon thick skin wild flavor no berry captures well far concerned berries food god worth every penny huckleberry wild huckleberry jam perfectly captures pure natural taste elite berries buy one jar back buy entire case spread jam toast muffins scones french toast occasionally even pancakes much better syrup another reviewer wrote best jam accompany peanut butter hope try product always jar fridge enjoy jana',\n",
       " 'cannot rate product not open jar problem negotiating amazon purchase although tried get sent another address along several items ended coming instead shipping killer want warn read email amazon sends carefully thing may happen next time ship something address next time buy directly merchant instead going amazon shipping killer stars amazon shipping pages',\n",
       " 'years used grape strawberry jam friend gave us small gift set montana wife loved much became regular users',\n",
       " 'jelly beans tasty good flavor delivered fresh would recommend try new jelly bean flavor',\n",
       " 'look much like real rocks kids loved could eat rocks hit party looked great themed cake tasted like',\n",
       " 'put rocks cake awesome rock candy perfect texture added flavor cake worth',\n",
       " 'rocks attractive husbands birthday cake gave finishing touch',\n",
       " 'big hit meeting attendees tied well mountain nature theme nice serving size people share',\n",
       " 'saskatoon blueberries grow profusion saskatoon bushes mainly northern regions us southern canada berries taste like blueberries not quite sweet make excellent jelly one excellent one often cannot find saskatoon blueberry jam jelly rare taste treat toast jelly also good spread waffles pancakes kone',\n",
       " 'ordered ran another brand huckleberry tea temporarily could not find awhile assumed huckleberry teas would taste not good comparatively allowed mention brand chris tea cottage bigfork montana find web search',\n",
       " 'huckleberry tea arrived lighting fast absolute treat girlfriends visiting mother raved freshness flavor tea',\n",
       " 'huckleberry tea much better expected tea wonderful delicious unforgettable far drank breakfast lunch dinner not week yet',\n",
       " 'received wild huckleberry tea tin gift enjoyed bags hot tea keeping tea bag enjoy flavor could find source source wish order not tea try wild huckleberry products thank opportunity express view ernie gail leasure',\n",
       " 'tea wonderful purchased town years back unfortunately no longer find anywhere area glad able purchase thru amazon would like try products vendor huckleberry tea real hit coffee drinker rarely drink tea tea warm fuzzy memorable experience tea right balance huckleberry flavor good well made product tea would make wonderful gift tea aficionado',\n",
       " 'never like cross cookie cracker kind texture shortbread savory not sweet low carb version fabulous',\n",
       " 'cheese straws yummy unfortunately felt making gain weight part low carb diet gained three pounds week bought eating maybe couple handfuls day delicious may not work well diet update see product amazon took write review not exactly product ordered ordered low carb tin',\n",
       " 'first would like comment regarding previous reviews not think first review done employee not really fair statement rather assumption lacking real fact evidence seems like small company enjoys making cheese straws wants share others sincerely doubt great price company even makes ton profit shame secondly tasting aunt lizzie cheese straws first time fall not eat anyone else literally threw away package popular cheese straw company received yesterday gift tasted tasted bland floury could not even bring finish crave aunt lizzie cheese straws much recommend trying shiraz wine company gave aunt lizzie cheese straws corporate customer gift year bet aunt lizzie slew new customers thanks aunt lizzie',\n",
       " 'read first review read company literature become obvious review either written employee copied literature say cheese straws best ever tasted flavor crunchy feel mouth addicted aunt lizzies cheese straws negative customer service non existent order placed internet subsequently lost even though received confirmation via email offered no discount upgraded shipping no additional product order no discount next order not even apology day delay excuse email order lost guy would problem tomorrow personally count number times email lost last years one hand not first problem order not give tracking number order asked one order placed odds getting one many problems orders go without aunt lizzies cheese straws miss greatly however need hassle associated ordering less need cheese straws ann wish best future suggest participate customer service training classes refrain losing additional customers future follow received email notifying order shipped aug not placed order',\n",
       " 'perfect like mama use make maybe touch better regular customer not problem mentioned customer perfectly lovely homemade cheese snack perfect apples slices playing cards snacking etc',\n",
       " 'purchased fiance away military training valentine day big chocolate coffee lover critic absolutely loved basket shared friend base told enjoyed favorite mixing chocolate stirs sticks regular coffee compared result delicious pricey coffee shop drink would highly recommend get much stuff price hit would even get future',\n",
       " 'description product sub par came big box chocolate covered peanut clusters allergic peanuts tried one coffee not care first time kona coffee items could consume tried enjoyed three biscotti two truffles',\n",
       " 'originally found wegman tried chili olive oil sea salt varieties big hit everyone tried returned wegman get olive oil sea salt headed online recommend try relatively strong flavored cheeses since fairly thick aggressively seasoned wegman got back stock buy great difference cost line expensive',\n",
       " 'probably best crackers ever tasted came christmas gift basket liked much google see get variety contains oregano poppyseed garlic powder thin nowhere flavor hide try smoked provolone highly recommend',\n",
       " 'mate actually not tea tea like beverage originating argentina uruguay primarily consumed countries well paraguay southern brazil brewed dried leaves stemlets perennial yerba mate tree name derives quichua word mati designating gourd traditionally served average tons mate produced year consistency similar green tea mate distinctive full bittersweet flavor note alfalfa resembling tea milder volatile chemical compounds contained yerba mate also contained tea knowing manifold health benefits among plant ingredients alkaloids xanthine theophylline theobromine well vitamins c e several b vitamins numerous minerals south american guarani indians traditionally used plant medicinal purposes inter alia stimulant central nervous system promote mental physical cardiovascular activity enhance resistance fatigue reduce fever mitigate thirst hunger decrease blood pressure diuretic laxative purgative sudorific antirheumatic legend knowledge infusion powers first imparted young guarani woman father mysterious shaman rewarding woman faithfulness staying exhausted father tribe continued search arable land recent years mate become cultural phenomenon throughout large parts south america gaining increased popularity northern america europe well south america sharing mate container straw bombilla symbol closeness friendship family social contexts',\n",
       " 'excellent product used many brand delverde outstanding among would order kids love gnocchi varieties',\n",
       " 'savory little potato gnocchis cook minutes skeptical perfect package contains four servings cups adding calories fat no trans fat cholesterol polyunsaturated fat tasty not guilt inducing comfort food',\n",
       " 'classic seattle tea tea brings back memories hiding away rainy weather sipping delicious naturally sweet cinnamon citrus tea drink tea home tea unique personality seems embody entire mood seattle one cup delicious tea brewed least minutes bring flavors sweeten like stevia natural sugar enhance natural sweetness good touch muscovado sugar india tree rieme french vanilla syrup rebecca review',\n",
       " 'bought box marketspice store stocking marketspice tea bring home barrow decent tea could make hotel room pleasant surprise box done found really missing glad found source web since flying seattle buy would bit top prefer good english irish breafast teas got lipton red rose available locally beat mile not drink milk either really enjoyable tea',\n",
       " 'tried whim past summer see like loved glad order online neither us like driving pike place anymore tea similar say irish english breakfast enough hearty yet mellow difference amazing hint original market spice flavor tell tale cloves orange not enough take flavor whole breakfast realm nor make not add milk like not breakfast course popular heavy tea drinking family highly recommend folks like market spice traditional breakfast teas folks like market spice not particularly want get punched face time lol',\n",
       " 'first tasted tea daughter brought back package trip seattles pike street market hooked first cup rich tastes like high quality tea expensive worth every penny make two cups one teabag no problem love',\n",
       " 'love cinnamon taste tea far best ever stronger better',\n",
       " 'awesome tea highly recommend kick spice orange flavor great customer service',\n",
       " 'great tea warming quite potent fact use bag twice first time steep short time second longer time amazed sweet spicy tea no sugar added glad find remembered taste college days olympia washington',\n",
       " 'first company tea seattle little shop famous open air market pike place highly reccommend red bush orange spice tea wonderful beyond description flavor distinct one would know tea store',\n",
       " 'daughter brought back teabags marketspice seattle business trip liked much wanted not taste like tea tastes like specialized drink high flavored not watered not need anything like sugar cream perfect way',\n",
       " 'love tea comfort rainy washington days even sunny ones perfect blend spice sweetness love keep making wonderful products',\n",
       " 'tea best flavor ever tasted tried first time work instantly fell love strong tea not strong tea flavor intense cinnamon clove citris background hands best tea ever even husband loved tea likes sweet tea no need sugar perfect also double brew tea bags',\n",
       " 'love tea although not days decaf tea breakfast getting headache could not knocked tylenol go headache reliever stopped drinking tea not headache since according website chemicals not used decaf process doubt decaf orange flavoring natural maybe artificial cinnamon flavoring not know experiment not mind headache sure good tasting tea tho shipment time well packaged would buy not give headaches maybe try tea caffiene',\n",
       " 'orange spice tea fabulous needs no sweetening like treat',\n",
       " 'friend shared marketspice tea years ago pleased run across old brochure given ordered wonderful taste still teabags fresh full flavor oils tea cling clear bag come flavor not find anywhere else taste orange cinnamon little sweet may not need even sweeten',\n",
       " 'purchased good quantity hot sauce officer mess ship hot sauce varieties purchased past year one disappeared fast everyone plenty good things say making vanish definately purchase great tasty tasty quality price wish recipe',\n",
       " 'dissapointed sauce remember hot however openning not not buy waste time money',\n",
       " 'must purchase love good flavors sauce unique small region mexico credit amazon supplying give try tasty',\n",
       " 'glad find hot sauce amazon used buy ton drove rocky point mexico phoenix not no huichol hot sauce found makes everything taste great',\n",
       " 'spicy not ridiculously great flavor goes particularly well quesadillas notoriously hard get united states not pick grocery store looking unique flavor spice simple mexican food would highly recommend almost every trip make mexico come back least one bottle salsa huichol',\n",
       " 'must every kitchen adds flavor every seafood sauce make disappointed knorr no longer offers product supermarket',\n",
       " 'yum finished first filet advertised arrived thick styrofoam container several ice packs address near boston fresh regret not order since shipping obviously significant portion price next time not hard freeze glad guys hear',\n",
       " 'purchased product mainly try different flavors tea find flavor like probably buy case china mist tea taste great problems tea leaves getting tea not worry went local supermarket heb texas found empty tea bags box work great fill tea fold top staple',\n",
       " 'big fans passion fruit tea wanted try something different like flavors blackberry fave change pace still got passion fruit go tea though everyone raves good stuff not make enough',\n",
       " 'dual review first part covers delicious needs nothing else china mist iced tea varieties included box packets contains four ounces world choicest tea leaves stellar flavorings mixed dried crushed mango dried crushed passion fruit dried crushed raspberry pure strong tea first experience restaurant daughter works said order iced tea dad not need put sugar lemon anything always looking diabetes fantastic nearly highlight meal outstanding asked manager could share tea secret well use industry best china mist everybody says best indeed flavor pardon complex could rated would nice wine action hints new rush end taste cycle made think would missing tasted like british must drink full bodied teas enjoy apparently americans add much extra water tea coffee french hear order java coffee cup water top second part review concerns hamilton beach iced tea machine add recommend water ice cubes brewing cycle indeed take minutes tea already ice cold may difference home level heat limit maybe fact water not pressured tea much might commercial machine maybe commercial machines much better insulated around steeping container hamilton beach unit made weaker tea would liked reduce amount water see fairness bamilton beach iced tea make commercial models brew stronger teas versus minutes wildly expensive two minutes',\n",
       " 'decent every day loose leaf tea china mist brand good downside tea pulverized fine sediment tea recommend letting tea settle serving china mist not extremely high quality nice every day tea tastes fine sample pack gives chance try variety lasts',\n",
       " 'many food establishments serve chna mista tea lovethe flavor happy able purchase amazon make iced tea maker easy greattaste less caffeine try love',\n",
       " 'love tea no complaints want comment tea packaged comes loose little plastic baggies want use sort filter iced tea maker used cone coffee filter works fine buy inch tea ball loose tea falls right guess not buy right thing',\n",
       " 'people mentioned loose tea difficult filter use french press made coffee good option dilute concentrate desire strength favorite flavors mango passion fruit',\n",
       " 'whole family addicted tea make mr coffee iced tea maker fabulous',\n",
       " 'first tea restaurant immediately tasted natural sweetness tea not bitter tea nor sweet like perfect cup tea',\n",
       " 'neighbor insists evolutionally speaking dogs meant eat meat dry dog food not good golden suppose meat means red meat newman organics chicken chicken meal chicken fat go along vegetables grains disdains vet recommends kind dog food although not specifically newman reduced fat golden retrievers many breeders gain weight pretty easily not watch dog food reduces fat calories preferred many california naturals another good one ok dog not approach nearly enthusiasm beef jerky steak strips knows else neighbor feeds away think treats nice sometimes dog no longer weight problem also helps believe benefits organic pesticide free food health nutritional reasons like support newman brand donates profits millions dollars years form growing line foods not believe dog food commercials ask vet recommends beloved dog complete list ingredients nutritional information newmansownorganic com click pet food organic barley organic rice organic milo organic oats chicken organic ground flax seed chicken meal organic brown rice chicken fat naturally stabilized mixed tocopherols citric acid rosemary organic carrots organic potatoes calcium phosphate sea salt potassium chloride kelp parsley dehydrated lactobacillus acidophilus fermentation product dehydrated bacillus subtilis fermentation product dehydrated bifidobacterium thermophilum fermentation product dehydrated bifidobacterium longum fermentation product dehydrated enterococcus faecium fermentation product zinc amino acid complex source chelated zinc choline chloride iron amino acid complex source chelated iron vitamin e supplement manganese amino acid complex source chelated manganese copper amino acid complex source chelated copper vitamin supplement vitamin acetate calcium ascorbate niacin calcium pantothenate vitamin supplement riboflavin folic acid pyridoxine hydrochloride thiamine hydrochloride biotin cobalt proteinate source chelated cobalt potassium iodide menadione dimethylpyrimidinol bisulfite source vitamin k activity sodium selenite guaranteed analysis crude min crude min crude max',\n",
       " 'used super gold luster dust create exquisite chocolate aspen leaves groom cake son wedding using artist paintbrush lightly coat molded leaves luster dust result startlingly beautiful contrast food coloring luster dust brushes easily imparts realistically metallic color sheen containers small product goes long way making extremely economical use',\n",
       " 'found product search edible gold leaf decided purchase reading rave reviews food items created using however clearly marked not consumed decorative use misleading product',\n",
       " 'product allows make really big splashes providing spiced nuts gatherings fact gold spreads easily allows use little show people amazed edible gold',\n",
       " 'purchased item cake called gold dust never thought would find im glad sprinkled looked like shining star container small go long way worth buying',\n",
       " 'used product multiple times fact purchased four tubs gold silver luster dust five years ago running use stuff gild sorts things renaissance themed banquets including gilding entire roast duck using vodka painting filigree designs onto clients thought prop food looked beautiful not recommend stuff enough',\n",
       " 'great flavor much stronger flavor extract need drop two flavor entire cup coffee no idea little dram less teaspoon ordering larger quantity use drop two coffee yum yum no natural artifical sweetener worry',\n",
       " 'recently purchased several prettypartyplace bottles tiny certainly get job done put two drops oz homemade creamer definitely english toffee flavor also buyer ships quickly usps great product',\n",
       " 'love use superior quality products cook certainly must try product turned must hand product bake used baking cakes frostings excellent flavor make ever wonder subjected grocery store baking products',\n",
       " 'yes expensive not hurt pay bucks bottle extract make break recipe not matter brand flour butter eggs sugar use vanilla cheap ruin creation make taste cheap best vanilla worth price saffron taste like vanilla make house smell like vanilla no alcohol aftertaste however price amazon varies check local prices purchasing might not even save anything walk zabar baking store',\n",
       " 'looking pure vanilla extract clearly states got yesterday lo behold ingredient sugar ai not pure false advertising worst',\n",
       " 'best vanilla flavor incredible making vanilla ice cream',\n",
       " 'baking house let make short sweet stuff simply makes whatever baking taste better prime example making zucchini bread months like theres no tomorrow everyone family always loved purchased bottle nielsen massey pure madagascar bourbon vanilla extract amazon first time used started getting new complements different tastes even better change recipe liked even better really brings richer complex flavor ingredients combined point zucchini bottle almost empty next time go bottle much cheaper ounce',\n",
       " 'okay title may sound like bit hyperbole stuff fanatic ice cream maker home not usebourbon madagas car vanilla beans soaked cream extract use not mama vanilla extract heaven',\n",
       " 'using nielsen massey pure vanilla extract would never able go back using cheap artificial vanilla flavor difference fact friends ask put double vanilla baked goods crave flavor use banana bread chocolate chip cookies custards ice cream basically anything calls vanilla better expensive brand fact not want run currently four bottles guess not live without rebecca review',\n",
       " 'great vanilla always use baking something expensive ingredients serving people not waste smoothies etc use medium priced vanilla',\n",
       " 'best vanilla extract ever tried great baking cooking drinking name aroma incredible rich',\n",
       " 'cooking shows tell important not skimp vanilla extract good stuff good price',\n",
       " 'not tasty real vanilla makes cake cookies desserts nice white not make colorings dull',\n",
       " 'top notch quality used making fondant grandmother wedding cake worked like charm batches fondant still half teaspoon left flavor nice well expect product wiltons name',\n",
       " 'use vanilla making specific colors not want worry dark brown pure vanilla tinting frosting wish could get bigger jars several together less use much',\n",
       " 'wilton products except fondant excellent taste artificial vanilla not strong however recipes use full amount asked not reduce purchase several time bakery mexican real vanilla not used',\n",
       " 'works gives flavor without adding color icing made black forest cake put whip cream icing tastes great aware synthetic stuff real vanilla brown color',\n",
       " 'love clear vanilla flavoring making white butter cream frosting not change color icing',\n",
       " 'good fragrance taste great cooking drop two paint makes walls smell great',\n",
       " 'unfortunate wording item description not make clear artificial flavor real vanilla always brown vanilla beans brown artificial vanillas products wood processing contain petro chemicals taste buds body favor use real stuff even though cake frosting not pure white',\n",
       " 'golf set arrived quickly pictured birthday five year old grandson turned great',\n",
       " 'cute affordable set son golf theme party great size half sheet cake played toys since party',\n",
       " 'used one green ball etc golfer cake made one long hole fairway sand traps water hazards green hubby loved big golf themed party used extra golf clubs balls pins decor table around cake huge sheet cake decorate could see using three greens would not fit right one cake knowing buying wilton made confidant would satisfied price could not go wrong',\n",
       " '',\n",
       " 'first response query would order online posed reviewer not everyone lives near starbucks hard believe know considering seem every street corner believe not still large sections us w starbucks us want good coffee thank god internet amazon verona favorite sb blend not taste burnt coffee boldness without dark overwhelming subtle notes chocolate without icky sweetness flavored coffee makes delicious cup coffee',\n",
       " 'favorite starbucks roast dont go local starbucks purchase price go dont pay shipping handeling stuff plus grind',\n",
       " 'perusal comment verona dark show fans regular verona terribly disappointed favorite coffee discontinued company run way please conclusion unless specific reason discontinue regular verona decision terribly ill advised potentially positive useful feedback ps cannot choose product want specify mention dark verona',\n",
       " 'first reading reviews starbucks website coffee great reviews though might give try went downtown bought bag whole bean caffe verona boy glad made decision bag rich dark brown colors aroma punished years lived without blend yukon blend array latin american indonesian coffees italian roast blend latin american coffees cup flavor weak bold smelled not seem score taste light bodyweight woody feel light acidity topped fruity overtone bittersweetness let bold recommend peet arabian mocha java looking multiblend similar peet fixes whatever lacked starbuck verona mocha java balanced nutty smooth excellent acidity slight bite want closer mix would mix arabian mocha java sumatra satisfied resemblance many coffee drinkers hate starbucks corporate culture popularity like try anything looks interesting caffe verona one better speciality blends starbucks offered almost forgot mention whole beans always rule even ground beans nearest cafe supermarket moment ground coffee comes contact air aroma starts leak grind beans moments put use see notice change taste aroma drinking',\n",
       " 'like strong smooth flavorful coffee tried others keep coming back one second joice would starbucks italian blend',\n",
       " 'love coffee drink black drink days week cups day morning bold strong would not want way delicious may not everyone give stars',\n",
       " 'folks starbucks not exaggerating say french roast coffee extra bold fact probably call extremely bold maybe even ridiculously bold directions package recommend tablespoons coffee every ounces filtered water result likely disintegrate ceramic mug drink not taste bad bitter aftertaste kicks makes throat burn weaken adding hot water package suggests bitter taste becomes pronounced like coffee left heating pot long way drink coffee plenty cream sugar enough cream sugar french roast pretty good would not recommend particular starbucks variety like coffee black unless wanna stay awake week',\n",
       " 'sent coffee two friends back east thoroughly enjoyed getting said delicious',\n",
       " 'best used dinner party family dinner use salad salad better pretty darn special think best meat would chicken white meat flavor oil expllode mouth',\n",
       " 'discovered oils years ago bought one flavor thunderstruck quality use place vegetable olive oil whenever dish calls similar flavor ingredient give extra flavor kick found using sparingly since not know find gone almost bottles bought opened fresh ever thrilled see available amazon lemon oil makes wonderful greek saganaki flamed feta kaseri cheese lime oil fantastic thai cooking many lime based dishes orange oil use salmon marinades well oriental stir fry chinese duck may even try making duck l orange not recall paid initially purchased gourmet oils pricey begin would consider reasonable price especially considering amazon free shipping convenience door delivery bottles also attractive display tall slim take little space counter treat oils',\n",
       " 'great quality coffee best coffee made smooth great flavor',\n",
       " 'really great decaff coffee tried many different brands one alway fresh right flavor highly recommend product',\n",
       " 'purchased decaf mistake supermarket loved going half notice decaf tastes like regular illy also decaf soo want good decaf recommend',\n",
       " 'love coffee puertorrican grew coffee factory street house like coffee string dark rich pregnant could not coffee daughter born looked decaf could get greatness coffee decaf breast feeding no caffeine litte caffeine breast feeding tried many decaf nd failed best decaf tried even decaf espresso starbucks not hold candle decaf bold rich amazing impressed taste non decaf espresso love coffee like give reason coffee hope enjoy much p one people said decaf coffee blasphemy',\n",
       " 'like title said best coffee ever buy hitch spend dollars online coffee go local store bought coffee bucks went store priced bummer especially person limited budget not fail illy check bloom trader joe first',\n",
       " 'enjoying illy medium roast home looking cut back caffeine ordered decaf really bitter made couple times always result using process non decaf comes beautifully time anyone ideas tell got bad batch price frustrating would help would really like incorporate decaf espresso drinking especially evening',\n",
       " 'purchased product kauai hi vacation absolutely fantastic find wishing bought bottles bring home',\n",
       " 'maui sweet onion dressing made small company kauai kauai kookie great tasting salad dressings buy several bottles annual trip bring back us particular listing not say many bottles one getting vendor not respond e mails ordered direct kauai kookie per bottle',\n",
       " 'fruit soft flavorful fruit arrived promptly packaged attractively definitely purchase product',\n",
       " 'really needs information sorts products amount contained jar many people like know much per ounce buying',\n",
       " 'served sample flavor coffee establishment not think coffee makes whole house smell great taste simply delicious hooked',\n",
       " 'far best coffee ever not want addicted particular brand flavor not try otherwise hooked also tried cinnamon blend not care much seemed strong cinnamon flavor love cinnamon check prices website first though may cheaper',\n",
       " 'absolutely love delicious drink usually iced top whipped cream refreshing treat easy make tastes like choclatey mocha thick shake love recommend highly also used smoothie mix also excellent',\n",
       " 'local coffee shop uses mix great thinking buying home wondering someone could post nutritional information thanks',\n",
       " 'big fan patak indian food products chutney delicious much like major grey chutney bit kick would say hot exaggeration flavorful little bit spicy husband not like hot food able enjoy certainly enhanced every type curry dish served',\n",
       " 'perfect written stars vow renewal ceremony arrived quickly excellent condition great favor guests everyone loved',\n",
       " 'excellent item fast prompt delivery received faster stated hit son birthday party favor added personalized tag everyone including adults loved',\n",
       " 'delicious able try job went clearance cents since holiday item not seen sense know purchase online im happy taste great even without fattening items cant wait mmm',\n",
       " 'nobody really knows amango powder pureweight x let try find seller info oz weight ship g lbs pounds item weight g surely item weight isincluded weight ship least sould g contradicts take g pack put box ship becomes twicely less weight probablythey poor mango powder send us empty buy everyone wants know netto weight x ofthis jar mango powder otherway nobody buy empty cover weight wo wo x weight pure mango powder trying find empty shipping box something besides item preventitem broken weight ws ws equations transitively ws wo x weight pure mango powder trying findyet let suppose approximately wo g ws g approximately close not really matter thenfrom equations two g g g x g g x first fromthe second timesheavier weight x first contradictions could not trustthis seller rest case somebody please correct selleror amazon weight arithmetics info would look like gypsy bazar anybody really know one mango powder pure weight looks like x mango powder packed heavy canwith something else heavy like complete waste money',\n",
       " 'first came sherry vinegar milder normal grocery store plonk mind using less olive oil therefore freighting fewer calories good bear mind not acidic might use looking sourness sherry taste good found another use french technique finish reduction sauces shot adds great depth flavor want blow calories saved oil mount sauce end butter add shot vinegar stews normal vinegar might overpowering sherry vinegar merely adds flavor buy case',\n",
       " 'looking long time wonderful product good price excellant service seller',\n",
       " 'started using sherry vinegar salad dressing reading mark bittman recommendation tried brand first like enough sticking ordering use soy sauce olive oil product sometimes salt pepper herbs right wonderful summer fruit salads',\n",
       " 'natural ingredients no preservatives say fantastic no expiration date would eat within week two faster opened absolutely excellent freeze no loss quality not order weather hot ship cool bags cold packs instead styrofoam dry ice orders usually arrive cool not cold',\n",
       " 'syrup illustrates french stay skinny not drink sodas drink syrups way works craving refreshing tasty drink pour tablespoon syrup glass cover cold water seltzer prefer voila mint version refreshing mind opener wakes mind better coffee keep bottle work',\n",
       " 'love raw brown sugar thats ordered one everything perfect one thing cube big put one tea spoon sugur coffee put cube tea spoon tastes sweet maybe perfect',\n",
       " 'excellent sugar coffee tea etc certainly compared favorably sugar cubes good price great price amazon lb box',\n",
       " 'difficult find good saucisson us french always looking good one one pretty good one even not taste like real rosette de lyon one best saucisson side pond would recommend everybody looking good shot saucisson overnight delivery impressive cooled package perfectly time definitely good choice',\n",
       " 'like another reviewer fell love beverage france overjoyed months return found available expensive grocery store near unfortunately kind orangina sold us not beverage available europe ingredients totally different since product page says made us assume american recipe not tasty probably longer shelf life thought would give heads anyone expecting european version miss orangina',\n",
       " 'orangina european drink made real orange juice carbonated water see taste pulp tastes like spritzer refreshing not overly sweet artificial like orange soda really delicious cold drink used could find finer foods market deli getting easier find also price come recently since found american bottler manufacture sell states license french also glass bottle cool shape feels good hand',\n",
       " 'used drive miles sunset blvd l get drink remembered back orangina bottles sold terner liquor exact shape size like clearly could not find anymore searched everywhere including places like bevmo zilch sudden emerged nowhere form slightly smaller bulby bottles something beverage never forget taste lightly carbonated juice stings tongue not sweet still unique refreshing not able locate drink years lingering mind time time every time passed l area thanks trader joe stock em chilled',\n",
       " 'nothing comforting fun orangina bottle photo not justice almost spherical fairly stubby although says citrus sooo orangee well not taste much else citrus flavors form subtle hints drinking orangina almost like aromatherapy adult child pleaser beverage allowed children soda without soda no pop household also wonderful poured sophisticated goblet flavor alluring almost called pretentious properly served place dessert liquor wine spritzer lot us adult earth pod dwellers not drink alcohol want joy sipping savoring great beverage treat like polinarious enjoy oh pulp hardly',\n",
       " 'one things miss austin tx little soft drink orangina first came greek fast food place near congress south capital found central market two bottle day man time get austin must try like right natural orange flavor soda',\n",
       " 'drinking stuff least years europe popular not sweet like orange sodas tastes amazing',\n",
       " 'would not heard orangina recently found refreshing drink although bit pricey making nice treat probably not every day event',\n",
       " 'drink want price afford alarmed meticulously packaged came pleasantly surprised happy drinking orangina wherever maybe maybe may get sexxy cougar man',\n",
       " 'yes juice apparently not person loves drink leading orange carbonated soft drink france love drink not sweet flavor carbonated juice not like super sweet orange drinks normally carbonated like carbonated water splash real orange juice flavor think first tasted juice caf next moulin rouge paris least remember ate lunch stepping tour bus anyway imagine surprise found also sold local tea shops grocery stores amazon deliciously light taste not overly sweet perfect picnics parties rebecca review',\n",
       " 'pricey high fructose corn syrup dont see dont make natural really difficult make hfc free',\n",
       " 'first tasted caf next moulin rouge paris degrees reminded water hose washing old orange middle sahara rather day fact venture guess made bubbles process heat related fermentation experience ordering regretting bucks spent getting defend saying thirsty hoping cold drink ha ha later realize get kind experience better shot freezing bottles water us putting dry ice hoping positive customs experience far far better way obtain cool drink least vienne france gave nice inn keeper twenty got free use tiny fridge found remarkably strange use juice colas water topic get almost four dollars per bottle weak watered slightly sweet beverage cross hold mandarin orange pulp minor amount pulp rather dingy looking stuff settled bottom grainy lot carbonated water husband calls poor word water likes fill sentimental niche say france expensive adored much travel country like bottles save peel labels use rosemary oil kinds herbed oils like make drink pawn unaware visitor got nice bottle use making bath oils great lavendar scented bath potions love give regard not sam moment two us would not could not one foot bar car not not cathedral beagle icosahedral not drink sam not like watered juice jar',\n",
       " 'not drink years first time connecticut au bon pain restaurant recently virginia highlands area atlanta cool coffee wine grocery store daughter loved began search online since not sell area fresh delicious wish easier get great service order however shipping amount high',\n",
       " 'item bought gift good friend mine shipped delivered less five days could not pleased service delivery company',\n",
       " 'would make wonderful summer drink one refreshing drinks every pulp notice pulp would definitely purchase stars',\n",
       " 'kombu wonderful energizer especially summer cold flu season drop one strip boiling water minutes remove cut smaller pieces add cups water add teaspoons shiro miso mild white miso heat stir miso dissolves avoid boiling ingredients add cubed tofu soft best spinach swiss chard cut thin strips shiitake mushrooms cut thin strips scallions thinly cut including green part reserve half soup garnish heat not boil minutes servie splash soy sauce little extra flavor kombu mild flavor best not overcooked softened great vegans better chicken soup enjoy',\n",
       " 'got make homemade sushi rice job flavoring rice get quite bit package thankfully amazon asian supermarket not',\n",
       " 'new korean cooking several recipes intend cook calls dried seaweed seaweed saw korean cooking tv shows thin texture lucky welpac dashi kombu dried seaweed purchased amazon right kind seaweed great recommend brand seaweed whenever recipe calls seaweed',\n",
       " 'product amazing came quickly taistes delicious ground put smoothies oatmeal lots dishes delicious healthy',\n",
       " 'candies tiny box not worth spending',\n",
       " 'mother law loves product looked several sites could not find without havig cases pay happy find amazon',\n",
       " 'physician surgeon concerned physical fitness patients gayles truffles without question best low cal chocolates ever tasted favorites milk chocolates good drawback expensive portions small satisfying dr j gerber los angeles',\n",
       " 'nice package found sweet expected jar contains lots pieces fruits no doubt plus sugar lemon juice mixed tbsp mg calories strawberry peach tbsp mg calories apricot combination one color preservative ingredients warning people allergy issues great bakery mix plain yogurt',\n",
       " 'know expiry date jams could not find date bottle please let know expiry date',\n",
       " 'bought us visiting parents thai sweet chili general favourite type dipping sauce saw amazon garlic favourite cooking ingredient thought would give try lucky find amazing use everything egg rolls prawns chips despite fact garlic favourite cooking ingredient often come across dishes condiments taste garlic powering much good thing gotten balance right ordering several family friends next us',\n",
       " 'thai chili roasted garlic wild tymes best take block cream cheese spread tablespoons thai chili top serve triscuit crackers popular home parties plus cream cheese cuts spicy heat',\n",
       " 'ran across winter spread block cream cheese served crackers guests ate asked got quickly ran inadvertently threw jar away jotting name went back got emporium gone found ordering several parties well give gifts stuff fantastic not fan spicy serve cream cheese keeps calm palate highly recommended',\n",
       " 'sauce may seem little expensive goes long way absolutely delicious hot not painful much flavor sweet not sweet garlic not overly dominant awesome fresh salad rolls anything chicken great ingredient peanut sauce fried fish etc etc',\n",
       " 'way hot blood took bite jig lol',\n",
       " 'husband brought home whole foods thought frippery delicious thing classical chinese medicine practitioner use medicine made red chili peppers garlic means strong energetic properties wow medicine use help chase cold flu works beautifully better still addictively delicious not dip anything eat teaspoonful right spoon keep wanting another teaspoonful yum also single jar lasts forever',\n",
       " 'bought winery new york got home used shrimp stir fry delish definitely kick like spice would highly recommend',\n",
       " 'disappointed eucalyptus leaves stale oregano like smell ask local florist get fresh leaves',\n",
       " 'much roses expected pleased color aroma drawback lot green stuff flower bases lot recipes want petals',\n",
       " 'rose buds precious soft aroma pretty look plan use small sachets bags bought use rose colored ribbon adorn bags glad seller bought several things gave refund combined shipping costs',\n",
       " 'crunchie good healthy kids love em want snack besides program stop eating fantastic',\n",
       " 'granda po perfect snack crave something crunchy delicious also healthy enjoy guilt free love flavors son begs fan even shipped brother platoon iraq everyone loved',\n",
       " 'really good find grandpa po originals filling delicious since technically whole grain way better house doritos',\n",
       " 'looking absolutely guilt free snacking keep looking however craving snack crunchy salty buttery satisfaction minus preservatives unhealthy ingredients normal snack foods grandpa po way go closest get guilt free snacking not found fruit veg aisle supermarket simple ingredients make crunchy popcorn soybean snack extremely satisfying not naughty compared million snack foods not mention many unpronounceable mystery ingredients included not things want put body destination wedding brought cases nutra nuts put guests welcome bags well no one even mentioned local gourmet treats bags grandpa po hit everyone walking around w grandpa po originals pouch hand things great clever packaging allows reseal keep fresh next urge snack although usually not necessary customer',\n",
       " 'tried snack looked healthy not expect great wrong good buy supply runs low john',\n",
       " 'good snack good price good shipping not bad good distance',\n",
       " 'great munchies need something snack love popcorn doctor ordered perfect',\n",
       " 'always loved snack time seem enjoy little bit daughter huge fan glad grab go nutritious snack satisfies tastebuds us even tried slightly spicy brand flavors allows us satisfy like spicy not snack thus no arguments kids',\n",
       " 'anything actually better food snack certainly fits bill gotta try tasty crunchy plan corney like bottom pot kernels used fight kids kernels fit bill however no longer fight cause bag full great job creating things excuse nibble',\n",
       " 'love snack ordered one case since ordered salty enough satisfy cravings spicy enough give little kick sweet enough stop grabbing candy bar not think better healthy satisfying snack food got try trust not disappointed',\n",
       " 'grandpa po originals scored big party fun factor half baked nuggets organic popcorn blended dry roasted soybeans surprise hit kids adults young nibblers approached snack quizzical caution tasted bowl quickly emptied partygoers eager refill grandpa po come slightly unsalted slightly spicy',\n",
       " 'crunchy popcorn snack soybeans grandpa po created makes us want meet ol man give pat back questioning slogan package better food however no questioning recipe great tasting healthy snack mix organic popcorn organic soybeans makes great alternative snack food love sealable pouch right proportion soybeans popcorn product comes company celebrates food hooray',\n",
       " 'outstanding delicious earth things simple yummy mix nuggets made organic popcorn organic dry roasted soybeans delicious head may actually explode taste slightly unsalted majorly addictive crunchy snacks good',\n",
       " 'love snacks grandpa po originals great snack satisfy hunger craving crunchy great flavor hard stop eating whole bag one sitting',\n",
       " 'great grab go snack satisfy love pop corn not eat much husband hates breath eating movies take grandpa po originals instead keeps hogging bag know soy beans healthy way enjoy eat love',\n",
       " 'munching years ca not believe not write review earlier basically healthier organic alternative regular popcorns might surprised much firmer texture popcorn first go couple like appreciate quality crunch right balance sea salt hooked fast chugging ziplock bag mouth mouthful tasty treat no not need reseal pouch spicy version good not spicy slightly spicy highly addictive try not go back greasy popcorns yay grandpa po',\n",
       " 'grandpa po originals students favorite prize classroom school district banned junk food incentives kids grandpa po perfect fit kids get bag complete assignments month love snack work hard get work done parents love reward many students come back buy take home family thanks grandpa po better food snack',\n",
       " 'looking nutritious snack ever wish favorite buttery popcorn little better answer grandpa po orginals innovative snack made organic soybeans comes slightly unsalted slightly spicy family friends love terrifc snack bonus also organic good us eat whole bag kids friends love requested bring grandpa po nutra nuts snack turn girl scouts confrimation tennis team lucky able enjoy years thank betsy nj',\n",
       " 'grandpa po originals crunchy nuggets made organic popcorn organic soybeans healthy snack offers benefits soy without genetically modified organisms cholesterol peanuts preservatives addition snack low saturated fat tastes great',\n",
       " 'indoors outdoors wherever go grandpa po originals provide families fun tasty anytime treat perfect playing super school lunches serious snacking',\n",
       " 'tried every one line products say blown away satisfying not much not little every recipe falls within personal taste parameters well everyone know tried em matter ratio carbs protein low sodium etc makes attractive snack diabetic compelled write review really hard satisfying cravings diabetic gets love carbs hard finding low carb snacks give satisfaction say loaf bread crunchy sweets etc grandpa po line literally saves often cheat stuff drives blood glucose bad handful stuff literally benefit health fellow diabetics take note',\n",
       " 'grandpa po best snack ever driving around la often find stuck traffic blood sugar starts drop add stress late next appointment basket case grandpa po perfect snack take road not salty sweet satisfy need nosh without feeling gross even feel fortified plus come nifty zip lock bag keeps fresh even leave car couple days never want caught traffic without',\n",
       " 'grandpa po originals slightly spicy wonderful savory organic snack not spicy first ends great finish sum one word would wow would recommend young old alike',\n",
       " 'fantastic product keeps fresh months bag desk opened packet resealed product still fresh several weeks product spicy not hot flavor enjoyed whole family diabetic hard time finding low sodium low calorie snacks grandpa po products low sodium low calorie also taste great would highly recommend',\n",
       " 'one finest seasoned salt blends ever enjoyed citrus one excellent seafood think great moderation bet striped bass filet swordfish steak broiler pepper not included',\n",
       " 'item arrive well packed timely manner described best price treats found',\n",
       " 'lot tea price no sweetener needed product works better expected also not realize much ordering enjoying product good taste',\n",
       " 'love product helps keep things moving use twice day afternoon evening dieting great product helping maintain weight',\n",
       " 'product works well taste great nice touch end day please use directed please',\n",
       " 'works great also help weight not like drink much drink needed',\n",
       " 'one got says cleanse box not know means know picked one not say cleanse box angry one costs way cheaper angry not going bother go refund process plus took ages arrive',\n",
       " 'like product would not use daily learned hard way stronger think',\n",
       " 'one must know dieter tea helps mostly moving bowels along careful first unpleasant',\n",
       " 'tea superb taste actually look forward drinking tea dinner summer drink iced tea also delicious hot drink use splenda fresh mint brew fabulous',\n",
       " 'using laci le beau super dieters tea years no subsitute many women family use well keeps moving better anything else suffer chronic constipation would recommend anyone could use gentle natural laxitive never felt like taking harsh stimulant makes feel go like normal hate poop talk worth sharing lol',\n",
       " 'tea works fiance digestive track issue colitis product along essential enzymes helps absorb digest foods otherwise would give pains digestive track thank making product plan continue using long',\n",
       " 'using tea years drink full cups every night go bed begins take effect next morning gave bag friend try loved well orders online',\n",
       " 'not use tea dieting natural cleanse keep body free harmful toxins effective used years first time users may experiece cramping awhile cease great effective product',\n",
       " 'used product past highly satisfied works well would caution first time users not make tea strong results may good',\n",
       " 'reality strikes drinking tea every night years best thing keep straight n narrow',\n",
       " 'though not purchase amazon get recently thw grocery store admit im really disappointed followed instructions first evening exactly instructed included paper no results second day brewed little longer still no luck basing comments users amazon today not paper instructs even brewed minutes still nothing really wanted work like others heard good things excited still no luck guess im one people doesnt affect ill keep trying daily till run looks like ill try something else taste not bad tastes like tea leaves not deliciously fantastic not nose pinchingly undrinkable good luck anyone else hope success',\n",
       " 'no idea reviews brand dieters tea talking followed directions nothing happened brewed stronger cup still nothing even measured water let tea bag seep five minutes nothing stronger tasting tea box tells not drink cup hour period drank three day not even thinking nothing happened tasted like cranberry tea nothing else strange',\n",
       " 'bought product based reviews saying tastes great extremely disappointed soon started steeping smell filled kitchen daughter even asked horrible smell sadly tea tried tastes like sweaty socks also gross tried adding honey drinking cold drinking hot etc taste horrible far diet aid not think guess lot excrement possibly even doubled suggested amount still not anything happen no not toilet lot either product big thumbs',\n",
       " 'tea product got running alright crapper help loose lbs mostly compacted fecal matter also feel energized feeling alot better taking product best friend couple cups black coffee since taking last month craving coffee sweets subsided however bulk toilet paper great product great buy',\n",
       " 'happy order arrived time described thank',\n",
       " 'love tea taste really good smells good well husband year around tea drinkers also dont even add sugar well use honey teas one not need anything extra say really work drink plenty water threw day usually cleaning lol not stomach pains anything eat well also recommend everyone',\n",
       " 'never drink tea alone always steep another tea oolong jasmine taste not best use honey sugar sweeten hatch goes expect um gastrointestinal responses next day sometimes feel bit cramping sometimes not sometimes take next day work sometimes not',\n",
       " 'not buy tea amazon grandmothers cabinet haha dieting past months completely oblivious special teas cleansing although know drinks pills cleanse wanted steer clear type pill oblivious benefits cleansing even not dieting tried tea two months ago words super dieters thought ohh special tea drank evening job loosen things found odd first read package got help usually dont um go much helped not since using along eatting habits exercise diet showing better results nothing drastic still better results always great tea cinnamon spice think tastes devine add not even teaspoon sugar think tea not even need sugar like sweeter recommended tea family members friends dont diet love taste results',\n",
       " 'product great really works lost total pounds two months wihout exercising reconmend product everyone',\n",
       " 'first foremost make sure not let tea steep long let steep recommended two minutes not run bathroom like pants fire let steep minutes decent trip bathroom not explosive diarrhea way eat mostly women need clean plumbing every fabulous way not recommended everyday use',\n",
       " 'tried tea given western medicine needed help pms irregularities great product go dim emerita pro gest nt period months drank tea finally started great also helps mood swings traditional medincials company trusted drinking tea years',\n",
       " 'product works well arrived time although one box little dented overall would buy product',\n",
       " 'good stuff like lentils not need soak small feel good mouth',\n",
       " 'not good yummy smell like cloves cooking taste little sweet',\n",
       " 'adzuki azuki beans ment used asian sweets make sweet bean paste boiling beans min changing water least twice draining mashing beans sugar strain paste not like bean skins get paste put ice cream fill pasteries stuff mochi cakes',\n",
       " 'good beans not find grocery stores live ordered retailer no problems',\n",
       " 'sorry took long satified bean sprouts purchased enjoyed much thank karen schiller',\n",
       " 'not look like lot arrived not take much fill quart jar sprouts days sprout nearly sprouting rate wonderful pad thai chinese rolls',\n",
       " 'used recipe called buddah feast golden temple cookbook lovely legume',\n",
       " 'hear beans great health giving properties still experimenting recipes easy eat require certain amount preparation planning incorporating regular diet',\n",
       " 'not able find potato starch local stores went specialty cake decorating stores told product could found regular super markets not case came across cake recipe called potato starch wanted use ingredients stated happpy found product small large quantities web site definitely book mark end product beautiful looking great tasting cake',\n",
       " 'gluten free starch used thicken soups gravies main advantage starch thickeners permitted ingredient passover unlike cornstarch grain based foods liquids thickened potato starch never boiled supermarkets often stock among kosher products used cakes gentle sauces no taste comes flavor ingredients comes silky fine remember not want let sauce boil starch gluten free diet may able use',\n",
       " 'learning cook gluten free difficult especially like bread experimenting product mix flour like mother far experiment could not without',\n",
       " 'recipe cooking light recommended potato starch added cupcakes cakes etc reduce amount butter worked well would recommend company fast ship well packaged',\n",
       " 'say potato starch potato starch review barry farm instead potato starch barry farm going get things cheaper much cheaper buying products barry farm several years great deal shipping fair unfortunately flours starches weigh lot shipping not cheap purchase items expensive buy locally things not find locally finely ground white corn flour sweet rice flour ivory teff items better quality buy locally best sorghum flour anywhere usually order pounds product time reduces overall price per pound reasonable cost',\n",
       " 'may great products shipping incredibly slow shipped days placed order not yet received shipping price unreasonable',\n",
       " 'bulk style grain purchases concerned gluten cross contamination no problems product',\n",
       " 'purchased make popcorn saw andrew zimmern bizarre foods ethiopia episode season three placed small pot lid medium high heat canola oil added sorghum kept kernels moving amazingly actually started popping half expected simply burn popped quite nicely sorghum kernels small producing miniature popcorn slightly larger unpopped popcorn kernel popped sorghum heavier fuller taste regular popcorn best no kernel husks end result little fluffy popped sorghum experimented popping different quantities found keeping amount limited works best larger quantities significant number kernels not pop however not bad unpopped sorghum kernels delicious well not hard crunchy unpopped kernels nice toasted flavor lot like corn nuts sorghum one wonder grains used everything making sugar molasses animal feed alcohol biofuel know makes nice popcorn well',\n",
       " 'wasten money time tried air popping no popped tried skillet popping yet find already popped bags maybe redeem not return wasted time money birds squirrels seemed like',\n",
       " 'saw program evening place could find sorghum sale excited try',\n",
       " 'key popping high temperture oil puffed many types noodles popped many kinds seeds need right oil google high temp cooking oil get point starting smoke little point put grain pop goes',\n",
       " 'tried pop l ike pop corn think heat high scorched instead try slow steady heat',\n",
       " 'hubby considers hot sauce expert always searching perfect hot sauce friend gifted bottle tenessee red lightning continues sample new sauces declared tennessee red lightning favorite staple shipped worth highly reccomend tennessee red lightning hot enough like hot',\n",
       " 'several years ago went tour celestial seasonings tea factory boulder colorado guide showed us bales tea arrived machines ground mixed tea machine put tea tea bags tour included visit room peppermint tea stored guide told us peppermint stored separately would not contaminate teas not tell us come doorway peppermint room surrounded bright red stripes served warning us innocently strolled peppermint room smell peppermint overpowering entered nose head lungs whole infused peppermint rush crowd stampeded room hurry rest day next could smell taste mint addicted',\n",
       " 'celestial seasonings best plump bag fresh tasty peppermint leaf brews clean delicious cup tea peppermint one enjoyable herbal teas naturally sweet clean taste peppermint herb many uses traditional herbal medicine reputed relax muscles digestive system helps relieve nausea peppermint combats flatulence promotes bile flow digestive juices mildly anesthetic effect also eases indigestion supposed relieve anxiety tension soothe headaches calm symptoms associated menstrual cycle celestial seasonings gets extra points packaging utilize natural recycled paperboard boxes not package tea bag individually instead use system waxed paper bag inside box stays shut fold keeps bags fresh utilizes less packaging individually wrapping bag art use box beautiful quotes information put every surface',\n",
       " 'organic ginger tea yogi tea ideal digestive aid also purportedly enhances circulation lovely intense natural herbal tea made organic ginger root organic lemon grass orgnaic licorice root organic peppermint leaf organic black pepper taste exactly like ginger spicy peppery sweet overtones nice anytime especially meal definitely impressed tea yogi teas general ginger organic tea comes expiration date good thing not full preservatives plus tell fresh yogi tea seems another company like numi aspen traditional medicinals values sustainable healthy practices web site helpful glossary tea ingredients beautifully designed info tea make yogi tea writes box tea benefits organic ginger tea something offer anyone wants get stay healthy millennia herbalists world known healing soothing energizing qualities root considered universal medicine organic ginger zingiber officinale used worldwide safe mild home remedy variety conditions including motion sickness occasional upset stomach intestinal gas well minor menstrual cramps ayurvedic practitioners used ginger years way activating body fire element agni burns ama body toxins comprised undigested food naturally occurring toxins ama decreased body gains strength balance harmony natural warming energizer ginger also known support immune system promote rapid complete digestion increase intestinal tone peristalsis furthermore works antioxidant shown safely effectively relieve nausea associated motion organic ginger tea tastes delicious provides highest quality timeless remedy warning box indigestion heartburn persists see doctor no cautions warnings box except standard disclaimer tea not intended diagnose treat cure prevent disease highly recommended',\n",
       " 'first yogi tea great product one not like taking xanax really good tea relax tasty soothing good else say tea hard time finding local stores glad find amazon',\n",
       " 'tea pleasant cinnamon like aroma cinnamony carob like flavor take longer brew worth takes edge stress enjoyable tea morning nightime take morning hour stressfull meetings hour go sleep stressful day like stock prepared things get tense',\n",
       " 'fair share green black teas received certain tea present good friend cannot tell amazing tea got two things going tastes awesome pleasant consume taste big deal tea tastes amazing burst amazing spices flavours come tea downing something not healthy consuming something everything taste wrong enjoy tea goes nice smooth leaves pleasant taste one reviewer said leaves nasty taste would not agree believe relaxing overall awesome taste kind stress disorder probably not tea want no tea whizz not really think getting tea relaxing effects would way go get delicious tea sitting cup type really love tea looking something tastes awesome want sit chill tea go',\n",
       " 'kava stress relief tea yogi tea anxiety relief unusual tea slightly sweet contains stevia carob good news not usual kava taste smell many people find offensive bad news not feel anxiety relief effects tea although say kava root extract tea still lovely cup tea relaxing tastes good also taste spiciness tea pleasant usually brew two bags one cup recommended package stronger relaxing effect however even tried four bags still not notice relaxing effect familiar kava overall effect kava pretty subtle anyway something aware experience tea may different kava stress relief tea comes expiration date good thing not full preservatives plus tell fresh many organic ingredients ingredients kava stress relief tea kava root extract carob pod indian sarsaparilla root organic cinnamon bark organic ginger root organic cardamom seed stevia leaf barley malt natural hazelnut flavor natural cinnamon flavor natural licorice flavor amazingly taste many lovely complex cup tea would rate taste five stars flavor uniqueness yogi tea seems another company like numi aspen traditional medicinals values sustainable healthy practices web site helpful glossary tea ingredients beautifully designed info tea make tea bag tags metaphysical sayings like breath voice soul head must bow heart yogi tea writes box tea benefits kava stress relief tea helps calm relieves stress anxiety minor pain well lending gentle support digestion kidneys member peppercorn family kava piper methysticum highly prized medicinal beverage plant whose primary benefit alleviating anxiety kava kava native oceania south pacific islands used cultivated ability calm body mind encourage good night sleep powerful antispasmodic herb promotes state relaxed unconcern compromising neither mental functions nor clarity thought used appropriately furthermore kava shown relax uterus relieve menstrual cramps minor menopausal symptoms herb research foundation indicates scientific data supports use kava minor anxiety stress restlessness muscle tension mild pain added flavor formula complemented stevia sarsaparilla organic carob enjoy warm soothing cup kava stress relief delicious way relax addition standard disclaimer tea not intended diagnose treat cure prevent disease warning box ask healthcare professional use liver problems frequently use alcoholic beverages taking medication stop use see doctor develop symptoms may signal liver problems e g unexplained fatigue abdominal pain loss appetite fever vomiting dark urine pale stools yellow eyes skin not use persons years age pregnant breastfeeding women not use alcoholic beverages excessive use use products cause drowsiness may impair ability operate vehicle heavy equipment note media scare kava several years ago not kava root opinion based research kava safe however not physician health concerns check appropriate professional decided give kava stress relief tea four stars since not really work still wonderful recommended tea may work',\n",
       " 'empty stomach controlled environment plenty water felt no physical change stress levels least not way feel immediate sense relaxation xanax like homeopathic medicince highly diluted product bunk tastes good maybe could little placebo effect',\n",
       " 'reading many reviews thought would product worth trying boy wrong not taste disgusting required pinching nose every sip not bring feelings relaxation stress relief even tried two tea bags nothing followed steeping heating instructions still nothing gross would not recommend anyone else',\n",
       " 'taste pretty good although not feel stress relieving properties said least no regular tea would still tasted great',\n",
       " 'kava stress relief tea yogi tea anxiety relief unusual tea slightly sweet contains stevia carob good news not usual kava taste smell many people find offensive bad news not feel anxiety relief effects tea although say kava root extract tea still lovely cup tea relaxing tastes good also taste spiciness tea pleasant usually brew two bags one cup recommended package stronger relaxing effect however even tried four bags still not notice relaxing effect familiar kava overall effect kava pretty subtle anyway something aware experience tea may different kava stress relief tea comes expiration date good thing not full preservatives plus tell fresh many organic ingredients ingredients kava stress relief tea kava root extract carob pod indian sarsaparilla root organic cinnamon bark organic ginger root organic cardamom seed stevia leaf barley malt natural hazelnut flavor natural cinnamon flavor natural licorice flavor amazingly taste many lovely complex cup tea would rate taste five stars flavor uniqueness yogi tea seems another company like numi aspen traditional medicinals values sustainable healthy practices web site helpful glossary tea ingredients beautifully designed info tea make tea bag tags metaphysical sayings like breath voice soul head must bow heart yogi tea writes box tea benefits kava stress relief tea helps calm relieves stress anxiety minor pain well lending gentle support digestion kidneys member peppercorn family kava piper methysticum highly prized medicinal beverage plant whose primary benefit alleviating anxiety kava kava native oceania south pacific islands used cultivated ability calm body mind encourage good night sleep powerful antispasmodic herb promotes state relaxed unconcern compromising neither mental functions nor clarity thought used appropriately furthermore kava shown relax uterus relieve menstrual cramps minor menopausal symptoms herb research foundation indicates scientific data supports use kava minor anxiety stress restlessness muscle tension mild pain added flavor formula complemented stevia sarsaparilla organic carob enjoy warm soothing cup kava stress relief delicious way relax addition standard disclaimer tea not intended diagnose treat cure prevent disease warning box ask healthcare professional use liver problems frequently use alcoholic beverages taking medication stop use see doctor develop symptoms may signal liver problems e g unexplained fatigue abdominal pain loss appetite fever vomiting dark urine pale stools yellow eyes skin not use persons years age pregnant breastfeeding women not use alcoholic beverages excessive use use products cause drowsiness may impair ability operate vehicle heavy equipment note media scare kava several years ago not kava root opinion based research kava safe however not physician health concerns check appropriate professional decided give kava stress relief tea four stars since not really work still wonderful recommended tea may work update r benjamin say comments important use hot not boiling water boiling water may kill part kava helps one relaxed please see comment section information thanks r benjamin comments',\n",
       " 'tea tastes pleasant first sips starts tasting pretty foul hate hate hate put stevia want tea sweeter allow put sweetener not assume sweet want tea use stevia leaves awful taste well giving anything contains weird not yummy sweet taste prefer tea unsweetened choose sweeten anything drink use conventional sugars not taste terrible give bit relaxing feel stevia really ruins wish could take',\n",
       " 'relaxing want nap drink take nap contains no caffeine gives nice break every day stresses',\n",
       " 'tried yogi kava stress relief tea user valerian root herbal tea year ago success wanting try something different finding situation days needed get one consistent time one day week needed get three hours earlier thus causing great amount upheaval sleep schedule night early morning earlier reviewers noted strong almost metallic note tea tried stevia sweetener previously not particularly cared not seem constitute entire note sensing not finding pleasing must herb however taste not displeasing valerian palate compare steep two teabags approximately minutes water almost boil add tea instructions said tea could steeped long minutes add splash cream generous tablespoon clover honey mine within twenty minutes feel effects noted not feel differently say mention fair mere five feet two inches barely clock one hundred pounds still would say credit would not put sleep used one teabag test anxiety foresee using near future instead knocking simply stops mind racing relentlessly least experience',\n",
       " 'purchase tea boyfriend due much stress goes daily basis tried tea says helps calm also helps sleep placing relaxed state',\n",
       " 'tea helps relaxation not boiled try boiling water putting two iced cubes water steeping otherwise kavalactones killed heat tea awful stevia sweetener maybe not not used not like not want tea maker deciding sweet tea especially trash stevia',\n",
       " 'tried tea insomniac wanted something help put sleep unfortunately barely palette tea wretched last note taste stevia never tasted stevia reading reviews instantly knew issue goes throat tastes disgustingly sweet not good way either not usually put sugar milk tea one people drinks strong black chais straight complete killer like super sweet teas may not understand would put sweetener tea going perhaps make separate version without stevia not purchasing continue hunt strong sleepytime teas not sweet fruity minty',\n",
       " 'not find pits saying something whenever buy cherries store always warn may contain pits sure enough always find one good without lot sweetener also not preservative flavor',\n",
       " 'dried bing cherries absolutely delicious used wild rice toasted pecans side dish plan use roast pork tenderloin soon excellent quality price',\n",
       " 'love cherries ripe jammed dried way get eaten lot different kinds dried fruit different providers stale ended throwing',\n",
       " 'looking buy dried strawberries came across offering description says air dried strawberries without sulphur dioxide picture shown ingredients list sulphur dioxide not saying good bad not describe selling accurately',\n",
       " 'dried strawberries taste good indeed addictive eat one usually end eating several sweet sugary taste texture brand dried strawberries makes feel like eating candied strawberries not expected description paid attention review complains sweetening not buy unless want eat strawberry candy buy another brand lets enjoy natural strawberry flavor texture',\n",
       " 'not believe real strawberries think product made strawberry pulp sugar knows seem like slightly healthy strawberry gummy bears candy',\n",
       " 'never cooked baked dried strawberries came across recipe granola try called dried strawberries purchased bag barry farm strawberries amazed pure flavor soft texture came back barry farm must choose berries peak ripeness berries rich pure strawberry flavor perfect consistency particular food buy want good quality bother bake something inferior ingredients would highly recommend barry farm dried strawberries anyone truly excellent',\n",
       " 'ordered item thought freeze dried kinda like dehydrated not taste like pickled rolled sugar yuck original strawberry taste gone company sent promptly great packaging really thought something else page not provide good description product really',\n",
       " 'wantd make barefoot contessa recipe strawberry scones calls dried strawberries expecting get something akin dried cranberries raisins disappointed called candied strawberries since hardly resembled fruit coated sugar ok recipe not feel good feeding family save money pricey use craisins instead go chocolate',\n",
       " 'got last night excited wanted make crystals first boiled alum water stove created goo substance pretty fun not work needed entertaining desolved hot water stove much better not cool goo thingie excited see crystals get stuff thank',\n",
       " 'used product elderly aunt pickle recipe made pickles crisp much better price grocery store',\n",
       " 'supposed get product shipped week came days second time bought barry farms impressed times',\n",
       " 'got item quick expected would use seller needed could not find item local grocery much needed make childs play dough',\n",
       " 'product seems high quality service great',\n",
       " 'price product good took long time arrive cost shipping excessive',\n",
       " 'ordered four one pound bags product extremely impressed way packaged tightly packaged thick plastic none spilled leaked shipping furthermore product worked great project tanning animal skins price right barry farms terrific job certainly continue order products future first order certainly recommend others',\n",
       " 'good alum food grade arrival date bit disheartening set earliest days ordering however arrived within weeks using alum make wallpaper paste google wallpaper paste since checked barry farms website many quality products also available amazon fact already ordered two products use preserving yoghurt making needless say selecting product illuminated world barry farms good quality offer',\n",
       " 'ordered product another item barry farm thru amazon ordered product stated item stock two weeks emailed asking status order emails never answered cancelled order thru amazon never received info barry farm order not shipped contracted appears stock understand not communicate buyer never barry farm',\n",
       " 'buying lot alum lately use play dough recipe came granular form boiled water using recipe thank good quality pricei actually called barry farm product questioning granuals not comes grocery store lol owner got back quickly knowlegable product',\n",
       " 'use hygentic reasons well shaving procedure times also used creating beauty products bag alum',\n",
       " 'no issues order satisfied product regards timeliness accuracy order prices reasonable would make future purchase',\n",
       " 'product exactly saw delivery time purchase experience great shoping future',\n",
       " 'not tried product yet ordering shipping easy prompt thanks',\n",
       " 'needed alum dyeing hand spun wool natural colors got package delivered home fine time realized got aluminium sulfate instead potassium aluminium sulfate two different properties cannot use aluminium sulphate dyeing not open wool fibers potassium aluminium sulphate according wikipedia common misnomer adding chemical formula would helped great deal saved time package delivered not chemical formula name aluminium sulphate also chemical formula not mentioned website proper naming would made life lot easier product good condition arrived home impressed well packaged',\n",
       " 'love stuff eggrolls anything asian suddenly favorite chinese restaurant better yet traveling somewhere near great wall addicted stuff delicious goes great moo shoo anything chinese food lover know sauce must settle nothing less love stuff sweet salty tangy yum oh way little goes long long way',\n",
       " 'paid fifteen ounce jar roughly bucks three grossly overpriced avoid ripoff look cheaper also measured fifteen ounce barely eight ounce cup fifteen ounces not liquid measure actual weight',\n",
       " 'use meats fish poultry vegies purpose dip et al cheap special gave big bottles family friends xmas years ago hooked not sorry brought sauce kitchen',\n",
       " 'made crab rangoon used sauce dipping sauce great love fact not msg right amount sweetness little spicy right amount',\n",
       " 'using sauce years amazing use everything spring rolls salads',\n",
       " 'stuff good mom gave bottle go eggrolls hooked upon first dip perfect blend sweet spicy stuff yummy even people claim dislike spicy asian kind exotic fare find delicious',\n",
       " 'sauce fine however not resist flagging particular piece idiocy hope someone might able convince amazon next time sauce comes pack one bottle broken yep guessed amazon sent new pack two asked return unbroken original cost little time much going cost amazon ship process returned bottle guess good mine really beyond bounds possibility someone split pack sent one replacement bottle',\n",
       " 'want spicy different flavor sometimes lightly seasoned plain piece beef chicken put sweet chili sauce rice wow perks whole plate times cook meat without seasoning add every flavor mood reheat kept open bottles refrigerator months without problem never tried sauce thicker heinz ketchup slowly add sweetness heat right another way use steamed vegetables add peanuts sliced almonds serving',\n",
       " 'sauce good tastes not hot enough brands tht sleeper heat makes sauce multi layered sauce seems ahve one layer',\n",
       " 'love sauce sweet hot use checken wings instead buffalo sauce pan seared scallops shrimp versitile delicious',\n",
       " 'use banquet kitchen many dishes perfect blend sweet pinch heat toss chicken wings great bar food home another idea combine sweet chili sauce heavy mayonnaise granulated garlic finely chopped parsely ginger powder splash siracha give delicious sweet chili aoli perfect burgers sandwiches egrolls potstickers fries fish even chicken like said good serves great base things salad dressing marinade buy sauce bulk find youself using everything',\n",
       " 'not mean asian sauces easily best sauce ever put everything gotten hand go way see else latest thing pouring peanuts coating peanuts sauce eat nuts spoon keep hands clean sounds gross delicious',\n",
       " 'goes self proclaimed condiment queen nation keeper saw asian market go huge bottle looked ingredients no preservatives added colors good good said went everything also good got home wow amazing garlic hot sweet dippin fool',\n",
       " 'tiny consolation easy thai barbecued chicken cut usual fryer quarters cook slowly charcoal quickly hot oven brush generously sweet chili sauce cook minutes authentic isticky rice also delicious brown red rice thailand people squat hibachi sized braziers sidewalks sell portion sort barbecued chicken sometimes trot alongside inter city buses pull stations sell chicken windows not squeamish treat remember sauce enhance flavor fowl blackbird condor whooping crane',\n",
       " 'read nine reviews preceded wondered product depending person taste could consistently receive five stars something suspicious nope tenth five star rating row tough best sauce kind kind ever old guy around right sweetness right hotness would love soak chicken well dip egg rolls chicken nuggets big bottles not last back fer shure absolutely worth worth little price stuff standard every home along plumbing sincere apologies reviewers doubting',\n",
       " 'really great sauce slightly expensive stores great egg rolls dipping sauce many chinese foods also great sauce make chili thai sushi roll',\n",
       " 'sauce good anything cook grill use dip veggies etc enough heat make everything taste better',\n",
       " 'cook lot chinese dishes household sweet chili sauce must one favorites sesame chicken could not seem get flavor right added yum',\n",
       " 'whole family loves sauce use primarily recreate dish maui adds wonderful sweet spicy flavor sauce service order spectacular several bottles arrived broken replacements received within days amazon service fast easy reliable love amazon also many recipes look using sauce good goes spectaculary coconut milk vegetables chicken shrimp pasta love',\n",
       " 'looking good sweet sour sauce chicken based reviews took chance well no one family likes stuff tastes nothing like sweet sour sauce like says chili sauce stuck two huge bottles sometimes reading label really matters',\n",
       " 'mae ploy sweet chili sauce becoming standard condiment dinner table right blend sweet heat mae ploy enhances taste meat fish foods catsup almost condiment past salsa mae ploy answers',\n",
       " 'not purchase product amazon purchased oz bottle local store must say one addicting sauces ever pretty picky eater vegetarian sauces play key role making average meal great one sauce almost perfect sweet strong garlic taste first not thick red hot brand not like much thick not flavorful way chunky sauce would appropriate children like little kick chicken nuggets not son loves spicy food like mommy another plus calories tablespoons much sauce goes long way gram fiber thing hard time personal issue texture red chilli tastes great thin clear skin horrible crunchy texture pieces not get stuck mouth teeth hits nerve makes feel bit queasy still eat anyway lol continue one best sauces ever tasted would recommend anyone try sauce first try others not fully satisfied sauce amazing store oz like easiness ordering online not find near know would pay amazon price day buy sauce not care buy fall love',\n",
       " 'love stuff put chicken even steaks sweet bit spicy little goes long way',\n",
       " 'tried sauce first favorite place eat happy able order home cooking great spicy hot sweet',\n",
       " 'kids love sauce many things great rice chicken spicy sweet highly recommend',\n",
       " 'mae ploy sweet chili sauce best use instead duck sauce check try hooked',\n",
       " 'sauce excellent blend sweet spicy love eggrolls rice anything needs extra kick give try',\n",
       " 'great multi use sauce great using baste grilling fish chicken shrimp pork etc',\n",
       " 'best years ago used loved moved could not find purchased many hot sweet sauces years trying find flavor recently found world market addicted everyone mentioned great ways use favorite use salads along little fat free dressing eat tasty salads every day without cheese sodium mg per tablespoon amount added flavor worth every mg',\n",
       " 'ever wondered delicious dipping sauce crab wontons pei wei amazing sauce chang chicken love stuff discovered pei wei someone left bottle laying quick snapped picture took amazon found great pretty much everything previous users say also thai restaurant night used sauce amazing salad try salad consisting sliced mangos lettuce onions red peppers drench ingredients stuff everyone think master chef',\n",
       " 'one favorite sauces handy order get two giant bottles last taste perfect not faint heart however',\n",
       " 'first tasted sauce visiting alaska served fish tacos perfect combination sweet spicy could not find locally ordered amazon available reasonable price wonderful fish pork chicken not tried beef not sure would good not also terrific vegetables highly recommend product',\n",
       " 'use stuff pretty much everything turkey sandwiches homemade sushi scrambled eggs chicken nuggets perfect not spicy not sour not expensive either love',\n",
       " 'sooo good followed advice thought outside conventional box sliced cabbage onion sprinkled mae ploy chili sauce lime juice made nice salad kick also good cilantro daikon',\n",
       " 'not truly spicy year old loves stuff great chicken even chicken nuggets spring rolls crispy ones even fries sweet spicy one good',\n",
       " 'purchased sauce exact sauce used hot sauce bar tijuana flats goes amazing steak tostadas home cooking works wells marinade condiment',\n",
       " 'introduced sauce good friend mine cambodia runs thai restaurant bar wondered sauce used ramikens served delicious crispy spring rolls actual sauce handmade directed try brand since yrs ago mother friends used sauce fried chicken wings grilled sauteed chicken pork spring egg rolls even sushi keep large oz bottle fridge year round best brand used thus far not hot not accustomed spicy foods mostly sweet try not disappointed',\n",
       " 'mentioned give try instant party food frozen meatballs sauce great chicken name anything party snack happy hour food put sauce would work however prices vendors obscene bottles stuff bottle asian grocery',\n",
       " 'go mothers home one day cooked fried chicken rice taste chicken good day introduced mae ploy sweet chili sauce sauce excellent sweet mild hot not burn mouth give heart burn continue purchase product chicken fish foods tasteful try good',\n",
       " 'brought dipping sauce dumplings egg rolls made home taste great think sauce get thai places cause tastes exact',\n",
       " 'delicious makes gourmet cook novice put chicken pork steak ca c est bon wish could say chinese love purchase amazon prime saves trip market makes wonderful hostess gift',\n",
       " 'like product unique taste enough spiciness sweetness make different goes virtually anything not tried cooking imagine would add lot stews soups etc keeps well last bottle got lost pantry several years old found still tasted great belongs along heinz worcestershire sauce catsup etc condiment staple',\n",
       " 'love asian flavor w extreme heat sauce w wings mellow mushroom knoxville tn immediately asked bartender could find brand sauce perfect amazing flavor',\n",
       " 'best sweet chili sauce found anywhere say sweet hey sweet chili sauce supposed sweet rich full flavor everyone family likes even wife not stand anything anyone would consider hot loves sauce pepper head like like little kick try adding sriracha hot chili sauce learn love',\n",
       " 'without doubt finest sweet chilli sic sauce world use hot cold dishes including chicken venison roast beasts superb seasoning plain rice quinoa bulghour cous cous sweet hot authentic buy larger bottles time refrigerate open one save back insurance could not run varied menus without great red elixir',\n",
       " 'plenty times eat came mae ploy sweet chili sauce eat whih flavor exciting taste one favorite restaurants',\n",
       " 'sauce something permanent staple table everything gets dash two three',\n",
       " 'best sauce market use almost food product especially good veggies',\n",
       " 'near perfection would preferred slightly higher cocoa content overall bar quite delicious raspberries case freeze dried made perfect compliment chocolate excellent mouth feel melt would give four half stars let',\n",
       " 'delicious chocolate freeze dried raspberry chocolate adds nice tartness chocolate searched everywhere near buying online',\n",
       " 'disappointed popcorn many kernels not pop future not purchasing popcorn amazon',\n",
       " 'corn kernels small popped result small popped corn not good children not pop hot air popper',\n",
       " 'like popcorn small crunchy',\n",
       " 'supposed tender popcorn anything seller not respond emails requesting refund sorry ordered product',\n",
       " 'blame amazon com not ammish country recommendig otherwise good popcorn bought hot air popper instructions popper said not use small kernel light popcorn right flew popper chance pop',\n",
       " 'cannot believe vendor nerve sell nasty bottom barrel popcorn anyone not even fit pig slop',\n",
       " 'although popcorn advertised presto poplite hot air corn popper small light work machine even stated instructions came machine not recommended type use made good duck feed though',\n",
       " 'love popcorn use corn traditional oil popper really bad u coconut oil tried orville reddenbacher b c cheaper never husband not like small pieces popcorn frankly say use spoon',\n",
       " 'unable buy hulless popcorn area first time since young days enjoyed type popcorn would recommend everyone give try really enjoy eating no kernels stuck teeth tasty',\n",
       " 'even no hull popcorn hulls contain moisture kernel cause popcorn pop no hull popcorn hull shatters popcorn pops hull not noticeable no guarantee every hull shatter invisible pieces popcorn varieties hull varieties not notice much',\n",
       " 'bought popcorn amazon recommended least showed air popper reviewers said popcorn not work air popper not got enough weight stay popper long enough pop quality lightness actually makes good popcorn otherwise recommend stove top popping deep saucepan lid',\n",
       " 'interested fact popcorn supposed pop less hull however read popcorn also pops smaller consequence not quite sure expect placed order figured would give try kernels pop size penny average smaller used however wind eating handfuls anyway hulls fact definitely less pervasive huge plus hulls old maids huge turn regular popcorn use elecrtic oil based popper always unpopped barely popped kernels however first type kernel tried popper not sure fault even still old maids expected popcorn pops fine',\n",
       " 'popcorn excellent husband love taste not mind eating several pieces time make tiny size rarely hulls eating not get stuck teeth however could see would never work air popper far light would never stay chamber long enough pop stovetop electric popper like definitely worth try',\n",
       " 'popcorn great young kids infants petite size pop well air popper tilt popper back bit keep kernels pop',\n",
       " 'love lady finger popcorn much flavor million times better microwave popcorn thousand times better popcorn super market warning good stuff never want eat regular popcorn',\n",
       " 'child grandmother got popcorn sent straight fields missouri white tasty not need butter salt search find ever since not kernels quite small worst pop lot old maids makes tuff pricey indeed contacted seller issue told pop lower microwave setting not help gave stars pop ok tasting keep looking',\n",
       " 'small kernels lead small popcorn wonderful flavor like use make kettle cup sugar cup oil cup kernels popper awesome',\n",
       " 'always loved popcorn could not find not discovered found perfect place get shipped time fresh delicious',\n",
       " 'taste great using air popper not great little seeds fall popping',\n",
       " 'ordered amazon recommended go along redenbacker popcorn popper got hey actually pop small unpopped kernels get thrown popper absolute waste money',\n",
       " 'amish country lady finger popcorn not hull free search find product arrived quickly well packaged crisp mild flavor everyone seemed enjoy anyone dentures appreciate product think',\n",
       " 'kernels small much smaller movie theater popcorn also lot unpopped kernels popcorn small tastes like eating larger hulls ratio kernel hull closer worst three amish flavors tried baby white clear winner skip go straight baby white',\n",
       " 'another wabash valley popcorn pops small absolutely delicious kernels left unpopped whirly pop buy one sure',\n",
       " 'tried wide variety popcorns generally find quality brand excellent lady finger popcorn far favorite brands varieties popcorn tried tender flavorful bit sweet highly recommended',\n",
       " 'love much healthier popcorn feel good feeding toddler small delicate burn not careful cooking stove top',\n",
       " 'husband makes whirleypop popper bacon grease mercy love promise',\n",
       " 'liked not say loved turns prefer bigger kernels one small tasty one especially prefer smaller kernels',\n",
       " 'popcorn hulls not care not labeled hulless not deceptive thought price would bad use whilry pop popper review relevant method produces somewhat light crispy popcorn fairly large size real popcorn taste think would pop larger though good coated popcorns like make not best tasted though fireworks makes delicious hulless varieties spoiled afraid company ships fairly fast shipping cost would expect ruined amazon prime though pay shipping drawback said quality popcorn plus h cost not buy simple no reason',\n",
       " 'popped last night love popcorn like large poofy kernels not like small kernel popcorns one light little crunchy good flavor think selling point type hulls shatter pops hullless not get big painful pieces hard popcorn hull teeth like larger varieties think popcorn kernels small hullless air popper find small kernel popcorns fly could try different cooking method pop mine saucepan stove little bit vegetable oil lid keep flying also air poppers not let popcorn fly seen microwave bowl like air popping microwave heat source no added oil anything like air popping people even use paper bag microwave think method use little oil many ways cook popcorn instructions pretty easy find internet need',\n",
       " 'wife says cook two things omelettes popcorn popcorn best always used popcorn grocery store amish country lady finger popcorn far superior store bought flavor good not use butter delight eat taste texture husk corn seemed disappear left almost nothing dig teeth give product five stars look forward trying style popcorn offer',\n",
       " 'purchased popcorn gift friend amish birthday arrived good condition',\n",
       " 'buying lot cream tarter lately one many ingredients play dough recipe thank great quality price',\n",
       " 'found product good daughter baking muffins school use product product useful muffins gave product good taste eat enjoyed eating product',\n",
       " 'big fan cumin familiar mainly via affinity making chili ordered mostly whim nice option use whole recipe roast grind freshly ground cumin hand bad thing barry farm offers smallish size still ounces last',\n",
       " 'mustard called brown identical company label black good quality delivered small bags',\n",
       " 'grains teff small bulk grain bran germ makes teff nutrient dense bran germ nutritious parts grain grain high calcium content contains high levels phosphorous iron copper aluminum barium thiamin considered excellent amino acid composition lysine levels higher wheat barley teff high protein carbohydrates fiber contains no gluten appropriate gluten intolerance bakes like buckwheat best mix lighter gluten free flours highly recommend',\n",
       " 'eff flour securely packaged service fast made injera flat bread yesterday quality excellent assume people order flour already know make injera recipe package would convenient not eff flour time refer cookbook recipe thrilled find source flour jane c g',\n",
       " 'love produce adds great texture bread baking especially love flavor chocolate nutty added bonus nutritous',\n",
       " 'shipping fast product advertised fresh always best pie filling excellent lacked flavor often found canned goods made pies thanksgiving everyone really liked',\n",
       " 'great product easy use pour pie filling sellers give great service also',\n",
       " 'expectations seems difficult item find quality product fast shipment fair price make pie take family function almost finished main course',\n",
       " 'soon received rhubarb pie filling refrigerated made dough crust recipe pie pastry bible rose levy beranbaum used cream cheese based pastry two crust inch pie prebaked shell minutes added rhubarb pie filling put tabs butter top made lattice leftover dough baked half hour not add anything pie filling tasted delicious result tasty easy make rhubarb pie certainly comforting eat rhubarb pie cold winter nights',\n",
       " 'loved pie filling moving wisconsin north carolina many years ago rhubarb one things family missed hard find expensive find made pie making holidays easy order stock',\n",
       " 'raised michigan fresh rhubarb pie regular basis particular recipe pretty good makes good pie could course compare grandmother pie critical instead say not rhubarb pie never one best easiestways introduce introduce wonderful pie wife called barry farm prior cooking pie nice helpful cooking serving hints good filling great customer service love pie',\n",
       " 'lover rhubarb rhubarb pie rhubarb crisp rhubarb cake rhubarb rhubarb rhubarb easy way get delicious rhubarb create favorite delicacy snap comes quart jars well protected carefully shipped get delivery qickly get cookin good stuff no time prefer rhubarb fixin little sweeter add sweet low tweak bit easy treat rhubarb desert every month wish shipping would bit cheaper order jars comes pie c pay local bakery stock big pour pie crust bake could not much easier good',\n",
       " 'originally pittsburgh area lived farm parents grew rhubarb moving south made almost impossible find rhubarb unless actually ordered grocery store time asking rhubarb nobody knew found barry farm online via amazon several years ago ordered pie filling eversince boys big fans rhubarb pie every thanksgiving make one look forward pies every year thrilled ease pop filling pie shell add topping ready go plus yummy',\n",
       " 'highly recommend product source delivered time received excellent condition deafeningly ordered',\n",
       " 'well delicious not make pie put ice cream case never heard anyone devine little sweet little tart next time may pie meantime may want try ice cream loved way tried several pie fillings know even store bought crust works delicious fillings flavor',\n",
       " ...]"
      ]
     },
     "execution_count": 476,
     "metadata": {},
     "output_type": "execute_result"
    }
   ],
   "source": [
    "preprocessed_reviews"
   ]
  },
  {
   "cell_type": "code",
   "execution_count": null,
   "metadata": {},
   "outputs": [],
   "source": []
  },
  {
   "cell_type": "markdown",
   "metadata": {
    "colab_type": "text",
    "id": "Kxx72u1hLPo1"
   },
   "source": [
    "# [5] Assignment 5: Apply Logistic Regression"
   ]
  },
  {
   "cell_type": "markdown",
   "metadata": {
    "colab_type": "text",
    "id": "KDR9We0oLPo2"
   },
   "source": [
    "<ol>\n",
    "    <li><strong>Apply Logistic Regression on these feature sets</strong>\n",
    "        <ul>\n",
    "            <li><font color='red'>SET 1:</font>Review text, preprocessed one converted into vectors using (BOW)</li>\n",
    "            <li><font color='red'>SET 2:</font>Review text, preprocessed one converted into vectors using (TFIDF)</li>\n",
    "            <li><font color='red'>SET 3:</font>Review text, preprocessed one converted into vectors using (AVG W2v)</li>\n",
    "            <li><font color='red'>SET 4:</font>Review text, preprocessed one converted into vectors using (TFIDF W2v)</li>\n",
    "        </ul>\n",
    "    </li>\n",
    "    <br>\n",
    "    <li><strong>Hyper paramter tuning (find best hyper parameters corresponding the algorithm that you choose)</strong>\n",
    "        <ul>\n",
    "    <li>Find the best hyper parameter which will give the maximum <a href='https://www.appliedaicourse.com/course/applied-ai-course-online/lessons/receiver-operating-characteristic-curve-roc-curve-and-auc-1/'>AUC</a> value</li>\n",
    "    <li>Find the best hyper paramter using k-fold cross validation or simple cross validation data</li>\n",
    "    <li>Use gridsearch cv or randomsearch cv or you can also write your own for loops to do this task of hyperparameter tuning</li>          \n",
    "        </ul>\n",
    "    </li>\n",
    "    <br>\n",
    "    <li><strong>Pertubation Test</strong>\n",
    "        <ul>\n",
    "    <li>Get the weights W after fit your model with the data X i.e Train data.</li>\n",
    "    <li>Add a noise to the X (X' = X + e) and get the new data set X' (if X is a sparse\n",
    "matrix, X.data+=e)</li>\n",
    "    <li>Fit the model again on data X' and get the weights W'</li>\n",
    "    <li>Add a small eps value(to eliminate the divisible by zero error) to W and W’ i.e\n",
    "W=W+10^-6 and W’ = W’+10^-6</li>\n",
    "    <li>Now find the % change between W and W' (| (W-W') / (W) |)*100)</li>\n",
    "    <li>Calculate the 0th, 10th, 20th, 30th, ...100th percentiles, and observe any sudden rise in the values of percentage_change_vector</li>\n",
    "    <li> Ex: consider your 99th percentile is 1.3 and your 100th percentiles are 34.6, there is sudden rise from 1.3 to 34.6, now calculate the 99.1, 99.2, 99.3,..., 100th percentile values and get the proper value after which there is sudden rise the values, assume it is 2.5</li>\n",
    "            <li> Print the feature names whose % change is more than a threshold x(in our example it's 2.5)</li>\n",
    "        </ul>\n",
    "    </li>\n",
    "    <br>\n",
    "    <li><strong>Sparsity</strong>\n",
    "        <ul>\n",
    "    <li>Calculate sparsity on weight vector obtained after using L1 regularization</li>\n",
    "        </ul>\n",
    "    </li>\n",
    "    <br><font color='red'>NOTE: Do sparsity and multicollinearity for any one of the vectorizers. Bow or tf-idf is recommended.</font>\n",
    "    <br>\n",
    "    <br>\n",
    "    <li><strong>Feature importance</strong>\n",
    "        <ul>\n",
    "    <li>Get top 10 important features for both positive and negative classes separately.</li>\n",
    "        </ul>\n",
    "    </li>\n",
    "    <br>\n",
    "    <li><strong>Feature engineering</strong>\n",
    "        <ul>\n",
    "    <li>To increase the performance of your model, you can also experiment with with feature engineering like :</li>\n",
    "            <ul>\n",
    "            <li>Taking length of reviews as another feature.</li>\n",
    "            <li>Considering some features from review summary as well.</li>\n",
    "        </ul>\n",
    "        </ul>\n",
    "    </li>\n",
    "    <br>\n",
    "    <li><strong>Representation of results</strong>\n",
    "        <ul>\n",
    "    <li>You need to plot the performance of model both on train data and cross validation data for each hyper parameter, like shown in the figure.\n",
    "    <img src='train_cv_auc.JPG' width=300px></li>\n",
    "    <li>Once after you found the best hyper parameter, you need to train your model with it, and find the AUC on test data and plot the ROC curve on both train and test.\n",
    "    <img src='train_test_auc.JPG' width=300px></li>\n",
    "    <li>Along with plotting ROC curve, you need to print the <a href='https://www.appliedaicourse.com/course/applied-ai-course-online/lessons/confusion-matrix-tpr-fpr-fnr-tnr-1/'>confusion matrix</a> with predicted and original labels of test data points. Please visualize your confusion matrices using <a href='https://seaborn.pydata.org/generated/seaborn.heatmap.html'>seaborn heatmaps.\n",
    "    <img src='confusion_matrix.png' width=300px></li>\n",
    "        </ul>\n",
    "    </li>\n",
    "    <br>\n",
    "    <li><strong>Conclusion</strong>\n",
    "        <ul>\n",
    "    <li>You need to summarize the results at the end of the notebook, summarize it in the table format. To print out a table please refer to this prettytable library<a href='http://zetcode.com/python/prettytable/'>  link</a> \n",
    "        <img src='summary.JPG' width=400px>\n",
    "    </li>\n",
    "        </ul>\n",
    "</ol>"
   ]
  },
  {
   "cell_type": "markdown",
   "metadata": {
    "colab_type": "text",
    "id": "gilb-DOVLPo2"
   },
   "source": [
    "<h4><font color='red'>Note: Data Leakage</font></h4>\n",
    "\n",
    "1. There will be an issue of data-leakage if you vectorize the entire data and then split it into train/cv/test.\n",
    "2. To avoid the issue of data-leakag, make sure to split your data first and then vectorize it. \n",
    "3. While vectorizing your data, apply the method fit_transform() on you train data, and apply the method transform() on cv/test data.\n",
    "4. For more details please go through this <a href='https://soundcloud.com/applied-ai-course/leakage-bow-and-tfidf'>link.</a>"
   ]
  },
  {
   "cell_type": "markdown",
   "metadata": {
    "colab_type": "text",
    "id": "jiYocvSHLPo4"
   },
   "source": [
    "# Applying Logistic Regression"
   ]
  },
  {
   "cell_type": "markdown",
   "metadata": {
    "colab_type": "text",
    "id": "LE_XPVZJLPo4"
   },
   "source": [
    "## [5.1] Logistic Regression on BOW,<font color='red'> SET 1</font>"
   ]
  },
  {
   "cell_type": "markdown",
   "metadata": {
    "colab_type": "text",
    "id": "_iciJvj2LPo4"
   },
   "source": [
    "### [5.1.1] Applying Logistic Regression with L1 regularization on BOW,<font color='red'> SET 1</font>"
   ]
  },
  {
   "cell_type": "code",
   "execution_count": 23,
   "metadata": {
    "colab": {},
    "colab_type": "code",
    "id": "MyOVi-xYLPo5"
   },
   "outputs": [],
   "source": [
    "# Please write all the code with proper documentation\n",
    "labels = final['Score'] \n",
    "df = labels\n",
    "X=final_counts\n",
    "y = np.array(df)\n"
   ]
  },
  {
   "cell_type": "code",
   "execution_count": null,
   "metadata": {},
   "outputs": [],
   "source": []
  },
  {
   "cell_type": "code",
   "execution_count": 24,
   "metadata": {},
   "outputs": [],
   "source": [
    "from sklearn import cross_validation\n",
    "# split the data set into train and test\n",
    "X_1, X_test, y_1, y_test = cross_validation.train_test_split(X, y, test_size=0.3, random_state=0)\n",
    "\n",
    "# split the train data set into cross validation train and cross validation test\n",
    "X_tr, X_cv, y_tr, y_cv = cross_validation.train_test_split(X_1, y_1, test_size=0.3)"
   ]
  },
  {
   "cell_type": "code",
   "execution_count": 25,
   "metadata": {},
   "outputs": [
    {
     "data": {
      "text/plain": [
       "GridSearchCV(cv=3, error_score='raise',\n",
       "       estimator=LogisticRegression(C=1.0, class_weight=None, dual=False, fit_intercept=True,\n",
       "          intercept_scaling=1, max_iter=100, multi_class='ovr', n_jobs=1,\n",
       "          penalty='l2', random_state=None, solver='liblinear', tol=0.0001,\n",
       "          verbose=0, warm_start=False),\n",
       "       fit_params=None, iid=True, n_jobs=1,\n",
       "       param_grid=[{'C': [0.0001, 0.01, 1, 100, 10000]}],\n",
       "       pre_dispatch='2*n_jobs', refit=True, return_train_score='warn',\n",
       "       scoring='accuracy', verbose=0)"
      ]
     },
     "execution_count": 25,
     "metadata": {},
     "output_type": "execute_result"
    }
   ],
   "source": [
    "from sklearn.model_selection import GridSearchCV\n",
    "from sklearn.linear_model import LogisticRegression\n",
    "tuned_parameters = [{'C': [10**-4, 10**-2, 10**0, 10**2, 10**4]}]\n",
    "model = GridSearchCV(LogisticRegression(), tuned_parameters, scoring = 'accuracy' ,cv=3)\n",
    "model.fit(X_1, y_1)\n"
   ]
  },
  {
   "cell_type": "code",
   "execution_count": 26,
   "metadata": {},
   "outputs": [
    {
     "name": "stdout",
     "output_type": "stream",
     "text": [
      "LogisticRegression(C=1, class_weight=None, dual=False, fit_intercept=True,\n",
      "          intercept_scaling=1, max_iter=100, multi_class='ovr', n_jobs=1,\n",
      "          penalty='l2', random_state=None, solver='liblinear', tol=0.0001,\n",
      "          verbose=0, warm_start=False)\n",
      "0.9794102142702099\n"
     ]
    }
   ],
   "source": [
    "print(model.best_estimator_)\n",
    "print(model.score(X_1, y_1))"
   ]
  },
  {
   "cell_type": "code",
   "execution_count": 27,
   "metadata": {},
   "outputs": [
    {
     "name": "stderr",
     "output_type": "stream",
     "text": [
      "/home/dtewani/anaconda3/lib/python3.6/site-packages/sklearn/linear_model/logistic.py:1232: UserWarning: 'n_jobs' > 1 does not have any effect when 'solver' is set to 'liblinear'. Got 'n_jobs' = 4.\n",
      "  \" = {}.\".format(self.n_jobs))\n"
     ]
    },
    {
     "name": "stdout",
     "output_type": "stream",
     "text": [
      "sparsity on weight vector: 3054\n"
     ]
    }
   ],
   "source": [
    "clf=LogisticRegression(C=1,  dual=False, fit_intercept=True,\n",
    "          intercept_scaling=1, max_iter=100, multi_class='ovr', n_jobs=4,\n",
    "          penalty='l1', random_state=None, solver='liblinear', tol=0.0001,\n",
    "          verbose=0, warm_start=False)\n",
    "clf.fit(X_1, y_1)\n",
    "print(\"sparsity on weight vector:\",np.count_nonzero(clf.coef_))"
   ]
  },
  {
   "cell_type": "code",
   "execution_count": null,
   "metadata": {},
   "outputs": [],
   "source": []
  },
  {
   "cell_type": "code",
   "execution_count": 334,
   "metadata": {},
   "outputs": [],
   "source": []
  },
  {
   "cell_type": "code",
   "execution_count": 28,
   "metadata": {},
   "outputs": [
    {
     "name": "stdout",
     "output_type": "stream",
     "text": [
      "AUC for BOW L1  0.9894787681820032\n",
      "sparsity on weight vector: 3054\n"
     ]
    }
   ],
   "source": [
    "from sklearn import metrics\n",
    "preds = clf.predict_proba(X_1)[:,1]\n",
    "fpr, tpr, _ = metrics.roc_curve(y_1, preds)\n",
    "df = pd.DataFrame(dict(fpr=fpr, tpr=tpr))\n",
    "auc_bow = metrics.auc(fpr,tpr)\n",
    "print(\"AUC for BOW L1 \" , auc_bow)\n",
    "print(\"sparsity on weight vector:\",np.count_nonzero(clf.coef_))"
   ]
  },
  {
   "cell_type": "code",
   "execution_count": null,
   "metadata": {},
   "outputs": [],
   "source": []
  },
  {
   "cell_type": "code",
   "execution_count": null,
   "metadata": {},
   "outputs": [],
   "source": []
  },
  {
   "cell_type": "markdown",
   "metadata": {
    "colab_type": "text",
    "id": "5h4NhywcLPo7"
   },
   "source": [
    "#### [5.1.1.1] Calculating sparsity on weight vector obtained using L1 regularization on BOW,<font color='red'> SET 1</font>"
   ]
  },
  {
   "cell_type": "code",
   "execution_count": 29,
   "metadata": {
    "colab": {},
    "colab_type": "code",
    "id": "-mmdLzUALPo-"
   },
   "outputs": [
    {
     "name": "stdout",
     "output_type": "stream",
     "text": [
      "sparsity on weight vector: 3054\n"
     ]
    }
   ],
   "source": [
    "# Please write all the code with proper documentation\n",
    "print(\"sparsity on weight vector:\",np.count_nonzero(clf.coef_))"
   ]
  },
  {
   "cell_type": "code",
   "execution_count": null,
   "metadata": {},
   "outputs": [],
   "source": [
    "find(clf.coef_)"
   ]
  },
  {
   "cell_type": "code",
   "execution_count": null,
   "metadata": {},
   "outputs": [],
   "source": [
    "find(clf.coef_[0])[1]"
   ]
  },
  {
   "cell_type": "code",
   "execution_count": 465,
   "metadata": {},
   "outputs": [
    {
     "data": {
      "text/html": [
       "<div>\n",
       "<style scoped>\n",
       "    .dataframe tbody tr th:only-of-type {\n",
       "        vertical-align: middle;\n",
       "    }\n",
       "\n",
       "    .dataframe tbody tr th {\n",
       "        vertical-align: top;\n",
       "    }\n",
       "\n",
       "    .dataframe thead th {\n",
       "        text-align: right;\n",
       "    }\n",
       "</style>\n",
       "<table border=\"1\" class=\"dataframe\">\n",
       "  <thead>\n",
       "    <tr style=\"text-align: right;\">\n",
       "      <th></th>\n",
       "      <th>feature</th>\n",
       "      <th>tfidf</th>\n",
       "    </tr>\n",
       "  </thead>\n",
       "  <tbody>\n",
       "    <tr>\n",
       "      <th>0</th>\n",
       "      <td>br</td>\n",
       "      <td>3</td>\n",
       "    </tr>\n",
       "    <tr>\n",
       "      <th>1</th>\n",
       "      <td>victor</td>\n",
       "      <td>2</td>\n",
       "    </tr>\n",
       "    <tr>\n",
       "      <th>2</th>\n",
       "      <td>the</td>\n",
       "      <td>2</td>\n",
       "    </tr>\n",
       "    <tr>\n",
       "      <th>3</th>\n",
       "      <td>fly</td>\n",
       "      <td>2</td>\n",
       "    </tr>\n",
       "    <tr>\n",
       "      <th>4</th>\n",
       "      <td>is</td>\n",
       "      <td>2</td>\n",
       "    </tr>\n",
       "    <tr>\n",
       "      <th>5</th>\n",
       "      <td>b00004rbdy</td>\n",
       "      <td>1</td>\n",
       "    </tr>\n",
       "    <tr>\n",
       "      <th>6</th>\n",
       "      <td>m380</td>\n",
       "      <td>1</td>\n",
       "    </tr>\n",
       "    <tr>\n",
       "      <th>7</th>\n",
       "      <td>stinky</td>\n",
       "      <td>1</td>\n",
       "    </tr>\n",
       "    <tr>\n",
       "      <th>8</th>\n",
       "      <td>product</td>\n",
       "      <td>1</td>\n",
       "    </tr>\n",
       "    <tr>\n",
       "      <th>9</th>\n",
       "      <td>refill</td>\n",
       "      <td>1</td>\n",
       "    </tr>\n",
       "  </tbody>\n",
       "</table>\n",
       "</div>"
      ],
      "text/plain": [
       "      feature  tfidf\n",
       "0          br      3\n",
       "1      victor      2\n",
       "2         the      2\n",
       "3         fly      2\n",
       "4          is      2\n",
       "5  b00004rbdy      1\n",
       "6        m380      1\n",
       "7      stinky      1\n",
       "8     product      1\n",
       "9      refill      1"
      ]
     },
     "execution_count": 465,
     "metadata": {},
     "output_type": "execute_result"
    }
   ],
   "source": [
    "top_tfidf_negative"
   ]
  },
  {
   "cell_type": "code",
   "execution_count": 59,
   "metadata": {},
   "outputs": [],
   "source": [
    "import numpy\n",
    "numpy.set_printoptions(threshold=numpy.nan)"
   ]
  },
  {
   "cell_type": "markdown",
   "metadata": {
    "colab_type": "text",
    "id": "aRHMa52qLPpA"
   },
   "source": [
    "### [5.1.2] Applying Logistic Regression with L2 regularization on BOW,<font color='red'> SET 1</font>"
   ]
  },
  {
   "cell_type": "code",
   "execution_count": null,
   "metadata": {
    "colab": {},
    "colab_type": "code",
    "id": "GBbb9lxlLPpB"
   },
   "outputs": [
    {
     "data": {
      "text/plain": [
       "LogisticRegression(C=1, class_weight=None, dual=False, fit_intercept=True,\n",
       "          intercept_scaling=1, max_iter=100, multi_class='ovr', n_jobs=1,\n",
       "          penalty='l2', random_state=None, solver='liblinear', tol=0.0001,\n",
       "          verbose=0, warm_start=False)"
      ]
     },
     "execution_count": 287,
     "metadata": {},
     "output_type": "execute_result"
    }
   ],
   "source": [
    "# Please write all the code with proper documentation\n",
    "clf_l2=LogisticRegression(C=1, class_weight=None, dual=False, fit_intercept=True,\n",
    "          intercept_scaling=1, max_iter=100, multi_class='ovr', n_jobs=1,\n",
    "          penalty='l2', random_state=None, solver='liblinear', tol=0.0001,\n",
    "          verbose=0, warm_start=False)\n",
    "clf_l2.fit(X_1, y_1)"
   ]
  },
  {
   "cell_type": "code",
   "execution_count": null,
   "metadata": {},
   "outputs": [
    {
     "data": {
      "text/plain": [
       "0.9930229928330062"
      ]
     },
     "execution_count": 288,
     "metadata": {},
     "output_type": "execute_result"
    }
   ],
   "source": [
    "preds = clf_l2.predict_proba(X_1)[:,1]\n",
    "fpr, tpr, _ = metrics.roc_curve(y_1, preds)\n",
    "df = pd.DataFrame(dict(fpr=fpr, tpr=tpr))\n",
    "auc_bow_l2 = metrics.auc(fpr,tpr)\n",
    "auc_bow_l2"
   ]
  },
  {
   "cell_type": "code",
   "execution_count": 142,
   "metadata": {},
   "outputs": [
    {
     "data": {
      "text/plain": [
       "(32249, 5000)"
      ]
     },
     "execution_count": 142,
     "metadata": {},
     "output_type": "execute_result"
    }
   ],
   "source": [
    "X_1.shape"
   ]
  },
  {
   "cell_type": "markdown",
   "metadata": {
    "colab_type": "text",
    "id": "UaJkugTKLPpE"
   },
   "source": [
    "#### [5.1.2.1] Performing pertubation test (multicollinearity check) on BOW,<font color='red'> SET 1</font>"
   ]
  },
  {
   "cell_type": "code",
   "execution_count": 0,
   "metadata": {
    "colab": {},
    "colab_type": "code",
    "id": "E1c5B1nELPpF"
   },
   "outputs": [],
   "source": [
    "# Please write all the code with proper documentation"
   ]
  },
  {
   "cell_type": "code",
   "execution_count": 30,
   "metadata": {},
   "outputs": [
    {
     "name": "stdout",
     "output_type": "stream",
     "text": [
      "Accuracy on test set: 99.656%\n",
      "Non Zero weights: 33290\n"
     ]
    }
   ],
   "source": [
    "clf_bow_perb = LogisticRegression(C= 10, penalty= 'l2')\n",
    "clf_bow_perb.fit(X_1,y_1)\n",
    "y_pred_perb = clf_bow_perb.predict(X_1)\n",
    "print(\"Accuracy on test set: %0.3f%%\"%(accuracy_score(y_1, y_pred_perb)*100))\n",
    "print(\"Non Zero weights:\",np.count_nonzero(clf_bow_perb.coef_))"
   ]
  },
  {
   "cell_type": "code",
   "execution_count": 31,
   "metadata": {},
   "outputs": [],
   "source": [
    "from scipy.sparse import find\n",
    "#Weights before adding random noise\n",
    "weights1 = find(clf_bow_perb.coef_[0])[2]\n",
    "#print(weights1[:50])"
   ]
  },
  {
   "cell_type": "code",
   "execution_count": 32,
   "metadata": {},
   "outputs": [],
   "source": [
    "from scipy.sparse import find\n",
    "X_train_n = X_1\n",
    "#Random noise\n",
    "epsilon = np.random.uniform(low=-0.000001, size=(find(X_train_n)[0].size,))\n",
    "#Getting the postions(row and column) and value of non-zero datapoints \n",
    "a,b,c = find(X_train_n)\n",
    "\n",
    "#Introducing random noise to non-zero datapoints\n",
    "X_train_n[a,b] = epsilon + X_train_n[a,b]"
   ]
  },
  {
   "cell_type": "code",
   "execution_count": null,
   "metadata": {},
   "outputs": [
    {
     "name": "stdout",
     "output_type": "stream",
     "text": [
      "(32249, 5000)\n",
      "(32249, 5000)\n"
     ]
    },
    {
     "data": {
      "text/plain": [
       "(32249,)"
      ]
     },
     "execution_count": 292,
     "metadata": {},
     "output_type": "execute_result"
    }
   ],
   "source": [
    "print(X_train_n.shape)\n",
    "print(X_1.shape)\n",
    "y_1.shape"
   ]
  },
  {
   "cell_type": "code",
   "execution_count": 33,
   "metadata": {},
   "outputs": [
    {
     "name": "stdout",
     "output_type": "stream",
     "text": [
      "Accuracy on test set: 89.003%\n",
      "Non Zero weights: 33290\n"
     ]
    }
   ],
   "source": [
    "clf_bow_noise = LogisticRegression(C= 1000, penalty= 'l2')\n",
    "clf_bow_noise.fit(X_train_n,y_1)\n",
    "y_pred = clf_bow_noise.predict(X_test)\n",
    "print(\"Accuracy on test set: %0.3f%%\"%(accuracy_score(y_test, y_pred)*100))\n",
    "print(\"Non Zero weights:\",np.count_nonzero(clf_bow_noise.coef_))"
   ]
  },
  {
   "cell_type": "code",
   "execution_count": 34,
   "metadata": {},
   "outputs": [
    {
     "name": "stdout",
     "output_type": "stream",
     "text": [
      "33290\n"
     ]
    }
   ],
   "source": [
    "weights2 = find(clf_bow_noise.coef_[0])[2]\n",
    "print(weights2.size)"
   ]
  },
  {
   "cell_type": "code",
   "execution_count": 154,
   "metadata": {},
   "outputs": [
    {
     "name": "stdout",
     "output_type": "stream",
     "text": [
      "5000\n"
     ]
    }
   ],
   "source": [
    "print(weights1.size)"
   ]
  },
  {
   "cell_type": "code",
   "execution_count": 107,
   "metadata": {},
   "outputs": [
    {
     "name": "stdout",
     "output_type": "stream",
     "text": [
      "4147\n"
     ]
    }
   ],
   "source": [
    "print(weights2.size)"
   ]
  },
  {
   "cell_type": "code",
   "execution_count": null,
   "metadata": {},
   "outputs": [],
   "source": []
  },
  {
   "cell_type": "code",
   "execution_count": 48,
   "metadata": {},
   "outputs": [],
   "source": [
    "weights_diff = weights1 - weights2"
   ]
  },
  {
   "cell_type": "code",
   "execution_count": 49,
   "metadata": {},
   "outputs": [
    {
     "data": {
      "text/plain": [
       "array([ 1.63221738e+00, -4.75416932e-03, -4.24913323e-03, ...,\n",
       "       -3.64193402e-04, -1.65091654e-04,  4.31064335e-03])"
      ]
     },
     "execution_count": 49,
     "metadata": {},
     "output_type": "execute_result"
    }
   ],
   "source": [
    "weights_diff"
   ]
  },
  {
   "cell_type": "code",
   "execution_count": 51,
   "metadata": {},
   "outputs": [],
   "source": [
    "weights_diff_2=np.sort(np.absolute(weights_diff))"
   ]
  },
  {
   "cell_type": "code",
   "execution_count": 52,
   "metadata": {},
   "outputs": [
    {
     "data": {
      "text/plain": [
       "array([4.19532245e-08, 4.19532245e-08, 2.24849408e-07, ...,\n",
       "       1.36664568e+01, 1.45740764e+01, 1.55505039e+01])"
      ]
     },
     "execution_count": 52,
     "metadata": {},
     "output_type": "execute_result"
    }
   ],
   "source": [
    "weights_diff_2"
   ]
  },
  {
   "cell_type": "code",
   "execution_count": 36,
   "metadata": {},
   "outputs": [
    {
     "name": "stdout",
     "output_type": "stream",
     "text": [
      "18889\n"
     ]
    }
   ],
   "source": [
    "print(weights_diff[np.where(weights_diff >40)].size)"
   ]
  },
  {
   "cell_type": "code",
   "execution_count": 54,
   "metadata": {},
   "outputs": [
    {
     "data": {
      "text/plain": [
       "array([ 7740,  4219, 26291, ..., 32820, 24327, 24695])"
      ]
     },
     "execution_count": 54,
     "metadata": {},
     "output_type": "execute_result"
    }
   ],
   "source": [
    "absolute_weights0 = np.absolute(weights1)\n",
    "sorted_absolute_index = np.argsort(absolute_weights0)\n",
    "sorted_absolute_index"
   ]
  },
  {
   "cell_type": "code",
   "execution_count": 58,
   "metadata": {},
   "outputs": [],
   "source": [
    "top_index = sorted_absolute_index[:20]"
   ]
  },
  {
   "cell_type": "code",
   "execution_count": 59,
   "metadata": {},
   "outputs": [
    {
     "data": {
      "text/plain": [
       "array([ 7740,  4219, 26291,   672, 13901, 23576, 19269, 26138,  1573,\n",
       "       15730,  1478, 14607,  2523, 18412, 13646, 29564, 22574, 28989,\n",
       "        1314,  9379])"
      ]
     },
     "execution_count": 59,
     "metadata": {},
     "output_type": "execute_result"
    }
   ],
   "source": [
    "top_index"
   ]
  },
  {
   "cell_type": "code",
   "execution_count": 61,
   "metadata": {},
   "outputs": [],
   "source": [
    "all_features = count_vect_bow.get_feature_names()"
   ]
  },
  {
   "cell_type": "code",
   "execution_count": null,
   "metadata": {},
   "outputs": [],
   "source": []
  },
  {
   "cell_type": "code",
   "execution_count": 65,
   "metadata": {},
   "outputs": [
    {
     "name": "stdout",
     "output_type": "stream",
     "text": [
      "   correctly\n",
      "     bristle\n",
      "  popularity\n",
      "  aggressive\n",
      "        fuji\n",
      " obliterated\n",
      "       lands\n",
      "      polish\n",
      "     anywhoo\n",
      "        hart\n",
      "       antar\n",
      "       gmail\n",
      "     balence\n",
      "        jobs\n",
      "        free\n",
      "  rototiller\n",
      "         nag\n",
      "   restraint\n",
      "     andalso\n",
      "     detects\n"
     ]
    }
   ],
   "source": [
    "for j in top_index:\n",
    "    print(\"%12s\"%(all_features[j]))"
   ]
  },
  {
   "cell_type": "code",
   "execution_count": null,
   "metadata": {},
   "outputs": [],
   "source": []
  },
  {
   "cell_type": "code",
   "execution_count": 217,
   "metadata": {},
   "outputs": [
    {
     "data": {
      "text/plain": [
       "8.636948725498922"
      ]
     },
     "execution_count": 217,
     "metadata": {},
     "output_type": "execute_result"
    }
   ],
   "source": [
    "from scipy import stats\n",
    "percentil1_w1_0=stats.scoreatpercentile(weights1, 0)\n",
    "percentil1_w1_10=stats.scoreatpercentile(weights1, 10)\n",
    "percentil1_w1_20=stats.scoreatpercentile(weights1, 20)\n",
    "percentil1_w1_30=stats.scoreatpercentile(weights1, 30)\n",
    "percentil1_w1_40=stats.scoreatpercentile(weights1, 40)\n",
    "percentil1_w1_50=stats.scoreatpercentile(weights1, 50)\n",
    "percentil1_w1_60=stats.scoreatpercentile(weights1, 60)\n",
    "percentil1_w1_70=stats.scoreatpercentile(weights1, 70)\n",
    "percentil1_w1_80=stats.scoreatpercentile(weights1, 80)\n",
    "percentil1_w1_90=stats.scoreatpercentile(weights2, 100)\n",
    "#percentil1_w1_0=stats.scoreatpercentile(weights1, 50)\n",
    "percentil1_w1_90"
   ]
  },
  {
   "cell_type": "code",
   "execution_count": 215,
   "metadata": {},
   "outputs": [
    {
     "name": "stdout",
     "output_type": "stream",
     "text": [
      "[-9.47042899]\n",
      "[-1.75322524]\n",
      "[-1.05485717]\n",
      "[-0.58671492]\n",
      "[-0.18992949]\n",
      "[0.1690455]\n",
      "[0.53130981]\n",
      "[0.93450335]\n",
      "[1.46315442]\n",
      "[2.20807049]\n",
      "[8.63694873]\n"
     ]
    }
   ],
   "source": [
    "for i in range(0,110,10):\n",
    "    #print(i)\n",
    "    percentil1_w2=stats.scoreatpercentile(weights2, [i])\n",
    "    print(percentil1_w2)\n",
    "\n"
   ]
  },
  {
   "cell_type": "code",
   "execution_count": 235,
   "metadata": {},
   "outputs": [
    {
     "name": "stdout",
     "output_type": "stream",
     "text": [
      "[4.51425467]\n",
      "[4.54958255]\n",
      "[4.61799475]\n",
      "[4.78647399]\n",
      "[4.8511922]\n",
      "[5.10881705]\n",
      "[5.31670581]\n",
      "[5.47008343]\n",
      "[5.67032455]\n",
      "[6.03491932]\n",
      "[8.63694873]\n"
     ]
    }
   ],
   "source": [
    "for i in range(11):\n",
    "    #print(i)\n",
    "    j=(99)+(i*.1)\n",
    "    #print(j)\n",
    "    percentil1_w2=stats.scoreatpercentile(weights2, [j])\n",
    "    print(percentil1_w2)"
   ]
  },
  {
   "cell_type": "code",
   "execution_count": 241,
   "metadata": {},
   "outputs": [
    {
     "ename": "NameError",
     "evalue": "name 'vectorizer' is not defined",
     "output_type": "error",
     "traceback": [
      "\u001b[0;31m---------------------------------------------------------------------------\u001b[0m",
      "\u001b[0;31mNameError\u001b[0m                                 Traceback (most recent call last)",
      "\u001b[0;32m<ipython-input-241-0e84665afb09>\u001b[0m in \u001b[0;36m<module>\u001b[0;34m\u001b[0m\n\u001b[0;32m----> 1\u001b[0;31m \u001b[0mfeature_names\u001b[0m \u001b[0;34m=\u001b[0m \u001b[0mvectorizer\u001b[0m\u001b[0;34m.\u001b[0m\u001b[0mget_feature_names\u001b[0m\u001b[0;34m(\u001b[0m\u001b[0;34m)\u001b[0m\u001b[0;34m\u001b[0m\u001b[0;34m\u001b[0m\u001b[0m\n\u001b[0m\u001b[1;32m      2\u001b[0m \u001b[0mcoefs_with_fns\u001b[0m \u001b[0;34m=\u001b[0m \u001b[0msorted\u001b[0m\u001b[0;34m(\u001b[0m\u001b[0mzip\u001b[0m\u001b[0;34m(\u001b[0m\u001b[0mclf_bow_noise\u001b[0m\u001b[0;34m.\u001b[0m\u001b[0mcoef_\u001b[0m\u001b[0;34m[\u001b[0m\u001b[0;36m0\u001b[0m\u001b[0;34m]\u001b[0m\u001b[0;34m,\u001b[0m \u001b[0mfeature_names\u001b[0m\u001b[0;34m)\u001b[0m\u001b[0;34m)\u001b[0m\u001b[0;34m\u001b[0m\u001b[0;34m\u001b[0m\u001b[0m\n",
      "\u001b[0;31mNameError\u001b[0m: name 'vectorizer' is not defined"
     ]
    }
   ],
   "source": [
    "feature_names = vectorizer.get_feature_names()\n",
    "coefs_with_fns = sorted(zip(clf_bow_noise.coef_[0], feature_names))"
   ]
  },
  {
   "cell_type": "code",
   "execution_count": 236,
   "metadata": {},
   "outputs": [
    {
     "ename": "NameError",
     "evalue": "name 'coefs_with_fns' is not defined",
     "output_type": "error",
     "traceback": [
      "\u001b[0;31m---------------------------------------------------------------------------\u001b[0m",
      "\u001b[0;31mNameError\u001b[0m                                 Traceback (most recent call last)",
      "\u001b[0;32m<ipython-input-236-003b15329417>\u001b[0m in \u001b[0;36m<module>\u001b[0;34m\u001b[0m\n\u001b[0;32m----> 1\u001b[0;31m \u001b[0mcoefs_with_fns\u001b[0m\u001b[0;34m\u001b[0m\u001b[0;34m\u001b[0m\u001b[0m\n\u001b[0m",
      "\u001b[0;31mNameError\u001b[0m: name 'coefs_with_fns' is not defined"
     ]
    }
   ],
   "source": [
    "coefs_with_fns "
   ]
  },
  {
   "cell_type": "code",
   "execution_count": null,
   "metadata": {},
   "outputs": [],
   "source": [
    "from sklearn.feature_extraction import DictVectorizer\n",
    "vec = DictVectorizer()"
   ]
  },
  {
   "cell_type": "code",
   "execution_count": null,
   "metadata": {},
   "outputs": [],
   "source": [
    "X_1.toarray()"
   ]
  },
  {
   "cell_type": "code",
   "execution_count": null,
   "metadata": {},
   "outputs": [],
   "source": [
    "X_1.head()"
   ]
  },
  {
   "cell_type": "markdown",
   "metadata": {
    "colab_type": "text",
    "id": "eB1rF0BQLPpG"
   },
   "source": [
    "### [5.1.3] Feature Importance on BOW,<font color='red'> SET 1</font>"
   ]
  },
  {
   "cell_type": "markdown",
   "metadata": {
    "colab_type": "text",
    "id": "JZTP19dqLPpI"
   },
   "source": [
    "#### [5.1.3.1] Top 10 important features of positive class from<font color='red'> SET 1</font>"
   ]
  },
  {
   "cell_type": "code",
   "execution_count": 55,
   "metadata": {
    "colab": {},
    "colab_type": "code",
    "id": "oGRpCVJgLPpI"
   },
   "outputs": [],
   "source": [
    "# Please write all the code with proper documentation\n",
    "#BoW\n",
    "count_vect_bow_positive = CountVectorizer() #in scikit-learn\n",
    "count_vect_bow_positive =count_vect_bow_positive.fit_transform(final_pos['Text'].values)"
   ]
  },
  {
   "cell_type": "code",
   "execution_count": 54,
   "metadata": {},
   "outputs": [],
   "source": [
    "features_pos = count_vect_bow_positive.get_feature_names()"
   ]
  },
  {
   "cell_type": "code",
   "execution_count": 57,
   "metadata": {},
   "outputs": [],
   "source": [
    "# source: https://buhrmann.github.io/tfidf-analysis.html\n",
    "def top_bow_feats(row, features, top_n=25):\n",
    "    ''' Get top n tfidf values in row and return them with their corresponding feature names.'''\n",
    "    topn_ids = np.argsort(row)[::-1][:top_n]\n",
    "    top_feats = [(features_pos[i], row[i]) for i in topn_ids]\n",
    "    df = pd.DataFrame(top_feats)\n",
    "    df.columns = ['feature', 'BOW_negative']\n",
    "    return df\n",
    "\n",
    "top_bow_positive= top_bow_feats(count_vect_bow [1,:].toarray()[0],features_pos,10)"
   ]
  },
  {
   "cell_type": "code",
   "execution_count": 58,
   "metadata": {},
   "outputs": [
    {
     "data": {
      "text/html": [
       "<div>\n",
       "<style scoped>\n",
       "    .dataframe tbody tr th:only-of-type {\n",
       "        vertical-align: middle;\n",
       "    }\n",
       "\n",
       "    .dataframe tbody tr th {\n",
       "        vertical-align: top;\n",
       "    }\n",
       "\n",
       "    .dataframe thead th {\n",
       "        text-align: right;\n",
       "    }\n",
       "</style>\n",
       "<table border=\"1\" class=\"dataframe\">\n",
       "  <thead>\n",
       "    <tr style=\"text-align: right;\">\n",
       "      <th></th>\n",
       "      <th>feature</th>\n",
       "      <th>BOW_negative</th>\n",
       "    </tr>\n",
       "  </thead>\n",
       "  <tbody>\n",
       "    <tr>\n",
       "      <th>0</th>\n",
       "      <td>br</td>\n",
       "      <td>3</td>\n",
       "    </tr>\n",
       "    <tr>\n",
       "      <th>1</th>\n",
       "      <td>victor</td>\n",
       "      <td>2</td>\n",
       "    </tr>\n",
       "    <tr>\n",
       "      <th>2</th>\n",
       "      <td>the</td>\n",
       "      <td>2</td>\n",
       "    </tr>\n",
       "    <tr>\n",
       "      <th>3</th>\n",
       "      <td>fly</td>\n",
       "      <td>2</td>\n",
       "    </tr>\n",
       "    <tr>\n",
       "      <th>4</th>\n",
       "      <td>is</td>\n",
       "      <td>2</td>\n",
       "    </tr>\n",
       "    <tr>\n",
       "      <th>5</th>\n",
       "      <td>b00004rbdy</td>\n",
       "      <td>1</td>\n",
       "    </tr>\n",
       "    <tr>\n",
       "      <th>6</th>\n",
       "      <td>m380</td>\n",
       "      <td>1</td>\n",
       "    </tr>\n",
       "    <tr>\n",
       "      <th>7</th>\n",
       "      <td>stinky</td>\n",
       "      <td>1</td>\n",
       "    </tr>\n",
       "    <tr>\n",
       "      <th>8</th>\n",
       "      <td>product</td>\n",
       "      <td>1</td>\n",
       "    </tr>\n",
       "    <tr>\n",
       "      <th>9</th>\n",
       "      <td>refill</td>\n",
       "      <td>1</td>\n",
       "    </tr>\n",
       "  </tbody>\n",
       "</table>\n",
       "</div>"
      ],
      "text/plain": [
       "      feature  BOW_negative\n",
       "0          br             3\n",
       "1      victor             2\n",
       "2         the             2\n",
       "3         fly             2\n",
       "4          is             2\n",
       "5  b00004rbdy             1\n",
       "6        m380             1\n",
       "7      stinky             1\n",
       "8     product             1\n",
       "9      refill             1"
      ]
     },
     "execution_count": 58,
     "metadata": {},
     "output_type": "execute_result"
    }
   ],
   "source": [
    "top_bow_positive"
   ]
  },
  {
   "cell_type": "code",
   "execution_count": null,
   "metadata": {},
   "outputs": [],
   "source": []
  },
  {
   "cell_type": "markdown",
   "metadata": {
    "colab_type": "text",
    "id": "UJLYBE1gLPpJ"
   },
   "source": [
    "#### [5.1.3.2] Top 10 important features of negative class from<font color='red'> SET 1</font>"
   ]
  },
  {
   "cell_type": "code",
   "execution_count": 0,
   "metadata": {
    "colab": {},
    "colab_type": "code",
    "id": "c9r7Zjx1LPpK"
   },
   "outputs": [],
   "source": [
    "# Please write all the code with proper documentation"
   ]
  },
  {
   "cell_type": "code",
   "execution_count": 62,
   "metadata": {},
   "outputs": [],
   "source": [
    "#BoW\n",
    "count_vect_bow_negative = CountVectorizer() #in scikit-learn\n",
    "count_vect_bow_negative =count_vect_bow_negative.fit_transform(final_pos['Text'].values)\n",
    "\n",
    "\n",
    "#final_counts = count_vect.transform(final_pos['Text'].values)"
   ]
  },
  {
   "cell_type": "code",
   "execution_count": 61,
   "metadata": {},
   "outputs": [],
   "source": [
    "features_neg = count_vect_bow_negative.get_feature_names()"
   ]
  },
  {
   "cell_type": "code",
   "execution_count": 64,
   "metadata": {},
   "outputs": [],
   "source": [
    "# source: https://buhrmann.github.io/tfidf-analysis.html\n",
    "def top_bow_feats(row, features, top_n=25):\n",
    "    ''' Get top n tfidf values in row and return them with their corresponding feature names.'''\n",
    "    topn_ids = np.argsort(row)[::-1][:top_n]\n",
    "    top_feats = [(features_neg[i], row[i]) for i in topn_ids]\n",
    "    df = pd.DataFrame(top_feats)\n",
    "    df.columns = ['feature', 'BOW_negative']\n",
    "    return df\n",
    "\n",
    "top_bow_negative = top_bow_feats(count_vect_bow [1,:].toarray()[0],features_neg,10)"
   ]
  },
  {
   "cell_type": "code",
   "execution_count": 65,
   "metadata": {},
   "outputs": [
    {
     "data": {
      "text/html": [
       "<div>\n",
       "<style scoped>\n",
       "    .dataframe tbody tr th:only-of-type {\n",
       "        vertical-align: middle;\n",
       "    }\n",
       "\n",
       "    .dataframe tbody tr th {\n",
       "        vertical-align: top;\n",
       "    }\n",
       "\n",
       "    .dataframe thead th {\n",
       "        text-align: right;\n",
       "    }\n",
       "</style>\n",
       "<table border=\"1\" class=\"dataframe\">\n",
       "  <thead>\n",
       "    <tr style=\"text-align: right;\">\n",
       "      <th></th>\n",
       "      <th>feature</th>\n",
       "      <th>BOW_negative</th>\n",
       "    </tr>\n",
       "  </thead>\n",
       "  <tbody>\n",
       "    <tr>\n",
       "      <th>0</th>\n",
       "      <td>br</td>\n",
       "      <td>3</td>\n",
       "    </tr>\n",
       "    <tr>\n",
       "      <th>1</th>\n",
       "      <td>victor</td>\n",
       "      <td>2</td>\n",
       "    </tr>\n",
       "    <tr>\n",
       "      <th>2</th>\n",
       "      <td>the</td>\n",
       "      <td>2</td>\n",
       "    </tr>\n",
       "    <tr>\n",
       "      <th>3</th>\n",
       "      <td>fly</td>\n",
       "      <td>2</td>\n",
       "    </tr>\n",
       "    <tr>\n",
       "      <th>4</th>\n",
       "      <td>is</td>\n",
       "      <td>2</td>\n",
       "    </tr>\n",
       "    <tr>\n",
       "      <th>5</th>\n",
       "      <td>b00004rbdy</td>\n",
       "      <td>1</td>\n",
       "    </tr>\n",
       "    <tr>\n",
       "      <th>6</th>\n",
       "      <td>m380</td>\n",
       "      <td>1</td>\n",
       "    </tr>\n",
       "    <tr>\n",
       "      <th>7</th>\n",
       "      <td>stinky</td>\n",
       "      <td>1</td>\n",
       "    </tr>\n",
       "    <tr>\n",
       "      <th>8</th>\n",
       "      <td>product</td>\n",
       "      <td>1</td>\n",
       "    </tr>\n",
       "    <tr>\n",
       "      <th>9</th>\n",
       "      <td>refill</td>\n",
       "      <td>1</td>\n",
       "    </tr>\n",
       "  </tbody>\n",
       "</table>\n",
       "</div>"
      ],
      "text/plain": [
       "      feature  BOW_negative\n",
       "0          br             3\n",
       "1      victor             2\n",
       "2         the             2\n",
       "3         fly             2\n",
       "4          is             2\n",
       "5  b00004rbdy             1\n",
       "6        m380             1\n",
       "7      stinky             1\n",
       "8     product             1\n",
       "9      refill             1"
      ]
     },
     "execution_count": 65,
     "metadata": {},
     "output_type": "execute_result"
    }
   ],
   "source": [
    "top_bow_negative"
   ]
  },
  {
   "cell_type": "markdown",
   "metadata": {
    "colab_type": "text",
    "id": "nKn3VXcZLPpN"
   },
   "source": [
    "## [5.2] Logistic Regression on TFIDF,<font color='red'> SET 2</font>"
   ]
  },
  {
   "cell_type": "markdown",
   "metadata": {
    "colab_type": "text",
    "id": "naTBSzm6LPpN"
   },
   "source": [
    "### [5.2.1] Applying Logistic Regression with L1 regularization on TFIDF,<font color='red'> SET 2</font>"
   ]
  },
  {
   "cell_type": "code",
   "execution_count": 66,
   "metadata": {
    "colab": {},
    "colab_type": "code",
    "id": "PEhaagXXLPpS"
   },
   "outputs": [],
   "source": [
    "# Please write all the code with proper documentation\n",
    "\n",
    "labels = final['Score'] \n",
    "df = labels\n",
    "X=final_tf_idf\n",
    "y = np.array(df)"
   ]
  },
  {
   "cell_type": "code",
   "execution_count": null,
   "metadata": {},
   "outputs": [],
   "source": [
    "\n"
   ]
  },
  {
   "cell_type": "code",
   "execution_count": 67,
   "metadata": {},
   "outputs": [],
   "source": [
    "# split the data set into train and test\n",
    "X_1, X_test, y_1, y_test = cross_validation.train_test_split(X, y, test_size=0.3, random_state=0)\n",
    "\n",
    "# split the train data set into cross validation train and cross validation test\n",
    "X_tr, X_cv, y_tr, y_cv = cross_validation.train_test_split(X_1, y_1, test_size=0.3)"
   ]
  },
  {
   "cell_type": "code",
   "execution_count": 68,
   "metadata": {},
   "outputs": [
    {
     "data": {
      "text/plain": [
       "GridSearchCV(cv=3, error_score='raise',\n",
       "       estimator=LogisticRegression(C=1.0, class_weight=None, dual=False, fit_intercept=True,\n",
       "          intercept_scaling=1, max_iter=100, multi_class='ovr', n_jobs=1,\n",
       "          penalty='l2', random_state=None, solver='liblinear', tol=0.0001,\n",
       "          verbose=0, warm_start=False),\n",
       "       fit_params=None, iid=True, n_jobs=1,\n",
       "       param_grid=[{'C': [0.0001, 0.01, 1, 100, 10000]}],\n",
       "       pre_dispatch='2*n_jobs', refit=True, return_train_score='warn',\n",
       "       scoring='accuracy', verbose=0)"
      ]
     },
     "execution_count": 68,
     "metadata": {},
     "output_type": "execute_result"
    }
   ],
   "source": [
    "tuned_parameters = [{'C': [10**-4, 10**-2, 10**0, 10**2, 10**4]}]\n",
    "model = GridSearchCV(LogisticRegression(), tuned_parameters, scoring = 'accuracy', cv=3)\n",
    "model.fit(X_1, y_1)"
   ]
  },
  {
   "cell_type": "code",
   "execution_count": 70,
   "metadata": {},
   "outputs": [
    {
     "name": "stdout",
     "output_type": "stream",
     "text": [
      "LogisticRegression(C=100, class_weight=None, dual=False, fit_intercept=True,\n",
      "          intercept_scaling=1, max_iter=100, multi_class='ovr', n_jobs=1,\n",
      "          penalty='l2', random_state=None, solver='liblinear', tol=0.0001,\n",
      "          verbose=0, warm_start=False)\n",
      "0.9998449564327576\n"
     ]
    }
   ],
   "source": [
    "print(model.best_estimator_)\n",
    "print(model.score(X_1, y_1))"
   ]
  },
  {
   "cell_type": "code",
   "execution_count": 71,
   "metadata": {},
   "outputs": [
    {
     "data": {
      "text/plain": [
       "LogisticRegression(C=100, class_weight=None, dual=False, fit_intercept=True,\n",
       "          intercept_scaling=1, max_iter=100, multi_class='ovr', n_jobs=1,\n",
       "          penalty='l1', random_state=None, solver='liblinear', tol=0.0001,\n",
       "          verbose=0, warm_start=False)"
      ]
     },
     "execution_count": 71,
     "metadata": {},
     "output_type": "execute_result"
    }
   ],
   "source": [
    "clf_tf_l1=LogisticRegression(C=100, class_weight=None, dual=False, fit_intercept=True,\n",
    "          intercept_scaling=1, max_iter=100, multi_class='ovr', n_jobs=1,\n",
    "          penalty='l1', random_state=None, solver='liblinear', tol=0.0001,\n",
    "          verbose=0, warm_start=False)\n",
    "clf_tf_l1.fit(X_1, y_1)"
   ]
  },
  {
   "cell_type": "code",
   "execution_count": 72,
   "metadata": {},
   "outputs": [
    {
     "data": {
      "text/plain": [
       "0.9999966372822103"
      ]
     },
     "execution_count": 72,
     "metadata": {},
     "output_type": "execute_result"
    }
   ],
   "source": [
    "preds = clf_tf_l1.predict_proba(X_1)[:,1]\n",
    "fpr, tpr, _ = metrics.roc_curve(y_1, preds)\n",
    "df = pd.DataFrame(dict(fpr=fpr, tpr=tpr))\n",
    "auc_tf_l1 = metrics.auc(fpr,tpr)\n",
    "auc_tf_l1"
   ]
  },
  {
   "cell_type": "markdown",
   "metadata": {
    "colab_type": "text",
    "id": "NdFShHQJLPpV"
   },
   "source": [
    "### [5.2.2] Applying Logistic Regression with L2 regularization on TFIDF,<font color='red'> SET 2</font>"
   ]
  },
  {
   "cell_type": "code",
   "execution_count": 73,
   "metadata": {
    "colab": {},
    "colab_type": "code",
    "id": "Jyhq3JDzLPpW"
   },
   "outputs": [
    {
     "data": {
      "text/plain": [
       "LogisticRegression(C=100, class_weight=None, dual=False, fit_intercept=True,\n",
       "          intercept_scaling=1, max_iter=100, multi_class='ovr', n_jobs=1,\n",
       "          penalty='l2', random_state=None, solver='liblinear', tol=0.0001,\n",
       "          verbose=0, warm_start=False)"
      ]
     },
     "execution_count": 73,
     "metadata": {},
     "output_type": "execute_result"
    }
   ],
   "source": [
    "# Please write all the code with proper documentation\n",
    "\n",
    "clf_tf_l2=LogisticRegression(C=100, class_weight=None, dual=False, fit_intercept=True,\n",
    "          intercept_scaling=1, max_iter=100, multi_class='ovr', n_jobs=1,\n",
    "          penalty='l2', random_state=None, solver='liblinear', tol=0.0001,\n",
    "          verbose=0, warm_start=False)\n",
    "clf_tf_l2.fit(X_1, y_1)"
   ]
  },
  {
   "cell_type": "code",
   "execution_count": 74,
   "metadata": {},
   "outputs": [
    {
     "data": {
      "text/plain": [
       "0.9999823735226604"
      ]
     },
     "execution_count": 74,
     "metadata": {},
     "output_type": "execute_result"
    }
   ],
   "source": [
    "preds = clf_tf_l2.predict_proba(X_1)[:,1]\n",
    "fpr, tpr, _ = metrics.roc_curve(y_1, preds)\n",
    "df = pd.DataFrame(dict(fpr=fpr, tpr=tpr))\n",
    "auc_tf_l1 = metrics.auc(fpr,tpr)\n",
    "auc_tf_l1"
   ]
  },
  {
   "cell_type": "code",
   "execution_count": null,
   "metadata": {},
   "outputs": [],
   "source": []
  },
  {
   "cell_type": "markdown",
   "metadata": {
    "colab_type": "text",
    "id": "xeeJ8eVvLPpX"
   },
   "source": [
    "### [5.2.3] Feature Importance on TFIDF,<font color='red'> SET 2</font>"
   ]
  },
  {
   "cell_type": "markdown",
   "metadata": {
    "colab_type": "text",
    "id": "Cj9XEmqQLPpY"
   },
   "source": [
    "#### [5.2.3.1] Top 10 important features of positive class from<font color='red'> SET 2</font>"
   ]
  },
  {
   "cell_type": "code",
   "execution_count": 442,
   "metadata": {
    "colab": {},
    "colab_type": "code",
    "id": "RG10txygLPpb"
   },
   "outputs": [],
   "source": [
    "# Please write all the code with proper documentation\n",
    "\n"
   ]
  },
  {
   "cell_type": "code",
   "execution_count": 436,
   "metadata": {},
   "outputs": [],
   "source": [
    "tf_idf_vect_pos = TfidfVectorizer()\n",
    "final_tf_idf_pos = tf_idf_vect_pos.fit_transform(final_pos['Text'].values)\n"
   ]
  },
  {
   "cell_type": "code",
   "execution_count": 434,
   "metadata": {},
   "outputs": [],
   "source": [
    "features = final_tf_idf_pos.get_feature_names()"
   ]
  },
  {
   "cell_type": "code",
   "execution_count": 440,
   "metadata": {},
   "outputs": [],
   "source": [
    "# source: https://buhrmann.github.io/tfidf-analysis.html\n",
    "def top_tfidf_feats(row, features, top_n=25):\n",
    "    ''' Get top n tfidf values in row and return them with their corresponding feature names.'''\n",
    "    topn_ids = np.argsort(row)[::-1][:top_n]\n",
    "    top_feats = [(features[i], row[i]) for i in topn_ids]\n",
    "    df = pd.DataFrame(top_feats)\n",
    "    df.columns = ['feature', 'tfidf']\n",
    "    return df\n",
    "\n",
    "top_tfidf_positive = top_tfidf_feats(final_tf_idf_pos[1,:].toarray()[0],features,10)"
   ]
  },
  {
   "cell_type": "code",
   "execution_count": 441,
   "metadata": {},
   "outputs": [
    {
     "data": {
      "text/html": [
       "<div>\n",
       "<style scoped>\n",
       "    .dataframe tbody tr th:only-of-type {\n",
       "        vertical-align: middle;\n",
       "    }\n",
       "\n",
       "    .dataframe tbody tr th {\n",
       "        vertical-align: top;\n",
       "    }\n",
       "\n",
       "    .dataframe thead th {\n",
       "        text-align: right;\n",
       "    }\n",
       "</style>\n",
       "<table border=\"1\" class=\"dataframe\">\n",
       "  <thead>\n",
       "    <tr style=\"text-align: right;\">\n",
       "      <th></th>\n",
       "      <th>feature</th>\n",
       "      <th>tfidf</th>\n",
       "    </tr>\n",
       "  </thead>\n",
       "  <tbody>\n",
       "    <tr>\n",
       "      <th>0</th>\n",
       "      <td>victor</td>\n",
       "      <td>0.429921</td>\n",
       "    </tr>\n",
       "    <tr>\n",
       "      <th>1</th>\n",
       "      <td>fly</td>\n",
       "      <td>0.354875</td>\n",
       "    </tr>\n",
       "    <tr>\n",
       "      <th>2</th>\n",
       "      <td>b00004rbdy</td>\n",
       "      <td>0.239142</td>\n",
       "    </tr>\n",
       "    <tr>\n",
       "      <th>3</th>\n",
       "      <td>m502</td>\n",
       "      <td>0.239142</td>\n",
       "    </tr>\n",
       "    <tr>\n",
       "      <th>4</th>\n",
       "      <td>m380</td>\n",
       "      <td>0.239142</td>\n",
       "    </tr>\n",
       "    <tr>\n",
       "      <th>5</th>\n",
       "      <td>genocide</td>\n",
       "      <td>0.239142</td>\n",
       "    </tr>\n",
       "    <tr>\n",
       "      <th>6</th>\n",
       "      <td>magnet</td>\n",
       "      <td>0.218974</td>\n",
       "    </tr>\n",
       "    <tr>\n",
       "      <th>7</th>\n",
       "      <td>unreal</td>\n",
       "      <td>0.206036</td>\n",
       "    </tr>\n",
       "    <tr>\n",
       "      <th>8</th>\n",
       "      <td>bait</td>\n",
       "      <td>0.206036</td>\n",
       "    </tr>\n",
       "    <tr>\n",
       "      <th>9</th>\n",
       "      <td>dp</td>\n",
       "      <td>0.199704</td>\n",
       "    </tr>\n",
       "  </tbody>\n",
       "</table>\n",
       "</div>"
      ],
      "text/plain": [
       "      feature     tfidf\n",
       "0      victor  0.429921\n",
       "1         fly  0.354875\n",
       "2  b00004rbdy  0.239142\n",
       "3        m502  0.239142\n",
       "4        m380  0.239142\n",
       "5    genocide  0.239142\n",
       "6      magnet  0.218974\n",
       "7      unreal  0.206036\n",
       "8        bait  0.206036\n",
       "9          dp  0.199704"
      ]
     },
     "execution_count": 441,
     "metadata": {},
     "output_type": "execute_result"
    }
   ],
   "source": [
    "top_tfidf_positive"
   ]
  },
  {
   "cell_type": "markdown",
   "metadata": {
    "colab_type": "text",
    "id": "PowEfns4LPpg"
   },
   "source": [
    "#### [5.2.3.2] Top 10 important features of negative class from<font color='red'> SET 2</font>"
   ]
  },
  {
   "cell_type": "code",
   "execution_count": 449,
   "metadata": {
    "colab": {},
    "colab_type": "code",
    "id": "G7jrma95LPpg"
   },
   "outputs": [],
   "source": [
    "# Please write all the code with proper documentation\n",
    "tf_idf_vect_neg = TfidfVectorizer()\n",
    "final_tf_idf_neg = tf_idf_vect_neg.fit_transform(final_neg['Text'].values)"
   ]
  },
  {
   "cell_type": "code",
   "execution_count": 448,
   "metadata": {},
   "outputs": [],
   "source": [
    "features_neg = final_tf_idf_neg.get_feature_names()"
   ]
  },
  {
   "cell_type": "code",
   "execution_count": 450,
   "metadata": {},
   "outputs": [],
   "source": [
    "# source: https://buhrmann.github.io/tfidf-analysis.html\n",
    "def top_tfidf_feats(row, features, top_n=25):\n",
    "    ''' Get top n tfidf values in row and return them with their corresponding feature names.'''\n",
    "    topn_ids = np.argsort(row)[::-1][:top_n]\n",
    "    top_feats = [(features_neg[i], row[i]) for i in topn_ids]\n",
    "    df = pd.DataFrame(top_feats)\n",
    "    df.columns = ['feature', 'tfidf']\n",
    "    return df\n",
    "\n",
    "top_tfidf_negative = top_tfidf_feats(final_tf_idf_neg[1,:].toarray()[0],features,10)"
   ]
  },
  {
   "cell_type": "code",
   "execution_count": 451,
   "metadata": {},
   "outputs": [
    {
     "data": {
      "text/html": [
       "<div>\n",
       "<style scoped>\n",
       "    .dataframe tbody tr th:only-of-type {\n",
       "        vertical-align: middle;\n",
       "    }\n",
       "\n",
       "    .dataframe tbody tr th {\n",
       "        vertical-align: top;\n",
       "    }\n",
       "\n",
       "    .dataframe thead th {\n",
       "        text-align: right;\n",
       "    }\n",
       "</style>\n",
       "<table border=\"1\" class=\"dataframe\">\n",
       "  <thead>\n",
       "    <tr style=\"text-align: right;\">\n",
       "      <th></th>\n",
       "      <th>feature</th>\n",
       "      <th>tfidf</th>\n",
       "    </tr>\n",
       "  </thead>\n",
       "  <tbody>\n",
       "    <tr>\n",
       "      <th>0</th>\n",
       "      <td>folger</td>\n",
       "      <td>0.308689</td>\n",
       "    </tr>\n",
       "    <tr>\n",
       "      <th>1</th>\n",
       "      <td>coffee</td>\n",
       "      <td>0.273606</td>\n",
       "    </tr>\n",
       "    <tr>\n",
       "      <th>2</th>\n",
       "      <td>the</td>\n",
       "      <td>0.227555</td>\n",
       "    </tr>\n",
       "    <tr>\n",
       "      <th>3</th>\n",
       "      <td>commercial</td>\n",
       "      <td>0.212047</td>\n",
       "    </tr>\n",
       "    <tr>\n",
       "      <th>4</th>\n",
       "      <td>to</td>\n",
       "      <td>0.163319</td>\n",
       "    </tr>\n",
       "    <tr>\n",
       "      <th>5</th>\n",
       "      <td>we</td>\n",
       "      <td>0.162221</td>\n",
       "    </tr>\n",
       "    <tr>\n",
       "      <th>6</th>\n",
       "      <td>people</td>\n",
       "      <td>0.158594</td>\n",
       "    </tr>\n",
       "    <tr>\n",
       "      <th>7</th>\n",
       "      <td>reactions</td>\n",
       "      <td>0.146145</td>\n",
       "    </tr>\n",
       "    <tr>\n",
       "      <th>8</th>\n",
       "      <td>gagging</td>\n",
       "      <td>0.143614</td>\n",
       "    </tr>\n",
       "    <tr>\n",
       "      <th>9</th>\n",
       "      <td>bathroom</td>\n",
       "      <td>0.141365</td>\n",
       "    </tr>\n",
       "  </tbody>\n",
       "</table>\n",
       "</div>"
      ],
      "text/plain": [
       "      feature     tfidf\n",
       "0      folger  0.308689\n",
       "1      coffee  0.273606\n",
       "2         the  0.227555\n",
       "3  commercial  0.212047\n",
       "4          to  0.163319\n",
       "5          we  0.162221\n",
       "6      people  0.158594\n",
       "7   reactions  0.146145\n",
       "8     gagging  0.143614\n",
       "9    bathroom  0.141365"
      ]
     },
     "execution_count": 451,
     "metadata": {},
     "output_type": "execute_result"
    }
   ],
   "source": [
    "top_tfidf_negative "
   ]
  },
  {
   "cell_type": "markdown",
   "metadata": {
    "colab_type": "text",
    "id": "sqYadGOgLPpi"
   },
   "source": [
    "## [5.3] Logistic Regression on AVG W2V,<font color='red'> SET 3</font>"
   ]
  },
  {
   "cell_type": "markdown",
   "metadata": {
    "colab_type": "text",
    "id": "kByBCEA1LPpj"
   },
   "source": [
    "### [5.3.1] Applying Logistic Regression with L1 regularization on AVG W2V<font color='red'> SET 3</font>"
   ]
  },
  {
   "cell_type": "code",
   "execution_count": 75,
   "metadata": {
    "colab": {},
    "colab_type": "code",
    "id": "yCQ_4iJkLPpj"
   },
   "outputs": [],
   "source": [
    "# Please write all the code with proper documentation\n",
    "\n",
    "labels = final['Score'] \n",
    "df = labels\n",
    "X=sent_vectors\n",
    "y = np.array(df)"
   ]
  },
  {
   "cell_type": "code",
   "execution_count": null,
   "metadata": {},
   "outputs": [],
   "source": []
  },
  {
   "cell_type": "code",
   "execution_count": 76,
   "metadata": {},
   "outputs": [],
   "source": [
    "# split the data set into train and test\n",
    "X_1, X_test, y_1, y_test = cross_validation.train_test_split(X, y, test_size=0.3, random_state=0)\n",
    "\n",
    "# split the train data set into cross validation train and cross validation test\n",
    "X_tr, X_cv, y_tr, y_cv = cross_validation.train_test_split(X_1, y_1, test_size=0.3)"
   ]
  },
  {
   "cell_type": "code",
   "execution_count": 77,
   "metadata": {},
   "outputs": [
    {
     "name": "stdout",
     "output_type": "stream",
     "text": [
      "LogisticRegression(C=1, class_weight=None, dual=False, fit_intercept=True,\n",
      "          intercept_scaling=1, max_iter=100, multi_class='ovr', n_jobs=1,\n",
      "          penalty='l2', random_state=None, solver='liblinear', tol=0.0001,\n",
      "          verbose=0, warm_start=False)\n",
      "0.8830971502992341\n"
     ]
    }
   ],
   "source": [
    "tuned_parameters = [{'C': [10**-4, 10**-2, 10**0, 10**2, 10**4]}]\n",
    "model = GridSearchCV(LogisticRegression(), tuned_parameters, scoring = 'accuracy', cv=3)\n",
    "model.fit(X_1, y_1)\n",
    "print(model.best_estimator_)\n",
    "print(model.score(X_1, y_1))"
   ]
  },
  {
   "cell_type": "code",
   "execution_count": 79,
   "metadata": {},
   "outputs": [
    {
     "name": "stderr",
     "output_type": "stream",
     "text": [
      "/home/dtewani/anaconda3/lib/python3.6/site-packages/sklearn/linear_model/logistic.py:1232: UserWarning: 'n_jobs' > 1 does not have any effect when 'solver' is set to 'liblinear'. Got 'n_jobs' = 4.\n",
      "  \" = {}.\".format(self.n_jobs))\n"
     ]
    },
    {
     "data": {
      "text/plain": [
       "LogisticRegression(C=100, class_weight=None, dual=False, fit_intercept=True,\n",
       "          intercept_scaling=1, max_iter=100, multi_class='ovr', n_jobs=4,\n",
       "          penalty='l1', random_state=None, solver='liblinear', tol=0.0001,\n",
       "          verbose=0, warm_start=False)"
      ]
     },
     "execution_count": 79,
     "metadata": {},
     "output_type": "execute_result"
    }
   ],
   "source": [
    "clf_w2vec=LogisticRegression(C=100, class_weight=None, dual=False, fit_intercept=True,\n",
    "          intercept_scaling=1, max_iter=100, multi_class='ovr', n_jobs=4,\n",
    "          penalty='l1', random_state=None, solver='liblinear', tol=0.0001,\n",
    "          verbose=0, warm_start=False)\n",
    "clf_w2vec.fit(X_1, y_1)\n"
   ]
  },
  {
   "cell_type": "code",
   "execution_count": null,
   "metadata": {},
   "outputs": [],
   "source": []
  },
  {
   "cell_type": "code",
   "execution_count": null,
   "metadata": {},
   "outputs": [],
   "source": []
  },
  {
   "cell_type": "code",
   "execution_count": 80,
   "metadata": {},
   "outputs": [
    {
     "data": {
      "text/plain": [
       "0.9047042740518285"
      ]
     },
     "execution_count": 80,
     "metadata": {},
     "output_type": "execute_result"
    }
   ],
   "source": [
    "preds =  clf_w2vec.predict_proba(X_1)[:,1]\n",
    "fpr, tpr, _ = metrics.roc_curve(y_1, preds)\n",
    "df = pd.DataFrame(dict(fpr=fpr, tpr=tpr))\n",
    "auc = metrics.auc(fpr,tpr)\n",
    "auc"
   ]
  },
  {
   "cell_type": "code",
   "execution_count": 81,
   "metadata": {},
   "outputs": [
    {
     "name": "stdout",
     "output_type": "stream",
     "text": [
      "AUC : 0.9047042740518285\n"
     ]
    }
   ],
   "source": [
    "preds =  clf_w2vec.predict_proba(X_1)[:,1]\n",
    "fpr, tpr, _ = metrics.roc_curve(y_1, preds)\n",
    "df = pd.DataFrame(dict(fpr=fpr, tpr=tpr))\n",
    "auc_word_2vec = metrics.auc(fpr,tpr)\n",
    "print (\"AUC :\", auc_word_2vec)"
   ]
  },
  {
   "cell_type": "markdown",
   "metadata": {
    "colab_type": "text",
    "id": "O_8Gu2SfLPpn"
   },
   "source": [
    "### [5.3.2] Applying Logistic Regression with L2 regularization on AVG W2V,<font color='red'> SET 3</font>"
   ]
  },
  {
   "cell_type": "code",
   "execution_count": 350,
   "metadata": {
    "colab": {},
    "colab_type": "code",
    "id": "Zy3s4jk1LPpn"
   },
   "outputs": [
    {
     "name": "stdout",
     "output_type": "stream",
     "text": [
      "LogisticRegression(C=100, class_weight=None, dual=False, fit_intercept=True,\n",
      "          intercept_scaling=1, max_iter=100, multi_class='ovr', n_jobs=1,\n",
      "          penalty='l2', random_state=None, solver='liblinear', tol=0.0001,\n",
      "          verbose=0, warm_start=False)\n",
      "0.8842754814102763\n"
     ]
    }
   ],
   "source": [
    "# Please write all the code with proper documentation\n",
    "tuned_parameters = [{'C': [10**-4, 10**-2, 10**0, 10**2, 10**4]}]\n",
    "model = GridSearchCV(LogisticRegression(), tuned_parameters, scoring = 'accuracy', cv=3)\n",
    "model.fit(X_1, y_1)\n",
    "print(model.best_estimator_)\n",
    "print(model.score(X_1, y_1))"
   ]
  },
  {
   "cell_type": "code",
   "execution_count": 351,
   "metadata": {},
   "outputs": [
    {
     "data": {
      "text/plain": [
       "LogisticRegression(C=10000, class_weight=None, dual=False, fit_intercept=True,\n",
       "          intercept_scaling=1, max_iter=100, multi_class='ovr', n_jobs=1,\n",
       "          penalty='l2', random_state=None, solver='liblinear', tol=0.0001,\n",
       "          verbose=0, warm_start=False)"
      ]
     },
     "execution_count": 351,
     "metadata": {},
     "output_type": "execute_result"
    }
   ],
   "source": [
    "clf_w2vec_l2=LogisticRegression(C=10000, class_weight=None, dual=False, fit_intercept=True,\n",
    "          intercept_scaling=1, max_iter=100, multi_class='ovr', n_jobs=1,\n",
    "          penalty='l2', random_state=None, solver='liblinear', tol=0.0001,\n",
    "          verbose=0, warm_start=False)\n",
    "clf_w2vec_l2.fit(X_1, y_1)"
   ]
  },
  {
   "cell_type": "code",
   "execution_count": 370,
   "metadata": {},
   "outputs": [
    {
     "name": "stdout",
     "output_type": "stream",
     "text": [
      "AUC word to vec L2 : 0.8809290741816795\n"
     ]
    }
   ],
   "source": [
    "preds =  clf_w2vec_l2.predict_proba(X_1)[:,1]\n",
    "fpr, tpr, _ = metrics.roc_curve(y_1, preds)\n",
    "df = pd.DataFrame(dict(fpr=fpr, tpr=tpr))\n",
    "auc_word_2vec = metrics.auc(fpr,tpr)\n",
    "print (\"AUC word to vec L2 :\", auc_word_2vec)"
   ]
  },
  {
   "cell_type": "code",
   "execution_count": null,
   "metadata": {},
   "outputs": [],
   "source": []
  },
  {
   "cell_type": "code",
   "execution_count": null,
   "metadata": {},
   "outputs": [],
   "source": []
  },
  {
   "cell_type": "markdown",
   "metadata": {
    "colab_type": "text",
    "id": "pdXTwVIPLPpp"
   },
   "source": [
    "## [5.4] Logistic Regression on TFIDF W2V,<font color='red'> SET 4</font>"
   ]
  },
  {
   "cell_type": "markdown",
   "metadata": {
    "colab_type": "text",
    "id": "WP9NjwNSLPpp"
   },
   "source": [
    "### [5.4.1] Applying Logistic Regression with L1 regularization on TFIDF W2V,<font color='red'> SET 4</font>"
   ]
  },
  {
   "cell_type": "code",
   "execution_count": 355,
   "metadata": {
    "colab": {},
    "colab_type": "code",
    "id": "207gYymwLPpq"
   },
   "outputs": [],
   "source": [
    "# Please write all the code with proper documentation\n",
    "labels = final['Score'] \n",
    "df = labels\n",
    "X=tfidf_sent_vectors\n",
    "y = np.array(df)"
   ]
  },
  {
   "cell_type": "code",
   "execution_count": 357,
   "metadata": {},
   "outputs": [],
   "source": [
    "X_1, X_test, y_1, y_test = cross_validation.train_test_split(X, y, test_size=0.3, random_state=0)\n",
    "\n",
    "# split the train data set into cross validation train and cross validation test\n",
    "X_tr, X_cv, y_tr, y_cv = cross_validation.train_test_split(X_1, y_1, test_size=0.3)"
   ]
  },
  {
   "cell_type": "code",
   "execution_count": 358,
   "metadata": {},
   "outputs": [
    {
     "name": "stdout",
     "output_type": "stream",
     "text": [
      "LogisticRegression(C=1, class_weight=None, dual=False, fit_intercept=True,\n",
      "          intercept_scaling=1, max_iter=100, multi_class='ovr', n_jobs=1,\n",
      "          penalty='l2', random_state=None, solver='liblinear', tol=0.0001,\n",
      "          verbose=0, warm_start=False)\n",
      "0.8734844491302056\n"
     ]
    }
   ],
   "source": [
    "tuned_parameters = [{'C': [10**-4, 10**-2, 10**0, 10**2, 10**4]}]\n",
    "model = GridSearchCV(LogisticRegression(), tuned_parameters, scoring = 'accuracy', cv=3)\n",
    "model.fit(X_1, y_1)\n",
    "print(model.best_estimator_)\n",
    "print(model.score(X_1, y_1))"
   ]
  },
  {
   "cell_type": "code",
   "execution_count": 360,
   "metadata": {},
   "outputs": [
    {
     "data": {
      "text/plain": [
       "LogisticRegression(C=1, class_weight=None, dual=False, fit_intercept=True,\n",
       "          intercept_scaling=1, max_iter=100, multi_class='ovr', n_jobs=1,\n",
       "          penalty='l1', random_state=None, solver='liblinear', tol=0.0001,\n",
       "          verbose=0, warm_start=False)"
      ]
     },
     "execution_count": 360,
     "metadata": {},
     "output_type": "execute_result"
    }
   ],
   "source": [
    "clf_avg_word_tf=LogisticRegression(C=1, class_weight=None, dual=False, fit_intercept=True,\n",
    "          intercept_scaling=1, max_iter=100, multi_class='ovr', n_jobs=1,\n",
    "          penalty='l1', random_state=None, solver='liblinear', tol=0.0001,\n",
    "          verbose=0, warm_start=False)\n",
    "clf_avg_word_tf.fit(X_1, y_1)"
   ]
  },
  {
   "cell_type": "code",
   "execution_count": 363,
   "metadata": {},
   "outputs": [
    {
     "name": "stdout",
     "output_type": "stream",
     "text": [
      "AUC TFIDF word to vec L2 : 0.9999823735226604\n"
     ]
    }
   ],
   "source": [
    "preds =  clf_w2vec_l2.predict_proba(X_1)[:,1]\n",
    "fpr, tpr, _ = metrics.roc_curve(y_1, preds)\n",
    "df = pd.DataFrame(dict(fpr=fpr, tpr=tpr))\n",
    "fpr, tpr, _ = metrics.roc_curve(y_1, preds)\n",
    "auc_word_2vec = metrics.auc(fpr,tpr)\n",
    "\n",
    "print (\"AUC TFIDF word to vec L2 :\", auc_word_2vec)"
   ]
  },
  {
   "cell_type": "code",
   "execution_count": 373,
   "metadata": {},
   "outputs": [
    {
     "name": "stdout",
     "output_type": "stream",
     "text": [
      "AUC TFIDF word to vec L1 : 0.8838830619613127\n"
     ]
    }
   ],
   "source": [
    "preds = clf_avg_word_tf.predict_proba(X_1)[:,1]\n",
    "fpr, tpr, _ = metrics.roc_curve(y_1, preds)\n",
    "df = pd.DataFrame(dict(fpr=fpr, tpr=tpr))\n",
    "auc_word_2vec = metrics.auc(fpr,tpr)\n",
    "\n",
    "print (\"AUC TFIDF word to vec L1 :\", auc_word_2vec)"
   ]
  },
  {
   "cell_type": "code",
   "execution_count": null,
   "metadata": {},
   "outputs": [],
   "source": []
  },
  {
   "cell_type": "markdown",
   "metadata": {
    "colab_type": "text",
    "id": "ynUK2tYDLPps"
   },
   "source": [
    "### [5.4.2] Applying Logistic Regression with L2 regularization on TFIDF W2V,<font color='red'> SET 4</font>"
   ]
  },
  {
   "cell_type": "code",
   "execution_count": 372,
   "metadata": {
    "colab": {},
    "colab_type": "code",
    "id": "hVYuiXl2LPpt"
   },
   "outputs": [
    {
     "name": "stderr",
     "output_type": "stream",
     "text": [
      "/home/dtewani/anaconda3/lib/python3.6/site-packages/sklearn/linear_model/logistic.py:1232: UserWarning: 'n_jobs' > 1 does not have any effect when 'solver' is set to 'liblinear'. Got 'n_jobs' = 4.\n",
      "  \" = {}.\".format(self.n_jobs))\n"
     ]
    },
    {
     "data": {
      "text/plain": [
       "LogisticRegression(C=1, class_weight=None, dual=False, fit_intercept=True,\n",
       "          intercept_scaling=1, max_iter=100, multi_class='ovr', n_jobs=4,\n",
       "          penalty='l2', random_state=None, solver='liblinear', tol=0.0001,\n",
       "          verbose=0, warm_start=False)"
      ]
     },
     "execution_count": 372,
     "metadata": {},
     "output_type": "execute_result"
    }
   ],
   "source": [
    "# Please write all the code with proper documentation\n",
    "\n",
    "clf_avg_word_tf_l2=LogisticRegression(C=1, class_weight=None, dual=False, fit_intercept=True,\n",
    "          intercept_scaling=1, max_iter=100, multi_class='ovr', n_jobs=4,\n",
    "          penalty='l2', random_state=None, solver='liblinear', tol=0.0001,\n",
    "          verbose=0, warm_start=False)\n",
    "clf_avg_word_tf_l2.fit(X_1, y_1)"
   ]
  },
  {
   "cell_type": "code",
   "execution_count": 374,
   "metadata": {},
   "outputs": [
    {
     "name": "stdout",
     "output_type": "stream",
     "text": [
      "AUC TFIDF word to vec L2 : 0.8838745856891985\n"
     ]
    }
   ],
   "source": [
    "preds = clf_avg_word_tf_l2.predict_proba(X_1)[:,1]\n",
    "fpr, tpr, _ = metrics.roc_curve(y_1, preds)\n",
    "df = pd.DataFrame(dict(fpr=fpr, tpr=tpr))\n",
    "auc_word_2vec = metrics.auc(fpr,tpr)\n",
    "\n",
    "print (\"AUC TFIDF word to vec L2 :\", auc_word_2vec)"
   ]
  },
  {
   "cell_type": "markdown",
   "metadata": {
    "colab_type": "text",
    "id": "nOvsBNf2LPpv"
   },
   "source": [
    "# [6] Conclusions"
   ]
  },
  {
   "cell_type": "code",
   "execution_count": 83,
   "metadata": {
    "colab": {},
    "colab_type": "code",
    "id": "T7VxD0q2LPpw"
   },
   "outputs": [],
   "source": [
    "# Please compare all your models using Prettytable library\n",
    "from prettytable import PrettyTable"
   ]
  },
  {
   "cell_type": "code",
   "execution_count": 84,
   "metadata": {},
   "outputs": [],
   "source": [
    "x = PrettyTable()\n",
    "x.field_names = [\"Model\", \"AUC Scor\"]"
   ]
  },
  {
   "cell_type": "code",
   "execution_count": 85,
   "metadata": {},
   "outputs": [],
   "source": [
    "x.add_row([\"BOW_L1\",auc_bow] )\n",
    "x.add_row([\"BOW_L2\",auc_bow_l2] )\n",
    "x.add_row([\"TFIDF_L1\",auc_tf_l1] )\n",
    "x.add_row([\"TFIDF_L2\",auc_word_2vec] )\n",
    "x.add_row([\"bow_l1\",auc_word_2vec] )\n",
    "x.add_row([\"bow_l1\",auc_word_2vec] )\n",
    "x.add_row([\"bow_l1\",auc_word_2vec] )\n",
    "x.add_row([\"bow_l1\",auc_word_2vec] )\n",
    "x.add_row([\"bow_l1\",auc_word_2vec] )"
   ]
  },
  {
   "cell_type": "code",
   "execution_count": 86,
   "metadata": {},
   "outputs": [
    {
     "name": "stdout",
     "output_type": "stream",
     "text": [
      "+----------+--------------------+\n",
      "|  Model   |      AUC Scor      |\n",
      "+----------+--------------------+\n",
      "|  BOW_L1  | 0.9902469893983653 |\n",
      "|  BOW_L2  | 0.9930229928330062 |\n",
      "| TFIDF_L1 | 0.9999823735226604 |\n",
      "| TFIDF_L2 | 0.9047042740518285 |\n",
      "|  bow_l1  | 0.9047042740518285 |\n",
      "|  bow_l1  | 0.9047042740518285 |\n",
      "|  bow_l1  | 0.9047042740518285 |\n",
      "|  bow_l1  | 0.9047042740518285 |\n",
      "|  bow_l1  | 0.9047042740518285 |\n",
      "+----------+--------------------+\n"
     ]
    }
   ],
   "source": [
    "print(x)"
   ]
  }
 ],
 "metadata": {
  "colab": {
   "name": "05 Amazon Fine Food Reviews Analysis_Logistic Regression.ipynb",
   "provenance": [],
   "version": "0.3.2"
  },
  "kernelspec": {
   "display_name": "Python 3",
   "language": "python",
   "name": "python3"
  },
  "language_info": {
   "codemirror_mode": {
    "name": "ipython",
    "version": 3
   },
   "file_extension": ".py",
   "mimetype": "text/x-python",
   "name": "python",
   "nbconvert_exporter": "python",
   "pygments_lexer": "ipython3",
   "version": "3.6.8"
  }
 },
 "nbformat": 4,
 "nbformat_minor": 1
}
