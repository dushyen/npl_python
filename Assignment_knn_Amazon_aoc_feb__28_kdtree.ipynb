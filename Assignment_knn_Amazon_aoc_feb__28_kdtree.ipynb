{
 "cells": [
  {
   "cell_type": "code",
   "execution_count": 254,
   "metadata": {},
   "outputs": [],
   "source": [
    "%matplotlib inline\n",
    "\n",
    "import sqlite3\n",
    "import pandas as pd\n",
    "import numpy as np\n",
    "import nltk\n",
    "import string\n",
    "import matplotlib.pyplot as plt\n",
    "import seaborn as sns\n",
    "from sklearn.feature_extraction.text import TfidfTransformer\n",
    "from sklearn.feature_extraction.text import TfidfVectorizer\n",
    "from sklearn.metrics import roc_auc_score\n",
    "from sklearn.feature_extraction.text import CountVectorizer\n",
    "from sklearn.metrics import confusion_matrix\n",
    "from sklearn import metrics\n",
    "from sklearn.metrics import roc_curve, auc\n",
    "from nltk.stem.porter import PorterStemmer\n",
    "from sklearn.preprocessing import StandardScaler\n",
    "import numpy as np\n",
    "import pandas as pd\n",
    "import matplotlib.pyplot as plt\n",
    "from sklearn.cross_validation import train_test_split\n",
    "from sklearn.neighbors import KNeighborsClassifier\n",
    "from sklearn.metrics import accuracy_score\n",
    "from sklearn.cross_validation import cross_val_score\n",
    "from collections import Counter\n",
    "from sklearn.metrics import accuracy_score\n",
    "from sklearn import cross_validation\n",
    "from sklearn.metrics import accuracy_score\n",
    "\n",
    "con=sqlite3.connect('database.sqlite') \n",
    "\n",
    "filtered_data = pd.read_sql_query(\"\"\"\n",
    "SELECT *\n",
    "FROM Reviews\n",
    "WHERE Score != 3 limit 10000\n",
    "\"\"\", con) \n",
    "\n",
    "\n",
    "\n",
    "def partition(x):\n",
    "    if x > 3:\n",
    "        return 1\n",
    "    return 0\n",
    "\n",
    "actualScore = filtered_data['Score']\n",
    "positiveNegative = actualScore.map(partition) \n",
    "filtered_data['Score'] = positiveNegative\n",
    "\n"
   ]
  },
  {
   "cell_type": "code",
   "execution_count": 255,
   "metadata": {},
   "outputs": [],
   "source": [
    "#Sorting data according to ProductId in ascending order\n",
    "sorted_data=filtered_data.sort_values('ProductId', axis=0, ascending=True, inplace=False, kind='quicksort', na_position='last')"
   ]
  },
  {
   "cell_type": "code",
   "execution_count": 256,
   "metadata": {},
   "outputs": [
    {
     "data": {
      "text/plain": [
       "(9564, 10)"
      ]
     },
     "execution_count": 256,
     "metadata": {},
     "output_type": "execute_result"
    }
   ],
   "source": [
    "final=sorted_data.drop_duplicates(subset={\"UserId\",\"ProfileName\",\"Time\",\"Text\"}, keep='first', inplace=False)\n",
    "final.shape"
   ]
  },
  {
   "cell_type": "code",
   "execution_count": 257,
   "metadata": {},
   "outputs": [
    {
     "data": {
      "text/html": [
       "<div>\n",
       "<style scoped>\n",
       "    .dataframe tbody tr th:only-of-type {\n",
       "        vertical-align: middle;\n",
       "    }\n",
       "\n",
       "    .dataframe tbody tr th {\n",
       "        vertical-align: top;\n",
       "    }\n",
       "\n",
       "    .dataframe thead th {\n",
       "        text-align: right;\n",
       "    }\n",
       "</style>\n",
       "<table border=\"1\" class=\"dataframe\">\n",
       "  <thead>\n",
       "    <tr style=\"text-align: right;\">\n",
       "      <th></th>\n",
       "      <th>Id</th>\n",
       "      <th>ProductId</th>\n",
       "      <th>UserId</th>\n",
       "      <th>ProfileName</th>\n",
       "      <th>HelpfulnessNumerator</th>\n",
       "      <th>HelpfulnessDenominator</th>\n",
       "      <th>Score</th>\n",
       "      <th>Time</th>\n",
       "      <th>Summary</th>\n",
       "      <th>Text</th>\n",
       "    </tr>\n",
       "  </thead>\n",
       "  <tbody>\n",
       "    <tr>\n",
       "      <th>2547</th>\n",
       "      <td>2775</td>\n",
       "      <td>B00002NCJC</td>\n",
       "      <td>A13RRPGE79XFFH</td>\n",
       "      <td>reader48</td>\n",
       "      <td>0</td>\n",
       "      <td>0</td>\n",
       "      <td>1</td>\n",
       "      <td>1281052800</td>\n",
       "      <td>Flies Begone</td>\n",
       "      <td>We have used the Victor fly bait for 3 seasons...</td>\n",
       "    </tr>\n",
       "    <tr>\n",
       "      <th>2546</th>\n",
       "      <td>2774</td>\n",
       "      <td>B00002NCJC</td>\n",
       "      <td>A196AJHU9EASJN</td>\n",
       "      <td>Alex Chaffee</td>\n",
       "      <td>0</td>\n",
       "      <td>0</td>\n",
       "      <td>1</td>\n",
       "      <td>1282953600</td>\n",
       "      <td>thirty bucks?</td>\n",
       "      <td>Why is this $[...] when the same product is av...</td>\n",
       "    </tr>\n",
       "    <tr>\n",
       "      <th>1145</th>\n",
       "      <td>1244</td>\n",
       "      <td>B00002Z754</td>\n",
       "      <td>A3B8RCEI0FXFI6</td>\n",
       "      <td>B G Chase</td>\n",
       "      <td>10</td>\n",
       "      <td>10</td>\n",
       "      <td>1</td>\n",
       "      <td>962236800</td>\n",
       "      <td>WOW Make your own 'slickers' !</td>\n",
       "      <td>I just received my shipment and could hardly w...</td>\n",
       "    </tr>\n",
       "    <tr>\n",
       "      <th>1146</th>\n",
       "      <td>1245</td>\n",
       "      <td>B00002Z754</td>\n",
       "      <td>A29Z5PI9BW2PU3</td>\n",
       "      <td>Robbie</td>\n",
       "      <td>7</td>\n",
       "      <td>7</td>\n",
       "      <td>1</td>\n",
       "      <td>961718400</td>\n",
       "      <td>Great Product</td>\n",
       "      <td>This was a really good idea and the final prod...</td>\n",
       "    </tr>\n",
       "    <tr>\n",
       "      <th>8695</th>\n",
       "      <td>9526</td>\n",
       "      <td>B00005V3DC</td>\n",
       "      <td>APASCXWTM041</td>\n",
       "      <td>Ed Raton</td>\n",
       "      <td>0</td>\n",
       "      <td>0</td>\n",
       "      <td>1</td>\n",
       "      <td>1350604800</td>\n",
       "      <td>Good, effective product</td>\n",
       "      <td>Good flavor, unique in all the teas that I've ...</td>\n",
       "    </tr>\n",
       "  </tbody>\n",
       "</table>\n",
       "</div>"
      ],
      "text/plain": [
       "        Id   ProductId          UserId   ProfileName  HelpfulnessNumerator  \\\n",
       "2547  2775  B00002NCJC  A13RRPGE79XFFH      reader48                     0   \n",
       "2546  2774  B00002NCJC  A196AJHU9EASJN  Alex Chaffee                     0   \n",
       "1145  1244  B00002Z754  A3B8RCEI0FXFI6     B G Chase                    10   \n",
       "1146  1245  B00002Z754  A29Z5PI9BW2PU3        Robbie                     7   \n",
       "8695  9526  B00005V3DC    APASCXWTM041      Ed Raton                     0   \n",
       "\n",
       "      HelpfulnessDenominator  Score        Time  \\\n",
       "2547                       0      1  1281052800   \n",
       "2546                       0      1  1282953600   \n",
       "1145                      10      1   962236800   \n",
       "1146                       7      1   961718400   \n",
       "8695                       0      1  1350604800   \n",
       "\n",
       "                             Summary  \\\n",
       "2547                    Flies Begone   \n",
       "2546                   thirty bucks?   \n",
       "1145  WOW Make your own 'slickers' !   \n",
       "1146                   Great Product   \n",
       "8695         Good, effective product   \n",
       "\n",
       "                                                   Text  \n",
       "2547  We have used the Victor fly bait for 3 seasons...  \n",
       "2546  Why is this $[...] when the same product is av...  \n",
       "1145  I just received my shipment and could hardly w...  \n",
       "1146  This was a really good idea and the final prod...  \n",
       "8695  Good flavor, unique in all the teas that I've ...  "
      ]
     },
     "execution_count": 257,
     "metadata": {},
     "output_type": "execute_result"
    }
   ],
   "source": [
    "data = final.head(998)\n",
    "data.head()"
   ]
  },
  {
   "cell_type": "code",
   "execution_count": 234,
   "metadata": {},
   "outputs": [],
   "source": [
    "#from sklearn.preprocessing import StandardScaler\n",
    "##from sklearn.preprocessing import Normalizer\n",
    "##standardized_data = Normalizer(norm='l2', copy=True).fit_transform(data)\n",
    "#print(standardized_data.shape)"
   ]
  },
  {
   "cell_type": "code",
   "execution_count": 235,
   "metadata": {},
   "outputs": [],
   "source": [
    "from sklearn.manifold import TSNE\n",
    "model = TSNE(n_components=2, random_state=0)"
   ]
  },
  {
   "cell_type": "code",
   "execution_count": 258,
   "metadata": {},
   "outputs": [],
   "source": [
    "#BoW\n",
    "count_vect = CountVectorizer() #in scikit-learn\n",
    "final_counts = count_vect.fit_transform(final['Text'].values )\n",
    "##X = final_counts.todense()\n",
    "#dense_data_bow = final_counts.todense()"
   ]
  },
  {
   "cell_type": "code",
   "execution_count": 237,
   "metadata": {},
   "outputs": [
    {
     "data": {
      "text/plain": [
       "scipy.sparse.csr.csr_matrix"
      ]
     },
     "execution_count": 237,
     "metadata": {},
     "output_type": "execute_result"
    }
   ],
   "source": [
    "type(final_counts)"
   ]
  },
  {
   "cell_type": "code",
   "execution_count": 238,
   "metadata": {},
   "outputs": [
    {
     "name": "stdout",
     "output_type": "stream",
     "text": [
      "  (0, 13062)\t1\n",
      "  (0, 7730)\t1\n",
      "  (0, 9077)\t1\n",
      "  (0, 2027)\t1\n",
      "  (0, 2942)\t1\n",
      "  (0, 14757)\t1\n",
      "  (0, 6989)\t1\n",
      "  (0, 1864)\t1\n",
      "  (0, 6919)\t1\n",
      "  (0, 18006)\t1\n",
      "  (0, 16853)\t1\n",
      "  (0, 17817)\t1\n",
      "  (0, 8056)\t1\n",
      "  (0, 18275)\t1\n",
      "  (1, 11178)\t1\n",
      "  (1, 14195)\t1\n",
      "  (1, 11650)\t1\n",
      "  (1, 2810)\t1\n",
      "  (1, 16007)\t1\n",
      "  (1, 12964)\t1\n",
      "  (1, 7380)\t1\n",
      "  (1, 17185)\t1\n",
      "  (1, 4349)\t1\n",
      "  (1, 11564)\t1\n",
      "  (1, 17705)\t1\n",
      "  :\t:\n",
      "  (9563, 13281)\t1\n",
      "  (9563, 9372)\t1\n",
      "  (9563, 13388)\t1\n",
      "  (9563, 13325)\t1\n",
      "  (9563, 13639)\t1\n",
      "  (9563, 16051)\t1\n",
      "  (9563, 9912)\t1\n",
      "  (9563, 5777)\t1\n",
      "  (9563, 1456)\t1\n",
      "  (9563, 5778)\t1\n",
      "  (9563, 9089)\t2\n",
      "  (9563, 10405)\t1\n",
      "  (9563, 18771)\t1\n",
      "  (9563, 11639)\t1\n",
      "  (9563, 8665)\t2\n",
      "  (9563, 10006)\t1\n",
      "  (9563, 17084)\t1\n",
      "  (9563, 11092)\t1\n",
      "  (9563, 1114)\t3\n",
      "  (9563, 2524)\t1\n",
      "  (9563, 16932)\t1\n",
      "  (9563, 13062)\t1\n",
      "  (9563, 9077)\t1\n",
      "  (9563, 2942)\t1\n",
      "  (9563, 6989)\t1\n"
     ]
    }
   ],
   "source": [
    "print (final_counts)\n",
    "##dense_data_bow.reshape(-1, 1)"
   ]
  },
  {
   "cell_type": "code",
   "execution_count": 259,
   "metadata": {},
   "outputs": [],
   "source": [
    "##print (final_counts)\n",
    "#print(final_counts)\n",
    "labels_1000 = final['Score'] \n",
    "#labels_1000.shape\n"
   ]
  },
  {
   "cell_type": "code",
   "execution_count": 260,
   "metadata": {},
   "outputs": [
    {
     "name": "stdout",
     "output_type": "stream",
     "text": [
      "{'both', 'than', 'with', 'such', 'itself', 'out', 'it', \"weren't\", 'own', \"aren't\", 'd', 'again', 'until', 'yourselves', 'yourself', \"you've\", \"shan't\", 'then', 'themselves', 'same', 'she', 'mustn', 'some', \"you'll\", 'this', 'its', 'whom', 'doesn', 'isn', 'here', 'were', \"wasn't\", 'we', 'in', 'my', 'so', 'those', 'few', 'any', 'have', 'from', 'her', 'most', 'that', 'did', 'no', 'down', 'should', \"needn't\", 'yours', 'not', \"should've\", 'being', 'during', 'am', 'at', 'couldn', \"it's\", 'didn', 'are', \"hadn't\", 'shan', 'about', 'o', 'be', 'when', 'an', 'haven', 'who', 're', \"hasn't\", 'ain', 'of', 'can', 'needn', 'between', 'into', \"mustn't\", 'weren', 'them', 'off', 'ourselves', \"she's\", 'is', 'himself', \"don't\", 'aren', 'hers', 'through', 'their', 'by', \"mightn't\", 'or', 'below', 'why', \"wouldn't\", 'theirs', 'will', 'was', \"shouldn't\", 'wouldn', 'hasn', 'all', 'his', 'shouldn', 'having', 'just', 't', 'your', 'how', 'if', 'while', 'does', \"won't\", 'because', 'mightn', \"that'll\", 'against', 'above', 'herself', 'other', 'y', \"you're\", 'won', 've', \"you'd\", 'which', 'for', 'do', 'under', 'him', 'further', 'now', 'our', 'ours', 's', 'they', 'and', 'as', 'm', 'but', 'over', 'wasn', 'had', 'each', 'a', 'to', 'there', 'once', \"couldn't\", 'these', 'where', 'very', 'hadn', 'been', \"doesn't\", 'ma', 'me', 'don', 'i', 'what', 'doing', 'up', 'on', 'has', \"didn't\", 'myself', 'before', 'the', 'too', \"haven't\", 'more', 'after', 'll', 'you', 'he', \"isn't\", 'only', 'nor'}\n",
      "************************************\n",
      "tasti\n"
     ]
    }
   ],
   "source": [
    "import re\n",
    "# Tutorial about Python regular expressions: https://pymotw.com/2/re/\n",
    "import string\n",
    "from nltk.corpus import stopwords\n",
    "from nltk.stem import PorterStemmer\n",
    "from nltk.stem.wordnet import WordNetLemmatizer\n",
    "\n",
    "stop = set(stopwords.words('english')) #set of stopwords\n",
    "sno = nltk.stem.SnowballStemmer('english') #initialising the snowball stemmer\n",
    "\n",
    "def cleanhtml(sentence): #function to clean the word of any html-tags\n",
    "    cleanr = re.compile('<.*?>')\n",
    "    cleantext = re.sub(cleanr, ' ', sentence)\n",
    "    return cleantext\n",
    "def cleanpunc(sentence): #function to clean the word of any punctuation or special characters\n",
    "    cleaned = re.sub(r'[?|!|\\'|\"|#]',r'',sentence)\n",
    "    cleaned = re.sub(r'[.|,|)|(|\\|/]',r' ',cleaned)\n",
    "    return  cleaned\n",
    "print(stop)\n",
    "print('************************************')\n",
    "print(sno.stem('tasty'))"
   ]
  },
  {
   "cell_type": "code",
   "execution_count": 261,
   "metadata": {},
   "outputs": [],
   "source": [
    "#Code for implementing step-by-step the checks mentioned in the pre-processing phase\n",
    "# this code takes a while to run as it needs to run on 500k sentences.\n",
    "i=0\n",
    "str1=' '\n",
    "final_string=[]\n",
    "all_positive_words=[] # store words from +ve reviews here\n",
    "all_negative_words=[] # store words from -ve reviews here.\n",
    "s=''\n",
    "for sent in final['Text'].values:\n",
    "    filtered_sentence=[]\n",
    "    #print(sent);\n",
    "    sent=cleanhtml(sent) # remove HTMl tags\n",
    "    for w in sent.split():\n",
    "        for cleaned_words in cleanpunc(w).split():\n",
    "            if((cleaned_words.isalpha()) & (len(cleaned_words)>2)):    \n",
    "                if(cleaned_words.lower() not in stop):\n",
    "                    s=(sno.stem(cleaned_words.lower())).encode('utf8')\n",
    "                    filtered_sentence.append(s)\n",
    "                    if (final['Score'].values)[i] == 2: \n",
    "                        all_positive_words.append(s) #list of all words used to describe positive reviews\n",
    "                    if(final['Score'].values)[i] == 1:\n",
    "                        all_negative_words.append(s) #list of all words used to describe negative reviews reviews\n",
    "                else:\n",
    "                    continue\n",
    "            else:\n",
    "                continue \n",
    "    #print(filtered_sentence)\n",
    "    str1 = b\" \".join(filtered_sentence) #final string of cleaned words\n",
    "    #print(\"***********************************************************************\")\n",
    "    \n",
    "    final_string.append(str1)\n",
    "    i+=1"
   ]
  },
  {
   "cell_type": "code",
   "execution_count": 262,
   "metadata": {},
   "outputs": [
    {
     "name": "stderr",
     "output_type": "stream",
     "text": [
      "/home/dtewani/anaconda3/lib/python3.6/site-packages/ipykernel_launcher.py:1: SettingWithCopyWarning: \n",
      "A value is trying to be set on a copy of a slice from a DataFrame.\n",
      "Try using .loc[row_indexer,col_indexer] = value instead\n",
      "\n",
      "See the caveats in the documentation: http://pandas.pydata.org/pandas-docs/stable/indexing.html#indexing-view-versus-copy\n",
      "  \"\"\"Entry point for launching an IPython kernel.\n"
     ]
    }
   ],
   "source": [
    "final['clean']=final_string"
   ]
  },
  {
   "cell_type": "code",
   "execution_count": 263,
   "metadata": {},
   "outputs": [],
   "source": [
    "#BoW\n",
    "count_vect = CountVectorizer() #in scikit-learn\n",
    "final_counts = count_vect.fit_transform(final['clean'].values )\n",
    "##X = final_counts.todense()\n",
    "#dense_data_bow = final_counts.todense()\n",
    "dense_data_bow=final_counts"
   ]
  },
  {
   "cell_type": "code",
   "execution_count": 264,
   "metadata": {},
   "outputs": [
    {
     "data": {
      "text/plain": [
       "(9564, 11852)"
      ]
     },
     "execution_count": 264,
     "metadata": {},
     "output_type": "execute_result"
    }
   ],
   "source": [
    "dense_data_bow.shape"
   ]
  },
  {
   "cell_type": "code",
   "execution_count": 265,
   "metadata": {},
   "outputs": [],
   "source": [
    "# ============================== loading libraries ===========================================\n",
    "import numpy as np\n",
    "import pandas as pd\n",
    "import matplotlib.pyplot as plt\n",
    "from sklearn.cross_validation import train_test_split\n",
    "from sklearn.neighbors import KNeighborsClassifier\n",
    "from sklearn.metrics import accuracy_score\n",
    "from sklearn.cross_validation import cross_val_score\n",
    "from collections import Counter\n",
    "from sklearn.metrics import accuracy_score\n",
    "from sklearn import cross_validation"
   ]
  },
  {
   "cell_type": "code",
   "execution_count": 266,
   "metadata": {},
   "outputs": [],
   "source": [
    "# Part I\n",
    "# ============================== data preprocessing ===========================================\n",
    "\n",
    "# define column names\n",
    "#names = ['x', 'y', 'class']\n",
    "##names = ['x']\n",
    "# loading training data\n",
    "df = labels_1000\n",
    "#print(df.head())\n",
    "#df.head()\n",
    "# create design matrix X and target vector y\n",
    "y = np.array(df) # end index is exclusive\n",
    "#df.reshape((999,1))\n",
    "#y = np.array(df['class']) # showing you two ways of indexing a pandas df\n",
    "X=dense_data_bow"
   ]
  },
  {
   "cell_type": "code",
   "execution_count": null,
   "metadata": {},
   "outputs": [],
   "source": []
  },
  {
   "cell_type": "code",
   "execution_count": null,
   "metadata": {},
   "outputs": [],
   "source": []
  },
  {
   "cell_type": "code",
   "execution_count": 267,
   "metadata": {},
   "outputs": [
    {
     "data": {
      "text/plain": [
       "(9564,)"
      ]
     },
     "execution_count": 267,
     "metadata": {},
     "output_type": "execute_result"
    }
   ],
   "source": [
    "# split the data set into train and test\n",
    "X_1, X_test, y_1, y_test = cross_validation.train_test_split(X, y, test_size=0.3, random_state=0)\n",
    "\n",
    "# split the train data set into cross validation train and cross validation test\n",
    "X_tr, X_cv, y_tr, y_cv = cross_validation.train_test_split(X_1, y_1, test_size=0.3)\n",
    "\n",
    "y.shape"
   ]
  },
  {
   "cell_type": "code",
   "execution_count": 161,
   "metadata": {},
   "outputs": [
    {
     "name": "stdout",
     "output_type": "stream",
     "text": [
      "\n",
      "CV accuracy for k = 1 is 100%\n",
      "\n",
      "CV accuracy for k = 3 is 90%\n",
      "\n",
      "CV accuracy for k = 5 is 88%\n",
      "\n",
      "CV accuracy for k = 7 is 87%\n",
      "\n",
      "CV accuracy for k = 9 is 86%\n",
      "\n",
      "CV accuracy for k = 11 is 85%\n",
      "\n",
      "CV accuracy for k = 13 is 85%\n",
      "\n",
      "CV accuracy for k = 15 is 85%\n",
      "\n",
      "CV accuracy for k = 17 is 85%\n",
      "\n",
      "CV accuracy for k = 19 is 85%\n",
      "\n",
      "CV accuracy for k = 21 is 85%\n",
      "\n",
      "CV accuracy for k = 23 is 85%\n",
      "\n",
      "CV accuracy for k = 25 is 85%\n",
      "\n",
      "CV accuracy for k = 27 is 85%\n",
      "\n",
      "CV accuracy for k = 29 is 85%\n",
      "\n",
      "****Test accuracy for k = 1 is 77%\n"
     ]
    }
   ],
   "source": [
    "for i in range(1,30,2):\n",
    "    # instantiate learning model (k = 30)\n",
    "    knn = KNeighborsClassifier(n_neighbors=i,algorithm='kd_tree')\n",
    "\n",
    "    # fitting the model on crossvalidation train\n",
    "    knn.fit(X_1, y_1)\n",
    "    pred = knn.predict(X_cv)\n",
    "\n",
    "    # evaluate CV accuracy\n",
    "    acc = accuracy_score(y_cv, pred, normalize=True) * float(100)\n",
    "    print('\\nCV accuracy for k = %d is %d%%' % (i, acc))\n",
    "knn = KNeighborsClassifier(1)\n",
    "knn.fit(X_tr,y_tr)\n",
    "pred = knn.predict(X_test)\n",
    "acc = accuracy_score(y_test, pred, normalize=True) * float(100)\n",
    "print('\\n****Test accuracy for k = 1 is %d%%' % (acc))   "
   ]
  },
  {
   "cell_type": "code",
   "execution_count": 281,
   "metadata": {},
   "outputs": [
    {
     "name": "stdout",
     "output_type": "stream",
     "text": [
      "\n",
      "The optimal number of neighbors is 14.\n"
     ]
    },
    {
     "data": {
      "image/png": "[encoded data removed]",
      "text/plain": [
       "<Figure size 432x288 with 1 Axes>"
      ]
     },
     "metadata": {
      "needs_background": "light"
     },
     "output_type": "display_data"
    },
    {
     "name": "stdout",
     "output_type": "stream",
     "text": [
      "the misclassification error for each k value is :  [0.228 0.295 0.191 0.202 0.174 0.18  0.169 0.171 0.168 0.167 0.166 0.167\n",
      " 0.166 0.168 0.167 0.168 0.168 0.168 0.169 0.169 0.169 0.169 0.169 0.169\n",
      " 0.169 0.169 0.169 0.169 0.169 0.169 0.169 0.169 0.169 0.169 0.169 0.169\n",
      " 0.169 0.169 0.169 0.169 0.169 0.169 0.169 0.169 0.169]\n"
     ]
    }
   ],
   "source": [
    "# creating odd list of K for KNN\n",
    "myList = list(range(0,50))\n",
    "neighbors = list(filter(lambda x: x % 10 != 0, myList))\n",
    "\n",
    "# empty list that will hold cv scores\n",
    "cv_scores = []\n",
    "\n",
    "for k in neighbors:\n",
    "    knn = KNeighborsClassifier(n_neighbors=k,algorithm='kd_tree')\n",
    "    scores = cross_val_score(knn, X_1, y_1, cv=10, scoring='accuracy')\n",
    "    cv_scores.append(scores.mean())\n",
    "\n",
    "# changing to misclassification error\n",
    "MSE = [1 - x for x in cv_scores]\n",
    "\n",
    "# determining best k\n",
    "optimal_k = neighbors[MSE.index(min(MSE))]\n",
    "print('\\nThe optimal number of neighbors is %d.' % optimal_k)\n",
    "\n",
    "plt.plot(neighbors, MSE)\n",
    "\n",
    "for xy in zip(neighbors, np.round(MSE,3)):\n",
    "    plt.annotate('(%s, %s)' % xy, xy=xy, textcoords='data')\n",
    "\n",
    "#plt.xlabel('Number of Neighbors K')\n",
    "#plt.ylabel('Misclassification Error')\n",
    "plt.show()\n",
    "\n",
    "print(\"the misclassification error for each k value is : \", np.round(MSE,3))"
   ]
  },
  {
   "cell_type": "code",
   "execution_count": null,
   "metadata": {},
   "outputs": [],
   "source": []
  },
  {
   "cell_type": "code",
   "execution_count": 25,
   "metadata": {},
   "outputs": [],
   "source": [
    "    "
   ]
  },
  {
   "cell_type": "code",
   "execution_count": 111,
   "metadata": {},
   "outputs": [
    {
     "data": {
      "text/plain": [
       "(6694, 11852)"
      ]
     },
     "execution_count": 111,
     "metadata": {},
     "output_type": "execute_result"
    }
   ],
   "source": []
  },
  {
   "cell_type": "code",
   "execution_count": 164,
   "metadata": {},
   "outputs": [],
   "source": []
  },
  {
   "cell_type": "code",
   "execution_count": 249,
   "metadata": {},
   "outputs": [],
   "source": []
  },
  {
   "cell_type": "code",
   "execution_count": 274,
   "metadata": {},
   "outputs": [
    {
     "data": {
      "image/png": "[encoded data removed]",
      "text/plain": [
       "<Figure size 432x288 with 1 Axes>"
      ]
     },
     "metadata": {
      "needs_background": "light"
     },
     "output_type": "display_data"
    }
   ],
   "source": [
    "from sklearn.preprocessing import label_binarize\n",
    "train_auc = []\n",
    "cv_auc = []\n",
    "y2 = label_binarize(y_1, classes=['0.', '1.'])\n",
    "ycv = label_binarize(y_cv, classes=['0.', '1.'])\n",
    "#y2=y2.flatten()\n",
    "K = [1,3,7,5,10,15,17]\n",
    "\n",
    "for i in K:\n",
    "    neigh = KNeighborsClassifier(n_neighbors=i)\n",
    "    neigh.fit(X_1, y_1)  \n",
    "    y_train_pred =  neigh.predict_proba (X_1)[:,1]\n",
    "    y_cv_pred =  neigh.predict_proba(X_cv)[:,1]\n",
    "    train_auc.append(roc_auc_score(y_1,y_train_pred))\n",
    "    cv_auc.append(roc_auc_score(y_cv, y_cv_pred))\n",
    "    \n",
    "plt.plot(K, train_auc, label='Train AUC')\n",
    "plt.plot(K, cv_auc, label='CV AUC')\n",
    "plt.legend()\n",
    "plt.xlabel(\"K: hyperparameter\")\n",
    "plt.ylabel(\"AUC\")\n",
    "plt.title(\"ERROR PLOTS\")\n",
    "plt.show() "
   ]
  },
  {
   "cell_type": "code",
   "execution_count": 277,
   "metadata": {},
   "outputs": [
    {
     "data": {
      "image/png": "[encoded data removed]",
      "text/plain": [
       "<Figure size 432x288 with 1 Axes>"
      ]
     },
     "metadata": {
      "needs_background": "light"
     },
     "output_type": "display_data"
    },
    {
     "name": "stdout",
     "output_type": "stream",
     "text": [
      "====================================================================================================\n",
      "Train confusion matrix\n",
      "[[ 192  938]\n",
      " [  27 5537]]\n",
      "Test confusion matrix\n",
      "[[  28  430]\n",
      " [  30 2382]]\n"
     ]
    }
   ],
   "source": [
    "from sklearn.metrics import roc_curve, auc\n",
    "\n",
    "#y2 = label_binarize(y_1, classes=['0.', '1.'])\n",
    "#ycv = label_binarize(y_cv, classes=['0.', '1.'])\n",
    "#y_test_1 = label_binarize(y_test, classes=['0.', '1.'])\n",
    "neigh = KNeighborsClassifier(n_neighbors=7)\n",
    "neigh.fit(X_1, y_1)\n",
    "# roc_auc_score(y_true, y_score) the 2nd parameter should be probability estimates of the positive class\n",
    "# not the predicted outputs\n",
    "\n",
    "train_fpr, train_tpr, thresholds = roc_curve(y_1, neigh.predict_proba(X_1)[:,1])\n",
    "test_fpr, test_tpr, thresholds = roc_curve(y_test, neigh.predict_proba(X_test)[:,1])\n",
    "\n",
    "plt.plot(train_fpr, train_tpr, label=\"train AUC =\"+str(auc(train_fpr, train_tpr)))\n",
    "plt.plot(test_fpr, test_tpr, label=\"train AUC =\"+str(auc(test_fpr, test_tpr)))\n",
    "plt.legend()\n",
    "plt.xlabel(\"K: hyperparameter\")\n",
    "plt.ylabel(\"AUC\")\n",
    "plt.title(\"ERROR PLOTS\")\n",
    "plt.show()\n",
    "\n",
    "print(\"=\"*100)\n",
    "\n",
    "from sklearn.metrics import confusion_matrix\n",
    "print(\"Train confusion matrix\")\n",
    "print(confusion_matrix(y_1, neigh.predict(X_1)))\n",
    "print(\"Test confusion matrix\")\n",
    "print(confusion_matrix(y_test, neigh.predict(X_test)))"
   ]
  },
  {
   "cell_type": "code",
   "execution_count": null,
   "metadata": {},
   "outputs": [],
   "source": []
  },
  {
   "cell_type": "code",
   "execution_count": 181,
   "metadata": {},
   "outputs": [
    {
     "data": {
      "text/plain": [
       "(6694,)"
      ]
     },
     "execution_count": 181,
     "metadata": {},
     "output_type": "execute_result"
    }
   ],
   "source": [
    "y_train_pred.shape"
   ]
  },
  {
   "cell_type": "code",
   "execution_count": 123,
   "metadata": {},
   "outputs": [
    {
     "data": {
      "text/plain": [
       "(6694,)"
      ]
     },
     "execution_count": 123,
     "metadata": {},
     "output_type": "execute_result"
    }
   ],
   "source": [
    "y_1.shape"
   ]
  },
  {
   "cell_type": "code",
   "execution_count": 229,
   "metadata": {},
   "outputs": [],
   "source": []
  },
  {
   "cell_type": "code",
   "execution_count": null,
   "metadata": {},
   "outputs": [],
   "source": [
    " "
   ]
  },
  {
   "cell_type": "code",
   "execution_count": null,
   "metadata": {},
   "outputs": [],
   "source": [
    "\n",
    "  "
   ]
  },
  {
   "cell_type": "code",
   "execution_count": null,
   "metadata": {},
   "outputs": [],
   "source": []
  },
  {
   "cell_type": "code",
   "execution_count": null,
   "metadata": {},
   "outputs": [],
   "source": []
  },
  {
   "cell_type": "code",
   "execution_count": null,
   "metadata": {},
   "outputs": [],
   "source": []
  },
  {
   "cell_type": "code",
   "execution_count": null,
   "metadata": {},
   "outputs": [],
   "source": []
  },
  {
   "cell_type": "code",
   "execution_count": null,
   "metadata": {},
   "outputs": [],
   "source": []
  },
  {
   "cell_type": "code",
   "execution_count": null,
   "metadata": {},
   "outputs": [],
   "source": []
  },
  {
   "cell_type": "code",
   "execution_count": null,
   "metadata": {},
   "outputs": [],
   "source": []
  },
  {
   "cell_type": "code",
   "execution_count": null,
   "metadata": {},
   "outputs": [],
   "source": []
  },
  {
   "cell_type": "code",
   "execution_count": 282,
   "metadata": {},
   "outputs": [
    {
     "name": "stdout",
     "output_type": "stream",
     "text": [
      "KNeighborsClassifier(algorithm='auto', leaf_size=30, metric='minkowski',\n",
      "           metric_params=None, n_jobs=1, n_neighbors=14, p=2,\n",
      "           weights='uniform')\n",
      "\n",
      "The accuracy of the knn classifier for k = 14 is 84.146341%\n"
     ]
    }
   ],
   "source": [
    "# ============================== KNN with k = optimal_k ===============================================\n",
    "# instantiate learning model k = optimal_k\n",
    "knn_optimal = KNeighborsClassifier(n_neighbors=optimal_k)\n",
    "print(knn_optimal)\n",
    "# fitting the model\n",
    "knn_optimal.fit(X_1, y_1)\n",
    "\n",
    "# predict the response\n",
    "pred = knn_optimal.predict(X_test)\n",
    "\n",
    "# evaluate accuracy\n",
    "acc = accuracy_score(y_test, pred) * 100\n",
    "print('\\nThe accuracy of the knn classifier for k = %d is %f%%' % (optimal_k, acc))"
   ]
  },
  {
   "cell_type": "code",
   "execution_count": null,
   "metadata": {},
   "outputs": [],
   "source": []
  },
  {
   "cell_type": "code",
   "execution_count": null,
   "metadata": {},
   "outputs": [],
   "source": []
  },
  {
   "cell_type": "code",
   "execution_count": null,
   "metadata": {},
   "outputs": [],
   "source": []
  },
  {
   "cell_type": "code",
   "execution_count": 283,
   "metadata": {},
   "outputs": [],
   "source": [
    "tf_idf_vect = TfidfVectorizer(ngram_range=(1,2))\n",
    "final_tf_idf = tf_idf_vect.fit_transform(final['Text'].values)"
   ]
  },
  {
   "cell_type": "code",
   "execution_count": 284,
   "metadata": {},
   "outputs": [
    {
     "data": {
      "text/plain": [
       "(9564, 241684)"
      ]
     },
     "execution_count": 284,
     "metadata": {},
     "output_type": "execute_result"
    }
   ],
   "source": [
    "final_tf_idf.get_shape()"
   ]
  },
  {
   "cell_type": "code",
   "execution_count": 285,
   "metadata": {},
   "outputs": [],
   "source": [
    "# Part I\n",
    "# ============================== data preprocessing ===========================================\n",
    "\n",
    "# define column names\n",
    "#names = ['x', 'y', 'class']\n",
    "##names = ['x']\n",
    "# loading training data\n",
    "df = labels_1000\n",
    "#print(df.head())\n",
    "#df.head()\n",
    "# create design matrix X and target vector y\n",
    "y = np.array(df) # end index is exclusive\n",
    "#y=df\n",
    "#df.reshape((999,1))\n",
    "#y = np.array(df['class']) # showing you two ways of indexing a pandas df\n",
    "X=final_tf_idf "
   ]
  },
  {
   "cell_type": "code",
   "execution_count": null,
   "metadata": {},
   "outputs": [],
   "source": []
  },
  {
   "cell_type": "code",
   "execution_count": 286,
   "metadata": {},
   "outputs": [
    {
     "data": {
      "text/plain": [
       "(9564,)"
      ]
     },
     "execution_count": 286,
     "metadata": {},
     "output_type": "execute_result"
    }
   ],
   "source": [
    "# split the data set into train and test\n",
    "X_1, X_test, y_1, y_test = cross_validation.train_test_split(X, y, test_size=0.3, random_state=0)\n",
    "\n",
    "# split the train data set into cross validation train and cross validation test\n",
    "X_tr, X_cv, y_tr, y_cv = cross_validation.train_test_split(X_1, y_1, test_size=0.3)\n",
    "\n",
    "y.shape"
   ]
  },
  {
   "cell_type": "code",
   "execution_count": 287,
   "metadata": {},
   "outputs": [
    {
     "name": "stdout",
     "output_type": "stream",
     "text": [
      "\n",
      "CV accuracy for k = 1 is 81%\n",
      "\n",
      "CV accuracy for k = 3 is 84%\n",
      "\n",
      "CV accuracy for k = 5 is 84%\n",
      "\n",
      "CV accuracy for k = 7 is 84%\n",
      "\n",
      "CV accuracy for k = 9 is 84%\n",
      "\n",
      "CV accuracy for k = 11 is 83%\n",
      "\n",
      "CV accuracy for k = 13 is 84%\n",
      "\n",
      "CV accuracy for k = 15 is 84%\n",
      "\n",
      "CV accuracy for k = 17 is 84%\n",
      "\n",
      "CV accuracy for k = 19 is 84%\n",
      "\n",
      "CV accuracy for k = 21 is 84%\n",
      "\n",
      "CV accuracy for k = 23 is 83%\n",
      "\n",
      "CV accuracy for k = 25 is 83%\n",
      "\n",
      "CV accuracy for k = 27 is 83%\n",
      "\n",
      "CV accuracy for k = 29 is 83%\n",
      "\n",
      "****Test accuracy for k = 1 is 81%\n"
     ]
    }
   ],
   "source": [
    "for i in range(1,30,2):\n",
    "    # instantiate learning model (k = 30)\n",
    "    knn = KNeighborsClassifier(n_neighbors=i)\n",
    "\n",
    "    # fitting the model on crossvalidation train\n",
    "    knn.fit(X_tr, y_tr)\n",
    "    pred = knn.predict(X_cv)\n",
    "\n",
    "    # evaluate CV accuracy\n",
    "    acc = accuracy_score(y_cv, pred, normalize=True) * float(100)\n",
    "    print('\\nCV accuracy for k = %d is %d%%' % (i, acc))\n",
    "knn = KNeighborsClassifier(1)\n",
    "knn.fit(X_tr,y_tr)\n",
    "pred = knn.predict(X_test)\n",
    "acc = accuracy_score(y_test, pred, normalize=True) * float(100)\n",
    "print('\\n****Test accuracy for k = 1 is %d%%' % (acc))   "
   ]
  },
  {
   "cell_type": "code",
   "execution_count": null,
   "metadata": {},
   "outputs": [],
   "source": []
  },
  {
   "cell_type": "code",
   "execution_count": 288,
   "metadata": {},
   "outputs": [
    {
     "name": "stdout",
     "output_type": "stream",
     "text": [
      "nee [1, 3, 5, 7, 9, 11, 13, 15, 17, 19, 21, 23, 25, 27, 29]\n",
      "scores :  [0.81377551 0.78571429 0.8286445  0.83846154 0.82307692 0.7974359\n",
      " 0.82051282 0.8025641  0.82307692 0.81794872 0.83589744 0.81538462]\n",
      "knn :  KNeighborsClassifier(algorithm='brute', leaf_size=30, metric='minkowski',\n",
      "           metric_params=None, n_jobs=1, n_neighbors=1, p=2,\n",
      "           weights='uniform')\n",
      "scores :  [0.83673469 0.83928571 0.84654731 0.86410256 0.85897436 0.84871795\n",
      " 0.83846154 0.84102564 0.82820513 0.85641026 0.86666667 0.85128205]\n",
      "knn :  KNeighborsClassifier(algorithm='brute', leaf_size=30, metric='minkowski',\n",
      "           metric_params=None, n_jobs=1, n_neighbors=3, p=2,\n",
      "           weights='uniform')\n",
      "scores :  [0.85969388 0.8494898  0.85421995 0.85897436 0.85897436 0.84871795\n",
      " 0.85641026 0.84102564 0.84871795 0.85384615 0.86153846 0.85384615]\n",
      "knn :  KNeighborsClassifier(algorithm='brute', leaf_size=30, metric='minkowski',\n",
      "           metric_params=None, n_jobs=1, n_neighbors=5, p=2,\n",
      "           weights='uniform')\n",
      "scores :  [0.85459184 0.85459184 0.85421995 0.84615385 0.84871795 0.84358974\n",
      " 0.86153846 0.85128205 0.84615385 0.84102564 0.85128205 0.86410256]\n",
      "knn :  KNeighborsClassifier(algorithm='brute', leaf_size=30, metric='minkowski',\n",
      "           metric_params=None, n_jobs=1, n_neighbors=7, p=2,\n",
      "           weights='uniform')\n",
      "scores :  [0.85459184 0.85714286 0.85677749 0.85128205 0.84615385 0.84102564\n",
      " 0.86153846 0.85897436 0.84358974 0.84358974 0.84615385 0.86666667]\n",
      "knn :  KNeighborsClassifier(algorithm='brute', leaf_size=30, metric='minkowski',\n",
      "           metric_params=None, n_jobs=1, n_neighbors=9, p=2,\n",
      "           weights='uniform')\n",
      "scores :  [0.85714286 0.8494898  0.85421995 0.84615385 0.84102564 0.84102564\n",
      " 0.85897436 0.85897436 0.84358974 0.84102564 0.83846154 0.85128205]\n",
      "knn :  KNeighborsClassifier(algorithm='brute', leaf_size=30, metric='minkowski',\n",
      "           metric_params=None, n_jobs=1, n_neighbors=11, p=2,\n",
      "           weights='uniform')\n",
      "scores :  [0.85459184 0.8494898  0.8516624  0.84615385 0.83846154 0.85128205\n",
      " 0.85641026 0.85128205 0.84102564 0.84102564 0.84615385 0.85641026]\n",
      "knn :  KNeighborsClassifier(algorithm='brute', leaf_size=30, metric='minkowski',\n",
      "           metric_params=None, n_jobs=1, n_neighbors=13, p=2,\n",
      "           weights='uniform')\n",
      "scores :  [0.84693878 0.84438776 0.84654731 0.84102564 0.83589744 0.84358974\n",
      " 0.85128205 0.84615385 0.84358974 0.83076923 0.85384615 0.85641026]\n",
      "knn :  KNeighborsClassifier(algorithm='brute', leaf_size=30, metric='minkowski',\n",
      "           metric_params=None, n_jobs=1, n_neighbors=15, p=2,\n",
      "           weights='uniform')\n",
      "scores :  [0.84438776 0.84438776 0.84910486 0.84358974 0.83846154 0.84102564\n",
      " 0.84871795 0.84358974 0.84871795 0.83589744 0.84871795 0.85384615]\n",
      "knn :  KNeighborsClassifier(algorithm='brute', leaf_size=30, metric='minkowski',\n",
      "           metric_params=None, n_jobs=1, n_neighbors=17, p=2,\n",
      "           weights='uniform')\n",
      "scores :  [0.84693878 0.84438776 0.84654731 0.84358974 0.83846154 0.84358974\n",
      " 0.84358974 0.84358974 0.84615385 0.83333333 0.84358974 0.85128205]\n",
      "knn :  KNeighborsClassifier(algorithm='brute', leaf_size=30, metric='minkowski',\n",
      "           metric_params=None, n_jobs=1, n_neighbors=19, p=2,\n",
      "           weights='uniform')\n",
      "scores :  [0.84693878 0.84693878 0.84398977 0.83846154 0.83846154 0.83846154\n",
      " 0.84358974 0.84102564 0.83589744 0.83589744 0.84358974 0.84615385]\n",
      "knn :  KNeighborsClassifier(algorithm='brute', leaf_size=30, metric='minkowski',\n",
      "           metric_params=None, n_jobs=1, n_neighbors=21, p=2,\n",
      "           weights='uniform')\n",
      "scores :  [0.84183673 0.84693878 0.83887468 0.84102564 0.83846154 0.83846154\n",
      " 0.84358974 0.84615385 0.83846154 0.83589744 0.84358974 0.84871795]\n",
      "knn :  KNeighborsClassifier(algorithm='brute', leaf_size=30, metric='minkowski',\n",
      "           metric_params=None, n_jobs=1, n_neighbors=23, p=2,\n",
      "           weights='uniform')\n",
      "scores :  [0.84183673 0.83928571 0.83887468 0.84102564 0.83846154 0.83846154\n",
      " 0.84102564 0.84102564 0.83589744 0.83589744 0.84358974 0.84615385]\n",
      "knn :  KNeighborsClassifier(algorithm='brute', leaf_size=30, metric='minkowski',\n",
      "           metric_params=None, n_jobs=1, n_neighbors=25, p=2,\n",
      "           weights='uniform')\n",
      "scores :  [0.83928571 0.83673469 0.83887468 0.84102564 0.83846154 0.83846154\n",
      " 0.84358974 0.84358974 0.83846154 0.83589744 0.84358974 0.84871795]\n",
      "knn :  KNeighborsClassifier(algorithm='brute', leaf_size=30, metric='minkowski',\n",
      "           metric_params=None, n_jobs=1, n_neighbors=27, p=2,\n",
      "           weights='uniform')\n",
      "scores :  [0.84183673 0.83673469 0.83887468 0.84102564 0.83589744 0.83846154\n",
      " 0.84358974 0.84358974 0.83589744 0.83333333 0.84102564 0.84358974]\n",
      "knn :  KNeighborsClassifier(algorithm='brute', leaf_size=30, metric='minkowski',\n",
      "           metric_params=None, n_jobs=1, n_neighbors=29, p=2,\n",
      "           weights='uniform')\n",
      "[0.18312556070365715, 0.1519655102843812, 0.14621209130251878, 0.148562518652946, 0.14770945446182926, 0.15155288146473744, 0.15133756958747824, 0.1549635043538039, 0.1549629606580648, 0.15624555563585518, 0.15838285146834652, 0.1581659029275032, 0.15987203409792006, 0.15944250331124643, 0.16051196955928404]\n",
      "\n",
      "The optimal number of neighbors is 5.\n"
     ]
    },
    {
     "data": {
      "image/png": "[encoded data removed]",
      "text/plain": [
       "<Figure size 432x288 with 1 Axes>"
      ]
     },
     "metadata": {
      "needs_background": "light"
     },
     "output_type": "display_data"
    },
    {
     "name": "stdout",
     "output_type": "stream",
     "text": [
      "the misclassification error for each k value is :  [0.183 0.152 0.146 0.149 0.148 0.152 0.151 0.155 0.155 0.156 0.158 0.158\n",
      " 0.16  0.159 0.161]\n"
     ]
    },
    {
     "data": {
      "text/plain": [
       "5"
      ]
     },
     "execution_count": 288,
     "metadata": {},
     "output_type": "execute_result"
    }
   ],
   "source": [
    "# creating odd list of K for KNN\n",
    "myList = list(range(0,30))\n",
    "\n",
    "neighbors = list(filter(lambda x: x % 2 !=0, myList))\n",
    "print(\"nee\",neighbors)\n",
    "# empty list that will hold cv scores\n",
    "cv_scores = []\n",
    "\n",
    "for k in neighbors:\n",
    "    knn = KNeighborsClassifier(n_neighbors=k,algorithm='brute')\n",
    "    scores = cross_val_score(knn, X_tr, y_tr, cv=12, scoring='accuracy')\n",
    "    cv_scores.append(scores.mean())\n",
    "    print('scores : ',scores)\n",
    "    print('knn : ',knn)\n",
    "\n",
    "# changing to misclassification error\n",
    "MSE = [1 - x for x in cv_scores]\n",
    "print(MSE)\n",
    "# determining best k\n",
    "optimal_k = neighbors[MSE.index(min(MSE))]\n",
    "print('\\nThe optimal number of neighbors is %d.' % optimal_k)\n",
    "\n",
    "plt.plot(neighbors, MSE)\n",
    "\n",
    "for xy in zip(neighbors, np.round(MSE,3)):\n",
    "    plt.annotate('(%s, %s)' % xy, xy=xy, textcoords='data')\n",
    "\n",
    "#plt.xlabel('Number of Neighbors K')\n",
    "#plt.ylabel('Misclassification Error')\n",
    "plt.show()\n",
    "\n",
    "print(\"the misclassification error for each k value is : \", np.round(MSE,3))\n",
    "optimal_k"
   ]
  },
  {
   "cell_type": "code",
   "execution_count": null,
   "metadata": {},
   "outputs": [],
   "source": []
  },
  {
   "cell_type": "code",
   "execution_count": 289,
   "metadata": {},
   "outputs": [
    {
     "name": "stderr",
     "output_type": "stream",
     "text": [
      "/home/dtewani/anaconda3/lib/python3.6/site-packages/numpy/lib/arraysetops.py:472: FutureWarning: elementwise comparison failed; returning scalar instead, but in the future will perform elementwise comparison\n",
      "  mask |= (ar1 == a)\n"
     ]
    },
    {
     "data": {
      "image/png": "[encoded data removed]",
      "text/plain": [
       "<Figure size 432x288 with 1 Axes>"
      ]
     },
     "metadata": {
      "needs_background": "light"
     },
     "output_type": "display_data"
    }
   ],
   "source": [
    "from sklearn.preprocessing import label_binarize\n",
    "train_auc = []\n",
    "cv_auc = []\n",
    "y2 = label_binarize(y_1, classes=['0.', '1.'])\n",
    "ycv = label_binarize(y_cv, classes=['0.', '1.'])\n",
    "#y2=y2.flatten()\n",
    "K = [1,3,7,5,10,15,17]\n",
    "\n",
    "for i in K:\n",
    "    neigh = KNeighborsClassifier(n_neighbors=i)\n",
    "    neigh.fit(X_1, y_1)  \n",
    "    y_train_pred =  neigh.predict_proba (X_1)[:,1]\n",
    "    y_cv_pred =  neigh.predict_proba(X_cv)[:,1]\n",
    "    train_auc.append(roc_auc_score(y_1,y_train_pred))\n",
    "    cv_auc.append(roc_auc_score(y_cv, y_cv_pred))\n",
    "    \n",
    "plt.plot(K, train_auc, label='Train AUC')\n",
    "plt.plot(K, cv_auc, label='CV AUC')\n",
    "plt.legend()\n",
    "plt.xlabel(\"K: hyperparameter\")\n",
    "plt.ylabel(\"AUC\")\n",
    "plt.title(\"ERROR PLOTS\")\n",
    "plt.show() "
   ]
  },
  {
   "cell_type": "code",
   "execution_count": null,
   "metadata": {},
   "outputs": [],
   "source": []
  },
  {
   "cell_type": "code",
   "execution_count": 290,
   "metadata": {},
   "outputs": [
    {
     "data": {
      "image/png": "[encoded data removed]",
      "text/plain": [
       "<Figure size 432x288 with 1 Axes>"
      ]
     },
     "metadata": {
      "needs_background": "light"
     },
     "output_type": "display_data"
    },
    {
     "name": "stdout",
     "output_type": "stream",
     "text": [
      "====================================================================================================\n",
      "Train confusion matrix\n",
      "[[ 318  812]\n",
      " [  35 5529]]\n",
      "Test confusion matrix\n",
      "[[  85  373]\n",
      " [  29 2383]]\n"
     ]
    }
   ],
   "source": [
    "from sklearn.metrics import roc_curve, auc\n",
    "\n",
    "#y2 = label_binarize(y_1, classes=['0.', '1.'])\n",
    "#ycv = label_binarize(y_cv, classes=['0.', '1.'])\n",
    "#y_test_1 = label_binarize(y_test, classes=['0.', '1.'])\n",
    "neigh = KNeighborsClassifier(n_neighbors=7)\n",
    "neigh.fit(X_1, y_1)\n",
    "# roc_auc_score(y_true, y_score) the 2nd parameter should be probability estimates of the positive class\n",
    "# not the predicted outputs\n",
    "\n",
    "train_fpr, train_tpr, thresholds = roc_curve(y_1, neigh.predict_proba(X_1)[:,1])\n",
    "test_fpr, test_tpr, thresholds = roc_curve(y_test, neigh.predict_proba(X_test)[:,1])\n",
    "\n",
    "plt.plot(train_fpr, train_tpr, label=\"train AUC =\"+str(auc(train_fpr, train_tpr)))\n",
    "plt.plot(test_fpr, test_tpr, label=\"train AUC =\"+str(auc(test_fpr, test_tpr)))\n",
    "plt.legend()\n",
    "plt.xlabel(\"K: hyperparameter\")\n",
    "plt.ylabel(\"AUC\")\n",
    "plt.title(\"ERROR PLOTS\")\n",
    "plt.show()\n",
    "\n",
    "print(\"=\"*100)\n",
    "\n",
    "from sklearn.metrics import confusion_matrix\n",
    "print(\"Train confusion matrix\")\n",
    "print(confusion_matrix(y_1, neigh.predict(X_1)))\n",
    "print(\"Test confusion matrix\")\n",
    "print(confusion_matrix(y_test, neigh.predict(X_test)))"
   ]
  },
  {
   "cell_type": "code",
   "execution_count": null,
   "metadata": {},
   "outputs": [],
   "source": []
  },
  {
   "cell_type": "code",
   "execution_count": 291,
   "metadata": {},
   "outputs": [
    {
     "name": "stdout",
     "output_type": "stream",
     "text": [
      "KNeighborsClassifier(algorithm='auto', leaf_size=30, metric='minkowski',\n",
      "           metric_params=None, n_jobs=1, n_neighbors=5, p=2,\n",
      "           weights='uniform')\n",
      "\n",
      "The accuracy of the knn classifier for k = 5 is 85.818815%\n"
     ]
    }
   ],
   "source": [
    "# ============================== KNN with k = optimal_k ===============================================\n",
    "# instantiate learning model k = optimal_k\n",
    "knn_optimal = KNeighborsClassifier(n_neighbors=optimal_k)\n",
    "print(knn_optimal)\n",
    "# fitting the model\n",
    "knn_optimal.fit(X_1, y_1)\n",
    "\n",
    "# predict the response\n",
    "pred = knn_optimal.predict(X_test)\n",
    "\n",
    "# evaluate accuracy\n",
    "acc = accuracy_score(y_test, pred) * 100\n",
    "print('\\nThe accuracy of the knn classifier for k = %d is %f%%' % (optimal_k, acc))"
   ]
  },
  {
   "cell_type": "code",
   "execution_count": null,
   "metadata": {},
   "outputs": [],
   "source": []
  },
  {
   "cell_type": "code",
   "execution_count": null,
   "metadata": {},
   "outputs": [],
   "source": []
  },
  {
   "cell_type": "code",
   "execution_count": 26,
   "metadata": {},
   "outputs": [],
   "source": [
    "# Using Google News Word2Vectors\n",
    "from gensim.models import Word2Vec\n",
    "from gensim.models import KeyedVectors\n",
    "import pickle\n",
    "\n",
    "# in this project we are using a pretrained model by google\n",
    "# its 3.3G file, once you load this into your memory \n",
    "# it occupies ~9Gb, so please do this step only if you have >12G of ram\n",
    "# we will provide a pickle file wich contains a dict , \n",
    "# and it contains all our courpus words as keys and  model[word] as values\n",
    "# To use this code-snippet, download \"GoogleNews-vectors-negative300.bin\" \n",
    "# from https://drive.google.com/file/d/0B7XkCwpI5KDYNlNUTTlSS21pQmM/edit\n",
    "# it's 1.9GB in size.\n",
    "\n",
    "\n",
    "model = KeyedVectors.load_word2vec_format('GoogleNews-vectors-negative300.bin', binary=True)"
   ]
  },
  {
   "cell_type": "code",
   "execution_count": null,
   "metadata": {},
   "outputs": [],
   "source": []
  },
  {
   "cell_type": "code",
   "execution_count": null,
   "metadata": {},
   "outputs": [],
   "source": [
    "from gensim.models import Word2Vec\n",
    "from gensim.models import KeyedVectors\n",
    "import pickle"
   ]
  },
  {
   "cell_type": "code",
   "execution_count": null,
   "metadata": {},
   "outputs": [],
   "source": []
  },
  {
   "cell_type": "code",
   "execution_count": 27,
   "metadata": {},
   "outputs": [],
   "source": [
    "# Train your own Word2Vec model using your own text corpus\n",
    "import gensim\n",
    "i=0\n",
    "list_of_sent=[]\n",
    "for sent in final['Text'].values:\n",
    "    filtered_sentence=[]\n",
    "    sent=cleanhtml(sent)\n",
    "    for w in sent.split():\n",
    "        for cleaned_words in cleanpunc(w).split():\n",
    "            if(cleaned_words.isalpha()):    \n",
    "                filtered_sentence.append(cleaned_words.lower())\n",
    "            else:\n",
    "                continue \n",
    "    list_of_sent.append(filtered_sentence)\n",
    " "
   ]
  },
  {
   "cell_type": "code",
   "execution_count": 28,
   "metadata": {},
   "outputs": [],
   "source": [
    "w2v_model=gensim.models.Word2Vec(list_of_sent,min_count=5,size=50, workers=4)  "
   ]
  },
  {
   "cell_type": "code",
   "execution_count": 29,
   "metadata": {},
   "outputs": [
    {
     "data": {
      "text/plain": [
       "array([ 1.79049030e-01,  4.78378479e-01, -2.51402944e-01, -2.96769546e-01,\n",
       "        4.92442001e-01,  2.46656303e-01,  3.34353950e-01,  2.02796798e-01,\n",
       "        1.27247598e-02,  5.13009069e-01,  6.37364412e-02, -3.42102802e-01,\n",
       "        2.76282849e-01,  3.75318106e-01,  3.87951246e-01, -2.34829067e-01,\n",
       "       -4.57121384e-01,  2.08797167e-01,  8.25129318e-04,  1.63524015e-01,\n",
       "       -7.36049053e-01,  4.16084048e-01, -3.48647272e-01, -1.85551077e-01,\n",
       "        1.99326172e-01,  3.14371272e-01,  7.40983458e-01, -2.62124413e-01,\n",
       "        1.57792096e-01,  7.29384510e-03,  9.46556478e-02,  1.99063074e-01,\n",
       "       -2.97297557e-01, -3.52155328e-01,  3.78078556e-01,  1.07824292e-01,\n",
       "        1.07633160e-01, -2.22666386e-01, -3.85436122e-01,  1.16755649e-01,\n",
       "        2.05274063e-01, -7.83656106e-01,  1.14046051e-01,  3.88209192e-01,\n",
       "       -7.90054827e-02,  9.79679792e-02, -9.62723680e-01, -1.52070885e-01,\n",
       "        2.19444107e-01,  1.58453931e-01])"
      ]
     },
     "execution_count": 29,
     "metadata": {},
     "output_type": "execute_result"
    }
   ],
   "source": [
    "sent_vectors = []; \n",
    "for sent in list_of_sent: \n",
    "    sent_vec = np.zeros(50)\n",
    "    cnt_words =0; \n",
    "    for word in sent: \n",
    "        try:\n",
    "            vec = w2v_model.wv[word]\n",
    "            sent_vec += vec\n",
    "            cnt_words += 1\n",
    "        except:\n",
    "            pass\n",
    "    sent_vec /= cnt_words\n",
    "    sent_vectors.append(sent_vec)\n",
    "\n",
    "sent_vec    "
   ]
  },
  {
   "cell_type": "code",
   "execution_count": null,
   "metadata": {},
   "outputs": [],
   "source": []
  },
  {
   "cell_type": "code",
   "execution_count": 30,
   "metadata": {},
   "outputs": [],
   "source": [
    "X = sent_vectors #final_w2v_count\n",
    "y = final['Score']"
   ]
  },
  {
   "cell_type": "code",
   "execution_count": 31,
   "metadata": {},
   "outputs": [
    {
     "data": {
      "text/plain": [
       "(9564,)"
      ]
     },
     "execution_count": 31,
     "metadata": {},
     "output_type": "execute_result"
    }
   ],
   "source": [
    "# split the data set into train and test\n",
    "X_1, X_test, y_1, y_test = cross_validation.train_test_split(X, y, test_size=0.3, random_state=0)\n",
    "\n",
    "# split the train data set into cross validation train and cross validation test\n",
    "X_tr, X_cv, y_tr, y_cv = cross_validation.train_test_split(X_1, y_1, test_size=0.3)\n",
    "\n",
    "y.shape"
   ]
  },
  {
   "cell_type": "code",
   "execution_count": 32,
   "metadata": {},
   "outputs": [
    {
     "name": "stdout",
     "output_type": "stream",
     "text": [
      "\n",
      "CV accuracy for k = 1 is 76%\n",
      "\n",
      "CV accuracy for k = 3 is 80%\n",
      "\n",
      "CV accuracy for k = 5 is 81%\n",
      "\n",
      "CV accuracy for k = 7 is 82%\n",
      "\n",
      "CV accuracy for k = 9 is 82%\n",
      "\n",
      "CV accuracy for k = 11 is 83%\n",
      "\n",
      "CV accuracy for k = 13 is 83%\n",
      "\n",
      "CV accuracy for k = 15 is 83%\n",
      "\n",
      "CV accuracy for k = 17 is 84%\n",
      "\n",
      "CV accuracy for k = 19 is 84%\n",
      "\n",
      "CV accuracy for k = 21 is 84%\n",
      "\n",
      "CV accuracy for k = 23 is 83%\n",
      "\n",
      "CV accuracy for k = 25 is 83%\n",
      "\n",
      "CV accuracy for k = 27 is 84%\n",
      "\n",
      "CV accuracy for k = 29 is 84%\n",
      "\n",
      "****Test accuracy for k = 1 is 76%\n"
     ]
    }
   ],
   "source": [
    "for i in range(1,30,2):\n",
    "    # instantiate learning model (k = 30)\n",
    "    knn = KNeighborsClassifier(n_neighbors=i)\n",
    "\n",
    "    # fitting the model on crossvalidation train\n",
    "    knn.fit(X_tr, y_tr)\n",
    "    pred = knn.predict(X_cv)\n",
    "\n",
    "    # evaluate CV accuracy\n",
    "    acc = accuracy_score(y_cv, pred, normalize=True) * float(100)\n",
    "    print('\\nCV accuracy for k = %d is %d%%' % (i, acc))\n",
    "knn = KNeighborsClassifier(1)\n",
    "knn.fit(X_tr,y_tr)\n",
    "pred = knn.predict(X_test)\n",
    "acc = accuracy_score(y_test, pred, normalize=True) * float(100)\n",
    "print('\\n****Test accuracy for k = 1 is %d%%' % (acc))   "
   ]
  },
  {
   "cell_type": "code",
   "execution_count": 33,
   "metadata": {},
   "outputs": [
    {
     "name": "stdout",
     "output_type": "stream",
     "text": [
      "\n",
      "The optimal number of neighbors is 16.\n"
     ]
    },
    {
     "data": {
      "image/png": "[encoded data removed]",
      "text/plain": [
       "<Figure size 432x288 with 1 Axes>"
      ]
     },
     "metadata": {
      "needs_background": "light"
     },
     "output_type": "display_data"
    },
    {
     "name": "stdout",
     "output_type": "stream",
     "text": [
      "the misclassification error for each k value is :  [0.234 0.298 0.194 0.221 0.18  0.193 0.175 0.185 0.169 0.17  0.173 0.168\n",
      " 0.168 0.168 0.165 0.167 0.167 0.167 0.168 0.168 0.168 0.169 0.168 0.167\n",
      " 0.166 0.166 0.165 0.167 0.166 0.167 0.167 0.167 0.166 0.166 0.166 0.167\n",
      " 0.167 0.166 0.167 0.166 0.168 0.167 0.167 0.166 0.168]\n"
     ]
    }
   ],
   "source": [
    "# creating odd list of K for KNN\n",
    "myList = list(range(0,50))\n",
    "neighbors = list(filter(lambda x: x % 10 != 0, myList))\n",
    "\n",
    "# empty list that will hold cv scores\n",
    "cv_scores = []\n",
    "\n",
    "for k in neighbors:\n",
    "    knn = KNeighborsClassifier(n_neighbors=k)\n",
    "    scores = cross_val_score(knn, X_tr, y_tr, cv=10, scoring='accuracy')\n",
    "    cv_scores.append(scores.mean())\n",
    "\n",
    "# changing to misclassification error\n",
    "MSE = [1 - x for x in cv_scores]\n",
    "\n",
    "# determining best k\n",
    "optimal_k = neighbors[MSE.index(min(MSE))]\n",
    "print('\\nThe optimal number of neighbors is %d.' % optimal_k)\n",
    "\n",
    "plt.plot(neighbors, MSE)\n",
    "\n",
    "for xy in zip(neighbors, np.round(MSE,3)):\n",
    "    plt.annotate('(%s, %s)' % xy, xy=xy, textcoords='data')\n",
    "\n",
    "#plt.xlabel('Number of Neighbors K')\n",
    "#plt.ylabel('Misclassification Error')\n",
    "plt.show()\n",
    "\n",
    "print(\"the misclassification error for each k value is : \", np.round(MSE,3))"
   ]
  },
  {
   "cell_type": "code",
   "execution_count": null,
   "metadata": {},
   "outputs": [],
   "source": []
  },
  {
   "cell_type": "code",
   "execution_count": null,
   "metadata": {},
   "outputs": [],
   "source": [
    "from sklearn.preprocessing import label_binarize\n",
    "train_auc = []\n",
    "cv_auc = []\n",
    "y2 = label_binarize(y_1, classes=['0.', '1.'])\n",
    "ycv = label_binarize(y_cv, classes=['0.', '1.'])\n",
    "#y2=y2.flatten()\n",
    "K = [1,3,7,5,10,15,17]\n",
    "\n",
    "for i in K:\n",
    "    neigh = KNeighborsClassifier(n_neighbors=i)\n",
    "    neigh.fit(X_1, y_1)  \n",
    "    y_train_pred =  neigh.predict_proba (X_1)[:,1]\n",
    "    y_cv_pred =  neigh.predict_proba(X_cv)[:,1]\n",
    "    train_auc.append(roc_auc_score(y_1,y_train_pred))\n",
    "    cv_auc.append(roc_auc_score(y_cv, y_cv_pred))\n",
    "    \n",
    "plt.plot(K, train_auc, label='Train AUC')\n",
    "plt.plot(K, cv_auc, label='CV AUC')\n",
    "plt.legend()\n",
    "plt.xlabel(\"K: hyperparameter\")\n",
    "plt.ylabel(\"AUC\")\n",
    "plt.title(\"ERROR PLOTS\")\n",
    "plt.show()  "
   ]
  },
  {
   "cell_type": "code",
   "execution_count": null,
   "metadata": {},
   "outputs": [],
   "source": []
  },
  {
   "cell_type": "code",
   "execution_count": null,
   "metadata": {},
   "outputs": [],
   "source": [
    "#y2 = label_binarize(y_1, classes=['0.', '1.'])\n",
    "#ycv = label_binarize(y_cv, classes=['0.', '1.'])\n",
    "#y_test_1 = label_binarize(y_test, classes=['0.', '1.'])\n",
    "neigh = KNeighborsClassifier(n_neighbors=7)\n",
    "neigh.fit(X_1, y_1)\n",
    "# roc_auc_score(y_true, y_score) the 2nd parameter should be probability estimates of the positive class\n",
    "# not the predicted outputs\n",
    "\n",
    "train_fpr, train_tpr, thresholds = roc_curve(y_1, neigh.predict_proba(X_1)[:,1])\n",
    "test_fpr, test_tpr, thresholds = roc_curve(y_test, neigh.predict_proba(X_test)[:,1])\n",
    "\n",
    "plt.plot(train_fpr, train_tpr, label=\"train AUC =\"+str(auc(train_fpr, train_tpr)))\n",
    "plt.plot(test_fpr, test_tpr, label=\"train AUC =\"+str(auc(test_fpr, test_tpr)))\n",
    "plt.legend()\n",
    "plt.xlabel(\"K: hyperparameter\")\n",
    "plt.ylabel(\"AUC\")\n",
    "plt.title(\"ERROR PLOTS\")\n",
    "plt.show()\n",
    "\n",
    "print(\"=\"*100)\n",
    "\n",
    "from sklearn.metrics import confusion_matrix\n",
    "print(\"Train confusion matrix\")\n",
    "print(confusion_matrix(y_1, neigh.predict(X_1)))\n",
    "print(\"Test confusion matrix\")\n",
    "print(confusion_matrix(y_test, neigh.predict(X_test)))\n"
   ]
  },
  {
   "cell_type": "code",
   "execution_count": null,
   "metadata": {},
   "outputs": [],
   "source": []
  },
  {
   "cell_type": "code",
   "execution_count": null,
   "metadata": {},
   "outputs": [],
   "source": [
    "# ============================== KNN with k = optimal_k ===============================================\n",
    "# instantiate learning model k = optimal_k\n",
    "knn_optimal = KNeighborsClassifier(n_neighbors=optimal_k)\n",
    "print(knn_optimal)\n",
    "# fitting the model\n",
    "knn_optimal.fit(X_1, y_1)\n",
    "\n",
    "# predict the response\n",
    "pred = knn_optimal.predict(X_test)\n",
    "\n",
    "# evaluate accuracy\n",
    "acc = accuracy_score(y_test, pred) * 100\n",
    "print('\\nThe accuracy of the knn classifier for k = %d is %f%%' % (optimal_k, acc))"
   ]
  },
  {
   "cell_type": "code",
   "execution_count": null,
   "metadata": {},
   "outputs": [],
   "source": []
  },
  {
   "cell_type": "code",
   "execution_count": null,
   "metadata": {},
   "outputs": [],
   "source": [
    "AVG word to VEC"
   ]
  },
  {
   "cell_type": "code",
   "execution_count": 182,
   "metadata": {},
   "outputs": [],
   "source": [
    "from tqdm import tqdm\n",
    "import numpy as np"
   ]
  },
  {
   "cell_type": "code",
   "execution_count": null,
   "metadata": {},
   "outputs": [],
   "source": [
    "i=0\n",
    "list_of_sentance_train=[]\n",
    "for sentance in X_1:\n",
    "    list_of_sentance_train.append(final['clean'].values.split())"
   ]
  },
  {
   "cell_type": "code",
   "execution_count": 193,
   "metadata": {},
   "outputs": [
    {
     "name": "stdout",
     "output_type": "stream",
     "text": [
      "9564\n",
      "50\n"
     ]
    }
   ],
   "source": [
    "# average Word2Vec\n",
    "# compute average word2vec for each review.\n",
    "sent_vectors = []; # the avg-w2v for each sentence/review is stored in this list\n",
    "for sent in list_of_sent: # for each review/sentence\n",
    "    sent_vec = np.zeros(50) # as word vectors are of zero length\n",
    "    cnt_words =0; # num of words with a valid vector in the sentence/review\n",
    "    for word in sent: # for each word in a review/sentence\n",
    "        try:\n",
    "            vec = w2v_model.wv[word]\n",
    "            sent_vec += vec\n",
    "            cnt_words += 1\n",
    "        except:\n",
    "            pass\n",
    "    sent_vec /= cnt_words\n",
    "    sent_vectors.append(sent_vec)\n",
    "print(len(sent_vectors))\n",
    "print(len(sent_vectors[0]))"
   ]
  },
  {
   "cell_type": "code",
   "execution_count": 194,
   "metadata": {},
   "outputs": [],
   "source": [
    "X_tr= sent_vectors"
   ]
  },
  {
   "cell_type": "code",
   "execution_count": 196,
   "metadata": {},
   "outputs": [
    {
     "name": "stdout",
     "output_type": "stream",
     "text": [
      "\n",
      "CV accuracy for k = 1 is 78%\n",
      "\n",
      "CV accuracy for k = 3 is 81%\n",
      "\n",
      "CV accuracy for k = 5 is 82%\n",
      "\n",
      "CV accuracy for k = 7 is 83%\n",
      "\n",
      "CV accuracy for k = 9 is 83%\n",
      "\n",
      "CV accuracy for k = 11 is 83%\n",
      "\n",
      "CV accuracy for k = 13 is 83%\n",
      "\n",
      "CV accuracy for k = 15 is 83%\n",
      "\n",
      "CV accuracy for k = 17 is 83%\n",
      "\n",
      "CV accuracy for k = 19 is 83%\n",
      "\n",
      "CV accuracy for k = 21 is 83%\n",
      "\n",
      "CV accuracy for k = 23 is 82%\n",
      "\n",
      "CV accuracy for k = 25 is 82%\n",
      "\n",
      "CV accuracy for k = 27 is 82%\n",
      "\n",
      "CV accuracy for k = 29 is 82%\n",
      "\n",
      "****Test accuracy for k = 1 is 79%\n"
     ]
    }
   ],
   "source": [
    "for i in range(1,30,2):\n",
    "    # instantiate learning model (k = 30)\n",
    "    knn = KNeighborsClassifier(n_neighbors=i)\n",
    "\n",
    "    # fitting the model on crossvalidation train\n",
    "    knn.fit(X_tr, y_tr)\n",
    "    pred = knn.predict(X_cv)\n",
    "\n",
    "    # evaluate CV accuracy\n",
    "    acc = accuracy_score(y_cv, pred, normalize=True) * float(100)\n",
    "    print('\\nCV accuracy for k = %d is %d%%' % (i, acc))\n",
    "knn = KNeighborsClassifier(1)\n",
    "knn.fit(X_tr,y_tr)\n",
    "pred = knn.predict(X_test)\n",
    "acc = accuracy_score(y_test, pred, normalize=True) * float(100)\n",
    "print('\\n****Test accuracy for k = 1 is %d%%' % (acc))   "
   ]
  },
  {
   "cell_type": "code",
   "execution_count": null,
   "metadata": {},
   "outputs": [],
   "source": []
  },
  {
   "cell_type": "code",
   "execution_count": 197,
   "metadata": {},
   "outputs": [
    {
     "name": "stdout",
     "output_type": "stream",
     "text": [
      "\n",
      "The optimal number of neighbors is 9.\n"
     ]
    },
    {
     "data": {
      "image/png": "[encoded data removed]",
      "text/plain": [
       "<Figure size 432x288 with 1 Axes>"
      ]
     },
     "metadata": {
      "needs_background": "light"
     },
     "output_type": "display_data"
    },
    {
     "name": "stdout",
     "output_type": "stream",
     "text": [
      "the misclassification error for each k value is :  [0.213 0.272 0.179 0.206 0.17  0.174 0.168 0.168 0.165 0.166 0.167 0.167\n",
      " 0.166 0.168 0.167 0.168 0.167 0.168 0.168 0.168 0.168 0.168 0.168 0.168\n",
      " 0.169 0.169 0.169 0.168 0.168 0.168 0.168 0.168 0.168 0.168 0.168 0.168\n",
      " 0.168 0.168 0.168 0.168 0.168 0.168 0.168 0.168 0.168]\n"
     ]
    }
   ],
   "source": [
    "# creating odd list of K for KNN\n",
    "myList = list(range(0,50))\n",
    "neighbors = list(filter(lambda x: x % 10 != 0, myList))\n",
    "\n",
    "# empty list that will hold cv scores\n",
    "cv_scores = []\n",
    "\n",
    "for k in neighbors:\n",
    "    knn = KNeighborsClassifier(n_neighbors=k)\n",
    "    scores = cross_val_score(knn, X_tr, y_tr, cv=10, scoring='accuracy')\n",
    "    cv_scores.append(scores.mean())\n",
    "\n",
    "# changing to misclassification error\n",
    "MSE = [1 - x for x in cv_scores]\n",
    "\n",
    "# determining best k\n",
    "optimal_k = neighbors[MSE.index(min(MSE))]\n",
    "print('\\nThe optimal number of neighbors is %d.' % optimal_k)\n",
    "\n",
    "plt.plot(neighbors, MSE)\n",
    "\n",
    "for xy in zip(neighbors, np.round(MSE,3)):\n",
    "    plt.annotate('(%s, %s)' % xy, xy=xy, textcoords='data')\n",
    "\n",
    "#plt.xlabel('Number of Neighbors K')\n",
    "#plt.ylabel('Misclassification Error')\n",
    "plt.show()\n",
    "\n",
    "print(\"the misclassification error for each k value is : \", np.round(MSE,3))"
   ]
  },
  {
   "cell_type": "code",
   "execution_count": null,
   "metadata": {},
   "outputs": [],
   "source": []
  },
  {
   "cell_type": "code",
   "execution_count": null,
   "metadata": {},
   "outputs": [],
   "source": []
  },
  {
   "cell_type": "code",
   "execution_count": null,
   "metadata": {},
   "outputs": [],
   "source": [
    "from sklearn.preprocessing import label_binarize\n",
    "train_auc = []\n",
    "cv_auc = []\n",
    "y2 = label_binarize(y_1, classes=['0.', '1.'])\n",
    "ycv = label_binarize(y_cv, classes=['0.', '1.'])\n",
    "#y2=y2.flatten()\n",
    "K = [1,3,7,5,10,15,17]\n",
    "\n",
    "for i in K:\n",
    "    neigh = KNeighborsClassifier(n_neighbors=i)\n",
    "    neigh.fit(X_1, y_1)  \n",
    "    y_train_pred =  neigh.predict_proba (X_1)[:,1]\n",
    "    y_cv_pred =  neigh.predict_proba(X_cv)[:,1]\n",
    "    train_auc.append(roc_auc_score(y_1,y_train_pred))\n",
    "    cv_auc.append(roc_auc_score(y_cv, y_cv_pred))\n",
    "    \n",
    "plt.plot(K, train_auc, label='Train AUC')\n",
    "plt.plot(K, cv_auc, label='CV AUC')\n",
    "plt.legend()\n",
    "plt.xlabel(\"K: hyperparameter\")\n",
    "plt.ylabel(\"AUC\")\n",
    "plt.title(\"ERROR PLOTS\")\n",
    "plt.show() "
   ]
  },
  {
   "cell_type": "code",
   "execution_count": null,
   "metadata": {},
   "outputs": [],
   "source": []
  },
  {
   "cell_type": "code",
   "execution_count": null,
   "metadata": {},
   "outputs": [],
   "source": []
  },
  {
   "cell_type": "code",
   "execution_count": null,
   "metadata": {},
   "outputs": [],
   "source": [
    "from sklearn.metrics import roc_curve, auc\n",
    "\n",
    "#y2 = label_binarize(y_1, classes=['0.', '1.'])\n",
    "#ycv = label_binarize(y_cv, classes=['0.', '1.'])\n",
    "#y_test_1 = label_binarize(y_test, classes=['0.', '1.'])\n",
    "neigh = KNeighborsClassifier(n_neighbors=7)\n",
    "neigh.fit(X_1, y_1)\n",
    "# roc_auc_score(y_true, y_score) the 2nd parameter should be probability estimates of the positive class\n",
    "# not the predicted outputs\n",
    "\n",
    "train_fpr, train_tpr, thresholds = roc_curve(y_1, neigh.predict_proba(X_1)[:,1])\n",
    "test_fpr, test_tpr, thresholds = roc_curve(y_test, neigh.predict_proba(X_test)[:,1])\n",
    "\n",
    "plt.plot(train_fpr, train_tpr, label=\"train AUC =\"+str(auc(train_fpr, train_tpr)))\n",
    "plt.plot(test_fpr, test_tpr, label=\"train AUC =\"+str(auc(test_fpr, test_tpr)))\n",
    "plt.legend()\n",
    "plt.xlabel(\"K: hyperparameter\")\n",
    "plt.ylabel(\"AUC\")\n",
    "plt.title(\"ERROR PLOTS\")\n",
    "plt.show()\n",
    "\n",
    "print(\"=\"*100)\n",
    "\n",
    "from sklearn.metrics import confusion_matrix\n",
    "print(\"Train confusion matrix\")\n",
    "print(confusion_matrix(y_1, neigh.predict(X_1)))\n",
    "print(\"Test confusion matrix\")\n",
    "print(confusion_matrix(y_test, neigh.predict(X_test)))"
   ]
  },
  {
   "cell_type": "code",
   "execution_count": null,
   "metadata": {},
   "outputs": [],
   "source": []
  },
  {
   "cell_type": "code",
   "execution_count": null,
   "metadata": {},
   "outputs": [],
   "source": [
    "# ============================== KNN with k = optimal_k ===============================================\n",
    "# instantiate learning model k = optimal_k\n",
    "knn_optimal = KNeighborsClassifier(n_neighbors=optimal_k)\n",
    "print(knn_optimal)\n",
    "# fitting the model\n",
    "knn_optimal.fit(X_1, y_1)\n",
    "\n",
    "# predict the response\n",
    "pred = knn_optimal.predict(X_test)\n",
    "\n",
    "# evaluate accuracy\n",
    "acc = accuracy_score(y_test, pred) * 100\n",
    "print('\\nThe accuracy of the knn classifier for k = %d is %f%%' % (optimal_k, acc))"
   ]
  }
 ],
 "metadata": {
  "kernelspec": {
   "display_name": "Python 3",
   "language": "python",
   "name": "python3"
  },
  "language_info": {
   "codemirror_mode": {
    "name": "ipython",
    "version": 3
   },
   "file_extension": ".py",
   "mimetype": "text/x-python",
   "name": "python",
   "nbconvert_exporter": "python",
   "pygments_lexer": "ipython3",
   "version": "3.6.8"
  }
 },
 "nbformat": 4,
 "nbformat_minor": 2
}
