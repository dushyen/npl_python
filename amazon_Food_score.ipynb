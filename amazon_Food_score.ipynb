{
 "cells": [
  {
   "cell_type": "code",
   "execution_count": 1,
   "metadata": {
    "collapsed": false
   },
   "outputs": [],
   "source": [
    "%matplotlib inline\n",
    "\n",
    "import sqlite3\n",
    "import pandas as pd\n",
    "import numpy as np\n",
    "import nltk\n",
    "import string\n",
    "import matplotlib.pyplot as plt\n",
    "import seaborn as sns\n",
    "from sklearn.feature_extraction.text import TfidfTransformer\n",
    "from sklearn.feature_extraction.text import TfidfVectorizer\n",
    "\n",
    "from sklearn.feature_extraction.text import CountVectorizer\n",
    "from sklearn.metrics import confusion_matrix\n",
    "from sklearn import metrics\n",
    "from sklearn.metrics import roc_curve, auc\n",
    "from nltk.stem.porter import PorterStemmer\n",
    "\n",
    "\n",
    "con=sqlite3.connect('database.sqlite') \n",
    "\n",
    "filtered_data = pd.read_sql_query(\"\"\"\n",
    "SELECT *\n",
    "FROM Reviews\n",
    "WHERE Score != 3 limit 1000\n",
    "\"\"\", con) \n",
    "\n",
    "\n",
    "def partition(x):\n",
    "    if x < 3:\n",
    "        return 'negative'\n",
    "    return 'positive'\n",
    "\n",
    "actualScore = filtered_data['Score']\n",
    "positiveNegative = actualScore.map(partition) \n",
    "filtered_data['Score'] = positiveNegative\n",
    "\n"
   ]
  },
  {
   "cell_type": "code",
   "execution_count": 2,
   "metadata": {
    "collapsed": false
   },
   "outputs": [
    {
     "data": {
      "text/html": [
       "<div>\n",
       "<table border=\"1\" class=\"dataframe\">\n",
       "  <thead>\n",
       "    <tr style=\"text-align: right;\">\n",
       "      <th></th>\n",
       "      <th>Id</th>\n",
       "      <th>ProductId</th>\n",
       "      <th>UserId</th>\n",
       "      <th>ProfileName</th>\n",
       "      <th>HelpfulnessNumerator</th>\n",
       "      <th>HelpfulnessDenominator</th>\n",
       "      <th>Score</th>\n",
       "      <th>Time</th>\n",
       "      <th>Summary</th>\n",
       "      <th>Text</th>\n",
       "    </tr>\n",
       "  </thead>\n",
       "  <tbody>\n",
       "    <tr>\n",
       "      <th>0</th>\n",
       "      <td>1</td>\n",
       "      <td>B001E4KFG0</td>\n",
       "      <td>A3SGXH7AUHU8GW</td>\n",
       "      <td>delmartian</td>\n",
       "      <td>1</td>\n",
       "      <td>1</td>\n",
       "      <td>positive</td>\n",
       "      <td>1303862400</td>\n",
       "      <td>Good Quality Dog Food</td>\n",
       "      <td>I have bought several of the Vitality canned d...</td>\n",
       "    </tr>\n",
       "    <tr>\n",
       "      <th>1</th>\n",
       "      <td>2</td>\n",
       "      <td>B00813GRG4</td>\n",
       "      <td>A1D87F6ZCVE5NK</td>\n",
       "      <td>dll pa</td>\n",
       "      <td>0</td>\n",
       "      <td>0</td>\n",
       "      <td>negative</td>\n",
       "      <td>1346976000</td>\n",
       "      <td>Not as Advertised</td>\n",
       "      <td>Product arrived labeled as Jumbo Salted Peanut...</td>\n",
       "    </tr>\n",
       "    <tr>\n",
       "      <th>2</th>\n",
       "      <td>3</td>\n",
       "      <td>B000LQOCH0</td>\n",
       "      <td>ABXLMWJIXXAIN</td>\n",
       "      <td>Natalia Corres \"Natalia Corres\"</td>\n",
       "      <td>1</td>\n",
       "      <td>1</td>\n",
       "      <td>positive</td>\n",
       "      <td>1219017600</td>\n",
       "      <td>\"Delight\" says it all</td>\n",
       "      <td>This is a confection that has been around a fe...</td>\n",
       "    </tr>\n",
       "    <tr>\n",
       "      <th>3</th>\n",
       "      <td>4</td>\n",
       "      <td>B000UA0QIQ</td>\n",
       "      <td>A395BORC6FGVXV</td>\n",
       "      <td>Karl</td>\n",
       "      <td>3</td>\n",
       "      <td>3</td>\n",
       "      <td>negative</td>\n",
       "      <td>1307923200</td>\n",
       "      <td>Cough Medicine</td>\n",
       "      <td>If you are looking for the secret ingredient i...</td>\n",
       "    </tr>\n",
       "    <tr>\n",
       "      <th>4</th>\n",
       "      <td>5</td>\n",
       "      <td>B006K2ZZ7K</td>\n",
       "      <td>A1UQRSCLF8GW1T</td>\n",
       "      <td>Michael D. Bigham \"M. Wassir\"</td>\n",
       "      <td>0</td>\n",
       "      <td>0</td>\n",
       "      <td>positive</td>\n",
       "      <td>1350777600</td>\n",
       "      <td>Great taffy</td>\n",
       "      <td>Great taffy at a great price.  There was a wid...</td>\n",
       "    </tr>\n",
       "  </tbody>\n",
       "</table>\n",
       "</div>"
      ],
      "text/plain": [
       "   Id   ProductId          UserId                      ProfileName  \\\n",
       "0   1  B001E4KFG0  A3SGXH7AUHU8GW                       delmartian   \n",
       "1   2  B00813GRG4  A1D87F6ZCVE5NK                           dll pa   \n",
       "2   3  B000LQOCH0   ABXLMWJIXXAIN  Natalia Corres \"Natalia Corres\"   \n",
       "3   4  B000UA0QIQ  A395BORC6FGVXV                             Karl   \n",
       "4   5  B006K2ZZ7K  A1UQRSCLF8GW1T    Michael D. Bigham \"M. Wassir\"   \n",
       "\n",
       "   HelpfulnessNumerator  HelpfulnessDenominator     Score        Time  \\\n",
       "0                     1                       1  positive  1303862400   \n",
       "1                     0                       0  negative  1346976000   \n",
       "2                     1                       1  positive  1219017600   \n",
       "3                     3                       3  negative  1307923200   \n",
       "4                     0                       0  positive  1350777600   \n",
       "\n",
       "                 Summary                                               Text  \n",
       "0  Good Quality Dog Food  I have bought several of the Vitality canned d...  \n",
       "1      Not as Advertised  Product arrived labeled as Jumbo Salted Peanut...  \n",
       "2  \"Delight\" says it all  This is a confection that has been around a fe...  \n",
       "3         Cough Medicine  If you are looking for the secret ingredient i...  \n",
       "4            Great taffy  Great taffy at a great price.  There was a wid...  "
      ]
     },
     "execution_count": 2,
     "metadata": {},
     "output_type": "execute_result"
    }
   ],
   "source": [
    "filtered_data.shape #looking at the number of attributes and size of the data\n",
    "filtered_data.head()"
   ]
  },
  {
   "cell_type": "code",
   "execution_count": 6,
   "metadata": {
    "collapsed": false
   },
   "outputs": [
    {
     "data": {
      "text/html": [
       "<div>\n",
       "<table border=\"1\" class=\"dataframe\">\n",
       "  <thead>\n",
       "    <tr style=\"text-align: right;\">\n",
       "      <th></th>\n",
       "      <th>Id</th>\n",
       "      <th>ProductId</th>\n",
       "      <th>UserId</th>\n",
       "      <th>ProfileName</th>\n",
       "      <th>HelpfulnessNumerator</th>\n",
       "      <th>HelpfulnessDenominator</th>\n",
       "      <th>Score</th>\n",
       "      <th>Time</th>\n",
       "      <th>Summary</th>\n",
       "      <th>Text</th>\n",
       "    </tr>\n",
       "  </thead>\n",
       "  <tbody>\n",
       "    <tr>\n",
       "      <th>0</th>\n",
       "      <td>78445</td>\n",
       "      <td>B000HDL1RQ</td>\n",
       "      <td>AR5J8UI46CURR</td>\n",
       "      <td>Geetha Krishnan</td>\n",
       "      <td>2</td>\n",
       "      <td>2</td>\n",
       "      <td>5</td>\n",
       "      <td>1199577600</td>\n",
       "      <td>LOACKER QUADRATINI VANILLA WAFERS</td>\n",
       "      <td>DELICIOUS WAFERS. I FIND THAT EUROPEAN WAFERS ...</td>\n",
       "    </tr>\n",
       "    <tr>\n",
       "      <th>1</th>\n",
       "      <td>138317</td>\n",
       "      <td>B000HDOPYC</td>\n",
       "      <td>AR5J8UI46CURR</td>\n",
       "      <td>Geetha Krishnan</td>\n",
       "      <td>2</td>\n",
       "      <td>2</td>\n",
       "      <td>5</td>\n",
       "      <td>1199577600</td>\n",
       "      <td>LOACKER QUADRATINI VANILLA WAFERS</td>\n",
       "      <td>DELICIOUS WAFERS. I FIND THAT EUROPEAN WAFERS ...</td>\n",
       "    </tr>\n",
       "    <tr>\n",
       "      <th>2</th>\n",
       "      <td>138277</td>\n",
       "      <td>B000HDOPYM</td>\n",
       "      <td>AR5J8UI46CURR</td>\n",
       "      <td>Geetha Krishnan</td>\n",
       "      <td>2</td>\n",
       "      <td>2</td>\n",
       "      <td>5</td>\n",
       "      <td>1199577600</td>\n",
       "      <td>LOACKER QUADRATINI VANILLA WAFERS</td>\n",
       "      <td>DELICIOUS WAFERS. I FIND THAT EUROPEAN WAFERS ...</td>\n",
       "    </tr>\n",
       "    <tr>\n",
       "      <th>3</th>\n",
       "      <td>73791</td>\n",
       "      <td>B000HDOPZG</td>\n",
       "      <td>AR5J8UI46CURR</td>\n",
       "      <td>Geetha Krishnan</td>\n",
       "      <td>2</td>\n",
       "      <td>2</td>\n",
       "      <td>5</td>\n",
       "      <td>1199577600</td>\n",
       "      <td>LOACKER QUADRATINI VANILLA WAFERS</td>\n",
       "      <td>DELICIOUS WAFERS. I FIND THAT EUROPEAN WAFERS ...</td>\n",
       "    </tr>\n",
       "    <tr>\n",
       "      <th>4</th>\n",
       "      <td>155049</td>\n",
       "      <td>B000PAQ75C</td>\n",
       "      <td>AR5J8UI46CURR</td>\n",
       "      <td>Geetha Krishnan</td>\n",
       "      <td>2</td>\n",
       "      <td>2</td>\n",
       "      <td>5</td>\n",
       "      <td>1199577600</td>\n",
       "      <td>LOACKER QUADRATINI VANILLA WAFERS</td>\n",
       "      <td>DELICIOUS WAFERS. I FIND THAT EUROPEAN WAFERS ...</td>\n",
       "    </tr>\n",
       "  </tbody>\n",
       "</table>\n",
       "</div>"
      ],
      "text/plain": [
       "       Id   ProductId         UserId      ProfileName  HelpfulnessNumerator  \\\n",
       "0   78445  B000HDL1RQ  AR5J8UI46CURR  Geetha Krishnan                     2   \n",
       "1  138317  B000HDOPYC  AR5J8UI46CURR  Geetha Krishnan                     2   \n",
       "2  138277  B000HDOPYM  AR5J8UI46CURR  Geetha Krishnan                     2   \n",
       "3   73791  B000HDOPZG  AR5J8UI46CURR  Geetha Krishnan                     2   \n",
       "4  155049  B000PAQ75C  AR5J8UI46CURR  Geetha Krishnan                     2   \n",
       "\n",
       "   HelpfulnessDenominator  Score        Time  \\\n",
       "0                       2      5  1199577600   \n",
       "1                       2      5  1199577600   \n",
       "2                       2      5  1199577600   \n",
       "3                       2      5  1199577600   \n",
       "4                       2      5  1199577600   \n",
       "\n",
       "                             Summary  \\\n",
       "0  LOACKER QUADRATINI VANILLA WAFERS   \n",
       "1  LOACKER QUADRATINI VANILLA WAFERS   \n",
       "2  LOACKER QUADRATINI VANILLA WAFERS   \n",
       "3  LOACKER QUADRATINI VANILLA WAFERS   \n",
       "4  LOACKER QUADRATINI VANILLA WAFERS   \n",
       "\n",
       "                                                Text  \n",
       "0  DELICIOUS WAFERS. I FIND THAT EUROPEAN WAFERS ...  \n",
       "1  DELICIOUS WAFERS. I FIND THAT EUROPEAN WAFERS ...  \n",
       "2  DELICIOUS WAFERS. I FIND THAT EUROPEAN WAFERS ...  \n",
       "3  DELICIOUS WAFERS. I FIND THAT EUROPEAN WAFERS ...  \n",
       "4  DELICIOUS WAFERS. I FIND THAT EUROPEAN WAFERS ...  "
      ]
     },
     "execution_count": 6,
     "metadata": {},
     "output_type": "execute_result"
    }
   ],
   "source": [
    "display= pd.read_sql_query(\"\"\"\n",
    "SELECT *\n",
    "FROM Reviews\n",
    "WHERE Score != 3 AND UserId=\"AR5J8UI46CURR\"\n",
    "ORDER BY ProductID\n",
    "\"\"\", con)\n",
    "display"
   ]
  },
  {
   "cell_type": "code",
   "execution_count": 7,
   "metadata": {
    "collapsed": true
   },
   "outputs": [],
   "source": [
    "#Sorting data according to ProductId in ascending order\n",
    "sorted_data=filtered_data.sort_values('ProductId', axis=0, ascending=True, inplace=False, kind='quicksort', na_position='last')"
   ]
  },
  {
   "cell_type": "code",
   "execution_count": 8,
   "metadata": {
    "collapsed": false
   },
   "outputs": [
    {
     "data": {
      "text/plain": [
       "(998, 10)"
      ]
     },
     "execution_count": 8,
     "metadata": {},
     "output_type": "execute_result"
    }
   ],
   "source": [
    "#Deduplication of entries\n",
    "final=sorted_data.drop_duplicates(subset={\"UserId\",\"ProfileName\",\"Time\",\"Text\"}, keep='first', inplace=False)\n",
    "final.shape"
   ]
  },
  {
   "cell_type": "code",
   "execution_count": 9,
   "metadata": {
    "collapsed": false
   },
   "outputs": [
    {
     "data": {
      "text/plain": [
       "99.8"
      ]
     },
     "execution_count": 9,
     "metadata": {},
     "output_type": "execute_result"
    }
   ],
   "source": [
    "#Checking to see how much % of data still remains\n",
    "(final['Id'].size*1.0)/(filtered_data['Id'].size*1.0)*100"
   ]
  },
  {
   "cell_type": "code",
   "execution_count": 10,
   "metadata": {
    "collapsed": false
   },
   "outputs": [],
   "source": [
    "final=final[final.HelpfulnessNumerator<=final.HelpfulnessDenominator]"
   ]
  },
  {
   "cell_type": "code",
   "execution_count": 11,
   "metadata": {
    "collapsed": false
   },
   "outputs": [
    {
     "data": {
      "text/html": [
       "<div>\n",
       "<table border=\"1\" class=\"dataframe\">\n",
       "  <thead>\n",
       "    <tr style=\"text-align: right;\">\n",
       "      <th></th>\n",
       "      <th>Id</th>\n",
       "      <th>ProductId</th>\n",
       "      <th>UserId</th>\n",
       "      <th>ProfileName</th>\n",
       "      <th>HelpfulnessNumerator</th>\n",
       "      <th>HelpfulnessDenominator</th>\n",
       "      <th>Score</th>\n",
       "      <th>Time</th>\n",
       "      <th>Summary</th>\n",
       "      <th>Text</th>\n",
       "    </tr>\n",
       "  </thead>\n",
       "  <tbody>\n",
       "    <tr>\n",
       "      <th>0</th>\n",
       "      <td>64422</td>\n",
       "      <td>B000MIDROQ</td>\n",
       "      <td>A161DK06JJMCYF</td>\n",
       "      <td>J. E. Stephens \"Jeanne\"</td>\n",
       "      <td>3</td>\n",
       "      <td>1</td>\n",
       "      <td>5</td>\n",
       "      <td>1224892800</td>\n",
       "      <td>Bought This for My Son at College</td>\n",
       "      <td>My son loves spaghetti so I didn't hesitate or...</td>\n",
       "    </tr>\n",
       "    <tr>\n",
       "      <th>1</th>\n",
       "      <td>44737</td>\n",
       "      <td>B001EQ55RW</td>\n",
       "      <td>A2V0I904FH7ABY</td>\n",
       "      <td>Ram</td>\n",
       "      <td>3</td>\n",
       "      <td>2</td>\n",
       "      <td>4</td>\n",
       "      <td>1212883200</td>\n",
       "      <td>Pure cocoa taste with crunchy almonds inside</td>\n",
       "      <td>It was almost a 'love at first bite' - the per...</td>\n",
       "    </tr>\n",
       "  </tbody>\n",
       "</table>\n",
       "</div>"
      ],
      "text/plain": [
       "      Id   ProductId          UserId              ProfileName  \\\n",
       "0  64422  B000MIDROQ  A161DK06JJMCYF  J. E. Stephens \"Jeanne\"   \n",
       "1  44737  B001EQ55RW  A2V0I904FH7ABY                      Ram   \n",
       "\n",
       "   HelpfulnessNumerator  HelpfulnessDenominator  Score        Time  \\\n",
       "0                     3                       1      5  1224892800   \n",
       "1                     3                       2      4  1212883200   \n",
       "\n",
       "                                        Summary  \\\n",
       "0             Bought This for My Son at College   \n",
       "1  Pure cocoa taste with crunchy almonds inside   \n",
       "\n",
       "                                                Text  \n",
       "0  My son loves spaghetti so I didn't hesitate or...  \n",
       "1  It was almost a 'love at first bite' - the per...  "
      ]
     },
     "execution_count": 11,
     "metadata": {},
     "output_type": "execute_result"
    }
   ],
   "source": [
    "display= pd.read_sql_query(\"\"\"\n",
    "SELECT *\n",
    "FROM Reviews\n",
    "WHERE Score != 3 AND Id=44737 OR Id=64422\n",
    "ORDER BY ProductID\n",
    "\"\"\", con)\n",
    "display"
   ]
  },
  {
   "cell_type": "code",
   "execution_count": 12,
   "metadata": {
    "collapsed": false
   },
   "outputs": [],
   "source": [
    "#BoW\n",
    "count_vect = CountVectorizer() #in scikit-learn\n",
    "final_counts = count_vect.fit_transform(final['Text'].values)\n"
   ]
  },
  {
   "cell_type": "code",
   "execution_count": 14,
   "metadata": {
    "collapsed": false
   },
   "outputs": [
    {
     "name": "stdout",
     "output_type": "stream",
     "text": [
      "(998, 10)\n"
     ]
    },
    {
     "data": {
      "text/plain": [
       "positive    841\n",
       "negative    157\n",
       "Name: Score, dtype: int64"
      ]
     },
     "execution_count": 14,
     "metadata": {},
     "output_type": "execute_result"
    }
   ],
   "source": [
    "#Before starting the next phase of preprocessing lets see the number of entries left\n",
    "print(final.shape)\n",
    "\n",
    "#How many positive and negative reviews are present in our dataset?\n",
    "final['Score'].value_counts()"
   ]
  },
  {
   "cell_type": "code",
   "execution_count": 15,
   "metadata": {
    "collapsed": false
   },
   "outputs": [
    {
     "data": {
      "text/plain": [
       "scipy.sparse.csr.csr_matrix"
      ]
     },
     "execution_count": 15,
     "metadata": {},
     "output_type": "execute_result"
    }
   ],
   "source": [
    "type(final_counts)"
   ]
  },
  {
   "cell_type": "code",
   "execution_count": 16,
   "metadata": {
    "collapsed": false
   },
   "outputs": [
    {
     "data": {
      "text/plain": [
       "(998, 6033)"
      ]
     },
     "execution_count": 16,
     "metadata": {},
     "output_type": "execute_result"
    }
   ],
   "source": [
    "final_counts.get_shape()"
   ]
  },
  {
   "cell_type": "code",
   "execution_count": 17,
   "metadata": {
    "collapsed": false
   },
   "outputs": [
    {
     "name": "stdout",
     "output_type": "stream",
     "text": [
      "       Id   ProductId          UserId  \\\n",
      "10     11  B0001PB9FE  A3HDKO7OW0QNK4   \n",
      "232   253  B0002567IW  A1SSKFPX72MSMR   \n",
      "171   188  B00029XIZI  A2S72TUJDQUBMH   \n",
      "932  1011  B0002MKFEM  A3QLX72AO0DD5Z   \n",
      "893   969  B0002XIB2Y  A3NV17B17PFB7G   \n",
      "894   970  B0002XIB2Y  A1O3WOX0KBBV3W   \n",
      "895   971  B0002XIB2Y  A2DRQBOGCTC5HP   \n",
      "896   972  B0002XIB2Y  A1891H0TIXLDXA   \n",
      "380   414  B00061KYVI  A29ZSRDOYVO735   \n",
      "379   413  B00061KYVI  A3JE18D4XD2PYF   \n",
      "378   412  B00061KYVI  A28RMYGO9RGA0K   \n",
      "319   351  B00067AD4U   A7DSY3M6P6RG3   \n",
      "316   348  B00067AD4U  A2OB1BFAEPAYBM   \n",
      "318   350  B00067AD4U  A2LYOWC3FC73XK   \n",
      "317   349  B00067AD4U  A3GT3KCGY9EYF4   \n",
      "791   856  B0007NG568  A1XDNMQMY5PYFZ   \n",
      "790   855  B0007NG568  A2BF7B1EJBMNSY   \n",
      "789   854  B0007NG568   A8AJFY7BX21SS   \n",
      "788   853  B0007NG568   AEFA52M4MT4H6   \n",
      "787   852  B0007NG568  A2YPBLSWGVCGVL   \n",
      "766   828  B0007NG56I  A1HHS1SELWW6NY   \n",
      "767   829  B0007NG56I   AMQ8L5JWWDGIA   \n",
      "768   830  B0007NG56I   AN808YPCW2C2F   \n",
      "11     12  B0009XLVG0  A2725IB4YY9JEB   \n",
      "12     13  B0009XLVG0   A327PCT23YH90   \n",
      "191   210  B0009XLVGA  A3S84SEN2Z6DZU   \n",
      "192   211  B0009XLVGA  A2U3Z5S70AE80V   \n",
      "193   212  B0009XLVGA   ATHUN0PJ0MG0P   \n",
      "194   213  B0009XLVGA  A2LWOW7SO2QPML   \n",
      "195   214  B0009XLVGA  A1NHQNQ3TVXTZF   \n",
      "..    ...         ...             ...   \n",
      "6       7  B006K2ZZ7K  A1SP2KVKFXXRU1   \n",
      "4       5  B006K2ZZ7K  A1UQRSCLF8GW1T   \n",
      "66     73  B006SQBRMA   ATYMT48R62ENE   \n",
      "153   168  B007B9J6G2  A34YK0ZTWOR858   \n",
      "303   332  B007DJ0O9I  A24GM452AKJTT9   \n",
      "304   333  B007DJ0O9I  A328TUPI6HYZSF   \n",
      "594   645  B007F96QQQ  A3TXK9O5IP3CWQ   \n",
      "231   251  B007J32WX4  A3957BBBNL1TLJ   \n",
      "209   229  B007JFV6RK  A2UC5JUVHIF80L   \n",
      "208   228  B007JFV6RK  A3LCMQ815MBJW9   \n",
      "207   227  B007JFV6RK  A2WQBT7RS1HSSU   \n",
      "598   649  B007SESJWC   ADC5ZCN8OLFO1   \n",
      "229   249  B007TFONH0  A3ICO2ROSXHIPM   \n",
      "227   247  B007TFONH0   AMRNVZKWF6519   \n",
      "228   248  B007TFONH0  A10IFYN5U6X20R   \n",
      "723   779  B007ZENY5W   AQZ9FQYW60HJ4   \n",
      "1       2  B00813GRG4  A1D87F6ZCVE5NK   \n",
      "158   174  B0081XN2HQ  A3HUV0ZQPXO3V7   \n",
      "238   259  B00821UN4M  A3MQSTAAJSUGF9   \n",
      "237   258  B00821UN4M  A332AAPB4P75L4   \n",
      "344   376  B0087HW5E2  A139RTDNMU3WY5   \n",
      "377   411  B0089PI9OC   ARYNM1E978YX8   \n",
      "678   730  B008BEGP9W  A1MJ0MF2OFIU4D   \n",
      "677   729  B008BEGP9W  A2L0EIYNODCZ9U   \n",
      "220   240  B0093NIWVO  A1JT114SOITFFO   \n",
      "711   765  B009HINRX8  A1OEL4UZT3KKI4   \n",
      "709   763  B009HINRX8  A3N9477PUE6WMR   \n",
      "710   764  B009HINRX8   ADDBLG0CFY9AI   \n",
      "713   768  B009HINRX8  A2CAZG1CQ8BQI5   \n",
      "712   766  B009HINRX8  A39BLB42U7M6BD   \n",
      "\n",
      "                                     ProfileName  HelpfulnessNumerator  \\\n",
      "10                                  Canadian Fan                     1   \n",
      "232                  Janna M. Sicard \"missjanna\"                     0   \n",
      "171                                        Nadia                     0   \n",
      "932                              Carlito Picache                     1   \n",
      "893                                        Susan                     3   \n",
      "894                                  MATHEW Geib                     1   \n",
      "895                                TL \"TerryLea\"                     2   \n",
      "896                            Donald M. Bridges                     1   \n",
      "380                    Robert Ames \"Spenser_man\"                     0   \n",
      "379                                    pattymelt                     0   \n",
      "378                                      marilyn                     0   \n",
      "319                                   taza052007                     0   \n",
      "316                                R. C. Wilkins                     1   \n",
      "318          Michael Ekstrum \"expresso bean fan\"                     1   \n",
      "317                                       Siri J                     1   \n",
      "791                         D. Berghorst \"denab\"                     0   \n",
      "790                               Vanessa Malone                     0   \n",
      "789                                       brewer                     2   \n",
      "788                                        rr707                     2   \n",
      "787            Thom Reece \"Marketing Consultant\"                     4   \n",
      "766                                      Clancey                    16   \n",
      "767                                       anon63                    12   \n",
      "768                                Chef Victoria                     4   \n",
      "11                        A Poeng \"SparkyGoHome\"                     4   \n",
      "12                                            LT                     1   \n",
      "191                               EJ \"Seayhorse\"                     2   \n",
      "192                                     Margaret                     2   \n",
      "193                         R. Cross \"LVWolfman\"                     1   \n",
      "194                               JHexatthewheel                     0   \n",
      "195         Desert Girl \"chrissylovesherhusband\"                     3   \n",
      "..                                           ...                   ...   \n",
      "6                              David C. Sullivan                     0   \n",
      "4                  Michael D. Bigham \"M. Wassir\"                     0   \n",
      "66                                         Marie                     0   \n",
      "153                                    NikkiBast                     1   \n",
      "303                                   AMAZONGURL                     0   \n",
      "304                                Maplerise Mom                     0   \n",
      "594                                       Evelyn                     0   \n",
      "231                                 Susan Hannon                     2   \n",
      "209                                     Abendago                     1   \n",
      "208                                        Patty                     1   \n",
      "207                     Wade Jackman \"wpjackman\"                     1   \n",
      "598                          Gillian B. McArthur                     0   \n",
      "229                                     tightwad                     0   \n",
      "227                                confettissimo                     1   \n",
      "228                                     onemagoo                     0   \n",
      "723                                Home schooler                     1   \n",
      "1                                         dll pa                     0   \n",
      "158                           Pink Dandy Chatter                     0   \n",
      "238                                      mommy11                     1   \n",
      "237                              Heather Crimson                     2   \n",
      "344                                 blanket lady                     2   \n",
      "377                                         Bill                     0   \n",
      "678                                        Chris                     0   \n",
      "677                                     good dog                     0   \n",
      "220                                 Dan & Eileen                     0   \n",
      "711  coffee drinker in PA \"coffee drinker in PA\"                     0   \n",
      "709                                      patc477                     4   \n",
      "710                                       S.A.D.                     1   \n",
      "713                          Patricia J. Nohalty                     0   \n",
      "712                                 James Brooks                     0   \n",
      "\n",
      "     HelpfulnessDenominator     Score        Time  \\\n",
      "10                        1  positive  1107820800   \n",
      "232                       0  negative  1344556800   \n",
      "171                       0  positive  1236124800   \n",
      "932                       2  positive  1226361600   \n",
      "893                       3  positive  1228176000   \n",
      "894                       1  positive  1260057600   \n",
      "895                       3  positive  1191715200   \n",
      "896                       2  positive  1250294400   \n",
      "380                       0  positive  1264809600   \n",
      "379                       0  positive  1282521600   \n",
      "378                       0  positive  1328140800   \n",
      "319                       0  positive  1181692800   \n",
      "316                       1  positive  1207440000   \n",
      "318                       1  positive  1178928000   \n",
      "317                       1  positive  1198195200   \n",
      "791                       2  negative  1311811200   \n",
      "790                       0  positive  1319673600   \n",
      "789                       2  positive  1302825600   \n",
      "788                       2  positive  1311465600   \n",
      "787                       4  positive  1278720000   \n",
      "766                      17  positive  1242000000   \n",
      "767                      13  positive  1269129600   \n",
      "768                       5  positive  1333065600   \n",
      "11                        4  positive  1282867200   \n",
      "12                        1  negative  1339545600   \n",
      "191                       2  positive  1299283200   \n",
      "192                       2  positive  1267920000   \n",
      "193                       1  positive  1315008000   \n",
      "194                       1  negative  1310515200   \n",
      "195                      10  negative  1220227200   \n",
      "..                      ...       ...         ...   \n",
      "6                         0  positive  1340150400   \n",
      "4                         0  positive  1350777600   \n",
      "66                        0  positive  1327017600   \n",
      "153                       1  negative  1345420800   \n",
      "303                       0  negative  1349827200   \n",
      "304                       1  positive  1336521600   \n",
      "594                       0  positive  1339804800   \n",
      "231                       2  positive  1334361600   \n",
      "209                       1  positive  1334016000   \n",
      "208                       1  positive  1338163200   \n",
      "207                       1  positive  1346025600   \n",
      "598                       0  positive  1335052800   \n",
      "229                       0  positive  1340755200   \n",
      "227                       1  positive  1338508800   \n",
      "228                       0  positive  1350172800   \n",
      "723                       1  positive  1339718400   \n",
      "1                         0  negative  1346976000   \n",
      "158                       0  positive  1344902400   \n",
      "238                       1  negative  1345161600   \n",
      "237                       2  negative  1348099200   \n",
      "344                       2  positive  1339977600   \n",
      "377                       0  positive  1341360000   \n",
      "678                       0  positive  1340496000   \n",
      "677                       0  positive  1346371200   \n",
      "220                       0  positive  1350691200   \n",
      "711                       0  positive  1344988800   \n",
      "709                       4  positive  1323302400   \n",
      "710                       1  positive  1326758400   \n",
      "713                       0  positive  1337212800   \n",
      "712                       0  positive  1344643200   \n",
      "\n",
      "                                               Summary  \\\n",
      "10                     The Best Hot Sauce in the World   \n",
      "232                                        Sad outcome   \n",
      "171                                            Miracle   \n",
      "932                                      Way too salty   \n",
      "893                                   WONDERFUL gravy!   \n",
      "894                                      YEEEEE HAWWW!   \n",
      "895                                 Best white gravy !   \n",
      "896                            Pioneer Gravy is GREAT!   \n",
      "380                               Franch's is the best   \n",
      "379                                    best roast ever   \n",
      "378                              french's roast'n bags   \n",
      "319                                These are the Best!   \n",
      "316                                     Great Beans!!!   \n",
      "318                excellent - exactly what I expected   \n",
      "317                                        Good stuff!   \n",
      "791                                        Funny taste   \n",
      "790                                   Loved the Oats!!   \n",
      "789                                         mm mm oats   \n",
      "788                 Good oatmeal, I'm on my second bag   \n",
      "787        Excellent quality product, fast delivery...   \n",
      "766                                 Great way to order   \n",
      "767     Good quality, delivered on time, human edible.   \n",
      "768                        Rave Review for Rolled Oats   \n",
      "11   My cats LOVE this \"diet\" food better than thei...   \n",
      "12                My Cats Are Not Fans of the New Food   \n",
      "191  better than average, more expensive than average.   \n",
      "192                                   My cat loves it!   \n",
      "193             Great For Fat Cats and Senior Citizens   \n",
      "194                             Nearly killed the cats   \n",
      "195                CHANGED FORMULA MAKES CATS SICK!!!!   \n",
      "..                                                 ...   \n",
      "6        Great!  Just as good as the expensive brands!   \n",
      "4                                          Great taffy   \n",
      "66                               Best ever latice tart   \n",
      "153                                   Very Low quality   \n",
      "303                                              AWFUL   \n",
      "304                              Pop-Tarts Work of Art   \n",
      "594                                          Delicious   \n",
      "231                 Super!  SuperFoods are Super easy!   \n",
      "209                           Mcclures bloody Mary mix   \n",
      "208                                           The Best   \n",
      "207                             Best Bloody Mary mixer   \n",
      "598                                    Shrimp stir fry   \n",
      "229                                          delicious   \n",
      "227                                         Wonderful!   \n",
      "228                              Best way to buy kcups   \n",
      "723                                         Fantastic!   \n",
      "1                                    Not as Advertised   \n",
      "158           Fluffy, Soft, Delicious and Sugary Sweet   \n",
      "238                                      Disappointed!   \n",
      "237                               Reeks like chemicals   \n",
      "344             Greatest Oil since slice bread !!!!!!!   \n",
      "377                                     Excellent tea!   \n",
      "678                                  A Surprising Find   \n",
      "677                                  cute ,cute, cute!   \n",
      "220                     OMG best chocolate jelly belly   \n",
      "711                      great coffee - terrible price   \n",
      "709                            Good Tasting cup o' joe   \n",
      "710                              Best of the Tassimo's   \n",
      "713                                   Kona for Tassimo   \n",
      "712                          One of the better T-Discs   \n",
      "\n",
      "                                                  Text  \n",
      "10   I don't know if it's the cactus or the tequila...  \n",
      "232  Five minutes in, one tentacle was bitten off, ...  \n",
      "171  My Scotties were full of hot spots and when I ...  \n",
      "932  I tried this and I found it too salty.<br />Pl...  \n",
      "893  This gravy mix is excellent ... except, don't ...  \n",
      "894  I'm not from the south, but live in SoFla; whe...  \n",
      "895  Nothing easier. Nothing better. Even beats gra...  \n",
      "896  I have used Pioneer Gravy for a number of year...  \n",
      "380  It's always a pleasure to find French's produc...  \n",
      "379  This is the best way to cook a roast.  Our loc...  \n",
      "378  i love this product cant find it locally. Some...  \n",
      "319  These chocolate covered espresso beans are won...  \n",
      "316  I ordered these for my coffee themed wedding. ...  \n",
      "318  The product was exactly as advertised and fres...  \n",
      "317  \"These are delicious! The chocolate is excelle...  \n",
      "791  I can't eat these oats, they have a funny tast...  \n",
      "790  Good quality oats. Package came on time. Oats ...  \n",
      "789  Product is fresh, good and I'm not getting com...  \n",
      "788  I'm happy with the quality of the product and ...  \n",
      "787  The product is of high quality, and has a rich...  \n",
      "766  My 50lb bag of oatmeal seemed like way too muc...  \n",
      "767  Better than organic oats advertised elsewhere....  \n",
      "768  Honeyville Rolled Oats is a delicious product....  \n",
      "11   One of my boys needed to lose some weight and ...  \n",
      "12   My cats have been happily eating Felidae Plati...  \n",
      "191  we have fed our cats a lot of stuff. These 2 b...  \n",
      "192  I started my cat on Felidae Platinum about 3 w...  \n",
      "193  We have three cats, the youngest is about elev...  \n",
      "194  Too much of a good thing? We worked this kibbl...  \n",
      "195  As with canidae, Felidae has also changed thei...  \n",
      "..                                                 ...  \n",
      "6    This saltwater taffy had great flavors and was...  \n",
      "4    Great taffy at a great price.  There was a wid...  \n",
      "66   I ordered two of these and two of raspberry la...  \n",
      "153  I don't know how long these sat on the back of...  \n",
      "303  I received the items in a timely manner. Upon ...  \n",
      "304  I found these new spring Pop-Tarts and bought ...  \n",
      "594  These biscuits are delicious, not too sweet, w...  \n",
      "231  WOW!  This product is very impressive. I bough...  \n",
      "209  Took me one or two to get used to the pickle t...  \n",
      "208  Might be a little spicy for some, but this stu...  \n",
      "207  I think I have tried just about every Bloody M...  \n",
      "598  Love this with a bag of shrimp 3/4 pound, some...  \n",
      "229  good products and fast shipping equals a happy...  \n",
      "227  I love love love this deal - it's way fun to p...  \n",
      "228  Once you've tried some random sampler packs (a...  \n",
      "723  My son made this.  He didn't have the patience...  \n",
      "1    Product arrived labeled as Jumbo Salted Peanut...  \n",
      "158  I couldn't wait to try the 8&#8243; Cinnamon C...  \n",
      "238  This product has a strong after-taste of Crayo...  \n",
      "237  I so wish I would have read this review before...  \n",
      "344  I have used this oil for several years and it ...  \n",
      "377  This tea tastes almost as good as the tea you ...  \n",
      "678  I really like the pineapple shortcakes sold he...  \n",
      "677  So surprised to find the Taiwan-shaped pineapp...  \n",
      "220  Fresh,a great way to get a little chocolate in...  \n",
      "711  This is one of the best choices, in my opinion...  \n",
      "709  This is a bold blend that has a great taste. T...  \n",
      "710  We've tried many Tassimo flavors.  This is by ...  \n",
      "713  Of all the coffee's available for Tassimo this...  \n",
      "712  I have tried about 75% of the available T-Disc...  \n",
      "\n",
      "[998 rows x 10 columns]\n"
     ]
    }
   ],
   "source": [
    "print(final)"
   ]
  },
  {
   "cell_type": "code",
   "execution_count": 14,
   "metadata": {
    "collapsed": false
   },
   "outputs": [
    {
     "name": "stdout",
     "output_type": "stream",
     "text": [
      "  (0, 29981)\t1\n",
      "  (0, 112121)\t1\n",
      "  (0, 68341)\t1\n",
      "  (0, 47909)\t1\n",
      "  (0, 5093)\t1\n",
      "  (0, 19419)\t1\n",
      "  (0, 98814)\t1\n",
      "  (0, 112630)\t1\n",
      "  (0, 20386)\t1\n",
      "  (0, 104542)\t2\n",
      "  (0, 112660)\t1\n",
      "  (0, 7750)\t1\n",
      "  (0, 28971)\t1\n",
      "  (0, 59142)\t2\n",
      "  (0, 74846)\t1\n",
      "  (0, 94431)\t1\n",
      "  (0, 58762)\t1\n",
      "  (0, 113360)\t1\n",
      "  (0, 72824)\t1\n",
      "  (0, 7296)\t2\n",
      "  (0, 65217)\t1\n",
      "  (0, 89722)\t1\n",
      "  (0, 39520)\t1\n",
      "  (0, 57417)\t1\n",
      "  (0, 111991)\t1\n",
      "  :\t:\n",
      "  (364170, 65220)\t1\n",
      "  (364170, 96057)\t1\n",
      "  (364170, 56471)\t1\n",
      "  (364170, 114561)\t1\n",
      "  (364170, 103466)\t1\n",
      "  (364170, 111267)\t1\n",
      "  (364170, 109946)\t1\n",
      "  (364170, 53384)\t1\n",
      "  (364170, 61424)\t1\n",
      "  (364170, 96374)\t1\n",
      "  (364170, 49495)\t1\n",
      "  (364170, 114517)\t1\n",
      "  (364170, 103941)\t1\n",
      "  (364170, 112937)\t1\n",
      "  (364170, 50620)\t1\n",
      "  (364170, 103443)\t2\n",
      "  (364170, 29981)\t1\n",
      "  (364170, 104542)\t6\n",
      "  (364170, 53557)\t3\n",
      "  (364170, 8302)\t2\n",
      "  (364170, 59284)\t2\n",
      "  (364170, 10401)\t1\n",
      "  (364170, 96473)\t1\n",
      "  (364170, 71724)\t1\n",
      "  (364170, 103749)\t2\n"
     ]
    }
   ],
   "source": [
    "print(final_counts)"
   ]
  },
  {
   "cell_type": "code",
   "execution_count": 19,
   "metadata": {
    "collapsed": false
   },
   "outputs": [
    {
     "name": "stdout",
     "output_type": "stream",
     "text": [
      "{'hers', 'under', 'does', 'so', 'were', 'further', 's', 'being', 'i', 'didn', 'no', 'while', 'having', \"mustn't\", 'wasn', 'our', \"aren't\", 'from', 'if', 'such', 'than', 'when', 'should', 'did', 'myself', 'do', 'which', 'for', \"you'd\", 'whom', 'as', 'we', 'not', 'against', 'y', 'me', 'very', 'up', 'an', 'with', 'during', 'once', 'other', 'or', 'herself', 'how', \"she's\", 'their', 'couldn', 'what', 'mustn', 'between', 'nor', 'above', 'he', 'it', 'that', \"isn't\", 'before', 'yourselves', 'now', 'your', \"couldn't\", 'again', 'himself', 'was', 'o', 'out', 'they', 'all', 'at', 'ours', 'hadn', 'because', 'this', 'are', 'and', 'will', 'the', 'she', 'by', 'too', 'd', 'mightn', \"weren't\", 'hasn', 'him', 'yours', \"wouldn't\", 'have', \"didn't\", 'same', 'through', \"hadn't\", 'isn', 'theirs', \"haven't\", 'doing', \"shouldn't\", 'won', 'am', 'down', 'a', \"should've\", 'few', 'her', 'm', 'in', \"you've\", 'be', 'only', 'doesn', 'had', 'there', 'most', 'on', \"don't\", 'who', \"you're\", 'don', 'after', 'of', 'ourselves', 'its', 'more', 'aren', 'to', 'any', 're', 'been', 'ma', 'has', 'but', \"mightn't\", 'wouldn', 'll', 'yourself', 'here', 'you', 'off', \"shan't\", 'both', 'until', 'these', 'themselves', 'over', 'my', \"it's\", 'below', \"hasn't\", 'shan', \"needn't\", 'is', 'needn', 'haven', 'shouldn', 'about', \"won't\", 'some', 'then', 'into', 'where', 'why', 'weren', 'them', 'own', 'each', \"that'll\", 'itself', 't', 'just', \"you'll\", 'his', \"wasn't\", 've', 'those', \"doesn't\", 'ain', 'can'}\n",
      "************************************\n",
      "tasti\n"
     ]
    }
   ],
   "source": [
    "import re\n",
    "# Tutorial about Python regular expressions: https://pymotw.com/2/re/\n",
    "import string\n",
    "from nltk.corpus import stopwords\n",
    "from nltk.stem import PorterStemmer\n",
    "from nltk.stem.wordnet import WordNetLemmatizer\n",
    "import nltk\n",
    "##nltk.download('stopwords')\n",
    "stop = set(stopwords.words('english')) #set of stopwords\n",
    "sno = nltk.stem.SnowballStemmer('english')\n",
    "\n",
    "def cleanhtml(sentence): #function to clean the word of any html-tags\n",
    "    cleanr = re.compile('<.*?>')   ### Replace any values in < > with '' \n",
    "    cleantext = re.sub(cleanr, ' ', sentence)  ## Sub means subsitute \n",
    "    return cleantext\n",
    "def cleanpunc(sentence): #function to clean the word of any punctuation or special characters\n",
    "    cleaned = re.sub(r'[?|!|\\'|\"|#]',r'',sentence)\n",
    "    cleaned = re.sub(r'[.|,|)|(|\\|/]',r' ',cleaned)\n",
    "    return  cleaned\n",
    "\n",
    "print(stop)\n",
    "print('************************************')\n",
    "print(sno.stem('tasty'))"
   ]
  },
  {
   "cell_type": "code",
   "execution_count": 18,
   "metadata": {
    "collapsed": false
   },
   "outputs": [
    {
     "name": "stdout",
     "output_type": "stream",
     "text": [
      "0\n",
      "I don't know if it's the cactus or the tequila or just the unique combination of ingredients, but the flavour of this hot sauce makes it one of a kind!  We picked up a bottle once on a trip we were on and brought it back home with us and were totally blown away!  When we realized that we simply couldn't find it anywhere in our city we were bummed.<br /><br />Now, because of the magic of the internet, we have a case of the sauce and are ecstatic because of it.<br /><br />If you love hot sauce..I mean really love hot sauce, but don't want a sauce that tastelessly burns your throat, grab a bottle of Tequila Picante Gourmet de Inclan.  Just realize that once you taste it, you will never want to use any other sauce.<br /><br />Thank you for the personal, incredible service!\n"
     ]
    }
   ],
   "source": [
    "# find sentences containing HTML tags\n",
    "import re\n",
    "i=0;\n",
    "for sent in final['Text'].values:\n",
    "    if (len(re.findall('<.*?>', sent))):\n",
    "        print(i)\n",
    "        print(sent)\n",
    "        break;\n",
    "    i += 1;"
   ]
  },
  {
   "cell_type": "code",
   "execution_count": 13,
   "metadata": {
    "collapsed": false
   },
   "outputs": [
    {
     "ename": "NameError",
     "evalue": "name 'final_string' is not defined",
     "output_type": "error",
     "traceback": [
      "\u001b[0;31m---------------------------------------------------------------------------\u001b[0m",
      "\u001b[0;31mNameError\u001b[0m                                 Traceback (most recent call last)",
      "\u001b[0;32m<ipython-input-13-319d26ee1917>\u001b[0m in \u001b[0;36m<module>\u001b[0;34m()\u001b[0m\n\u001b[0;32m----> 1\u001b[0;31m \u001b[0mfinal\u001b[0m\u001b[0;34m[\u001b[0m\u001b[0;34m'CleanedText'\u001b[0m\u001b[0;34m]\u001b[0m\u001b[0;34m=\u001b[0m\u001b[0mfinal_string\u001b[0m \u001b[0;31m#adding a column of CleanedText which displays the data after pre-processing of the review\u001b[0m\u001b[0;34m\u001b[0m\u001b[0m\n\u001b[0m",
      "\u001b[0;31mNameError\u001b[0m: name 'final_string' is not defined"
     ]
    }
   ],
   "source": [
    "final['CleanedText']=final_string #adding a column of CleanedText which displays the data after pre-processing of the review "
   ]
  },
  {
   "cell_type": "code",
   "execution_count": 20,
   "metadata": {
    "collapsed": false
   },
   "outputs": [],
   "source": [
    "#Code for implementing step-by-step the checks mentioned in the pre-processing phase\n",
    "# this code takes a while to run as it needs to run on 500k sentences.\n",
    "i=0\n",
    "str1=' '\n",
    "final_string=[]\n",
    "all_positive_words=[] # store words from +ve reviews here\n",
    "all_negative_words=[] # store words from -ve reviews here.\n",
    "s=''\n",
    "for sent in final['Text'].values:\n",
    "    filtered_sentence=[]\n",
    "    #print(sent);\n",
    "    sent=cleanhtml(sent) # remove HTMl tags\n",
    "    for w in sent.split():    ### split words based on white spaces\n",
    "        for cleaned_words in cleanpunc(w).split():\n",
    "            if((cleaned_words.isalpha()) & (len(cleaned_words)>2)):     ## If alpha numeric \n",
    "                if(cleaned_words.lower() not in stop):\n",
    "                    s=(sno.stem(cleaned_words.lower())).encode('utf8')\n",
    "                    filtered_sentence.append(s)\n",
    "                    if (final['Score'].values)[i] == 'positive': \n",
    "                        all_positive_words.append(s) #list of all words used to describe positive reviews\n",
    "                    if(final['Score'].values)[i] == 'negative':\n",
    "                        all_negative_words.append(s) #list of all words used to describe negative reviews reviews\n",
    "                else:\n",
    "                    continue\n",
    "            else:\n",
    "                continue \n",
    "    str1 = b\" \".join(filtered_sentence) #final string of cleaned words\n",
    "    #print(\"***********************************************************************\")\n",
    "    \n",
    "    final_string.append(str1)\n",
    "    i+=1"
   ]
  },
  {
   "cell_type": "code",
   "execution_count": null,
   "metadata": {
    "collapsed": false
   },
   "outputs": [],
   "source": [
    "#print (final_string)"
   ]
  },
  {
   "cell_type": "code",
   "execution_count": 21,
   "metadata": {
    "collapsed": true
   },
   "outputs": [],
   "source": [
    "final['CleanedText']=final_string #adding a column of CleanedText which displays the data after pre-processing of the review "
   ]
  },
  {
   "cell_type": "code",
   "execution_count": 23,
   "metadata": {
    "collapsed": false
   },
   "outputs": [],
   "source": [
    "final.head(3) #below the processed review can be seen in the CleanedText Column \n",
    "final.head(3) #below the processed review can be seen in the CleanedText Column \n",
    "\n",
    "\n",
    "# store final table into an SQlLite table for future.\n",
    "conn = sqlite3.connect('final.sqlite')\n",
    "c=conn.cursor()\n",
    "conn.text_factory = str\n",
    "final.to_sql('Reviews', conn, flavor=None, schema=None, if_exists='replace', index=True, index_label=None, chunksize=None, dtype=None)"
   ]
  },
  {
   "cell_type": "code",
   "execution_count": 24,
   "metadata": {
    "collapsed": true
   },
   "outputs": [],
   "source": [
    "#BoW\n",
    "count_vect = CountVectorizer() #in scikit-learn\n",
    "final_counts = count_vect.fit_transform(final['Text'].values)"
   ]
  },
  {
   "cell_type": "code",
   "execution_count": 25,
   "metadata": {
    "collapsed": false
   },
   "outputs": [
    {
     "data": {
      "text/plain": [
       "scipy.sparse.csr.csr_matrix"
      ]
     },
     "execution_count": 25,
     "metadata": {},
     "output_type": "execute_result"
    }
   ],
   "source": [
    "type(final_counts)"
   ]
  },
  {
   "cell_type": "code",
   "execution_count": 26,
   "metadata": {
    "collapsed": false
   },
   "outputs": [
    {
     "data": {
      "text/plain": [
       "(998, 6033)"
      ]
     },
     "execution_count": 26,
     "metadata": {},
     "output_type": "execute_result"
    }
   ],
   "source": [
    "final_counts.get_shape()"
   ]
  },
  {
   "cell_type": "code",
   "execution_count": 27,
   "metadata": {
    "collapsed": false
   },
   "outputs": [
    {
     "name": "stdout",
     "output_type": "stream",
     "text": [
      "Most Common Positive Words :  [(b'chip', 508)]\n",
      "Most Common Negative Words :  [(b'chip', 106), (b'tast', 97), (b'like', 91), (b'product', 68), (b'bag', 63), (b'one', 56), (b'food', 53), (b'flavor', 52), (b'kettl', 46), (b'use', 46), (b'tri', 43), (b'would', 43), (b'good', 41), (b'box', 40), (b'eat', 38), (b'brand', 36), (b'look', 35), (b'dont', 34), (b'buy', 34), (b'amazon', 33)]\n"
     ]
    }
   ],
   "source": [
    "freq_dist_positive=nltk.FreqDist(all_positive_words)\n",
    "freq_dist_negative=nltk.FreqDist(all_negative_words)\n",
    "print(\"Most Common Positive Words : \",freq_dist_positive.most_common(1))  ## List Most common words (in the example 20 words)\n",
    "print(\"Most Common Negative Words : \",freq_dist_negative.most_common(20))"
   ]
  },
  {
   "cell_type": "code",
   "execution_count": 28,
   "metadata": {
    "collapsed": true
   },
   "outputs": [],
   "source": [
    "count_vect = CountVectorizer(ngram_range=(1,2) ) #in scikit-learn (unigram and < bigram)\n",
    "final_bigram_counts = count_vect.fit_transform(final['Text'].values)"
   ]
  },
  {
   "cell_type": "code",
   "execution_count": 29,
   "metadata": {
    "collapsed": false
   },
   "outputs": [
    {
     "data": {
      "text/plain": [
       "(998, 43815)"
      ]
     },
     "execution_count": 29,
     "metadata": {},
     "output_type": "execute_result"
    }
   ],
   "source": [
    "final_bigram_counts.get_shape()"
   ]
  },
  {
   "cell_type": "code",
   "execution_count": 30,
   "metadata": {
    "collapsed": false
   },
   "outputs": [
    {
     "name": "stderr",
     "output_type": "stream",
     "text": [
      "/root/anaconda2/envs/py34/lib/python3.4/site-packages/sklearn/feature_extraction/text.py:1059: FutureWarning: Conversion of the second argument of issubdtype from `float` to `np.floating` is deprecated. In future, it will be treated as `np.float64 == np.dtype(float).type`.\n",
      "  if hasattr(X, 'dtype') and np.issubdtype(X.dtype, np.float):\n"
     ]
    }
   ],
   "source": [
    "tf_idf_vect = TfidfVectorizer(ngram_range=(1,2))\n",
    "final_tf_idf = tf_idf_vect.fit_transform(final['Text'].values)"
   ]
  },
  {
   "cell_type": "code",
   "execution_count": 32,
   "metadata": {
    "collapsed": false
   },
   "outputs": [
    {
     "data": {
      "text/plain": [
       "<998x43815 sparse matrix of type '<class 'numpy.float64'>'\n",
       "\twith 115655 stored elements in Compressed Sparse Row format>"
      ]
     },
     "execution_count": 32,
     "metadata": {},
     "output_type": "execute_result"
    }
   ],
   "source": [
    "final_tf_idf"
   ]
  },
  {
   "cell_type": "code",
   "execution_count": 31,
   "metadata": {
    "collapsed": false
   },
   "outputs": [
    {
     "data": {
      "text/plain": [
       "(998, 43815)"
      ]
     },
     "execution_count": 31,
     "metadata": {},
     "output_type": "execute_result"
    }
   ],
   "source": [
    "final_tf_idf.get_shape()"
   ]
  },
  {
   "cell_type": "code",
   "execution_count": 34,
   "metadata": {
    "collapsed": false
   },
   "outputs": [
    {
     "data": {
      "text/plain": [
       "43815"
      ]
     },
     "execution_count": 34,
     "metadata": {},
     "output_type": "execute_result"
    }
   ],
   "source": [
    "features = tf_idf_vect.get_feature_names()\n",
    "len(features)"
   ]
  },
  {
   "cell_type": "code",
   "execution_count": 40,
   "metadata": {
    "collapsed": false
   },
   "outputs": [
    {
     "data": {
      "text/plain": [
       "['after hunting',\n",
       " 'after lapse',\n",
       " 'after lifetime',\n",
       " 'after long',\n",
       " 'after longer',\n",
       " 'after looking',\n",
       " 'after lunch',\n",
       " 'after many',\n",
       " 'after melting',\n",
       " 'after months',\n",
       " 'after my',\n",
       " 'after noticed',\n",
       " 'after once',\n",
       " 'after opening',\n",
       " 'after reading',\n",
       " 'after school',\n",
       " 'after several',\n",
       " 'after short']"
      ]
     },
     "execution_count": 40,
     "metadata": {},
     "output_type": "execute_result"
    }
   ],
   "source": [
    "features[1001:1019]"
   ]
  },
  {
   "cell_type": "code",
   "execution_count": 47,
   "metadata": {
    "collapsed": false
   },
   "outputs": [
    {
     "name": "stdout",
     "output_type": "stream",
     "text": [
      "[0. 0. 0. ... 0. 0. 0.]\n"
     ]
    }
   ],
   "source": [
    "# covnert a row in saprsematrix to a numpy array\n",
    "print(final_tf_idf[3,:].toarray()[0])  ## Vector and numpy array "
   ]
  },
  {
   "cell_type": "code",
   "execution_count": 51,
   "metadata": {
    "collapsed": false
   },
   "outputs": [],
   "source": [
    "# source: https://buhrmann.github.io/tfidf-analysis.html\n",
    "def top_tfidf_feats(row, features, top_n=25):\n",
    "    ''' Get top n tfidf values in row and return them with their corresponding feature names.'''\n",
    "    topn_ids = np.argsort(row)[::-1][:top_n]\n",
    "    top_feats = [(features[i], row[i]) for i in topn_ids]\n",
    "    df = pd.DataFrame(top_feats)\n",
    "    df.columns = ['feature', 'tfidf']\n",
    "    return df\n",
    "\n",
    "top_tfidf = top_tfidf_feats(final_tf_idf[2,:].toarray()[0],features,5)  ## for review 2 vetorr 2 and convrting to numpy array and showing top 5 features"
   ]
  },
  {
   "cell_type": "code",
   "execution_count": 52,
   "metadata": {
    "collapsed": false
   },
   "outputs": [
    {
     "data": {
      "text/html": [
       "<div>\n",
       "<table border=\"1\" class=\"dataframe\">\n",
       "  <thead>\n",
       "    <tr style=\"text-align: right;\">\n",
       "      <th></th>\n",
       "      <th>feature</th>\n",
       "      <th>tfidf</th>\n",
       "    </tr>\n",
       "  </thead>\n",
       "  <tbody>\n",
       "    <tr>\n",
       "      <th>0</th>\n",
       "      <td>spots</td>\n",
       "      <td>0.298478</td>\n",
       "    </tr>\n",
       "    <tr>\n",
       "      <th>1</th>\n",
       "      <td>hot spots</td>\n",
       "      <td>0.298478</td>\n",
       "    </tr>\n",
       "    <tr>\n",
       "      <th>2</th>\n",
       "      <td>hot</td>\n",
       "      <td>0.181066</td>\n",
       "    </tr>\n",
       "    <tr>\n",
       "      <th>3</th>\n",
       "      <td>it tolerablel</td>\n",
       "      <td>0.165103</td>\n",
       "    </tr>\n",
       "    <tr>\n",
       "      <th>4</th>\n",
       "      <td>were full</td>\n",
       "      <td>0.165103</td>\n",
       "    </tr>\n",
       "  </tbody>\n",
       "</table>\n",
       "</div>"
      ],
      "text/plain": [
       "         feature     tfidf\n",
       "0          spots  0.298478\n",
       "1      hot spots  0.298478\n",
       "2            hot  0.181066\n",
       "3  it tolerablel  0.165103\n",
       "4      were full  0.165103"
      ]
     },
     "execution_count": 52,
     "metadata": {},
     "output_type": "execute_result"
    }
   ],
   "source": [
    "top_tfidf"
   ]
  },
  {
   "cell_type": "code",
   "execution_count": null,
   "metadata": {
    "collapsed": false
   },
   "outputs": [],
   "source": [
    "# Using Google News Word2Vectors\n",
    "from gensim.models import Word2Vec\n",
    "from gensim.models import KeyedVectors\n",
    "import pickle\n",
    "\n",
    "# in this project we are using a pretrained model by google\n",
    "# its 3.3G file, once you load this into your memory \n",
    "# it occupies ~9Gb, so please do this step only if you have >12G of ram\n",
    "# we will provide a pickle file wich contains a dict , \n",
    "# and it contains all our courpus words as keys and  model[word] as values\n",
    "# To use this code-snippet, download \"GoogleNews-vectors-negative300.bin\" \n",
    "# from https://drive.google.com/file/d/0B7XkCwpI5KDYNlNUTTlSS21pQmM/edit\n",
    "# it's 1.9GB in size.\n",
    "\n",
    "### Creates dense vector - Maximum similarity 1 and min zero\n",
    "\n",
    "#model = KeyedVectors.load_word2vec_format('GoogleNews-vectors-negative300.bin', binary=True)\n"
   ]
  }
 ],
 "metadata": {
  "kernelspec": {
   "display_name": "Python 3",
   "language": "python",
   "name": "python3"
  },
  "language_info": {
   "codemirror_mode": {
    "name": "ipython",
    "version": 3
   },
   "file_extension": ".py",
   "mimetype": "text/x-python",
   "name": "python",
   "nbconvert_exporter": "python",
   "pygments_lexer": "ipython3",
   "version": "3.4.5"
  }
 },
 "nbformat": 4,
 "nbformat_minor": 2
}
